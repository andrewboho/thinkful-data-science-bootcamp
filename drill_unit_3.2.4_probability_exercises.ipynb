DRILL - Exercises in Probability

1. Calculate the probability of flipping a balanced coin four times and getting each pattern: HTTH, HHHH and TTHH.

(1/2)^4 = (1/16)

2. If a list of people has 24 women and 21 men, then the probability of choosing a man from the list is 21/45. What is the probability of not choosing a man?

P(Man) = 21/45 -> P(Not Man) = 1 - P(Man) = 1 - 21/45 = 24/45 or 8/15

3. The probability that Bernice will travel by plane sometime in the next year is 10%. The probability of a plane crash at any time is .005%. What is the probability that Bernice will be in a plane crash sometime in the next year?

P(Travel by Plane) = 0.10
P(Plane Crash) = 0.00005
P(Travel by Plane and Plane Crash) = 0.10 * 0.00005 = 0.000005 or 0.0005%

4. A data scientist wants to study the behavior of users on the company website. Each time a user clicks on a link on the website, there is a 5% chance that the user will be asked to complete a short survey about their behavior on the website. The data scientist uses the survey data to conclude that, on average, users spend 15 minutes surfing the company website before moving on to other things. What is wrong with this conclusion?

My original answer was that the survey might suffer from selection bias (people who choose to participate in a survey may not be representative of the population). However, the answer given on the solution page ("People who surf longer are likely to click more links, increasing the odds of getting a survey") is much more compelling. I completely missed this.