{
 "cells": [
  {
   "cell_type": "markdown",
   "metadata": {},
   "source": [
    "# DRILL - Exploring the Central Limit Theorem"
   ]
  },
  {
   "cell_type": "code",
   "execution_count": 55,
   "metadata": {
    "collapsed": true
   },
   "outputs": [],
   "source": [
    "import numpy as np\n",
    "import pandas as pd\n",
    "import matplotlib.pyplot as plt\n",
    "from scipy.stats import ttest_ind\n",
    "\n",
    "%matplotlib inline"
   ]
  },
  {
   "cell_type": "code",
   "execution_count": 56,
   "metadata": {},
   "outputs": [
    {
     "data": {
      "image/png": "[encoded data removed]",
      "text/plain": [
       "<Figure size 432x288 with 1 Axes>"
      ]
     },
     "metadata": {},
     "output_type": "display_data"
    }
   ],
   "source": [
    "# Create the two binomial populations.\n",
    "# The true difference between the populations is 0.5 - 0.2 = 0.3\n",
    "pop1 = np.random.binomial(10, 0.2, 10000)\n",
    "pop2 = np.random.binomial(10, 0.5, 10000)\n",
    "\n",
    "# Plot histogram of the two population distributions\n",
    "plt.hist(pop1, alpha=0.5, label=\"pop1\")\n",
    "plt.hist(pop2, alpha=0.5, label=\"pop2\")\n",
    "plt.legend(loc=\"upper right\")\n",
    "plt.show()"
   ]
  },
  {
   "cell_type": "code",
   "execution_count": 57,
   "metadata": {},
   "outputs": [
    {
     "data": {
      "image/png": "[encoded data removed]",
      "text/plain": [
       "<Figure size 432x288 with 1 Axes>"
      ]
     },
     "metadata": {},
     "output_type": "display_data"
    }
   ],
   "source": [
    "# Take a sample (size = 100) from both populations\n",
    "sample1 = np.random.choice(pop1, 100, replace=True)\n",
    "sample2 = np.random.choice(pop2, 100, replace=True)\n",
    "\n",
    "# Plot histogram of the two sample distributions\n",
    "plt.hist(sample1, alpha=0.5, label=\"sample1\")\n",
    "plt.hist(sample2, alpha=0.5, label=\"sample2\")\n",
    "plt.legend(loc=\"upper right\")\n",
    "plt.show()"
   ]
  },
  {
   "cell_type": "code",
   "execution_count": 59,
   "metadata": {},
   "outputs": [
    {
     "name": "stdout",
     "output_type": "stream",
     "text": [
      "sample1 mean: 2.12\n",
      "sample1 std: 1.2592060990957756\n",
      "sample2 mean: 5.08\n",
      "sample2 std: 1.5406492138056604\n",
      "The difference between the two sample means is: 2.96\n"
     ]
    }
   ],
   "source": [
    "sample1_mean = np.mean(sample1)\n",
    "sample1_std = np.std(sample1)\n",
    "sample2_mean = np.mean(sample2)\n",
    "sample2_std = np.std(sample2)\n",
    "\n",
    "print(\"sample1 mean: {}\".format(sample1_mean))\n",
    "print(\"sample1 std: {}\".format(sample1_std))\n",
    "print(\"sample2 mean: {}\".format(sample2_mean))\n",
    "print(\"sample2 std: {}\".format(sample2_std))\n",
    "print(\"The difference between the two sample means is: {}\".format(sample2_mean - sample1_mean))"
   ]
  },
  {
   "cell_type": "code",
   "execution_count": 60,
   "metadata": {},
   "outputs": [
    {
     "name": "stdout",
     "output_type": "stream",
     "text": [
      "Ttest_indResult(statistic=14.801495176040588, pvalue=1.705713130871854e-33)\n"
     ]
    }
   ],
   "source": [
    "# Calculate t-value\n",
    "print(ttest_ind(sample2, sample1, equal_var=False))"
   ]
  },
  {
   "cell_type": "markdown",
   "metadata": {},
   "source": [
    "### Increase Sample Size to 1000"
   ]
  },
  {
   "cell_type": "code",
   "execution_count": 61,
   "metadata": {},
   "outputs": [
    {
     "data": {
      "image/png": "[encoded data removed]",
      "text/plain": [
       "<Figure size 432x288 with 1 Axes>"
      ]
     },
     "metadata": {},
     "output_type": "display_data"
    }
   ],
   "source": [
    "# Take a sample (size = 1000) from both populations\n",
    "sample1 = np.random.choice(pop1, 1000, replace=True)\n",
    "sample2 = np.random.choice(pop2, 1000, replace=True)\n",
    "\n",
    "# Plot histogram of the two sample distributions\n",
    "plt.hist(sample1, alpha=0.5, label=\"sample1\")\n",
    "plt.hist(sample2, alpha=0.5, label=\"sample2\")\n",
    "plt.legend(loc=\"upper right\")\n",
    "plt.show()"
   ]
  },
  {
   "cell_type": "code",
   "execution_count": 62,
   "metadata": {},
   "outputs": [
    {
     "name": "stdout",
     "output_type": "stream",
     "text": [
      "sample1 mean: 1.979\n",
      "sample1 std: 1.2556110066417865\n",
      "sample2 mean: 4.929\n",
      "sample2 std: 1.5999871874486995\n",
      "The difference between the two sample means is: 2.95\n"
     ]
    }
   ],
   "source": [
    "sample1_mean = np.mean(sample1)\n",
    "sample1_std = np.std(sample1)\n",
    "sample2_mean = np.mean(sample2)\n",
    "sample2_std = np.std(sample2)\n",
    "\n",
    "print(\"sample1 mean: {}\".format(sample1_mean))\n",
    "print(\"sample1 std: {}\".format(sample1_std))\n",
    "print(\"sample2 mean: {}\".format(sample2_mean))\n",
    "print(\"sample2 std: {}\".format(sample2_std))\n",
    "print(\"The difference between the two sample means is: {}\".format(sample2_mean - sample1_mean))"
   ]
  },
  {
   "cell_type": "code",
   "execution_count": 63,
   "metadata": {},
   "outputs": [
    {
     "name": "stdout",
     "output_type": "stream",
     "text": [
      "Ttest_indResult(statistic=45.84450637131353, pvalue=3.230914066480544e-309)\n"
     ]
    }
   ],
   "source": [
    "# Calculate t-value\n",
    "print(ttest_ind(sample2, sample1, equal_var=False))"
   ]
  },
  {
   "cell_type": "markdown",
   "metadata": {},
   "source": [
    "### Decrease Sample Size to 20"
   ]
  },
  {
   "cell_type": "code",
   "execution_count": 64,
   "metadata": {},
   "outputs": [
    {
     "data": {
      "image/png": "[encoded data removed]",
      "text/plain": [
       "<Figure size 432x288 with 1 Axes>"
      ]
     },
     "metadata": {},
     "output_type": "display_data"
    }
   ],
   "source": [
    "# Take a sample (size = 20) from both populations\n",
    "sample1 = np.random.choice(pop1, 20, replace=True)\n",
    "sample2 = np.random.choice(pop2, 20, replace=True)\n",
    "\n",
    "# Plot histogram of the two sample distributions\n",
    "plt.hist(sample1, alpha=0.5, label=\"sample1\")\n",
    "plt.hist(sample2, alpha=0.5, label=\"sample2\")\n",
    "plt.legend(loc=\"upper right\")\n",
    "plt.show()"
   ]
  },
  {
   "cell_type": "code",
   "execution_count": 65,
   "metadata": {},
   "outputs": [
    {
     "name": "stdout",
     "output_type": "stream",
     "text": [
      "sample1 mean: 2.0\n",
      "sample1 std: 1.224744871391589\n",
      "sample2 mean: 4.75\n",
      "sample2 std: 1.9461500456028564\n",
      "The difference between the two sample means is: 2.75\n"
     ]
    }
   ],
   "source": [
    "sample1_mean = np.mean(sample1)\n",
    "sample1_std = np.std(sample1)\n",
    "sample2_mean = np.mean(sample2)\n",
    "sample2_std = np.std(sample2)\n",
    "\n",
    "print(\"sample1 mean: {}\".format(sample1_mean))\n",
    "print(\"sample1 std: {}\".format(sample1_std))\n",
    "print(\"sample2 mean: {}\".format(sample2_mean))\n",
    "print(\"sample2 std: {}\".format(sample2_std))\n",
    "print(\"The difference between the two sample means is: {}\".format(sample2_mean - sample1_mean))"
   ]
  },
  {
   "cell_type": "code",
   "execution_count": 66,
   "metadata": {
    "scrolled": true
   },
   "outputs": [
    {
     "name": "stdout",
     "output_type": "stream",
     "text": [
      "Ttest_indResult(statistic=5.212958938870049, pvalue=1.0686592478193294e-05)\n"
     ]
    }
   ],
   "source": [
    "# Calculate t-value\n",
    "print(ttest_ind(sample2, sample1, equal_var=False))"
   ]
  },
  {
   "cell_type": "markdown",
   "metadata": {},
   "source": [
    "The means, as expected, vary around the true population means, but don't change that much. The standard deviations vary more. The difference between the two means barely changes at all when we move from a sample size of 100 to 1000, (2.96 and 2.95 compared to a true difference of 3) but significantly decreases when we drop down to a sample size of 20 (2.75). The t-value goes up and down with sample size."
   ]
  },
  {
   "cell_type": "markdown",
   "metadata": {},
   "source": [
    "### Decrease Sample Size to 5 (for fun)"
   ]
  },
  {
   "cell_type": "code",
   "execution_count": 67,
   "metadata": {},
   "outputs": [
    {
     "data": {
      "image/png": "[encoded data removed]",
      "text/plain": [
       "<Figure size 432x288 with 1 Axes>"
      ]
     },
     "metadata": {},
     "output_type": "display_data"
    }
   ],
   "source": [
    "# Take a sample (size = 5) from both populations\n",
    "sample1 = np.random.choice(pop1, 5, replace=True)\n",
    "sample2 = np.random.choice(pop2, 5, replace=True)\n",
    "\n",
    "# Plot histogram of the two sample distributions\n",
    "plt.hist(sample1, alpha=0.5, label=\"sample1\")\n",
    "plt.hist(sample2, alpha=0.5, label=\"sample2\")\n",
    "plt.legend(loc=\"upper right\")\n",
    "plt.show()"
   ]
  },
  {
   "cell_type": "code",
   "execution_count": 68,
   "metadata": {},
   "outputs": [
    {
     "name": "stdout",
     "output_type": "stream",
     "text": [
      "sample1 mean: 2.0\n",
      "sample1 std: 1.2649110640673518\n",
      "sample2 mean: 4.6\n",
      "sample2 std: 1.624807680927192\n",
      "The difference between the two sample means is: 2.5999999999999996\n"
     ]
    }
   ],
   "source": [
    "sample1_mean = np.mean(sample1)\n",
    "sample1_std = np.std(sample1)\n",
    "sample2_mean = np.mean(sample2)\n",
    "sample2_std = np.std(sample2)\n",
    "\n",
    "print(\"sample1 mean: {}\".format(sample1_mean))\n",
    "print(\"sample1 std: {}\".format(sample1_std))\n",
    "print(\"sample2 mean: {}\".format(sample2_mean))\n",
    "print(\"sample2 std: {}\".format(sample2_std))\n",
    "print(\"The difference between the two sample means is: {}\".format(sample2_mean - sample1_mean))"
   ]
  },
  {
   "cell_type": "code",
   "execution_count": 69,
   "metadata": {},
   "outputs": [
    {
     "name": "stdout",
     "output_type": "stream",
     "text": [
      "Ttest_indResult(statistic=2.5253432421288866, pvalue=0.0371797248625961)\n"
     ]
    }
   ],
   "source": [
    "# Calculate t-value\n",
    "print(ttest_ind(sample2, sample1, equal_var=False))"
   ]
  },
  {
   "cell_type": "markdown",
   "metadata": {},
   "source": [
    "### Change Probability Value of pop1 to 0.3\n",
    "The true difference between the populations is now 0.5 - 0.3 = 0.2"
   ]
  },
  {
   "cell_type": "code",
   "execution_count": 70,
   "metadata": {},
   "outputs": [
    {
     "data": {
      "image/png": "[encoded data removed]",
      "text/plain": [
       "<Figure size 432x288 with 1 Axes>"
      ]
     },
     "metadata": {},
     "output_type": "display_data"
    }
   ],
   "source": [
    "pop1 = np.random.binomial(10, 0.3, 10000)\n",
    "\n",
    "plt.hist(pop1, alpha=0.5, label=\"pop1\")\n",
    "plt.hist(pop2, alpha=0.5, label=\"pop2\")\n",
    "plt.legend(loc=\"upper right\")\n",
    "plt.show()"
   ]
  },
  {
   "cell_type": "code",
   "execution_count": 71,
   "metadata": {
    "scrolled": true
   },
   "outputs": [
    {
     "data": {
      "image/png": "[encoded data removed]",
      "text/plain": [
       "<Figure size 432x288 with 1 Axes>"
      ]
     },
     "metadata": {},
     "output_type": "display_data"
    }
   ],
   "source": [
    "# Take a sample (size = 100) from both populations\n",
    "sample1 = np.random.choice(pop1, 100, replace=True)\n",
    "sample2 = np.random.choice(pop2, 100, replace=True)\n",
    "\n",
    "# Plot histogram of the two sample distributions\n",
    "plt.hist(sample1, alpha=0.5, label=\"sample1\")\n",
    "plt.hist(sample2, alpha=0.5, label=\"sample2\")\n",
    "plt.legend(loc=\"upper right\")\n",
    "plt.show()"
   ]
  },
  {
   "cell_type": "code",
   "execution_count": 72,
   "metadata": {},
   "outputs": [
    {
     "name": "stdout",
     "output_type": "stream",
     "text": [
      "sample1 mean: 3.03\n",
      "sample1 std: 1.5585570249432645\n",
      "sample2 mean: 4.8\n",
      "sample2 std: 1.5874507866387544\n",
      "The difference between the two sample means is: 1.77\n"
     ]
    }
   ],
   "source": [
    "sample1_mean = np.mean(sample1)\n",
    "sample1_std = np.std(sample1)\n",
    "sample2_mean = np.mean(sample2)\n",
    "sample2_std = np.std(sample2)\n",
    "\n",
    "print(\"sample1 mean: {}\".format(sample1_mean))\n",
    "print(\"sample1 std: {}\".format(sample1_std))\n",
    "print(\"sample2 mean: {}\".format(sample2_mean))\n",
    "print(\"sample2 std: {}\".format(sample2_std))\n",
    "print(\"The difference between the two sample means is: {}\".format(sample2_mean - sample1_mean))"
   ]
  },
  {
   "cell_type": "code",
   "execution_count": 73,
   "metadata": {
    "scrolled": true
   },
   "outputs": [
    {
     "name": "stdout",
     "output_type": "stream",
     "text": [
      "Ttest_indResult(statistic=7.916400345823338, pvalue=1.7116833582549164e-13)\n"
     ]
    }
   ],
   "source": [
    "# Calculate t-value\n",
    "print(ttest_ind(sample2, sample1, equal_var=False))"
   ]
  },
  {
   "cell_type": "markdown",
   "metadata": {},
   "source": [
    "### Change Probability Value of pop1 to 0.4\n",
    "The true difference between the populations is now 0.5 - 0.4 = 0.1"
   ]
  },
  {
   "cell_type": "code",
   "execution_count": 74,
   "metadata": {},
   "outputs": [
    {
     "data": {
      "image/png": "[encoded data removed]",
      "text/plain": [
       "<Figure size 432x288 with 1 Axes>"
      ]
     },
     "metadata": {},
     "output_type": "display_data"
    }
   ],
   "source": [
    "pop1 = np.random.binomial(10, 0.4, 10000)\n",
    "\n",
    "plt.hist(pop1, alpha=0.5, label=\"pop1\")\n",
    "plt.hist(pop2, alpha=0.5, label=\"pop2\")\n",
    "plt.legend(loc=\"upper right\")\n",
    "plt.show()"
   ]
  },
  {
   "cell_type": "code",
   "execution_count": 75,
   "metadata": {},
   "outputs": [
    {
     "data": {
      "image/png": "[encoded data removed]",
      "text/plain": [
       "<Figure size 432x288 with 1 Axes>"
      ]
     },
     "metadata": {},
     "output_type": "display_data"
    }
   ],
   "source": [
    "# Take a sample (size = 100) from both populations\n",
    "sample1 = np.random.choice(pop1, 100, replace=True)\n",
    "sample2 = np.random.choice(pop2, 100, replace=True)\n",
    "\n",
    "# Plot histogram of the two sample distributions\n",
    "plt.hist(sample1, alpha=0.5, label=\"sample1\")\n",
    "plt.hist(sample2, alpha=0.5, label=\"sample2\")\n",
    "plt.legend(loc=\"upper right\")\n",
    "plt.show()"
   ]
  },
  {
   "cell_type": "code",
   "execution_count": 76,
   "metadata": {},
   "outputs": [
    {
     "name": "stdout",
     "output_type": "stream",
     "text": [
      "sample1 mean: 3.81\n",
      "sample1 std: 1.5664928981645592\n",
      "sample2 mean: 5.22\n",
      "sample2 std: 1.4804053498957643\n",
      "The difference between the two sample means is: 1.4099999999999997\n"
     ]
    }
   ],
   "source": [
    "sample1_mean = np.mean(sample1)\n",
    "sample1_std = np.std(sample1)\n",
    "sample2_mean = np.mean(sample2)\n",
    "sample2_std = np.std(sample2)\n",
    "\n",
    "print(\"sample1 mean: {}\".format(sample1_mean))\n",
    "print(\"sample1 std: {}\".format(sample1_std))\n",
    "print(\"sample2 mean: {}\".format(sample2_mean))\n",
    "print(\"sample2 std: {}\".format(sample2_std))\n",
    "print(\"The difference between the two sample means is: {}\".format(sample2_mean - sample1_mean))"
   ]
  },
  {
   "cell_type": "code",
   "execution_count": 77,
   "metadata": {
    "scrolled": true
   },
   "outputs": [
    {
     "name": "stdout",
     "output_type": "stream",
     "text": [
      "Ttest_indResult(statistic=6.5090930163412635, pvalue=6.10813883478401e-10)\n"
     ]
    }
   ],
   "source": [
    "# Calculate t-value\n",
    "print(ttest_ind(sample2, sample1, equal_var=False))"
   ]
  },
  {
   "cell_type": "markdown",
   "metadata": {},
   "source": [
    "The means change to align with the corresponding probability values used in the new populations. And the difference between the sample means change to align with the true population mean difference. "
   ]
  },
  {
   "cell_type": "markdown",
   "metadata": {},
   "source": [
    "### Poisson Distribution"
   ]
  },
  {
   "cell_type": "code",
   "execution_count": 78,
   "metadata": {},
   "outputs": [
    {
     "data": {
      "image/png": "[encoded data removed]",
      "text/plain": [
       "<Figure size 432x288 with 1 Axes>"
      ]
     },
     "metadata": {},
     "output_type": "display_data"
    }
   ],
   "source": [
    "pop1 = np.random.poisson(2, 10000)\n",
    "pop2 = np.random.poisson(5, 10000)\n",
    "\n",
    "# Plot histogram of the two population distributions\n",
    "plt.hist(pop1, alpha=0.5, label=\"pop1\")\n",
    "plt.hist(pop2, alpha=0.5, label=\"pop2\")\n",
    "plt.legend(loc=\"upper right\")\n",
    "plt.show()"
   ]
  },
  {
   "cell_type": "code",
   "execution_count": 79,
   "metadata": {},
   "outputs": [
    {
     "data": {
      "image/png": "[encoded data removed]",
      "text/plain": [
       "<Figure size 432x288 with 1 Axes>"
      ]
     },
     "metadata": {},
     "output_type": "display_data"
    }
   ],
   "source": [
    "# Take a sample (size = 100) from both populations\n",
    "sample1 = np.random.choice(pop1, 100, replace=True)\n",
    "sample2 = np.random.choice(pop2, 100, replace=True)\n",
    "\n",
    "# Plot histogram of the two sample distributions\n",
    "plt.hist(sample1, alpha=0.5, label=\"sample1\")\n",
    "plt.hist(sample2, alpha=0.5, label=\"sample2\")\n",
    "plt.legend(loc=\"upper right\")\n",
    "plt.show()"
   ]
  },
  {
   "cell_type": "code",
   "execution_count": 80,
   "metadata": {},
   "outputs": [
    {
     "name": "stdout",
     "output_type": "stream",
     "text": [
      "sample1 mean: 2.1\n",
      "sample1 std: 1.466287829861518\n",
      "sample2 mean: 5.26\n",
      "sample2 std: 2.1289433999052205\n",
      "The difference between the two sample means is: 3.1599999999999997\n"
     ]
    }
   ],
   "source": [
    "sample1_mean = np.mean(sample1)\n",
    "sample1_std = np.std(sample1)\n",
    "sample2_mean = np.mean(sample2)\n",
    "sample2_std = np.std(sample2)\n",
    "\n",
    "print(\"sample1 mean: {}\".format(sample1_mean))\n",
    "print(\"sample1 std: {}\".format(sample1_std))\n",
    "print(\"sample2 mean: {}\".format(sample2_mean))\n",
    "print(\"sample2 std: {}\".format(sample2_std))\n",
    "print(\"The difference between the two sample means is: {}\".format(sample2_mean - sample1_mean))"
   ]
  },
  {
   "cell_type": "code",
   "execution_count": 81,
   "metadata": {},
   "outputs": [
    {
     "name": "stdout",
     "output_type": "stream",
     "text": [
      "Ttest_indResult(statistic=12.162936677154681, pvalue=4.381609675071768e-25)\n"
     ]
    }
   ],
   "source": [
    "# Calculate t-value\n",
    "print(ttest_ind(sample2, sample1, equal_var=False))"
   ]
  },
  {
   "cell_type": "markdown",
   "metadata": {},
   "source": [
    "The sample means still accurately reflect the population values."
   ]
  },
  {
   "cell_type": "code",
   "execution_count": null,
   "metadata": {
    "collapsed": true
   },
   "outputs": [],
   "source": []
  }
 ],
 "metadata": {
  "kernelspec": {
   "display_name": "Python 3",
   "language": "python",
   "name": "python3"
  },
  "language_info": {
   "codemirror_mode": {
    "name": "ipython",
    "version": 3
   },
   "file_extension": ".py",
   "mimetype": "text/x-python",
   "name": "python",
   "nbconvert_exporter": "python",
   "pygments_lexer": "ipython3",
   "version": "3.6.3"
  }
 },
 "nbformat": 4,
 "nbformat_minor": 2
}
