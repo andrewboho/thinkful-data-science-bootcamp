{
 "cells": [
  {
   "cell_type": "markdown",
   "metadata": {},
   "source": [
    "# DRILL - Descriptive Statistics and Normality"
   ]
  },
  {
   "cell_type": "code",
   "execution_count": 1,
   "metadata": {
    "collapsed": true
   },
   "outputs": [],
   "source": [
    "import numpy as np\n",
    "import pandas as pd\n",
    "import matplotlib.pyplot as plt\n",
    "%matplotlib inline"
   ]
  },
  {
   "cell_type": "code",
   "execution_count": 2,
   "metadata": {
    "collapsed": true
   },
   "outputs": [],
   "source": [
    "def plot_histo_break(data, mean, std):\n",
    "    plt.hist(data, color=\"#519b34\")\n",
    "    plt.axvline(mean, color=\"b\", linestyle=\"solid\", linewidth=2)\n",
    "    plt.axvline((mean - std), color=\"b\", linestyle=\"dashed\", linewidth=2)\n",
    "    plt.axvline((mean + std), color=\"b\", linestyle=\"dashed\", linewidth=2)\n",
    "    plt.show()"
   ]
  },
  {
   "cell_type": "markdown",
   "metadata": {},
   "source": [
    "## Geometric"
   ]
  },
  {
   "cell_type": "code",
   "execution_count": 3,
   "metadata": {
    "scrolled": true
   },
   "outputs": [
    {
     "data": {
      "image/png": "[encoded data removed]",
      "text/plain": [
       "<Figure size 432x288 with 1 Axes>"
      ]
     },
     "metadata": {},
     "output_type": "display_data"
    }
   ],
   "source": [
    "geometric  = np.random.geometric(0.5, 100)\n",
    "\n",
    "mean_geometric = np.mean(geometric)\n",
    "std_geometric = np.std(geometric)\n",
    "\n",
    "plot_histo_break(geometric, mean_geometric, std_geometric)"
   ]
  },
  {
   "cell_type": "markdown",
   "metadata": {},
   "source": [
    "The mean and standard deviation do not appear to provide useful information regarding the central tendency and variance."
   ]
  },
  {
   "cell_type": "markdown",
   "metadata": {},
   "source": [
    "## Laplace"
   ]
  },
  {
   "cell_type": "code",
   "execution_count": 4,
   "metadata": {},
   "outputs": [
    {
     "data": {
      "image/png": "[encoded data removed]",
      "text/plain": [
       "<Figure size 432x288 with 1 Axes>"
      ]
     },
     "metadata": {},
     "output_type": "display_data"
    }
   ],
   "source": [
    "laplace = np.random.laplace(0, 1, 100)\n",
    "\n",
    "mean_laplace = np.mean(laplace)\n",
    "std_laplace = np.std(laplace)\n",
    "\n",
    "plot_histo_break(laplace, mean_laplace, std_laplace)"
   ]
  },
  {
   "cell_type": "markdown",
   "metadata": {},
   "source": [
    "This looks closer to a normal distribution, although there is a heavy left skew. The mean and standard deviation may provide some use as a measure of central tendency and variance."
   ]
  },
  {
   "cell_type": "markdown",
   "metadata": {},
   "source": [
    "## Pareto"
   ]
  },
  {
   "cell_type": "code",
   "execution_count": 5,
   "metadata": {
    "scrolled": true
   },
   "outputs": [
    {
     "data": {
      "image/png": "[encoded data removed]",
      "text/plain": [
       "<Figure size 432x288 with 1 Axes>"
      ]
     },
     "metadata": {},
     "output_type": "display_data"
    }
   ],
   "source": [
    "pareto = np.random.pareto(1, 100)\n",
    "\n",
    "mean_pareto = np.mean(pareto)\n",
    "std_pareto = np.std(pareto)\n",
    "\n",
    "plot_histo_break(pareto, mean_pareto, std_pareto)"
   ]
  },
  {
   "cell_type": "markdown",
   "metadata": {},
   "source": [
    "The mean and standard deviation do not appear to provide useful information regarding the central tendency and variance."
   ]
  },
  {
   "cell_type": "markdown",
   "metadata": {},
   "source": [
    "## Logistic"
   ]
  },
  {
   "cell_type": "code",
   "execution_count": 52,
   "metadata": {
    "scrolled": true
   },
   "outputs": [
    {
     "data": {
      "image/png": "[encoded data removed]",
      "text/plain": [
       "<Figure size 432x288 with 1 Axes>"
      ]
     },
     "metadata": {},
     "output_type": "display_data"
    }
   ],
   "source": [
    "logistic = np.random.logistic(0, 1, 100)\n",
    "\n",
    "mean_logistic = np.mean(logistic)\n",
    "std_logistic = np.std(logistic)\n",
    "\n",
    "plot_histo_break(logistic, mean_logistic, std_logistic)"
   ]
  },
  {
   "cell_type": "markdown",
   "metadata": {},
   "source": [
    "This looks approximately close to a normal distribution, but again there is a left skew. The mean and standard deviation may provide some use as a measure of central tendency and variance."
   ]
  },
  {
   "cell_type": "markdown",
   "metadata": {},
   "source": [
    "## Logseries"
   ]
  },
  {
   "cell_type": "code",
   "execution_count": 7,
   "metadata": {
    "scrolled": true
   },
   "outputs": [
    {
     "data": {
      "image/png": "[encoded data removed]",
      "text/plain": [
       "<Figure size 432x288 with 1 Axes>"
      ]
     },
     "metadata": {},
     "output_type": "display_data"
    }
   ],
   "source": [
    "logseries = np.random.logseries(0.5, 100)\n",
    "\n",
    "mean_logseries = np.mean(logseries)\n",
    "std_logseries = np.std(logseries)\n",
    "\n",
    "plot_histo_break(logseries, mean_logseries, std_logseries)"
   ]
  },
  {
   "cell_type": "markdown",
   "metadata": {},
   "source": [
    "The mean and standard deviation do not appear to provide useful information regarding the central tendency and variance."
   ]
  },
  {
   "cell_type": "markdown",
   "metadata": {},
   "source": [
    "## Rayleigh"
   ]
  },
  {
   "cell_type": "code",
   "execution_count": 8,
   "metadata": {
    "scrolled": true
   },
   "outputs": [
    {
     "data": {
      "image/png": "[encoded data removed]",
      "text/plain": [
       "<Figure size 432x288 with 1 Axes>"
      ]
     },
     "metadata": {},
     "output_type": "display_data"
    }
   ],
   "source": [
    "rayleigh = np.random.rayleigh(1, 100)\n",
    "\n",
    "mean_rayleigh = np.mean(rayleigh)\n",
    "std_rayleigh = np.std(rayleigh)\n",
    "\n",
    "plot_histo_break(rayleigh, mean_rayleigh, std_rayleigh)"
   ]
  },
  {
   "cell_type": "markdown",
   "metadata": {},
   "source": [
    "This possibly could be approximated by a normal distribution, but with a right skew. The mean and standard deviation may provide some use as a measure of central tendency and variance."
   ]
  },
  {
   "cell_type": "markdown",
   "metadata": {},
   "source": [
    "## Normal"
   ]
  },
  {
   "cell_type": "code",
   "execution_count": 39,
   "metadata": {},
   "outputs": [],
   "source": [
    "normal_1 = np.random.normal(5, 0.5, 100)\n",
    "normal_2 = np.random.normal(10, 1, 100)\n",
    "new_dist = normal_1 + normal_2"
   ]
  },
  {
   "cell_type": "code",
   "execution_count": 40,
   "metadata": {
    "scrolled": true
   },
   "outputs": [
    {
     "data": {
      "image/png": "[encoded data removed]",
      "text/plain": [
       "<Figure size 432x288 with 1 Axes>"
      ]
     },
     "metadata": {},
     "output_type": "display_data"
    }
   ],
   "source": [
    "plot_histo_break(normal_1, np.mean(normal_1), np.std(normal_1))"
   ]
  },
  {
   "cell_type": "code",
   "execution_count": 41,
   "metadata": {
    "scrolled": true
   },
   "outputs": [
    {
     "data": {
      "image/png": "[encoded data removed]",
      "text/plain": [
       "<Figure size 432x288 with 1 Axes>"
      ]
     },
     "metadata": {},
     "output_type": "display_data"
    }
   ],
   "source": [
    "plot_histo_break(normal_2, np.mean(normal_2), np.std(normal_2))"
   ]
  },
  {
   "cell_type": "code",
   "execution_count": 42,
   "metadata": {
    "scrolled": true
   },
   "outputs": [
    {
     "data": {
      "image/png": "[encoded data removed]",
      "text/plain": [
       "<Figure size 432x288 with 1 Axes>"
      ]
     },
     "metadata": {},
     "output_type": "display_data"
    }
   ],
   "source": [
    "plot_histo_break(new_dist, np.mean(new_dist), np.std(new_dist))"
   ]
  },
  {
   "cell_type": "code",
   "execution_count": 43,
   "metadata": {},
   "outputs": [
    {
     "name": "stdout",
     "output_type": "stream",
     "text": [
      "The mean of the combined distribution is: 15.028215847236673\n",
      "The std of the combined distribution is: 1.063197751297911\n"
     ]
    }
   ],
   "source": [
    "print(\"The mean of the combined distribution is: {}\".format(np.mean(new_dist)))\n",
    "print(\"The std of the combined distribution is: {}\".format(np.std(new_dist)))"
   ]
  },
  {
   "cell_type": "markdown",
   "metadata": {},
   "source": [
    "The combined normally distributed data resulted in what looks to me to be just more normally distributed data. That being said, the answer page says there should be \"some skew.\" I can kind of see that, but I don't know that it's super obvious from the histogram. "
   ]
  },
  {
   "cell_type": "code",
   "execution_count": null,
   "metadata": {
    "collapsed": true
   },
   "outputs": [],
   "source": []
  }
 ],
 "metadata": {
  "kernelspec": {
   "display_name": "Python 3",
   "language": "python",
   "name": "python3"
  },
  "language_info": {
   "codemirror_mode": {
    "name": "ipython",
    "version": 3
   },
   "file_extension": ".py",
   "mimetype": "text/x-python",
   "name": "python",
   "nbconvert_exporter": "python",
   "pygments_lexer": "ipython3",
   "version": "3.6.3"
  }
 },
 "nbformat": 4,
 "nbformat_minor": 2
}
