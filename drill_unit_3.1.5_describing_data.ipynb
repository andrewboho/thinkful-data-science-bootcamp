{
 "cells": [
  {
   "cell_type": "code",
   "execution_count": 1,
   "metadata": {
    "collapsed": true
   },
   "outputs": [],
   "source": [
    "import numpy as np"
   ]
  },
  {
   "cell_type": "code",
   "execution_count": 5,
   "metadata": {},
   "outputs": [
    {
     "name": "stdout",
     "output_type": "stream",
     "text": [
      "Mean: 9.857142857142858\n",
      "Median: 10.0\n",
      "Mode: 8\n",
      "Variance: 6.408163265306122\n",
      "Standard Deviation: 2.531435020952764\n",
      "Standard Error: 0.9567925036515135\n"
     ]
    }
   ],
   "source": [
    "# Question 1\n",
    "ages = [14, 12, 11, 10, 8, 8, 6]\n",
    "\n",
    "print(\"Mean: {}\".format(np.mean(ages)))\n",
    "print(\"Median: {}\".format(np.median(ages)))\n",
    "print(\"Mode: {}\".format(8))\n",
    "print(\"Variance: {}\".format(np.var(ages))) # Use default ddof as ages is the whole population\n",
    "print(\"Standard Deviation: {}\".format(np.std(ages))) # Use default ddof as ages is the whole population\n",
    "print(\"Standard Error: {}\".format(np.std(ages) / np.sqrt(len(ages))))"
   ]
  },
  {
   "cell_type": "code",
   "execution_count": 6,
   "metadata": {
    "collapsed": true
   },
   "outputs": [],
   "source": [
    "# Question 2\n",
    "# I would pick mean and standard deviation since age is a continuous\n",
    "# and there are no outliers."
   ]
  },
  {
   "cell_type": "code",
   "execution_count": 7,
   "metadata": {},
   "outputs": [
    {
     "name": "stdout",
     "output_type": "stream",
     "text": [
      "Mean: 10.0\n",
      "Median: 10.0\n",
      "Mode: 8\n",
      "Variance: 5.428571428571429\n",
      "Standard Deviation: 2.32992949004287\n",
      "Standard Error: 0.8806305718527109\n"
     ]
    }
   ],
   "source": [
    "# Question 3\n",
    "ages = [14, 12, 11, 10, 8, 8, 7]\n",
    "\n",
    "print(\"Mean: {}\".format(np.mean(ages)))\n",
    "print(\"Median: {}\".format(np.median(ages)))\n",
    "print(\"Mode: {}\".format(8))\n",
    "print(\"Variance: {}\".format(np.var(ages))) # Use default ddof as ages is the whole population\n",
    "print(\"Standard Deviation: {}\".format(np.std(ages))) # Use default ddof as ages is the whole population\n",
    "print(\"Standard Error: {}\".format(np.std(ages) / np.sqrt(len(ages))))"
   ]
  },
  {
   "cell_type": "code",
   "execution_count": null,
   "metadata": {
    "collapsed": true
   },
   "outputs": [],
   "source": [
    "# Mean increased, median and mode stayed the same.\n",
    "# Var, Std., and SE all decreased."
   ]
  },
  {
   "cell_type": "code",
   "execution_count": 9,
   "metadata": {},
   "outputs": [
    {
     "name": "stdout",
     "output_type": "stream",
     "text": [
      "Mean: 9.0\n",
      "Median: 10.0\n",
      "Mode: NA\n",
      "Variance: 15.428571428571429\n",
      "Standard Deviation: 3.927922024247863\n",
      "Standard Error: 1.4846149779161806\n"
     ]
    }
   ],
   "source": [
    "# Question 4\n",
    "ages = [14, 12, 11, 10, 8, 1, 7]\n",
    "\n",
    "print(\"Mean: {}\".format(np.mean(ages)))\n",
    "print(\"Median: {}\".format(np.median(ages)))\n",
    "print(\"Mode: {}\".format(\"NA\"))\n",
    "print(\"Variance: {}\".format(np.var(ages))) # Use default ddof as ages is the whole population\n",
    "print(\"Standard Deviation: {}\".format(np.std(ages))) # Use default ddof as ages is the whole population\n",
    "print(\"Standard Error: {}\".format(np.std(ages) / np.sqrt(len(ages))))"
   ]
  },
  {
   "cell_type": "code",
   "execution_count": 10,
   "metadata": {
    "collapsed": true
   },
   "outputs": [],
   "source": [
    "# Now that there is an outlier, median might be a better choice of central tendency."
   ]
  },
  {
   "cell_type": "code",
   "execution_count": 11,
   "metadata": {
    "collapsed": true
   },
   "outputs": [],
   "source": [
    "# Question 5\n",
    "# I would take the mean of TV Guide, Entertainment Weekly, and\n",
    "# Pop Culture Today. This gives me an estimate of 20%. I would drop\n",
    "# SciPhi Phanatic's poll since I that is a niche fan base for Science \n",
    "# Fiction fans and may not be representative of the public as a whole."
   ]
  }
 ],
 "metadata": {
  "kernelspec": {
   "display_name": "Python 3",
   "language": "python",
   "name": "python3"
  },
  "language_info": {
   "codemirror_mode": {
    "name": "ipython",
    "version": 3
   },
   "file_extension": ".py",
   "mimetype": "text/x-python",
   "name": "python",
   "nbconvert_exporter": "python",
   "pygments_lexer": "ipython3",
   "version": "3.6.3"
  }
 },
 "nbformat": 4,
 "nbformat_minor": 2
}
