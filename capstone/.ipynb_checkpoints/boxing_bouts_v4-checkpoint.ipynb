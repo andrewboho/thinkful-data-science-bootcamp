{
 "cells": [
  {
   "cell_type": "markdown",
   "metadata": {},
   "source": [
    "# Boxing Bout Data\n",
    "Dataset obtained from [Kaggle](https://www.kaggle.com/slonsky/boxing-bouts), which in turn was scraped from boxing bout records maintained by [BoxRec](http://boxrec.com/en/)."
   ]
  },
  {
   "cell_type": "code",
   "execution_count": 1,
   "metadata": {},
   "outputs": [],
   "source": [
    "# Imports\n",
    "import numpy as np\n",
    "import pandas as pd\n",
    "import matplotlib.pyplot as plt\n",
    "from scipy.stats import ttest_ind\n",
    "%matplotlib inline\n",
    "\n",
    "# Surpress warnings\n",
    "import warnings\n",
    "warnings.filterwarnings(\"ignore\")\n",
    "\n",
    "# Pandas options set-up\n",
    "pd.set_option(\"display.max_columns\", 50)\n",
    "\n",
    "# Colors for plotting\n",
    "colors = [\"#42a4f4\", \"#7d48cc\", \"#93cc49\"]"
   ]
  },
  {
   "cell_type": "markdown",
   "metadata": {},
   "source": [
    "## The Data\n",
    "The dataset is one table with each row representing a boxing match. It contains variables for both match participants (labeled as boxer A and boxer B) on their respective age (years), height (cms), reach (cms), weight (lbs), stance (orthodox or southpaw), career games won, career games lost, career games drawn, and career games won by knockout (kos_A and kos_B).  Each record further contains a variable for the match result, decision type (knockout, technical knockout, unanimous decision, etc.), and variables for judge's scoring for each boxer. "
   ]
  },
  {
   "cell_type": "code",
   "execution_count": 2,
   "metadata": {},
   "outputs": [
    {
     "data": {
      "text/html": [
       "<div>\n",
       "<style scoped>\n",
       "    .dataframe tbody tr th:only-of-type {\n",
       "        vertical-align: middle;\n",
       "    }\n",
       "\n",
       "    .dataframe tbody tr th {\n",
       "        vertical-align: top;\n",
       "    }\n",
       "\n",
       "    .dataframe thead th {\n",
       "        text-align: right;\n",
       "    }\n",
       "</style>\n",
       "<table border=\"1\" class=\"dataframe\">\n",
       "  <thead>\n",
       "    <tr style=\"text-align: right;\">\n",
       "      <th></th>\n",
       "      <th>age_A</th>\n",
       "      <th>age_B</th>\n",
       "      <th>height_A</th>\n",
       "      <th>height_B</th>\n",
       "      <th>reach_A</th>\n",
       "      <th>reach_B</th>\n",
       "      <th>stance_A</th>\n",
       "      <th>stance_B</th>\n",
       "      <th>weight_A</th>\n",
       "      <th>weight_B</th>\n",
       "      <th>won_A</th>\n",
       "      <th>won_B</th>\n",
       "      <th>lost_A</th>\n",
       "      <th>lost_B</th>\n",
       "      <th>drawn_A</th>\n",
       "      <th>drawn_B</th>\n",
       "      <th>kos_A</th>\n",
       "      <th>kos_B</th>\n",
       "      <th>result</th>\n",
       "      <th>decision</th>\n",
       "      <th>judge1_A</th>\n",
       "      <th>judge1_B</th>\n",
       "      <th>judge2_A</th>\n",
       "      <th>judge2_B</th>\n",
       "      <th>judge3_A</th>\n",
       "      <th>judge3_B</th>\n",
       "    </tr>\n",
       "  </thead>\n",
       "  <tbody>\n",
       "    <tr>\n",
       "      <th>0</th>\n",
       "      <td>35.0</td>\n",
       "      <td>27.0</td>\n",
       "      <td>179.0</td>\n",
       "      <td>175.0</td>\n",
       "      <td>178.0</td>\n",
       "      <td>179.0</td>\n",
       "      <td>orthodox</td>\n",
       "      <td>orthodox</td>\n",
       "      <td>160.0</td>\n",
       "      <td>160.0</td>\n",
       "      <td>37</td>\n",
       "      <td>49</td>\n",
       "      <td>0</td>\n",
       "      <td>1</td>\n",
       "      <td>0</td>\n",
       "      <td>1</td>\n",
       "      <td>33</td>\n",
       "      <td>34.0</td>\n",
       "      <td>draw</td>\n",
       "      <td>SD</td>\n",
       "      <td>110.0</td>\n",
       "      <td>118.0</td>\n",
       "      <td>115.0</td>\n",
       "      <td>113.0</td>\n",
       "      <td>114.0</td>\n",
       "      <td>114.0</td>\n",
       "    </tr>\n",
       "    <tr>\n",
       "      <th>1</th>\n",
       "      <td>26.0</td>\n",
       "      <td>31.0</td>\n",
       "      <td>175.0</td>\n",
       "      <td>185.0</td>\n",
       "      <td>179.0</td>\n",
       "      <td>185.0</td>\n",
       "      <td>orthodox</td>\n",
       "      <td>orthodox</td>\n",
       "      <td>164.0</td>\n",
       "      <td>164.0</td>\n",
       "      <td>48</td>\n",
       "      <td>50</td>\n",
       "      <td>1</td>\n",
       "      <td>2</td>\n",
       "      <td>1</td>\n",
       "      <td>1</td>\n",
       "      <td>34</td>\n",
       "      <td>32.0</td>\n",
       "      <td>win_A</td>\n",
       "      <td>UD</td>\n",
       "      <td>120.0</td>\n",
       "      <td>108.0</td>\n",
       "      <td>120.0</td>\n",
       "      <td>108.0</td>\n",
       "      <td>120.0</td>\n",
       "      <td>108.0</td>\n",
       "    </tr>\n",
       "    <tr>\n",
       "      <th>2</th>\n",
       "      <td>28.0</td>\n",
       "      <td>26.0</td>\n",
       "      <td>176.0</td>\n",
       "      <td>175.0</td>\n",
       "      <td>NaN</td>\n",
       "      <td>179.0</td>\n",
       "      <td>orthodox</td>\n",
       "      <td>orthodox</td>\n",
       "      <td>154.0</td>\n",
       "      <td>154.0</td>\n",
       "      <td>23</td>\n",
       "      <td>47</td>\n",
       "      <td>0</td>\n",
       "      <td>1</td>\n",
       "      <td>1</td>\n",
       "      <td>1</td>\n",
       "      <td>13</td>\n",
       "      <td>33.0</td>\n",
       "      <td>win_B</td>\n",
       "      <td>KO</td>\n",
       "      <td>NaN</td>\n",
       "      <td>NaN</td>\n",
       "      <td>NaN</td>\n",
       "      <td>NaN</td>\n",
       "      <td>NaN</td>\n",
       "      <td>NaN</td>\n",
       "    </tr>\n",
       "    <tr>\n",
       "      <th>3</th>\n",
       "      <td>25.0</td>\n",
       "      <td>29.0</td>\n",
       "      <td>175.0</td>\n",
       "      <td>174.0</td>\n",
       "      <td>179.0</td>\n",
       "      <td>180.0</td>\n",
       "      <td>orthodox</td>\n",
       "      <td>orthodox</td>\n",
       "      <td>155.0</td>\n",
       "      <td>155.0</td>\n",
       "      <td>46</td>\n",
       "      <td>31</td>\n",
       "      <td>1</td>\n",
       "      <td>3</td>\n",
       "      <td>1</td>\n",
       "      <td>0</td>\n",
       "      <td>32</td>\n",
       "      <td>19.0</td>\n",
       "      <td>win_A</td>\n",
       "      <td>KO</td>\n",
       "      <td>47.0</td>\n",
       "      <td>48.0</td>\n",
       "      <td>49.0</td>\n",
       "      <td>46.0</td>\n",
       "      <td>48.0</td>\n",
       "      <td>47.0</td>\n",
       "    </tr>\n",
       "    <tr>\n",
       "      <th>4</th>\n",
       "      <td>25.0</td>\n",
       "      <td>35.0</td>\n",
       "      <td>175.0</td>\n",
       "      <td>170.0</td>\n",
       "      <td>179.0</td>\n",
       "      <td>170.0</td>\n",
       "      <td>orthodox</td>\n",
       "      <td>orthodox</td>\n",
       "      <td>155.0</td>\n",
       "      <td>NaN</td>\n",
       "      <td>45</td>\n",
       "      <td>40</td>\n",
       "      <td>1</td>\n",
       "      <td>4</td>\n",
       "      <td>1</td>\n",
       "      <td>0</td>\n",
       "      <td>32</td>\n",
       "      <td>33.0</td>\n",
       "      <td>win_A</td>\n",
       "      <td>UD</td>\n",
       "      <td>118.0</td>\n",
       "      <td>110.0</td>\n",
       "      <td>119.0</td>\n",
       "      <td>109.0</td>\n",
       "      <td>117.0</td>\n",
       "      <td>111.0</td>\n",
       "    </tr>\n",
       "  </tbody>\n",
       "</table>\n",
       "</div>"
      ],
      "text/plain": [
       "   age_A  age_B  height_A  height_B  reach_A  reach_B  stance_A  stance_B  \\\n",
       "0   35.0   27.0     179.0     175.0    178.0    179.0  orthodox  orthodox   \n",
       "1   26.0   31.0     175.0     185.0    179.0    185.0  orthodox  orthodox   \n",
       "2   28.0   26.0     176.0     175.0      NaN    179.0  orthodox  orthodox   \n",
       "3   25.0   29.0     175.0     174.0    179.0    180.0  orthodox  orthodox   \n",
       "4   25.0   35.0     175.0     170.0    179.0    170.0  orthodox  orthodox   \n",
       "\n",
       "   weight_A  weight_B  won_A  won_B  lost_A  lost_B  drawn_A  drawn_B  kos_A  \\\n",
       "0     160.0     160.0     37     49       0       1        0        1     33   \n",
       "1     164.0     164.0     48     50       1       2        1        1     34   \n",
       "2     154.0     154.0     23     47       0       1        1        1     13   \n",
       "3     155.0     155.0     46     31       1       3        1        0     32   \n",
       "4     155.0       NaN     45     40       1       4        1        0     32   \n",
       "\n",
       "   kos_B result decision  judge1_A  judge1_B  judge2_A  judge2_B  judge3_A  \\\n",
       "0   34.0   draw       SD     110.0     118.0     115.0     113.0     114.0   \n",
       "1   32.0  win_A       UD     120.0     108.0     120.0     108.0     120.0   \n",
       "2   33.0  win_B       KO       NaN       NaN       NaN       NaN       NaN   \n",
       "3   19.0  win_A       KO      47.0      48.0      49.0      46.0      48.0   \n",
       "4   33.0  win_A       UD     118.0     110.0     119.0     109.0     117.0   \n",
       "\n",
       "   judge3_B  \n",
       "0     114.0  \n",
       "1     108.0  \n",
       "2       NaN  \n",
       "3      47.0  \n",
       "4     111.0  "
      ]
     },
     "execution_count": 2,
     "metadata": {},
     "output_type": "execute_result"
    }
   ],
   "source": [
    "bouts = pd.read_csv(\"bouts_out_new.csv\")\n",
    "bouts.head()"
   ]
  },
  {
   "cell_type": "code",
   "execution_count": 3,
   "metadata": {
    "scrolled": false
   },
   "outputs": [
    {
     "data": {
      "text/html": [
       "<div>\n",
       "<style scoped>\n",
       "    .dataframe tbody tr th:only-of-type {\n",
       "        vertical-align: middle;\n",
       "    }\n",
       "\n",
       "    .dataframe tbody tr th {\n",
       "        vertical-align: top;\n",
       "    }\n",
       "\n",
       "    .dataframe thead th {\n",
       "        text-align: right;\n",
       "    }\n",
       "</style>\n",
       "<table border=\"1\" class=\"dataframe\">\n",
       "  <thead>\n",
       "    <tr style=\"text-align: right;\">\n",
       "      <th></th>\n",
       "      <th>count</th>\n",
       "      <th>mean</th>\n",
       "      <th>std</th>\n",
       "      <th>min</th>\n",
       "      <th>25%</th>\n",
       "      <th>50%</th>\n",
       "      <th>75%</th>\n",
       "      <th>max</th>\n",
       "    </tr>\n",
       "  </thead>\n",
       "  <tbody>\n",
       "    <tr>\n",
       "      <th>age_A</th>\n",
       "      <td>352888.0</td>\n",
       "      <td>24.416041</td>\n",
       "      <td>6.523590</td>\n",
       "      <td>-74.0</td>\n",
       "      <td>21.0</td>\n",
       "      <td>24.0</td>\n",
       "      <td>27.0</td>\n",
       "      <td>1818.0</td>\n",
       "    </tr>\n",
       "    <tr>\n",
       "      <th>age_B</th>\n",
       "      <td>257935.0</td>\n",
       "      <td>26.583345</td>\n",
       "      <td>11.823224</td>\n",
       "      <td>-74.0</td>\n",
       "      <td>23.0</td>\n",
       "      <td>26.0</td>\n",
       "      <td>30.0</td>\n",
       "      <td>2016.0</td>\n",
       "    </tr>\n",
       "    <tr>\n",
       "      <th>height_A</th>\n",
       "      <td>249246.0</td>\n",
       "      <td>172.786657</td>\n",
       "      <td>9.130127</td>\n",
       "      <td>2.0</td>\n",
       "      <td>166.0</td>\n",
       "      <td>173.0</td>\n",
       "      <td>178.0</td>\n",
       "      <td>255.0</td>\n",
       "    </tr>\n",
       "    <tr>\n",
       "      <th>height_B</th>\n",
       "      <td>134640.0</td>\n",
       "      <td>172.882657</td>\n",
       "      <td>9.430631</td>\n",
       "      <td>15.0</td>\n",
       "      <td>167.0</td>\n",
       "      <td>173.0</td>\n",
       "      <td>179.0</td>\n",
       "      <td>255.0</td>\n",
       "    </tr>\n",
       "    <tr>\n",
       "      <th>reach_A</th>\n",
       "      <td>112342.0</td>\n",
       "      <td>178.848605</td>\n",
       "      <td>12.002404</td>\n",
       "      <td>5.0</td>\n",
       "      <td>170.0</td>\n",
       "      <td>178.0</td>\n",
       "      <td>185.0</td>\n",
       "      <td>456.0</td>\n",
       "    </tr>\n",
       "    <tr>\n",
       "      <th>reach_B</th>\n",
       "      <td>37873.0</td>\n",
       "      <td>179.001030</td>\n",
       "      <td>14.867537</td>\n",
       "      <td>1.0</td>\n",
       "      <td>171.0</td>\n",
       "      <td>178.0</td>\n",
       "      <td>185.0</td>\n",
       "      <td>456.0</td>\n",
       "    </tr>\n",
       "    <tr>\n",
       "      <th>weight_A</th>\n",
       "      <td>135573.0</td>\n",
       "      <td>146.340636</td>\n",
       "      <td>30.240142</td>\n",
       "      <td>10.0</td>\n",
       "      <td>125.0</td>\n",
       "      <td>140.0</td>\n",
       "      <td>160.0</td>\n",
       "      <td>363.0</td>\n",
       "    </tr>\n",
       "    <tr>\n",
       "      <th>weight_B</th>\n",
       "      <td>130358.0</td>\n",
       "      <td>147.089484</td>\n",
       "      <td>30.624890</td>\n",
       "      <td>2.0</td>\n",
       "      <td>126.0</td>\n",
       "      <td>140.0</td>\n",
       "      <td>160.0</td>\n",
       "      <td>450.0</td>\n",
       "    </tr>\n",
       "    <tr>\n",
       "      <th>won_A</th>\n",
       "      <td>387427.0</td>\n",
       "      <td>23.108438</td>\n",
       "      <td>27.629901</td>\n",
       "      <td>0.0</td>\n",
       "      <td>5.0</td>\n",
       "      <td>14.0</td>\n",
       "      <td>31.0</td>\n",
       "      <td>332.0</td>\n",
       "    </tr>\n",
       "    <tr>\n",
       "      <th>won_B</th>\n",
       "      <td>387427.0</td>\n",
       "      <td>15.159080</td>\n",
       "      <td>19.938137</td>\n",
       "      <td>0.0</td>\n",
       "      <td>2.0</td>\n",
       "      <td>8.0</td>\n",
       "      <td>21.0</td>\n",
       "      <td>251.0</td>\n",
       "    </tr>\n",
       "    <tr>\n",
       "      <th>lost_A</th>\n",
       "      <td>387427.0</td>\n",
       "      <td>5.484135</td>\n",
       "      <td>8.775672</td>\n",
       "      <td>0.0</td>\n",
       "      <td>0.0</td>\n",
       "      <td>2.0</td>\n",
       "      <td>7.0</td>\n",
       "      <td>208.0</td>\n",
       "    </tr>\n",
       "    <tr>\n",
       "      <th>lost_B</th>\n",
       "      <td>387427.0</td>\n",
       "      <td>8.610487</td>\n",
       "      <td>12.783084</td>\n",
       "      <td>0.0</td>\n",
       "      <td>1.0</td>\n",
       "      <td>5.0</td>\n",
       "      <td>11.0</td>\n",
       "      <td>511.0</td>\n",
       "    </tr>\n",
       "    <tr>\n",
       "      <th>drawn_A</th>\n",
       "      <td>387427.0</td>\n",
       "      <td>2.826481</td>\n",
       "      <td>5.584610</td>\n",
       "      <td>0.0</td>\n",
       "      <td>0.0</td>\n",
       "      <td>1.0</td>\n",
       "      <td>3.0</td>\n",
       "      <td>77.0</td>\n",
       "    </tr>\n",
       "    <tr>\n",
       "      <th>drawn_B</th>\n",
       "      <td>387427.0</td>\n",
       "      <td>2.636375</td>\n",
       "      <td>5.027003</td>\n",
       "      <td>0.0</td>\n",
       "      <td>0.0</td>\n",
       "      <td>1.0</td>\n",
       "      <td>3.0</td>\n",
       "      <td>76.0</td>\n",
       "    </tr>\n",
       "    <tr>\n",
       "      <th>kos_A</th>\n",
       "      <td>387427.0</td>\n",
       "      <td>10.338887</td>\n",
       "      <td>12.392049</td>\n",
       "      <td>0.0</td>\n",
       "      <td>2.0</td>\n",
       "      <td>6.0</td>\n",
       "      <td>14.0</td>\n",
       "      <td>131.0</td>\n",
       "    </tr>\n",
       "    <tr>\n",
       "      <th>kos_B</th>\n",
       "      <td>387348.0</td>\n",
       "      <td>6.234735</td>\n",
       "      <td>8.750690</td>\n",
       "      <td>0.0</td>\n",
       "      <td>0.0</td>\n",
       "      <td>3.0</td>\n",
       "      <td>9.0</td>\n",
       "      <td>128.0</td>\n",
       "    </tr>\n",
       "    <tr>\n",
       "      <th>judge1_A</th>\n",
       "      <td>52248.0</td>\n",
       "      <td>62.778901</td>\n",
       "      <td>30.337580</td>\n",
       "      <td>0.0</td>\n",
       "      <td>39.0</td>\n",
       "      <td>59.0</td>\n",
       "      <td>80.0</td>\n",
       "      <td>540.0</td>\n",
       "    </tr>\n",
       "    <tr>\n",
       "      <th>judge1_B</th>\n",
       "      <td>52060.0</td>\n",
       "      <td>59.509700</td>\n",
       "      <td>29.285058</td>\n",
       "      <td>1.0</td>\n",
       "      <td>37.0</td>\n",
       "      <td>54.0</td>\n",
       "      <td>79.0</td>\n",
       "      <td>291.0</td>\n",
       "    </tr>\n",
       "    <tr>\n",
       "      <th>judge2_A</th>\n",
       "      <td>70371.0</td>\n",
       "      <td>59.560941</td>\n",
       "      <td>31.021367</td>\n",
       "      <td>0.0</td>\n",
       "      <td>39.0</td>\n",
       "      <td>58.0</td>\n",
       "      <td>80.0</td>\n",
       "      <td>299.0</td>\n",
       "    </tr>\n",
       "    <tr>\n",
       "      <th>judge2_B</th>\n",
       "      <td>70032.0</td>\n",
       "      <td>56.570411</td>\n",
       "      <td>30.260935</td>\n",
       "      <td>0.0</td>\n",
       "      <td>36.0</td>\n",
       "      <td>54.0</td>\n",
       "      <td>75.0</td>\n",
       "      <td>294.0</td>\n",
       "    </tr>\n",
       "    <tr>\n",
       "      <th>judge3_A</th>\n",
       "      <td>61231.0</td>\n",
       "      <td>60.784276</td>\n",
       "      <td>31.910461</td>\n",
       "      <td>0.0</td>\n",
       "      <td>39.0</td>\n",
       "      <td>58.0</td>\n",
       "      <td>80.0</td>\n",
       "      <td>300.0</td>\n",
       "    </tr>\n",
       "    <tr>\n",
       "      <th>judge3_B</th>\n",
       "      <td>61023.0</td>\n",
       "      <td>57.995215</td>\n",
       "      <td>31.170590</td>\n",
       "      <td>1.0</td>\n",
       "      <td>36.0</td>\n",
       "      <td>54.0</td>\n",
       "      <td>78.0</td>\n",
       "      <td>295.0</td>\n",
       "    </tr>\n",
       "  </tbody>\n",
       "</table>\n",
       "</div>"
      ],
      "text/plain": [
       "             count        mean        std   min    25%    50%    75%     max\n",
       "age_A     352888.0   24.416041   6.523590 -74.0   21.0   24.0   27.0  1818.0\n",
       "age_B     257935.0   26.583345  11.823224 -74.0   23.0   26.0   30.0  2016.0\n",
       "height_A  249246.0  172.786657   9.130127   2.0  166.0  173.0  178.0   255.0\n",
       "height_B  134640.0  172.882657   9.430631  15.0  167.0  173.0  179.0   255.0\n",
       "reach_A   112342.0  178.848605  12.002404   5.0  170.0  178.0  185.0   456.0\n",
       "reach_B    37873.0  179.001030  14.867537   1.0  171.0  178.0  185.0   456.0\n",
       "weight_A  135573.0  146.340636  30.240142  10.0  125.0  140.0  160.0   363.0\n",
       "weight_B  130358.0  147.089484  30.624890   2.0  126.0  140.0  160.0   450.0\n",
       "won_A     387427.0   23.108438  27.629901   0.0    5.0   14.0   31.0   332.0\n",
       "won_B     387427.0   15.159080  19.938137   0.0    2.0    8.0   21.0   251.0\n",
       "lost_A    387427.0    5.484135   8.775672   0.0    0.0    2.0    7.0   208.0\n",
       "lost_B    387427.0    8.610487  12.783084   0.0    1.0    5.0   11.0   511.0\n",
       "drawn_A   387427.0    2.826481   5.584610   0.0    0.0    1.0    3.0    77.0\n",
       "drawn_B   387427.0    2.636375   5.027003   0.0    0.0    1.0    3.0    76.0\n",
       "kos_A     387427.0   10.338887  12.392049   0.0    2.0    6.0   14.0   131.0\n",
       "kos_B     387348.0    6.234735   8.750690   0.0    0.0    3.0    9.0   128.0\n",
       "judge1_A   52248.0   62.778901  30.337580   0.0   39.0   59.0   80.0   540.0\n",
       "judge1_B   52060.0   59.509700  29.285058   1.0   37.0   54.0   79.0   291.0\n",
       "judge2_A   70371.0   59.560941  31.021367   0.0   39.0   58.0   80.0   299.0\n",
       "judge2_B   70032.0   56.570411  30.260935   0.0   36.0   54.0   75.0   294.0\n",
       "judge3_A   61231.0   60.784276  31.910461   0.0   39.0   58.0   80.0   300.0\n",
       "judge3_B   61023.0   57.995215  31.170590   1.0   36.0   54.0   78.0   295.0"
      ]
     },
     "execution_count": 3,
     "metadata": {},
     "output_type": "execute_result"
    }
   ],
   "source": [
    "bouts.describe().transpose()"
   ]
  },
  {
   "cell_type": "markdown",
   "metadata": {},
   "source": [
    "One of the first things we notice are the presence of some strange min/max values for age, height, reach, and weight. Those dealt with later in the exploratory analysis section."
   ]
  },
  {
   "cell_type": "markdown",
   "metadata": {},
   "source": [
    "### Transforming the Data\n",
    "To investigate the analytical questions asked in this report, we will transform the dataset from one where the rows represent boxing bouts, to one where the rows represent individual boxers. More specifically, after the transformation, each row will be a snapshot of a boxer's age, height, reach, weight, stance, and career record (win/loss/draw/wins-by-knockout) at the time of a specific bout, and also include the result of said bout, along with the decision type and judge's scoring."
   ]
  },
  {
   "cell_type": "code",
   "execution_count": 48,
   "metadata": {},
   "outputs": [
    {
     "data": {
      "text/html": [
       "<div>\n",
       "<style scoped>\n",
       "    .dataframe tbody tr th:only-of-type {\n",
       "        vertical-align: middle;\n",
       "    }\n",
       "\n",
       "    .dataframe tbody tr th {\n",
       "        vertical-align: top;\n",
       "    }\n",
       "\n",
       "    .dataframe thead th {\n",
       "        text-align: right;\n",
       "    }\n",
       "</style>\n",
       "<table border=\"1\" class=\"dataframe\">\n",
       "  <thead>\n",
       "    <tr style=\"text-align: right;\">\n",
       "      <th></th>\n",
       "      <th>age</th>\n",
       "      <th>height</th>\n",
       "      <th>reach</th>\n",
       "      <th>stance</th>\n",
       "      <th>weight</th>\n",
       "      <th>won</th>\n",
       "      <th>lost</th>\n",
       "      <th>drawn</th>\n",
       "      <th>kos</th>\n",
       "      <th>result</th>\n",
       "      <th>decision</th>\n",
       "      <th>judge1</th>\n",
       "      <th>judge2</th>\n",
       "      <th>judge3</th>\n",
       "    </tr>\n",
       "  </thead>\n",
       "  <tbody>\n",
       "    <tr>\n",
       "      <th>0</th>\n",
       "      <td>35.0</td>\n",
       "      <td>179.0</td>\n",
       "      <td>178.0</td>\n",
       "      <td>orthodox</td>\n",
       "      <td>160.0</td>\n",
       "      <td>37</td>\n",
       "      <td>0</td>\n",
       "      <td>0</td>\n",
       "      <td>33.0</td>\n",
       "      <td>draw</td>\n",
       "      <td>SD</td>\n",
       "      <td>110.0</td>\n",
       "      <td>115.0</td>\n",
       "      <td>114.0</td>\n",
       "    </tr>\n",
       "    <tr>\n",
       "      <th>1</th>\n",
       "      <td>26.0</td>\n",
       "      <td>175.0</td>\n",
       "      <td>179.0</td>\n",
       "      <td>orthodox</td>\n",
       "      <td>164.0</td>\n",
       "      <td>48</td>\n",
       "      <td>1</td>\n",
       "      <td>1</td>\n",
       "      <td>34.0</td>\n",
       "      <td>won</td>\n",
       "      <td>UD</td>\n",
       "      <td>120.0</td>\n",
       "      <td>120.0</td>\n",
       "      <td>120.0</td>\n",
       "    </tr>\n",
       "    <tr>\n",
       "      <th>2</th>\n",
       "      <td>28.0</td>\n",
       "      <td>176.0</td>\n",
       "      <td>NaN</td>\n",
       "      <td>orthodox</td>\n",
       "      <td>154.0</td>\n",
       "      <td>23</td>\n",
       "      <td>0</td>\n",
       "      <td>1</td>\n",
       "      <td>13.0</td>\n",
       "      <td>lost</td>\n",
       "      <td>KO</td>\n",
       "      <td>NaN</td>\n",
       "      <td>NaN</td>\n",
       "      <td>NaN</td>\n",
       "    </tr>\n",
       "    <tr>\n",
       "      <th>3</th>\n",
       "      <td>25.0</td>\n",
       "      <td>175.0</td>\n",
       "      <td>179.0</td>\n",
       "      <td>orthodox</td>\n",
       "      <td>155.0</td>\n",
       "      <td>46</td>\n",
       "      <td>1</td>\n",
       "      <td>1</td>\n",
       "      <td>32.0</td>\n",
       "      <td>won</td>\n",
       "      <td>KO</td>\n",
       "      <td>47.0</td>\n",
       "      <td>49.0</td>\n",
       "      <td>48.0</td>\n",
       "    </tr>\n",
       "    <tr>\n",
       "      <th>4</th>\n",
       "      <td>25.0</td>\n",
       "      <td>175.0</td>\n",
       "      <td>179.0</td>\n",
       "      <td>orthodox</td>\n",
       "      <td>155.0</td>\n",
       "      <td>45</td>\n",
       "      <td>1</td>\n",
       "      <td>1</td>\n",
       "      <td>32.0</td>\n",
       "      <td>won</td>\n",
       "      <td>UD</td>\n",
       "      <td>118.0</td>\n",
       "      <td>119.0</td>\n",
       "      <td>117.0</td>\n",
       "    </tr>\n",
       "  </tbody>\n",
       "</table>\n",
       "</div>"
      ],
      "text/plain": [
       "    age  height  reach    stance  weight  won  lost  drawn   kos result  \\\n",
       "0  35.0   179.0  178.0  orthodox   160.0   37     0      0  33.0   draw   \n",
       "1  26.0   175.0  179.0  orthodox   164.0   48     1      1  34.0    won   \n",
       "2  28.0   176.0    NaN  orthodox   154.0   23     0      1  13.0   lost   \n",
       "3  25.0   175.0  179.0  orthodox   155.0   46     1      1  32.0    won   \n",
       "4  25.0   175.0  179.0  orthodox   155.0   45     1      1  32.0    won   \n",
       "\n",
       "  decision  judge1  judge2  judge3  \n",
       "0       SD   110.0   115.0   114.0  \n",
       "1       UD   120.0   120.0   120.0  \n",
       "2       KO     NaN     NaN     NaN  \n",
       "3       KO    47.0    49.0    48.0  \n",
       "4       UD   118.0   119.0   117.0  "
      ]
     },
     "execution_count": 48,
     "metadata": {},
     "output_type": "execute_result"
    }
   ],
   "source": [
    "# Transform the dataset from bouts to boxers\n",
    "# Split the dataframe into two subset dataframes (boxer A and boxer B)\n",
    "\n",
    "# Dataframe for boxer A\n",
    "bouts_A = bouts[[\"age_A\", \"height_A\", \"reach_A\", \"stance_A\", \"weight_A\",\n",
    "                 \"won_A\", \"lost_A\", \"drawn_A\", \"kos_A\", \"result\", \"decision\",\n",
    "                \"judge1_A\", \"judge2_A\", \"judge3_A\"]]\n",
    "\n",
    "# Dataframe for boxer B\n",
    "bouts_B = bouts[[\"age_B\", \"height_B\", \"reach_B\", \"stance_B\", \"weight_B\",\n",
    "                 \"won_B\", \"lost_B\", \"drawn_B\", \"kos_B\", \"result\", \"decision\",\n",
    "                \"judge1_B\", \"judge2_B\", \"judge3_B\"]]\n",
    "\n",
    "# Rename the columns for each of the subset dataframes to remove the A/B distinction,\n",
    "# allowing them to be concatenated together.\n",
    "combined_col_names = ['age', 'height', 'reach', 'stance', 'weight', 'won', 'lost', 'drawn',\n",
    "                      'kos', 'result', 'decision','judge1', 'judge2', 'judge3']\n",
    "\n",
    "bouts_A.columns = combined_col_names\n",
    "bouts_B.columns = combined_col_names\n",
    "\n",
    "# Replace result with a variable that gives the bout outcome from the prospective individual boxer (A or B)\n",
    "# Create result list for boxer A\n",
    "result_list_A = []\n",
    "for result in bouts_A[\"result\"]:\n",
    "    if result == \"win_A\":\n",
    "        result_list_A.append(\"won\")\n",
    "    elif result == \"win_B\":\n",
    "        result_list_A.append(\"lost\")\n",
    "    elif result == \"draw\":\n",
    "        result_list_A.append(\"draw\")\n",
    "\n",
    "#Replace result column with data from the new result_list\n",
    "bouts_A[\"result\"] = result_list_A\n",
    "\n",
    "# Create result list for boxer B\n",
    "result_list_B = []\n",
    "for result in bouts_B[\"result\"]:\n",
    "    if result == \"win_B\":\n",
    "        result_list_B.append(\"won\")\n",
    "    elif result == \"win_A\":\n",
    "        result_list_B.append(\"lost\")\n",
    "    elif result == \"draw\":\n",
    "        result_list_B.append(\"draw\")\n",
    "\n",
    "#Replace result column with data from the new result_list\n",
    "bouts_B[\"result\"] = result_list_B\n",
    "    \n",
    "\n",
    "# Concatente the the two subset dataframes into one combined dataframe\n",
    "mega_bouts = pd.concat([bouts_A, bouts_B])\n",
    "\n",
    "# Reset the index\n",
    "mega_bouts = mega_bouts.reset_index(drop=True)\n",
    "\n",
    "mega_bouts.head()"
   ]
  },
  {
   "cell_type": "code",
   "execution_count": 5,
   "metadata": {},
   "outputs": [
    {
     "data": {
      "text/html": [
       "<div>\n",
       "<style scoped>\n",
       "    .dataframe tbody tr th:only-of-type {\n",
       "        vertical-align: middle;\n",
       "    }\n",
       "\n",
       "    .dataframe tbody tr th {\n",
       "        vertical-align: top;\n",
       "    }\n",
       "\n",
       "    .dataframe thead th {\n",
       "        text-align: right;\n",
       "    }\n",
       "</style>\n",
       "<table border=\"1\" class=\"dataframe\">\n",
       "  <thead>\n",
       "    <tr style=\"text-align: right;\">\n",
       "      <th></th>\n",
       "      <th>count</th>\n",
       "      <th>mean</th>\n",
       "      <th>std</th>\n",
       "      <th>min</th>\n",
       "      <th>25%</th>\n",
       "      <th>50%</th>\n",
       "      <th>75%</th>\n",
       "      <th>max</th>\n",
       "    </tr>\n",
       "  </thead>\n",
       "  <tbody>\n",
       "    <tr>\n",
       "      <th>age</th>\n",
       "      <td>610823.0</td>\n",
       "      <td>25.331238</td>\n",
       "      <td>9.206592</td>\n",
       "      <td>-74.0</td>\n",
       "      <td>22.0</td>\n",
       "      <td>25.0</td>\n",
       "      <td>28.0</td>\n",
       "      <td>2016.0</td>\n",
       "    </tr>\n",
       "    <tr>\n",
       "      <th>height</th>\n",
       "      <td>383886.0</td>\n",
       "      <td>172.820327</td>\n",
       "      <td>9.236737</td>\n",
       "      <td>2.0</td>\n",
       "      <td>166.0</td>\n",
       "      <td>173.0</td>\n",
       "      <td>178.0</td>\n",
       "      <td>255.0</td>\n",
       "    </tr>\n",
       "    <tr>\n",
       "      <th>reach</th>\n",
       "      <td>150215.0</td>\n",
       "      <td>178.887035</td>\n",
       "      <td>12.785571</td>\n",
       "      <td>1.0</td>\n",
       "      <td>170.0</td>\n",
       "      <td>178.0</td>\n",
       "      <td>185.0</td>\n",
       "      <td>456.0</td>\n",
       "    </tr>\n",
       "    <tr>\n",
       "      <th>weight</th>\n",
       "      <td>265931.0</td>\n",
       "      <td>146.707717</td>\n",
       "      <td>30.431597</td>\n",
       "      <td>2.0</td>\n",
       "      <td>126.0</td>\n",
       "      <td>140.0</td>\n",
       "      <td>160.0</td>\n",
       "      <td>450.0</td>\n",
       "    </tr>\n",
       "    <tr>\n",
       "      <th>won</th>\n",
       "      <td>774854.0</td>\n",
       "      <td>19.133759</td>\n",
       "      <td>24.418594</td>\n",
       "      <td>0.0</td>\n",
       "      <td>3.0</td>\n",
       "      <td>11.0</td>\n",
       "      <td>26.0</td>\n",
       "      <td>332.0</td>\n",
       "    </tr>\n",
       "    <tr>\n",
       "      <th>lost</th>\n",
       "      <td>774854.0</td>\n",
       "      <td>7.047311</td>\n",
       "      <td>11.074890</td>\n",
       "      <td>0.0</td>\n",
       "      <td>1.0</td>\n",
       "      <td>3.0</td>\n",
       "      <td>9.0</td>\n",
       "      <td>511.0</td>\n",
       "    </tr>\n",
       "    <tr>\n",
       "      <th>drawn</th>\n",
       "      <td>774854.0</td>\n",
       "      <td>2.731428</td>\n",
       "      <td>5.313974</td>\n",
       "      <td>0.0</td>\n",
       "      <td>0.0</td>\n",
       "      <td>1.0</td>\n",
       "      <td>3.0</td>\n",
       "      <td>77.0</td>\n",
       "    </tr>\n",
       "    <tr>\n",
       "      <th>kos</th>\n",
       "      <td>774775.0</td>\n",
       "      <td>8.287020</td>\n",
       "      <td>10.921700</td>\n",
       "      <td>0.0</td>\n",
       "      <td>1.0</td>\n",
       "      <td>4.0</td>\n",
       "      <td>12.0</td>\n",
       "      <td>131.0</td>\n",
       "    </tr>\n",
       "    <tr>\n",
       "      <th>judge1</th>\n",
       "      <td>104308.0</td>\n",
       "      <td>61.147247</td>\n",
       "      <td>29.861542</td>\n",
       "      <td>0.0</td>\n",
       "      <td>38.0</td>\n",
       "      <td>56.0</td>\n",
       "      <td>80.0</td>\n",
       "      <td>540.0</td>\n",
       "    </tr>\n",
       "    <tr>\n",
       "      <th>judge2</th>\n",
       "      <td>140403.0</td>\n",
       "      <td>58.069286</td>\n",
       "      <td>30.680777</td>\n",
       "      <td>0.0</td>\n",
       "      <td>38.0</td>\n",
       "      <td>55.0</td>\n",
       "      <td>78.0</td>\n",
       "      <td>299.0</td>\n",
       "    </tr>\n",
       "    <tr>\n",
       "      <th>judge3</th>\n",
       "      <td>122254.0</td>\n",
       "      <td>59.392118</td>\n",
       "      <td>31.574007</td>\n",
       "      <td>0.0</td>\n",
       "      <td>38.0</td>\n",
       "      <td>55.0</td>\n",
       "      <td>80.0</td>\n",
       "      <td>300.0</td>\n",
       "    </tr>\n",
       "  </tbody>\n",
       "</table>\n",
       "</div>"
      ],
      "text/plain": [
       "           count        mean        std   min    25%    50%    75%     max\n",
       "age     610823.0   25.331238   9.206592 -74.0   22.0   25.0   28.0  2016.0\n",
       "height  383886.0  172.820327   9.236737   2.0  166.0  173.0  178.0   255.0\n",
       "reach   150215.0  178.887035  12.785571   1.0  170.0  178.0  185.0   456.0\n",
       "weight  265931.0  146.707717  30.431597   2.0  126.0  140.0  160.0   450.0\n",
       "won     774854.0   19.133759  24.418594   0.0    3.0   11.0   26.0   332.0\n",
       "lost    774854.0    7.047311  11.074890   0.0    1.0    3.0    9.0   511.0\n",
       "drawn   774854.0    2.731428   5.313974   0.0    0.0    1.0    3.0    77.0\n",
       "kos     774775.0    8.287020  10.921700   0.0    1.0    4.0   12.0   131.0\n",
       "judge1  104308.0   61.147247  29.861542   0.0   38.0   56.0   80.0   540.0\n",
       "judge2  140403.0   58.069286  30.680777   0.0   38.0   55.0   78.0   299.0\n",
       "judge3  122254.0   59.392118  31.574007   0.0   38.0   55.0   80.0   300.0"
      ]
     },
     "execution_count": 5,
     "metadata": {},
     "output_type": "execute_result"
    }
   ],
   "source": [
    "mega_bouts.describe().transpose()"
   ]
  },
  {
   "cell_type": "markdown",
   "metadata": {},
   "source": [
    "## Exploratory Analysis\n",
    "First, we run a box plot for age, height, reach, and weight to investigate outliers. Horizontal lines have been added to demarcate acceptable limits. These are some what arbitrary and were obtained by googling things like “tallest professional boxer” and “youngest age to box professionally (15 years old in Mexico, it turns out). That being said, it does rein in the data and show what should be considered extreme or cleary wrong values (negative 74 is too young to be boxing--I don’t care if your parents signed a waiver)."
   ]
  },
  {
   "cell_type": "code",
   "execution_count": 6,
   "metadata": {
    "scrolled": false
   },
   "outputs": [
    {
     "data": {
      "image/png": "[encoded data removed]",
      "text/plain": [
       "<matplotlib.figure.Figure at 0x10ce46390>"
      ]
     },
     "metadata": {},
     "output_type": "display_data"
    }
   ],
   "source": [
    "fig = plt.figure(figsize=(18, 10))\n",
    "axes = fig.subplots(1, 3)\n",
    "\n",
    "bplot1 = axes[0].boxplot(mega_bouts[\"age\"].dropna(), patch_artist=True, labels=[\"Age\"])\n",
    "axes[0].set_title(\"Boxplot for Age\")\n",
    "axes[0].set_ylabel(\"Years\")\n",
    "axes[0].axhline(y=15, color=\"red\")  # Min age\n",
    "axes[0].axhline(y=60, color=\"red\") # Max age\n",
    "\n",
    "bplot2 = axes[1].boxplot([mega_bouts[\"height\"].dropna(), mega_bouts[\"reach\"].dropna()], patch_artist=True,\n",
    "                         labels=[\"Height\", \"Reach\"])\n",
    "axes[1].set_title(\"Boxplot for Height and Reach\")\n",
    "axes[1].set_ylabel(\"Centimeters\")\n",
    "axes[1].axhline(y=147, color=\"red\") # Min height\n",
    "axes[1].axhline(y=224, color=\"red\") # Max height\n",
    "axes[1].axhline(y=130, color=\"orange\") # Min reach\n",
    "axes[1].axhline(y=250, color=\"orange\") # Max reach\n",
    "\n",
    "bplot3 = axes[2].boxplot(mega_bouts[\"weight\"].dropna(), patch_artist=True, labels=[\"Weight\"])\n",
    "axes[2].set_title(\"Boxplot for Weight\")\n",
    "axes[2].set_ylabel(\"Pounds\")\n",
    "axes[2].axhline(y=77, color=\"red\") # Min weight\n",
    "axes[2].axhline(y=350, color=\"red\") # Max weight\n",
    "\n",
    "for bplot in (bplot1, bplot2, bplot3):\n",
    "    for patch, color in zip(bplot[\"boxes\"], colors):\n",
    "        patch.set_facecolor(color)\n",
    "        patch.set_alpha(0.8)\n",
    "\n",
    "plt.show()"
   ]
  },
  {
   "attachments": {},
   "cell_type": "markdown",
   "metadata": {},
   "source": [
    "Note: for the middle box plot, height limits are the red horizontal lines, while reach is the orange horizontal lines."
   ]
  },
  {
   "cell_type": "code",
   "execution_count": 7,
   "metadata": {},
   "outputs": [],
   "source": [
    "# Remove observations with non-sensical data for age, height, weight, and reach.\n",
    "mega_bouts = mega_bouts[(mega_bouts[\"age\"] >= 15)]\n",
    "mega_bouts = mega_bouts[(mega_bouts[\"age\"] <= 60)]\n",
    "mega_bouts = mega_bouts[(mega_bouts[\"height\"] >= 147)]\n",
    "mega_bouts = mega_bouts[(mega_bouts[\"height\"] <= 224)]\n",
    "mega_bouts = mega_bouts[(mega_bouts[\"weight\"] >= 77)]\n",
    "mega_bouts = mega_bouts[(mega_bouts[\"weight\"] <= 350)]\n",
    "mega_bouts = mega_bouts[(mega_bouts[\"reach\"] >= 130)]\n",
    "mega_bouts = mega_bouts[(mega_bouts[\"reach\"] <= 250)]"
   ]
  },
  {
   "cell_type": "code",
   "execution_count": 8,
   "metadata": {},
   "outputs": [
    {
     "data": {
      "text/html": [
       "<div>\n",
       "<style scoped>\n",
       "    .dataframe tbody tr th:only-of-type {\n",
       "        vertical-align: middle;\n",
       "    }\n",
       "\n",
       "    .dataframe tbody tr th {\n",
       "        vertical-align: top;\n",
       "    }\n",
       "\n",
       "    .dataframe thead th {\n",
       "        text-align: right;\n",
       "    }\n",
       "</style>\n",
       "<table border=\"1\" class=\"dataframe\">\n",
       "  <thead>\n",
       "    <tr style=\"text-align: right;\">\n",
       "      <th></th>\n",
       "      <th>count</th>\n",
       "      <th>mean</th>\n",
       "      <th>std</th>\n",
       "      <th>min</th>\n",
       "      <th>25%</th>\n",
       "      <th>50%</th>\n",
       "      <th>75%</th>\n",
       "      <th>max</th>\n",
       "    </tr>\n",
       "  </thead>\n",
       "  <tbody>\n",
       "    <tr>\n",
       "      <th>age</th>\n",
       "      <td>66614.0</td>\n",
       "      <td>25.757889</td>\n",
       "      <td>5.279800</td>\n",
       "      <td>15.0</td>\n",
       "      <td>22.0</td>\n",
       "      <td>25.0</td>\n",
       "      <td>29.0</td>\n",
       "      <td>54.0</td>\n",
       "    </tr>\n",
       "    <tr>\n",
       "      <th>height</th>\n",
       "      <td>66614.0</td>\n",
       "      <td>174.498214</td>\n",
       "      <td>9.096148</td>\n",
       "      <td>148.0</td>\n",
       "      <td>168.0</td>\n",
       "      <td>173.0</td>\n",
       "      <td>180.0</td>\n",
       "      <td>218.0</td>\n",
       "    </tr>\n",
       "    <tr>\n",
       "      <th>reach</th>\n",
       "      <td>66614.0</td>\n",
       "      <td>179.633095</td>\n",
       "      <td>11.428135</td>\n",
       "      <td>142.0</td>\n",
       "      <td>172.0</td>\n",
       "      <td>178.0</td>\n",
       "      <td>185.0</td>\n",
       "      <td>239.0</td>\n",
       "    </tr>\n",
       "    <tr>\n",
       "      <th>weight</th>\n",
       "      <td>66614.0</td>\n",
       "      <td>152.123608</td>\n",
       "      <td>33.873249</td>\n",
       "      <td>94.0</td>\n",
       "      <td>128.0</td>\n",
       "      <td>144.0</td>\n",
       "      <td>167.0</td>\n",
       "      <td>334.0</td>\n",
       "    </tr>\n",
       "    <tr>\n",
       "      <th>won</th>\n",
       "      <td>66614.0</td>\n",
       "      <td>29.975546</td>\n",
       "      <td>31.875268</td>\n",
       "      <td>0.0</td>\n",
       "      <td>10.0</td>\n",
       "      <td>21.0</td>\n",
       "      <td>38.0</td>\n",
       "      <td>262.0</td>\n",
       "    </tr>\n",
       "    <tr>\n",
       "      <th>lost</th>\n",
       "      <td>66614.0</td>\n",
       "      <td>5.497763</td>\n",
       "      <td>8.240858</td>\n",
       "      <td>0.0</td>\n",
       "      <td>0.0</td>\n",
       "      <td>2.0</td>\n",
       "      <td>7.0</td>\n",
       "      <td>102.0</td>\n",
       "    </tr>\n",
       "    <tr>\n",
       "      <th>drawn</th>\n",
       "      <td>66614.0</td>\n",
       "      <td>2.192287</td>\n",
       "      <td>4.956109</td>\n",
       "      <td>0.0</td>\n",
       "      <td>0.0</td>\n",
       "      <td>0.0</td>\n",
       "      <td>2.0</td>\n",
       "      <td>60.0</td>\n",
       "    </tr>\n",
       "    <tr>\n",
       "      <th>kos</th>\n",
       "      <td>66614.0</td>\n",
       "      <td>15.647176</td>\n",
       "      <td>15.210958</td>\n",
       "      <td>0.0</td>\n",
       "      <td>5.0</td>\n",
       "      <td>12.0</td>\n",
       "      <td>21.0</td>\n",
       "      <td>131.0</td>\n",
       "    </tr>\n",
       "    <tr>\n",
       "      <th>judge1</th>\n",
       "      <td>14901.0</td>\n",
       "      <td>75.850144</td>\n",
       "      <td>32.093473</td>\n",
       "      <td>0.0</td>\n",
       "      <td>50.0</td>\n",
       "      <td>79.0</td>\n",
       "      <td>100.0</td>\n",
       "      <td>240.0</td>\n",
       "    </tr>\n",
       "    <tr>\n",
       "      <th>judge2</th>\n",
       "      <td>18067.0</td>\n",
       "      <td>71.191122</td>\n",
       "      <td>35.356891</td>\n",
       "      <td>0.0</td>\n",
       "      <td>40.0</td>\n",
       "      <td>75.0</td>\n",
       "      <td>99.0</td>\n",
       "      <td>290.0</td>\n",
       "    </tr>\n",
       "    <tr>\n",
       "      <th>judge3</th>\n",
       "      <td>17386.0</td>\n",
       "      <td>72.079029</td>\n",
       "      <td>35.181491</td>\n",
       "      <td>0.0</td>\n",
       "      <td>40.0</td>\n",
       "      <td>76.0</td>\n",
       "      <td>99.0</td>\n",
       "      <td>295.0</td>\n",
       "    </tr>\n",
       "  </tbody>\n",
       "</table>\n",
       "</div>"
      ],
      "text/plain": [
       "          count        mean        std    min    25%    50%    75%    max\n",
       "age     66614.0   25.757889   5.279800   15.0   22.0   25.0   29.0   54.0\n",
       "height  66614.0  174.498214   9.096148  148.0  168.0  173.0  180.0  218.0\n",
       "reach   66614.0  179.633095  11.428135  142.0  172.0  178.0  185.0  239.0\n",
       "weight  66614.0  152.123608  33.873249   94.0  128.0  144.0  167.0  334.0\n",
       "won     66614.0   29.975546  31.875268    0.0   10.0   21.0   38.0  262.0\n",
       "lost    66614.0    5.497763   8.240858    0.0    0.0    2.0    7.0  102.0\n",
       "drawn   66614.0    2.192287   4.956109    0.0    0.0    0.0    2.0   60.0\n",
       "kos     66614.0   15.647176  15.210958    0.0    5.0   12.0   21.0  131.0\n",
       "judge1  14901.0   75.850144  32.093473    0.0   50.0   79.0  100.0  240.0\n",
       "judge2  18067.0   71.191122  35.356891    0.0   40.0   75.0   99.0  290.0\n",
       "judge3  17386.0   72.079029  35.181491    0.0   40.0   76.0   99.0  295.0"
      ]
     },
     "execution_count": 8,
     "metadata": {},
     "output_type": "execute_result"
    }
   ],
   "source": [
    "mega_bouts.describe().transpose()"
   ]
  },
  {
   "cell_type": "code",
   "execution_count": 9,
   "metadata": {
    "scrolled": false
   },
   "outputs": [
    {
     "data": {
      "image/png": "[encoded data removed]",
      "text/plain": [
       "<matplotlib.figure.Figure at 0x10cfa0fd0>"
      ]
     },
     "metadata": {},
     "output_type": "display_data"
    }
   ],
   "source": [
    "fig = plt.figure(figsize=(18, 10))\n",
    "axes = fig.subplots(1, 3)\n",
    "\n",
    "bplot1 = axes[0].boxplot(mega_bouts[\"age\"].dropna(), patch_artist=True, labels=[\"Age\"])\n",
    "axes[0].set_title(\"Boxplot for Age\")\n",
    "axes[0].set_ylabel(\"Years\")\n",
    "axes[0].axhline(y=15, color=\"red\")  # Min age\n",
    "axes[0].axhline(y=60, color=\"red\") # Max age\n",
    "\n",
    "bplot2 = axes[1].boxplot([mega_bouts[\"height\"].dropna(), mega_bouts[\"reach\"].dropna()], patch_artist=True,\n",
    "                         labels=[\"Height\", \"Reach\"])\n",
    "axes[1].set_title(\"Boxplot for Height and Reach\")\n",
    "axes[1].set_ylabel(\"Centimeters\")\n",
    "axes[1].axhline(y=147, color=\"red\") # Min height\n",
    "axes[1].axhline(y=224, color=\"red\") # Max height\n",
    "axes[1].axhline(y=130, color=\"orange\") # Min reach\n",
    "axes[1].axhline(y=250, color=\"orange\") # Max reach\n",
    "\n",
    "bplot3 = axes[2].boxplot(mega_bouts[\"weight\"].dropna(), patch_artist=True, labels=[\"Weight\"])\n",
    "axes[2].set_title(\"Boxplot for Weight\")\n",
    "axes[2].set_ylabel(\"Pounds\")\n",
    "axes[2].axhline(y=77, color=\"red\") # Min weight\n",
    "axes[2].axhline(y=350, color=\"red\") # Max weight\n",
    "\n",
    "for bplot in (bplot1, bplot2, bplot3):\n",
    "    for patch, color in zip(bplot[\"boxes\"], colors):\n",
    "        patch.set_facecolor(color)\n",
    "        patch.set_alpha(0.8)\n",
    "\n",
    "plt.show()"
   ]
  },
  {
   "attachments": {},
   "cell_type": "markdown",
   "metadata": {},
   "source": [
    "Age, height, reach, and weight are now within the sensible limits. We proceed by running histograms for the quantitative variables."
   ]
  },
  {
   "cell_type": "code",
   "execution_count": 10,
   "metadata": {
    "scrolled": false
   },
   "outputs": [
    {
     "data": {
      "image/png": "[encoded data removed]",
      "text/plain": [
       "<matplotlib.figure.Figure at 0x1105e5be0>"
      ]
     },
     "metadata": {},
     "output_type": "display_data"
    }
   ],
   "source": [
    "bins_num = 30\n",
    "\n",
    "fig = plt.figure(figsize=(20, 25))\n",
    "axes = fig.subplots(4, 2)\n",
    "axes[0, 0].hist(mega_bouts[\"age\"], bins=bins_num, color=colors[0])\n",
    "axes[0, 0].set_title(\"Boxer Age\")\n",
    "axes[0, 0].set_xlabel(\"Years\")\n",
    "\n",
    "axes[0, 1].hist(mega_bouts[\"height\"], bins=bins_num, color=colors[0])\n",
    "axes[0, 1].set_title(\"Boxer Height\")\n",
    "axes[0, 1].set_xlabel(\"Centimeters\")\n",
    "\n",
    "axes[1, 0].hist(mega_bouts[\"reach\"], bins=bins_num, color=colors[0])\n",
    "axes[1, 0].set_title(\"Boxer Reach\")\n",
    "axes[1, 0].set_xlabel(\"Centimeters\")\n",
    "\n",
    "axes[1, 1].hist(mega_bouts[\"weight\"], bins=bins_num, color=colors[0])\n",
    "axes[1, 1].set_title(\"Boxer Weight\")\n",
    "axes[1, 1].set_xlabel(\"Pounds\")\n",
    "\n",
    "axes[2, 0].hist(mega_bouts[\"won\"], bins=bins_num, color=colors[0])\n",
    "axes[2, 0].set_title(\"Career Won\")\n",
    "axes[2, 0].set_xlabel(\"Number of Wins\")\n",
    "\n",
    "axes[2, 1].hist(mega_bouts[\"lost\"], bins=bins_num, color=colors[0])\n",
    "axes[2, 1].set_title(\"Career Lost\")\n",
    "axes[2, 1].set_xlabel(\"Number of Losses\")\n",
    "\n",
    "axes[3, 0].hist(mega_bouts[\"drawn\"], bins=bins_num, color=colors[0])\n",
    "axes[3, 0].set_title(\"Career Drawn\")\n",
    "axes[3, 0].set_xlabel(\"Number of Draws\")\n",
    "\n",
    "axes[3, 1].hist(mega_bouts[\"kos\"], bins=bins_num, color=colors[0])\n",
    "axes[3, 1].set_title(\"Career Wins by Knockout\")\n",
    "axes[3, 1].set_xlabel(\"Number of Knockouts\")\n",
    "\n",
    "plt.show()"
   ]
  },
  {
   "cell_type": "markdown",
   "metadata": {},
   "source": [
    "The distributions of age, height, reach, and weight are roughly normally distributed, but all show a right skew. Career wins, losses, draws, and knockout distributions are all heavily skewed to the right."
   ]
  },
  {
   "cell_type": "code",
   "execution_count": 11,
   "metadata": {
    "scrolled": true
   },
   "outputs": [
    {
     "data": {
      "image/png": "[encoded data removed]",
      "text/plain": [
       "<matplotlib.figure.Figure at 0x10cfa0ef0>"
      ]
     },
     "metadata": {},
     "output_type": "display_data"
    }
   ],
   "source": [
    "bins_num = 30\n",
    "\n",
    "fig = plt.figure(figsize=(18, 5))\n",
    "axes = fig.subplots(1, 3)\n",
    "axes[0].hist(mega_bouts[\"judge1\"].dropna(), bins=bins_num, color=colors[0])\n",
    "axes[0].set_title(\"Points Awarded: Judge 1\")\n",
    "axes[0].set_xlabel(\"Points\")\n",
    "\n",
    "axes[1].hist(mega_bouts[\"judge2\"].dropna(), bins=bins_num, color=colors[0])\n",
    "axes[1].set_title(\"Points Awarded: Judge 2\")\n",
    "axes[1].set_xlabel(\"Points\")\n",
    "\n",
    "axes[2].hist(mega_bouts[\"judge3\"].dropna(), bins=bins_num, color=colors[0])\n",
    "axes[2].set_title(\"Points Awarded: Judge 3\")\n",
    "axes[2].set_xlabel(\"Points\")\n",
    "\n",
    "plt.show()"
   ]
  },
  {
   "cell_type": "markdown",
   "metadata": {},
   "source": [
    "### I'm not sure how to descibe these distributions."
   ]
  },
  {
   "cell_type": "markdown",
   "metadata": {},
   "source": [
    "Next we run a bar chart and to see how boxing bouts are typically decided. I pulled this data from the original dataset (before the transformation) to avoid double counting of result types. "
   ]
  },
  {
   "cell_type": "code",
   "execution_count": 12,
   "metadata": {
    "scrolled": false
   },
   "outputs": [
    {
     "data": {
      "image/png": "[encoded data removed]",
      "text/plain": [
       "<matplotlib.figure.Figure at 0x10d5afcc0>"
      ]
     },
     "metadata": {},
     "output_type": "display_data"
    }
   ],
   "source": [
    "decision_values = bouts[\"decision\"].value_counts().values\n",
    "decision_labels = bouts[\"decision\"].value_counts().index\n",
    "bar_width = 0.75\n",
    "\n",
    "fig = plt.figure(figsize=(10, 6))\n",
    "ax = fig.subplots()\n",
    "ax.bar(decision_labels, decision_values, bar_width, color=colors[1])\n",
    "ax.set_title(\"Boxing Bout Result Types\")\n",
    "ax.set_xlabel(\"Decision\")\n",
    "ax.set_ylabel(\"Count\")\n",
    "plt.show()"
   ]
  },
  {
   "cell_type": "markdown",
   "metadata": {},
   "source": [
    "We can see that the most common decision result is PTS (win on points). Per [BoxRec](http://boxrec.com/media/index.php/BoxRec_Fight_Record_Codes), this is a generic category for a points win where it is unknown how the judges scored the match.\n",
    "\n",
    "Overall, most boxing matches are decided by PTS, TKO (technical knockout - the referee stops the fight due to, in the referee's judgment,  a boxer not being in a fit condition to continue), KO (knockout), and UD (unanimous decision - a points win where all three judges have scored in agreement).\n",
    "\n",
    "The remaining results are  NWS (newspaper decision - [strange and interesting](http://boxrec.com/media/index.php/Newspaper_decision)), SD (split decision - two judges score in favor of one boxer, the other judge scores in favor of the other boxer), MD (majority decision - two judges score in favor of one boxer, the other judge scores in favor of a draw), RTD (retired between rounds - basically any fight stopped between rounds when the boxer or the boxer's team refuses to continue the fight), DQ (diqulified due to rule infringment and/or excessive fouls), and TD (techincal decision - losing the fight for headbutting the other boxer).\n",
    "\n",
    "From this, we can see that referees and judges have a substantial impact and say in the outcomes of \n",
    "boxing bouts."
   ]
  },
  {
   "cell_type": "markdown",
   "metadata": {},
   "source": [
    "## Analytic Questions"
   ]
  },
  {
   "cell_type": "markdown",
   "metadata": {},
   "source": [
    "### #1 Orthodox or southpaw boxers: who does better?\n",
    "Is there any advantage to either boxing stance? First we will look at bar chart showing the proportion of wins, losses, and draws in the dataset."
   ]
  },
  {
   "cell_type": "code",
   "execution_count": 13,
   "metadata": {
    "scrolled": false
   },
   "outputs": [
    {
     "data": {
      "image/png": "[encoded data removed]",
      "text/plain": [
       "<matplotlib.figure.Figure at 0x10d116b00>"
      ]
     },
     "metadata": {},
     "output_type": "display_data"
    }
   ],
   "source": [
    "result_values = mega_bouts[\"result\"].value_counts().values\n",
    "result_labels = mega_bouts[\"result\"].value_counts().index\n",
    "bar_width = 0.75\n",
    "\n",
    "fig = plt.figure(figsize=(10, 6))\n",
    "ax = fig.subplots()\n",
    "ax.bar(result_labels, result_values, bar_width, color=colors[0])\n",
    "ax.set_title(\"Results\")\n",
    "ax.set_xlabel(\"Result\")\n",
    "ax.set_ylabel(\"Count\")\n",
    "plt.show()"
   ]
  },
  {
   "cell_type": "markdown",
   "metadata": {},
   "source": [
    "We can see that most matches are decisive with few ending in a draw. Next we look at the proportion of orthodox to southpaw boxers."
   ]
  },
  {
   "cell_type": "code",
   "execution_count": 14,
   "metadata": {},
   "outputs": [
    {
     "data": {
      "image/png": "[encoded data removed]",
      "text/plain": [
       "<matplotlib.figure.Figure at 0x10d0441d0>"
      ]
     },
     "metadata": {},
     "output_type": "display_data"
    }
   ],
   "source": [
    "stance_values = mega_bouts[\"stance\"].value_counts().values\n",
    "stance_labels = mega_bouts[\"stance\"].value_counts().index\n",
    "bar_width = 0.75\n",
    "\n",
    "fig = plt.figure(figsize=(10, 6))\n",
    "ax = fig.subplots()\n",
    "ax.bar(stance_labels, stance_values, bar_width, color=colors[0])\n",
    "ax.set_title(\"Boxer Stance\")\n",
    "ax.set_xlabel(\"Stance\")\n",
    "ax.set_ylabel(\"Count\")\n",
    "plt.show()"
   ]
  },
  {
   "cell_type": "markdown",
   "metadata": {},
   "source": [
    "There are a substantially many more orthodox stance fighters. Finally, we calculate the winning frequency both orthodox and southpaw boxers and graph the results. I define winning frequency as the ratio of wins to total bouts."
   ]
  },
  {
   "cell_type": "code",
   "execution_count": 15,
   "metadata": {
    "scrolled": false
   },
   "outputs": [
    {
     "data": {
      "image/png": "[encoded data removed]",
      "text/plain": [
       "<matplotlib.figure.Figure at 0x10d044860>"
      ]
     },
     "metadata": {},
     "output_type": "display_data"
    },
    {
     "name": "stdout",
     "output_type": "stream",
     "text": [
      "Orthodox winning frequency: 0.7241357973764541\n",
      "Southpaw winning frequency: 0.728843736908253\n"
     ]
    }
   ],
   "source": [
    "# Calculate the winning frequency of orthodox stance boxers\n",
    "# orthodox_wins / (orthodox_wins + orthodox_losses + orthodox_draws)\n",
    "orthodox_win_frq = (mega_bouts[(mega_bouts[\"stance\"] == \"orthodox\") & (mega_bouts[\"result\"] == \"won\")][\"result\"].count()) / (mega_bouts[(mega_bouts[\"stance\"] == \"orthodox\") & (mega_bouts[\"result\"] == \"won\")][\"result\"].count() +\n",
    "mega_bouts[(mega_bouts[\"stance\"] == \"orthodox\") & (mega_bouts[\"result\"] == \"lost\")][\"result\"].count() +\n",
    "mega_bouts[(mega_bouts[\"stance\"] == \"orthodox\") & (mega_bouts[\"result\"] == \"draw\")][\"result\"].count())\n",
    "\n",
    "# Calculate the winning frequency of southpaw stance boxers\n",
    "# southpaw_wins / (southpaw_wins + southpaw_losses + southpaw_draws)\n",
    "southpaw_win_frq = (mega_bouts[(mega_bouts[\"stance\"] == \"southpaw\") & (mega_bouts[\"result\"] == \"won\")][\"result\"].count()) / (mega_bouts[(mega_bouts[\"stance\"] == \"southpaw\") & (mega_bouts[\"result\"] == \"won\")][\"result\"].count() +\n",
    "mega_bouts[(mega_bouts[\"stance\"] == \"southpaw\") & (mega_bouts[\"result\"] == \"lost\")][\"result\"].count() +\n",
    "mega_bouts[(mega_bouts[\"stance\"] == \"southpaw\") & (mega_bouts[\"result\"] == \"draw\")][\"result\"].count())\n",
    "\n",
    "stance_values = mega_bouts[\"stance\"].value_counts().values\n",
    "stance_labels = mega_bouts[\"stance\"].value_counts().index\n",
    "bar_width = 0.75\n",
    "\n",
    "fig = plt.figure(figsize=(10, 6))\n",
    "ax = fig.subplots()\n",
    "ax.bar([\"Orthodox\", \"Southpaw\"], [orthodox_win_frq, southpaw_win_frq], bar_width, color=colors[1])\n",
    "ax.set_title(\"Boxer Stance Winning Frequency\")\n",
    "ax.set_xlabel(\"Stance\")\n",
    "ax.set_ylabel(\"Winning Frequency\")\n",
    "plt.show()\n",
    "\n",
    "print(\"Orthodox winning frequency: {}\".format(orthodox_win_frq))\n",
    "print(\"Southpaw winning frequency: {}\".format(southpaw_win_frq))"
   ]
  },
  {
   "cell_type": "markdown",
   "metadata": {},
   "source": [
    "It turns out that orthodox and southpaw boxers have almost the same winning frequency. We conclude that neither stance seems to have an advantage."
   ]
  },
  {
   "cell_type": "markdown",
   "metadata": {},
   "source": [
    "### #2 What factors play roles in winning a boxing bout?\n",
    "Are the variables age, height, reach, and weight significant factors in determining the winner of a boxing bout? To investigate this, we divide the data into two groups by result (“won” or “lost”) and use the t-statistic to test if the group mean for each of the before mentioned variables are significantly different.\n",
    "\n",
    "The tests are run first without comment and discussed collectively at the end."
   ]
  },
  {
   "cell_type": "code",
   "execution_count": 30,
   "metadata": {},
   "outputs": [],
   "source": [
    "# Create an empty dataframe to store results\n",
    "results_df = pd.DataFrame(index=[\"Age\", \"Height\", \"Reach\", \"Weight\"],\n",
    "                          columns=[\"t-stat\", \"p-value\", \"winner_group_mean\", \"loser_group_mean\"])\n",
    "\n",
    "# Define a function for the t-test and formatted output\n",
    "def t_testing(sample1, sample2, labels, var_name, units=\"\", append=True):\n",
    "    \n",
    "    plt.figure(figsize=(12, 5))\n",
    "    plt.subplot(1, 2, 1)\n",
    "    plt.hist(sample1, alpha=0.5, bins=20, color=colors[0], label=labels[0])\n",
    "    plt.hist(sample2, alpha=0.5, bins=20, color=colors[2], label=labels[1])\n",
    "    plt.title(\"Histogram of {}\".format(var_name))\n",
    "    plt.xlabel(units)\n",
    "    plt.legend()\n",
    "    plt.show()\n",
    "\n",
    "    t_test_result = ttest_ind(sample2, sample1, equal_var=False)\n",
    "    \n",
    "    if append:\n",
    "        results_df.loc[var_name][\"t-stat\"] = t_test_result[0]\n",
    "        results_df.loc[var_name][\"p-value\"] = t_test_result[1]\n",
    "        results_df.loc[var_name][\"winner_group_mean\"] = np.mean(sample1)\n",
    "        results_df.loc[var_name][\"loser_group_mean\"] = np.mean(sample2)\n",
    "\n",
    "    print(\"Mean of sample1 ({}): {}\".format(labels[0], np.mean(sample1)))\n",
    "    print(\"STD of sample1 ({}): {}\".format(labels[0], np.std(sample1)))\n",
    "    print()\n",
    "    print(\"Mean of sample2 ({}): {}\".format(labels[1], np.mean(sample2)))\n",
    "    print(\"STD of sample2 ({}): {}\".format(labels[1], np.std(sample2)))\n",
    "    print()\n",
    "    print(\"t-stat: {}\\np-value: {}\".format(t_test_result[0], t_test_result[1]))\n",
    "    \n"
   ]
  },
  {
   "cell_type": "code",
   "execution_count": 31,
   "metadata": {},
   "outputs": [
    {
     "data": {
      "image/png": "[encoded data removed]",
      "text/plain": [
       "<matplotlib.figure.Figure at 0x1a115bed68>"
      ]
     },
     "metadata": {},
     "output_type": "display_data"
    },
    {
     "name": "stdout",
     "output_type": "stream",
     "text": [
      "Mean of sample1 (won): 24.984918891517406\n",
      "STD of sample1 (won): 4.9510258513344265\n",
      "\n",
      "Mean of sample2 (lost): 28.006737017826268\n",
      "STD of sample2 (lost): 5.560527683272274\n",
      "\n",
      "t-stat: 62.186222635377604\n",
      "p-value: 0.0\n"
     ]
    }
   ],
   "source": [
    "t_testing(mega_bouts[mega_bouts[\"result\"] == \"won\"][\"age\"],\n",
    "          mega_bouts[mega_bouts[\"result\"] == \"lost\"][\"age\"], (\"won\", \"lost\"), \"Age\", \"Years\")"
   ]
  },
  {
   "cell_type": "code",
   "execution_count": 32,
   "metadata": {},
   "outputs": [
    {
     "data": {
      "image/png": "[encoded data removed]",
      "text/plain": [
       "<matplotlib.figure.Figure at 0x11045d828>"
      ]
     },
     "metadata": {},
     "output_type": "display_data"
    },
    {
     "name": "stdout",
     "output_type": "stream",
     "text": [
      "Mean of sample1 (won): 174.6968781683001\n",
      "STD of sample1 (won): 9.118976388228548\n",
      "\n",
      "Mean of sample2 (lost): 174.2215465331187\n",
      "STD of sample2 (lost): 9.044333045540315\n",
      "\n",
      "t-stat: -5.836079723187594\n",
      "p-value: 5.399858579825885e-09\n"
     ]
    }
   ],
   "source": [
    "t_testing(mega_bouts[mega_bouts[\"result\"] == \"won\"][\"height\"],\n",
    "          mega_bouts[mega_bouts[\"result\"] == \"lost\"][\"height\"], (\"won\", \"lost\"), \"Height\", \"Centimeters\")"
   ]
  },
  {
   "cell_type": "code",
   "execution_count": 33,
   "metadata": {},
   "outputs": [
    {
     "data": {
      "image/png": "[encoded data removed]",
      "text/plain": [
       "<matplotlib.figure.Figure at 0x1105040f0>"
      ]
     },
     "metadata": {},
     "output_type": "display_data"
    },
    {
     "name": "stdout",
     "output_type": "stream",
     "text": [
      "Mean of sample1 (won): 179.83465697870903\n",
      "STD of sample1 (won): 11.443151227369311\n",
      "\n",
      "Mean of sample2 (lost): 179.37697490013713\n",
      "STD of sample2 (lost): 11.400759099161384\n",
      "\n",
      "t-stat: -4.463215117340888\n",
      "p-value: 8.103715409014988e-06\n"
     ]
    }
   ],
   "source": [
    "t_testing(mega_bouts[mega_bouts[\"result\"] == \"won\"][\"reach\"],\n",
    "          mega_bouts[mega_bouts[\"result\"] == \"lost\"][\"reach\"], (\"won\", \"lost\"), \"Reach\", \"Centimeters\")"
   ]
  },
  {
   "cell_type": "code",
   "execution_count": 34,
   "metadata": {
    "scrolled": false
   },
   "outputs": [
    {
     "data": {
      "image/png": "[encoded data removed]",
      "text/plain": [
       "<matplotlib.figure.Figure at 0x1a1218e780>"
      ]
     },
     "metadata": {},
     "output_type": "display_data"
    },
    {
     "name": "stdout",
     "output_type": "stream",
     "text": [
      "Mean of sample1 (won): 151.6146713416695\n",
      "STD of sample1 (won): 33.3121550753208\n",
      "\n",
      "Mean of sample2 (lost): 154.20062004411852\n",
      "STD of sample2 (lost): 35.67286454691434\n",
      "\n",
      "t-stat: 8.205712857855874\n",
      "p-value: 2.3903874448927327e-16\n"
     ]
    }
   ],
   "source": [
    "t_testing(mega_bouts[mega_bouts[\"result\"] == \"won\"][\"weight\"],\n",
    "          mega_bouts[mega_bouts[\"result\"] == \"lost\"][\"weight\"], (\"won\", \"lost\"), \"Weight\", \"Pounds\")"
   ]
  },
  {
   "cell_type": "code",
   "execution_count": 35,
   "metadata": {
    "scrolled": true
   },
   "outputs": [
    {
     "data": {
      "text/html": [
       "<div>\n",
       "<style scoped>\n",
       "    .dataframe tbody tr th:only-of-type {\n",
       "        vertical-align: middle;\n",
       "    }\n",
       "\n",
       "    .dataframe tbody tr th {\n",
       "        vertical-align: top;\n",
       "    }\n",
       "\n",
       "    .dataframe thead th {\n",
       "        text-align: right;\n",
       "    }\n",
       "</style>\n",
       "<table border=\"1\" class=\"dataframe\">\n",
       "  <thead>\n",
       "    <tr style=\"text-align: right;\">\n",
       "      <th></th>\n",
       "      <th>t-stat</th>\n",
       "      <th>p-value</th>\n",
       "      <th>winner_group_mean</th>\n",
       "      <th>loser_group_mean</th>\n",
       "    </tr>\n",
       "  </thead>\n",
       "  <tbody>\n",
       "    <tr>\n",
       "      <th>Age</th>\n",
       "      <td>62.1862</td>\n",
       "      <td>0</td>\n",
       "      <td>24.9849</td>\n",
       "      <td>28.0067</td>\n",
       "    </tr>\n",
       "    <tr>\n",
       "      <th>Weight</th>\n",
       "      <td>8.20571</td>\n",
       "      <td>2.39039e-16</td>\n",
       "      <td>151.615</td>\n",
       "      <td>154.201</td>\n",
       "    </tr>\n",
       "    <tr>\n",
       "      <th>Reach</th>\n",
       "      <td>-4.46322</td>\n",
       "      <td>8.10372e-06</td>\n",
       "      <td>179.835</td>\n",
       "      <td>179.377</td>\n",
       "    </tr>\n",
       "    <tr>\n",
       "      <th>Height</th>\n",
       "      <td>-5.83608</td>\n",
       "      <td>5.39986e-09</td>\n",
       "      <td>174.697</td>\n",
       "      <td>174.222</td>\n",
       "    </tr>\n",
       "  </tbody>\n",
       "</table>\n",
       "</div>"
      ],
      "text/plain": [
       "         t-stat      p-value winner_group_mean loser_group_mean\n",
       "Age     62.1862            0           24.9849          28.0067\n",
       "Weight  8.20571  2.39039e-16           151.615          154.201\n",
       "Reach  -4.46322  8.10372e-06           179.835          179.377\n",
       "Height -5.83608  5.39986e-09           174.697          174.222"
      ]
     },
     "execution_count": 35,
     "metadata": {},
     "output_type": "execute_result"
    }
   ],
   "source": [
    "results_df.sort_values(by=\"t-stat\", ascending=False)"
   ]
  },
  {
   "cell_type": "markdown",
   "metadata": {},
   "source": [
    "We note the following from the results:\n",
    "* The winner tends to be younger than the loser\n",
    "* The winner tends to lighter in weight than the loser\n",
    "* The winner tends to have a longer reach than the loser\n",
    "* The winner tends to be taller than the loser\n",
    "\n",
    "We conclude, as p-values show, all the above are statistically significant factors in the difference between the winner’s group and loser’s group.\n",
    "\n",
    "Also, notice the similarity between reach and height. Below is scatter plot of the two variables:"
   ]
  },
  {
   "cell_type": "code",
   "execution_count": 36,
   "metadata": {
    "scrolled": true
   },
   "outputs": [
    {
     "data": {
      "image/png": "[encoded data removed]",
      "text/plain": [
       "<matplotlib.figure.Figure at 0x10ce889b0>"
      ]
     },
     "metadata": {},
     "output_type": "display_data"
    }
   ],
   "source": [
    "fig = plt.figure()\n",
    "ax = fig.subplots()\n",
    "ax.scatter(x=mega_bouts[\"height\"], y=mega_bouts[\"reach\"], s=10, marker=\"D\", color=colors[1], alpha=0.5)\n",
    "ax.set_title(\"Height vs. Reach\")\n",
    "ax.set_xlabel(\"Reach (cms)\")\n",
    "ax.set_ylabel(\"Height (cms)\")\n",
    "plt.show()"
   ]
  },
  {
   "cell_type": "markdown",
   "metadata": {},
   "source": [
    "The plot shows a strong positive association between reach and height. Given this, the similarity between the two makes sense. "
   ]
  },
  {
   "cell_type": "markdown",
   "metadata": {},
   "source": [
    "### #3 Does a boxer's career record factor in to winning a bout?\n",
    "Does a boxer’s past success tell us anything about the outcome (win/lose) of a boxing bout? To investigate this, we first calculate the boxer’s career winning frequency and plot a histogram of the new variable."
   ]
  },
  {
   "cell_type": "code",
   "execution_count": 37,
   "metadata": {},
   "outputs": [
    {
     "data": {
      "text/plain": [
       "count    65068.000000\n",
       "mean         0.827908\n",
       "std          0.177159\n",
       "min          0.000000\n",
       "25%          0.746667\n",
       "50%          0.865441\n",
       "75%          0.970588\n",
       "max          1.000000\n",
       "Name: win_freq, dtype: float64"
      ]
     },
     "execution_count": 37,
     "metadata": {},
     "output_type": "execute_result"
    }
   ],
   "source": [
    "# Calculate the career winning frequency for each boxer\n",
    "# won / (won + lost + drawn)\n",
    "mega_bouts[\"win_freq\"] = mega_bouts[\"won\"] / (mega_bouts[\"won\"] + mega_bouts[\"lost\"] + mega_bouts[\"drawn\"])\n",
    "mega_bouts[\"win_freq\"].describe()"
   ]
  },
  {
   "cell_type": "code",
   "execution_count": 38,
   "metadata": {},
   "outputs": [
    {
     "data": {
      "image/png": "[encoded data removed]",
      "text/plain": [
       "<matplotlib.figure.Figure at 0x1a121c1c50>"
      ]
     },
     "metadata": {},
     "output_type": "display_data"
    }
   ],
   "source": [
    "bins_num = 30\n",
    "\n",
    "fig = plt.figure(figsize=(5, 5))\n",
    "ax = fig.subplots()\n",
    "ax.hist(mega_bouts[\"win_freq\"].dropna(), bins=bins_num, color=colors[0])\n",
    "ax.set_title(\"Winning Frequency\")\n",
    "\n",
    "plt.show()"
   ]
  },
  {
   "cell_type": "markdown",
   "metadata": {},
   "source": [
    "The distribution shows we have a lot of undefeated boxers and a heavy left skew.\n",
    "\n",
    "Next, we again use the t-statistic to test for significance of differences between the means for the  winner’s group win_freq and the loser’s group win_freq."
   ]
  },
  {
   "cell_type": "code",
   "execution_count": 39,
   "metadata": {
    "scrolled": false
   },
   "outputs": [
    {
     "data": {
      "image/png": "[encoded data removed]",
      "text/plain": [
       "<matplotlib.figure.Figure at 0x1a12133be0>"
      ]
     },
     "metadata": {},
     "output_type": "display_data"
    },
    {
     "name": "stdout",
     "output_type": "stream",
     "text": [
      "Mean of sample1 (won): 0.8674305658025312\n",
      "STD of sample1 (won): 0.14554322090599214\n",
      "\n",
      "Mean of sample2 (lost): 0.7270981742061203\n",
      "STD of sample2 (lost): 0.21011762931535707\n",
      "\n",
      "t-stat: -79.2385288664511\n",
      "p-value: 0.0\n"
     ]
    }
   ],
   "source": [
    "t_testing(mega_bouts[mega_bouts[\"result\"] == \"won\"][\"win_freq\"].dropna(),\n",
    "          mega_bouts[mega_bouts[\"result\"] == \"lost\"][\"win_freq\"].dropna(), (\"won\", \"lost\"), \"Winning Frequency\",\n",
    "         append=False)"
   ]
  },
  {
   "cell_type": "markdown",
   "metadata": {},
   "source": [
    "We conclude that the difference between the means is significant, and that past career success is an important factor differentiating the winner of a bout between the loser of a bout. Specifically, the winner of the bout tends to have a higher career winning frequency."
   ]
  },
  {
   "attachments": {},
   "cell_type": "markdown",
   "metadata": {},
   "source": [
    "### #4 Is a boxer's win by knockout history in anyway factor in to winning a bout?\n",
    "\n",
    "Does a boxer’s record of wins by knockout tell us anything about the match outcome? We calculate the boxer’s win by knockout frequency, which I define as the ratio of wins-by-knockout to wins, and run the usual description statistics and histogram plot on the new variable."
   ]
  },
  {
   "cell_type": "code",
   "execution_count": 44,
   "metadata": {},
   "outputs": [
    {
     "data": {
      "text/plain": [
       "count    64591.000000\n",
       "mean         0.585754\n",
       "std          0.241289\n",
       "min          0.000000\n",
       "25%          0.424242\n",
       "50%          0.603774\n",
       "75%          0.755556\n",
       "max          1.000000\n",
       "Name: kos_freq, dtype: float64"
      ]
     },
     "execution_count": 44,
     "metadata": {},
     "output_type": "execute_result"
    }
   ],
   "source": [
    "# Calculate the career wins by knockout (kos) frequency for each boxer\n",
    "# kos / won\n",
    "\n",
    "mega_bouts[\"kos_freq\"] = mega_bouts[\"kos\"] / mega_bouts[\"won\"]\n",
    "mega_bouts[\"kos_freq\"].describe()"
   ]
  },
  {
   "cell_type": "code",
   "execution_count": 45,
   "metadata": {
    "scrolled": true
   },
   "outputs": [
    {
     "data": {
      "image/png": "[encoded data removed]",
      "text/plain": [
       "<matplotlib.figure.Figure at 0x10d0502b0>"
      ]
     },
     "metadata": {},
     "output_type": "display_data"
    }
   ],
   "source": [
    "bins_num = 30\n",
    "\n",
    "fig = plt.figure(figsize=(5, 5))\n",
    "ax = fig.subplots()\n",
    "ax.hist(mega_bouts[\"kos_freq\"].dropna(), bins=bins_num, color=colors[0])\n",
    "ax.set_title(\"Wins by Knockout Frequency\")\n",
    "\n",
    "plt.show()"
   ]
  },
  {
   "attachments": {},
   "cell_type": "markdown",
   "metadata": {},
   "source": [
    "The distribution is roughly normal with a left skew. As with winning frequency, there are a lot of boxer’s with perfect scores (1.0) in this metric.\n",
    "\n",
    "Again, we calculate the t-statistic to test for significance of differences between the means for the winner’s group  and the loser’s group knockout frequency."
   ]
  },
  {
   "cell_type": "code",
   "execution_count": 46,
   "metadata": {
    "scrolled": false
   },
   "outputs": [
    {
     "data": {
      "image/png": "[encoded data removed]",
      "text/plain": [
       "<matplotlib.figure.Figure at 0x1a115c3160>"
      ]
     },
     "metadata": {},
     "output_type": "display_data"
    },
    {
     "name": "stdout",
     "output_type": "stream",
     "text": [
      "Mean of sample1 (won): 0.6028517277059775\n",
      "STD of sample1 (won): 0.24145713863740842\n",
      "\n",
      "Mean of sample2 (lost): 0.551908394015014\n",
      "STD of sample2 (lost): 0.23187771313629119\n",
      "\n",
      "t-stat: -23.79901550793483\n",
      "p-value: 5.0525421527732344e-124\n"
     ]
    }
   ],
   "source": [
    "t_testing(mega_bouts[mega_bouts[\"result\"] == \"won\"][\"kos_freq\"].dropna(),\n",
    "          mega_bouts[mega_bouts[\"result\"] == \"lost\"][\"kos_freq\"].dropna(), (\"won\", \"lost\"), \"Knockout Frequency\",\n",
    "         append=False)"
   ]
  },
  {
   "attachments": {},
   "cell_type": "markdown",
   "metadata": {},
   "source": [
    "We conclude that the difference between the means is significant, and that higher knockout frequency is an important factor differentiating the winner of a bout between the loser of a bout."
   ]
  },
  {
   "attachments": {},
   "cell_type": "markdown",
   "metadata": {},
   "source": [
    "### #5 Is a boxer's win by knockout history a factor to winning a bout by knockout?\n",
    "\n",
    "Does a boxer’s record of wins by knockout tell us anything about winning the current bout by a knockout? This could be taken to show if there is skill to winning by knockout as opposed to luck.\n",
    "\n",
    "To examine this, we spit the data into two groups: 1) boxers who won the bout and won by knockout, and 2) boxers who won the bout, but won by means other than knockout (PTS, TKO, etc.). We then use the t-statistic to test if there is a significant difference between the means of the two groups regarding knockout frequency (the variable we calculated to answer the question 4 above)."
   ]
  },
  {
   "cell_type": "code",
   "execution_count": 47,
   "metadata": {},
   "outputs": [
    {
     "data": {
      "image/png": "[encoded data removed]",
      "text/plain": [
       "<matplotlib.figure.Figure at 0x10fe57518>"
      ]
     },
     "metadata": {},
     "output_type": "display_data"
    },
    {
     "name": "stdout",
     "output_type": "stream",
     "text": [
      "Mean of sample1 (won by KO): 0.6643420091526926\n",
      "STD of sample1 (won by KO): 0.222981766891394\n",
      "\n",
      "Mean of sample2 (did not win by KO): 0.5858443590515965\n",
      "STD of sample2 (did not win by KO): 0.24359763986087818\n",
      "\n",
      "t-stat: -30.45584313970466\n",
      "p-value: 1.9345314369194235e-198\n"
     ]
    }
   ],
   "source": [
    "won_and_ko = mega_bouts[(mega_bouts[\"result\"] == \"won\") & (mega_bouts[\"decision\"] == \"KO\")][\"kos_freq\"]\n",
    "won_and_not_ko = mega_bouts[(mega_bouts[\"result\"] == \"won\") & (mega_bouts[\"decision\"] != \"KO\")][\"kos_freq\"]\n",
    "t_testing(won_and_ko.dropna(), won_and_not_ko.dropna(), (\"won by KO\", \"did not win by KO\"), \"Knockout Frequency\",\n",
    "         append=False)"
   ]
  },
  {
   "cell_type": "markdown",
   "metadata": {},
   "source": [
    "We conclude that the difference between the means is significant. Thus, a higher knockout frequency is an important factor differentiating winning a bout by knockout and winning by means other than knockout. It would appear that winning by knockout involves some skill."
   ]
  },
  {
   "cell_type": "markdown",
   "metadata": {},
   "source": [
    "## Further Research?"
   ]
  },
  {
   "cell_type": "code",
   "execution_count": null,
   "metadata": {},
   "outputs": [],
   "source": []
  }
 ],
 "metadata": {
  "kernelspec": {
   "display_name": "Python 3",
   "language": "python",
   "name": "python3"
  },
  "language_info": {
   "codemirror_mode": {
    "name": "ipython",
    "version": 3
   },
   "file_extension": ".py",
   "mimetype": "text/x-python",
   "name": "python",
   "nbconvert_exporter": "python",
   "pygments_lexer": "ipython3",
   "version": "3.6.4"
  }
 },
 "nbformat": 4,
 "nbformat_minor": 2
}
