{
 "cells": [
  {
   "cell_type": "code",
   "execution_count": 158,
   "metadata": {},
   "outputs": [],
   "source": [
    "import time\n",
    "import numpy as np\n",
    "import pandas as pd\n",
    "import matplotlib.pyplot as plt\n",
    "\n",
    "from sklearn.pipeline import Pipeline\n",
    "from sklearn.preprocessing import LabelEncoder\n",
    "from sklearn.preprocessing import StandardScaler\n",
    "from sklearn.decomposition import PCA\n",
    "from sklearn.model_selection import train_test_split\n",
    "from sklearn.model_selection import cross_val_score\n",
    "from sklearn.model_selection import GridSearchCV\n",
    "from sklearn.model_selection import learning_curve\n",
    "from sklearn.linear_model import LogisticRegression\n",
    "from sklearn.linear_model import RidgeClassifier\n",
    "from sklearn.tree import DecisionTreeClassifier\n",
    "from sklearn.neighbors import KNeighborsClassifier\n",
    "from sklearn import ensemble\n",
    "\n",
    "%matplotlib inline"
   ]
  },
  {
   "cell_type": "code",
   "execution_count": 77,
   "metadata": {},
   "outputs": [
    {
     "name": "stdout",
     "output_type": "stream",
     "text": [
      "(569, 33)\n"
     ]
    },
    {
     "data": {
      "text/html": [
       "<div>\n",
       "<style scoped>\n",
       "    .dataframe tbody tr th:only-of-type {\n",
       "        vertical-align: middle;\n",
       "    }\n",
       "\n",
       "    .dataframe tbody tr th {\n",
       "        vertical-align: top;\n",
       "    }\n",
       "\n",
       "    .dataframe thead th {\n",
       "        text-align: right;\n",
       "    }\n",
       "</style>\n",
       "<table border=\"1\" class=\"dataframe\">\n",
       "  <thead>\n",
       "    <tr style=\"text-align: right;\">\n",
       "      <th></th>\n",
       "      <th>id</th>\n",
       "      <th>diagnosis</th>\n",
       "      <th>radius_mean</th>\n",
       "      <th>texture_mean</th>\n",
       "      <th>perimeter_mean</th>\n",
       "      <th>area_mean</th>\n",
       "      <th>smoothness_mean</th>\n",
       "      <th>compactness_mean</th>\n",
       "      <th>concavity_mean</th>\n",
       "      <th>concave points_mean</th>\n",
       "      <th>...</th>\n",
       "      <th>texture_worst</th>\n",
       "      <th>perimeter_worst</th>\n",
       "      <th>area_worst</th>\n",
       "      <th>smoothness_worst</th>\n",
       "      <th>compactness_worst</th>\n",
       "      <th>concavity_worst</th>\n",
       "      <th>concave points_worst</th>\n",
       "      <th>symmetry_worst</th>\n",
       "      <th>fractal_dimension_worst</th>\n",
       "      <th>Unnamed: 32</th>\n",
       "    </tr>\n",
       "  </thead>\n",
       "  <tbody>\n",
       "    <tr>\n",
       "      <th>0</th>\n",
       "      <td>842302</td>\n",
       "      <td>M</td>\n",
       "      <td>17.99</td>\n",
       "      <td>10.38</td>\n",
       "      <td>122.80</td>\n",
       "      <td>1001.0</td>\n",
       "      <td>0.11840</td>\n",
       "      <td>0.27760</td>\n",
       "      <td>0.3001</td>\n",
       "      <td>0.14710</td>\n",
       "      <td>...</td>\n",
       "      <td>17.33</td>\n",
       "      <td>184.60</td>\n",
       "      <td>2019.0</td>\n",
       "      <td>0.1622</td>\n",
       "      <td>0.6656</td>\n",
       "      <td>0.7119</td>\n",
       "      <td>0.2654</td>\n",
       "      <td>0.4601</td>\n",
       "      <td>0.11890</td>\n",
       "      <td>NaN</td>\n",
       "    </tr>\n",
       "    <tr>\n",
       "      <th>1</th>\n",
       "      <td>842517</td>\n",
       "      <td>M</td>\n",
       "      <td>20.57</td>\n",
       "      <td>17.77</td>\n",
       "      <td>132.90</td>\n",
       "      <td>1326.0</td>\n",
       "      <td>0.08474</td>\n",
       "      <td>0.07864</td>\n",
       "      <td>0.0869</td>\n",
       "      <td>0.07017</td>\n",
       "      <td>...</td>\n",
       "      <td>23.41</td>\n",
       "      <td>158.80</td>\n",
       "      <td>1956.0</td>\n",
       "      <td>0.1238</td>\n",
       "      <td>0.1866</td>\n",
       "      <td>0.2416</td>\n",
       "      <td>0.1860</td>\n",
       "      <td>0.2750</td>\n",
       "      <td>0.08902</td>\n",
       "      <td>NaN</td>\n",
       "    </tr>\n",
       "    <tr>\n",
       "      <th>2</th>\n",
       "      <td>84300903</td>\n",
       "      <td>M</td>\n",
       "      <td>19.69</td>\n",
       "      <td>21.25</td>\n",
       "      <td>130.00</td>\n",
       "      <td>1203.0</td>\n",
       "      <td>0.10960</td>\n",
       "      <td>0.15990</td>\n",
       "      <td>0.1974</td>\n",
       "      <td>0.12790</td>\n",
       "      <td>...</td>\n",
       "      <td>25.53</td>\n",
       "      <td>152.50</td>\n",
       "      <td>1709.0</td>\n",
       "      <td>0.1444</td>\n",
       "      <td>0.4245</td>\n",
       "      <td>0.4504</td>\n",
       "      <td>0.2430</td>\n",
       "      <td>0.3613</td>\n",
       "      <td>0.08758</td>\n",
       "      <td>NaN</td>\n",
       "    </tr>\n",
       "    <tr>\n",
       "      <th>3</th>\n",
       "      <td>84348301</td>\n",
       "      <td>M</td>\n",
       "      <td>11.42</td>\n",
       "      <td>20.38</td>\n",
       "      <td>77.58</td>\n",
       "      <td>386.1</td>\n",
       "      <td>0.14250</td>\n",
       "      <td>0.28390</td>\n",
       "      <td>0.2414</td>\n",
       "      <td>0.10520</td>\n",
       "      <td>...</td>\n",
       "      <td>26.50</td>\n",
       "      <td>98.87</td>\n",
       "      <td>567.7</td>\n",
       "      <td>0.2098</td>\n",
       "      <td>0.8663</td>\n",
       "      <td>0.6869</td>\n",
       "      <td>0.2575</td>\n",
       "      <td>0.6638</td>\n",
       "      <td>0.17300</td>\n",
       "      <td>NaN</td>\n",
       "    </tr>\n",
       "    <tr>\n",
       "      <th>4</th>\n",
       "      <td>84358402</td>\n",
       "      <td>M</td>\n",
       "      <td>20.29</td>\n",
       "      <td>14.34</td>\n",
       "      <td>135.10</td>\n",
       "      <td>1297.0</td>\n",
       "      <td>0.10030</td>\n",
       "      <td>0.13280</td>\n",
       "      <td>0.1980</td>\n",
       "      <td>0.10430</td>\n",
       "      <td>...</td>\n",
       "      <td>16.67</td>\n",
       "      <td>152.20</td>\n",
       "      <td>1575.0</td>\n",
       "      <td>0.1374</td>\n",
       "      <td>0.2050</td>\n",
       "      <td>0.4000</td>\n",
       "      <td>0.1625</td>\n",
       "      <td>0.2364</td>\n",
       "      <td>0.07678</td>\n",
       "      <td>NaN</td>\n",
       "    </tr>\n",
       "  </tbody>\n",
       "</table>\n",
       "<p>5 rows × 33 columns</p>\n",
       "</div>"
      ],
      "text/plain": [
       "         id diagnosis  radius_mean  texture_mean  perimeter_mean  area_mean  \\\n",
       "0    842302         M        17.99         10.38          122.80     1001.0   \n",
       "1    842517         M        20.57         17.77          132.90     1326.0   \n",
       "2  84300903         M        19.69         21.25          130.00     1203.0   \n",
       "3  84348301         M        11.42         20.38           77.58      386.1   \n",
       "4  84358402         M        20.29         14.34          135.10     1297.0   \n",
       "\n",
       "   smoothness_mean  compactness_mean  concavity_mean  concave points_mean  \\\n",
       "0          0.11840           0.27760          0.3001              0.14710   \n",
       "1          0.08474           0.07864          0.0869              0.07017   \n",
       "2          0.10960           0.15990          0.1974              0.12790   \n",
       "3          0.14250           0.28390          0.2414              0.10520   \n",
       "4          0.10030           0.13280          0.1980              0.10430   \n",
       "\n",
       "      ...       texture_worst  perimeter_worst  area_worst  smoothness_worst  \\\n",
       "0     ...               17.33           184.60      2019.0            0.1622   \n",
       "1     ...               23.41           158.80      1956.0            0.1238   \n",
       "2     ...               25.53           152.50      1709.0            0.1444   \n",
       "3     ...               26.50            98.87       567.7            0.2098   \n",
       "4     ...               16.67           152.20      1575.0            0.1374   \n",
       "\n",
       "   compactness_worst  concavity_worst  concave points_worst  symmetry_worst  \\\n",
       "0             0.6656           0.7119                0.2654          0.4601   \n",
       "1             0.1866           0.2416                0.1860          0.2750   \n",
       "2             0.4245           0.4504                0.2430          0.3613   \n",
       "3             0.8663           0.6869                0.2575          0.6638   \n",
       "4             0.2050           0.4000                0.1625          0.2364   \n",
       "\n",
       "   fractal_dimension_worst  Unnamed: 32  \n",
       "0                  0.11890          NaN  \n",
       "1                  0.08902          NaN  \n",
       "2                  0.08758          NaN  \n",
       "3                  0.17300          NaN  \n",
       "4                  0.07678          NaN  \n",
       "\n",
       "[5 rows x 33 columns]"
      ]
     },
     "execution_count": 77,
     "metadata": {},
     "output_type": "execute_result"
    }
   ],
   "source": [
    "df = pd.read_csv(\"data.csv\")\n",
    "print(df.shape)\n",
    "df.head()"
   ]
  },
  {
   "cell_type": "code",
   "execution_count": 78,
   "metadata": {},
   "outputs": [
    {
     "data": {
      "text/plain": [
       "diagnosis                  0\n",
       "radius_mean                0\n",
       "texture_mean               0\n",
       "perimeter_mean             0\n",
       "area_mean                  0\n",
       "smoothness_mean            0\n",
       "compactness_mean           0\n",
       "concavity_mean             0\n",
       "concave points_mean        0\n",
       "symmetry_mean              0\n",
       "fractal_dimension_mean     0\n",
       "radius_se                  0\n",
       "texture_se                 0\n",
       "perimeter_se               0\n",
       "area_se                    0\n",
       "smoothness_se              0\n",
       "compactness_se             0\n",
       "concavity_se               0\n",
       "concave points_se          0\n",
       "symmetry_se                0\n",
       "fractal_dimension_se       0\n",
       "radius_worst               0\n",
       "texture_worst              0\n",
       "perimeter_worst            0\n",
       "area_worst                 0\n",
       "smoothness_worst           0\n",
       "compactness_worst          0\n",
       "concavity_worst            0\n",
       "concave points_worst       0\n",
       "symmetry_worst             0\n",
       "fractal_dimension_worst    0\n",
       "dtype: int64"
      ]
     },
     "execution_count": 78,
     "metadata": {},
     "output_type": "execute_result"
    }
   ],
   "source": [
    "df.drop([\"id\", \"Unnamed: 32\"], axis=1, inplace=True)\n",
    "df.isnull().sum()"
   ]
  },
  {
   "cell_type": "code",
   "execution_count": 142,
   "metadata": {},
   "outputs": [
    {
     "data": {
      "text/plain": [
       "B    0.627417\n",
       "M    0.372583\n",
       "Name: diagnosis, dtype: float64"
      ]
     },
     "execution_count": 142,
     "metadata": {},
     "output_type": "execute_result"
    }
   ],
   "source": [
    "df[\"diagnosis\"].value_counts(normalize=True)"
   ]
  },
  {
   "cell_type": "code",
   "execution_count": 96,
   "metadata": {},
   "outputs": [],
   "source": [
    "# Prepare features and target variable\n",
    "X = df.drop(\"diagnosis\", axis=1)\n",
    "y = df[\"diagnosis\"]\n",
    "\n",
    "# Make target into numeric binary value\n",
    "le = LabelEncoder()\n",
    "y = le.fit_transform(y)\n",
    "\n",
    "# Create test and training sets\n",
    "X_train, X_test, y_train, y_test = train_test_split(X, y, test_size=0.3)"
   ]
  },
  {
   "cell_type": "markdown",
   "metadata": {},
   "source": [
    "## Logistic Regression"
   ]
  },
  {
   "cell_type": "code",
   "execution_count": 199,
   "metadata": {},
   "outputs": [],
   "source": [
    "model = [\"Logistic Regression\", \"Ridge Regression\", \"Lasso Regression\",\n",
    "         \"K Nearest Neighbors\", \"Decision Tree\", \"Random Forest\"]\n",
    "cross_val_acc = []\n",
    "cross_val_range = []\n",
    "test_acc = []\n",
    "run_time = []"
   ]
  },
  {
   "cell_type": "code",
   "execution_count": 200,
   "metadata": {},
   "outputs": [
    {
     "name": "stdout",
     "output_type": "stream",
     "text": [
      "GridSearch best score: 0.980\n",
      "GridSearch best param(s): {'log_reg__C': 1.0}\n",
      "Cross validation accuracy: 0.970\n",
      "Cross validation range: 0.038\n",
      "\n",
      "--- 0.35043 seconds ---\n"
     ]
    }
   ],
   "source": [
    "param_range = [0.0001, 0.001, 0.01, 0.1, 1.0, 10.0, 100.0, 1000.0]\n",
    "\n",
    "start_time = time.time()\n",
    "log_pipe = Pipeline([(\"scr\", StandardScaler()), (\"log_reg\", LogisticRegression())])\n",
    "gs = GridSearchCV(estimator=log_pipe,\n",
    "                 param_grid={\"log_reg__C\": param_range}, \n",
    "                 scoring=\"accuracy\", \n",
    "                 cv=2)\n",
    "gs = gs.fit(X_train, y_train)\n",
    "scores = cross_val_score(gs, X_train, y_train, scoring=\"accuracy\", cv=5)\n",
    "total_time = time.time() - start_time\n",
    "print(\"GridSearch best score: {:.3f}\".format(gs.best_score_))\n",
    "print(\"GridSearch best param(s): {}\".format(gs.best_params_))\n",
    "print(\"Cross validation accuracy: {:.3f}\\nCross validation range: {:.3f}\".format(np.mean(scores),\n",
    "                                                                                (np.max(scores) - np.min(scores))))\n",
    "print(\"\\n--- {:.5f} seconds ---\".format(total_time))"
   ]
  },
  {
   "cell_type": "code",
   "execution_count": 201,
   "metadata": {},
   "outputs": [
    {
     "data": {
      "text/plain": [
       "Pipeline(memory=None,\n",
       "     steps=[('scr', StandardScaler(copy=True, with_mean=True, with_std=True)), ('log_reg', LogisticRegression(C=1.0, class_weight=None, dual=False, fit_intercept=True,\n",
       "          intercept_scaling=1, max_iter=100, multi_class='ovr', n_jobs=1,\n",
       "          penalty='l2', random_state=None, solver='liblinear', tol=0.0001,\n",
       "          verbose=0, warm_start=False))])"
      ]
     },
     "execution_count": 201,
     "metadata": {},
     "output_type": "execute_result"
    }
   ],
   "source": [
    "log_reg_best = gs.best_estimator_\n",
    "log_reg_best.fit(X_train, y_train)"
   ]
  },
  {
   "cell_type": "code",
   "execution_count": 202,
   "metadata": {},
   "outputs": [
    {
     "data": {
      "image/png": "[encoded data removed]",
      "text/plain": [
       "<matplotlib.figure.Figure at 0x28887739e80>"
      ]
     },
     "metadata": {},
     "output_type": "display_data"
    }
   ],
   "source": [
    "train_sizes, train_scores, test_scores =\\\n",
    "learning_curve(estimator=log_reg_best, X=X_train, y=y_train,\n",
    "               train_sizes=np.linspace(0.1, 1.0, 10), cv=10)\n",
    "train_mean = np.mean(train_scores, axis=1)\n",
    "train_std = np.std(train_scores, axis=1)\n",
    "test_mean = np.mean(test_scores, axis=1)\n",
    "test_std = np.std(test_scores, axis=1)\n",
    "\n",
    "plt.plot(train_sizes, train_mean, color=\"blue\", label=\"training accuracy\")\n",
    "plt.plot(train_sizes, test_mean, color=\"green\", label=\"validation accuracy\")\n",
    "plt.title(\"Learning curve plot\")\n",
    "plt.xlabel(\"# of training samples\")\n",
    "plt.ylabel(\"Accuracy\")\n",
    "plt.legend(loc=\"lower right\")\n",
    "plt.ylim([0.80, 1.0])\n",
    "plt.show()"
   ]
  },
  {
   "cell_type": "code",
   "execution_count": 203,
   "metadata": {
    "scrolled": true
   },
   "outputs": [
    {
     "name": "stdout",
     "output_type": "stream",
     "text": [
      "(569, 30)\n"
     ]
    },
    {
     "data": {
      "image/png": "[encoded data removed]",
      "text/plain": [
       "<matplotlib.figure.Figure at 0x2888871bac8>"
      ]
     },
     "metadata": {},
     "output_type": "display_data"
    }
   ],
   "source": [
    "scl = StandardScaler()\n",
    "scaled_X = scl.fit_transform(X)\n",
    "\n",
    "pca = PCA(n_components=30)\n",
    "x_pca = pca.fit_transform(scaled_X)\n",
    "print(x_pca.shape)\n",
    "\n",
    "plt.plot(pca.explained_variance_)\n",
    "plt.grid()\n",
    "plt.xticks(np.arange(0, 31, 2))\n",
    "plt.show()"
   ]
  },
  {
   "cell_type": "markdown",
   "metadata": {},
   "source": [
    "Looks like the bend is around two components."
   ]
  },
  {
   "cell_type": "code",
   "execution_count": 204,
   "metadata": {},
   "outputs": [
    {
     "name": "stdout",
     "output_type": "stream",
     "text": [
      "GridSearch best score: 0.947\n",
      "GridSearch best param(s): {'log_reg__C': 0.1}\n",
      "Cross validation accuracy: 0.937\n",
      "Cross validation range: 0.062\n",
      "\n",
      "--- 0.41068 seconds ---\n"
     ]
    }
   ],
   "source": [
    "start_time = time.time()\n",
    "log_pipe = Pipeline([(\"scr\", StandardScaler()),\n",
    "                     (\"pca\", PCA(n_components=2)),\n",
    "                     (\"log_reg\", LogisticRegression())])\n",
    "gs = GridSearchCV(estimator=log_pipe,\n",
    "                 param_grid={\"log_reg__C\": param_range}, \n",
    "                 scoring=\"accuracy\", \n",
    "                 cv=2)\n",
    "gs = gs.fit(X_train, y_train)\n",
    "scores = cross_val_score(gs, X_train, y_train, scoring=\"accuracy\", cv=5)\n",
    "total_time = time.time() - start_time\n",
    "\n",
    "print(\"GridSearch best score: {:.3f}\".format(gs.best_score_))\n",
    "print(\"GridSearch best param(s): {}\".format(gs.best_params_))\n",
    "print(\"Cross validation accuracy: {:.3f}\\nCross validation range: {:.3f}\".format(np.mean(scores),\n",
    "                                                                                (np.max(scores) - np.min(scores))))\n",
    "print(\"\\n--- {:.5f} seconds ---\".format(total_time))\n",
    "\n",
    "cross_val_acc.append(np.mean(scores))\n",
    "cross_val_range.append(np.max(scores) - np.min(scores))\n",
    "run_time.append(total_time)"
   ]
  },
  {
   "cell_type": "code",
   "execution_count": 205,
   "metadata": {},
   "outputs": [
    {
     "data": {
      "text/plain": [
       "Pipeline(memory=None,\n",
       "     steps=[('scr', StandardScaler(copy=True, with_mean=True, with_std=True)), ('pca', PCA(copy=True, iterated_power='auto', n_components=2, random_state=None,\n",
       "  svd_solver='auto', tol=0.0, whiten=False)), ('log_reg', LogisticRegression(C=0.1, class_weight=None, dual=False, fit_intercept=True,\n",
       "          intercept_scaling=1, max_iter=100, multi_class='ovr', n_jobs=1,\n",
       "          penalty='l2', random_state=None, solver='liblinear', tol=0.0001,\n",
       "          verbose=0, warm_start=False))])"
      ]
     },
     "execution_count": 205,
     "metadata": {},
     "output_type": "execute_result"
    }
   ],
   "source": [
    "log_reg_best = gs.best_estimator_\n",
    "log_reg_best.fit(X_train, y_train)"
   ]
  },
  {
   "cell_type": "code",
   "execution_count": 206,
   "metadata": {},
   "outputs": [
    {
     "data": {
      "image/png": "[encoded data removed]",
      "text/plain": [
       "<matplotlib.figure.Figure at 0x28885da1da0>"
      ]
     },
     "metadata": {},
     "output_type": "display_data"
    }
   ],
   "source": [
    "train_sizes, train_scores, test_scores =\\\n",
    "learning_curve(estimator=log_reg_best, X=X_train, y=y_train,\n",
    "               train_sizes=np.linspace(0.1, 1.0, 10), cv=10)\n",
    "train_mean = np.mean(train_scores, axis=1)\n",
    "train_std = np.std(train_scores, axis=1)\n",
    "test_mean = np.mean(test_scores, axis=1)\n",
    "test_std = np.std(test_scores, axis=1)\n",
    "\n",
    "plt.plot(train_sizes, train_mean, color=\"blue\", label=\"training accuracy\")\n",
    "plt.plot(train_sizes, test_mean, color=\"green\", label=\"validation accuracy\")\n",
    "plt.title(\"Learning curve plot\")\n",
    "plt.xlabel(\"# of training samples\")\n",
    "plt.ylabel(\"Accuracy\")\n",
    "plt.legend(loc=\"lower right\")\n",
    "plt.ylim([0.80, 1.0])\n",
    "plt.show()"
   ]
  },
  {
   "cell_type": "code",
   "execution_count": 207,
   "metadata": {},
   "outputs": [
    {
     "name": "stdout",
     "output_type": "stream",
     "text": [
      "Accuracy score: 0.971\n"
     ]
    }
   ],
   "source": [
    "print(\"Accuracy score: {:.3f}\".format(log_reg_best.score(X_test, y_test)))\n",
    "test_acc.append(log_reg_best.score(X_test, y_test))"
   ]
  },
  {
   "cell_type": "markdown",
   "metadata": {},
   "source": [
    "## Ridge Regression"
   ]
  },
  {
   "cell_type": "code",
   "execution_count": 208,
   "metadata": {
    "scrolled": false
   },
   "outputs": [
    {
     "name": "stdout",
     "output_type": "stream",
     "text": [
      "GridSearch best score: 0.907\n",
      "GridSearch best param(s): {'ridge_reg__alpha': 0.0001}\n",
      "Cross validation accuracy: 0.915\n",
      "Cross validation range: 0.137\n",
      "\n",
      "--- 0.42810 seconds ---\n"
     ]
    }
   ],
   "source": [
    "start_time = time.time()\n",
    "ridge_pipe = Pipeline([(\"scr\", StandardScaler()),\n",
    "                       (\"pca\", PCA(n_components=2)),\n",
    "                       (\"ridge_reg\", RidgeClassifier())])\n",
    "gs = GridSearchCV(estimator=ridge_pipe,\n",
    "                 param_grid={\"ridge_reg__alpha\": param_range}, \n",
    "                 scoring=\"accuracy\", \n",
    "                 cv=2)\n",
    "gs = gs.fit(X_train, y_train)\n",
    "scores = cross_val_score(gs, X_train, y_train, scoring=\"accuracy\", cv=5)\n",
    "total_time = time.time() - start_time\n",
    "print(\"GridSearch best score: {:.3f}\".format(gs.best_score_))\n",
    "print(\"GridSearch best param(s): {}\".format(gs.best_params_))\n",
    "print(\"Cross validation accuracy: {:.3f}\\nCross validation range: {:.3f}\".format(np.mean(scores),\n",
    "                                                                                (np.max(scores) - np.min(scores))))\n",
    "print(\"\\n--- {:.5f} seconds ---\".format(total_time))\n",
    "cross_val_acc.append(np.mean(scores))\n",
    "cross_val_range.append(np.max(scores) - np.min(scores))\n",
    "run_time.append(total_time)"
   ]
  },
  {
   "cell_type": "code",
   "execution_count": 209,
   "metadata": {},
   "outputs": [
    {
     "data": {
      "text/plain": [
       "Pipeline(memory=None,\n",
       "     steps=[('scr', StandardScaler(copy=True, with_mean=True, with_std=True)), ('pca', PCA(copy=True, iterated_power='auto', n_components=2, random_state=None,\n",
       "  svd_solver='auto', tol=0.0, whiten=False)), ('ridge_reg', RidgeClassifier(alpha=0.0001, class_weight=None, copy_X=True,\n",
       "        fit_intercept=True, max_iter=None, normalize=False,\n",
       "        random_state=None, solver='auto', tol=0.001))])"
      ]
     },
     "execution_count": 209,
     "metadata": {},
     "output_type": "execute_result"
    }
   ],
   "source": [
    "ridge_reg_best = gs.best_estimator_\n",
    "ridge_reg_best.fit(X_train, y_train)"
   ]
  },
  {
   "cell_type": "code",
   "execution_count": 210,
   "metadata": {},
   "outputs": [
    {
     "data": {
      "image/png": "[encoded data removed]",
      "text/plain": [
       "<matplotlib.figure.Figure at 0x288870d09e8>"
      ]
     },
     "metadata": {},
     "output_type": "display_data"
    }
   ],
   "source": [
    "train_sizes, train_scores, test_scores =\\\n",
    "learning_curve(estimator=ridge_reg_best, X=X_train, y=y_train,\n",
    "               train_sizes=np.linspace(0.1, 1.0, 10), cv=10)\n",
    "train_mean = np.mean(train_scores, axis=1)\n",
    "train_std = np.std(train_scores, axis=1)\n",
    "test_mean = np.mean(test_scores, axis=1)\n",
    "test_std = np.std(test_scores, axis=1)\n",
    "\n",
    "plt.plot(train_sizes, train_mean, color=\"blue\", label=\"training accuracy\")\n",
    "plt.plot(train_sizes, test_mean, color=\"green\", label=\"validation accuracy\")\n",
    "plt.title(\"Learning curve plot\")\n",
    "plt.xlabel(\"# of training samples\")\n",
    "plt.ylabel(\"Accuracy\")\n",
    "plt.legend(loc=\"lower right\")\n",
    "plt.ylim([0.80, 1.0])\n",
    "plt.show()"
   ]
  },
  {
   "cell_type": "code",
   "execution_count": 211,
   "metadata": {},
   "outputs": [
    {
     "name": "stdout",
     "output_type": "stream",
     "text": [
      "Accuracy score: 0.942\n"
     ]
    }
   ],
   "source": [
    "print(\"Accuracy score: {:.3f}\".format(ridge_reg_best.score(X_test, y_test)))\n",
    "test_acc.append(ridge_reg_best.score(X_test, y_test))"
   ]
  },
  {
   "cell_type": "markdown",
   "metadata": {},
   "source": [
    "## Lasso Regression\n",
    "LogisticRegression with \"l1\" penalty."
   ]
  },
  {
   "cell_type": "code",
   "execution_count": 212,
   "metadata": {},
   "outputs": [
    {
     "name": "stdout",
     "output_type": "stream",
     "text": [
      "GridSearch best score: 0.950\n",
      "GridSearch best param(s): {'lasso__C': 1.0}\n",
      "Cross validation accuracy: 0.937\n",
      "Cross validation range: 0.075\n",
      "\n",
      "--- 0.45469 seconds ---\n"
     ]
    }
   ],
   "source": [
    "start_time = time.time()\n",
    "lasso_pipe = Pipeline([(\"scr\", StandardScaler()),\n",
    "                       (\"pca\", PCA(n_components=2)),\n",
    "                       (\"lasso\", LogisticRegression(penalty=\"l1\"))])\n",
    "gs = GridSearchCV(estimator=lasso_pipe,\n",
    "                 param_grid={\"lasso__C\": param_range}, \n",
    "                 scoring=\"accuracy\", \n",
    "                 cv=2)\n",
    "gs = gs.fit(X_train, y_train)\n",
    "scores = cross_val_score(gs, X_train, y_train, scoring=\"accuracy\", cv=5)\n",
    "total_time = time.time() - start_time\n",
    "\n",
    "print(\"GridSearch best score: {:.3f}\".format(gs.best_score_))\n",
    "print(\"GridSearch best param(s): {}\".format(gs.best_params_))\n",
    "print(\"Cross validation accuracy: {:.3f}\\nCross validation range: {:.3f}\".format(np.mean(scores),\n",
    "                                                                                (np.max(scores) - np.min(scores))))\n",
    "print(\"\\n--- {:.5f} seconds ---\".format(total_time))\n",
    "cross_val_acc.append(np.mean(scores))\n",
    "cross_val_range.append(np.max(scores) - np.min(scores))\n",
    "run_time.append(total_time)"
   ]
  },
  {
   "cell_type": "code",
   "execution_count": 213,
   "metadata": {},
   "outputs": [
    {
     "data": {
      "text/plain": [
       "Pipeline(memory=None,\n",
       "     steps=[('scr', StandardScaler(copy=True, with_mean=True, with_std=True)), ('pca', PCA(copy=True, iterated_power='auto', n_components=2, random_state=None,\n",
       "  svd_solver='auto', tol=0.0, whiten=False)), ('lasso', LogisticRegression(C=1.0, class_weight=None, dual=False, fit_intercept=True,\n",
       "          intercept_scaling=1, max_iter=100, multi_class='ovr', n_jobs=1,\n",
       "          penalty='l1', random_state=None, solver='liblinear', tol=0.0001,\n",
       "          verbose=0, warm_start=False))])"
      ]
     },
     "execution_count": 213,
     "metadata": {},
     "output_type": "execute_result"
    }
   ],
   "source": [
    "lasso_reg_best = gs.best_estimator_\n",
    "lasso_reg_best.fit(X_train, y_train)"
   ]
  },
  {
   "cell_type": "code",
   "execution_count": 214,
   "metadata": {},
   "outputs": [
    {
     "data": {
      "image/png": "[encoded data removed]",
      "text/plain": [
       "<matplotlib.figure.Figure at 0x28886edbe10>"
      ]
     },
     "metadata": {},
     "output_type": "display_data"
    }
   ],
   "source": [
    "train_sizes, train_scores, test_scores =\\\n",
    "learning_curve(estimator=lasso_reg_best, X=X_train, y=y_train,\n",
    "               train_sizes=np.linspace(0.1, 1.0, 10), cv=10)\n",
    "train_mean = np.mean(train_scores, axis=1)\n",
    "train_std = np.std(train_scores, axis=1)\n",
    "test_mean = np.mean(test_scores, axis=1)\n",
    "test_std = np.std(test_scores, axis=1)\n",
    "\n",
    "plt.plot(train_sizes, train_mean, color=\"blue\", label=\"training accuracy\")\n",
    "plt.plot(train_sizes, test_mean, color=\"green\", label=\"validation accuracy\")\n",
    "plt.title(\"Learning curve plot\")\n",
    "plt.xlabel(\"# of training samples\")\n",
    "plt.ylabel(\"Accuracy\")\n",
    "plt.legend(loc=\"lower right\")\n",
    "plt.ylim([0.80, 1.0])\n",
    "plt.show()"
   ]
  },
  {
   "cell_type": "code",
   "execution_count": 215,
   "metadata": {
    "scrolled": true
   },
   "outputs": [
    {
     "name": "stdout",
     "output_type": "stream",
     "text": [
      "Accuracy score: 0.971\n"
     ]
    }
   ],
   "source": [
    "print(\"Accuracy score: {:.3f}\".format(lasso_reg_best.score(X_test, y_test)))\n",
    "test_acc.append(lasso_reg_best.score(X_test, y_test))"
   ]
  },
  {
   "cell_type": "markdown",
   "metadata": {},
   "source": [
    "## K Nearest Neighbors"
   ]
  },
  {
   "cell_type": "code",
   "execution_count": 216,
   "metadata": {},
   "outputs": [
    {
     "name": "stdout",
     "output_type": "stream",
     "text": [
      "GridSearch best score: 0.930\n",
      "GridSearch best param(s): {'knn__n_neighbors': 13, 'knn__weights': 'uniform'}\n",
      "Cross validation accuracy: 0.927\n",
      "Cross validation range: 0.100\n",
      "\n",
      "--- 5.45476 seconds ---\n"
     ]
    }
   ],
   "source": [
    "start_time = time.time()\n",
    "knn_pipe = Pipeline([(\"scr\", StandardScaler()),\n",
    "                     (\"pca\", PCA(n_components=2)),\n",
    "                     (\"knn\", KNeighborsClassifier())])\n",
    "gs = GridSearchCV(estimator=knn_pipe,\n",
    "                 param_grid={\"knn__n_neighbors\": list(range(1, 41)),\n",
    "                            \"knn__weights\": [\"uniform\", \"distance\"]}, \n",
    "                 scoring=\"accuracy\", \n",
    "                 cv=2)\n",
    "gs = gs.fit(X_train, y_train)\n",
    "scores = cross_val_score(gs, X_train, y_train, scoring=\"accuracy\", cv=5)\n",
    "total_time = time.time() - start_time\n",
    "\n",
    "print(\"GridSearch best score: {:.3f}\".format(gs.best_score_))\n",
    "print(\"GridSearch best param(s): {}\".format(gs.best_params_))\n",
    "print(\"Cross validation accuracy: {:.3f}\\nCross validation range: {:.3f}\".format(np.mean(scores),\n",
    "                                                                                (np.max(scores) - np.min(scores))))\n",
    "print(\"\\n--- {:.5f} seconds ---\".format(total_time))\n",
    "\n",
    "cross_val_acc.append(np.mean(scores))\n",
    "cross_val_range.append(np.max(scores) - np.min(scores))\n",
    "run_time.append(total_time)"
   ]
  },
  {
   "cell_type": "code",
   "execution_count": 217,
   "metadata": {},
   "outputs": [
    {
     "data": {
      "text/plain": [
       "Pipeline(memory=None,\n",
       "     steps=[('scr', StandardScaler(copy=True, with_mean=True, with_std=True)), ('pca', PCA(copy=True, iterated_power='auto', n_components=2, random_state=None,\n",
       "  svd_solver='auto', tol=0.0, whiten=False)), ('knn', KNeighborsClassifier(algorithm='auto', leaf_size=30, metric='minkowski',\n",
       "           metric_params=None, n_jobs=1, n_neighbors=13, p=2,\n",
       "           weights='uniform'))])"
      ]
     },
     "execution_count": 217,
     "metadata": {},
     "output_type": "execute_result"
    }
   ],
   "source": [
    "knn_best = gs.best_estimator_\n",
    "knn_best.fit(X_train, y_train)"
   ]
  },
  {
   "cell_type": "code",
   "execution_count": 218,
   "metadata": {},
   "outputs": [
    {
     "data": {
      "image/png": "[encoded data removed]",
      "text/plain": [
       "<matplotlib.figure.Figure at 0x28887195390>"
      ]
     },
     "metadata": {},
     "output_type": "display_data"
    }
   ],
   "source": [
    "train_sizes, train_scores, test_scores =\\\n",
    "learning_curve(estimator=knn_best, X=X_train, y=y_train,\n",
    "               train_sizes=np.linspace(0.1, 1.0, 10), cv=10)\n",
    "train_mean = np.mean(train_scores, axis=1)\n",
    "train_std = np.std(train_scores, axis=1)\n",
    "test_mean = np.mean(test_scores, axis=1)\n",
    "test_std = np.std(test_scores, axis=1)\n",
    "\n",
    "plt.plot(train_sizes, train_mean, color=\"blue\", label=\"training accuracy\")\n",
    "plt.plot(train_sizes, test_mean, color=\"green\", label=\"validation accuracy\")\n",
    "plt.title(\"Learning curve plot\")\n",
    "plt.xlabel(\"# of training samples\")\n",
    "plt.ylabel(\"Accuracy\")\n",
    "plt.legend(loc=\"lower right\")\n",
    "plt.ylim([0.80, 1.0])\n",
    "plt.show()"
   ]
  },
  {
   "cell_type": "code",
   "execution_count": 219,
   "metadata": {},
   "outputs": [
    {
     "name": "stdout",
     "output_type": "stream",
     "text": [
      "Accuracy score: 0.959\n"
     ]
    }
   ],
   "source": [
    "print(\"Accuracy score: {:.3f}\".format(knn_best.score(X_test, y_test)))\n",
    "test_acc.append(knn_best.score(X_test, y_test))"
   ]
  },
  {
   "cell_type": "markdown",
   "metadata": {},
   "source": [
    "## Decision Tree"
   ]
  },
  {
   "cell_type": "code",
   "execution_count": 220,
   "metadata": {},
   "outputs": [
    {
     "name": "stdout",
     "output_type": "stream",
     "text": [
      "GridSearch best score: 0.940\n",
      "GridSearch best param(s): {'dec_tree__criterion': 'gini', 'dec_tree__max_depth': 3, 'dec_tree__max_features': 5}\n",
      "Cross validation accuracy: 0.927\n",
      "Cross validation range: 0.113\n",
      "\n",
      "--- 3.57078 seconds ---\n"
     ]
    }
   ],
   "source": [
    "start_time = time.time()\n",
    "dec_tree_pipe = Pipeline([(\"dec_tree\", DecisionTreeClassifier())])\n",
    "gs = GridSearchCV(estimator=dec_tree_pipe,\n",
    "                 param_grid={\"dec_tree__criterion\": [\"gini\", \"entropy\"],\n",
    "                            \"dec_tree__max_depth\": [1, 2, 3, 4, 5, 6, 7, None],\n",
    "                            \"dec_tree__max_features\": [1, 2, 3, 4, 5, 6, 7, None]}, \n",
    "                 scoring=\"accuracy\", \n",
    "                 cv=2)\n",
    "gs = gs.fit(X_train, y_train)\n",
    "scores = cross_val_score(gs, X_train, y_train, scoring=\"accuracy\", cv=5)\n",
    "total_time = time.time() - start_time\n",
    "\n",
    "print(\"GridSearch best score: {:.3f}\".format(gs.best_score_))\n",
    "print(\"GridSearch best param(s): {}\".format(gs.best_params_))\n",
    "print(\"Cross validation accuracy: {:.3f}\\nCross validation range: {:.3f}\".format(np.mean(scores),\n",
    "                                                                                (np.max(scores) - np.min(scores))))\n",
    "print(\"\\n--- {:.5f} seconds ---\".format(total_time))\n",
    "\n",
    "cross_val_acc.append(np.mean(scores))\n",
    "cross_val_range.append(np.max(scores) - np.min(scores))\n",
    "run_time.append(total_time)"
   ]
  },
  {
   "cell_type": "code",
   "execution_count": 221,
   "metadata": {},
   "outputs": [
    {
     "data": {
      "text/plain": [
       "Pipeline(memory=None,\n",
       "     steps=[('dec_tree', DecisionTreeClassifier(class_weight=None, criterion='gini', max_depth=3,\n",
       "            max_features=5, max_leaf_nodes=None, min_impurity_decrease=0.0,\n",
       "            min_impurity_split=None, min_samples_leaf=1,\n",
       "            min_samples_split=2, min_weight_fraction_leaf=0.0,\n",
       "            presort=False, random_state=None, splitter='best'))])"
      ]
     },
     "execution_count": 221,
     "metadata": {},
     "output_type": "execute_result"
    }
   ],
   "source": [
    "dec_tree_best = gs.best_estimator_\n",
    "dec_tree_best.fit(X_train, y_train)"
   ]
  },
  {
   "cell_type": "code",
   "execution_count": 222,
   "metadata": {},
   "outputs": [
    {
     "data": {
      "image/png": "[encoded data removed]",
      "text/plain": [
       "<matplotlib.figure.Figure at 0x288886b9b70>"
      ]
     },
     "metadata": {},
     "output_type": "display_data"
    }
   ],
   "source": [
    "train_sizes, train_scores, test_scores =\\\n",
    "learning_curve(estimator=dec_tree_best, X=X_train, y=y_train,\n",
    "               train_sizes=np.linspace(0.1, 1.0, 10), cv=10)\n",
    "train_mean = np.mean(train_scores, axis=1)\n",
    "train_std = np.std(train_scores, axis=1)\n",
    "test_mean = np.mean(test_scores, axis=1)\n",
    "test_std = np.std(test_scores, axis=1)\n",
    "\n",
    "plt.plot(train_sizes, train_mean, color=\"blue\", label=\"training accuracy\")\n",
    "plt.plot(train_sizes, test_mean, color=\"green\", label=\"validation accuracy\")\n",
    "plt.title(\"Learning curve plot\")\n",
    "plt.xlabel(\"# of training samples\")\n",
    "plt.ylabel(\"Accuracy\")\n",
    "plt.legend(loc=\"lower right\")\n",
    "plt.ylim([0.80, 1.0])\n",
    "plt.show()"
   ]
  },
  {
   "cell_type": "code",
   "execution_count": 223,
   "metadata": {
    "scrolled": true
   },
   "outputs": [
    {
     "name": "stdout",
     "output_type": "stream",
     "text": [
      "Accuracy score: 0.930\n"
     ]
    }
   ],
   "source": [
    "print(\"Accuracy score: {:.3f}\".format(dec_tree_best.score(X_test, y_test)))\n",
    "test_acc.append(dec_tree_best.score(X_test, y_test))"
   ]
  },
  {
   "cell_type": "markdown",
   "metadata": {},
   "source": [
    "## Random Forest"
   ]
  },
  {
   "cell_type": "code",
   "execution_count": 224,
   "metadata": {},
   "outputs": [
    {
     "name": "stdout",
     "output_type": "stream",
     "text": [
      "GridSearch best score: 0.962\n",
      "GridSearch best param(s): {'rfc__criterion': 'gini', 'rfc__max_depth': 4, 'rfc__max_features': 2, 'rfc__n_estimators': 17}\n",
      "Cross validation accuracy: 0.935\n",
      "Cross validation range: 0.050\n",
      "\n",
      "--- 127.27907 seconds ---\n"
     ]
    }
   ],
   "source": [
    "start_time = time.time()\n",
    "rf_pipe = Pipeline([(\"rfc\", ensemble.RandomForestClassifier())])\n",
    "gs = GridSearchCV(estimator=rf_pipe,\n",
    "                 param_grid={\"rfc__n_estimators\": list(range(1, 20)),\n",
    "                            \"rfc__criterion\": [\"gini\", \"entropy\"],\n",
    "                            \"rfc__max_depth\": [1, 2, 3, 4, 5, 6, 7, None],\n",
    "                            \"rfc__max_features\": [1, 2, 3, 4, 5, 6, 7, None]}, \n",
    "                 scoring=\"accuracy\", \n",
    "                 cv=2,\n",
    "                 n_jobs=-1)\n",
    "gs = gs.fit(X_train, y_train)\n",
    "scores = cross_val_score(gs, X_train, y_train, scoring=\"accuracy\", cv=5)\n",
    "total_time = time.time() - start_time\n",
    "\n",
    "print(\"GridSearch best score: {:.3f}\".format(gs.best_score_))\n",
    "print(\"GridSearch best param(s): {}\".format(gs.best_params_))\n",
    "print(\"Cross validation accuracy: {:.3f}\\nCross validation range: {:.3f}\".format(np.mean(scores),\n",
    "                                                                                (np.max(scores) - np.min(scores))))\n",
    "print(\"\\n--- {:.5f} seconds ---\".format(total_time))\n",
    "\n",
    "cross_val_acc.append(np.mean(scores))\n",
    "cross_val_range.append(np.max(scores) - np.min(scores))\n",
    "run_time.append(total_time)"
   ]
  },
  {
   "cell_type": "code",
   "execution_count": 225,
   "metadata": {},
   "outputs": [
    {
     "data": {
      "text/plain": [
       "Pipeline(memory=None,\n",
       "     steps=[('rfc', RandomForestClassifier(bootstrap=True, class_weight=None, criterion='gini',\n",
       "            max_depth=4, max_features=2, max_leaf_nodes=None,\n",
       "            min_impurity_decrease=0.0, min_impurity_split=None,\n",
       "            min_samples_leaf=1, min_samples_split=2,\n",
       "            min_weight_fraction_leaf=0.0, n_estimators=17, n_jobs=1,\n",
       "            oob_score=False, random_state=None, verbose=0,\n",
       "            warm_start=False))])"
      ]
     },
     "execution_count": 225,
     "metadata": {},
     "output_type": "execute_result"
    }
   ],
   "source": [
    "rf_best = gs.best_estimator_\n",
    "rf_best.fit(X_train, y_train)"
   ]
  },
  {
   "cell_type": "code",
   "execution_count": 226,
   "metadata": {},
   "outputs": [
    {
     "data": {
      "image/png": "[encoded data removed]",
      "text/plain": [
       "<matplotlib.figure.Figure at 0x28887257a90>"
      ]
     },
     "metadata": {},
     "output_type": "display_data"
    }
   ],
   "source": [
    "train_sizes, train_scores, test_scores =\\\n",
    "learning_curve(estimator=rf_best, X=X_train, y=y_train,\n",
    "               train_sizes=np.linspace(0.1, 1.0, 10), cv=10)\n",
    "train_mean = np.mean(train_scores, axis=1)\n",
    "train_std = np.std(train_scores, axis=1)\n",
    "test_mean = np.mean(test_scores, axis=1)\n",
    "test_std = np.std(test_scores, axis=1)\n",
    "\n",
    "plt.plot(train_sizes, train_mean, color=\"blue\", label=\"training accuracy\")\n",
    "plt.plot(train_sizes, test_mean, color=\"green\", label=\"validation accuracy\")\n",
    "plt.title(\"Learning curve plot\")\n",
    "plt.xlabel(\"# of training samples\")\n",
    "plt.ylabel(\"Accuracy\")\n",
    "plt.legend(loc=\"lower right\")\n",
    "plt.ylim([0.80, 1.0])\n",
    "plt.show()"
   ]
  },
  {
   "cell_type": "code",
   "execution_count": 227,
   "metadata": {},
   "outputs": [
    {
     "name": "stdout",
     "output_type": "stream",
     "text": [
      "Accuracy score: 0.965\n"
     ]
    }
   ],
   "source": [
    "print(\"Accuracy score: {:.3f}\".format(rf_best.score(X_test, y_test)))\n",
    "test_acc.append(rf_best.score(X_test, y_test))"
   ]
  },
  {
   "cell_type": "code",
   "execution_count": 237,
   "metadata": {},
   "outputs": [
    {
     "data": {
      "text/html": [
       "<div>\n",
       "<style scoped>\n",
       "    .dataframe tbody tr th:only-of-type {\n",
       "        vertical-align: middle;\n",
       "    }\n",
       "\n",
       "    .dataframe tbody tr th {\n",
       "        vertical-align: top;\n",
       "    }\n",
       "\n",
       "    .dataframe thead th {\n",
       "        text-align: right;\n",
       "    }\n",
       "</style>\n",
       "<table border=\"1\" class=\"dataframe\">\n",
       "  <thead>\n",
       "    <tr style=\"text-align: right;\">\n",
       "      <th></th>\n",
       "      <th>model</th>\n",
       "      <th>cross_val_acc</th>\n",
       "      <th>cross_val_range</th>\n",
       "      <th>test_acc</th>\n",
       "      <th>run_time</th>\n",
       "    </tr>\n",
       "  </thead>\n",
       "  <tbody>\n",
       "    <tr>\n",
       "      <th>0</th>\n",
       "      <td>Logistic Regression</td>\n",
       "      <td>0.937215</td>\n",
       "      <td>0.0625</td>\n",
       "      <td>0.970760</td>\n",
       "      <td>0.410676</td>\n",
       "    </tr>\n",
       "    <tr>\n",
       "      <th>1</th>\n",
       "      <td>Ridge Regression</td>\n",
       "      <td>0.914557</td>\n",
       "      <td>0.1375</td>\n",
       "      <td>0.941520</td>\n",
       "      <td>0.428097</td>\n",
       "    </tr>\n",
       "    <tr>\n",
       "      <th>2</th>\n",
       "      <td>Lasso Regression</td>\n",
       "      <td>0.937247</td>\n",
       "      <td>0.0750</td>\n",
       "      <td>0.970760</td>\n",
       "      <td>0.454694</td>\n",
       "    </tr>\n",
       "    <tr>\n",
       "      <th>3</th>\n",
       "      <td>K Nearest Neighbors</td>\n",
       "      <td>0.927152</td>\n",
       "      <td>0.1000</td>\n",
       "      <td>0.959064</td>\n",
       "      <td>5.454761</td>\n",
       "    </tr>\n",
       "    <tr>\n",
       "      <th>4</th>\n",
       "      <td>Decision Tree</td>\n",
       "      <td>0.927215</td>\n",
       "      <td>0.1125</td>\n",
       "      <td>0.929825</td>\n",
       "      <td>3.570776</td>\n",
       "    </tr>\n",
       "    <tr>\n",
       "      <th>5</th>\n",
       "      <td>Random Forest</td>\n",
       "      <td>0.934715</td>\n",
       "      <td>0.0500</td>\n",
       "      <td>0.964912</td>\n",
       "      <td>127.279068</td>\n",
       "    </tr>\n",
       "  </tbody>\n",
       "</table>\n",
       "</div>"
      ],
      "text/plain": [
       "                 model  cross_val_acc  cross_val_range  test_acc    run_time\n",
       "0  Logistic Regression       0.937215           0.0625  0.970760    0.410676\n",
       "1     Ridge Regression       0.914557           0.1375  0.941520    0.428097\n",
       "2     Lasso Regression       0.937247           0.0750  0.970760    0.454694\n",
       "3  K Nearest Neighbors       0.927152           0.1000  0.959064    5.454761\n",
       "4        Decision Tree       0.927215           0.1125  0.929825    3.570776\n",
       "5        Random Forest       0.934715           0.0500  0.964912  127.279068"
      ]
     },
     "execution_count": 237,
     "metadata": {},
     "output_type": "execute_result"
    }
   ],
   "source": [
    "summary = pd.DataFrame({\"model\": model, \"cross_val_acc\": cross_val_acc,\n",
    "                       \"cross_val_range\": cross_val_range,\n",
    "                       \"test_acc\": test_acc,\n",
    "                       \"run_time\": run_time})\n",
    "summary[[\"model\", \"cross_val_acc\", \"cross_val_range\", \"test_acc\", \"run_time\"]]"
   ]
  },
  {
   "cell_type": "code",
   "execution_count": null,
   "metadata": {},
   "outputs": [],
   "source": []
  }
 ],
 "metadata": {
  "kernelspec": {
   "display_name": "Python 3",
   "language": "python",
   "name": "python3"
  },
  "language_info": {
   "codemirror_mode": {
    "name": "ipython",
    "version": 3
   },
   "file_extension": ".py",
   "mimetype": "text/x-python",
   "name": "python",
   "nbconvert_exporter": "python",
   "pygments_lexer": "ipython3",
   "version": "3.6.5"
  }
 },
 "nbformat": 4,
 "nbformat_minor": 2
}
