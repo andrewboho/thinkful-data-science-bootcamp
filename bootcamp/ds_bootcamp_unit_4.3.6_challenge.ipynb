{
 "cells": [
  {
   "cell_type": "code",
   "execution_count": 39,
   "metadata": {},
   "outputs": [],
   "source": [
    "import time\n",
    "import numpy as np\n",
    "import pandas as pd\n",
    "import matplotlib.pyplot as plt\n",
    "\n",
    "from sklearn.utils import resample\n",
    "from sklearn.preprocessing import LabelEncoder\n",
    "from sklearn.model_selection import train_test_split\n",
    "\n",
    "%matplotlib inline"
   ]
  },
  {
   "cell_type": "code",
   "execution_count": 10,
   "metadata": {},
   "outputs": [
    {
     "name": "stdout",
     "output_type": "stream",
     "text": [
      "Rows: 110527\n",
      "Columns: 14\n"
     ]
    },
    {
     "data": {
      "text/html": [
       "<div>\n",
       "<table border=\"1\" class=\"dataframe\">\n",
       "  <thead>\n",
       "    <tr style=\"text-align: right;\">\n",
       "      <th></th>\n",
       "      <th>patient_id</th>\n",
       "      <th>appointment_id</th>\n",
       "      <th>gender</th>\n",
       "      <th>scheduled_day</th>\n",
       "      <th>appointment_day</th>\n",
       "      <th>age</th>\n",
       "      <th>neighborhood</th>\n",
       "      <th>scholarship</th>\n",
       "      <th>hypertension</th>\n",
       "      <th>diabetes</th>\n",
       "      <th>alcoholism</th>\n",
       "      <th>handicap</th>\n",
       "      <th>sms_received</th>\n",
       "      <th>no_show</th>\n",
       "    </tr>\n",
       "  </thead>\n",
       "  <tbody>\n",
       "    <tr>\n",
       "      <th>0</th>\n",
       "      <td>2.987250e+13</td>\n",
       "      <td>5642903</td>\n",
       "      <td>F</td>\n",
       "      <td>2016-04-29T18:38:08Z</td>\n",
       "      <td>2016-04-29T00:00:00Z</td>\n",
       "      <td>62</td>\n",
       "      <td>JARDIM DA PENHA</td>\n",
       "      <td>0</td>\n",
       "      <td>1</td>\n",
       "      <td>0</td>\n",
       "      <td>0</td>\n",
       "      <td>0</td>\n",
       "      <td>0</td>\n",
       "      <td>No</td>\n",
       "    </tr>\n",
       "    <tr>\n",
       "      <th>1</th>\n",
       "      <td>5.589978e+14</td>\n",
       "      <td>5642503</td>\n",
       "      <td>M</td>\n",
       "      <td>2016-04-29T16:08:27Z</td>\n",
       "      <td>2016-04-29T00:00:00Z</td>\n",
       "      <td>56</td>\n",
       "      <td>JARDIM DA PENHA</td>\n",
       "      <td>0</td>\n",
       "      <td>0</td>\n",
       "      <td>0</td>\n",
       "      <td>0</td>\n",
       "      <td>0</td>\n",
       "      <td>0</td>\n",
       "      <td>No</td>\n",
       "    </tr>\n",
       "    <tr>\n",
       "      <th>2</th>\n",
       "      <td>4.262962e+12</td>\n",
       "      <td>5642549</td>\n",
       "      <td>F</td>\n",
       "      <td>2016-04-29T16:19:04Z</td>\n",
       "      <td>2016-04-29T00:00:00Z</td>\n",
       "      <td>62</td>\n",
       "      <td>MATA DA PRAIA</td>\n",
       "      <td>0</td>\n",
       "      <td>0</td>\n",
       "      <td>0</td>\n",
       "      <td>0</td>\n",
       "      <td>0</td>\n",
       "      <td>0</td>\n",
       "      <td>No</td>\n",
       "    </tr>\n",
       "    <tr>\n",
       "      <th>3</th>\n",
       "      <td>8.679512e+11</td>\n",
       "      <td>5642828</td>\n",
       "      <td>F</td>\n",
       "      <td>2016-04-29T17:29:31Z</td>\n",
       "      <td>2016-04-29T00:00:00Z</td>\n",
       "      <td>8</td>\n",
       "      <td>PONTAL DE CAMBURI</td>\n",
       "      <td>0</td>\n",
       "      <td>0</td>\n",
       "      <td>0</td>\n",
       "      <td>0</td>\n",
       "      <td>0</td>\n",
       "      <td>0</td>\n",
       "      <td>No</td>\n",
       "    </tr>\n",
       "    <tr>\n",
       "      <th>4</th>\n",
       "      <td>8.841186e+12</td>\n",
       "      <td>5642494</td>\n",
       "      <td>F</td>\n",
       "      <td>2016-04-29T16:07:23Z</td>\n",
       "      <td>2016-04-29T00:00:00Z</td>\n",
       "      <td>56</td>\n",
       "      <td>JARDIM DA PENHA</td>\n",
       "      <td>0</td>\n",
       "      <td>1</td>\n",
       "      <td>1</td>\n",
       "      <td>0</td>\n",
       "      <td>0</td>\n",
       "      <td>0</td>\n",
       "      <td>No</td>\n",
       "    </tr>\n",
       "  </tbody>\n",
       "</table>\n",
       "</div>"
      ],
      "text/plain": [
       "     patient_id  appointment_id gender         scheduled_day  \\\n",
       "0  2.987250e+13         5642903      F  2016-04-29T18:38:08Z   \n",
       "1  5.589978e+14         5642503      M  2016-04-29T16:08:27Z   \n",
       "2  4.262962e+12         5642549      F  2016-04-29T16:19:04Z   \n",
       "3  8.679512e+11         5642828      F  2016-04-29T17:29:31Z   \n",
       "4  8.841186e+12         5642494      F  2016-04-29T16:07:23Z   \n",
       "\n",
       "        appointment_day  age       neighborhood  scholarship  hypertension  \\\n",
       "0  2016-04-29T00:00:00Z   62    JARDIM DA PENHA            0             1   \n",
       "1  2016-04-29T00:00:00Z   56    JARDIM DA PENHA            0             0   \n",
       "2  2016-04-29T00:00:00Z   62      MATA DA PRAIA            0             0   \n",
       "3  2016-04-29T00:00:00Z    8  PONTAL DE CAMBURI            0             0   \n",
       "4  2016-04-29T00:00:00Z   56    JARDIM DA PENHA            0             1   \n",
       "\n",
       "   diabetes  alcoholism  handicap  sms_received no_show  \n",
       "0         0           0         0             0      No  \n",
       "1         0           0         0             0      No  \n",
       "2         0           0         0             0      No  \n",
       "3         0           0         0             0      No  \n",
       "4         1           0         0             0      No  "
      ]
     },
     "execution_count": 10,
     "metadata": {},
     "output_type": "execute_result"
    }
   ],
   "source": [
    "# Import the data\n",
    "raw_data = pd.read_csv(\"KaggleV2-May-2016.csv\")\n",
    "print(\"Rows: {}\\nColumns: {}\".format(raw_data.shape[0], raw_data.shape[1]))\n",
    "\n",
    "# Clean up column names\n",
    "raw_data.columns = [\"patient_id\", \"appointment_id\", \"gender\", \"scheduled_day\",\n",
    "                   \"appointment_day\", \"age\", \"neighborhood\", \"scholarship\",\n",
    "                    \"hypertension\", \"diabetes\", \"alcoholism\", \"handicap\", \"sms_received\",\n",
    "                   \"no_show\"]\n",
    "raw_data.head()"
   ]
  },
  {
   "cell_type": "code",
   "execution_count": 11,
   "metadata": {},
   "outputs": [
    {
     "name": "stdout",
     "output_type": "stream",
     "text": [
      "<class 'pandas.core.frame.DataFrame'>\n",
      "RangeIndex: 110527 entries, 0 to 110526\n",
      "Data columns (total 14 columns):\n",
      "patient_id         110527 non-null float64\n",
      "appointment_id     110527 non-null int64\n",
      "gender             110527 non-null object\n",
      "scheduled_day      110527 non-null object\n",
      "appointment_day    110527 non-null object\n",
      "age                110527 non-null int64\n",
      "neighborhood       110527 non-null object\n",
      "scholarship        110527 non-null int64\n",
      "hypertension       110527 non-null int64\n",
      "diabetes           110527 non-null int64\n",
      "alcoholism         110527 non-null int64\n",
      "handicap           110527 non-null int64\n",
      "sms_received       110527 non-null int64\n",
      "no_show            110527 non-null object\n",
      "dtypes: float64(1), int64(8), object(5)\n",
      "memory usage: 11.8+ MB\n"
     ]
    }
   ],
   "source": [
    "# Get data details\n",
    "raw_data.info()"
   ]
  },
  {
   "cell_type": "code",
   "execution_count": 12,
   "metadata": {},
   "outputs": [
    {
     "data": {
      "text/plain": [
       "patient_id         0\n",
       "appointment_id     0\n",
       "gender             0\n",
       "scheduled_day      0\n",
       "appointment_day    0\n",
       "age                0\n",
       "neighborhood       0\n",
       "scholarship        0\n",
       "hypertension       0\n",
       "diabetes           0\n",
       "alcoholism         0\n",
       "handicap           0\n",
       "sms_received       0\n",
       "no_show            0\n",
       "dtype: int64"
      ]
     },
     "execution_count": 12,
     "metadata": {},
     "output_type": "execute_result"
    }
   ],
   "source": [
    "# Check for missing values\n",
    "raw_data.isnull().sum()"
   ]
  },
  {
   "cell_type": "code",
   "execution_count": 13,
   "metadata": {},
   "outputs": [
    {
     "data": {
      "text/plain": [
       "0"
      ]
     },
     "execution_count": 13,
     "metadata": {},
     "output_type": "execute_result"
    }
   ],
   "source": [
    "# Check for duplicates using the appointment unique identifier column\n",
    "raw_data.duplicated(\"appointment_id\").sum()"
   ]
  },
  {
   "cell_type": "code",
   "execution_count": 14,
   "metadata": {},
   "outputs": [
    {
     "name": "stdout",
     "output_type": "stream",
     "text": [
      "<class 'pandas.core.frame.DataFrame'>\n",
      "RangeIndex: 110527 entries, 0 to 110526\n",
      "Data columns (total 12 columns):\n",
      "gender             110527 non-null category\n",
      "scheduled_day      110527 non-null datetime64[ns]\n",
      "appointment_day    110527 non-null datetime64[ns]\n",
      "age                110527 non-null int64\n",
      "neighborhood       110527 non-null category\n",
      "scholarship        110527 non-null category\n",
      "hypertension       110527 non-null category\n",
      "diabetes           110527 non-null category\n",
      "alcoholism         110527 non-null category\n",
      "handicap           110527 non-null category\n",
      "sms_received       110527 non-null category\n",
      "no_show            110527 non-null category\n",
      "dtypes: category(9), datetime64[ns](2), int64(1)\n",
      "memory usage: 3.5 MB\n"
     ]
    }
   ],
   "source": [
    "# Drop unneeded columns\n",
    "raw_data.drop([\"patient_id\", \"appointment_id\"], axis=1, inplace=True)\n",
    "\n",
    "# Convert scheduled_day and appointment_day to datetime format\n",
    "raw_data[\"scheduled_day\"] = pd.to_datetime(raw_data[\"scheduled_day\"])\n",
    "raw_data[\"appointment_day\"] = pd.to_datetime(raw_data[\"appointment_day\"])\n",
    "\n",
    "# Convert qualitative columns to category type\n",
    "def convert_to_category(df, cols):\n",
    "    for col in cols:\n",
    "        df[col] = df[col].astype(\"category\")\n",
    "\n",
    "convert_to_category(raw_data, [\"gender\", \"neighborhood\", \"scholarship\", \"hypertension\",\n",
    "                              \"diabetes\", \"alcoholism\", \"handicap\", \"sms_received\", \"no_show\"])\n",
    "raw_data.info()"
   ]
  },
  {
   "cell_type": "code",
   "execution_count": 15,
   "metadata": {},
   "outputs": [
    {
     "name": "stdout",
     "output_type": "stream",
     "text": [
      "##### scheduled_to_appointment #####\n"
     ]
    },
    {
     "data": {
      "text/plain": [
       "count    110522.000000\n",
       "mean         10.184253\n",
       "std          15.255115\n",
       "min           0.000000\n",
       "25%           0.000000\n",
       "50%           4.000000\n",
       "75%          15.000000\n",
       "max         179.000000\n",
       "Name: scheduled_to_appointment, dtype: float64"
      ]
     },
     "execution_count": 15,
     "metadata": {},
     "output_type": "execute_result"
    }
   ],
   "source": [
    "# Create new feature that represents the elapsed time (in days) between\n",
    "# making a medical appointment and the appointment itself\n",
    "\n",
    "def calc_time_between(cols):\n",
    "    appointment_day = cols[0]\n",
    "    scheduled_day = cols[1]\n",
    "    return (appointment_day.date() - scheduled_day.date()).days\n",
    "\n",
    "raw_data[\"scheduled_to_appointment\"] = raw_data[[\"appointment_day\", \"scheduled_day\"]].apply(calc_time_between, axis=1)\n",
    "raw_data = raw_data[raw_data[\"scheduled_to_appointment\"] >= 0]\n",
    "\n",
    "print(\"##### scheduled_to_appointment #####\")\n",
    "raw_data[\"scheduled_to_appointment\"].describe()"
   ]
  },
  {
   "cell_type": "code",
   "execution_count": 18,
   "metadata": {},
   "outputs": [
    {
     "data": {
      "text/plain": [
       "count        110522\n",
       "unique            6\n",
       "top       wednesday\n",
       "freq          25866\n",
       "Name: appointment_weekday, dtype: object"
      ]
     },
     "execution_count": 18,
     "metadata": {},
     "output_type": "execute_result"
    }
   ],
   "source": [
    "# Create new feature for the day of the week any given appointment occured on\n",
    "def get_weekday(date):\n",
    "    weekday_codes = {0: \"monday\", 1: \"tuesday\",\n",
    "                    2: \"wednesday\", 3: \"thursday\",\n",
    "                    4: \"friday\", 5: \"saturday\",\n",
    "                    6: \"sunday\"}\n",
    "    return weekday_codes[date.weekday()]\n",
    "\n",
    "raw_data[\"appointment_weekday\"] = raw_data[\"appointment_day\"].apply(lambda x: get_weekday(x)).astype(\"category\")\n",
    "raw_data[\"appointment_weekday\"].describe()"
   ]
  },
  {
   "cell_type": "code",
   "execution_count": 19,
   "metadata": {},
   "outputs": [
    {
     "name": "stdout",
     "output_type": "stream",
     "text": [
      "##### age #####\n",
      "\n",
      "Rows: 110516\n",
      "Columns: 14\n",
      "\n",
      "count    110516.000000\n",
      "mean         37.085861\n",
      "std          23.104465\n",
      "min           0.000000\n",
      "25%          18.000000\n",
      "50%          37.000000\n",
      "75%          55.000000\n",
      "max         102.000000\n",
      "Name: age, dtype: float64\n"
     ]
    }
   ],
   "source": [
    "# Drop values below zero and equal 115\n",
    "raw_data = raw_data[(raw_data[\"age\"] >= 0) & (raw_data[\"age\"] != 115)]\n",
    "print(\"##### age #####\\n\")\n",
    "print(\"Rows: {}\\nColumns: {}\\n\".format(raw_data.shape[0], raw_data.shape[1]))\n",
    "print(raw_data[\"age\"].describe())"
   ]
  },
  {
   "cell_type": "code",
   "execution_count": 20,
   "metadata": {},
   "outputs": [
    {
     "name": "stdout",
     "output_type": "stream",
     "text": [
      "count     110516\n",
      "unique         3\n",
      "top        adult\n",
      "freq       68742\n",
      "Name: age_group, dtype: object\n"
     ]
    }
   ],
   "source": [
    "# Create age group feature\n",
    "def age_groups(age):\n",
    "    if age < 18:\n",
    "        return \"child\"\n",
    "    elif (age >= 18) & (age < 65):\n",
    "        return \"adult\"\n",
    "    else:\n",
    "        return \"senior\"\n",
    "\n",
    "raw_data[\"age_group\"] = raw_data[\"age\"].apply(lambda x: age_groups(x)).astype(\"category\")\n",
    "print(raw_data[\"age_group\"].describe())"
   ]
  },
  {
   "cell_type": "code",
   "execution_count": 21,
   "metadata": {},
   "outputs": [
    {
     "name": "stdout",
     "output_type": "stream",
     "text": [
      "count     110516\n",
      "unique         2\n",
      "top            0\n",
      "freq       71955\n",
      "Name: same_day_appointment, dtype: int64\n"
     ]
    }
   ],
   "source": [
    "# Create same-day appointment feature\n",
    "raw_data[\"same_day_appointment\"] = raw_data[\"scheduled_to_appointment\"].apply(lambda x: 1 if x == 0 else 0).astype(\"category\")\n",
    "print(raw_data[\"same_day_appointment\"].describe())"
   ]
  },
  {
   "cell_type": "code",
   "execution_count": 22,
   "metadata": {},
   "outputs": [
    {
     "name": "stdout",
     "output_type": "stream",
     "text": [
      "<class 'pandas.core.frame.DataFrame'>\n",
      "Int64Index: 110516 entries, 0 to 110526\n",
      "Data columns (total 16 columns):\n",
      "gender                      110516 non-null category\n",
      "scheduled_day               110516 non-null datetime64[ns]\n",
      "appointment_day             110516 non-null datetime64[ns]\n",
      "age                         110516 non-null int64\n",
      "neighborhood                110516 non-null category\n",
      "scholarship                 110516 non-null category\n",
      "hypertension                110516 non-null category\n",
      "diabetes                    110516 non-null category\n",
      "alcoholism                  110516 non-null category\n",
      "handicap                    110516 non-null category\n",
      "sms_received                110516 non-null category\n",
      "no_show                     110516 non-null category\n",
      "scheduled_to_appointment    110516 non-null int64\n",
      "appointment_weekday         110516 non-null category\n",
      "age_group                   110516 non-null category\n",
      "same_day_appointment        110516 non-null category\n",
      "dtypes: category(12), datetime64[ns](2), int64(2)\n",
      "memory usage: 5.5 MB\n"
     ]
    }
   ],
   "source": [
    "raw_data.info()"
   ]
  },
  {
   "cell_type": "code",
   "execution_count": 24,
   "metadata": {},
   "outputs": [
    {
     "name": "stdout",
     "output_type": "stream",
     "text": [
      "<class 'pandas.core.frame.DataFrame'>\n",
      "Int64Index: 110516 entries, 0 to 110526\n",
      "Data columns (total 100 columns):\n",
      "age                                         110516 non-null int64\n",
      "scheduled_to_appointment                    110516 non-null int64\n",
      "gender_M                                    110516 non-null uint8\n",
      "age_group_child                             110516 non-null uint8\n",
      "age_group_senior                            110516 non-null uint8\n",
      "scholarship_1                               110516 non-null uint8\n",
      "hypertension_1                              110516 non-null uint8\n",
      "diabetes_1                                  110516 non-null uint8\n",
      "alcoholism_1                                110516 non-null uint8\n",
      "handicap_1                                  110516 non-null uint8\n",
      "handicap_2                                  110516 non-null uint8\n",
      "handicap_3                                  110516 non-null uint8\n",
      "handicap_4                                  110516 non-null uint8\n",
      "sms_received_1                              110516 non-null uint8\n",
      "neighborhood_ANDORINHAS                     110516 non-null uint8\n",
      "neighborhood_ANTÔNIO HONÓRIO                110516 non-null uint8\n",
      "neighborhood_ARIOVALDO FAVALESSA            110516 non-null uint8\n",
      "neighborhood_BARRO VERMELHO                 110516 non-null uint8\n",
      "neighborhood_BELA VISTA                     110516 non-null uint8\n",
      "neighborhood_BENTO FERREIRA                 110516 non-null uint8\n",
      "neighborhood_BOA VISTA                      110516 non-null uint8\n",
      "neighborhood_BONFIM                         110516 non-null uint8\n",
      "neighborhood_CARATOÍRA                      110516 non-null uint8\n",
      "neighborhood_CENTRO                         110516 non-null uint8\n",
      "neighborhood_COMDUSA                        110516 non-null uint8\n",
      "neighborhood_CONQUISTA                      110516 non-null uint8\n",
      "neighborhood_CONSOLAÇÃO                     110516 non-null uint8\n",
      "neighborhood_CRUZAMENTO                     110516 non-null uint8\n",
      "neighborhood_DA PENHA                       110516 non-null uint8\n",
      "neighborhood_DE LOURDES                     110516 non-null uint8\n",
      "neighborhood_DO CABRAL                      110516 non-null uint8\n",
      "neighborhood_DO MOSCOSO                     110516 non-null uint8\n",
      "neighborhood_DO QUADRO                      110516 non-null uint8\n",
      "neighborhood_ENSEADA DO SUÁ                 110516 non-null uint8\n",
      "neighborhood_ESTRELINHA                     110516 non-null uint8\n",
      "neighborhood_FONTE GRANDE                   110516 non-null uint8\n",
      "neighborhood_FORTE SÃO JOÃO                 110516 non-null uint8\n",
      "neighborhood_FRADINHOS                      110516 non-null uint8\n",
      "neighborhood_GOIABEIRAS                     110516 non-null uint8\n",
      "neighborhood_GRANDE VITÓRIA                 110516 non-null uint8\n",
      "neighborhood_GURIGICA                       110516 non-null uint8\n",
      "neighborhood_HORTO                          110516 non-null uint8\n",
      "neighborhood_ILHA DAS CAIEIRAS              110516 non-null uint8\n",
      "neighborhood_ILHA DE SANTA MARIA            110516 non-null uint8\n",
      "neighborhood_ILHA DO BOI                    110516 non-null uint8\n",
      "neighborhood_ILHA DO FRADE                  110516 non-null uint8\n",
      "neighborhood_ILHA DO PRÍNCIPE               110516 non-null uint8\n",
      "neighborhood_ILHAS OCEÂNICAS DE TRINDADE    110516 non-null uint8\n",
      "neighborhood_INHANGUETÁ                     110516 non-null uint8\n",
      "neighborhood_ITARARÉ                        110516 non-null uint8\n",
      "neighborhood_JABOUR                         110516 non-null uint8\n",
      "neighborhood_JARDIM CAMBURI                 110516 non-null uint8\n",
      "neighborhood_JARDIM DA PENHA                110516 non-null uint8\n",
      "neighborhood_JESUS DE NAZARETH              110516 non-null uint8\n",
      "neighborhood_JOANA D´ARC                    110516 non-null uint8\n",
      "neighborhood_JUCUTUQUARA                    110516 non-null uint8\n",
      "neighborhood_MARIA ORTIZ                    110516 non-null uint8\n",
      "neighborhood_MARUÍPE                        110516 non-null uint8\n",
      "neighborhood_MATA DA PRAIA                  110516 non-null uint8\n",
      "neighborhood_MONTE BELO                     110516 non-null uint8\n",
      "neighborhood_MORADA DE CAMBURI              110516 non-null uint8\n",
      "neighborhood_MÁRIO CYPRESTE                 110516 non-null uint8\n",
      "neighborhood_NAZARETH                       110516 non-null uint8\n",
      "neighborhood_NOVA PALESTINA                 110516 non-null uint8\n",
      "neighborhood_PARQUE INDUSTRIAL              110516 non-null uint8\n",
      "neighborhood_PARQUE MOSCOSO                 110516 non-null uint8\n",
      "neighborhood_PIEDADE                        110516 non-null uint8\n",
      "neighborhood_PONTAL DE CAMBURI              110516 non-null uint8\n",
      "neighborhood_PRAIA DO CANTO                 110516 non-null uint8\n",
      "neighborhood_PRAIA DO SUÁ                   110516 non-null uint8\n",
      "neighborhood_REDENÇÃO                       110516 non-null uint8\n",
      "neighborhood_REPÚBLICA                      110516 non-null uint8\n",
      "neighborhood_RESISTÊNCIA                    110516 non-null uint8\n",
      "neighborhood_ROMÃO                          110516 non-null uint8\n",
      "neighborhood_SANTA CECÍLIA                  110516 non-null uint8\n",
      "neighborhood_SANTA CLARA                    110516 non-null uint8\n",
      "neighborhood_SANTA HELENA                   110516 non-null uint8\n",
      "neighborhood_SANTA LUÍZA                    110516 non-null uint8\n",
      "neighborhood_SANTA LÚCIA                    110516 non-null uint8\n",
      "neighborhood_SANTA MARTHA                   110516 non-null uint8\n",
      "neighborhood_SANTA TEREZA                   110516 non-null uint8\n",
      "neighborhood_SANTO ANDRÉ                    110516 non-null uint8\n",
      "neighborhood_SANTO ANTÔNIO                  110516 non-null uint8\n",
      "neighborhood_SANTOS DUMONT                  110516 non-null uint8\n",
      "neighborhood_SANTOS REIS                    110516 non-null uint8\n",
      "neighborhood_SEGURANÇA DO LAR               110516 non-null uint8\n",
      "neighborhood_SOLON BORGES                   110516 non-null uint8\n",
      "neighborhood_SÃO BENEDITO                   110516 non-null uint8\n",
      "neighborhood_SÃO CRISTÓVÃO                  110516 non-null uint8\n",
      "neighborhood_SÃO JOSÉ                       110516 non-null uint8\n",
      "neighborhood_SÃO PEDRO                      110516 non-null uint8\n",
      "neighborhood_TABUAZEIRO                     110516 non-null uint8\n",
      "neighborhood_UNIVERSITÁRIO                  110516 non-null uint8\n",
      "neighborhood_VILA RUBIM                     110516 non-null uint8\n",
      "appointment_weekday_monday                  110516 non-null uint8\n",
      "appointment_weekday_saturday                110516 non-null uint8\n",
      "appointment_weekday_thursday                110516 non-null uint8\n",
      "appointment_weekday_tuesday                 110516 non-null uint8\n",
      "appointment_weekday_wednesday               110516 non-null uint8\n",
      "same_day_appointment_1                      110516 non-null uint8\n",
      "dtypes: int64(2), uint8(98)\n",
      "memory usage: 12.9 MB\n"
     ]
    }
   ],
   "source": [
    "# Split into feature dataframe and target dataframe\n",
    "features = raw_data[[\"gender\", \"age\", \"age_group\", \"scholarship\", \"hypertension\", \"diabetes\", \"alcoholism\",\n",
    "                     \"handicap\", \"sms_received\", \"neighborhood\", \"appointment_weekday\",\n",
    "                    \"scheduled_to_appointment\", \"same_day_appointment\"]]\n",
    "target = raw_data[\"no_show\"]\n",
    "\n",
    "# Create dummy variables\n",
    "features = pd.get_dummies(features, drop_first=True)\n",
    "features.info()"
   ]
  },
  {
   "cell_type": "markdown",
   "metadata": {},
   "source": [
    "### No sampling"
   ]
  },
  {
   "cell_type": "code",
   "execution_count": 27,
   "metadata": {},
   "outputs": [
    {
     "name": "stdout",
     "output_type": "stream",
     "text": [
      "['No' 'Yes']\n",
      "[0 1]\n"
     ]
    }
   ],
   "source": [
    "X = features.values\n",
    "y = np.array(target.values)\n",
    "\n",
    "le = LabelEncoder()\n",
    "y = le.fit_transform(y)\n",
    "\n",
    "X_train, X_test, y_train, y_test = train_test_split(X, y, test_size=0.2, stratify=y, random_state=42)\n",
    "\n",
    "print(le.classes_)\n",
    "print(le.transform([\"No\", \"Yes\"]))"
   ]
  },
  {
   "cell_type": "code",
   "execution_count": 28,
   "metadata": {},
   "outputs": [
    {
     "data": {
      "text/plain": [
       "0.79811972926996999"
      ]
     },
     "execution_count": 28,
     "metadata": {},
     "output_type": "execute_result"
    }
   ],
   "source": [
    "# Null accuracy rate\n",
    "y_pred = np.zeros(y.shape[0])\n",
    "np.mean(y_pred == y)"
   ]
  },
  {
   "cell_type": "markdown",
   "metadata": {},
   "source": [
    "### Up-sample"
   ]
  },
  {
   "cell_type": "code",
   "execution_count": 40,
   "metadata": {},
   "outputs": [
    {
     "data": {
      "text/plain": [
       "0.5"
      ]
     },
     "execution_count": 40,
     "metadata": {},
     "output_type": "execute_result"
    }
   ],
   "source": [
    "# Up-sample to balance target class\n",
    "X_upsampled, y_upsampled = resample(X_train[y_train == 1], y_train[y_train == 1], replace=True,\n",
    "                                   n_samples=X_train[y_train == 0].shape[0])\n",
    "\n",
    "X_train_up = np.vstack((X_train[y_train == 0], X_upsampled))\n",
    "y_train_up = np.hstack((y_train[y_train == 0], y_upsampled))\n",
    "\n",
    "y_pred = np.zeros(y_train_up.shape[0])\n",
    "np.mean(y_pred == y_train_up)"
   ]
  },
  {
   "cell_type": "markdown",
   "metadata": {},
   "source": [
    "## Deep learning model"
   ]
  },
  {
   "cell_type": "code",
   "execution_count": 41,
   "metadata": {},
   "outputs": [],
   "source": [
    "from keras.models import Sequential\n",
    "from keras.layers import Dense\n",
    "from keras.optimizers import SGD, Adam"
   ]
  },
  {
   "cell_type": "code",
   "execution_count": 51,
   "metadata": {},
   "outputs": [
    {
     "name": "stdout",
     "output_type": "stream",
     "text": [
      "20128/22104 [==========================>...] - ETA: 0s"
     ]
    }
   ],
   "source": [
    "start_time = time.time()\n",
    "\n",
    "model = Sequential()\n",
    "model.add(Dense(4, input_shape=(100,), activation=\"tanh\"))\n",
    "model.add(Dense(2, activation=\"tanh\"))\n",
    "model.add(Dense(1, activation=\"sigmoid\"))\n",
    "model.compile(Adam(lr=0.05), \"binary_crossentropy\", metrics=[\"accuracy\"])\n",
    "model.fit(X_train_up, y_train_up, epochs=50, verbose=0)\n",
    "results = model.evaluate(X_test, y_test)\n",
    "\n",
    "elapsed_time = time.time() - start_time"
   ]
  },
  {
   "cell_type": "code",
   "execution_count": 52,
   "metadata": {},
   "outputs": [
    {
     "name": "stdout",
     "output_type": "stream",
     "text": [
      "------ 521.323253 seconds ------\n"
     ]
    }
   ],
   "source": [
    "print(\"------ {:.6f} seconds ------\".format(elapsed_time))"
   ]
  },
  {
   "cell_type": "code",
   "execution_count": 53,
   "metadata": {},
   "outputs": [
    {
     "name": "stdout",
     "output_type": "stream",
     "text": [
      "accuracy score: 0.515\n"
     ]
    }
   ],
   "source": [
    "print(\"accuracy score: {:0.3f}\".format(results[1]))"
   ]
  },
  {
   "cell_type": "markdown",
   "metadata": {},
   "source": [
    "For the capstone project I was getting testing accuracy of 0.58 on average for ML models with up-sampled data. This seems to be doing worse. Model tuning and layer addtions may imporve this, but at the cost of higher run-times. I'm skeptical that it's worth it. Deep learning doesn't appear to be a solution to this dataset. And that's a shame, becuase I really wanted to get this to work."
   ]
  },
  {
   "cell_type": "code",
   "execution_count": null,
   "metadata": {},
   "outputs": [],
   "source": []
  }
 ],
 "metadata": {
  "kernelspec": {
   "display_name": "Python 3",
   "language": "python",
   "name": "python3"
  },
  "language_info": {
   "codemirror_mode": {
    "name": "ipython",
    "version": 3
   },
   "file_extension": ".py",
   "mimetype": "text/x-python",
   "name": "python",
   "nbconvert_exporter": "python",
   "pygments_lexer": "ipython3",
   "version": "3.5.5"
  }
 },
 "nbformat": 4,
 "nbformat_minor": 2
}
