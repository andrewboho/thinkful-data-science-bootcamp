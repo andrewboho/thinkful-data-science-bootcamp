{
 "cells": [
  {
   "cell_type": "code",
   "execution_count": 1,
   "metadata": {},
   "outputs": [
    {
     "name": "stdout",
     "output_type": "stream",
     "text": [
      "233168\n"
     ]
    }
   ],
   "source": [
    "# eul_1.py\n",
    "\n",
    "# If we list all the natural numbers below 10 that are multiples of 3 or 5,\n",
    "# we get 3, 5, 6 and 9. The sum of these multiples is 23.\n",
    "# Find the sum of all the multiples of 3 or 5 below 1000.\n",
    "\n",
    "def is_mult_3_5(number):\n",
    "    if (number % 3 == 0) or (number % 5 == 0):\n",
    "        return True\n",
    "    return False\n",
    "\n",
    "def sum_3_5(upper_bound):\n",
    "    total = 0\n",
    "    for number in range(upper_bound):\n",
    "        if is_mult_3_5(number):\n",
    "            total += number\n",
    "    return total\n",
    "\n",
    "print(sum_3_5(1000))"
   ]
  },
  {
   "cell_type": "code",
   "execution_count": 2,
   "metadata": {},
   "outputs": [
    {
     "name": "stdout",
     "output_type": "stream",
     "text": [
      "1\n",
      "2\n",
      "3\n",
      "5\n",
      "8\n",
      "13\n",
      "21\n",
      "34\n",
      "55\n",
      "89\n",
      "144\n",
      "233\n",
      "377\n",
      "610\n",
      "987\n",
      "1597\n",
      "2584\n",
      "4181\n",
      "6765\n",
      "10946\n",
      "17711\n",
      "28657\n",
      "46368\n",
      "75025\n",
      "121393\n",
      "196418\n",
      "317811\n",
      "514229\n",
      "832040\n",
      "1346269\n",
      "2178309\n",
      "3524578\n",
      "5702887\n",
      "\n",
      "4613732\n"
     ]
    }
   ],
   "source": [
    "# eul_2.py\n",
    "# Each new term in the Fibonacci sequence is generated\n",
    "# by adding the previous two terms. By starting with 1 and 2,\n",
    "# the first 10 terms will be:\n",
    "# 1, 2, 3, 5, 8, 13, 21, 34, 55, 89, ...\n",
    "\n",
    "# By considering the terms in the Fibonacci sequence\n",
    "# whose values do not exceed four million,\n",
    "# find the sum of the even-valued terms.\n",
    "\n",
    "def is_even(number):\n",
    "    return number % 2 == 0\n",
    "\n",
    "def sum_even_fibs(upper_bound):\n",
    "    total = 0\n",
    "    fib_1 = None\n",
    "    fib_2 = None\n",
    "    next_fib = 0\n",
    "    i = 0\n",
    "    \n",
    "    while True:\n",
    "        if next_fib > upper_bound:\n",
    "            break\n",
    "        if i == 0:\n",
    "            next_fib = 1\n",
    "            print(next_fib)\n",
    "            fib_1 = 1\n",
    "        elif i == 1:\n",
    "            next_fib = 2\n",
    "            print(next_fib)\n",
    "            fib_2 = 2\n",
    "        else:\n",
    "            next_fib = fib_1 + fib_2\n",
    "            print(next_fib)\n",
    "            fib_1 = fib_2\n",
    "            fib_2 = next_fib\n",
    "        if is_even(next_fib):\n",
    "            total += next_fib\n",
    "        i += 1\n",
    "    print()\n",
    "    return total\n",
    "\n",
    "\n",
    "print(sum_even_fibs(4000000))"
   ]
  },
  {
   "cell_type": "code",
   "execution_count": null,
   "metadata": {},
   "outputs": [],
   "source": []
  }
 ],
 "metadata": {
  "kernelspec": {
   "display_name": "Python 3",
   "language": "python",
   "name": "python3"
  },
  "language_info": {
   "codemirror_mode": {
    "name": "ipython",
    "version": 3
   },
   "file_extension": ".py",
   "mimetype": "text/x-python",
   "name": "python",
   "nbconvert_exporter": "python",
   "pygments_lexer": "ipython3",
   "version": "3.6.6"
  }
 },
 "nbformat": 4,
 "nbformat_minor": 2
}
