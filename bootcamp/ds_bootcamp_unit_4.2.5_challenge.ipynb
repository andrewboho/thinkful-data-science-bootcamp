{
 "cells": [
  {
   "cell_type": "markdown",
   "metadata": {},
   "source": [
    "# Boston Marathon Data - 2014"
   ]
  },
  {
   "cell_type": "code",
   "execution_count": 1,
   "metadata": {},
   "outputs": [],
   "source": [
    "import numpy as np\n",
    "import pandas as pd\n",
    "import matplotlib.pyplot as plt\n",
    "from matplotlib import cm\n",
    "import seaborn as sns\n",
    "\n",
    "from sklearn.preprocessing import StandardScaler\n",
    "from sklearn.metrics import silhouette_samples, silhouette_score\n",
    "from sklearn.cluster import KMeans\n",
    "\n",
    "#pd.set_option(\"display.max_columns\", 500)"
   ]
  },
  {
   "cell_type": "markdown",
   "metadata": {},
   "source": [
    "## Load and prep data for analysis"
   ]
  },
  {
   "cell_type": "code",
   "execution_count": 2,
   "metadata": {},
   "outputs": [
    {
     "name": "stdout",
     "output_type": "stream",
     "text": [
      "Rows: 31984\n",
      "Columns: 21\n"
     ]
    },
    {
     "data": {
      "text/html": [
       "<div>\n",
       "<style scoped>\n",
       "    .dataframe tbody tr th:only-of-type {\n",
       "        vertical-align: middle;\n",
       "    }\n",
       "\n",
       "    .dataframe tbody tr th {\n",
       "        vertical-align: top;\n",
       "    }\n",
       "\n",
       "    .dataframe thead th {\n",
       "        text-align: right;\n",
       "    }\n",
       "</style>\n",
       "<table border=\"1\" class=\"dataframe\">\n",
       "  <thead>\n",
       "    <tr style=\"text-align: right;\">\n",
       "      <th></th>\n",
       "      <th>name</th>\n",
       "      <th>gender</th>\n",
       "      <th>age</th>\n",
       "      <th>country</th>\n",
       "      <th>ctz</th>\n",
       "      <th>state</th>\n",
       "      <th>city</th>\n",
       "      <th>division</th>\n",
       "      <th>genderdiv</th>\n",
       "      <th>bib</th>\n",
       "      <th>...</th>\n",
       "      <th>5k</th>\n",
       "      <th>10k</th>\n",
       "      <th>20k</th>\n",
       "      <th>half</th>\n",
       "      <th>25k</th>\n",
       "      <th>30k</th>\n",
       "      <th>35k</th>\n",
       "      <th>40k</th>\n",
       "      <th>official</th>\n",
       "      <th>overall</th>\n",
       "    </tr>\n",
       "  </thead>\n",
       "  <tbody>\n",
       "    <tr>\n",
       "      <th>0</th>\n",
       "      <td>Yamamoto, Hiroyuki</td>\n",
       "      <td>M</td>\n",
       "      <td>47</td>\n",
       "      <td>JPN</td>\n",
       "      <td>NaN</td>\n",
       "      <td>NaN</td>\n",
       "      <td>Fukuoka</td>\n",
       "      <td>8</td>\n",
       "      <td>8</td>\n",
       "      <td>W1</td>\n",
       "      <td>...</td>\n",
       "      <td>8.02</td>\n",
       "      <td>17.37</td>\n",
       "      <td>37.65</td>\n",
       "      <td>39.72</td>\n",
       "      <td>47.67</td>\n",
       "      <td>59.18</td>\n",
       "      <td>71.40</td>\n",
       "      <td>80.43</td>\n",
       "      <td>85.25</td>\n",
       "      <td>8</td>\n",
       "    </tr>\n",
       "    <tr>\n",
       "      <th>1</th>\n",
       "      <td>Jeptoo, Rita</td>\n",
       "      <td>F</td>\n",
       "      <td>33</td>\n",
       "      <td>KEN</td>\n",
       "      <td>NaN</td>\n",
       "      <td>NaN</td>\n",
       "      <td>Eldoret</td>\n",
       "      <td>1</td>\n",
       "      <td>1</td>\n",
       "      <td>F1</td>\n",
       "      <td>...</td>\n",
       "      <td>16.22</td>\n",
       "      <td>32.58</td>\n",
       "      <td>65.83</td>\n",
       "      <td>69.47</td>\n",
       "      <td>82.43</td>\n",
       "      <td>99.33</td>\n",
       "      <td>116.37</td>\n",
       "      <td>132.10</td>\n",
       "      <td>138.95</td>\n",
       "      <td>21</td>\n",
       "    </tr>\n",
       "    <tr>\n",
       "      <th>2</th>\n",
       "      <td>Van Dyk, Ernst F.</td>\n",
       "      <td>M</td>\n",
       "      <td>41</td>\n",
       "      <td>RSA</td>\n",
       "      <td>NaN</td>\n",
       "      <td>NaN</td>\n",
       "      <td>Paarl</td>\n",
       "      <td>1</td>\n",
       "      <td>1</td>\n",
       "      <td>W2</td>\n",
       "      <td>...</td>\n",
       "      <td>7.75</td>\n",
       "      <td>16.62</td>\n",
       "      <td>36.10</td>\n",
       "      <td>38.03</td>\n",
       "      <td>45.80</td>\n",
       "      <td>56.45</td>\n",
       "      <td>67.42</td>\n",
       "      <td>76.10</td>\n",
       "      <td>80.60</td>\n",
       "      <td>1</td>\n",
       "    </tr>\n",
       "    <tr>\n",
       "      <th>3</th>\n",
       "      <td>Dibaba, Mare</td>\n",
       "      <td>F</td>\n",
       "      <td>24</td>\n",
       "      <td>ETH</td>\n",
       "      <td>NaN</td>\n",
       "      <td>NaN</td>\n",
       "      <td>Shoa</td>\n",
       "      <td>3</td>\n",
       "      <td>3</td>\n",
       "      <td>F2</td>\n",
       "      <td>...</td>\n",
       "      <td>16.20</td>\n",
       "      <td>32.57</td>\n",
       "      <td>65.83</td>\n",
       "      <td>69.47</td>\n",
       "      <td>82.43</td>\n",
       "      <td>99.33</td>\n",
       "      <td>116.37</td>\n",
       "      <td>132.95</td>\n",
       "      <td>140.58</td>\n",
       "      <td>27</td>\n",
       "    </tr>\n",
       "    <tr>\n",
       "      <th>4</th>\n",
       "      <td>Hokinoue, Kota</td>\n",
       "      <td>M</td>\n",
       "      <td>40</td>\n",
       "      <td>JPN</td>\n",
       "      <td>NaN</td>\n",
       "      <td>NaN</td>\n",
       "      <td>Nogata Fukuoka</td>\n",
       "      <td>2</td>\n",
       "      <td>2</td>\n",
       "      <td>W3</td>\n",
       "      <td>...</td>\n",
       "      <td>8.02</td>\n",
       "      <td>17.12</td>\n",
       "      <td>36.58</td>\n",
       "      <td>38.60</td>\n",
       "      <td>46.37</td>\n",
       "      <td>57.03</td>\n",
       "      <td>67.83</td>\n",
       "      <td>76.72</td>\n",
       "      <td>81.23</td>\n",
       "      <td>2</td>\n",
       "    </tr>\n",
       "  </tbody>\n",
       "</table>\n",
       "<p>5 rows × 21 columns</p>\n",
       "</div>"
      ],
      "text/plain": [
       "                 name gender  age country  ctz state            city  \\\n",
       "0  Yamamoto, Hiroyuki      M   47     JPN  NaN   NaN         Fukuoka   \n",
       "1        Jeptoo, Rita      F   33     KEN  NaN   NaN         Eldoret   \n",
       "2   Van Dyk, Ernst F.      M   41     RSA  NaN   NaN           Paarl   \n",
       "3        Dibaba, Mare      F   24     ETH  NaN   NaN            Shoa   \n",
       "4      Hokinoue, Kota      M   40     JPN  NaN   NaN  Nogata Fukuoka   \n",
       "\n",
       "   division  genderdiv bib   ...        5k    10k    20k   half    25k    30k  \\\n",
       "0         8          8  W1   ...      8.02  17.37  37.65  39.72  47.67  59.18   \n",
       "1         1          1  F1   ...     16.22  32.58  65.83  69.47  82.43  99.33   \n",
       "2         1          1  W2   ...      7.75  16.62  36.10  38.03  45.80  56.45   \n",
       "3         3          3  F2   ...     16.20  32.57  65.83  69.47  82.43  99.33   \n",
       "4         2          2  W3   ...      8.02  17.12  36.58  38.60  46.37  57.03   \n",
       "\n",
       "      35k     40k official  overall  \n",
       "0   71.40   80.43    85.25        8  \n",
       "1  116.37  132.10   138.95       21  \n",
       "2   67.42   76.10    80.60        1  \n",
       "3  116.37  132.95   140.58       27  \n",
       "4   67.83   76.72    81.23        2  \n",
       "\n",
       "[5 rows x 21 columns]"
      ]
     },
     "execution_count": 2,
     "metadata": {},
     "output_type": "execute_result"
    }
   ],
   "source": [
    "url = \"https://raw.githubusercontent.com/llimllib/bostonmarathon/master/results/2014/results.csv\"\n",
    "df = pd.read_csv(url)\n",
    "ordered_cols = [\"name\", \"gender\", \"age\", \"country\", \"ctz\", \"state\", \"city\", \"division\", \"genderdiv\",\n",
    "               \"bib\", \"pace\", \"5k\", \"10k\", \"20k\", \"half\", \"25k\", \"30k\", \"35k\", \"40k\", \"official\", \"overall\"]\n",
    "df = df[ordered_cols]\n",
    "print(\"Rows: {}\\nColumns: {}\".format(df.shape[0], df.shape[1]))\n",
    "df.head()"
   ]
  },
  {
   "cell_type": "code",
   "execution_count": 3,
   "metadata": {},
   "outputs": [],
   "source": [
    "cat_cols = [\"name\", \"gender\", \"country\", \"ctz\", \"state\", \"city\", \"division\", \"genderdiv\", \"bib\"]\n",
    "quant_cols_int = ordered_cols = [\"age\", \"overall\"]\n",
    "quant_cols_float = [\"pace\", \"5k\", \"10k\", \"20k\", \"half\", \"25k\", \"30k\", \"35k\", \"40k\", \"official\"]\n",
    "\n",
    "for col in cat_cols:\n",
    "    df[col] = df[col].astype(\"category\")\n",
    "for col in quant_cols_int:\n",
    "    df[col] = df[col].astype(\"int64\")\n",
    "for col in quant_cols_float:\n",
    "    df[col] = pd.to_numeric(df[col], errors=\"coerce\")"
   ]
  },
  {
   "cell_type": "code",
   "execution_count": 4,
   "metadata": {},
   "outputs": [
    {
     "data": {
      "text/plain": [
       "name             0\n",
       "gender           0\n",
       "age              0\n",
       "country          0\n",
       "ctz          30740\n",
       "state         2576\n",
       "city             1\n",
       "division         0\n",
       "genderdiv        0\n",
       "bib              0\n",
       "pace             0\n",
       "5k              52\n",
       "10k             50\n",
       "20k             51\n",
       "half            72\n",
       "25k            216\n",
       "30k             40\n",
       "35k             34\n",
       "40k             39\n",
       "official         0\n",
       "overall          0\n",
       "dtype: int64"
      ]
     },
     "execution_count": 4,
     "metadata": {},
     "output_type": "execute_result"
    }
   ],
   "source": [
    "df.isnull().sum()"
   ]
  },
  {
   "cell_type": "code",
   "execution_count": 5,
   "metadata": {},
   "outputs": [
    {
     "data": {
      "text/plain": [
       "name             0\n",
       "gender           0\n",
       "age              0\n",
       "country          0\n",
       "ctz          30411\n",
       "state         2546\n",
       "city             1\n",
       "division         0\n",
       "genderdiv        0\n",
       "bib              0\n",
       "pace             0\n",
       "5k               0\n",
       "10k              0\n",
       "20k              0\n",
       "half             0\n",
       "25k              0\n",
       "30k              0\n",
       "35k              0\n",
       "40k              0\n",
       "official         0\n",
       "overall          0\n",
       "dtype: int64"
      ]
     },
     "execution_count": 5,
     "metadata": {},
     "output_type": "execute_result"
    }
   ],
   "source": [
    "consider_cols = [\"name\", \"gender\", \"age\", \"country\", \"division\", \"genderdiv\",\n",
    "                 \"bib\", \"pace\", \"5k\", \"10k\", \"20k\", \"half\", \"25k\", \"30k\", \"35k\", \"40k\", \"official\", \"overall\"]\n",
    "df.dropna(subset=consider_cols, inplace=True)\n",
    "df.isnull().sum()"
   ]
  },
  {
   "cell_type": "code",
   "execution_count": 6,
   "metadata": {},
   "outputs": [
    {
     "name": "stdout",
     "output_type": "stream",
     "text": [
      "<class 'pandas.core.frame.DataFrame'>\n",
      "Int64Index: 31649 entries, 0 to 31983\n",
      "Data columns (total 21 columns):\n",
      "name         31649 non-null category\n",
      "gender       31649 non-null category\n",
      "age          31649 non-null int64\n",
      "country      31649 non-null category\n",
      "ctz          1238 non-null category\n",
      "state        29103 non-null category\n",
      "city         31648 non-null category\n",
      "division     31649 non-null category\n",
      "genderdiv    31649 non-null category\n",
      "bib          31649 non-null category\n",
      "pace         31649 non-null float64\n",
      "5k           31649 non-null float64\n",
      "10k          31649 non-null float64\n",
      "20k          31649 non-null float64\n",
      "half         31649 non-null float64\n",
      "25k          31649 non-null float64\n",
      "30k          31649 non-null float64\n",
      "35k          31649 non-null float64\n",
      "40k          31649 non-null float64\n",
      "official     31649 non-null float64\n",
      "overall      31649 non-null int64\n",
      "dtypes: category(9), float64(10), int64(2)\n",
      "memory usage: 7.9 MB\n"
     ]
    }
   ],
   "source": [
    "df.info()"
   ]
  },
  {
   "cell_type": "code",
   "execution_count": 7,
   "metadata": {},
   "outputs": [
    {
     "name": "stdout",
     "output_type": "stream",
     "text": [
      "Rows: 31649\n",
      "Columns: 21\n"
     ]
    }
   ],
   "source": [
    "print(\"Rows: {}\\nColumns: {}\".format(df.shape[0], df.shape[1]))"
   ]
  },
  {
   "cell_type": "code",
   "execution_count": 8,
   "metadata": {},
   "outputs": [
    {
     "name": "stdout",
     "output_type": "stream",
     "text": [
      "Name       Unique  DType          \n",
      "\n",
      "name       31581   category       \n",
      "gender     2       category       \n",
      "age        64      int64          \n",
      "country    78      category       \n",
      "ctz        85      category       \n",
      "state      69      category       \n",
      "city       5906    category       \n",
      "division   6921    category       \n",
      "genderdiv  17490   category       \n",
      "bib        31649   category       \n",
      "pace       702     float64        \n",
      "5k         1433    float64        \n",
      "10k        2659    float64        \n",
      "20k        5228    float64        \n",
      "half       5489    float64        \n",
      "25k        6556    float64        \n",
      "30k        7926    float64        \n",
      "35k        9342    float64        \n",
      "40k        10391   float64        \n",
      "official   10848   float64        \n",
      "overall    31596   int64          \n"
     ]
    }
   ],
   "source": [
    "# Helper function to find unique column values\n",
    "def unique_col_values(df):\n",
    "    max_name_len = np.max([len(col_name) for col_name in df.columns]) + 2\n",
    "    format_str = \"{:<\" + str(max_name_len) + \"}{:<8}{:<15}\"\n",
    "\n",
    "    print(format_str.format(\"Name\", \"Unique\", \"DType\"))\n",
    "    print()\n",
    "    for col in df:\n",
    "        print(format_str.format(df[col].name, len(df[col].unique()), str(df[col].dtype)))\n",
    "\n",
    "unique_col_values(df)"
   ]
  },
  {
   "cell_type": "code",
   "execution_count": 9,
   "metadata": {},
   "outputs": [],
   "source": [
    "quant_cols = [\"age\", \"pace\", \"5k\", \"10k\", \"20k\", \"half\", \"25k\", \"30k\", \"35k\", \"40k\", \"official\"]\n",
    "X = df[quant_cols]"
   ]
  },
  {
   "cell_type": "code",
   "execution_count": 10,
   "metadata": {},
   "outputs": [],
   "source": [
    "sc = StandardScaler()\n",
    "X_sc = sc.fit_transform(X)"
   ]
  },
  {
   "cell_type": "markdown",
   "metadata": {},
   "source": [
    "## Hierarchical clustering"
   ]
  },
  {
   "cell_type": "code",
   "execution_count": 11,
   "metadata": {},
   "outputs": [],
   "source": [
    "#from scipy.cluster.hierarchy import linkage\n",
    "#row_clusters = linkage(pdist(X_sc, metric=\"euclidean\"), method=\"complete\")"
   ]
  },
  {
   "cell_type": "markdown",
   "metadata": {},
   "source": [
    "This crashed my computer three times in a row. And I mean crashed. Not just the kernel. Not even just the browser. The entire computer completely freezes and needs to be shut down when I try running this."
   ]
  },
  {
   "cell_type": "code",
   "execution_count": 12,
   "metadata": {},
   "outputs": [],
   "source": [
    "#from scipy.cluster.hierarchy import dendrogram\n",
    "#row_dendr = dendrogram(row_clusters)\n",
    "#plt.tight_layout()\n",
    "#plt.ylabel(\"Euclidean distance\")\n",
    "#plt.show()"
   ]
  },
  {
   "cell_type": "markdown",
   "metadata": {},
   "source": [
    "## K Means"
   ]
  },
  {
   "cell_type": "markdown",
   "metadata": {},
   "source": [
    "### Elbow method"
   ]
  },
  {
   "cell_type": "code",
   "execution_count": 13,
   "metadata": {},
   "outputs": [],
   "source": [
    "distortions = []\n",
    "for i in range(1, 11):\n",
    "    km = KMeans(n_clusters=i)\n",
    "    km.fit(X_sc)\n",
    "    distortions.append(km.inertia_)"
   ]
  },
  {
   "cell_type": "code",
   "execution_count": 14,
   "metadata": {},
   "outputs": [
    {
     "data": {
      "image/png": "[encoded data removed]",
      "text/plain": [
       "<Figure size 432x288 with 1 Axes>"
      ]
     },
     "metadata": {},
     "output_type": "display_data"
    }
   ],
   "source": [
    "plt.plot(range(1, 11), distortions)\n",
    "plt.grid()\n",
    "plt.show()"
   ]
  },
  {
   "cell_type": "markdown",
   "metadata": {},
   "source": [
    "Looks like distortion settles down at 4 clusters."
   ]
  },
  {
   "cell_type": "markdown",
   "metadata": {},
   "source": [
    "### Silhouette coefficients"
   ]
  },
  {
   "cell_type": "code",
   "execution_count": 15,
   "metadata": {},
   "outputs": [
    {
     "name": "stdout",
     "output_type": "stream",
     "text": [
      "N: 2, Silhoutte score: 0.5099409399468674\n",
      "N: 3, Silhoutte score: 0.40239889952544106\n",
      "N: 4, Silhoutte score: 0.35295798625780744\n",
      "N: 5, Silhoutte score: 0.32008019700706575\n"
     ]
    }
   ],
   "source": [
    "for i in range(2, 6):\n",
    "    km = KMeans(n_clusters=i)\n",
    "    y_pred = km.fit_predict(X_sc)\n",
    "    silhouette = silhouette_score(X_sc, y_pred, metric=\"euclidean\")\n",
    "    print(\"N: {}, Silhoutte score: {}\".format(i, silhouette))"
   ]
  },
  {
   "cell_type": "markdown",
   "metadata": {},
   "source": [
    "This would seem to imply that 2 clusters is optimal. (?)"
   ]
  },
  {
   "cell_type": "code",
   "execution_count": 16,
   "metadata": {},
   "outputs": [],
   "source": [
    "cluster_labels = np.unique(y_pred)\n",
    "n_clusters = cluster_labels.shape[0]\n",
    "silhouette_vals = silhouette_samples(X_sc, y_pred, metric=\"euclidean\")"
   ]
  },
  {
   "cell_type": "code",
   "execution_count": 17,
   "metadata": {},
   "outputs": [],
   "source": [
    "# Run with two clusters and graph\n",
    "km = KMeans(n_clusters=2)\n",
    "y_pred = km.fit_predict(X_sc)"
   ]
  },
  {
   "cell_type": "code",
   "execution_count": 18,
   "metadata": {},
   "outputs": [
    {
     "data": {
      "image/png": "[encoded data removed]",
      "text/plain": [
       "<Figure size 432x288 with 1 Axes>"
      ]
     },
     "metadata": {},
     "output_type": "display_data"
    }
   ],
   "source": [
    "y_ax_lower, y_ax_upper = 0, 0\n",
    "yticks = []\n",
    "\n",
    "for i, c in enumerate(cluster_labels):\n",
    "    c_silhouette_vals = silhouette_vals[y_pred == c]\n",
    "    c_silhouette_vals.sort()\n",
    "    y_ax_upper += len(c_silhouette_vals)\n",
    "    color = cm.jet(float(i) / n_clusters)\n",
    "    plt.barh(range(y_ax_lower, y_ax_upper), c_silhouette_vals, height=1.0, edgecolor=\"none\", color=color)\n",
    "    yticks.append((y_ax_lower + y_ax_upper) / 2.0)\n",
    "    y_ax_lower += len(c_silhouette_vals)\n",
    "\n",
    "silhouette_avg = np.mean(silhouette_vals)\n",
    "plt.axvline(silhouette_avg, color=\"red\", linestyle=\"--\")\n",
    "plt.yticks(yticks, cluster_labels + 1)\n",
    "plt.ylabel(\"Cluster\")\n",
    "plt.xlabel(\"Silhouette coefficient\")\n",
    "plt.show()"
   ]
  },
  {
   "cell_type": "code",
   "execution_count": 19,
   "metadata": {},
   "outputs": [],
   "source": [
    "# Run with four clusters and graph\n",
    "km = KMeans(n_clusters=4)\n",
    "y_pred = km.fit_predict(X_sc)"
   ]
  },
  {
   "cell_type": "code",
   "execution_count": 20,
   "metadata": {},
   "outputs": [
    {
     "data": {
      "image/png": "[encoded data removed]",
      "text/plain": [
       "<Figure size 432x288 with 1 Axes>"
      ]
     },
     "metadata": {},
     "output_type": "display_data"
    }
   ],
   "source": [
    "y_ax_lower, y_ax_upper = 0, 0\n",
    "yticks = []\n",
    "\n",
    "for i, c in enumerate(cluster_labels):\n",
    "    c_silhouette_vals = silhouette_vals[y_pred == c]\n",
    "    c_silhouette_vals.sort()\n",
    "    y_ax_upper += len(c_silhouette_vals)\n",
    "    color = cm.jet(float(i) / n_clusters)\n",
    "    plt.barh(range(y_ax_lower, y_ax_upper), c_silhouette_vals, height=1.0, edgecolor=\"none\", color=color)\n",
    "    yticks.append((y_ax_lower + y_ax_upper) / 2.0)\n",
    "    y_ax_lower += len(c_silhouette_vals)\n",
    "\n",
    "silhouette_avg = np.mean(silhouette_vals)\n",
    "plt.axvline(silhouette_avg, color=\"red\", linestyle=\"--\")\n",
    "plt.yticks(yticks, cluster_labels + 1)\n",
    "plt.ylabel(\"Cluster\")\n",
    "plt.xlabel(\"Silhouette coefficient\")\n",
    "plt.show()"
   ]
  },
  {
   "cell_type": "markdown",
   "metadata": {},
   "source": [
    "I honestly don't see how to parase between 2 clusters and 4 clusters given the above."
   ]
  },
  {
   "cell_type": "markdown",
   "metadata": {},
   "source": [
    "## Mean-shift"
   ]
  },
  {
   "cell_type": "code",
   "execution_count": 21,
   "metadata": {},
   "outputs": [],
   "source": [
    "from sklearn.cluster import MeanShift, estimate_bandwidth\n",
    "bandwidth = estimate_bandwidth(X_sc, quantile=0.2, n_samples=500)\n",
    "\n",
    "ms = MeanShift(bandwidth=bandwidth, bin_seeding=True)\n",
    "y_pred = ms.fit_predict(X_sc)"
   ]
  },
  {
   "cell_type": "code",
   "execution_count": 22,
   "metadata": {},
   "outputs": [
    {
     "name": "stdout",
     "output_type": "stream",
     "text": [
      "Number of estimated clusters: 4\n",
      "N: 4, Silhoutte score: 0.510536839308842\n"
     ]
    }
   ],
   "source": [
    "labels = ms.labels_\n",
    "n_clusters = len(np.unique(labels))\n",
    "print(\"Number of estimated clusters: {}\".format(n_clusters))\n",
    "silhouette = silhouette_score(X_sc, y_pred, metric=\"euclidean\")\n",
    "print(\"N: {}, Silhoutte score: {}\".format(n_clusters, silhouette))"
   ]
  },
  {
   "cell_type": "markdown",
   "metadata": {},
   "source": [
    "At four clusters, mean-shift might be slightly outperforming KMeans? In any event, it took almost an hour to run."
   ]
  },
  {
   "cell_type": "markdown",
   "metadata": {},
   "source": [
    "## Spectral Clustering"
   ]
  },
  {
   "cell_type": "code",
   "execution_count": 25,
   "metadata": {},
   "outputs": [
    {
     "name": "stdout",
     "output_type": "stream",
     "text": [
      "Done\n",
      "N: 2, Silhoutte score: 0.2565689884522057\n",
      "Done\n",
      "N: 3, Silhoutte score: 0.08717808790854063\n",
      "Done\n",
      "N: 4, Silhoutte score: 0.09496458645854033\n"
     ]
    }
   ],
   "source": [
    "from sklearn.cluster import SpectralClustering\n",
    "for i in range(2, 5):\n",
    "    sc = SpectralClustering(n_clusters=i)\n",
    "    y_pred = sc.fit_predict(X_sc)\n",
    "    print(\"Done\")\n",
    "    silhouette = silhouette_score(X_sc, y_pred, metric=\"euclidean\")\n",
    "    print(\"N: {}, Silhoutte score: {}\".format(i, silhouette))"
   ]
  },
  {
   "cell_type": "markdown",
   "metadata": {},
   "source": [
    "Not very impressive results, and took hours to run."
   ]
  },
  {
   "cell_type": "markdown",
   "metadata": {},
   "source": [
    "## Affinity Propagation"
   ]
  },
  {
   "cell_type": "code",
   "execution_count": 26,
   "metadata": {},
   "outputs": [
    {
     "ename": "KeyboardInterrupt",
     "evalue": "",
     "output_type": "error",
     "traceback": [
      "\u001b[0;31m---------------------------------------------------------------------------\u001b[0m",
      "\u001b[0;31mKeyboardInterrupt\u001b[0m                         Traceback (most recent call last)",
      "\u001b[0;32m<ipython-input-26-764e8da6638e>\u001b[0m in \u001b[0;36m<module>\u001b[0;34m()\u001b[0m\n\u001b[1;32m      1\u001b[0m \u001b[0;32mfrom\u001b[0m \u001b[0msklearn\u001b[0m\u001b[0;34m.\u001b[0m\u001b[0mcluster\u001b[0m \u001b[0;32mimport\u001b[0m \u001b[0mAffinityPropagation\u001b[0m\u001b[0;34m\u001b[0m\u001b[0m\n\u001b[0;32m----> 2\u001b[0;31m \u001b[0maf\u001b[0m \u001b[0;34m=\u001b[0m \u001b[0mAffinityPropagation\u001b[0m\u001b[0;34m(\u001b[0m\u001b[0mmax_iter\u001b[0m\u001b[0;34m=\u001b[0m\u001b[0;36m200\u001b[0m\u001b[0;34m,\u001b[0m \u001b[0mconvergence_iter\u001b[0m\u001b[0;34m=\u001b[0m\u001b[0;36m15\u001b[0m\u001b[0;34m)\u001b[0m\u001b[0;34m.\u001b[0m\u001b[0mfit\u001b[0m\u001b[0;34m(\u001b[0m\u001b[0mX_sc\u001b[0m\u001b[0;34m)\u001b[0m\u001b[0;34m\u001b[0m\u001b[0m\n\u001b[0m\u001b[1;32m      3\u001b[0m \u001b[0mprint\u001b[0m\u001b[0;34m(\u001b[0m\u001b[0;34m'Done'\u001b[0m\u001b[0;34m)\u001b[0m\u001b[0;34m\u001b[0m\u001b[0m\n\u001b[1;32m      4\u001b[0m \u001b[0mcluster_centers_indices\u001b[0m \u001b[0;34m=\u001b[0m \u001b[0maf\u001b[0m\u001b[0;34m.\u001b[0m\u001b[0mcluster_centers_indices_\u001b[0m\u001b[0;34m\u001b[0m\u001b[0m\n\u001b[1;32m      5\u001b[0m \u001b[0mn_clusters_\u001b[0m \u001b[0;34m=\u001b[0m \u001b[0mlen\u001b[0m\u001b[0;34m(\u001b[0m\u001b[0mcluster_centers_indices\u001b[0m\u001b[0;34m)\u001b[0m\u001b[0;34m\u001b[0m\u001b[0m\n",
      "\u001b[0;32m/anaconda3/lib/python3.6/site-packages/sklearn/cluster/affinity_propagation_.py\u001b[0m in \u001b[0;36mfit\u001b[0;34m(self, X, y)\u001b[0m\n\u001b[1;32m    306\u001b[0m                 \u001b[0mself\u001b[0m\u001b[0;34m.\u001b[0m\u001b[0maffinity_matrix_\u001b[0m\u001b[0;34m,\u001b[0m \u001b[0mself\u001b[0m\u001b[0;34m.\u001b[0m\u001b[0mpreference\u001b[0m\u001b[0;34m,\u001b[0m \u001b[0mmax_iter\u001b[0m\u001b[0;34m=\u001b[0m\u001b[0mself\u001b[0m\u001b[0;34m.\u001b[0m\u001b[0mmax_iter\u001b[0m\u001b[0;34m,\u001b[0m\u001b[0;34m\u001b[0m\u001b[0m\n\u001b[1;32m    307\u001b[0m                 \u001b[0mconvergence_iter\u001b[0m\u001b[0;34m=\u001b[0m\u001b[0mself\u001b[0m\u001b[0;34m.\u001b[0m\u001b[0mconvergence_iter\u001b[0m\u001b[0;34m,\u001b[0m \u001b[0mdamping\u001b[0m\u001b[0;34m=\u001b[0m\u001b[0mself\u001b[0m\u001b[0;34m.\u001b[0m\u001b[0mdamping\u001b[0m\u001b[0;34m,\u001b[0m\u001b[0;34m\u001b[0m\u001b[0m\n\u001b[0;32m--> 308\u001b[0;31m                 copy=self.copy, verbose=self.verbose, return_n_iter=True)\n\u001b[0m\u001b[1;32m    309\u001b[0m \u001b[0;34m\u001b[0m\u001b[0m\n\u001b[1;32m    310\u001b[0m         \u001b[0;32mif\u001b[0m \u001b[0mself\u001b[0m\u001b[0;34m.\u001b[0m\u001b[0maffinity\u001b[0m \u001b[0;34m!=\u001b[0m \u001b[0;34m\"precomputed\"\u001b[0m\u001b[0;34m:\u001b[0m\u001b[0;34m\u001b[0m\u001b[0m\n",
      "\u001b[0;32m/anaconda3/lib/python3.6/site-packages/sklearn/cluster/affinity_propagation_.py\u001b[0m in \u001b[0;36maffinity_propagation\u001b[0;34m(S, preference, convergence_iter, max_iter, damping, copy, verbose, return_n_iter)\u001b[0m\n\u001b[1;32m    119\u001b[0m \u001b[0;34m\u001b[0m\u001b[0m\n\u001b[1;32m    120\u001b[0m         \u001b[0;31m# tmp = Rnew\u001b[0m\u001b[0;34m\u001b[0m\u001b[0;34m\u001b[0m\u001b[0m\n\u001b[0;32m--> 121\u001b[0;31m         \u001b[0mnp\u001b[0m\u001b[0;34m.\u001b[0m\u001b[0msubtract\u001b[0m\u001b[0;34m(\u001b[0m\u001b[0mS\u001b[0m\u001b[0;34m,\u001b[0m \u001b[0mY\u001b[0m\u001b[0;34m[\u001b[0m\u001b[0;34m:\u001b[0m\u001b[0;34m,\u001b[0m \u001b[0;32mNone\u001b[0m\u001b[0;34m]\u001b[0m\u001b[0;34m,\u001b[0m \u001b[0mtmp\u001b[0m\u001b[0;34m)\u001b[0m\u001b[0;34m\u001b[0m\u001b[0m\n\u001b[0m\u001b[1;32m    122\u001b[0m         \u001b[0mtmp\u001b[0m\u001b[0;34m[\u001b[0m\u001b[0mind\u001b[0m\u001b[0;34m,\u001b[0m \u001b[0mI\u001b[0m\u001b[0;34m]\u001b[0m \u001b[0;34m=\u001b[0m \u001b[0mS\u001b[0m\u001b[0;34m[\u001b[0m\u001b[0mind\u001b[0m\u001b[0;34m,\u001b[0m \u001b[0mI\u001b[0m\u001b[0;34m]\u001b[0m \u001b[0;34m-\u001b[0m \u001b[0mY2\u001b[0m\u001b[0;34m\u001b[0m\u001b[0m\n\u001b[1;32m    123\u001b[0m \u001b[0;34m\u001b[0m\u001b[0m\n",
      "\u001b[0;31mKeyboardInterrupt\u001b[0m: "
     ]
    }
   ],
   "source": [
    "from sklearn.cluster import AffinityPropagation\n",
    "af = AffinityPropagation(max_iter=200, convergence_iter=15).fit(X_sc)\n",
    "print('Done')\n",
    "cluster_centers_indices = af.cluster_centers_indices_\n",
    "n_clusters_ = len(cluster_centers_indices)\n",
    "labels = af.labels_\n",
    "print('Estimated number of clusters: {}'.format(n_clusters_))"
   ]
  },
  {
   "cell_type": "markdown",
   "metadata": {},
   "source": [
    "After over six+ hours of running, I give up.\n",
    "\n",
    "I would say that KMeans wins if only for the reason that it runs in a timeframe amenable to a human lifespan."
   ]
  },
  {
   "cell_type": "markdown",
   "metadata": {},
   "source": [
    "## Best model: KMeans\n",
    "\n",
    "Open question: 2 or 4 clusters?"
   ]
  },
  {
   "cell_type": "code",
   "execution_count": 27,
   "metadata": {},
   "outputs": [],
   "source": [
    "# Assume four clusters in the interest of moving forward\n",
    "km = KMeans(n_clusters=4)\n",
    "y_pred = km.fit_predict(X_sc)"
   ]
  },
  {
   "cell_type": "code",
   "execution_count": 28,
   "metadata": {},
   "outputs": [],
   "source": [
    "df[\"target\"] = y_pred"
   ]
  },
  {
   "cell_type": "code",
   "execution_count": 29,
   "metadata": {},
   "outputs": [
    {
     "data": {
      "text/html": [
       "<div>\n",
       "<style scoped>\n",
       "    .dataframe tbody tr th:only-of-type {\n",
       "        vertical-align: middle;\n",
       "    }\n",
       "\n",
       "    .dataframe tbody tr th {\n",
       "        vertical-align: top;\n",
       "    }\n",
       "\n",
       "    .dataframe thead th {\n",
       "        text-align: right;\n",
       "    }\n",
       "</style>\n",
       "<table border=\"1\" class=\"dataframe\">\n",
       "  <thead>\n",
       "    <tr style=\"text-align: right;\">\n",
       "      <th></th>\n",
       "      <th>target</th>\n",
       "      <th>0</th>\n",
       "      <th>1</th>\n",
       "      <th>2</th>\n",
       "      <th>3</th>\n",
       "    </tr>\n",
       "  </thead>\n",
       "  <tbody>\n",
       "    <tr>\n",
       "      <th rowspan=\"8\" valign=\"top\">10k</th>\n",
       "      <th>count</th>\n",
       "      <td>8392.000000</td>\n",
       "      <td>3712.000000</td>\n",
       "      <td>11861.000000</td>\n",
       "      <td>7684.000000</td>\n",
       "    </tr>\n",
       "    <tr>\n",
       "      <th>mean</th>\n",
       "      <td>41.973676</td>\n",
       "      <td>67.364235</td>\n",
       "      <td>49.609784</td>\n",
       "      <td>57.689573</td>\n",
       "    </tr>\n",
       "    <tr>\n",
       "      <th>std</th>\n",
       "      <td>3.343501</td>\n",
       "      <td>5.264788</td>\n",
       "      <td>2.643146</td>\n",
       "      <td>3.412237</td>\n",
       "    </tr>\n",
       "    <tr>\n",
       "      <th>min</th>\n",
       "      <td>16.620000</td>\n",
       "      <td>41.780000</td>\n",
       "      <td>39.950000</td>\n",
       "      <td>42.580000</td>\n",
       "    </tr>\n",
       "    <tr>\n",
       "      <th>25%</th>\n",
       "      <td>40.480000</td>\n",
       "      <td>63.920000</td>\n",
       "      <td>47.680000</td>\n",
       "      <td>55.320000</td>\n",
       "    </tr>\n",
       "    <tr>\n",
       "      <th>50%</th>\n",
       "      <td>42.420000</td>\n",
       "      <td>66.710000</td>\n",
       "      <td>49.380000</td>\n",
       "      <td>57.470000</td>\n",
       "    </tr>\n",
       "    <tr>\n",
       "      <th>75%</th>\n",
       "      <td>44.170000</td>\n",
       "      <td>70.130000</td>\n",
       "      <td>51.500000</td>\n",
       "      <td>60.080000</td>\n",
       "    </tr>\n",
       "    <tr>\n",
       "      <th>max</th>\n",
       "      <td>49.470000</td>\n",
       "      <td>112.380000</td>\n",
       "      <td>57.850000</td>\n",
       "      <td>69.420000</td>\n",
       "    </tr>\n",
       "    <tr>\n",
       "      <th rowspan=\"8\" valign=\"top\">20k</th>\n",
       "      <th>count</th>\n",
       "      <td>8392.000000</td>\n",
       "      <td>3712.000000</td>\n",
       "      <td>11861.000000</td>\n",
       "      <td>7684.000000</td>\n",
       "    </tr>\n",
       "    <tr>\n",
       "      <th>mean</th>\n",
       "      <td>84.501693</td>\n",
       "      <td>142.015835</td>\n",
       "      <td>100.407402</td>\n",
       "      <td>117.918261</td>\n",
       "    </tr>\n",
       "    <tr>\n",
       "      <th>std</th>\n",
       "      <td>6.559934</td>\n",
       "      <td>11.240746</td>\n",
       "      <td>5.124206</td>\n",
       "      <td>6.600240</td>\n",
       "    </tr>\n",
       "    <tr>\n",
       "      <th>min</th>\n",
       "      <td>36.100000</td>\n",
       "      <td>103.430000</td>\n",
       "      <td>82.730000</td>\n",
       "      <td>85.950000</td>\n",
       "    </tr>\n",
       "    <tr>\n",
       "      <th>25%</th>\n",
       "      <td>81.350000</td>\n",
       "      <td>133.965000</td>\n",
       "      <td>96.470000</td>\n",
       "      <td>112.670000</td>\n",
       "    </tr>\n",
       "    <tr>\n",
       "      <th>50%</th>\n",
       "      <td>85.290000</td>\n",
       "      <td>139.710000</td>\n",
       "      <td>99.970000</td>\n",
       "      <td>117.120000</td>\n",
       "    </tr>\n",
       "    <tr>\n",
       "      <th>75%</th>\n",
       "      <td>89.050000</td>\n",
       "      <td>148.150000</td>\n",
       "      <td>104.370000</td>\n",
       "      <td>122.955000</td>\n",
       "    </tr>\n",
       "    <tr>\n",
       "      <th>max</th>\n",
       "      <td>97.750000</td>\n",
       "      <td>224.350000</td>\n",
       "      <td>117.970000</td>\n",
       "      <td>146.570000</td>\n",
       "    </tr>\n",
       "    <tr>\n",
       "      <th rowspan=\"8\" valign=\"top\">25k</th>\n",
       "      <th>count</th>\n",
       "      <td>8392.000000</td>\n",
       "      <td>3712.000000</td>\n",
       "      <td>11861.000000</td>\n",
       "      <td>7684.000000</td>\n",
       "    </tr>\n",
       "    <tr>\n",
       "      <th>mean</th>\n",
       "      <td>106.176040</td>\n",
       "      <td>183.591352</td>\n",
       "      <td>126.653900</td>\n",
       "      <td>150.045325</td>\n",
       "    </tr>\n",
       "    <tr>\n",
       "      <th>std</th>\n",
       "      <td>8.294352</td>\n",
       "      <td>14.850734</td>\n",
       "      <td>6.503287</td>\n",
       "      <td>8.528022</td>\n",
       "    </tr>\n",
       "    <tr>\n",
       "      <th>min</th>\n",
       "      <td>45.800000</td>\n",
       "      <td>141.230000</td>\n",
       "      <td>105.470000</td>\n",
       "      <td>108.130000</td>\n",
       "    </tr>\n",
       "    <tr>\n",
       "      <th>25%</th>\n",
       "      <td>102.080000</td>\n",
       "      <td>172.257500</td>\n",
       "      <td>121.480000</td>\n",
       "      <td>142.900000</td>\n",
       "    </tr>\n",
       "    <tr>\n",
       "      <th>50%</th>\n",
       "      <td>107.100000</td>\n",
       "      <td>180.760000</td>\n",
       "      <td>126.150000</td>\n",
       "      <td>149.040000</td>\n",
       "    </tr>\n",
       "    <tr>\n",
       "      <th>75%</th>\n",
       "      <td>112.030000</td>\n",
       "      <td>192.370000</td>\n",
       "      <td>131.830000</td>\n",
       "      <td>156.650000</td>\n",
       "    </tr>\n",
       "    <tr>\n",
       "      <th>max</th>\n",
       "      <td>123.620000</td>\n",
       "      <td>289.020000</td>\n",
       "      <td>149.230000</td>\n",
       "      <td>179.880000</td>\n",
       "    </tr>\n",
       "    <tr>\n",
       "      <th rowspan=\"6\" valign=\"top\">30k</th>\n",
       "      <th>count</th>\n",
       "      <td>8392.000000</td>\n",
       "      <td>3712.000000</td>\n",
       "      <td>11861.000000</td>\n",
       "      <td>7684.000000</td>\n",
       "    </tr>\n",
       "    <tr>\n",
       "      <th>mean</th>\n",
       "      <td>128.967378</td>\n",
       "      <td>228.650835</td>\n",
       "      <td>154.581667</td>\n",
       "      <td>185.134028</td>\n",
       "    </tr>\n",
       "    <tr>\n",
       "      <th>std</th>\n",
       "      <td>10.234097</td>\n",
       "      <td>18.777660</td>\n",
       "      <td>8.194232</td>\n",
       "      <td>11.130930</td>\n",
       "    </tr>\n",
       "    <tr>\n",
       "      <th>min</th>\n",
       "      <td>56.450000</td>\n",
       "      <td>185.620000</td>\n",
       "      <td>128.600000</td>\n",
       "      <td>131.970000</td>\n",
       "    </tr>\n",
       "    <tr>\n",
       "      <th>25%</th>\n",
       "      <td>123.750000</td>\n",
       "      <td>213.860000</td>\n",
       "      <td>147.970000</td>\n",
       "      <td>175.680000</td>\n",
       "    </tr>\n",
       "    <tr>\n",
       "      <th>50%</th>\n",
       "      <td>130.170000</td>\n",
       "      <td>224.910000</td>\n",
       "      <td>154.050000</td>\n",
       "      <td>184.050000</td>\n",
       "    </tr>\n",
       "    <tr>\n",
       "      <th>...</th>\n",
       "      <th>...</th>\n",
       "      <td>...</td>\n",
       "      <td>...</td>\n",
       "      <td>...</td>\n",
       "      <td>...</td>\n",
       "    </tr>\n",
       "    <tr>\n",
       "      <th rowspan=\"6\" valign=\"top\">half</th>\n",
       "      <th>std</th>\n",
       "      <td>6.926424</td>\n",
       "      <td>11.871709</td>\n",
       "      <td>5.394082</td>\n",
       "      <td>6.949228</td>\n",
       "    </tr>\n",
       "    <tr>\n",
       "      <th>min</th>\n",
       "      <td>38.030000</td>\n",
       "      <td>110.320000</td>\n",
       "      <td>87.380000</td>\n",
       "      <td>90.730000</td>\n",
       "    </tr>\n",
       "    <tr>\n",
       "      <th>25%</th>\n",
       "      <td>85.850000</td>\n",
       "      <td>141.630000</td>\n",
       "      <td>101.820000</td>\n",
       "      <td>118.950000</td>\n",
       "    </tr>\n",
       "    <tr>\n",
       "      <th>50%</th>\n",
       "      <td>89.980000</td>\n",
       "      <td>147.780000</td>\n",
       "      <td>105.520000</td>\n",
       "      <td>123.700000</td>\n",
       "    </tr>\n",
       "    <tr>\n",
       "      <th>75%</th>\n",
       "      <td>93.950000</td>\n",
       "      <td>156.640000</td>\n",
       "      <td>110.180000</td>\n",
       "      <td>129.785000</td>\n",
       "    </tr>\n",
       "    <tr>\n",
       "      <th>max</th>\n",
       "      <td>103.280000</td>\n",
       "      <td>236.670000</td>\n",
       "      <td>123.520000</td>\n",
       "      <td>152.500000</td>\n",
       "    </tr>\n",
       "    <tr>\n",
       "      <th rowspan=\"8\" valign=\"top\">official</th>\n",
       "      <th>count</th>\n",
       "      <td>8392.000000</td>\n",
       "      <td>3712.000000</td>\n",
       "      <td>11861.000000</td>\n",
       "      <td>7684.000000</td>\n",
       "    </tr>\n",
       "    <tr>\n",
       "      <th>mean</th>\n",
       "      <td>188.310498</td>\n",
       "      <td>339.290792</td>\n",
       "      <td>227.176548</td>\n",
       "      <td>276.322333</td>\n",
       "    </tr>\n",
       "    <tr>\n",
       "      <th>std</th>\n",
       "      <td>16.915553</td>\n",
       "      <td>27.794414</td>\n",
       "      <td>14.686313</td>\n",
       "      <td>19.755675</td>\n",
       "    </tr>\n",
       "    <tr>\n",
       "      <th>min</th>\n",
       "      <td>80.600000</td>\n",
       "      <td>258.220000</td>\n",
       "      <td>192.900000</td>\n",
       "      <td>224.000000</td>\n",
       "    </tr>\n",
       "    <tr>\n",
       "      <th>25%</th>\n",
       "      <td>178.620000</td>\n",
       "      <td>318.765000</td>\n",
       "      <td>215.930000</td>\n",
       "      <td>260.970000</td>\n",
       "    </tr>\n",
       "    <tr>\n",
       "      <th>50%</th>\n",
       "      <td>190.050000</td>\n",
       "      <td>335.310000</td>\n",
       "      <td>226.250000</td>\n",
       "      <td>274.630000</td>\n",
       "    </tr>\n",
       "    <tr>\n",
       "      <th>75%</th>\n",
       "      <td>199.520000</td>\n",
       "      <td>355.590000</td>\n",
       "      <td>237.130000</td>\n",
       "      <td>289.730000</td>\n",
       "    </tr>\n",
       "    <tr>\n",
       "      <th>max</th>\n",
       "      <td>260.430000</td>\n",
       "      <td>538.880000</td>\n",
       "      <td>303.120000</td>\n",
       "      <td>404.380000</td>\n",
       "    </tr>\n",
       "    <tr>\n",
       "      <th rowspan=\"8\" valign=\"top\">overall</th>\n",
       "      <th>count</th>\n",
       "      <td>8392.000000</td>\n",
       "      <td>3712.000000</td>\n",
       "      <td>11861.000000</td>\n",
       "      <td>7684.000000</td>\n",
       "    </tr>\n",
       "    <tr>\n",
       "      <th>mean</th>\n",
       "      <td>4459.488441</td>\n",
       "      <td>29712.047683</td>\n",
       "      <td>14236.198718</td>\n",
       "      <td>24018.514446</td>\n",
       "    </tr>\n",
       "    <tr>\n",
       "      <th>std</th>\n",
       "      <td>3033.770582</td>\n",
       "      <td>1326.850535</td>\n",
       "      <td>3945.137865</td>\n",
       "      <td>2658.597821</td>\n",
       "    </tr>\n",
       "    <tr>\n",
       "      <th>min</th>\n",
       "      <td>1.000000</td>\n",
       "      <td>21536.000000</td>\n",
       "      <td>4780.000000</td>\n",
       "      <td>13615.000000</td>\n",
       "    </tr>\n",
       "    <tr>\n",
       "      <th>25%</th>\n",
       "      <td>2045.750000</td>\n",
       "      <td>28765.500000</td>\n",
       "      <td>11113.000000</td>\n",
       "      <td>22026.750000</td>\n",
       "    </tr>\n",
       "    <tr>\n",
       "      <th>50%</th>\n",
       "      <td>4149.500000</td>\n",
       "      <td>29835.500000</td>\n",
       "      <td>14256.000000</td>\n",
       "      <td>24110.500000</td>\n",
       "    </tr>\n",
       "    <tr>\n",
       "      <th>75%</th>\n",
       "      <td>6340.250000</td>\n",
       "      <td>30802.250000</td>\n",
       "      <td>17306.000000</td>\n",
       "      <td>26094.250000</td>\n",
       "    </tr>\n",
       "    <tr>\n",
       "      <th>max</th>\n",
       "      <td>21934.000000</td>\n",
       "      <td>31931.000000</td>\n",
       "      <td>27508.000000</td>\n",
       "      <td>31754.000000</td>\n",
       "    </tr>\n",
       "    <tr>\n",
       "      <th rowspan=\"8\" valign=\"top\">pace</th>\n",
       "      <th>count</th>\n",
       "      <td>8392.000000</td>\n",
       "      <td>3712.000000</td>\n",
       "      <td>11861.000000</td>\n",
       "      <td>7684.000000</td>\n",
       "    </tr>\n",
       "    <tr>\n",
       "      <th>mean</th>\n",
       "      <td>7.190466</td>\n",
       "      <td>12.948895</td>\n",
       "      <td>8.672934</td>\n",
       "      <td>10.547432</td>\n",
       "    </tr>\n",
       "    <tr>\n",
       "      <th>std</th>\n",
       "      <td>0.645202</td>\n",
       "      <td>1.059549</td>\n",
       "      <td>0.560192</td>\n",
       "      <td>0.753596</td>\n",
       "    </tr>\n",
       "    <tr>\n",
       "      <th>min</th>\n",
       "      <td>3.080000</td>\n",
       "      <td>9.850000</td>\n",
       "      <td>7.370000</td>\n",
       "      <td>8.550000</td>\n",
       "    </tr>\n",
       "    <tr>\n",
       "      <th>25%</th>\n",
       "      <td>6.820000</td>\n",
       "      <td>12.170000</td>\n",
       "      <td>8.250000</td>\n",
       "      <td>9.970000</td>\n",
       "    </tr>\n",
       "    <tr>\n",
       "      <th>50%</th>\n",
       "      <td>7.250000</td>\n",
       "      <td>12.800000</td>\n",
       "      <td>8.630000</td>\n",
       "      <td>10.480000</td>\n",
       "    </tr>\n",
       "    <tr>\n",
       "      <th>75%</th>\n",
       "      <td>7.620000</td>\n",
       "      <td>13.570000</td>\n",
       "      <td>9.050000</td>\n",
       "      <td>11.070000</td>\n",
       "    </tr>\n",
       "    <tr>\n",
       "      <th>max</th>\n",
       "      <td>9.930000</td>\n",
       "      <td>20.570000</td>\n",
       "      <td>11.570000</td>\n",
       "      <td>15.430000</td>\n",
       "    </tr>\n",
       "  </tbody>\n",
       "</table>\n",
       "<p>96 rows × 4 columns</p>\n",
       "</div>"
      ],
      "text/plain": [
       "target                     0             1             2             3\n",
       "10k      count   8392.000000   3712.000000  11861.000000   7684.000000\n",
       "         mean      41.973676     67.364235     49.609784     57.689573\n",
       "         std        3.343501      5.264788      2.643146      3.412237\n",
       "         min       16.620000     41.780000     39.950000     42.580000\n",
       "         25%       40.480000     63.920000     47.680000     55.320000\n",
       "         50%       42.420000     66.710000     49.380000     57.470000\n",
       "         75%       44.170000     70.130000     51.500000     60.080000\n",
       "         max       49.470000    112.380000     57.850000     69.420000\n",
       "20k      count   8392.000000   3712.000000  11861.000000   7684.000000\n",
       "         mean      84.501693    142.015835    100.407402    117.918261\n",
       "         std        6.559934     11.240746      5.124206      6.600240\n",
       "         min       36.100000    103.430000     82.730000     85.950000\n",
       "         25%       81.350000    133.965000     96.470000    112.670000\n",
       "         50%       85.290000    139.710000     99.970000    117.120000\n",
       "         75%       89.050000    148.150000    104.370000    122.955000\n",
       "         max       97.750000    224.350000    117.970000    146.570000\n",
       "25k      count   8392.000000   3712.000000  11861.000000   7684.000000\n",
       "         mean     106.176040    183.591352    126.653900    150.045325\n",
       "         std        8.294352     14.850734      6.503287      8.528022\n",
       "         min       45.800000    141.230000    105.470000    108.130000\n",
       "         25%      102.080000    172.257500    121.480000    142.900000\n",
       "         50%      107.100000    180.760000    126.150000    149.040000\n",
       "         75%      112.030000    192.370000    131.830000    156.650000\n",
       "         max      123.620000    289.020000    149.230000    179.880000\n",
       "30k      count   8392.000000   3712.000000  11861.000000   7684.000000\n",
       "         mean     128.967378    228.650835    154.581667    185.134028\n",
       "         std       10.234097     18.777660      8.194232     11.130930\n",
       "         min       56.450000    185.620000    128.600000    131.970000\n",
       "         25%      123.750000    213.860000    147.970000    175.680000\n",
       "         50%      130.170000    224.910000    154.050000    184.050000\n",
       "...                      ...           ...           ...           ...\n",
       "half     std        6.926424     11.871709      5.394082      6.949228\n",
       "         min       38.030000    110.320000     87.380000     90.730000\n",
       "         25%       85.850000    141.630000    101.820000    118.950000\n",
       "         50%       89.980000    147.780000    105.520000    123.700000\n",
       "         75%       93.950000    156.640000    110.180000    129.785000\n",
       "         max      103.280000    236.670000    123.520000    152.500000\n",
       "official count   8392.000000   3712.000000  11861.000000   7684.000000\n",
       "         mean     188.310498    339.290792    227.176548    276.322333\n",
       "         std       16.915553     27.794414     14.686313     19.755675\n",
       "         min       80.600000    258.220000    192.900000    224.000000\n",
       "         25%      178.620000    318.765000    215.930000    260.970000\n",
       "         50%      190.050000    335.310000    226.250000    274.630000\n",
       "         75%      199.520000    355.590000    237.130000    289.730000\n",
       "         max      260.430000    538.880000    303.120000    404.380000\n",
       "overall  count   8392.000000   3712.000000  11861.000000   7684.000000\n",
       "         mean    4459.488441  29712.047683  14236.198718  24018.514446\n",
       "         std     3033.770582   1326.850535   3945.137865   2658.597821\n",
       "         min        1.000000  21536.000000   4780.000000  13615.000000\n",
       "         25%     2045.750000  28765.500000  11113.000000  22026.750000\n",
       "         50%     4149.500000  29835.500000  14256.000000  24110.500000\n",
       "         75%     6340.250000  30802.250000  17306.000000  26094.250000\n",
       "         max    21934.000000  31931.000000  27508.000000  31754.000000\n",
       "pace     count   8392.000000   3712.000000  11861.000000   7684.000000\n",
       "         mean       7.190466     12.948895      8.672934     10.547432\n",
       "         std        0.645202      1.059549      0.560192      0.753596\n",
       "         min        3.080000      9.850000      7.370000      8.550000\n",
       "         25%        6.820000     12.170000      8.250000      9.970000\n",
       "         50%        7.250000     12.800000      8.630000     10.480000\n",
       "         75%        7.620000     13.570000      9.050000     11.070000\n",
       "         max        9.930000     20.570000     11.570000     15.430000\n",
       "\n",
       "[96 rows x 4 columns]"
      ]
     },
     "execution_count": 29,
     "metadata": {},
     "output_type": "execute_result"
    }
   ],
   "source": [
    "df.groupby(\"target\").describe().T"
   ]
  },
  {
   "cell_type": "code",
   "execution_count": null,
   "metadata": {},
   "outputs": [],
   "source": []
  }
 ],
 "metadata": {
  "kernelspec": {
   "display_name": "Python 3",
   "language": "python",
   "name": "python3"
  },
  "language_info": {
   "codemirror_mode": {
    "name": "ipython",
    "version": 3
   },
   "file_extension": ".py",
   "mimetype": "text/x-python",
   "name": "python",
   "nbconvert_exporter": "python",
   "pygments_lexer": "ipython3",
   "version": "3.6.6"
  }
 },
 "nbformat": 4,
 "nbformat_minor": 2
}
