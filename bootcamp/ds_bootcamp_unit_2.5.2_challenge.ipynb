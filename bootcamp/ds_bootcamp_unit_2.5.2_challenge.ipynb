{
 "cells": [
  {
   "cell_type": "code",
   "execution_count": 1,
   "metadata": {},
   "outputs": [],
   "source": [
    "# Imports\n",
    "import numpy as np\n",
    "import pandas as pd\n",
    "import matplotlib.pyplot as plt\n",
    "import seaborn as sns\n",
    "import statsmodels.formula.api as smf\n",
    "from statsmodels.sandbox.regression.predstd import wls_prediction_std\n",
    "from sklearn.linear_model import LinearRegression\n",
    "from sklearn.model_selection import train_test_split\n",
    "from sklearn.metrics import r2_score\n",
    "from sklearn.model_selection import cross_val_score\n",
    "\n",
    "%matplotlib inline\n",
    "\n",
    "import warnings\n",
    "warnings.filterwarnings(\"ignore\")"
   ]
  },
  {
   "cell_type": "markdown",
   "metadata": {},
   "source": [
    "## Load data"
   ]
  },
  {
   "cell_type": "code",
   "execution_count": 2,
   "metadata": {},
   "outputs": [
    {
     "data": {
      "text/html": [
       "<div>\n",
       "<style scoped>\n",
       "    .dataframe tbody tr th:only-of-type {\n",
       "        vertical-align: middle;\n",
       "    }\n",
       "\n",
       "    .dataframe tbody tr th {\n",
       "        vertical-align: top;\n",
       "    }\n",
       "\n",
       "    .dataframe thead th {\n",
       "        text-align: right;\n",
       "    }\n",
       "</style>\n",
       "<table border=\"1\" class=\"dataframe\">\n",
       "  <thead>\n",
       "    <tr style=\"text-align: right;\">\n",
       "      <th></th>\n",
       "      <th>city</th>\n",
       "      <th>population</th>\n",
       "      <th>violent_crime</th>\n",
       "      <th>murder</th>\n",
       "      <th>rape_1</th>\n",
       "      <th>rape_2</th>\n",
       "      <th>robbery</th>\n",
       "      <th>aggravated_assult</th>\n",
       "      <th>property_crime</th>\n",
       "      <th>burglary</th>\n",
       "      <th>larceny_theft</th>\n",
       "      <th>motor_vehicle_theft</th>\n",
       "      <th>arson3</th>\n",
       "    </tr>\n",
       "  </thead>\n",
       "  <tbody>\n",
       "    <tr>\n",
       "      <th>0</th>\n",
       "      <td>Adams Village</td>\n",
       "      <td>1,861</td>\n",
       "      <td>0</td>\n",
       "      <td>0.0</td>\n",
       "      <td>NaN</td>\n",
       "      <td>0</td>\n",
       "      <td>0</td>\n",
       "      <td>0</td>\n",
       "      <td>12</td>\n",
       "      <td>2</td>\n",
       "      <td>10</td>\n",
       "      <td>0</td>\n",
       "      <td>0.0</td>\n",
       "    </tr>\n",
       "    <tr>\n",
       "      <th>1</th>\n",
       "      <td>Addison Town and Village</td>\n",
       "      <td>2,577</td>\n",
       "      <td>3</td>\n",
       "      <td>0.0</td>\n",
       "      <td>NaN</td>\n",
       "      <td>0</td>\n",
       "      <td>0</td>\n",
       "      <td>3</td>\n",
       "      <td>24</td>\n",
       "      <td>3</td>\n",
       "      <td>20</td>\n",
       "      <td>1</td>\n",
       "      <td>0.0</td>\n",
       "    </tr>\n",
       "    <tr>\n",
       "      <th>2</th>\n",
       "      <td>Akron Village</td>\n",
       "      <td>2,846</td>\n",
       "      <td>3</td>\n",
       "      <td>0.0</td>\n",
       "      <td>NaN</td>\n",
       "      <td>0</td>\n",
       "      <td>0</td>\n",
       "      <td>3</td>\n",
       "      <td>16</td>\n",
       "      <td>1</td>\n",
       "      <td>15</td>\n",
       "      <td>0</td>\n",
       "      <td>0.0</td>\n",
       "    </tr>\n",
       "    <tr>\n",
       "      <th>3</th>\n",
       "      <td>Albany</td>\n",
       "      <td>97,956</td>\n",
       "      <td>791</td>\n",
       "      <td>8.0</td>\n",
       "      <td>NaN</td>\n",
       "      <td>30</td>\n",
       "      <td>227</td>\n",
       "      <td>526</td>\n",
       "      <td>4,090</td>\n",
       "      <td>705</td>\n",
       "      <td>3,243</td>\n",
       "      <td>142</td>\n",
       "      <td>NaN</td>\n",
       "    </tr>\n",
       "    <tr>\n",
       "      <th>4</th>\n",
       "      <td>Albion Village</td>\n",
       "      <td>6,388</td>\n",
       "      <td>23</td>\n",
       "      <td>0.0</td>\n",
       "      <td>NaN</td>\n",
       "      <td>3</td>\n",
       "      <td>4</td>\n",
       "      <td>16</td>\n",
       "      <td>223</td>\n",
       "      <td>53</td>\n",
       "      <td>165</td>\n",
       "      <td>5</td>\n",
       "      <td>NaN</td>\n",
       "    </tr>\n",
       "  </tbody>\n",
       "</table>\n",
       "</div>"
      ],
      "text/plain": [
       "                       city population violent_crime  murder  rape_1 rape_2  \\\n",
       "0             Adams Village      1,861             0     0.0     NaN      0   \n",
       "1  Addison Town and Village      2,577             3     0.0     NaN      0   \n",
       "2             Akron Village      2,846             3     0.0     NaN      0   \n",
       "3                    Albany     97,956           791     8.0     NaN     30   \n",
       "4            Albion Village      6,388            23     0.0     NaN      3   \n",
       "\n",
       "  robbery aggravated_assult property_crime burglary larceny_theft  \\\n",
       "0       0                 0             12        2            10   \n",
       "1       0                 3             24        3            20   \n",
       "2       0                 3             16        1            15   \n",
       "3     227               526          4,090      705         3,243   \n",
       "4       4                16            223       53           165   \n",
       "\n",
       "  motor_vehicle_theft  arson3  \n",
       "0                   0     0.0  \n",
       "1                   1     0.0  \n",
       "2                   0     0.0  \n",
       "3                 142     NaN  \n",
       "4                   5     NaN  "
      ]
     },
     "execution_count": 2,
     "metadata": {},
     "output_type": "execute_result"
    }
   ],
   "source": [
    "ny_crime_2013 = pd.read_csv(\"ny_crime.csv\", skiprows=5, names=[\"city\", \"population\", \"violent_crime\", \"murder\", \"rape_1\",\n",
    "                                                         \"rape_2\", \"robbery\", \"aggravated_assult\", \"property_crime\",\n",
    "                                                         \"burglary\", \"larceny_theft\", \"motor_vehicle_theft\", \"arson3\"])\n",
    "ny_crime_2013.head()"
   ]
  },
  {
   "cell_type": "code",
   "execution_count": 3,
   "metadata": {},
   "outputs": [
    {
     "data": {
      "text/html": [
       "<div>\n",
       "<style scoped>\n",
       "    .dataframe tbody tr th:only-of-type {\n",
       "        vertical-align: middle;\n",
       "    }\n",
       "\n",
       "    .dataframe tbody tr th {\n",
       "        vertical-align: top;\n",
       "    }\n",
       "\n",
       "    .dataframe thead th {\n",
       "        text-align: right;\n",
       "    }\n",
       "</style>\n",
       "<table border=\"1\" class=\"dataframe\">\n",
       "  <thead>\n",
       "    <tr style=\"text-align: right;\">\n",
       "      <th></th>\n",
       "      <th>city</th>\n",
       "      <th>population</th>\n",
       "      <th>violent_crime</th>\n",
       "      <th>murder</th>\n",
       "      <th>rape_1</th>\n",
       "      <th>rape_2</th>\n",
       "      <th>robbery</th>\n",
       "      <th>aggravated_assult</th>\n",
       "      <th>property_crime</th>\n",
       "      <th>burglary</th>\n",
       "      <th>larceny_theft</th>\n",
       "      <th>motor_vehicle_theft</th>\n",
       "      <th>arson3</th>\n",
       "    </tr>\n",
       "  </thead>\n",
       "  <tbody>\n",
       "    <tr>\n",
       "      <th>0</th>\n",
       "      <td>Adams Village</td>\n",
       "      <td>1851.0</td>\n",
       "      <td>0.0</td>\n",
       "      <td>0.0</td>\n",
       "      <td>NaN</td>\n",
       "      <td>0.0</td>\n",
       "      <td>0.0</td>\n",
       "      <td>0.0</td>\n",
       "      <td>11.0</td>\n",
       "      <td>1.0</td>\n",
       "      <td>10.0</td>\n",
       "      <td>0.0</td>\n",
       "      <td>0.0</td>\n",
       "    </tr>\n",
       "    <tr>\n",
       "      <th>1</th>\n",
       "      <td>Addison Town and Village</td>\n",
       "      <td>2568.0</td>\n",
       "      <td>2.0</td>\n",
       "      <td>0.0</td>\n",
       "      <td>NaN</td>\n",
       "      <td>0.0</td>\n",
       "      <td>1.0</td>\n",
       "      <td>1.0</td>\n",
       "      <td>49.0</td>\n",
       "      <td>1.0</td>\n",
       "      <td>47.0</td>\n",
       "      <td>1.0</td>\n",
       "      <td>0.0</td>\n",
       "    </tr>\n",
       "    <tr>\n",
       "      <th>2</th>\n",
       "      <td>Afton Village4</td>\n",
       "      <td>820.0</td>\n",
       "      <td>0.0</td>\n",
       "      <td>0.0</td>\n",
       "      <td>0.0</td>\n",
       "      <td>NaN</td>\n",
       "      <td>0.0</td>\n",
       "      <td>0.0</td>\n",
       "      <td>1.0</td>\n",
       "      <td>0.0</td>\n",
       "      <td>1.0</td>\n",
       "      <td>0.0</td>\n",
       "      <td>0.0</td>\n",
       "    </tr>\n",
       "    <tr>\n",
       "      <th>3</th>\n",
       "      <td>Akron Village</td>\n",
       "      <td>2842.0</td>\n",
       "      <td>1.0</td>\n",
       "      <td>0.0</td>\n",
       "      <td>NaN</td>\n",
       "      <td>0.0</td>\n",
       "      <td>0.0</td>\n",
       "      <td>1.0</td>\n",
       "      <td>17.0</td>\n",
       "      <td>0.0</td>\n",
       "      <td>17.0</td>\n",
       "      <td>0.0</td>\n",
       "      <td>0.0</td>\n",
       "    </tr>\n",
       "    <tr>\n",
       "      <th>4</th>\n",
       "      <td>Albany4</td>\n",
       "      <td>98595.0</td>\n",
       "      <td>802.0</td>\n",
       "      <td>8.0</td>\n",
       "      <td>54.0</td>\n",
       "      <td>NaN</td>\n",
       "      <td>237.0</td>\n",
       "      <td>503.0</td>\n",
       "      <td>3888.0</td>\n",
       "      <td>683.0</td>\n",
       "      <td>3083.0</td>\n",
       "      <td>122.0</td>\n",
       "      <td>12.0</td>\n",
       "    </tr>\n",
       "  </tbody>\n",
       "</table>\n",
       "</div>"
      ],
      "text/plain": [
       "                       city  population  violent_crime  murder  rape_1  \\\n",
       "0             Adams Village      1851.0            0.0     0.0     NaN   \n",
       "1  Addison Town and Village      2568.0            2.0     0.0     NaN   \n",
       "2            Afton Village4       820.0            0.0     0.0     0.0   \n",
       "3             Akron Village      2842.0            1.0     0.0     NaN   \n",
       "4                   Albany4     98595.0          802.0     8.0    54.0   \n",
       "\n",
       "   rape_2  robbery  aggravated_assult  property_crime  burglary  \\\n",
       "0     0.0      0.0                0.0            11.0       1.0   \n",
       "1     0.0      1.0                1.0            49.0       1.0   \n",
       "2     NaN      0.0                0.0             1.0       0.0   \n",
       "3     0.0      0.0                1.0            17.0       0.0   \n",
       "4     NaN    237.0              503.0          3888.0     683.0   \n",
       "\n",
       "   larceny_theft  motor_vehicle_theft  arson3  \n",
       "0           10.0                  0.0     0.0  \n",
       "1           47.0                  1.0     0.0  \n",
       "2            1.0                  0.0     0.0  \n",
       "3           17.0                  0.0     0.0  \n",
       "4         3083.0                122.0    12.0  "
      ]
     },
     "execution_count": 3,
     "metadata": {},
     "output_type": "execute_result"
    }
   ],
   "source": [
    "ny_crime_2014 = pd.read_excel(\"ny_crime_2014.xls\", skiprows=4, names=[\"city\", \"population\", \"violent_crime\", \"murder\", \"rape_1\",\n",
    "                                                         \"rape_2\", \"robbery\", \"aggravated_assult\", \"property_crime\",\n",
    "                                                         \"burglary\", \"larceny_theft\", \"motor_vehicle_theft\", \"arson3\"])\n",
    "ny_crime_2014.head()"
   ]
  },
  {
   "cell_type": "markdown",
   "metadata": {},
   "source": [
    "## Clean and add features"
   ]
  },
  {
   "cell_type": "code",
   "execution_count": 4,
   "metadata": {},
   "outputs": [],
   "source": [
    "# Create function that removes the commas from the numerical variables and cast to a float\n",
    "def data_cleaner(obs):\n",
    "    obs = str(obs).replace(\",\", \"\")\n",
    "    obs = float(obs)\n",
    "    return obs\n",
    "\n",
    "# Create column list for looping through numeric variables\n",
    "col_names = list(ny_crime_2013.columns)\n",
    "col_names.remove(\"city\")\n",
    "\n",
    "# Apply cleaner\n",
    "for col in col_names:\n",
    "    ny_crime_2013[col] = ny_crime_2013[col].apply(lambda x: data_cleaner(x))\n",
    "    ny_crime_2014[col] = ny_crime_2014[col].apply(lambda x: data_cleaner(x))"
   ]
  },
  {
   "cell_type": "code",
   "execution_count": 5,
   "metadata": {
    "scrolled": true
   },
   "outputs": [
    {
     "name": "stdout",
     "output_type": "stream",
     "text": [
      "<class 'pandas.core.frame.DataFrame'>\n",
      "Int64Index: 348 entries, 0 to 347\n",
      "Data columns (total 6 columns):\n",
      "property_crime       348 non-null float64\n",
      "population           348 non-null float64\n",
      "violent_crime        348 non-null float64\n",
      "murder               348 non-null float64\n",
      "robbery              348 non-null float64\n",
      "aggravated_assult    348 non-null float64\n",
      "dtypes: float64(6)\n",
      "memory usage: 19.0 KB\n"
     ]
    }
   ],
   "source": [
    "feature_variables = [\"population\", \"violent_crime\", \"murder\", \"robbery\", \"aggravated_assult\"]\n",
    "target_variable = \"property_crime\"\n",
    "\n",
    "ny_crime_2013_features = pd.DataFrame()\n",
    "ny_crime_2013_features[target_variable] = ny_crime_2013[target_variable]\n",
    "\n",
    "for feat in feature_variables:\n",
    "    ny_crime_2013_features[feat] = ny_crime_2013[feat]\n",
    "\n",
    "ny_crime_2013_features.dropna(inplace=True)\n",
    "ny_crime_2013_features.info()"
   ]
  },
  {
   "cell_type": "code",
   "execution_count": 6,
   "metadata": {},
   "outputs": [
    {
     "data": {
      "text/html": [
       "<div>\n",
       "<style scoped>\n",
       "    .dataframe tbody tr th:only-of-type {\n",
       "        vertical-align: middle;\n",
       "    }\n",
       "\n",
       "    .dataframe tbody tr th {\n",
       "        vertical-align: top;\n",
       "    }\n",
       "\n",
       "    .dataframe thead th {\n",
       "        text-align: right;\n",
       "    }\n",
       "</style>\n",
       "<table border=\"1\" class=\"dataframe\">\n",
       "  <thead>\n",
       "    <tr style=\"text-align: right;\">\n",
       "      <th></th>\n",
       "      <th>population</th>\n",
       "      <th>violent_crime</th>\n",
       "      <th>murder</th>\n",
       "      <th>robbery</th>\n",
       "      <th>aggravated_assult</th>\n",
       "    </tr>\n",
       "  </thead>\n",
       "  <tbody>\n",
       "    <tr>\n",
       "      <th>population</th>\n",
       "      <td>1.000000</td>\n",
       "      <td>0.998854</td>\n",
       "      <td>0.986758</td>\n",
       "      <td>0.998469</td>\n",
       "      <td>0.999134</td>\n",
       "    </tr>\n",
       "    <tr>\n",
       "      <th>violent_crime</th>\n",
       "      <td>0.998854</td>\n",
       "      <td>1.000000</td>\n",
       "      <td>0.992098</td>\n",
       "      <td>0.999923</td>\n",
       "      <td>0.999942</td>\n",
       "    </tr>\n",
       "    <tr>\n",
       "      <th>murder</th>\n",
       "      <td>0.986758</td>\n",
       "      <td>0.992098</td>\n",
       "      <td>1.000000</td>\n",
       "      <td>0.993104</td>\n",
       "      <td>0.990843</td>\n",
       "    </tr>\n",
       "    <tr>\n",
       "      <th>robbery</th>\n",
       "      <td>0.998469</td>\n",
       "      <td>0.999923</td>\n",
       "      <td>0.993104</td>\n",
       "      <td>1.000000</td>\n",
       "      <td>0.999742</td>\n",
       "    </tr>\n",
       "    <tr>\n",
       "      <th>aggravated_assult</th>\n",
       "      <td>0.999134</td>\n",
       "      <td>0.999942</td>\n",
       "      <td>0.990843</td>\n",
       "      <td>0.999742</td>\n",
       "      <td>1.000000</td>\n",
       "    </tr>\n",
       "  </tbody>\n",
       "</table>\n",
       "</div>"
      ],
      "text/plain": [
       "                   population  violent_crime    murder   robbery  \\\n",
       "population           1.000000       0.998854  0.986758  0.998469   \n",
       "violent_crime        0.998854       1.000000  0.992098  0.999923   \n",
       "murder               0.986758       0.992098  1.000000  0.993104   \n",
       "robbery              0.998469       0.999923  0.993104  1.000000   \n",
       "aggravated_assult    0.999134       0.999942  0.990843  0.999742   \n",
       "\n",
       "                   aggravated_assult  \n",
       "population                  0.999134  \n",
       "violent_crime               0.999942  \n",
       "murder                      0.990843  \n",
       "robbery                     0.999742  \n",
       "aggravated_assult           1.000000  "
      ]
     },
     "execution_count": 6,
     "metadata": {},
     "output_type": "execute_result"
    }
   ],
   "source": [
    "corr_mat = ny_crime_2013_features[feature_variables].corr()\n",
    "corr_mat"
   ]
  },
  {
   "cell_type": "code",
   "execution_count": 7,
   "metadata": {},
   "outputs": [
    {
     "data": {
      "image/png": "[encoded data removed]",
      "text/plain": [
       "<Figure size 432x288 with 2 Axes>"
      ]
     },
     "metadata": {},
     "output_type": "display_data"
    }
   ],
   "source": [
    "sns.heatmap(corr_mat, vmin=0.1, vmax=0.9)\n",
    "plt.show()"
   ]
  },
  {
   "cell_type": "markdown",
   "metadata": {},
   "source": [
    "## Run linear model - attempt #1"
   ]
  },
  {
   "cell_type": "code",
   "execution_count": 8,
   "metadata": {},
   "outputs": [],
   "source": [
    "linear_formula_1 = target_variable + \" ~ \" + \"+\".join(feature_variables)\n",
    "\n",
    "# Fit the model to our data using the formula.\n",
    "lm1 = smf.ols(formula=linear_formula_1, data=ny_crime_2013_features).fit()"
   ]
  },
  {
   "cell_type": "code",
   "execution_count": 9,
   "metadata": {
    "scrolled": true
   },
   "outputs": [
    {
     "name": "stdout",
     "output_type": "stream",
     "text": [
      "Coefficients\n",
      "Intercept             32.87\n",
      "population             0.01\n",
      "violent_crime         61.28\n",
      "murder                13.54\n",
      "robbery              -61.85\n",
      "aggravated_assult    -62.61\n",
      "dtype: object\n",
      "\n",
      "P-values\n",
      "Intercept            0.04330\n",
      "population           0.00000\n",
      "violent_crime        0.00000\n",
      "murder               0.47741\n",
      "robbery              0.00000\n",
      "aggravated_assult    0.00000\n",
      "dtype: object\n",
      "\n",
      "R-squared\n",
      "0.99900\n"
     ]
    }
   ],
   "source": [
    "print(\"Coefficients\")\n",
    "print(lm1.params.apply(lambda x: format(x, \".2f\")))\n",
    "\n",
    "print(\"\\nP-values\")\n",
    "print(lm1.pvalues.apply(lambda x: format(x, \".5f\")))\n",
    "\n",
    "print(\"\\nR-squared\")\n",
    "print(format(lm1.rsquared, \".5f\"))"
   ]
  },
  {
   "cell_type": "markdown",
   "metadata": {},
   "source": [
    "## Run linear model - attempt #2"
   ]
  },
  {
   "cell_type": "code",
   "execution_count": 10,
   "metadata": {},
   "outputs": [],
   "source": [
    "feature_variables_2 = [\"population\", \"murder\", \"robbery\", \"aggravated_assult\"]"
   ]
  },
  {
   "cell_type": "code",
   "execution_count": 11,
   "metadata": {},
   "outputs": [],
   "source": [
    "linear_formula_2 = target_variable + \" ~ \" + \"+\".join(feature_variables_2)\n",
    "\n",
    "# Fit the model to our data using the formula.\n",
    "lm2 = smf.ols(formula=linear_formula_2, data=ny_crime_2013_features).fit()"
   ]
  },
  {
   "cell_type": "code",
   "execution_count": 12,
   "metadata": {},
   "outputs": [
    {
     "name": "stdout",
     "output_type": "stream",
     "text": [
      "Coefficients:\n",
      "Intercept             90.73\n",
      "population             0.01\n",
      "murder               243.76\n",
      "robbery               -4.73\n",
      "aggravated_assult      1.83\n",
      "dtype: object\n",
      "\n",
      "P-values:\n",
      "Intercept            0.00001\n",
      "population           0.00000\n",
      "murder               0.00000\n",
      "robbery              0.00016\n",
      "aggravated_assult    0.01021\n",
      "dtype: object\n",
      "\n",
      "R-squared:\n",
      "0.99840\n"
     ]
    }
   ],
   "source": [
    "print(\"Coefficients:\")\n",
    "print(lm2.params.apply(lambda x: format(x, \".2f\")))\n",
    "\n",
    "print(\"\\nP-values:\")\n",
    "print(lm2.pvalues.apply(lambda x: format(x, \".5f\")))\n",
    "\n",
    "print(\"\\nR-squared:\")\n",
    "print(format(lm2.rsquared, \".5f\"))"
   ]
  },
  {
   "cell_type": "code",
   "execution_count": 13,
   "metadata": {},
   "outputs": [
    {
     "name": "stdout",
     "output_type": "stream",
     "text": [
      "\n",
      "Coefficients: \n",
      " [ 1.10805385e-02  2.43762884e+02 -4.73130482e+00  1.82585358e+00]\n",
      "\n",
      "Intercept: \n",
      " 90.72997007837284\n",
      "\n",
      "R-squared:\n",
      "0.9984019037962545\n"
     ]
    }
   ],
   "source": [
    "X = ny_crime_2013_features[feature_variables_2]\n",
    "Y = ny_crime_2013_features[target_variable]\n",
    "\n",
    "# Instantiate the model\n",
    "regr = LinearRegression()\n",
    "regr.fit(X=X, y=Y)\n",
    "\n",
    "\n",
    "print('\\nCoefficients: \\n', regr.coef_)\n",
    "print('\\nIntercept: \\n', regr.intercept_)\n",
    "print('\\nR-squared:')\n",
    "print(regr.score(X, Y))"
   ]
  },
  {
   "cell_type": "code",
   "execution_count": 14,
   "metadata": {},
   "outputs": [
    {
     "data": {
      "text/plain": [
       "0.8209790204819934"
      ]
     },
     "execution_count": 14,
     "metadata": {},
     "output_type": "execute_result"
    }
   ],
   "source": [
    "X_train, X_test, y_train, y_test = train_test_split(X, Y)\n",
    "regr = LinearRegression()\n",
    "regr.fit(X=X_train, y=y_train)\n",
    "y_pred = regr.predict(X_test)\n",
    "r2_score(y_test, y_pred)"
   ]
  },
  {
   "cell_type": "code",
   "execution_count": 15,
   "metadata": {
    "scrolled": true
   },
   "outputs": [
    {
     "name": "stdout",
     "output_type": "stream",
     "text": [
      "<class 'pandas.core.frame.DataFrame'>\n",
      "Int64Index: 368 entries, 0 to 368\n",
      "Data columns (total 5 columns):\n",
      "property_crime       368 non-null float64\n",
      "population           368 non-null float64\n",
      "murder               368 non-null float64\n",
      "robbery              368 non-null float64\n",
      "aggravated_assult    368 non-null float64\n",
      "dtypes: float64(5)\n",
      "memory usage: 17.2 KB\n"
     ]
    }
   ],
   "source": [
    "ny_crime_2014_features = pd.DataFrame()\n",
    "ny_crime_2014_features[target_variable] = ny_crime_2014[target_variable]\n",
    "\n",
    "for feat in feature_variables_2:\n",
    "    ny_crime_2014_features[feat] = ny_crime_2014[feat]\n",
    "\n",
    "ny_crime_2014_features.dropna(inplace=True)\n",
    "ny_crime_2014_features.info()"
   ]
  },
  {
   "cell_type": "code",
   "execution_count": 16,
   "metadata": {},
   "outputs": [
    {
     "data": {
      "text/html": [
       "<div>\n",
       "<style scoped>\n",
       "    .dataframe tbody tr th:only-of-type {\n",
       "        vertical-align: middle;\n",
       "    }\n",
       "\n",
       "    .dataframe tbody tr th {\n",
       "        vertical-align: top;\n",
       "    }\n",
       "\n",
       "    .dataframe thead th {\n",
       "        text-align: right;\n",
       "    }\n",
       "</style>\n",
       "<table border=\"1\" class=\"dataframe\">\n",
       "  <thead>\n",
       "    <tr style=\"text-align: right;\">\n",
       "      <th></th>\n",
       "      <th>property_crime</th>\n",
       "      <th>population</th>\n",
       "      <th>murder</th>\n",
       "      <th>robbery</th>\n",
       "      <th>aggravated_assult</th>\n",
       "    </tr>\n",
       "  </thead>\n",
       "  <tbody>\n",
       "    <tr>\n",
       "      <th>0</th>\n",
       "      <td>11.0</td>\n",
       "      <td>1851.0</td>\n",
       "      <td>0.0</td>\n",
       "      <td>0.0</td>\n",
       "      <td>0.0</td>\n",
       "    </tr>\n",
       "    <tr>\n",
       "      <th>1</th>\n",
       "      <td>49.0</td>\n",
       "      <td>2568.0</td>\n",
       "      <td>0.0</td>\n",
       "      <td>1.0</td>\n",
       "      <td>1.0</td>\n",
       "    </tr>\n",
       "    <tr>\n",
       "      <th>2</th>\n",
       "      <td>1.0</td>\n",
       "      <td>820.0</td>\n",
       "      <td>0.0</td>\n",
       "      <td>0.0</td>\n",
       "      <td>0.0</td>\n",
       "    </tr>\n",
       "    <tr>\n",
       "      <th>3</th>\n",
       "      <td>17.0</td>\n",
       "      <td>2842.0</td>\n",
       "      <td>0.0</td>\n",
       "      <td>0.0</td>\n",
       "      <td>1.0</td>\n",
       "    </tr>\n",
       "    <tr>\n",
       "      <th>4</th>\n",
       "      <td>3888.0</td>\n",
       "      <td>98595.0</td>\n",
       "      <td>8.0</td>\n",
       "      <td>237.0</td>\n",
       "      <td>503.0</td>\n",
       "    </tr>\n",
       "  </tbody>\n",
       "</table>\n",
       "</div>"
      ],
      "text/plain": [
       "   property_crime  population  murder  robbery  aggravated_assult\n",
       "0            11.0      1851.0     0.0      0.0                0.0\n",
       "1            49.0      2568.0     0.0      1.0                1.0\n",
       "2             1.0       820.0     0.0      0.0                0.0\n",
       "3            17.0      2842.0     0.0      0.0                1.0\n",
       "4          3888.0     98595.0     8.0    237.0              503.0"
      ]
     },
     "execution_count": 16,
     "metadata": {},
     "output_type": "execute_result"
    }
   ],
   "source": [
    "ny_crime_2014_features.head()"
   ]
  },
  {
   "cell_type": "code",
   "execution_count": 17,
   "metadata": {},
   "outputs": [
    {
     "data": {
      "text/plain": [
       "0.9801392093810525"
      ]
     },
     "execution_count": 17,
     "metadata": {},
     "output_type": "execute_result"
    }
   ],
   "source": [
    "X_test = ny_crime_2014_features[feature_variables_2]\n",
    "y_test = ny_crime_2014_features[target_variable]\n",
    "regr = LinearRegression()\n",
    "regr.fit(X=X, y=Y)\n",
    "y_pred = regr.predict(X_test)\n",
    "r2_score(y_test, y_pred)"
   ]
  },
  {
   "cell_type": "code",
   "execution_count": 18,
   "metadata": {},
   "outputs": [
    {
     "data": {
      "text/plain": [
       "array([ 0.82753743,  0.94153396,  0.08960155,  0.50764646, -0.03380372,\n",
       "        0.67159617,  0.70406463,  0.94500712,  0.97066088,  0.75772687])"
      ]
     },
     "execution_count": 18,
     "metadata": {},
     "output_type": "execute_result"
    }
   ],
   "source": [
    "cross_val_score(regr, X, Y, cv=10, scoring=\"r2\")"
   ]
  },
  {
   "cell_type": "markdown",
   "metadata": {},
   "source": [
    "## Run linear model - attempt #3"
   ]
  },
  {
   "cell_type": "code",
   "execution_count": 19,
   "metadata": {},
   "outputs": [
    {
     "data": {
      "text/html": [
       "<div>\n",
       "<style scoped>\n",
       "    .dataframe tbody tr th:only-of-type {\n",
       "        vertical-align: middle;\n",
       "    }\n",
       "\n",
       "    .dataframe tbody tr th {\n",
       "        vertical-align: top;\n",
       "    }\n",
       "\n",
       "    .dataframe thead th {\n",
       "        text-align: right;\n",
       "    }\n",
       "</style>\n",
       "<table border=\"1\" class=\"dataframe\">\n",
       "  <thead>\n",
       "    <tr style=\"text-align: right;\">\n",
       "      <th></th>\n",
       "      <th>property_crime</th>\n",
       "      <th>population</th>\n",
       "      <th>violent_crime</th>\n",
       "      <th>murder</th>\n",
       "      <th>robbery</th>\n",
       "      <th>aggravated_assult</th>\n",
       "      <th>murder_cat</th>\n",
       "      <th>robbery_cat</th>\n",
       "      <th>aggravated_assult_cat</th>\n",
       "    </tr>\n",
       "  </thead>\n",
       "  <tbody>\n",
       "    <tr>\n",
       "      <th>0</th>\n",
       "      <td>12.0</td>\n",
       "      <td>1861.0</td>\n",
       "      <td>0.0</td>\n",
       "      <td>0.0</td>\n",
       "      <td>0.0</td>\n",
       "      <td>0.0</td>\n",
       "      <td>0</td>\n",
       "      <td>0</td>\n",
       "      <td>0</td>\n",
       "    </tr>\n",
       "    <tr>\n",
       "      <th>1</th>\n",
       "      <td>24.0</td>\n",
       "      <td>2577.0</td>\n",
       "      <td>3.0</td>\n",
       "      <td>0.0</td>\n",
       "      <td>0.0</td>\n",
       "      <td>3.0</td>\n",
       "      <td>0</td>\n",
       "      <td>0</td>\n",
       "      <td>1</td>\n",
       "    </tr>\n",
       "    <tr>\n",
       "      <th>2</th>\n",
       "      <td>16.0</td>\n",
       "      <td>2846.0</td>\n",
       "      <td>3.0</td>\n",
       "      <td>0.0</td>\n",
       "      <td>0.0</td>\n",
       "      <td>3.0</td>\n",
       "      <td>0</td>\n",
       "      <td>0</td>\n",
       "      <td>1</td>\n",
       "    </tr>\n",
       "    <tr>\n",
       "      <th>3</th>\n",
       "      <td>4090.0</td>\n",
       "      <td>97956.0</td>\n",
       "      <td>791.0</td>\n",
       "      <td>8.0</td>\n",
       "      <td>227.0</td>\n",
       "      <td>526.0</td>\n",
       "      <td>1</td>\n",
       "      <td>1</td>\n",
       "      <td>1</td>\n",
       "    </tr>\n",
       "    <tr>\n",
       "      <th>4</th>\n",
       "      <td>223.0</td>\n",
       "      <td>6388.0</td>\n",
       "      <td>23.0</td>\n",
       "      <td>0.0</td>\n",
       "      <td>4.0</td>\n",
       "      <td>16.0</td>\n",
       "      <td>0</td>\n",
       "      <td>1</td>\n",
       "      <td>1</td>\n",
       "    </tr>\n",
       "  </tbody>\n",
       "</table>\n",
       "</div>"
      ],
      "text/plain": [
       "   property_crime  population  violent_crime  murder  robbery  \\\n",
       "0            12.0      1861.0            0.0     0.0      0.0   \n",
       "1            24.0      2577.0            3.0     0.0      0.0   \n",
       "2            16.0      2846.0            3.0     0.0      0.0   \n",
       "3          4090.0     97956.0          791.0     8.0    227.0   \n",
       "4           223.0      6388.0           23.0     0.0      4.0   \n",
       "\n",
       "   aggravated_assult  murder_cat  robbery_cat  aggravated_assult_cat  \n",
       "0                0.0           0            0                      0  \n",
       "1                3.0           0            0                      1  \n",
       "2                3.0           0            0                      1  \n",
       "3              526.0           1            1                      1  \n",
       "4               16.0           0            1                      1  "
      ]
     },
     "execution_count": 19,
     "metadata": {},
     "output_type": "execute_result"
    }
   ],
   "source": [
    "ny_crime_2013_features[\"murder_cat\"] = ny_crime_2013_features[\"murder\"].apply(lambda x: 1 if x > 0 else 0)\n",
    "ny_crime_2013_features[\"robbery_cat\"] = ny_crime_2013_features[\"robbery\"].apply(lambda x: 1 if x > 0 else 0)\n",
    "ny_crime_2013_features[\"aggravated_assult_cat\"] = ny_crime_2013_features[\"aggravated_assult\"].apply(lambda x: 1 if x > 0 else 0)\n",
    "\n",
    "feature_variables_3 = [\"population\", \"murder_cat\", \"robbery_cat\", \"aggravated_assult_cat\"]\n",
    "ny_crime_2013_features.head()"
   ]
  },
  {
   "cell_type": "code",
   "execution_count": 20,
   "metadata": {},
   "outputs": [
    {
     "name": "stdout",
     "output_type": "stream",
     "text": [
      "Coefficients:\n",
      "Intercept                -41.79\n",
      "population                 0.02\n",
      "murder_cat               606.23\n",
      "robbery_cat              102.10\n",
      "aggravated_assult_cat     15.02\n",
      "dtype: object\n",
      "\n",
      "P-values:\n",
      "Intercept                0.59178\n",
      "population               0.00000\n",
      "murder_cat               0.00000\n",
      "robbery_cat              0.19261\n",
      "aggravated_assult_cat    0.87398\n",
      "dtype: object\n",
      "\n",
      "R-squared:\n",
      "0.99345\n"
     ]
    }
   ],
   "source": [
    "linear_formula_3 = target_variable + \" ~ \" + \"+\".join(feature_variables_3)\n",
    "\n",
    "# Fit the model to our data using the formula.\n",
    "lm3 = smf.ols(formula=linear_formula_3, data=ny_crime_2013_features).fit()\n",
    "\n",
    "print(\"Coefficients:\")\n",
    "print(lm3.params.apply(lambda x: format(x, \".2f\")))\n",
    "\n",
    "print(\"\\nP-values:\")\n",
    "print(lm3.pvalues.apply(lambda x: format(x, \".5f\")))\n",
    "\n",
    "print(\"\\nR-squared:\")\n",
    "print(format(lm3.rsquared, \".5f\"))"
   ]
  },
  {
   "cell_type": "code",
   "execution_count": 21,
   "metadata": {},
   "outputs": [
    {
     "data": {
      "text/html": [
       "<div>\n",
       "<style scoped>\n",
       "    .dataframe tbody tr th:only-of-type {\n",
       "        vertical-align: middle;\n",
       "    }\n",
       "\n",
       "    .dataframe tbody tr th {\n",
       "        vertical-align: top;\n",
       "    }\n",
       "\n",
       "    .dataframe thead th {\n",
       "        text-align: right;\n",
       "    }\n",
       "</style>\n",
       "<table border=\"1\" class=\"dataframe\">\n",
       "  <thead>\n",
       "    <tr style=\"text-align: right;\">\n",
       "      <th></th>\n",
       "      <th>population</th>\n",
       "      <th>murder_cat</th>\n",
       "      <th>robbery_cat</th>\n",
       "      <th>aggravated_assult_cat</th>\n",
       "    </tr>\n",
       "  </thead>\n",
       "  <tbody>\n",
       "    <tr>\n",
       "      <th>population</th>\n",
       "      <td>1.000000</td>\n",
       "      <td>0.162309</td>\n",
       "      <td>0.064371</td>\n",
       "      <td>0.039212</td>\n",
       "    </tr>\n",
       "    <tr>\n",
       "      <th>murder_cat</th>\n",
       "      <td>0.162309</td>\n",
       "      <td>1.000000</td>\n",
       "      <td>0.313271</td>\n",
       "      <td>0.195844</td>\n",
       "    </tr>\n",
       "    <tr>\n",
       "      <th>robbery_cat</th>\n",
       "      <td>0.064371</td>\n",
       "      <td>0.313271</td>\n",
       "      <td>1.000000</td>\n",
       "      <td>0.428592</td>\n",
       "    </tr>\n",
       "    <tr>\n",
       "      <th>aggravated_assult_cat</th>\n",
       "      <td>0.039212</td>\n",
       "      <td>0.195844</td>\n",
       "      <td>0.428592</td>\n",
       "      <td>1.000000</td>\n",
       "    </tr>\n",
       "  </tbody>\n",
       "</table>\n",
       "</div>"
      ],
      "text/plain": [
       "                       population  murder_cat  robbery_cat  \\\n",
       "population               1.000000    0.162309     0.064371   \n",
       "murder_cat               0.162309    1.000000     0.313271   \n",
       "robbery_cat              0.064371    0.313271     1.000000   \n",
       "aggravated_assult_cat    0.039212    0.195844     0.428592   \n",
       "\n",
       "                       aggravated_assult_cat  \n",
       "population                          0.039212  \n",
       "murder_cat                          0.195844  \n",
       "robbery_cat                         0.428592  \n",
       "aggravated_assult_cat               1.000000  "
      ]
     },
     "execution_count": 21,
     "metadata": {},
     "output_type": "execute_result"
    }
   ],
   "source": [
    "corr_mat = ny_crime_2013_features[feature_variables_3].corr()\n",
    "corr_mat"
   ]
  },
  {
   "cell_type": "markdown",
   "metadata": {},
   "source": [
    "## Run linear model - attempt #4"
   ]
  },
  {
   "cell_type": "code",
   "execution_count": 22,
   "metadata": {},
   "outputs": [],
   "source": [
    "feature_variables_4 = [\"population\", \"murder_cat\", \"robbery_cat\"]"
   ]
  },
  {
   "cell_type": "code",
   "execution_count": 23,
   "metadata": {},
   "outputs": [
    {
     "name": "stdout",
     "output_type": "stream",
     "text": [
      "Coefficients:\n",
      "Intercept      -32.72\n",
      "population       0.02\n",
      "murder_cat     607.38\n",
      "robbery_cat    106.99\n",
      "dtype: object\n",
      "\n",
      "P-values:\n",
      "Intercept      0.53600\n",
      "population     0.00000\n",
      "murder_cat     0.00000\n",
      "robbery_cat    0.13694\n",
      "dtype: object\n",
      "\n",
      "R-squared:\n",
      "0.99345\n"
     ]
    }
   ],
   "source": [
    "linear_formula_4 = target_variable + \" ~ \" + \"+\".join(feature_variables_4)\n",
    "\n",
    "# Fit the model to our data using the formula.\n",
    "lm4 = smf.ols(formula=linear_formula_4, data=ny_crime_2013_features).fit()\n",
    "\n",
    "print(\"Coefficients:\")\n",
    "print(lm4.params.apply(lambda x: format(x, \".2f\")))\n",
    "\n",
    "print(\"\\nP-values:\")\n",
    "print(lm4.pvalues.apply(lambda x: format(x, \".5f\")))\n",
    "\n",
    "print(\"\\nR-squared:\")\n",
    "print(format(lm4.rsquared, \".5f\"))"
   ]
  },
  {
   "cell_type": "code",
   "execution_count": 24,
   "metadata": {},
   "outputs": [
    {
     "data": {
      "text/html": [
       "<div>\n",
       "<style scoped>\n",
       "    .dataframe tbody tr th:only-of-type {\n",
       "        vertical-align: middle;\n",
       "    }\n",
       "\n",
       "    .dataframe tbody tr th {\n",
       "        vertical-align: top;\n",
       "    }\n",
       "\n",
       "    .dataframe thead th {\n",
       "        text-align: right;\n",
       "    }\n",
       "</style>\n",
       "<table border=\"1\" class=\"dataframe\">\n",
       "  <thead>\n",
       "    <tr style=\"text-align: right;\">\n",
       "      <th></th>\n",
       "      <th>population</th>\n",
       "      <th>murder_cat</th>\n",
       "      <th>robbery_cat</th>\n",
       "    </tr>\n",
       "  </thead>\n",
       "  <tbody>\n",
       "    <tr>\n",
       "      <th>population</th>\n",
       "      <td>1.000000</td>\n",
       "      <td>0.162309</td>\n",
       "      <td>0.064371</td>\n",
       "    </tr>\n",
       "    <tr>\n",
       "      <th>murder_cat</th>\n",
       "      <td>0.162309</td>\n",
       "      <td>1.000000</td>\n",
       "      <td>0.313271</td>\n",
       "    </tr>\n",
       "    <tr>\n",
       "      <th>robbery_cat</th>\n",
       "      <td>0.064371</td>\n",
       "      <td>0.313271</td>\n",
       "      <td>1.000000</td>\n",
       "    </tr>\n",
       "  </tbody>\n",
       "</table>\n",
       "</div>"
      ],
      "text/plain": [
       "             population  murder_cat  robbery_cat\n",
       "population     1.000000    0.162309     0.064371\n",
       "murder_cat     0.162309    1.000000     0.313271\n",
       "robbery_cat    0.064371    0.313271     1.000000"
      ]
     },
     "execution_count": 24,
     "metadata": {},
     "output_type": "execute_result"
    }
   ],
   "source": [
    "corr_mat = ny_crime_2013_features[feature_variables_4].corr()\n",
    "corr_mat"
   ]
  },
  {
   "cell_type": "markdown",
   "metadata": {},
   "source": [
    "## Run linear model - attempt #5"
   ]
  },
  {
   "cell_type": "code",
   "execution_count": 25,
   "metadata": {},
   "outputs": [
    {
     "data": {
      "text/html": [
       "<div>\n",
       "<style scoped>\n",
       "    .dataframe tbody tr th:only-of-type {\n",
       "        vertical-align: middle;\n",
       "    }\n",
       "\n",
       "    .dataframe tbody tr th {\n",
       "        vertical-align: top;\n",
       "    }\n",
       "\n",
       "    .dataframe thead th {\n",
       "        text-align: right;\n",
       "    }\n",
       "</style>\n",
       "<table border=\"1\" class=\"dataframe\">\n",
       "  <thead>\n",
       "    <tr style=\"text-align: right;\">\n",
       "      <th></th>\n",
       "      <th>property_crime</th>\n",
       "      <th>population</th>\n",
       "      <th>violent_crime</th>\n",
       "      <th>murder</th>\n",
       "      <th>robbery</th>\n",
       "      <th>aggravated_assult</th>\n",
       "      <th>murder_cat</th>\n",
       "      <th>robbery_cat</th>\n",
       "      <th>aggravated_assult_cat</th>\n",
       "      <th>pop_sq</th>\n",
       "    </tr>\n",
       "  </thead>\n",
       "  <tbody>\n",
       "    <tr>\n",
       "      <th>0</th>\n",
       "      <td>12.0</td>\n",
       "      <td>1861.0</td>\n",
       "      <td>0.0</td>\n",
       "      <td>0.0</td>\n",
       "      <td>0.0</td>\n",
       "      <td>0.0</td>\n",
       "      <td>0</td>\n",
       "      <td>0</td>\n",
       "      <td>0</td>\n",
       "      <td>3.463321e+06</td>\n",
       "    </tr>\n",
       "    <tr>\n",
       "      <th>1</th>\n",
       "      <td>24.0</td>\n",
       "      <td>2577.0</td>\n",
       "      <td>3.0</td>\n",
       "      <td>0.0</td>\n",
       "      <td>0.0</td>\n",
       "      <td>3.0</td>\n",
       "      <td>0</td>\n",
       "      <td>0</td>\n",
       "      <td>1</td>\n",
       "      <td>6.640929e+06</td>\n",
       "    </tr>\n",
       "    <tr>\n",
       "      <th>2</th>\n",
       "      <td>16.0</td>\n",
       "      <td>2846.0</td>\n",
       "      <td>3.0</td>\n",
       "      <td>0.0</td>\n",
       "      <td>0.0</td>\n",
       "      <td>3.0</td>\n",
       "      <td>0</td>\n",
       "      <td>0</td>\n",
       "      <td>1</td>\n",
       "      <td>8.099716e+06</td>\n",
       "    </tr>\n",
       "    <tr>\n",
       "      <th>3</th>\n",
       "      <td>4090.0</td>\n",
       "      <td>97956.0</td>\n",
       "      <td>791.0</td>\n",
       "      <td>8.0</td>\n",
       "      <td>227.0</td>\n",
       "      <td>526.0</td>\n",
       "      <td>1</td>\n",
       "      <td>1</td>\n",
       "      <td>1</td>\n",
       "      <td>9.595378e+09</td>\n",
       "    </tr>\n",
       "    <tr>\n",
       "      <th>4</th>\n",
       "      <td>223.0</td>\n",
       "      <td>6388.0</td>\n",
       "      <td>23.0</td>\n",
       "      <td>0.0</td>\n",
       "      <td>4.0</td>\n",
       "      <td>16.0</td>\n",
       "      <td>0</td>\n",
       "      <td>1</td>\n",
       "      <td>1</td>\n",
       "      <td>4.080654e+07</td>\n",
       "    </tr>\n",
       "  </tbody>\n",
       "</table>\n",
       "</div>"
      ],
      "text/plain": [
       "   property_crime  population  violent_crime  murder  robbery  \\\n",
       "0            12.0      1861.0            0.0     0.0      0.0   \n",
       "1            24.0      2577.0            3.0     0.0      0.0   \n",
       "2            16.0      2846.0            3.0     0.0      0.0   \n",
       "3          4090.0     97956.0          791.0     8.0    227.0   \n",
       "4           223.0      6388.0           23.0     0.0      4.0   \n",
       "\n",
       "   aggravated_assult  murder_cat  robbery_cat  aggravated_assult_cat  \\\n",
       "0                0.0           0            0                      0   \n",
       "1                3.0           0            0                      1   \n",
       "2                3.0           0            0                      1   \n",
       "3              526.0           1            1                      1   \n",
       "4               16.0           0            1                      1   \n",
       "\n",
       "         pop_sq  \n",
       "0  3.463321e+06  \n",
       "1  6.640929e+06  \n",
       "2  8.099716e+06  \n",
       "3  9.595378e+09  \n",
       "4  4.080654e+07  "
      ]
     },
     "execution_count": 25,
     "metadata": {},
     "output_type": "execute_result"
    }
   ],
   "source": [
    "ny_crime_2013_features[\"pop_sq\"] = ny_crime_2013_features[\"population\"].apply(lambda x: x**2)\n",
    "feature_variables_5 = [\"pop_sq\", \"murder_cat\", \"robbery_cat\"]\n",
    "ny_crime_2013_features.head()"
   ]
  },
  {
   "cell_type": "code",
   "execution_count": 26,
   "metadata": {},
   "outputs": [
    {
     "name": "stdout",
     "output_type": "stream",
     "text": [
      "Coefficients:\n",
      "Intercept        40.09\n",
      "pop_sq            0.00\n",
      "murder_cat     1184.06\n",
      "robbery_cat     300.05\n",
      "dtype: object\n",
      "\n",
      "P-values:\n",
      "Intercept      0.60415\n",
      "pop_sq         0.00000\n",
      "murder_cat     0.00000\n",
      "robbery_cat    0.00451\n",
      "dtype: object\n",
      "\n",
      "R-squared:\n",
      "0.98599\n"
     ]
    }
   ],
   "source": [
    "linear_formula_5 = target_variable + \" ~ \" + \"+\".join(feature_variables_5)\n",
    "\n",
    "# Fit the model to our data using the formula.\n",
    "lm5 = smf.ols(formula=linear_formula_5, data=ny_crime_2013_features).fit()\n",
    "\n",
    "print(\"Coefficients:\")\n",
    "print(lm5.params.apply(lambda x: format(x, \".2f\")))\n",
    "\n",
    "print(\"\\nP-values:\")\n",
    "print(lm5.pvalues.apply(lambda x: format(x, \".5f\")))\n",
    "\n",
    "print(\"\\nR-squared:\")\n",
    "print(format(lm5.rsquared, \".5f\"))"
   ]
  },
  {
   "cell_type": "code",
   "execution_count": 27,
   "metadata": {},
   "outputs": [
    {
     "name": "stdout",
     "output_type": "stream",
     "text": [
      "\n",
      "Coefficients: \n",
      " [1.99256120e-09 1.18406016e+03 3.00052598e+02]\n",
      "\n",
      "Intercept: \n",
      " 40.08610470544852\n",
      "\n",
      "R-squared:\n",
      "0.9859871204030131\n"
     ]
    }
   ],
   "source": [
    "X = ny_crime_2013_features[feature_variables_5]\n",
    "Y = ny_crime_2013_features[target_variable]\n",
    "\n",
    "# Instantiate the model\n",
    "regr = LinearRegression()\n",
    "regr.fit(X=X, y=Y)\n",
    "\n",
    "\n",
    "print('\\nCoefficients: \\n', regr.coef_)\n",
    "print('\\nIntercept: \\n', regr.intercept_)\n",
    "print('\\nR-squared:')\n",
    "print(regr.score(X, Y))"
   ]
  },
  {
   "cell_type": "code",
   "execution_count": 28,
   "metadata": {},
   "outputs": [
    {
     "data": {
      "text/plain": [
       "0.24467774804167852"
      ]
     },
     "execution_count": 28,
     "metadata": {},
     "output_type": "execute_result"
    }
   ],
   "source": [
    "X_train, X_test, y_train, y_test = train_test_split(X, Y)\n",
    "regr = LinearRegression()\n",
    "regr.fit(X=X_train, y=y_train)\n",
    "y_pred = regr.predict(X_test)\n",
    "r2_score(y_test, y_pred)"
   ]
  },
  {
   "cell_type": "code",
   "execution_count": 29,
   "metadata": {},
   "outputs": [
    {
     "data": {
      "text/plain": [
       "array([ 5.37537196e-01,  1.50364211e-01, -3.30296783e+00, -1.11013886e-01,\n",
       "       -5.29245898e-01,  4.73421735e-01, -7.28201421e+03,  1.90837479e-01,\n",
       "        2.43317188e-01,  5.07985153e-01])"
      ]
     },
     "execution_count": 29,
     "metadata": {},
     "output_type": "execute_result"
    }
   ],
   "source": [
    "cross_val_score(regr, X, Y, cv=10, scoring=\"r2\")"
   ]
  },
  {
   "cell_type": "code",
   "execution_count": null,
   "metadata": {},
   "outputs": [],
   "source": []
  }
 ],
 "metadata": {
  "kernelspec": {
   "display_name": "Python 3",
   "language": "python",
   "name": "python3"
  },
  "language_info": {
   "codemirror_mode": {
    "name": "ipython",
    "version": 3
   },
   "file_extension": ".py",
   "mimetype": "text/x-python",
   "name": "python",
   "nbconvert_exporter": "python",
   "pygments_lexer": "ipython3",
   "version": "3.6.5"
  }
 },
 "nbformat": 4,
 "nbformat_minor": 2
}
