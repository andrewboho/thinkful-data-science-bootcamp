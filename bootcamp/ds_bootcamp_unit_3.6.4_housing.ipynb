{
 "cells": [
  {
   "cell_type": "code",
   "execution_count": 4,
   "metadata": {},
   "outputs": [],
   "source": [
    "import time\n",
    "import numpy as np\n",
    "import pandas as pd\n",
    "import matplotlib.pyplot as plt\n",
    "import seaborn as sns\n",
    "\n",
    "from sklearn.model_selection import train_test_split\n",
    "from sklearn.linear_model import LinearRegression\n",
    "from sklearn.linear_model import Ridge\n",
    "from sklearn.linear_model import Lasso\n",
    "from sklearn.model_selection import cross_val_score\n",
    "from sklearn.pipeline import Pipeline\n",
    "from sklearn.grid_search import GridSearchCV\n",
    "from sklearn.metrics import r2_score\n",
    "\n",
    "import statsmodels.formula.api as smf\n",
    "from statsmodels.sandbox.regression.predstd import wls_prediction_std\n",
    "\n",
    "import warnings\n",
    "warnings.filterwarnings(\"ignore\")\n",
    "\n",
    "%matplotlib inline"
   ]
  },
  {
   "cell_type": "markdown",
   "metadata": {},
   "source": [
    "# Melbourne Housing Data\n",
    "From [Kaggle](https://www.kaggle.com/anthonypino/melbourne-housing-market)"
   ]
  },
  {
   "cell_type": "markdown",
   "metadata": {},
   "source": [
    "## Data"
   ]
  },
  {
   "cell_type": "code",
   "execution_count": 5,
   "metadata": {},
   "outputs": [
    {
     "name": "stdout",
     "output_type": "stream",
     "text": [
      "Rows: 52964\n",
      "Columns: 12\n"
     ]
    },
    {
     "data": {
      "text/html": [
       "<div>\n",
       "<style scoped>\n",
       "    .dataframe tbody tr th:only-of-type {\n",
       "        vertical-align: middle;\n",
       "    }\n",
       "\n",
       "    .dataframe tbody tr th {\n",
       "        vertical-align: top;\n",
       "    }\n",
       "\n",
       "    .dataframe thead th {\n",
       "        text-align: right;\n",
       "    }\n",
       "</style>\n",
       "<table border=\"1\" class=\"dataframe\">\n",
       "  <thead>\n",
       "    <tr style=\"text-align: right;\">\n",
       "      <th></th>\n",
       "      <th>Suburb</th>\n",
       "      <th>Address</th>\n",
       "      <th>Rooms</th>\n",
       "      <th>Type</th>\n",
       "      <th>Price</th>\n",
       "      <th>Method</th>\n",
       "      <th>SellerG</th>\n",
       "      <th>Date</th>\n",
       "      <th>Regionname</th>\n",
       "      <th>Propertycount</th>\n",
       "      <th>Distance</th>\n",
       "      <th>CouncilArea</th>\n",
       "    </tr>\n",
       "  </thead>\n",
       "  <tbody>\n",
       "    <tr>\n",
       "      <th>0</th>\n",
       "      <td>Abbotsford</td>\n",
       "      <td>49 Lithgow St</td>\n",
       "      <td>3</td>\n",
       "      <td>h</td>\n",
       "      <td>1490000.0</td>\n",
       "      <td>S</td>\n",
       "      <td>Jellis</td>\n",
       "      <td>1/04/2017</td>\n",
       "      <td>Northern Metropolitan</td>\n",
       "      <td>4019</td>\n",
       "      <td>3.0</td>\n",
       "      <td>Yarra City Council</td>\n",
       "    </tr>\n",
       "    <tr>\n",
       "      <th>1</th>\n",
       "      <td>Abbotsford</td>\n",
       "      <td>59A Turner St</td>\n",
       "      <td>3</td>\n",
       "      <td>h</td>\n",
       "      <td>1220000.0</td>\n",
       "      <td>S</td>\n",
       "      <td>Marshall</td>\n",
       "      <td>1/04/2017</td>\n",
       "      <td>Northern Metropolitan</td>\n",
       "      <td>4019</td>\n",
       "      <td>3.0</td>\n",
       "      <td>Yarra City Council</td>\n",
       "    </tr>\n",
       "    <tr>\n",
       "      <th>2</th>\n",
       "      <td>Abbotsford</td>\n",
       "      <td>119B Yarra St</td>\n",
       "      <td>3</td>\n",
       "      <td>h</td>\n",
       "      <td>1420000.0</td>\n",
       "      <td>S</td>\n",
       "      <td>Nelson</td>\n",
       "      <td>1/04/2017</td>\n",
       "      <td>Northern Metropolitan</td>\n",
       "      <td>4019</td>\n",
       "      <td>3.0</td>\n",
       "      <td>Yarra City Council</td>\n",
       "    </tr>\n",
       "    <tr>\n",
       "      <th>3</th>\n",
       "      <td>Aberfeldie</td>\n",
       "      <td>68 Vida St</td>\n",
       "      <td>3</td>\n",
       "      <td>h</td>\n",
       "      <td>1515000.0</td>\n",
       "      <td>S</td>\n",
       "      <td>Barry</td>\n",
       "      <td>1/04/2017</td>\n",
       "      <td>Western Metropolitan</td>\n",
       "      <td>1543</td>\n",
       "      <td>7.5</td>\n",
       "      <td>Moonee Valley City Council</td>\n",
       "    </tr>\n",
       "    <tr>\n",
       "      <th>4</th>\n",
       "      <td>Airport West</td>\n",
       "      <td>92 Clydesdale Rd</td>\n",
       "      <td>2</td>\n",
       "      <td>h</td>\n",
       "      <td>670000.0</td>\n",
       "      <td>S</td>\n",
       "      <td>Nelson</td>\n",
       "      <td>1/04/2017</td>\n",
       "      <td>Western Metropolitan</td>\n",
       "      <td>3464</td>\n",
       "      <td>10.4</td>\n",
       "      <td>Moonee Valley City Council</td>\n",
       "    </tr>\n",
       "  </tbody>\n",
       "</table>\n",
       "</div>"
      ],
      "text/plain": [
       "         Suburb           Address  Rooms Type      Price Method   SellerG  \\\n",
       "0    Abbotsford     49 Lithgow St      3    h  1490000.0      S    Jellis   \n",
       "1    Abbotsford     59A Turner St      3    h  1220000.0      S  Marshall   \n",
       "2    Abbotsford     119B Yarra St      3    h  1420000.0      S    Nelson   \n",
       "3    Aberfeldie        68 Vida St      3    h  1515000.0      S     Barry   \n",
       "4  Airport West  92 Clydesdale Rd      2    h   670000.0      S    Nelson   \n",
       "\n",
       "        Date             Regionname  Propertycount  Distance  \\\n",
       "0  1/04/2017  Northern Metropolitan           4019       3.0   \n",
       "1  1/04/2017  Northern Metropolitan           4019       3.0   \n",
       "2  1/04/2017  Northern Metropolitan           4019       3.0   \n",
       "3  1/04/2017   Western Metropolitan           1543       7.5   \n",
       "4  1/04/2017   Western Metropolitan           3464      10.4   \n",
       "\n",
       "                  CouncilArea  \n",
       "0          Yarra City Council  \n",
       "1          Yarra City Council  \n",
       "2          Yarra City Council  \n",
       "3  Moonee Valley City Council  \n",
       "4  Moonee Valley City Council  "
      ]
     },
     "execution_count": 5,
     "metadata": {},
     "output_type": "execute_result"
    }
   ],
   "source": [
    "raw_data = pd.read_csv(\"MELBOURNE_HOUSE_PRICES_LESS.csv\")\n",
    "print(\"Rows: {}\\nColumns: {}\".format(raw_data.shape[0], raw_data.shape[1]))\n",
    "raw_data.head()"
   ]
  },
  {
   "cell_type": "code",
   "execution_count": 6,
   "metadata": {},
   "outputs": [
    {
     "name": "stdout",
     "output_type": "stream",
     "text": [
      "<class 'pandas.core.frame.DataFrame'>\n",
      "RangeIndex: 52964 entries, 0 to 52963\n",
      "Data columns (total 12 columns):\n",
      "Suburb           52964 non-null object\n",
      "Address          52964 non-null object\n",
      "Rooms            52964 non-null int64\n",
      "Type             52964 non-null object\n",
      "Price            41196 non-null float64\n",
      "Method           52964 non-null object\n",
      "SellerG          52964 non-null object\n",
      "Date             52964 non-null object\n",
      "Regionname       52964 non-null object\n",
      "Propertycount    52964 non-null int64\n",
      "Distance         52964 non-null float64\n",
      "CouncilArea      52964 non-null object\n",
      "dtypes: float64(2), int64(2), object(8)\n",
      "memory usage: 4.8+ MB\n"
     ]
    }
   ],
   "source": [
    "raw_data.info()"
   ]
  },
  {
   "cell_type": "code",
   "execution_count": 7,
   "metadata": {},
   "outputs": [
    {
     "data": {
      "text/plain": [
       "Suburb               0\n",
       "Address              0\n",
       "Rooms                0\n",
       "Type                 0\n",
       "Price            11768\n",
       "Method               0\n",
       "SellerG              0\n",
       "Date                 0\n",
       "Regionname           0\n",
       "Propertycount        0\n",
       "Distance             0\n",
       "CouncilArea          0\n",
       "dtype: int64"
      ]
     },
     "execution_count": 7,
     "metadata": {},
     "output_type": "execute_result"
    }
   ],
   "source": [
    "raw_data.isnull().sum()"
   ]
  },
  {
   "cell_type": "markdown",
   "metadata": {},
   "source": [
    "### Suburb"
   ]
  },
  {
   "cell_type": "code",
   "execution_count": 8,
   "metadata": {},
   "outputs": [
    {
     "data": {
      "text/plain": [
       "count         52964\n",
       "unique          375\n",
       "top       Reservoir\n",
       "freq           1032\n",
       "Name: Suburb, dtype: object"
      ]
     },
     "execution_count": 8,
     "metadata": {},
     "output_type": "execute_result"
    }
   ],
   "source": [
    "raw_data[\"Suburb\"].describe()"
   ]
  },
  {
   "cell_type": "code",
   "execution_count": 9,
   "metadata": {
    "scrolled": false
   },
   "outputs": [
    {
     "data": {
      "text/plain": [
       "Reservoir            1032\n",
       "Bentleigh East        703\n",
       "Mount Waverley        700\n",
       "Glen Waverley         681\n",
       "Richmond              667\n",
       "Craigieburn           622\n",
       "Preston               580\n",
       "Kew                   564\n",
       "Glen Iris             564\n",
       "Brunswick             537\n",
       "Brighton              523\n",
       "Northcote             517\n",
       "South Yarra           517\n",
       "Balwyn North          502\n",
       "Camberwell            501\n",
       "Hawthorn              500\n",
       "Cheltenham            498\n",
       "Coburg                486\n",
       "Glenroy               486\n",
       "Bundoora              481\n",
       "Brighton East         477\n",
       "Essendon              476\n",
       "Mill Park             467\n",
       "Pascoe Vale           446\n",
       "St Kilda              431\n",
       "Port Melbourne        427\n",
       "Malvern East          424\n",
       "Epping                420\n",
       "Doncaster East        413\n",
       "Hoppers Crossing      412\n",
       "                     ... \n",
       "Olinda                  2\n",
       "Belgrave                2\n",
       "Kilsyth South           1\n",
       "Warneet                 1\n",
       "Yarrambat               1\n",
       "Seville                 1\n",
       "viewbank                1\n",
       "Cockatoo                1\n",
       "Belgrave South          1\n",
       "Kalorama                1\n",
       "Belgrave Heights        1\n",
       "Park Orchards           1\n",
       "Pentland Hills          1\n",
       "Chintin                 1\n",
       "Ferny Creek             1\n",
       "Wandin North            1\n",
       "croydon                 1\n",
       "Gembrook                1\n",
       "Hopetoun Park           1\n",
       "Guys Hill               1\n",
       "Toolern Vale            1\n",
       "Panton Hill             1\n",
       "Avonsleigh              1\n",
       "Yarra Glen              1\n",
       "Lysterfield South       1\n",
       "Menzies Creek           1\n",
       "Maddingley              1\n",
       "Lyndhurst               1\n",
       "Wildwood                1\n",
       "Yarra Junction          1\n",
       "Name: Suburb, Length: 375, dtype: int64"
      ]
     },
     "execution_count": 9,
     "metadata": {},
     "output_type": "execute_result"
    }
   ],
   "source": [
    "raw_data[\"Suburb\"].value_counts()"
   ]
  },
  {
   "cell_type": "code",
   "execution_count": 10,
   "metadata": {},
   "outputs": [
    {
     "data": {
      "text/plain": [
       "Suburb\n",
       "Abbotsford            1,043,008.33\n",
       "Aberfeldie            1,326,969.14\n",
       "Airport West            766,258.63\n",
       "Albanvale               503,305.56\n",
       "Albert Park           1,954,123.85\n",
       "Albion                  618,452.44\n",
       "Alphington            1,404,324.32\n",
       "Altona                  889,918.85\n",
       "Altona Meadows          631,789.47\n",
       "Altona North            792,493.33\n",
       "Ardeer                  603,594.20\n",
       "Armadale              1,622,740.22\n",
       "Ascot Vale            1,052,110.63\n",
       "Ashburton             1,667,464.00\n",
       "Ashwood               1,175,789.91\n",
       "Aspendale             1,072,613.70\n",
       "Aspendale Gardens       870,321.43\n",
       "Attwood                 720,031.25\n",
       "Avondale Heights        842,987.80\n",
       "Avonsleigh                     nan\n",
       "Bacchus Marsh           423,000.00\n",
       "Balaclava               825,116.67\n",
       "Balwyn                1,931,321.76\n",
       "Balwyn North          1,757,060.51\n",
       "Bayswater               753,557.89\n",
       "Bayswater North         708,625.64\n",
       "Beaconsfield            629,000.00\n",
       "Beaconsfield Upper      716,666.67\n",
       "Beaumaris             1,526,066.50\n",
       "Belgrave                500,000.00\n",
       "                          ...     \n",
       "Warrandyte            1,206,846.15\n",
       "Warranwood              835,000.00\n",
       "Waterways             1,012,730.77\n",
       "Watsonia                772,833.01\n",
       "Watsonia North          758,269.23\n",
       "Wattle Glen             860,000.00\n",
       "Werribee                520,395.96\n",
       "Werribee South          497,500.00\n",
       "West Footscray          795,600.49\n",
       "West Melbourne        1,073,418.18\n",
       "Westmeadows             576,471.65\n",
       "Wheelers Hill         1,213,744.12\n",
       "Whittlesea              537,200.00\n",
       "Wildwood              1,030,000.00\n",
       "Williams Landing        660,625.00\n",
       "Williamstown          1,355,828.70\n",
       "Williamstown North      919,616.67\n",
       "Windsor               1,027,250.00\n",
       "Wollert                 570,056.31\n",
       "Wonga Park            1,048,600.00\n",
       "Woori Yallock           950,000.00\n",
       "Wyndham Vale            473,778.57\n",
       "Yallambie               806,111.61\n",
       "Yan Yean              1,415,000.00\n",
       "Yarra Glen              620,000.00\n",
       "Yarra Junction          455,000.00\n",
       "Yarrambat                      nan\n",
       "Yarraville              983,848.95\n",
       "croydon                 730,000.00\n",
       "viewbank                885,000.00\n",
       "Name: Price, Length: 375, dtype: object"
      ]
     },
     "execution_count": 10,
     "metadata": {},
     "output_type": "execute_result"
    }
   ],
   "source": [
    "raw_data.groupby(\"Suburb\")[\"Price\"].mean().apply(lambda x: format(x, \",.2f\"))"
   ]
  },
  {
   "cell_type": "markdown",
   "metadata": {},
   "source": [
    "### Address"
   ]
  },
  {
   "cell_type": "code",
   "execution_count": 11,
   "metadata": {},
   "outputs": [
    {
     "data": {
      "text/plain": [
       "count           52964\n",
       "unique          48396\n",
       "top       3 Parker St\n",
       "freq                7\n",
       "Name: Address, dtype: object"
      ]
     },
     "execution_count": 11,
     "metadata": {},
     "output_type": "execute_result"
    }
   ],
   "source": [
    "raw_data[\"Address\"].describe()"
   ]
  },
  {
   "cell_type": "code",
   "execution_count": 12,
   "metadata": {},
   "outputs": [
    {
     "data": {
      "text/plain": [
       "3 Parker St                  7\n",
       "52 Station St                7\n",
       "14 Northcote St              7\n",
       "57 Bay Rd                    7\n",
       "3 Donald St                  7\n",
       "56 Victoria St               7\n",
       "57 Hinkler Rd                6\n",
       "14 Moray St                  6\n",
       "23 Woorite Pl                6\n",
       "5/169 Centre Dandenong Rd    6\n",
       "4 Berry Ct                   6\n",
       "6 Belmont Av                 6\n",
       "40 Whyte St                  6\n",
       "39 York St                   6\n",
       "11 Highview Rd               6\n",
       "11 The Avenue                6\n",
       "33 Wattle St                 6\n",
       "18 Wave St                   6\n",
       "25 View St                   6\n",
       "37 Cutter St                 6\n",
       "84 Sackville St              6\n",
       "8 Brogil Wk                  6\n",
       "23 Latham St                 6\n",
       "3/3 Narcissus Av             6\n",
       "16a Jassa St                 6\n",
       "103 Longview Rd              6\n",
       "2 Grout St                   6\n",
       "46 Chapel St                 6\n",
       "6 Walter St                  6\n",
       "12/1 Glen Huntly Rd          6\n",
       "                            ..\n",
       "11 Salisbury St              1\n",
       "26 Milton St                 1\n",
       "12 Williamstown Rd           1\n",
       "46 Joffre St                 1\n",
       "43 Tarongo Dr                1\n",
       "72 Smith St                  1\n",
       "2/6 Farnsworth St            1\n",
       "88 Aspire Bvd                1\n",
       "244 Richardson St            1\n",
       "2 Rushworth St               1\n",
       "29 Lambourn Rd               1\n",
       "81 Parramatta Rd             1\n",
       "10 Plover Cl                 1\n",
       "19A Kingston St              1\n",
       "42 Rhone Dr                  1\n",
       "475 Springvale Rd            1\n",
       "14 Menzies St                1\n",
       "503 Royal Pde                1\n",
       "22 Charles St                1\n",
       "22 Themeda Ct                1\n",
       "32 Gaydon St                 1\n",
       "39A Brindy Cr                1\n",
       "2A Dianne St                 1\n",
       "33 Highgate Gr               1\n",
       "328 Nepean Hwy               1\n",
       "22C Tennyson St              1\n",
       "9/12 Bartlett St             1\n",
       "38 Walter St                 1\n",
       "151b Park St                 1\n",
       "49 The Boulevard             1\n",
       "Name: Address, Length: 48396, dtype: int64"
      ]
     },
     "execution_count": 12,
     "metadata": {},
     "output_type": "execute_result"
    }
   ],
   "source": [
    "raw_data[\"Address\"].value_counts()"
   ]
  },
  {
   "cell_type": "code",
   "execution_count": 13,
   "metadata": {},
   "outputs": [
    {
     "data": {
      "text/html": [
       "<div>\n",
       "<style scoped>\n",
       "    .dataframe tbody tr th:only-of-type {\n",
       "        vertical-align: middle;\n",
       "    }\n",
       "\n",
       "    .dataframe tbody tr th {\n",
       "        vertical-align: top;\n",
       "    }\n",
       "\n",
       "    .dataframe thead th {\n",
       "        text-align: right;\n",
       "    }\n",
       "</style>\n",
       "<table border=\"1\" class=\"dataframe\">\n",
       "  <thead>\n",
       "    <tr style=\"text-align: right;\">\n",
       "      <th></th>\n",
       "      <th>Suburb</th>\n",
       "      <th>Address</th>\n",
       "      <th>Rooms</th>\n",
       "      <th>Type</th>\n",
       "      <th>Price</th>\n",
       "      <th>Method</th>\n",
       "      <th>SellerG</th>\n",
       "      <th>Date</th>\n",
       "      <th>Regionname</th>\n",
       "      <th>Propertycount</th>\n",
       "      <th>Distance</th>\n",
       "      <th>CouncilArea</th>\n",
       "    </tr>\n",
       "  </thead>\n",
       "  <tbody>\n",
       "    <tr>\n",
       "      <th>7169</th>\n",
       "      <td>Doncaster</td>\n",
       "      <td>56 Victoria St</td>\n",
       "      <td>3</td>\n",
       "      <td>h</td>\n",
       "      <td>1150000.0</td>\n",
       "      <td>PI</td>\n",
       "      <td>hockingstuart</td>\n",
       "      <td>6/01/2018</td>\n",
       "      <td>Eastern Metropolitan</td>\n",
       "      <td>9028</td>\n",
       "      <td>12.4</td>\n",
       "      <td>Manningham City Council</td>\n",
       "    </tr>\n",
       "    <tr>\n",
       "      <th>11063</th>\n",
       "      <td>Doncaster</td>\n",
       "      <td>56 Victoria St</td>\n",
       "      <td>3</td>\n",
       "      <td>h</td>\n",
       "      <td>1150000.0</td>\n",
       "      <td>PI</td>\n",
       "      <td>hockingstuart</td>\n",
       "      <td>8/01/2018</td>\n",
       "      <td>Eastern Metropolitan</td>\n",
       "      <td>9028</td>\n",
       "      <td>12.4</td>\n",
       "      <td>Manningham City Council</td>\n",
       "    </tr>\n",
       "    <tr>\n",
       "      <th>25552</th>\n",
       "      <td>Doncaster</td>\n",
       "      <td>56 Victoria St</td>\n",
       "      <td>3</td>\n",
       "      <td>h</td>\n",
       "      <td>1150000.0</td>\n",
       "      <td>PI</td>\n",
       "      <td>hockingstuart</td>\n",
       "      <td>16/12/2017</td>\n",
       "      <td>Eastern Metropolitan</td>\n",
       "      <td>9028</td>\n",
       "      <td>12.4</td>\n",
       "      <td>Manningham City Council</td>\n",
       "    </tr>\n",
       "    <tr>\n",
       "      <th>30242</th>\n",
       "      <td>Sandringham</td>\n",
       "      <td>56 Victoria St</td>\n",
       "      <td>5</td>\n",
       "      <td>h</td>\n",
       "      <td>2060000.0</td>\n",
       "      <td>PI</td>\n",
       "      <td>Hodges</td>\n",
       "      <td>18/06/2016</td>\n",
       "      <td>Southern Metropolitan</td>\n",
       "      <td>4497</td>\n",
       "      <td>15.2</td>\n",
       "      <td>Bayside City Council</td>\n",
       "    </tr>\n",
       "    <tr>\n",
       "      <th>38203</th>\n",
       "      <td>Doncaster</td>\n",
       "      <td>56 Victoria St</td>\n",
       "      <td>3</td>\n",
       "      <td>h</td>\n",
       "      <td>1150000.0</td>\n",
       "      <td>PI</td>\n",
       "      <td>hockingstuart</td>\n",
       "      <td>23/12/2017</td>\n",
       "      <td>Eastern Metropolitan</td>\n",
       "      <td>9028</td>\n",
       "      <td>12.4</td>\n",
       "      <td>Manningham City Council</td>\n",
       "    </tr>\n",
       "    <tr>\n",
       "      <th>41352</th>\n",
       "      <td>Sandringham</td>\n",
       "      <td>56 Victoria St</td>\n",
       "      <td>5</td>\n",
       "      <td>h</td>\n",
       "      <td>2250000.0</td>\n",
       "      <td>VB</td>\n",
       "      <td>hockingstuart</td>\n",
       "      <td>24/06/2017</td>\n",
       "      <td>Southern Metropolitan</td>\n",
       "      <td>4497</td>\n",
       "      <td>15.2</td>\n",
       "      <td>Bayside City Council</td>\n",
       "    </tr>\n",
       "    <tr>\n",
       "      <th>52386</th>\n",
       "      <td>Doncaster</td>\n",
       "      <td>56 Victoria St</td>\n",
       "      <td>3</td>\n",
       "      <td>h</td>\n",
       "      <td>1150000.0</td>\n",
       "      <td>PI</td>\n",
       "      <td>hockingstuart</td>\n",
       "      <td>30/12/2017</td>\n",
       "      <td>Eastern Metropolitan</td>\n",
       "      <td>9028</td>\n",
       "      <td>12.4</td>\n",
       "      <td>Manningham City Council</td>\n",
       "    </tr>\n",
       "  </tbody>\n",
       "</table>\n",
       "</div>"
      ],
      "text/plain": [
       "            Suburb         Address  Rooms Type      Price Method  \\\n",
       "7169     Doncaster  56 Victoria St      3    h  1150000.0     PI   \n",
       "11063    Doncaster  56 Victoria St      3    h  1150000.0     PI   \n",
       "25552    Doncaster  56 Victoria St      3    h  1150000.0     PI   \n",
       "30242  Sandringham  56 Victoria St      5    h  2060000.0     PI   \n",
       "38203    Doncaster  56 Victoria St      3    h  1150000.0     PI   \n",
       "41352  Sandringham  56 Victoria St      5    h  2250000.0     VB   \n",
       "52386    Doncaster  56 Victoria St      3    h  1150000.0     PI   \n",
       "\n",
       "             SellerG        Date             Regionname  Propertycount  \\\n",
       "7169   hockingstuart   6/01/2018   Eastern Metropolitan           9028   \n",
       "11063  hockingstuart   8/01/2018   Eastern Metropolitan           9028   \n",
       "25552  hockingstuart  16/12/2017   Eastern Metropolitan           9028   \n",
       "30242         Hodges  18/06/2016  Southern Metropolitan           4497   \n",
       "38203  hockingstuart  23/12/2017   Eastern Metropolitan           9028   \n",
       "41352  hockingstuart  24/06/2017  Southern Metropolitan           4497   \n",
       "52386  hockingstuart  30/12/2017   Eastern Metropolitan           9028   \n",
       "\n",
       "       Distance              CouncilArea  \n",
       "7169       12.4  Manningham City Council  \n",
       "11063      12.4  Manningham City Council  \n",
       "25552      12.4  Manningham City Council  \n",
       "30242      15.2     Bayside City Council  \n",
       "38203      12.4  Manningham City Council  \n",
       "41352      15.2     Bayside City Council  \n",
       "52386      12.4  Manningham City Council  "
      ]
     },
     "execution_count": 13,
     "metadata": {},
     "output_type": "execute_result"
    }
   ],
   "source": [
    "raw_data[raw_data[\"Address\"] ==  \"56 Victoria St\"]"
   ]
  },
  {
   "cell_type": "markdown",
   "metadata": {},
   "source": [
    "### Rooms"
   ]
  },
  {
   "cell_type": "code",
   "execution_count": 14,
   "metadata": {},
   "outputs": [
    {
     "data": {
      "text/plain": [
       "count    52964.000000\n",
       "mean         3.115512\n",
       "std          0.960792\n",
       "min          1.000000\n",
       "25%          3.000000\n",
       "50%          3.000000\n",
       "75%          4.000000\n",
       "max         31.000000\n",
       "Name: Rooms, dtype: float64"
      ]
     },
     "execution_count": 14,
     "metadata": {},
     "output_type": "execute_result"
    }
   ],
   "source": [
    "raw_data[\"Rooms\"].describe()"
   ]
  },
  {
   "cell_type": "markdown",
   "metadata": {},
   "source": [
    "### Type"
   ]
  },
  {
   "cell_type": "code",
   "execution_count": 15,
   "metadata": {},
   "outputs": [
    {
     "data": {
      "text/plain": [
       "count     52964\n",
       "unique        3\n",
       "top           h\n",
       "freq      38057\n",
       "Name: Type, dtype: object"
      ]
     },
     "execution_count": 15,
     "metadata": {},
     "output_type": "execute_result"
    }
   ],
   "source": [
    "raw_data[\"Type\"].describe()"
   ]
  },
  {
   "cell_type": "code",
   "execution_count": 16,
   "metadata": {},
   "outputs": [
    {
     "data": {
      "text/plain": [
       "h    38057\n",
       "u     9732\n",
       "t     5175\n",
       "Name: Type, dtype: int64"
      ]
     },
     "execution_count": 16,
     "metadata": {},
     "output_type": "execute_result"
    }
   ],
   "source": [
    "raw_data[\"Type\"].value_counts()"
   ]
  },
  {
   "cell_type": "markdown",
   "metadata": {},
   "source": [
    "### Price"
   ]
  },
  {
   "cell_type": "code",
   "execution_count": 17,
   "metadata": {},
   "outputs": [
    {
     "data": {
      "text/plain": [
       "count        41,196.00\n",
       "mean      1,001,992.56\n",
       "std         603,396.86\n",
       "min          85,000.00\n",
       "25%         617,000.00\n",
       "50%         835,000.00\n",
       "75%       1,225,000.00\n",
       "max      11,200,000.00\n",
       "Name: Price, dtype: object"
      ]
     },
     "execution_count": 17,
     "metadata": {},
     "output_type": "execute_result"
    }
   ],
   "source": [
    "raw_data[\"Price\"].describe().apply(lambda x: format(x, \",.2f\"))"
   ]
  },
  {
   "cell_type": "code",
   "execution_count": 18,
   "metadata": {},
   "outputs": [
    {
     "data": {
      "image/png": "[encoded data removed]",
      "text/plain": [
       "<Figure size 1008x432 with 1 Axes>"
      ]
     },
     "metadata": {},
     "output_type": "display_data"
    }
   ],
   "source": [
    "fig = plt.figure(figsize=(14, 6))\n",
    "sns.distplot(raw_data[\"Price\"].dropna())\n",
    "plt.show()"
   ]
  },
  {
   "cell_type": "markdown",
   "metadata": {},
   "source": [
    "### Method"
   ]
  },
  {
   "cell_type": "code",
   "execution_count": 19,
   "metadata": {},
   "outputs": [
    {
     "data": {
      "text/plain": [
       "count     52964\n",
       "unique        9\n",
       "top           S\n",
       "freq      29664\n",
       "Name: Method, dtype: object"
      ]
     },
     "execution_count": 19,
     "metadata": {},
     "output_type": "execute_result"
    }
   ],
   "source": [
    "raw_data[\"Method\"].describe()"
   ]
  },
  {
   "cell_type": "code",
   "execution_count": 20,
   "metadata": {},
   "outputs": [
    {
     "data": {
      "text/plain": [
       "S     29664\n",
       "SP     7613\n",
       "PI     7592\n",
       "VB     4468\n",
       "SN     2379\n",
       "PN      521\n",
       "SA      352\n",
       "W       319\n",
       "SS       56\n",
       "Name: Method, dtype: int64"
      ]
     },
     "execution_count": 20,
     "metadata": {},
     "output_type": "execute_result"
    }
   ],
   "source": [
    "raw_data[\"Method\"].value_counts()"
   ]
  },
  {
   "cell_type": "markdown",
   "metadata": {},
   "source": [
    "### SellerG"
   ]
  },
  {
   "cell_type": "code",
   "execution_count": 21,
   "metadata": {},
   "outputs": [
    {
     "data": {
      "text/plain": [
       "count     52964\n",
       "unique      434\n",
       "top       Barry\n",
       "freq       5911\n",
       "Name: SellerG, dtype: object"
      ]
     },
     "execution_count": 21,
     "metadata": {},
     "output_type": "execute_result"
    }
   ],
   "source": [
    "raw_data[\"SellerG\"].describe()"
   ]
  },
  {
   "cell_type": "code",
   "execution_count": 22,
   "metadata": {},
   "outputs": [
    {
     "data": {
      "text/plain": [
       "Barry                     5911\n",
       "Jellis                    4454\n",
       "Nelson                    3967\n",
       "hockingstuart             3766\n",
       "Ray                       3766\n",
       "Buxton                    2817\n",
       "Marshall                  2451\n",
       "Fletchers                 1373\n",
       "Biggin                    1222\n",
       "Harcourts                 1087\n",
       "Woodards                   988\n",
       "YPA                        941\n",
       "Noel                       935\n",
       "McGrath                    885\n",
       "Brad                       880\n",
       "Hodges                     752\n",
       "Stockdale                  697\n",
       "Greg                       669\n",
       "RT                         646\n",
       "Miles                      598\n",
       "Sweeney                    565\n",
       "Raine                      544\n",
       "Jas                        544\n",
       "HAR                        544\n",
       "O'Brien                    520\n",
       "Gary                       512\n",
       "RW                         435\n",
       "Love                       432\n",
       "Kay                        425\n",
       "Philip                     380\n",
       "                          ... \n",
       "Upper                        1\n",
       "iOne                         1\n",
       "Sprint                       1\n",
       "MIG                          1\n",
       "@Realty/@Realty              1\n",
       "Clairmont                    1\n",
       "Doyen                        1\n",
       "Park                         1\n",
       "Karen                        1\n",
       "Icon                         1\n",
       "Woodards/hockingstuart       1\n",
       "SN                           1\n",
       "Sterling                     1\n",
       "Steveway                     1\n",
       "Kontek                       1\n",
       "Better                       1\n",
       "Flanagan                     1\n",
       "Veitch                       1\n",
       "Woodards/Peter               1\n",
       "Regal                        1\n",
       "PSP                          1\n",
       "Nicholas                     1\n",
       "Bustin                       1\n",
       "JK                           1\n",
       "R                            1\n",
       "Joe                          1\n",
       "Knight                       1\n",
       "Vic                          1\n",
       "TTS                          1\n",
       "Conquest                     1\n",
       "Name: SellerG, Length: 434, dtype: int64"
      ]
     },
     "execution_count": 22,
     "metadata": {},
     "output_type": "execute_result"
    }
   ],
   "source": [
    "raw_data[\"SellerG\"].value_counts()"
   ]
  },
  {
   "cell_type": "markdown",
   "metadata": {},
   "source": [
    "### Date"
   ]
  },
  {
   "cell_type": "code",
   "execution_count": 23,
   "metadata": {},
   "outputs": [
    {
     "data": {
      "text/plain": [
       "count          52964\n",
       "unique            91\n",
       "top       24/03/2018\n",
       "freq            1144\n",
       "Name: Date, dtype: object"
      ]
     },
     "execution_count": 23,
     "metadata": {},
     "output_type": "execute_result"
    }
   ],
   "source": [
    "raw_data[\"Date\"].describe()"
   ]
  },
  {
   "cell_type": "code",
   "execution_count": 24,
   "metadata": {},
   "outputs": [
    {
     "data": {
      "text/plain": [
       "24/03/2018    1144\n",
       "28/10/2017    1119\n",
       "17/03/2018     970\n",
       "27/11/2016     946\n",
       "24/02/2018     941\n",
       "9/12/2017      928\n",
       "25/02/2017     924\n",
       "10/12/2016     924\n",
       "25/11/2017     902\n",
       "18/11/2017     866\n",
       "18/03/2017     859\n",
       "4/03/2017      848\n",
       "3/03/2018      846\n",
       "8/04/2017      820\n",
       "6/01/2018      787\n",
       "8/01/2018      787\n",
       "16/12/2017     787\n",
       "30/12/2017     787\n",
       "23/12/2017     787\n",
       "3/12/2016      784\n",
       "27/05/2017     770\n",
       "20/05/2017     767\n",
       "28/04/2018     763\n",
       "23/09/2017     742\n",
       "12/11/2016     741\n",
       "19/11/2016     739\n",
       "16/09/2017     730\n",
       "15/10/2016     730\n",
       "11/11/2017     729\n",
       "28/05/2016     719\n",
       "              ... \n",
       "3/09/2016      511\n",
       "21/04/2018     506\n",
       "29/07/2017     489\n",
       "1/07/2017      482\n",
       "22/04/2017     471\n",
       "30/07/2016     467\n",
       "22/08/2016     456\n",
       "22/07/2017     449\n",
       "6/05/2017      444\n",
       "8/07/2017      429\n",
       "6/08/2016      427\n",
       "15/07/2017     421\n",
       "7/04/2018      418\n",
       "13/08/2016     376\n",
       "16/07/2016     365\n",
       "10/02/2018     341\n",
       "26/07/2016     322\n",
       "23/04/2016     312\n",
       "11/02/2017     279\n",
       "10/03/2018     168\n",
       "12/06/2016     157\n",
       "11/03/2017     130\n",
       "3/02/2018      117\n",
       "4/02/2016      106\n",
       "4/11/2017      103\n",
       "30/09/2017      22\n",
       "20/01/2018      19\n",
       "28/01/2016      17\n",
       "31/03/2018      14\n",
       "27/01/2018      12\n",
       "Name: Date, Length: 91, dtype: int64"
      ]
     },
     "execution_count": 24,
     "metadata": {},
     "output_type": "execute_result"
    }
   ],
   "source": [
    "raw_data[\"Date\"].value_counts()"
   ]
  },
  {
   "cell_type": "markdown",
   "metadata": {},
   "source": [
    "### Regionname"
   ]
  },
  {
   "cell_type": "code",
   "execution_count": 25,
   "metadata": {},
   "outputs": [
    {
     "data": {
      "text/plain": [
       "count                     52964\n",
       "unique                        8\n",
       "top       Southern Metropolitan\n",
       "freq                      14859\n",
       "Name: Regionname, dtype: object"
      ]
     },
     "execution_count": 25,
     "metadata": {},
     "output_type": "execute_result"
    }
   ],
   "source": [
    "raw_data[\"Regionname\"].describe()"
   ]
  },
  {
   "cell_type": "code",
   "execution_count": 26,
   "metadata": {},
   "outputs": [
    {
     "data": {
      "text/plain": [
       "Southern Metropolitan         14859\n",
       "Northern Metropolitan         13910\n",
       "Western Metropolitan           9801\n",
       "Eastern Metropolitan           8810\n",
       "South-Eastern Metropolitan     4421\n",
       "Eastern Victoria                480\n",
       "Northern Victoria               472\n",
       "Western Victoria                211\n",
       "Name: Regionname, dtype: int64"
      ]
     },
     "execution_count": 26,
     "metadata": {},
     "output_type": "execute_result"
    }
   ],
   "source": [
    "raw_data[\"Regionname\"].value_counts()"
   ]
  },
  {
   "cell_type": "markdown",
   "metadata": {},
   "source": [
    "### Propertycount"
   ]
  },
  {
   "cell_type": "code",
   "execution_count": 27,
   "metadata": {},
   "outputs": [
    {
     "data": {
      "text/plain": [
       "count    52964.000000\n",
       "mean      7610.820595\n",
       "std       4414.860634\n",
       "min         39.000000\n",
       "25%       4380.000000\n",
       "50%       6795.000000\n",
       "75%      10412.000000\n",
       "max      21650.000000\n",
       "Name: Propertycount, dtype: float64"
      ]
     },
     "execution_count": 27,
     "metadata": {},
     "output_type": "execute_result"
    }
   ],
   "source": [
    "raw_data[\"Propertycount\"].describe()"
   ]
  },
  {
   "cell_type": "code",
   "execution_count": 28,
   "metadata": {},
   "outputs": [
    {
     "data": {
      "text/plain": [
       "Suburb\n",
       "Abbotsford             4019\n",
       "Aberfeldie             1543\n",
       "Airport West           3464\n",
       "Albanvale              1899\n",
       "Albert Park            3280\n",
       "Albion                 2185\n",
       "Alphington             2211\n",
       "Altona                 5301\n",
       "Altona Meadows         7630\n",
       "Altona North           5132\n",
       "Ardeer                 1281\n",
       "Armadale               4836\n",
       "Ascot Vale             6567\n",
       "Ashburton              3052\n",
       "Ashwood                2894\n",
       "Aspendale              2824\n",
       "Aspendale Gardens      2243\n",
       "Attwood                1130\n",
       "Avondale Heights       4502\n",
       "Avonsleigh              335\n",
       "Bacchus Marsh          2871\n",
       "Balaclava              2952\n",
       "Balwyn                 5682\n",
       "Balwyn North           7809\n",
       "Bayswater              5030\n",
       "Bayswater North        3598\n",
       "Beaconsfield           2332\n",
       "Beaconsfield Upper      973\n",
       "Beaumaris              5366\n",
       "Belgrave               1588\n",
       "                      ...  \n",
       "Warrandyte             2003\n",
       "Warranwood             1595\n",
       "Waterways               709\n",
       "Watsonia               2329\n",
       "Watsonia North         1442\n",
       "Wattle Glen             642\n",
       "Werribee              16166\n",
       "Werribee South          821\n",
       "West Footscray         5058\n",
       "West Melbourne         2230\n",
       "Westmeadows            2474\n",
       "Wheelers Hill          7392\n",
       "Whittlesea             2170\n",
       "Wildwood                 83\n",
       "Williams Landing       1999\n",
       "Williamstown           6380\n",
       "Williamstown North      802\n",
       "Windsor                4380\n",
       "Wollert                2940\n",
       "Wonga Park             1328\n",
       "Woori Yallock          1164\n",
       "Wyndham Vale           5262\n",
       "Yallambie              1369\n",
       "Yan Yean                122\n",
       "Yarra Glen             1160\n",
       "Yarra Junction         1075\n",
       "Yarrambat               577\n",
       "Yarraville             6543\n",
       "croydon               11925\n",
       "viewbank               2698\n",
       "Name: Propertycount, Length: 375, dtype: int64"
      ]
     },
     "execution_count": 28,
     "metadata": {},
     "output_type": "execute_result"
    }
   ],
   "source": [
    "raw_data.groupby(\"Suburb\")[\"Propertycount\"].mean()"
   ]
  },
  {
   "cell_type": "code",
   "execution_count": 29,
   "metadata": {},
   "outputs": [
    {
     "data": {
      "text/html": [
       "<div>\n",
       "<style scoped>\n",
       "    .dataframe tbody tr th:only-of-type {\n",
       "        vertical-align: middle;\n",
       "    }\n",
       "\n",
       "    .dataframe tbody tr th {\n",
       "        vertical-align: top;\n",
       "    }\n",
       "\n",
       "    .dataframe thead th {\n",
       "        text-align: right;\n",
       "    }\n",
       "</style>\n",
       "<table border=\"1\" class=\"dataframe\">\n",
       "  <thead>\n",
       "    <tr style=\"text-align: right;\">\n",
       "      <th></th>\n",
       "      <th>Suburb</th>\n",
       "      <th>Address</th>\n",
       "      <th>Rooms</th>\n",
       "      <th>Type</th>\n",
       "      <th>Price</th>\n",
       "      <th>Method</th>\n",
       "      <th>SellerG</th>\n",
       "      <th>Date</th>\n",
       "      <th>Regionname</th>\n",
       "      <th>Propertycount</th>\n",
       "      <th>Distance</th>\n",
       "      <th>CouncilArea</th>\n",
       "    </tr>\n",
       "  </thead>\n",
       "  <tbody>\n",
       "    <tr>\n",
       "      <th>0</th>\n",
       "      <td>Abbotsford</td>\n",
       "      <td>49 Lithgow St</td>\n",
       "      <td>3</td>\n",
       "      <td>h</td>\n",
       "      <td>1490000.0</td>\n",
       "      <td>S</td>\n",
       "      <td>Jellis</td>\n",
       "      <td>1/04/2017</td>\n",
       "      <td>Northern Metropolitan</td>\n",
       "      <td>4019</td>\n",
       "      <td>3.0</td>\n",
       "      <td>Yarra City Council</td>\n",
       "    </tr>\n",
       "    <tr>\n",
       "      <th>1</th>\n",
       "      <td>Abbotsford</td>\n",
       "      <td>59A Turner St</td>\n",
       "      <td>3</td>\n",
       "      <td>h</td>\n",
       "      <td>1220000.0</td>\n",
       "      <td>S</td>\n",
       "      <td>Marshall</td>\n",
       "      <td>1/04/2017</td>\n",
       "      <td>Northern Metropolitan</td>\n",
       "      <td>4019</td>\n",
       "      <td>3.0</td>\n",
       "      <td>Yarra City Council</td>\n",
       "    </tr>\n",
       "    <tr>\n",
       "      <th>2</th>\n",
       "      <td>Abbotsford</td>\n",
       "      <td>119B Yarra St</td>\n",
       "      <td>3</td>\n",
       "      <td>h</td>\n",
       "      <td>1420000.0</td>\n",
       "      <td>S</td>\n",
       "      <td>Nelson</td>\n",
       "      <td>1/04/2017</td>\n",
       "      <td>Northern Metropolitan</td>\n",
       "      <td>4019</td>\n",
       "      <td>3.0</td>\n",
       "      <td>Yarra City Council</td>\n",
       "    </tr>\n",
       "    <tr>\n",
       "      <th>670</th>\n",
       "      <td>Abbotsford</td>\n",
       "      <td>256 Langridge St</td>\n",
       "      <td>3</td>\n",
       "      <td>h</td>\n",
       "      <td>1350000.0</td>\n",
       "      <td>S</td>\n",
       "      <td>Biggin</td>\n",
       "      <td>1/07/2017</td>\n",
       "      <td>Northern Metropolitan</td>\n",
       "      <td>4019</td>\n",
       "      <td>3.0</td>\n",
       "      <td>Yarra City Council</td>\n",
       "    </tr>\n",
       "    <tr>\n",
       "      <th>2804</th>\n",
       "      <td>Abbotsford</td>\n",
       "      <td>68 Studley St</td>\n",
       "      <td>2</td>\n",
       "      <td>h</td>\n",
       "      <td>NaN</td>\n",
       "      <td>SS</td>\n",
       "      <td>Jellis</td>\n",
       "      <td>3/09/2016</td>\n",
       "      <td>Northern Metropolitan</td>\n",
       "      <td>4019</td>\n",
       "      <td>3.0</td>\n",
       "      <td>Yarra City Council</td>\n",
       "    </tr>\n",
       "  </tbody>\n",
       "</table>\n",
       "</div>"
      ],
      "text/plain": [
       "          Suburb           Address  Rooms Type      Price Method   SellerG  \\\n",
       "0     Abbotsford     49 Lithgow St      3    h  1490000.0      S    Jellis   \n",
       "1     Abbotsford     59A Turner St      3    h  1220000.0      S  Marshall   \n",
       "2     Abbotsford     119B Yarra St      3    h  1420000.0      S    Nelson   \n",
       "670   Abbotsford  256 Langridge St      3    h  1350000.0      S    Biggin   \n",
       "2804  Abbotsford     68 Studley St      2    h        NaN     SS    Jellis   \n",
       "\n",
       "           Date             Regionname  Propertycount  Distance  \\\n",
       "0     1/04/2017  Northern Metropolitan           4019       3.0   \n",
       "1     1/04/2017  Northern Metropolitan           4019       3.0   \n",
       "2     1/04/2017  Northern Metropolitan           4019       3.0   \n",
       "670   1/07/2017  Northern Metropolitan           4019       3.0   \n",
       "2804  3/09/2016  Northern Metropolitan           4019       3.0   \n",
       "\n",
       "             CouncilArea  \n",
       "0     Yarra City Council  \n",
       "1     Yarra City Council  \n",
       "2     Yarra City Council  \n",
       "670   Yarra City Council  \n",
       "2804  Yarra City Council  "
      ]
     },
     "execution_count": 29,
     "metadata": {},
     "output_type": "execute_result"
    }
   ],
   "source": [
    "raw_data[raw_data[\"Suburb\"] == \"Abbotsford\"].head()"
   ]
  },
  {
   "cell_type": "markdown",
   "metadata": {},
   "source": [
    "### Distance"
   ]
  },
  {
   "cell_type": "code",
   "execution_count": 30,
   "metadata": {},
   "outputs": [
    {
     "data": {
      "text/plain": [
       "count    52964.000000\n",
       "mean        12.704475\n",
       "std          7.631408\n",
       "min          0.000000\n",
       "25%          7.000000\n",
       "50%         11.400000\n",
       "75%         16.700000\n",
       "max         65.000000\n",
       "Name: Distance, dtype: float64"
      ]
     },
     "execution_count": 30,
     "metadata": {},
     "output_type": "execute_result"
    }
   ],
   "source": [
    "raw_data[\"Distance\"].describe()"
   ]
  },
  {
   "cell_type": "code",
   "execution_count": 31,
   "metadata": {},
   "outputs": [
    {
     "data": {
      "text/plain": [
       "Suburb\n",
       "Abbotsford             3.0\n",
       "Aberfeldie             7.5\n",
       "Airport West          10.4\n",
       "Albanvale             14.0\n",
       "Albert Park            3.0\n",
       "Albion                10.5\n",
       "Alphington             5.7\n",
       "Altona                11.0\n",
       "Altona Meadows        15.5\n",
       "Altona North           9.4\n",
       "Ardeer                12.8\n",
       "Armadale               6.3\n",
       "Ascot Vale             4.3\n",
       "Ashburton             10.2\n",
       "Ashwood               10.2\n",
       "Aspendale             21.5\n",
       "Aspendale Gardens     21.5\n",
       "Attwood               16.5\n",
       "Avondale Heights       9.5\n",
       "Avonsleigh            36.9\n",
       "Bacchus Marsh         37.5\n",
       "Balaclava              6.4\n",
       "Balwyn                 7.9\n",
       "Balwyn North           9.7\n",
       "Bayswater             23.2\n",
       "Bayswater North       23.2\n",
       "Beaconsfield          39.0\n",
       "Beaconsfield Upper    39.8\n",
       "Beaumaris             17.3\n",
       "Belgrave              30.4\n",
       "                      ... \n",
       "Warrandyte            21.1\n",
       "Warranwood            19.9\n",
       "Waterways             21.5\n",
       "Watsonia              14.5\n",
       "Watsonia North        14.5\n",
       "Wattle Glen           23.6\n",
       "Werribee              14.7\n",
       "Werribee South        14.7\n",
       "West Footscray         6.4\n",
       "West Melbourne         3.1\n",
       "Westmeadows           16.5\n",
       "Wheelers Hill         16.7\n",
       "Whittlesea            35.5\n",
       "Wildwood              31.7\n",
       "Williams Landing      17.6\n",
       "Williamstown           6.8\n",
       "Williamstown North     6.8\n",
       "Windsor                4.6\n",
       "Wollert               25.5\n",
       "Wonga Park            25.2\n",
       "Woori Yallock         35.2\n",
       "Wyndham Vale          27.2\n",
       "Yallambie             12.7\n",
       "Yan Yean              29.3\n",
       "Yarra Glen            31.4\n",
       "Yarra Junction        49.3\n",
       "Yarrambat             23.4\n",
       "Yarraville             6.3\n",
       "croydon               23.0\n",
       "viewbank               8.9\n",
       "Name: Distance, Length: 375, dtype: float64"
      ]
     },
     "execution_count": 31,
     "metadata": {},
     "output_type": "execute_result"
    }
   ],
   "source": [
    "raw_data.groupby(\"Suburb\")[\"Distance\"].mean()"
   ]
  },
  {
   "cell_type": "markdown",
   "metadata": {},
   "source": [
    "### CouncilArea"
   ]
  },
  {
   "cell_type": "code",
   "execution_count": 32,
   "metadata": {},
   "outputs": [
    {
     "data": {
      "text/plain": [
       "count                       52964\n",
       "unique                         33\n",
       "top       Boroondara City Council\n",
       "freq                         4356\n",
       "Name: CouncilArea, dtype: object"
      ]
     },
     "execution_count": 32,
     "metadata": {},
     "output_type": "execute_result"
    }
   ],
   "source": [
    "raw_data[\"CouncilArea\"].describe()"
   ]
  },
  {
   "cell_type": "code",
   "execution_count": 33,
   "metadata": {},
   "outputs": [
    {
     "data": {
      "text/plain": [
       "Boroondara City Council           4356\n",
       "Darebin City Council              3462\n",
       "Banyule City Council              3146\n",
       "Monash City Council               3023\n",
       "Bayside City Council              2847\n",
       "Brimbank City Council             2825\n",
       "Moreland City Council             2555\n",
       "Glen Eira City Council            2437\n",
       "Hume City Council                 2390\n",
       "Melbourne City Council            2285\n",
       "Moonee Valley City Council        2086\n",
       "Whittlesea City Council           2081\n",
       "Kingston City Council             1984\n",
       "Manningham City Council           1879\n",
       "Maribyrnong City Council          1733\n",
       "Stonnington City Council          1705\n",
       "Whitehorse City Council           1506\n",
       "Port Phillip City Council         1497\n",
       "Yarra City Council                1405\n",
       "Maroondah City Council            1256\n",
       "Wyndham City Council              1234\n",
       "Hobsons Bay City Council          1134\n",
       "Knox City Council                  873\n",
       "Greater Dandenong City Council     803\n",
       "Frankston City Council             742\n",
       "Melton City Council                603\n",
       "Casey City Council                 418\n",
       "Nillumbik Shire Council            224\n",
       "Yarra Ranges Shire Council         220\n",
       "Macedon Ranges Shire Council       119\n",
       "Cardinia Shire Council              81\n",
       "Mitchell Shire Council              43\n",
       "Moorabool Shire Council             12\n",
       "Name: CouncilArea, dtype: int64"
      ]
     },
     "execution_count": 33,
     "metadata": {},
     "output_type": "execute_result"
    }
   ],
   "source": [
    "raw_data[\"CouncilArea\"].value_counts()"
   ]
  },
  {
   "cell_type": "code",
   "execution_count": 35,
   "metadata": {},
   "outputs": [
    {
     "name": "stdout",
     "output_type": "stream",
     "text": [
      "Rows: 41196\n",
      "Columns: 12\n",
      "\n",
      "Suburb           0\n",
      "Address          0\n",
      "Rooms            0\n",
      "Type             0\n",
      "Price            0\n",
      "Method           0\n",
      "SellerG          0\n",
      "Date             0\n",
      "Regionname       0\n",
      "Propertycount    0\n",
      "Distance         0\n",
      "CouncilArea      0\n",
      "dtype: int64\n"
     ]
    }
   ],
   "source": [
    "#Drop NA's\n",
    "raw_data = raw_data.dropna()\n",
    "print(\"Rows: {}\\nColumns: {}\\n\".format(raw_data.shape[0], raw_data.shape[1]))\n",
    "print(raw_data.isna().sum())"
   ]
  },
  {
   "cell_type": "markdown",
   "metadata": {},
   "source": [
    "### Model 1: Try everything"
   ]
  },
  {
   "cell_type": "code",
   "execution_count": 36,
   "metadata": {
    "scrolled": true
   },
   "outputs": [
    {
     "name": "stdout",
     "output_type": "stream",
     "text": [
      "Rows: 41196\n",
      "Columns: 807\n",
      "\n"
     ]
    },
    {
     "data": {
      "text/html": [
       "<div>\n",
       "<style scoped>\n",
       "    .dataframe tbody tr th:only-of-type {\n",
       "        vertical-align: middle;\n",
       "    }\n",
       "\n",
       "    .dataframe tbody tr th {\n",
       "        vertical-align: top;\n",
       "    }\n",
       "\n",
       "    .dataframe thead th {\n",
       "        text-align: right;\n",
       "    }\n",
       "</style>\n",
       "<table border=\"1\" class=\"dataframe\">\n",
       "  <thead>\n",
       "    <tr style=\"text-align: right;\">\n",
       "      <th></th>\n",
       "      <th>Suburb__Aberfeldie</th>\n",
       "      <th>Suburb__Airport West</th>\n",
       "      <th>Suburb__Albanvale</th>\n",
       "      <th>Suburb__Albert Park</th>\n",
       "      <th>Suburb__Albion</th>\n",
       "      <th>Suburb__Alphington</th>\n",
       "      <th>Suburb__Altona</th>\n",
       "      <th>Suburb__Altona Meadows</th>\n",
       "      <th>Suburb__Altona North</th>\n",
       "      <th>Suburb__Ardeer</th>\n",
       "      <th>...</th>\n",
       "      <th>month__5</th>\n",
       "      <th>month__6</th>\n",
       "      <th>month__7</th>\n",
       "      <th>month__8</th>\n",
       "      <th>month__9</th>\n",
       "      <th>month__10</th>\n",
       "      <th>month__11</th>\n",
       "      <th>month__12</th>\n",
       "      <th>Rooms</th>\n",
       "      <th>Distance</th>\n",
       "    </tr>\n",
       "  </thead>\n",
       "  <tbody>\n",
       "    <tr>\n",
       "      <th>0</th>\n",
       "      <td>0</td>\n",
       "      <td>0</td>\n",
       "      <td>0</td>\n",
       "      <td>0</td>\n",
       "      <td>0</td>\n",
       "      <td>0</td>\n",
       "      <td>0</td>\n",
       "      <td>0</td>\n",
       "      <td>0</td>\n",
       "      <td>0</td>\n",
       "      <td>...</td>\n",
       "      <td>0</td>\n",
       "      <td>0</td>\n",
       "      <td>0</td>\n",
       "      <td>0</td>\n",
       "      <td>0</td>\n",
       "      <td>0</td>\n",
       "      <td>0</td>\n",
       "      <td>0</td>\n",
       "      <td>3</td>\n",
       "      <td>3.0</td>\n",
       "    </tr>\n",
       "    <tr>\n",
       "      <th>1</th>\n",
       "      <td>0</td>\n",
       "      <td>0</td>\n",
       "      <td>0</td>\n",
       "      <td>0</td>\n",
       "      <td>0</td>\n",
       "      <td>0</td>\n",
       "      <td>0</td>\n",
       "      <td>0</td>\n",
       "      <td>0</td>\n",
       "      <td>0</td>\n",
       "      <td>...</td>\n",
       "      <td>0</td>\n",
       "      <td>0</td>\n",
       "      <td>0</td>\n",
       "      <td>0</td>\n",
       "      <td>0</td>\n",
       "      <td>0</td>\n",
       "      <td>0</td>\n",
       "      <td>0</td>\n",
       "      <td>3</td>\n",
       "      <td>3.0</td>\n",
       "    </tr>\n",
       "    <tr>\n",
       "      <th>2</th>\n",
       "      <td>0</td>\n",
       "      <td>0</td>\n",
       "      <td>0</td>\n",
       "      <td>0</td>\n",
       "      <td>0</td>\n",
       "      <td>0</td>\n",
       "      <td>0</td>\n",
       "      <td>0</td>\n",
       "      <td>0</td>\n",
       "      <td>0</td>\n",
       "      <td>...</td>\n",
       "      <td>0</td>\n",
       "      <td>0</td>\n",
       "      <td>0</td>\n",
       "      <td>0</td>\n",
       "      <td>0</td>\n",
       "      <td>0</td>\n",
       "      <td>0</td>\n",
       "      <td>0</td>\n",
       "      <td>3</td>\n",
       "      <td>3.0</td>\n",
       "    </tr>\n",
       "    <tr>\n",
       "      <th>3</th>\n",
       "      <td>1</td>\n",
       "      <td>0</td>\n",
       "      <td>0</td>\n",
       "      <td>0</td>\n",
       "      <td>0</td>\n",
       "      <td>0</td>\n",
       "      <td>0</td>\n",
       "      <td>0</td>\n",
       "      <td>0</td>\n",
       "      <td>0</td>\n",
       "      <td>...</td>\n",
       "      <td>0</td>\n",
       "      <td>0</td>\n",
       "      <td>0</td>\n",
       "      <td>0</td>\n",
       "      <td>0</td>\n",
       "      <td>0</td>\n",
       "      <td>0</td>\n",
       "      <td>0</td>\n",
       "      <td>3</td>\n",
       "      <td>7.5</td>\n",
       "    </tr>\n",
       "    <tr>\n",
       "      <th>4</th>\n",
       "      <td>0</td>\n",
       "      <td>1</td>\n",
       "      <td>0</td>\n",
       "      <td>0</td>\n",
       "      <td>0</td>\n",
       "      <td>0</td>\n",
       "      <td>0</td>\n",
       "      <td>0</td>\n",
       "      <td>0</td>\n",
       "      <td>0</td>\n",
       "      <td>...</td>\n",
       "      <td>0</td>\n",
       "      <td>0</td>\n",
       "      <td>0</td>\n",
       "      <td>0</td>\n",
       "      <td>0</td>\n",
       "      <td>0</td>\n",
       "      <td>0</td>\n",
       "      <td>0</td>\n",
       "      <td>2</td>\n",
       "      <td>10.4</td>\n",
       "    </tr>\n",
       "  </tbody>\n",
       "</table>\n",
       "<p>5 rows × 807 columns</p>\n",
       "</div>"
      ],
      "text/plain": [
       "   Suburb__Aberfeldie  Suburb__Airport West  Suburb__Albanvale  \\\n",
       "0                   0                     0                  0   \n",
       "1                   0                     0                  0   \n",
       "2                   0                     0                  0   \n",
       "3                   1                     0                  0   \n",
       "4                   0                     1                  0   \n",
       "\n",
       "   Suburb__Albert Park  Suburb__Albion  Suburb__Alphington  Suburb__Altona  \\\n",
       "0                    0               0                   0               0   \n",
       "1                    0               0                   0               0   \n",
       "2                    0               0                   0               0   \n",
       "3                    0               0                   0               0   \n",
       "4                    0               0                   0               0   \n",
       "\n",
       "   Suburb__Altona Meadows  Suburb__Altona North  Suburb__Ardeer    ...     \\\n",
       "0                       0                     0               0    ...      \n",
       "1                       0                     0               0    ...      \n",
       "2                       0                     0               0    ...      \n",
       "3                       0                     0               0    ...      \n",
       "4                       0                     0               0    ...      \n",
       "\n",
       "   month__5  month__6  month__7  month__8  month__9  month__10  month__11  \\\n",
       "0         0         0         0         0         0          0          0   \n",
       "1         0         0         0         0         0          0          0   \n",
       "2         0         0         0         0         0          0          0   \n",
       "3         0         0         0         0         0          0          0   \n",
       "4         0         0         0         0         0          0          0   \n",
       "\n",
       "   month__12  Rooms  Distance  \n",
       "0          0      3       3.0  \n",
       "1          0      3       3.0  \n",
       "2          0      3       3.0  \n",
       "3          0      3       7.5  \n",
       "4          0      2      10.4  \n",
       "\n",
       "[5 rows x 807 columns]"
      ]
     },
     "execution_count": 36,
     "metadata": {},
     "output_type": "execute_result"
    }
   ],
   "source": [
    "# Make dummies\n",
    "suburb_dummies = pd.get_dummies(raw_data[\"Suburb\"], prefix=\"Suburb_\", drop_first=True)\n",
    "type_dummies = pd.get_dummies(raw_data[\"Type\"], prefix=\"Type_\", drop_first=True)\n",
    "method_dummies = pd.get_dummies(raw_data[\"Method\"], prefix=\"Method_\", drop_first=True)\n",
    "sellerG_dummies = pd.get_dummies(raw_data[\"SellerG\"], prefix=\"SellerG_\", drop_first=True)\n",
    "regionname_dummies = pd.get_dummies(raw_data[\"Regionname\"], prefix=\"Regionname_\", drop_first=True)\n",
    "councilArea_dummies = pd.get_dummies(raw_data[\"CouncilArea\"], prefix=\"CouncilArea_\", drop_first=True)\n",
    "\n",
    "# Create month variable and generate dummies\n",
    "raw_data[\"month\"] = raw_data[\"Date\"].apply(lambda x: int(x.split(\"/\")[1]))\n",
    "month_dummies = pd.get_dummies(raw_data[\"month\"], prefix=\"month_\", drop_first=True)\n",
    "\n",
    "features = pd.concat([suburb_dummies, type_dummies, method_dummies, sellerG_dummies,\n",
    "                      regionname_dummies, councilArea_dummies, month_dummies,\n",
    "                     raw_data[\"Rooms\"], raw_data[\"Distance\"]], axis=1)\n",
    "\n",
    "print(\"Rows: {}\\nColumns: {}\\n\".format(features.shape[0], features.shape[1]))\n",
    "features.head()\n",
    "\n",
    "#features = pd.concat([regionname_dummies, type_dummies, method_dummies, councilArea_dummies,\n",
    "                      #raw_data[\"Rooms\"], raw_data[\"Distance\"]], axis=1)\n",
    "#features = pd.concat([raw_data[\"Rooms\"], raw_data[\"Distance\"]], axis=1)"
   ]
  },
  {
   "cell_type": "code",
   "execution_count": 38,
   "metadata": {},
   "outputs": [
    {
     "name": "stdout",
     "output_type": "stream",
     "text": [
      "[ 6.65387601e-01 -4.28869470e+15 -2.60035802e+14  6.71368549e-01\n",
      " -1.94941561e+16 -3.66009559e+12 -2.71007529e+15 -1.89669586e+14\n",
      " -3.56958783e+17 -4.74365277e+14]\n",
      "Mean R^2: -38437944002248112.0000\n",
      "Range: 356958783219310400.0000\n",
      "--------- 32.283654 seconds ---------\n"
     ]
    }
   ],
   "source": [
    "start_time = time.time()\n",
    "X = features\n",
    "y = raw_data[\"Price\"]\n",
    "\n",
    "lm = LinearRegression()\n",
    "lm.fit(X, y)\n",
    "\n",
    "scores = cross_val_score(lm, X, y, cv=10, n_jobs=-1)\n",
    "elapased_time = time.time() - start_time\n",
    "print(scores)\n",
    "print(\"Mean R^2: {:.4f}\".format(np.mean(scores)))\n",
    "print(\"Range: {:.4f}\".format(np.max(scores) - np.min(scores)))\n",
    "print(\"--------- {:.6f} seconds ---------\".format(elapased_time))"
   ]
  },
  {
   "cell_type": "markdown",
   "metadata": {},
   "source": [
    "### Model 2"
   ]
  },
  {
   "cell_type": "code",
   "execution_count": 39,
   "metadata": {},
   "outputs": [],
   "source": [
    "features = pd.concat([raw_data[\"Rooms\"], raw_data[\"Distance\"]], axis=1)"
   ]
  },
  {
   "cell_type": "code",
   "execution_count": 40,
   "metadata": {},
   "outputs": [
    {
     "name": "stdout",
     "output_type": "stream",
     "text": [
      "[0.32747696 0.29176339 0.32318763 0.32934612 0.30513289 0.3280149\n",
      " 0.31194495 0.32811389 0.24095136 0.3087727 ]\n",
      "Mean R^2: 0.3095\n",
      "Range: 0.0884\n",
      "--------- 15.514657 seconds ---------\n"
     ]
    }
   ],
   "source": [
    "start_time = time.time()\n",
    "X = features\n",
    "y = raw_data[\"Price\"]\n",
    "\n",
    "lm = LinearRegression()\n",
    "lm.fit(X, y)\n",
    "\n",
    "scores = cross_val_score(lm, X, y, cv=10, n_jobs=-1)\n",
    "elapased_time = time.time() - start_time\n",
    "print(scores)\n",
    "print(\"Mean R^2: {:.4f}\".format(np.mean(scores)))\n",
    "print(\"Range: {:.4f}\".format(np.max(scores) - np.min(scores)))\n",
    "print(\"--------- {:.6f} seconds ---------\".format(elapased_time))"
   ]
  },
  {
   "cell_type": "code",
   "execution_count": 41,
   "metadata": {},
   "outputs": [
    {
     "name": "stdout",
     "output_type": "stream",
     "text": [
      "Intercept: 391414.5746580212\n",
      "Rooms: 329000.0388185408\n",
      "Distance: -31529.34201984905\n"
     ]
    }
   ],
   "source": [
    "print(\"Intercept: {}\".format(lm.intercept_))\n",
    "for coef in list(zip(features.columns, lm.coef_)):\n",
    "    print(\"{}: {}\".format(coef[0], coef[1]))"
   ]
  },
  {
   "cell_type": "markdown",
   "metadata": {},
   "source": [
    "### Model 3"
   ]
  },
  {
   "cell_type": "code",
   "execution_count": 42,
   "metadata": {},
   "outputs": [],
   "source": [
    "features = pd.concat([regionname_dummies, type_dummies, method_dummies, councilArea_dummies,\n",
    "                      raw_data[\"Rooms\"], raw_data[\"Distance\"]], axis=1)"
   ]
  },
  {
   "cell_type": "code",
   "execution_count": 43,
   "metadata": {},
   "outputs": [
    {
     "name": "stdout",
     "output_type": "stream",
     "text": [
      "[0.59726009 0.56678779 0.58405566 0.60056911 0.5645513  0.59411495\n",
      " 0.58206425 0.58977391 0.53413557 0.54190109]\n",
      "Mean R^2: 0.5755\n",
      "Range: 0.0664\n",
      "--------- 6.522586 seconds ---------\n"
     ]
    }
   ],
   "source": [
    "start_time = time.time()\n",
    "X = features\n",
    "y = raw_data[\"Price\"]\n",
    "\n",
    "lm = LinearRegression()\n",
    "lm.fit(X, y)\n",
    "\n",
    "scores = cross_val_score(lm, X, y, cv=10, n_jobs=-1)\n",
    "elapased_time = time.time() - start_time\n",
    "print(scores)\n",
    "print(\"Mean R^2: {:.4f}\".format(np.mean(scores)))\n",
    "print(\"Range: {:.4f}\".format(np.max(scores) - np.min(scores)))\n",
    "print(\"--------- {:.6f} seconds ---------\".format(elapased_time))"
   ]
  },
  {
   "cell_type": "code",
   "execution_count": 44,
   "metadata": {},
   "outputs": [
    {
     "name": "stdout",
     "output_type": "stream",
     "text": [
      "Intercept: 651143.4212885805\n",
      "Regionname__Eastern Victoria: -73109.75727597848\n",
      "Regionname__Northern Metropolitan: -234076.6574868861\n",
      "Regionname__Northern Victoria: 96647.28271469919\n",
      "Regionname__South-Eastern Metropolitan: -129993.59019046725\n",
      "Regionname__Southern Metropolitan: -123590.11123765996\n",
      "Regionname__Western Metropolitan: -120792.33581487408\n",
      "Regionname__Western Victoria: 136605.81254459728\n",
      "Type__t: -243522.59930596576\n",
      "Type__u: -454517.4918737636\n",
      "Method__S: 48144.29077974589\n",
      "Method__SA: 517.078073909598\n",
      "Method__SP: 24696.503051818523\n",
      "Method__VB: 47379.87036276895\n",
      "CouncilArea__Bayside City Council: 714098.6707948933\n",
      "CouncilArea__Boroondara City Council: 711275.5071943991\n",
      "CouncilArea__Brimbank City Council: -243655.21031634326\n",
      "CouncilArea__Cardinia Shire Council: 481942.5880424873\n",
      "CouncilArea__Casey City Council: 268503.1222627398\n",
      "CouncilArea__Darebin City Council: 154423.31860288448\n",
      "CouncilArea__Frankston City Council: 545465.6788014643\n",
      "CouncilArea__Glen Eira City Council: 381601.54061094316\n",
      "CouncilArea__Greater Dandenong City Council: 169123.10810459638\n",
      "CouncilArea__Hobsons Bay City Council: 26592.74055764009\n",
      "CouncilArea__Hume City Council: -88340.99567281429\n",
      "CouncilArea__Kingston City Council: 423952.1342880029\n",
      "CouncilArea__Knox City Council: 9101.32708358715\n",
      "CouncilArea__Macedon Ranges Shire Council: 549299.0290283266\n",
      "CouncilArea__Manningham City Council: 149740.19429852485\n",
      "CouncilArea__Maribyrnong City Council: -99544.07501719579\n",
      "CouncilArea__Maroondah City Council: 94972.49005237235\n",
      "CouncilArea__Melbourne City Council: 344557.3627934166\n",
      "CouncilArea__Melton City Council: -230962.86409492165\n",
      "CouncilArea__Mitchell Shire Council: 212557.50871622053\n",
      "CouncilArea__Monash City Council: 267897.5704908004\n",
      "CouncilArea__Moonee Valley City Council: 101918.57809469975\n",
      "CouncilArea__Moorabool Shire Council: 168598.25516109276\n",
      "CouncilArea__Moreland City Council: 106487.3462172962\n",
      "CouncilArea__Nillumbik Shire Council: -151744.6406918261\n",
      "CouncilArea__Port Phillip City Council: 435703.7595308429\n",
      "CouncilArea__Stonnington City Council: 762922.9948225843\n",
      "CouncilArea__Whitehorse City Council: 154319.55314726854\n",
      "CouncilArea__Whittlesea City Council: -14725.234563902404\n",
      "CouncilArea__Wyndham City Council: -264943.66042939835\n",
      "CouncilArea__Yarra City Council: 337916.2034605515\n",
      "CouncilArea__Yarra Ranges Shire Council: 182787.52301734244\n",
      "Rooms: 244325.64460097486\n",
      "Distance: -31930.177419805368\n"
     ]
    }
   ],
   "source": [
    "print(\"Intercept: {}\".format(lm.intercept_))\n",
    "for coef in list(zip(features.columns, lm.coef_)):\n",
    "    print(\"{}: {}\".format(coef[0], coef[1]))"
   ]
  },
  {
   "cell_type": "markdown",
   "metadata": {},
   "source": [
    "### Model 4: Ridge Regression"
   ]
  },
  {
   "cell_type": "code",
   "execution_count": 45,
   "metadata": {},
   "outputs": [],
   "source": [
    "# Everything again\n",
    "features = pd.concat([suburb_dummies, type_dummies, method_dummies, sellerG_dummies,\n",
    "                      regionname_dummies, councilArea_dummies, month_dummies,\n",
    "                     raw_data[\"Rooms\"], raw_data[\"Distance\"]], axis=1)"
   ]
  },
  {
   "cell_type": "code",
   "execution_count": 46,
   "metadata": {},
   "outputs": [
    {
     "name": "stdout",
     "output_type": "stream",
     "text": [
      "0.6513408310001335\n",
      "{'rg_lm__alpha': 5.800000000000001}\n",
      "--------- 489.974366 seconds ---------\n"
     ]
    }
   ],
   "source": [
    "start_time = time.time()\n",
    "X = features\n",
    "y = raw_data[\"Price\"]\n",
    "\n",
    "ridge_pipe = Pipeline([(\"rg_lm\", Ridge())])\n",
    "gs = GridSearchCV(estimator=ridge_pipe,\n",
    "                 param_grid={\"rg_lm__alpha\": np.arange(0.0, 10.0, 0.1)},\n",
    "                 scoring=\"r2\",\n",
    "                 cv=10,\n",
    "                 n_jobs=-1)\n",
    "gs.fit(X, y)\n",
    "elapased_time = time.time() - start_time\n",
    "print(gs.best_score_)\n",
    "print(gs.best_params_)\n",
    "print(\"--------- {:.6f} seconds ---------\".format(elapased_time))"
   ]
  },
  {
   "cell_type": "code",
   "execution_count": 47,
   "metadata": {},
   "outputs": [
    {
     "name": "stdout",
     "output_type": "stream",
     "text": [
      "[0.6682131  0.65013173 0.66511358 0.67070839 0.63564306 0.66000067\n",
      " 0.66014252 0.67021756 0.61845516 0.61477241]\n",
      "Mean R^2: 0.6513\n",
      "Range: 0.0559\n",
      "--------- 13.005237 seconds ---------\n"
     ]
    }
   ],
   "source": [
    "start_time = time.time()\n",
    "X = features\n",
    "y = raw_data[\"Price\"]\n",
    "\n",
    "reg_lm = Ridge(alpha=5.800000000000001)\n",
    "reg_lm.fit(X, y)\n",
    "\n",
    "scores = cross_val_score(reg_lm, X, y, cv=10, n_jobs=-1)\n",
    "elapased_time = time.time() - start_time\n",
    "print(scores)\n",
    "print(\"Mean R^2: {:.4f}\".format(np.mean(scores)))\n",
    "print(\"Range: {:.4f}\".format(np.max(scores) - np.min(scores)))\n",
    "print(\"--------- {:.6f} seconds ---------\".format(elapased_time))"
   ]
  },
  {
   "cell_type": "markdown",
   "metadata": {},
   "source": [
    "### Model 5: LASSO"
   ]
  },
  {
   "cell_type": "code",
   "execution_count": 48,
   "metadata": {},
   "outputs": [
    {
     "name": "stdout",
     "output_type": "stream",
     "text": [
      "[0.66655598 0.64883348 0.6588431  0.67227717 0.62909127 0.65968059\n",
      " 0.66042728 0.66985442 0.61701449 0.61492303]\n",
      "Mean R^2: 0.6498\n",
      "Range: 0.0574\n",
      "--------- 20.761492 seconds ---------\n"
     ]
    }
   ],
   "source": [
    "start_time = time.time()\n",
    "lasso_lm = Lasso(alpha=5)\n",
    "lasso_lm.fit(X, y)\n",
    "elapased_time = time.time() - start_time\n",
    "scores = cross_val_score(lasso_lm, X, y, cv=10, n_jobs=-1)\n",
    "print(scores)\n",
    "print(\"Mean R^2: {:.4f}\".format(np.mean(scores)))\n",
    "print(\"Range: {:.4f}\".format(np.max(scores) - np.min(scores)))\n",
    "print(\"--------- {:.6f} seconds ---------\".format(elapased_time))"
   ]
  },
  {
   "cell_type": "code",
   "execution_count": null,
   "metadata": {},
   "outputs": [],
   "source": [
    "start_time = time.time()\n",
    "lasso_pipe = Pipeline([(\"lasso_lm\", Lasso())])\n",
    "gs = GridSearchCV(estimator=lasso_pipe,\n",
    "                 param_grid={\"lasso_lm__alpha\": np.arange(0.01, 10.0, 0.1)},\n",
    "                 scoring=\"r2\",\n",
    "                 n_jobs=-1)\n",
    "gs.fit(X, y)\n",
    "elapased_time = time.time() - start_time\n",
    "print(gs.best_score_)\n",
    "print(gs.best_params_)\n",
    "print(\"--------- {:.6f} seconds ---------\".format(elapased_time))"
   ]
  },
  {
   "cell_type": "code",
   "execution_count": null,
   "metadata": {},
   "outputs": [],
   "source": []
  }
 ],
 "metadata": {
  "kernelspec": {
   "display_name": "Python 3",
   "language": "python",
   "name": "python3"
  },
  "language_info": {
   "codemirror_mode": {
    "name": "ipython",
    "version": 3
   },
   "file_extension": ".py",
   "mimetype": "text/x-python",
   "name": "python",
   "nbconvert_exporter": "python",
   "pygments_lexer": "ipython3",
   "version": "3.6.5"
  }
 },
 "nbformat": 4,
 "nbformat_minor": 2
}
