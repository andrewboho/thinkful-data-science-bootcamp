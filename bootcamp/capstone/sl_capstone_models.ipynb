{
 "cells": [
  {
   "cell_type": "markdown",
   "metadata": {},
   "source": [
    "# Predicting Medical Appointment No-Shows\n",
    "Data from [Kaggle](https://www.kaggle.com/joniarroba/noshowappointments/home)"
   ]
  },
  {
   "cell_type": "code",
   "execution_count": 2,
   "metadata": {},
   "outputs": [
    {
     "name": "stderr",
     "output_type": "stream",
     "text": [
      "C:\\Users\\andre\\Anaconda3\\lib\\site-packages\\sklearn\\cross_validation.py:41: DeprecationWarning: This module was deprecated in version 0.18 in favor of the model_selection module into which all the refactored classes and functions are moved. Also note that the interface of the new CV iterators are different from that of this module. This module will be removed in 0.20.\n",
      "  \"This module will be removed in 0.20.\", DeprecationWarning)\n",
      "C:\\Users\\andre\\Anaconda3\\lib\\site-packages\\sklearn\\grid_search.py:42: DeprecationWarning: This module was deprecated in version 0.18 in favor of the model_selection module into which all the refactored classes and functions are moved. This module will be removed in 0.20.\n",
      "  DeprecationWarning)\n",
      "C:\\Users\\andre\\Anaconda3\\lib\\site-packages\\sklearn\\ensemble\\weight_boosting.py:29: DeprecationWarning: numpy.core.umath_tests is an internal NumPy module and should not be imported. It will be removed in a future NumPy release.\n",
      "  from numpy.core.umath_tests import inner1d\n"
     ]
    }
   ],
   "source": [
    "# Imports\n",
    "import time\n",
    "import datetime\n",
    "import numpy as np\n",
    "import pandas as pd\n",
    "import matplotlib.pyplot as plt\n",
    "import seaborn as sns\n",
    "\n",
    "from sklearn.utils import resample\n",
    "from sklearn.preprocessing import LabelEncoder\n",
    "from sklearn.model_selection import train_test_split\n",
    "from sklearn.model_selection import cross_val_score\n",
    "from sklearn.grid_search import GridSearchCV\n",
    "from sklearn.metrics import make_scorer\n",
    "from sklearn.metrics import confusion_matrix\n",
    "from sklearn.metrics import accuracy_score\n",
    "from sklearn.metrics import precision_score\n",
    "from sklearn.metrics import recall_score\n",
    "from sklearn.metrics import f1_score\n",
    "from sklearn.naive_bayes import BernoulliNB\n",
    "from sklearn.neighbors import KNeighborsClassifier\n",
    "from sklearn.tree import DecisionTreeClassifier\n",
    "from sklearn.ensemble import RandomForestClassifier\n",
    "from sklearn.linear_model import LogisticRegression\n",
    "from sklearn.linear_model import RidgeClassifier\n",
    "from sklearn.svm import SVC\n",
    "from sklearn.ensemble import GradientBoostingClassifier\n",
    "\n",
    "from imblearn.over_sampling import SMOTE\n",
    "\n",
    "%matplotlib inline\n",
    "sns.set_style(\"whitegrid\")\n",
    "\n",
    "import warnings\n",
    "warnings.filterwarnings(\"ignore\")"
   ]
  },
  {
   "cell_type": "code",
   "execution_count": 3,
   "metadata": {},
   "outputs": [],
   "source": [
    "# Helper functions\n",
    "def unique_col_values(df):\n",
    "    max_name_len = np.max([len(col_name) for col_name in raw_data.columns]) + 2\n",
    "    format_str = \"{:<\" + str(max_name_len) + \"}{:<8}{:<15}\"\n",
    "\n",
    "    print(format_str.format(\"Name\", \"Unique\", \"DType\"))\n",
    "    print()\n",
    "    for col in df:\n",
    "        print(format_str.format(df[col].name, len(df[col].unique()), str(df[col].dtype)))\n",
    "\n",
    "def convert_to_category(df, cols):\n",
    "    for col in cols:\n",
    "        df[col] = df[col].astype(\"category\")"
   ]
  },
  {
   "cell_type": "markdown",
   "metadata": {},
   "source": [
    "## Preprocessing"
   ]
  },
  {
   "cell_type": "code",
   "execution_count": 4,
   "metadata": {},
   "outputs": [
    {
     "name": "stdout",
     "output_type": "stream",
     "text": [
      "Rows: 110527\n",
      "Columns: 14\n"
     ]
    },
    {
     "data": {
      "text/html": [
       "<div>\n",
       "<style scoped>\n",
       "    .dataframe tbody tr th:only-of-type {\n",
       "        vertical-align: middle;\n",
       "    }\n",
       "\n",
       "    .dataframe tbody tr th {\n",
       "        vertical-align: top;\n",
       "    }\n",
       "\n",
       "    .dataframe thead th {\n",
       "        text-align: right;\n",
       "    }\n",
       "</style>\n",
       "<table border=\"1\" class=\"dataframe\">\n",
       "  <thead>\n",
       "    <tr style=\"text-align: right;\">\n",
       "      <th></th>\n",
       "      <th>patient_id</th>\n",
       "      <th>appointment_id</th>\n",
       "      <th>gender</th>\n",
       "      <th>scheduled_day</th>\n",
       "      <th>appointment_day</th>\n",
       "      <th>age</th>\n",
       "      <th>neighborhood</th>\n",
       "      <th>scholarship</th>\n",
       "      <th>hypertension</th>\n",
       "      <th>diabetes</th>\n",
       "      <th>alcoholism</th>\n",
       "      <th>handicap</th>\n",
       "      <th>sms_received</th>\n",
       "      <th>no_show</th>\n",
       "    </tr>\n",
       "  </thead>\n",
       "  <tbody>\n",
       "    <tr>\n",
       "      <th>0</th>\n",
       "      <td>2.987250e+13</td>\n",
       "      <td>5642903</td>\n",
       "      <td>F</td>\n",
       "      <td>2016-04-29T18:38:08Z</td>\n",
       "      <td>2016-04-29T00:00:00Z</td>\n",
       "      <td>62</td>\n",
       "      <td>JARDIM DA PENHA</td>\n",
       "      <td>0</td>\n",
       "      <td>1</td>\n",
       "      <td>0</td>\n",
       "      <td>0</td>\n",
       "      <td>0</td>\n",
       "      <td>0</td>\n",
       "      <td>No</td>\n",
       "    </tr>\n",
       "    <tr>\n",
       "      <th>1</th>\n",
       "      <td>5.589978e+14</td>\n",
       "      <td>5642503</td>\n",
       "      <td>M</td>\n",
       "      <td>2016-04-29T16:08:27Z</td>\n",
       "      <td>2016-04-29T00:00:00Z</td>\n",
       "      <td>56</td>\n",
       "      <td>JARDIM DA PENHA</td>\n",
       "      <td>0</td>\n",
       "      <td>0</td>\n",
       "      <td>0</td>\n",
       "      <td>0</td>\n",
       "      <td>0</td>\n",
       "      <td>0</td>\n",
       "      <td>No</td>\n",
       "    </tr>\n",
       "    <tr>\n",
       "      <th>2</th>\n",
       "      <td>4.262962e+12</td>\n",
       "      <td>5642549</td>\n",
       "      <td>F</td>\n",
       "      <td>2016-04-29T16:19:04Z</td>\n",
       "      <td>2016-04-29T00:00:00Z</td>\n",
       "      <td>62</td>\n",
       "      <td>MATA DA PRAIA</td>\n",
       "      <td>0</td>\n",
       "      <td>0</td>\n",
       "      <td>0</td>\n",
       "      <td>0</td>\n",
       "      <td>0</td>\n",
       "      <td>0</td>\n",
       "      <td>No</td>\n",
       "    </tr>\n",
       "    <tr>\n",
       "      <th>3</th>\n",
       "      <td>8.679512e+11</td>\n",
       "      <td>5642828</td>\n",
       "      <td>F</td>\n",
       "      <td>2016-04-29T17:29:31Z</td>\n",
       "      <td>2016-04-29T00:00:00Z</td>\n",
       "      <td>8</td>\n",
       "      <td>PONTAL DE CAMBURI</td>\n",
       "      <td>0</td>\n",
       "      <td>0</td>\n",
       "      <td>0</td>\n",
       "      <td>0</td>\n",
       "      <td>0</td>\n",
       "      <td>0</td>\n",
       "      <td>No</td>\n",
       "    </tr>\n",
       "    <tr>\n",
       "      <th>4</th>\n",
       "      <td>8.841186e+12</td>\n",
       "      <td>5642494</td>\n",
       "      <td>F</td>\n",
       "      <td>2016-04-29T16:07:23Z</td>\n",
       "      <td>2016-04-29T00:00:00Z</td>\n",
       "      <td>56</td>\n",
       "      <td>JARDIM DA PENHA</td>\n",
       "      <td>0</td>\n",
       "      <td>1</td>\n",
       "      <td>1</td>\n",
       "      <td>0</td>\n",
       "      <td>0</td>\n",
       "      <td>0</td>\n",
       "      <td>No</td>\n",
       "    </tr>\n",
       "  </tbody>\n",
       "</table>\n",
       "</div>"
      ],
      "text/plain": [
       "     patient_id  appointment_id gender         scheduled_day  \\\n",
       "0  2.987250e+13         5642903      F  2016-04-29T18:38:08Z   \n",
       "1  5.589978e+14         5642503      M  2016-04-29T16:08:27Z   \n",
       "2  4.262962e+12         5642549      F  2016-04-29T16:19:04Z   \n",
       "3  8.679512e+11         5642828      F  2016-04-29T17:29:31Z   \n",
       "4  8.841186e+12         5642494      F  2016-04-29T16:07:23Z   \n",
       "\n",
       "        appointment_day  age       neighborhood  scholarship  hypertension  \\\n",
       "0  2016-04-29T00:00:00Z   62    JARDIM DA PENHA            0             1   \n",
       "1  2016-04-29T00:00:00Z   56    JARDIM DA PENHA            0             0   \n",
       "2  2016-04-29T00:00:00Z   62      MATA DA PRAIA            0             0   \n",
       "3  2016-04-29T00:00:00Z    8  PONTAL DE CAMBURI            0             0   \n",
       "4  2016-04-29T00:00:00Z   56    JARDIM DA PENHA            0             1   \n",
       "\n",
       "   diabetes  alcoholism  handicap  sms_received no_show  \n",
       "0         0           0         0             0      No  \n",
       "1         0           0         0             0      No  \n",
       "2         0           0         0             0      No  \n",
       "3         0           0         0             0      No  \n",
       "4         1           0         0             0      No  "
      ]
     },
     "execution_count": 4,
     "metadata": {},
     "output_type": "execute_result"
    }
   ],
   "source": [
    "# Import the data\n",
    "raw_data = pd.read_csv(\"KaggleV2-May-2016.csv\")\n",
    "print(\"Rows: {}\\nColumns: {}\".format(raw_data.shape[0], raw_data.shape[1]))\n",
    "\n",
    "# Clean up column names\n",
    "raw_data.columns = [\"patient_id\", \"appointment_id\", \"gender\", \"scheduled_day\",\n",
    "                   \"appointment_day\", \"age\", \"neighborhood\", \"scholarship\",\n",
    "                    \"hypertension\", \"diabetes\", \"alcoholism\", \"handicap\", \"sms_received\",\n",
    "                   \"no_show\"]\n",
    "raw_data.head()"
   ]
  },
  {
   "cell_type": "code",
   "execution_count": 5,
   "metadata": {},
   "outputs": [
    {
     "name": "stdout",
     "output_type": "stream",
     "text": [
      "<class 'pandas.core.frame.DataFrame'>\n",
      "RangeIndex: 110527 entries, 0 to 110526\n",
      "Data columns (total 14 columns):\n",
      "patient_id         110527 non-null float64\n",
      "appointment_id     110527 non-null int64\n",
      "gender             110527 non-null object\n",
      "scheduled_day      110527 non-null object\n",
      "appointment_day    110527 non-null object\n",
      "age                110527 non-null int64\n",
      "neighborhood       110527 non-null object\n",
      "scholarship        110527 non-null int64\n",
      "hypertension       110527 non-null int64\n",
      "diabetes           110527 non-null int64\n",
      "alcoholism         110527 non-null int64\n",
      "handicap           110527 non-null int64\n",
      "sms_received       110527 non-null int64\n",
      "no_show            110527 non-null object\n",
      "dtypes: float64(1), int64(8), object(5)\n",
      "memory usage: 11.8+ MB\n"
     ]
    }
   ],
   "source": [
    "# Get data details\n",
    "raw_data.info()"
   ]
  },
  {
   "cell_type": "code",
   "execution_count": 6,
   "metadata": {},
   "outputs": [
    {
     "data": {
      "text/plain": [
       "patient_id         0\n",
       "appointment_id     0\n",
       "gender             0\n",
       "scheduled_day      0\n",
       "appointment_day    0\n",
       "age                0\n",
       "neighborhood       0\n",
       "scholarship        0\n",
       "hypertension       0\n",
       "diabetes           0\n",
       "alcoholism         0\n",
       "handicap           0\n",
       "sms_received       0\n",
       "no_show            0\n",
       "dtype: int64"
      ]
     },
     "execution_count": 6,
     "metadata": {},
     "output_type": "execute_result"
    }
   ],
   "source": [
    "# Check for missing values\n",
    "raw_data.isnull().sum()"
   ]
  },
  {
   "cell_type": "code",
   "execution_count": 7,
   "metadata": {},
   "outputs": [
    {
     "data": {
      "text/plain": [
       "0"
      ]
     },
     "execution_count": 7,
     "metadata": {},
     "output_type": "execute_result"
    }
   ],
   "source": [
    "# Check for duplicates using the appointment unique identifier column\n",
    "raw_data.duplicated(\"appointment_id\").sum()"
   ]
  },
  {
   "cell_type": "code",
   "execution_count": 8,
   "metadata": {},
   "outputs": [
    {
     "name": "stdout",
     "output_type": "stream",
     "text": [
      "<class 'pandas.core.frame.DataFrame'>\n",
      "RangeIndex: 110527 entries, 0 to 110526\n",
      "Data columns (total 12 columns):\n",
      "gender             110527 non-null category\n",
      "scheduled_day      110527 non-null datetime64[ns]\n",
      "appointment_day    110527 non-null datetime64[ns]\n",
      "age                110527 non-null int64\n",
      "neighborhood       110527 non-null category\n",
      "scholarship        110527 non-null category\n",
      "hypertension       110527 non-null category\n",
      "diabetes           110527 non-null category\n",
      "alcoholism         110527 non-null category\n",
      "handicap           110527 non-null category\n",
      "sms_received       110527 non-null category\n",
      "no_show            110527 non-null category\n",
      "dtypes: category(9), datetime64[ns](2), int64(1)\n",
      "memory usage: 3.5 MB\n"
     ]
    }
   ],
   "source": [
    "# Drop unneeded columns\n",
    "raw_data.drop([\"patient_id\", \"appointment_id\"], axis=1, inplace=True)\n",
    "\n",
    "# Convert scheduled_day and appointment_day to datetime format\n",
    "raw_data[\"scheduled_day\"] = pd.to_datetime(raw_data[\"scheduled_day\"])\n",
    "raw_data[\"appointment_day\"] = pd.to_datetime(raw_data[\"appointment_day\"])\n",
    "\n",
    "# Convert qualitative columns to category type\n",
    "convert_to_category(raw_data, [\"gender\", \"neighborhood\", \"scholarship\", \"hypertension\",\n",
    "                              \"diabetes\", \"alcoholism\", \"handicap\", \"sms_received\", \"no_show\"])\n",
    "raw_data.info()"
   ]
  },
  {
   "cell_type": "code",
   "execution_count": 9,
   "metadata": {},
   "outputs": [
    {
     "name": "stdout",
     "output_type": "stream",
     "text": [
      "Name             Unique  DType          \n",
      "\n",
      "gender           2       category       \n",
      "scheduled_day    103549  datetime64[ns] \n",
      "appointment_day  27      datetime64[ns] \n",
      "age              104     int64          \n",
      "neighborhood     81      category       \n",
      "scholarship      2       category       \n",
      "hypertension     2       category       \n",
      "diabetes         2       category       \n",
      "alcoholism       2       category       \n",
      "handicap         5       category       \n",
      "sms_received     2       category       \n",
      "no_show          2       category       \n"
     ]
    }
   ],
   "source": [
    "unique_col_values(raw_data)"
   ]
  },
  {
   "cell_type": "code",
   "execution_count": 10,
   "metadata": {},
   "outputs": [],
   "source": [
    "# Calculate time between appointment and appointment scheduling \n",
    "def calc_time_between(cols):\n",
    "    appointment_day = cols[0]\n",
    "    scheduled_day = cols[1]\n",
    "    return (appointment_day.date() - scheduled_day.date()).days\n",
    "\n",
    "raw_data[\"scheduled_to_appointment\"] = raw_data[[\"appointment_day\", \"scheduled_day\"]].apply(calc_time_between, axis=1)\n",
    "\n",
    "# Drop observations with scheduled_to_appointment < 0\n",
    "raw_data = raw_data[raw_data[\"scheduled_to_appointment\"] >= 0]\n",
    "\n",
    "# Create weekday feature\n",
    "def get_weekday(date):\n",
    "    weekday_codes = {0: \"monday\", 1: \"tuesday\",\n",
    "                    2: \"wednesday\", 3: \"thursday\",\n",
    "                    4: \"friday\", 5: \"saturday\",\n",
    "                    6: \"sunday\"}\n",
    "    return weekday_codes[date.weekday()]\n",
    "\n",
    "raw_data[\"appointment_weekday\"] = raw_data[\"appointment_day\"].apply(lambda x: get_weekday(x)).astype(\"category\")\n",
    "\n",
    "# Remove nonsensical/unlikely  age observations\n",
    "raw_data = raw_data[(raw_data[\"age\"] >= 0) & (raw_data[\"age\"] != 115)]\n",
    "\n",
    "# Create age group feature\n",
    "def age_groups(age):\n",
    "    if age < 18:\n",
    "        return \"child\"\n",
    "    elif (age >= 18) & (age < 65):\n",
    "        return \"adult\"\n",
    "    else:\n",
    "        return \"senior\"\n",
    "\n",
    "raw_data[\"age_group\"] = raw_data[\"age\"].apply(lambda x: age_groups(x)).astype(\"category\")\n",
    "\n",
    "# Create neighborhood aggregates feature\n",
    "neighborhood_count = pd.DataFrame(raw_data.groupby(\"neighborhood\").count()[\"no_show\"])\n",
    "neighborhood_count.columns = [\"appointment_count\"]\n",
    "neighborhood_group_names = [\"very low volume\", \"low volume\", \"moderate volume\", \"high volume\", \"very high volume\"]\n",
    "neighborhood_count[\"neighborhood_volumes\"] = pd.qcut(neighborhood_count[\"appointment_count\"],\n",
    "                                                     5, neighborhood_group_names)\n",
    "neighborhood_count.loc[\"JARDIM CAMBURI\", \"neighborhood_volumes\"]\n",
    "raw_data[\"neighborhood_volumes\"] = raw_data[\"neighborhood\"].apply(lambda x: neighborhood_count.loc[x, \"neighborhood_volumes\"]).astype(\"category\")\n",
    "\n",
    "# Transform handicap to a binary 1 (yes), 0 (no)\n",
    "raw_data[\"handicap\"] = raw_data[\"handicap\"].apply(lambda x: 0 if x == 0 else 1).astype(\"category\")\n",
    "\n",
    "# Create same-day-appointment feature: 1 if appointment occurred on the same day it was scheduled, 0 otherwise\n",
    "raw_data[\"same_day_appointment\"] = raw_data[\"scheduled_to_appointment\"].apply(lambda x: 1 if x == 0 else 0).astype(\"category\")\n"
   ]
  },
  {
   "cell_type": "code",
   "execution_count": 11,
   "metadata": {},
   "outputs": [
    {
     "name": "stdout",
     "output_type": "stream",
     "text": [
      "<class 'pandas.core.frame.DataFrame'>\n",
      "Int64Index: 110516 entries, 0 to 110526\n",
      "Data columns (total 20 columns):\n",
      "scheduled_to_appointment                 110516 non-null int64\n",
      "gender_M                                 110516 non-null uint8\n",
      "age_group_child                          110516 non-null uint8\n",
      "age_group_senior                         110516 non-null uint8\n",
      "scholarship_1                            110516 non-null uint8\n",
      "hypertension_1                           110516 non-null uint8\n",
      "diabetes_1                               110516 non-null uint8\n",
      "alcoholism_1                             110516 non-null uint8\n",
      "handicap_1                               110516 non-null uint8\n",
      "sms_received_1                           110516 non-null uint8\n",
      "neighborhood_volumes_low volume          110516 non-null uint8\n",
      "neighborhood_volumes_moderate volume     110516 non-null uint8\n",
      "neighborhood_volumes_very high volume    110516 non-null uint8\n",
      "neighborhood_volumes_very low volume     110516 non-null uint8\n",
      "appointment_weekday_monday               110516 non-null uint8\n",
      "appointment_weekday_saturday             110516 non-null uint8\n",
      "appointment_weekday_thursday             110516 non-null uint8\n",
      "appointment_weekday_tuesday              110516 non-null uint8\n",
      "appointment_weekday_wednesday            110516 non-null uint8\n",
      "same_day_appointment_1                   110516 non-null uint8\n",
      "dtypes: int64(1), uint8(19)\n",
      "memory usage: 3.7 MB\n"
     ]
    }
   ],
   "source": [
    "# Split into feature dataframe and target dataframe\n",
    "features = raw_data[[\"gender\", \"age_group\", \"scholarship\", \"hypertension\", \"diabetes\", \"alcoholism\",\n",
    "                     \"handicap\", \"sms_received\", \"neighborhood_volumes\", \"appointment_weekday\",\n",
    "                    \"scheduled_to_appointment\", \"same_day_appointment\"]]\n",
    "target = raw_data[\"no_show\"]\n",
    "\n",
    "# Create dummy variables\n",
    "features = pd.get_dummies(features, drop_first=True)\n",
    "features.info()"
   ]
  },
  {
   "cell_type": "code",
   "execution_count": 13,
   "metadata": {},
   "outputs": [
    {
     "name": "stdout",
     "output_type": "stream",
     "text": [
      "['No' 'Yes']\n",
      "[0 1]\n"
     ]
    }
   ],
   "source": [
    "X = features.values\n",
    "y = np.array(target.values)\n",
    "\n",
    "le = LabelEncoder()\n",
    "y = le.fit_transform(y)\n",
    "\n",
    "X_train, X_test, y_train, y_test = train_test_split(X, y, test_size=0.2, stratify=y)\n",
    "\n",
    "print(le.classes_)\n",
    "print(le.transform([\"No\", \"Yes\"]))"
   ]
  },
  {
   "cell_type": "code",
   "execution_count": 14,
   "metadata": {},
   "outputs": [
    {
     "data": {
      "text/plain": [
       "0.79811972926997"
      ]
     },
     "execution_count": 14,
     "metadata": {},
     "output_type": "execute_result"
    }
   ],
   "source": [
    "y_pred = np.zeros(y.shape[0])\n",
    "np.mean(y_pred == y)"
   ]
  },
  {
   "cell_type": "markdown",
   "metadata": {},
   "source": [
    "### Up-sample"
   ]
  },
  {
   "cell_type": "code",
   "execution_count": 15,
   "metadata": {},
   "outputs": [],
   "source": [
    "# Up-sample to balance target class\n",
    "X_upsampled, y_upsampled = resample(X_train[y_train == 1], y_train[y_train == 1], replace=True,\n",
    "                                   n_samples=X_train[y_train == 0].shape[0])\n",
    "\n",
    "X_train_up = np.vstack((X_train[y_train == 0], X_upsampled))\n",
    "y_train_up = np.hstack((y_train[y_train == 0], y_upsampled))"
   ]
  },
  {
   "cell_type": "code",
   "execution_count": 16,
   "metadata": {},
   "outputs": [
    {
     "data": {
      "text/plain": [
       "0.5"
      ]
     },
     "execution_count": 16,
     "metadata": {},
     "output_type": "execute_result"
    }
   ],
   "source": [
    "y_pred = np.zeros(y_train_up.shape[0])\n",
    "np.mean(y_pred == y_train_up)"
   ]
  },
  {
   "cell_type": "markdown",
   "metadata": {},
   "source": [
    "### Down-sample"
   ]
  },
  {
   "cell_type": "code",
   "execution_count": 17,
   "metadata": {},
   "outputs": [],
   "source": [
    "# Down-sample to balance target class\n",
    "X_downsampled, y_downsampled = resample(X_train[y_train == 0], y_train[y_train == 0], replace=True,\n",
    "                                   n_samples=X_train[y_train == 1].shape[0])\n",
    "\n",
    "X_train_down = np.vstack((X_train[y_train == 1], X_downsampled))\n",
    "y_train_down = np.hstack((y_train[y_train == 1], y_downsampled))"
   ]
  },
  {
   "cell_type": "code",
   "execution_count": 18,
   "metadata": {},
   "outputs": [
    {
     "data": {
      "text/plain": [
       "0.5"
      ]
     },
     "execution_count": 18,
     "metadata": {},
     "output_type": "execute_result"
    }
   ],
   "source": [
    "y_pred = np.zeros(y_train_down.shape[0])\n",
    "np.mean(y_pred == y_train_down)"
   ]
  },
  {
   "cell_type": "markdown",
   "metadata": {},
   "source": [
    "### SMOTE"
   ]
  },
  {
   "cell_type": "code",
   "execution_count": 19,
   "metadata": {},
   "outputs": [],
   "source": [
    "# SMOTE\n",
    "sm = SMOTE()\n",
    "X_train_smote, y_train_smote = sm.fit_sample(X_train, y_train)"
   ]
  },
  {
   "cell_type": "code",
   "execution_count": 20,
   "metadata": {},
   "outputs": [
    {
     "data": {
      "text/plain": [
       "0.5"
      ]
     },
     "execution_count": 20,
     "metadata": {},
     "output_type": "execute_result"
    }
   ],
   "source": [
    "y_pred = np.zeros(y_train_smote.shape[0])\n",
    "np.mean(y_pred == y_train_smote)"
   ]
  },
  {
   "cell_type": "markdown",
   "metadata": {},
   "source": [
    "## Training"
   ]
  },
  {
   "cell_type": "code",
   "execution_count": 21,
   "metadata": {},
   "outputs": [],
   "source": [
    "# Set up results dictionary\n",
    "results = {\"model\": [], \"sample_method\":[], \"mean_train_acc\": [], \"std_train_acc\": [],\n",
    "           \"test_acc\": [], \"tp\": [], \"tn\": [], \"fp\": [], \"fn\": [], \"recall\": [],\n",
    "           \"precision\": [], \"f1_score\": [], \"runtime\": []}\n",
    "\n",
    "# Set-up helper functions\n",
    "def print_confumat(confumat):\n",
    "    fig, ax = plt.subplots(figsize=(2.5, 2.5))\n",
    "    ax.matshow(confumat, cmap=plt.cm.Blues, alpha=0.3)\n",
    "    for i in range(confumat.shape[0]):\n",
    "        for j in range(confumat.shape[1]):\n",
    "            ax.text(x=j, y=i, s=confumat[i, j], va=\"center\", ha=\"center\")\n",
    "    plt.xlabel(\"predicted\")\n",
    "    plt.ylabel(\"actual\")\n",
    "    plt.grid(None)\n",
    "    plt.show()\n",
    "\n",
    "def print_results(model, sample_method, mean_train_acc, std_train_acc, test_acc, rec_score,\n",
    "                  prec_score, eff_1_score, elapsed_time, confumat):\n",
    "    print(\"###### Results ######\")\n",
    "    print(\"Model: {}\\nSampling: {}\".format(model, sample_method))\n",
    "    print(\"Mean Training Accuracy: {:.3f}\".format(mean_train_acc))\n",
    "    print(\"Std Training Accuracy: {:.3f}\".format(std_train_acc))\n",
    "    print(\"Test Accuracy: {:.3f}\".format(test_acc))\n",
    "    print(\"Recall: {:.3f}\".format(rec_score))\n",
    "    print(\"Precision: {:.3f}\".format(prec_score))\n",
    "    print(\"F1 Score: {:.3f}\".format(eff_1_score))\n",
    "    print(\"Runtime: {:.5f}\".format(elapsed_time))\n",
    "    print_confumat(confumat)\n",
    "\n",
    "def run_model(model, X_train, y_train, X_test, y_test, result_dict, sample_method=\"none\", cv=10):\n",
    "    # Run model and store results\n",
    "    start_time = time.time()\n",
    "    mod = model\n",
    "    model_name = str(mod.__class__).split(\".\")[-1].replace(\"'>\", \"\")\n",
    "    mod.fit(X_train, y_train)\n",
    "    y_pred = mod.predict(X_test)\n",
    "    \n",
    "    scores = cross_val_score(mod, X_train, y_train, cv=cv)\n",
    "    mean_train_acc = np.mean(scores)\n",
    "    std_train_acc = np.std(scores)\n",
    "    test_acc = accuracy_score(y_test, y_pred)\n",
    "    rec_score = recall_score(y_test, y_pred)\n",
    "    prec_score = precision_score(y_test, y_pred)\n",
    "    eff_1_score = f1_score(y_test, y_pred)\n",
    "    confumat = confusion_matrix(y_test, y_pred)\n",
    "    tn, fp, fn, tp = confumat.ravel()\n",
    "    elapsed_time = time.time() - start_time\n",
    "    \n",
    "    # Append results to dictionary\n",
    "    result_dict[\"model\"].append(model_name)\n",
    "    result_dict[\"sample_method\"].append(sample_method)\n",
    "    result_dict[\"mean_train_acc\"].append(mean_train_acc)\n",
    "    result_dict[\"std_train_acc\"].append(std_train_acc)\n",
    "    result_dict[\"test_acc\"].append(test_acc)\n",
    "    result_dict[\"tp\"].append(tp)\n",
    "    result_dict[\"tn\"].append(tn)\n",
    "    result_dict[\"fp\"].append(fp)\n",
    "    result_dict[\"fn\"].append(fn)\n",
    "    result_dict[\"recall\"].append(rec_score)\n",
    "    result_dict[\"precision\"].append(prec_score)\n",
    "    result_dict[\"f1_score\"].append(eff_1_score)\n",
    "    result_dict[\"runtime\"].append(elapsed_time)\n",
    "    \n",
    "    # Display results\n",
    "    print_results(model_name, sample_method, mean_train_acc, std_train_acc, test_acc,\n",
    "                  rec_score, prec_score, eff_1_score, elapsed_time, confumat)\n"
   ]
  },
  {
   "cell_type": "markdown",
   "metadata": {},
   "source": [
    "### Naive Bayes"
   ]
  },
  {
   "cell_type": "code",
   "execution_count": 22,
   "metadata": {},
   "outputs": [
    {
     "name": "stdout",
     "output_type": "stream",
     "text": [
      "###### Results ######\n",
      "Model: BernoulliNB\n",
      "Sampling: none\n",
      "Mean Training Accuracy: 0.739\n",
      "Std Training Accuracy: 0.009\n",
      "Test Accuracy: 0.735\n",
      "Recall: 0.235\n",
      "Precision: 0.301\n",
      "F1 Score: 0.264\n",
      "Runtime: 0.88927\n"
     ]
    },
    {
     "data": {
      "image/png": "[encoded data removed]",
      "text/plain": [
       "<Figure size 180x180 with 1 Axes>"
      ]
     },
     "metadata": {},
     "output_type": "display_data"
    }
   ],
   "source": [
    "run_model(BernoulliNB(), X_train, y_train, X_test, y_test, results)"
   ]
  },
  {
   "cell_type": "code",
   "execution_count": 23,
   "metadata": {},
   "outputs": [
    {
     "name": "stdout",
     "output_type": "stream",
     "text": [
      "###### Results ######\n",
      "Model: BernoulliNB\n",
      "Sampling: up-sampled\n",
      "Mean Training Accuracy: 0.666\n",
      "Std Training Accuracy: 0.004\n",
      "Test Accuracy: 0.525\n",
      "Recall: 0.915\n",
      "Precision: 0.287\n",
      "F1 Score: 0.437\n",
      "Runtime: 1.28629\n"
     ]
    },
    {
     "data": {
      "image/png": "[encoded data removed]",
      "text/plain": [
       "<Figure size 180x180 with 1 Axes>"
      ]
     },
     "metadata": {},
     "output_type": "display_data"
    }
   ],
   "source": [
    "run_model(BernoulliNB(), X_train_up, y_train_up, X_test, y_test, results, sample_method=\"up-sampled\")"
   ]
  },
  {
   "cell_type": "code",
   "execution_count": 24,
   "metadata": {},
   "outputs": [
    {
     "name": "stdout",
     "output_type": "stream",
     "text": [
      "###### Results ######\n",
      "Model: BernoulliNB\n",
      "Sampling: down-sampled\n",
      "Mean Training Accuracy: 0.667\n",
      "Std Training Accuracy: 0.008\n",
      "Test Accuracy: 0.525\n",
      "Recall: 0.915\n",
      "Precision: 0.287\n",
      "F1 Score: 0.437\n",
      "Runtime: 0.32812\n"
     ]
    },
    {
     "data": {
      "image/png": "[encoded data removed]",
      "text/plain": [
       "<Figure size 180x180 with 1 Axes>"
      ]
     },
     "metadata": {},
     "output_type": "display_data"
    }
   ],
   "source": [
    "run_model(BernoulliNB(), X_train_down, y_train_down, X_test, y_test, results, sample_method=\"down-sampled\")"
   ]
  },
  {
   "cell_type": "code",
   "execution_count": 25,
   "metadata": {},
   "outputs": [
    {
     "name": "stdout",
     "output_type": "stream",
     "text": [
      "###### Results ######\n",
      "Model: BernoulliNB\n",
      "Sampling: smote\n",
      "Mean Training Accuracy: 0.667\n",
      "Std Training Accuracy: 0.004\n",
      "Test Accuracy: 0.523\n",
      "Recall: 0.919\n",
      "Precision: 0.287\n",
      "F1 Score: 0.438\n",
      "Runtime: 1.26236\n"
     ]
    },
    {
     "data": {
      "image/png": "[encoded data removed]",
      "text/plain": [
       "<Figure size 180x180 with 1 Axes>"
      ]
     },
     "metadata": {},
     "output_type": "display_data"
    }
   ],
   "source": [
    "run_model(BernoulliNB(), X_train_smote, y_train_smote, X_test, y_test, results, sample_method=\"smote\")"
   ]
  },
  {
   "cell_type": "markdown",
   "metadata": {},
   "source": [
    "### K Nearest Neighbors"
   ]
  },
  {
   "cell_type": "code",
   "execution_count": 26,
   "metadata": {},
   "outputs": [
    {
     "name": "stdout",
     "output_type": "stream",
     "text": [
      "###### Results ######\n",
      "Model: KNeighborsClassifier\n",
      "Sampling: none\n",
      "Mean Training Accuracy: 0.764\n",
      "Std Training Accuracy: 0.004\n",
      "Test Accuracy: 0.771\n",
      "Recall: 0.176\n",
      "Precision: 0.363\n",
      "F1 Score: 0.237\n",
      "Runtime: 58.42718\n"
     ]
    },
    {
     "data": {
      "image/png": "[encoded data removed]",
      "text/plain": [
       "<Figure size 180x180 with 1 Axes>"
      ]
     },
     "metadata": {},
     "output_type": "display_data"
    }
   ],
   "source": [
    "run_model(KNeighborsClassifier(), X_train, y_train, X_test, y_test, results)"
   ]
  },
  {
   "cell_type": "code",
   "execution_count": 27,
   "metadata": {},
   "outputs": [
    {
     "name": "stdout",
     "output_type": "stream",
     "text": [
      "###### Results ######\n",
      "Model: KNeighborsClassifier\n",
      "Sampling: up-sampled\n",
      "Mean Training Accuracy: 0.690\n",
      "Std Training Accuracy: 0.005\n",
      "Test Accuracy: 0.668\n",
      "Recall: 0.562\n",
      "Precision: 0.318\n",
      "F1 Score: 0.406\n",
      "Runtime: 103.57118\n"
     ]
    },
    {
     "data": {
      "image/png": "[encoded data removed]",
      "text/plain": [
       "<Figure size 180x180 with 1 Axes>"
      ]
     },
     "metadata": {},
     "output_type": "display_data"
    }
   ],
   "source": [
    "run_model(KNeighborsClassifier(), X_train_up, y_train_up, X_test, y_test, results, sample_method=\"up-sampled\")"
   ]
  },
  {
   "cell_type": "code",
   "execution_count": 28,
   "metadata": {},
   "outputs": [
    {
     "name": "stdout",
     "output_type": "stream",
     "text": [
      "###### Results ######\n",
      "Model: KNeighborsClassifier\n",
      "Sampling: down-sampled\n",
      "Mean Training Accuracy: 0.565\n",
      "Std Training Accuracy: 0.012\n",
      "Test Accuracy: 0.473\n",
      "Recall: 0.718\n",
      "Precision: 0.236\n",
      "F1 Score: 0.355\n",
      "Runtime: 9.63139\n"
     ]
    },
    {
     "data": {
      "image/png": "[encoded data removed]",
      "text/plain": [
       "<Figure size 180x180 with 1 Axes>"
      ]
     },
     "metadata": {},
     "output_type": "display_data"
    }
   ],
   "source": [
    "run_model(KNeighborsClassifier(), X_train_down, y_train_down, X_test, y_test, results, sample_method=\"down-sampled\")"
   ]
  },
  {
   "cell_type": "code",
   "execution_count": 29,
   "metadata": {},
   "outputs": [
    {
     "name": "stdout",
     "output_type": "stream",
     "text": [
      "###### Results ######\n",
      "Model: KNeighborsClassifier\n",
      "Sampling: smote\n",
      "Mean Training Accuracy: 0.698\n",
      "Std Training Accuracy: 0.014\n",
      "Test Accuracy: 0.700\n",
      "Recall: 0.441\n",
      "Precision: 0.322\n",
      "F1 Score: 0.372\n",
      "Runtime: 99.97495\n"
     ]
    },
    {
     "data": {
      "image/png": "[encoded data removed]",
      "text/plain": [
       "<Figure size 180x180 with 1 Axes>"
      ]
     },
     "metadata": {},
     "output_type": "display_data"
    }
   ],
   "source": [
    "run_model(KNeighborsClassifier(), X_train_smote, y_train_smote, X_test, y_test, results, sample_method=\"smote\")"
   ]
  },
  {
   "cell_type": "markdown",
   "metadata": {},
   "source": [
    "### Decision Tree"
   ]
  },
  {
   "cell_type": "code",
   "execution_count": 30,
   "metadata": {},
   "outputs": [
    {
     "name": "stdout",
     "output_type": "stream",
     "text": [
      "###### Results ######\n",
      "Model: DecisionTreeClassifier\n",
      "Sampling: none\n",
      "Mean Training Accuracy: 0.798\n",
      "Std Training Accuracy: 0.000\n",
      "Test Accuracy: 0.798\n",
      "Recall: 0.001\n",
      "Precision: 0.750\n",
      "F1 Score: 0.001\n",
      "Runtime: 1.32345\n"
     ]
    },
    {
     "data": {
      "image/png": "[encoded data removed]",
      "text/plain": [
       "<Figure size 180x180 with 1 Axes>"
      ]
     },
     "metadata": {},
     "output_type": "display_data"
    }
   ],
   "source": [
    "run_model(DecisionTreeClassifier(max_depth=5), X_train, y_train, X_test, y_test, results)"
   ]
  },
  {
   "cell_type": "code",
   "execution_count": 31,
   "metadata": {},
   "outputs": [
    {
     "name": "stdout",
     "output_type": "stream",
     "text": [
      "###### Results ######\n",
      "Model: DecisionTreeClassifier\n",
      "Sampling: up-sampled\n",
      "Mean Training Accuracy: 0.672\n",
      "Std Training Accuracy: 0.003\n",
      "Test Accuracy: 0.558\n",
      "Recall: 0.867\n",
      "Precision: 0.296\n",
      "F1 Score: 0.442\n",
      "Runtime: 2.46439\n"
     ]
    },
    {
     "data": {
      "image/png": "[encoded data removed]",
      "text/plain": [
       "<Figure size 180x180 with 1 Axes>"
      ]
     },
     "metadata": {},
     "output_type": "display_data"
    }
   ],
   "source": [
    "run_model(DecisionTreeClassifier(max_depth=5), X_train_up, y_train_up, X_test, y_test, results, sample_method=\"up-sampled\")"
   ]
  },
  {
   "cell_type": "code",
   "execution_count": 32,
   "metadata": {},
   "outputs": [
    {
     "name": "stdout",
     "output_type": "stream",
     "text": [
      "###### Results ######\n",
      "Model: DecisionTreeClassifier\n",
      "Sampling: down-sampled\n",
      "Mean Training Accuracy: 0.672\n",
      "Std Training Accuracy: 0.010\n",
      "Test Accuracy: 0.567\n",
      "Recall: 0.856\n",
      "Precision: 0.300\n",
      "F1 Score: 0.444\n",
      "Runtime: 0.46934\n"
     ]
    },
    {
     "data": {
      "image/png": "[encoded data removed]",
      "text/plain": [
       "<Figure size 180x180 with 1 Axes>"
      ]
     },
     "metadata": {},
     "output_type": "display_data"
    }
   ],
   "source": [
    "run_model(DecisionTreeClassifier(max_depth=5), X_train_down, y_train_down, X_test, y_test, results, sample_method=\"down-sampled\")"
   ]
  },
  {
   "cell_type": "code",
   "execution_count": 33,
   "metadata": {},
   "outputs": [
    {
     "name": "stdout",
     "output_type": "stream",
     "text": [
      "###### Results ######\n",
      "Model: DecisionTreeClassifier\n",
      "Sampling: smote\n",
      "Mean Training Accuracy: 0.683\n",
      "Std Training Accuracy: 0.014\n",
      "Test Accuracy: 0.601\n",
      "Recall: 0.756\n",
      "Precision: 0.304\n",
      "F1 Score: 0.434\n",
      "Runtime: 2.60700\n"
     ]
    },
    {
     "data": {
      "image/png": "[encoded data removed]",
      "text/plain": [
       "<Figure size 180x180 with 1 Axes>"
      ]
     },
     "metadata": {},
     "output_type": "display_data"
    }
   ],
   "source": [
    "run_model(DecisionTreeClassifier(max_depth=5), X_train_smote, y_train_smote, X_test, y_test, results, sample_method=\"smote\")"
   ]
  },
  {
   "cell_type": "markdown",
   "metadata": {},
   "source": [
    "### Random Forest"
   ]
  },
  {
   "cell_type": "code",
   "execution_count": 34,
   "metadata": {},
   "outputs": [
    {
     "name": "stdout",
     "output_type": "stream",
     "text": [
      "###### Results ######\n",
      "Model: RandomForestClassifier\n",
      "Sampling: none\n",
      "Mean Training Accuracy: 0.798\n",
      "Std Training Accuracy: 0.000\n",
      "Test Accuracy: 0.798\n",
      "Recall: 0.000\n",
      "Precision: 0.000\n",
      "F1 Score: 0.000\n",
      "Runtime: 13.95055\n"
     ]
    },
    {
     "data": {
      "image/png": "[encoded data removed]",
      "text/plain": [
       "<Figure size 180x180 with 1 Axes>"
      ]
     },
     "metadata": {},
     "output_type": "display_data"
    }
   ],
   "source": [
    "run_model(RandomForestClassifier(n_estimators=50, max_depth=5), X_train, y_train, X_test, y_test, results)"
   ]
  },
  {
   "cell_type": "code",
   "execution_count": 35,
   "metadata": {},
   "outputs": [
    {
     "name": "stdout",
     "output_type": "stream",
     "text": [
      "###### Results ######\n",
      "Model: RandomForestClassifier\n",
      "Sampling: up-sampled\n",
      "Mean Training Accuracy: 0.669\n",
      "Std Training Accuracy: 0.004\n",
      "Test Accuracy: 0.522\n",
      "Recall: 0.923\n",
      "Precision: 0.287\n",
      "F1 Score: 0.438\n",
      "Runtime: 23.83194\n"
     ]
    },
    {
     "data": {
      "image/png": "[encoded data removed]",
      "text/plain": [
       "<Figure size 180x180 with 1 Axes>"
      ]
     },
     "metadata": {},
     "output_type": "display_data"
    }
   ],
   "source": [
    "run_model(RandomForestClassifier(n_estimators=50, max_depth=5), X_train_up, y_train_up, X_test, y_test,\n",
    "          results, sample_method=\"up-sampled\")"
   ]
  },
  {
   "cell_type": "code",
   "execution_count": 36,
   "metadata": {},
   "outputs": [
    {
     "name": "stdout",
     "output_type": "stream",
     "text": [
      "###### Results ######\n",
      "Model: RandomForestClassifier\n",
      "Sampling: down-sampled\n",
      "Mean Training Accuracy: 0.669\n",
      "Std Training Accuracy: 0.009\n",
      "Test Accuracy: 0.525\n",
      "Recall: 0.917\n",
      "Precision: 0.288\n",
      "F1 Score: 0.438\n",
      "Runtime: 4.69047\n"
     ]
    },
    {
     "data": {
      "image/png": "[encoded data removed]",
      "text/plain": [
       "<Figure size 180x180 with 1 Axes>"
      ]
     },
     "metadata": {},
     "output_type": "display_data"
    }
   ],
   "source": [
    "run_model(RandomForestClassifier(n_estimators=50, max_depth=5), X_train_down, y_train_down, X_test, y_test,\n",
    "          results, sample_method=\"down-sampled\")"
   ]
  },
  {
   "cell_type": "code",
   "execution_count": 37,
   "metadata": {},
   "outputs": [
    {
     "name": "stdout",
     "output_type": "stream",
     "text": [
      "###### Results ######\n",
      "Model: RandomForestClassifier\n",
      "Sampling: smote\n",
      "Mean Training Accuracy: 0.689\n",
      "Std Training Accuracy: 0.014\n",
      "Test Accuracy: 0.579\n",
      "Recall: 0.816\n",
      "Precision: 0.300\n",
      "F1 Score: 0.439\n",
      "Runtime: 27.52300\n"
     ]
    },
    {
     "data": {
      "image/png": "[encoded data removed]",
      "text/plain": [
       "<Figure size 180x180 with 1 Axes>"
      ]
     },
     "metadata": {},
     "output_type": "display_data"
    }
   ],
   "source": [
    "run_model(RandomForestClassifier(n_estimators=50, max_depth=5), X_train_smote, y_train_smote, X_test, y_test,\n",
    "          results, sample_method=\"smote\")"
   ]
  },
  {
   "cell_type": "markdown",
   "metadata": {},
   "source": [
    "### Logisitic Regression"
   ]
  },
  {
   "cell_type": "code",
   "execution_count": 38,
   "metadata": {},
   "outputs": [
    {
     "name": "stdout",
     "output_type": "stream",
     "text": [
      "###### Results ######\n",
      "Model: LogisticRegression\n",
      "Sampling: none\n",
      "Mean Training Accuracy: 0.798\n",
      "Std Training Accuracy: 0.000\n",
      "Test Accuracy: 0.798\n",
      "Recall: 0.002\n",
      "Precision: 0.368\n",
      "F1 Score: 0.003\n",
      "Runtime: 2.92317\n"
     ]
    },
    {
     "data": {
      "image/png": "[encoded data removed]",
      "text/plain": [
       "<Figure size 180x180 with 1 Axes>"
      ]
     },
     "metadata": {},
     "output_type": "display_data"
    }
   ],
   "source": [
    "run_model(LogisticRegression(C=1000), X_train, y_train, X_test, y_test, results)"
   ]
  },
  {
   "cell_type": "code",
   "execution_count": 39,
   "metadata": {},
   "outputs": [
    {
     "name": "stdout",
     "output_type": "stream",
     "text": [
      "###### Results ######\n",
      "Model: LogisticRegression\n",
      "Sampling: up-sampled\n",
      "Mean Training Accuracy: 0.669\n",
      "Std Training Accuracy: 0.002\n",
      "Test Accuracy: 0.554\n",
      "Recall: 0.873\n",
      "Precision: 0.295\n",
      "F1 Score: 0.441\n",
      "Runtime: 4.39227\n"
     ]
    },
    {
     "data": {
      "image/png": "[encoded data removed]",
      "text/plain": [
       "<Figure size 180x180 with 1 Axes>"
      ]
     },
     "metadata": {},
     "output_type": "display_data"
    }
   ],
   "source": [
    "run_model(LogisticRegression(C=1000), X_train_up, y_train_up, X_test, y_test,\n",
    "          results, sample_method=\"up-sampled\")"
   ]
  },
  {
   "cell_type": "code",
   "execution_count": 40,
   "metadata": {},
   "outputs": [
    {
     "name": "stdout",
     "output_type": "stream",
     "text": [
      "###### Results ######\n",
      "Model: LogisticRegression\n",
      "Sampling: down-sampled\n",
      "Mean Training Accuracy: 0.668\n",
      "Std Training Accuracy: 0.008\n",
      "Test Accuracy: 0.551\n",
      "Recall: 0.877\n",
      "Precision: 0.294\n",
      "F1 Score: 0.441\n",
      "Runtime: 1.08310\n"
     ]
    },
    {
     "data": {
      "image/png": "[encoded data removed]",
      "text/plain": [
       "<Figure size 180x180 with 1 Axes>"
      ]
     },
     "metadata": {},
     "output_type": "display_data"
    }
   ],
   "source": [
    "run_model(LogisticRegression(C=1000), X_train_down, y_train_down, X_test, y_test,\n",
    "          results, sample_method=\"down-sampled\")"
   ]
  },
  {
   "cell_type": "code",
   "execution_count": 41,
   "metadata": {},
   "outputs": [
    {
     "name": "stdout",
     "output_type": "stream",
     "text": [
      "###### Results ######\n",
      "Model: LogisticRegression\n",
      "Sampling: smote\n",
      "Mean Training Accuracy: 0.671\n",
      "Std Training Accuracy: 0.005\n",
      "Test Accuracy: 0.563\n",
      "Recall: 0.850\n",
      "Precision: 0.297\n",
      "F1 Score: 0.440\n",
      "Runtime: 5.31078\n"
     ]
    },
    {
     "data": {
      "image/png": "[encoded data removed]",
      "text/plain": [
       "<Figure size 180x180 with 1 Axes>"
      ]
     },
     "metadata": {},
     "output_type": "display_data"
    }
   ],
   "source": [
    "run_model(LogisticRegression(C=1000), X_train_smote, y_train_smote, X_test, y_test,\n",
    "          results, sample_method=\"smote\")"
   ]
  },
  {
   "cell_type": "markdown",
   "metadata": {},
   "source": [
    "### Ridge Classification"
   ]
  },
  {
   "cell_type": "code",
   "execution_count": 42,
   "metadata": {},
   "outputs": [
    {
     "name": "stdout",
     "output_type": "stream",
     "text": [
      "###### Results ######\n",
      "Model: RidgeClassifier\n",
      "Sampling: none\n",
      "Mean Training Accuracy: 0.798\n",
      "Std Training Accuracy: 0.000\n",
      "Test Accuracy: 0.798\n",
      "Recall: 0.001\n",
      "Precision: 0.250\n",
      "F1 Score: 0.001\n",
      "Runtime: 0.67220\n"
     ]
    },
    {
     "data": {
      "image/png": "[encoded data removed]",
      "text/plain": [
       "<Figure size 180x180 with 1 Axes>"
      ]
     },
     "metadata": {},
     "output_type": "display_data"
    }
   ],
   "source": [
    "run_model(RidgeClassifier(), X_train, y_train, X_test, y_test, results)"
   ]
  },
  {
   "cell_type": "code",
   "execution_count": 43,
   "metadata": {
    "scrolled": false
   },
   "outputs": [
    {
     "name": "stdout",
     "output_type": "stream",
     "text": [
      "###### Results ######\n",
      "Model: RidgeClassifier\n",
      "Sampling: up-sampled\n",
      "Mean Training Accuracy: 0.669\n",
      "Std Training Accuracy: 0.003\n",
      "Test Accuracy: 0.548\n",
      "Recall: 0.888\n",
      "Precision: 0.294\n",
      "F1 Score: 0.442\n",
      "Runtime: 0.98935\n"
     ]
    },
    {
     "data": {
      "image/png": "[encoded data removed]",
      "text/plain": [
       "<Figure size 180x180 with 1 Axes>"
      ]
     },
     "metadata": {},
     "output_type": "display_data"
    }
   ],
   "source": [
    "run_model(RidgeClassifier(), X_train_up, y_train_up, X_test, y_test,\n",
    "          results, sample_method=\"up-sampled\")"
   ]
  },
  {
   "cell_type": "code",
   "execution_count": 44,
   "metadata": {},
   "outputs": [
    {
     "name": "stdout",
     "output_type": "stream",
     "text": [
      "###### Results ######\n",
      "Model: RidgeClassifier\n",
      "Sampling: down-sampled\n",
      "Mean Training Accuracy: 0.669\n",
      "Std Training Accuracy: 0.008\n",
      "Test Accuracy: 0.544\n",
      "Recall: 0.894\n",
      "Precision: 0.293\n",
      "F1 Score: 0.442\n",
      "Runtime: 0.27726\n"
     ]
    },
    {
     "data": {
      "image/png": "[encoded data removed]",
      "text/plain": [
       "<Figure size 180x180 with 1 Axes>"
      ]
     },
     "metadata": {},
     "output_type": "display_data"
    }
   ],
   "source": [
    "run_model(RidgeClassifier(), X_train_down, y_train_down, X_test, y_test,\n",
    "          results, sample_method=\"down-sampled\")"
   ]
  },
  {
   "cell_type": "code",
   "execution_count": 45,
   "metadata": {},
   "outputs": [
    {
     "name": "stdout",
     "output_type": "stream",
     "text": [
      "###### Results ######\n",
      "Model: RidgeClassifier\n",
      "Sampling: smote\n",
      "Mean Training Accuracy: 0.670\n",
      "Std Training Accuracy: 0.005\n",
      "Test Accuracy: 0.557\n",
      "Recall: 0.864\n",
      "Precision: 0.295\n",
      "F1 Score: 0.440\n",
      "Runtime: 0.92851\n"
     ]
    },
    {
     "data": {
      "image/png": "[encoded data removed]",
      "text/plain": [
       "<Figure size 180x180 with 1 Axes>"
      ]
     },
     "metadata": {},
     "output_type": "display_data"
    }
   ],
   "source": [
    "run_model(RidgeClassifier(), X_train_smote, y_train_smote, X_test, y_test,\n",
    "          results, sample_method=\"smote\")"
   ]
  },
  {
   "cell_type": "markdown",
   "metadata": {},
   "source": [
    "### Lasso Regression"
   ]
  },
  {
   "cell_type": "code",
   "execution_count": 46,
   "metadata": {},
   "outputs": [
    {
     "name": "stdout",
     "output_type": "stream",
     "text": [
      "###### Results ######\n",
      "Model: LogisticRegression\n",
      "Sampling: none\n",
      "Mean Training Accuracy: 0.798\n",
      "Std Training Accuracy: 0.000\n",
      "Test Accuracy: 0.798\n",
      "Recall: 0.002\n",
      "Precision: 0.368\n",
      "F1 Score: 0.003\n",
      "Runtime: 2.70974\n"
     ]
    },
    {
     "data": {
      "image/png": "[encoded data removed]",
      "text/plain": [
       "<Figure size 180x180 with 1 Axes>"
      ]
     },
     "metadata": {},
     "output_type": "display_data"
    }
   ],
   "source": [
    "run_model(LogisticRegression(penalty=\"l1\"), X_train, y_train, X_test, y_test, results)"
   ]
  },
  {
   "cell_type": "code",
   "execution_count": 47,
   "metadata": {},
   "outputs": [
    {
     "name": "stdout",
     "output_type": "stream",
     "text": [
      "###### Results ######\n",
      "Model: LogisticRegression\n",
      "Sampling: up-sampled\n",
      "Mean Training Accuracy: 0.669\n",
      "Std Training Accuracy: 0.002\n",
      "Test Accuracy: 0.554\n",
      "Recall: 0.874\n",
      "Precision: 0.295\n",
      "F1 Score: 0.442\n",
      "Runtime: 4.04520\n"
     ]
    },
    {
     "data": {
      "image/png": "[encoded data removed]",
      "text/plain": [
       "<Figure size 180x180 with 1 Axes>"
      ]
     },
     "metadata": {},
     "output_type": "display_data"
    }
   ],
   "source": [
    "run_model(LogisticRegression(penalty=\"l1\"), X_train_up, y_train_up, X_test, y_test,\n",
    "          results, sample_method=\"up-sampled\")"
   ]
  },
  {
   "cell_type": "code",
   "execution_count": 48,
   "metadata": {},
   "outputs": [
    {
     "name": "stdout",
     "output_type": "stream",
     "text": [
      "###### Results ######\n",
      "Model: LogisticRegression\n",
      "Sampling: down-sampled\n",
      "Mean Training Accuracy: 0.668\n",
      "Std Training Accuracy: 0.008\n",
      "Test Accuracy: 0.551\n",
      "Recall: 0.878\n",
      "Precision: 0.294\n",
      "F1 Score: 0.441\n",
      "Runtime: 0.94151\n"
     ]
    },
    {
     "data": {
      "image/png": "[encoded data removed]",
      "text/plain": [
       "<Figure size 180x180 with 1 Axes>"
      ]
     },
     "metadata": {},
     "output_type": "display_data"
    }
   ],
   "source": [
    "run_model(LogisticRegression(penalty=\"l1\"), X_train_down, y_train_down, X_test, y_test,\n",
    "          results, sample_method=\"down-sampled\")"
   ]
  },
  {
   "cell_type": "code",
   "execution_count": 49,
   "metadata": {},
   "outputs": [
    {
     "name": "stdout",
     "output_type": "stream",
     "text": [
      "###### Results ######\n",
      "Model: LogisticRegression\n",
      "Sampling: smote\n",
      "Mean Training Accuracy: 0.671\n",
      "Std Training Accuracy: 0.005\n",
      "Test Accuracy: 0.563\n",
      "Recall: 0.850\n",
      "Precision: 0.297\n",
      "F1 Score: 0.440\n",
      "Runtime: 4.20178\n"
     ]
    },
    {
     "data": {
      "image/png": "[encoded data removed]",
      "text/plain": [
       "<Figure size 180x180 with 1 Axes>"
      ]
     },
     "metadata": {},
     "output_type": "display_data"
    }
   ],
   "source": [
    "run_model(LogisticRegression(penalty=\"l1\"), X_train_smote, y_train_smote, X_test, y_test,\n",
    "          results, sample_method=\"smote\")"
   ]
  },
  {
   "cell_type": "markdown",
   "metadata": {},
   "source": [
    "### Support Vector Machines"
   ]
  },
  {
   "cell_type": "code",
   "execution_count": 50,
   "metadata": {},
   "outputs": [
    {
     "name": "stdout",
     "output_type": "stream",
     "text": [
      "###### Results ######\n",
      "Model: SVC\n",
      "Sampling: none\n",
      "Mean Training Accuracy: 0.778\n",
      "Std Training Accuracy: 0.017\n",
      "Test Accuracy: 0.791\n",
      "Recall: 0.032\n",
      "Precision: 0.330\n",
      "F1 Score: 0.058\n",
      "Runtime: 5.50827\n"
     ]
    },
    {
     "data": {
      "image/png": "[encoded data removed]",
      "text/plain": [
       "<Figure size 180x180 with 1 Axes>"
      ]
     },
     "metadata": {},
     "output_type": "display_data"
    }
   ],
   "source": [
    "run_model(SVC(max_iter=50), X_train, y_train, X_test, y_test, results)"
   ]
  },
  {
   "cell_type": "code",
   "execution_count": 51,
   "metadata": {},
   "outputs": [
    {
     "name": "stdout",
     "output_type": "stream",
     "text": [
      "###### Results ######\n",
      "Model: SVC\n",
      "Sampling: up-sampled\n",
      "Mean Training Accuracy: 0.528\n",
      "Std Training Accuracy: 0.002\n",
      "Test Accuracy: 0.772\n",
      "Recall: 0.128\n",
      "Precision: 0.331\n",
      "F1 Score: 0.184\n",
      "Runtime: 7.77318\n"
     ]
    },
    {
     "data": {
      "image/png": "[encoded data removed]",
      "text/plain": [
       "<Figure size 180x180 with 1 Axes>"
      ]
     },
     "metadata": {},
     "output_type": "display_data"
    }
   ],
   "source": [
    "run_model(SVC(max_iter=50), X_train_up, y_train_up, X_test, y_test,\n",
    "          results, sample_method=\"up-sampled\")"
   ]
  },
  {
   "cell_type": "code",
   "execution_count": 52,
   "metadata": {},
   "outputs": [
    {
     "name": "stdout",
     "output_type": "stream",
     "text": [
      "###### Results ######\n",
      "Model: SVC\n",
      "Sampling: down-sampled\n",
      "Mean Training Accuracy: 0.378\n",
      "Std Training Accuracy: 0.006\n",
      "Test Accuracy: 0.476\n",
      "Recall: 0.304\n",
      "Precision: 0.138\n",
      "F1 Score: 0.190\n",
      "Runtime: 2.04455\n"
     ]
    },
    {
     "data": {
      "image/png": "[encoded data removed]",
      "text/plain": [
       "<Figure size 180x180 with 1 Axes>"
      ]
     },
     "metadata": {},
     "output_type": "display_data"
    }
   ],
   "source": [
    "run_model(SVC(max_iter=50), X_train_down, y_train_down, X_test, y_test,\n",
    "          results, sample_method=\"down-sampled\")"
   ]
  },
  {
   "cell_type": "code",
   "execution_count": 53,
   "metadata": {},
   "outputs": [
    {
     "name": "stdout",
     "output_type": "stream",
     "text": [
      "###### Results ######\n",
      "Model: SVC\n",
      "Sampling: smote\n",
      "Mean Training Accuracy: 0.521\n",
      "Std Training Accuracy: 0.006\n",
      "Test Accuracy: 0.776\n",
      "Recall: 0.110\n",
      "Precision: 0.332\n",
      "F1 Score: 0.165\n",
      "Runtime: 8.43740\n"
     ]
    },
    {
     "data": {
      "image/png": "[encoded data removed]",
      "text/plain": [
       "<Figure size 180x180 with 1 Axes>"
      ]
     },
     "metadata": {},
     "output_type": "display_data"
    }
   ],
   "source": [
    "run_model(SVC(max_iter=50), X_train_smote, y_train_smote, X_test, y_test,\n",
    "          results, sample_method=\"smote\")"
   ]
  },
  {
   "cell_type": "markdown",
   "metadata": {},
   "source": [
    "### Gradient Boosting"
   ]
  },
  {
   "cell_type": "code",
   "execution_count": 54,
   "metadata": {},
   "outputs": [
    {
     "name": "stdout",
     "output_type": "stream",
     "text": [
      "###### Results ######\n",
      "Model: GradientBoostingClassifier\n",
      "Sampling: none\n",
      "Mean Training Accuracy: 0.798\n",
      "Std Training Accuracy: 0.000\n",
      "Test Accuracy: 0.798\n",
      "Recall: 0.007\n",
      "Precision: 0.542\n",
      "F1 Score: 0.014\n",
      "Runtime: 262.85480\n"
     ]
    },
    {
     "data": {
      "image/png": "[encoded data removed]",
      "text/plain": [
       "<Figure size 180x180 with 1 Axes>"
      ]
     },
     "metadata": {},
     "output_type": "display_data"
    }
   ],
   "source": [
    "run_model(GradientBoostingClassifier(n_estimators=500, max_depth=2, loss=\"deviance\"), X_train, y_train, X_test, y_test,\n",
    "          results)"
   ]
  },
  {
   "cell_type": "code",
   "execution_count": 55,
   "metadata": {},
   "outputs": [
    {
     "name": "stdout",
     "output_type": "stream",
     "text": [
      "###### Results ######\n",
      "Model: GradientBoostingClassifier\n",
      "Sampling: up-sampled\n",
      "Mean Training Accuracy: 0.672\n",
      "Std Training Accuracy: 0.003\n",
      "Test Accuracy: 0.564\n",
      "Recall: 0.863\n",
      "Precision: 0.299\n",
      "F1 Score: 0.444\n",
      "Runtime: 458.81428\n"
     ]
    },
    {
     "data": {
      "image/png": "[encoded data removed]",
      "text/plain": [
       "<Figure size 180x180 with 1 Axes>"
      ]
     },
     "metadata": {},
     "output_type": "display_data"
    }
   ],
   "source": [
    "run_model(GradientBoostingClassifier(n_estimators=500, max_depth=2, loss=\"deviance\"), X_train_up, y_train_up,\n",
    "          X_test, y_test, results, sample_method=\"up-sampled\")"
   ]
  },
  {
   "cell_type": "code",
   "execution_count": 56,
   "metadata": {},
   "outputs": [
    {
     "name": "stdout",
     "output_type": "stream",
     "text": [
      "###### Results ######\n",
      "Model: GradientBoostingClassifier\n",
      "Sampling: down-sampled\n",
      "Mean Training Accuracy: 0.671\n",
      "Std Training Accuracy: 0.010\n",
      "Test Accuracy: 0.566\n",
      "Recall: 0.855\n",
      "Precision: 0.299\n",
      "F1 Score: 0.443\n",
      "Runtime: 88.20113\n"
     ]
    },
    {
     "data": {
      "image/png": "[encoded data removed]",
      "text/plain": [
       "<Figure size 180x180 with 1 Axes>"
      ]
     },
     "metadata": {},
     "output_type": "display_data"
    }
   ],
   "source": [
    "run_model(GradientBoostingClassifier(n_estimators=500, max_depth=2, loss=\"deviance\"), X_train_down, y_train_down,\n",
    "          X_test, y_test, results, sample_method=\"down-sampled\")"
   ]
  },
  {
   "cell_type": "code",
   "execution_count": 57,
   "metadata": {},
   "outputs": [
    {
     "name": "stdout",
     "output_type": "stream",
     "text": [
      "###### Results ######\n",
      "Model: GradientBoostingClassifier\n",
      "Sampling: smote\n",
      "Mean Training Accuracy: 0.726\n",
      "Std Training Accuracy: 0.055\n",
      "Test Accuracy: 0.658\n",
      "Recall: 0.597\n",
      "Precision: 0.316\n",
      "F1 Score: 0.413\n",
      "Runtime: 499.54416\n"
     ]
    },
    {
     "data": {
      "image/png": "[encoded data removed]",
      "text/plain": [
       "<Figure size 180x180 with 1 Axes>"
      ]
     },
     "metadata": {},
     "output_type": "display_data"
    }
   ],
   "source": [
    "run_model(GradientBoostingClassifier(n_estimators=500, max_depth=2, loss=\"deviance\"), X_train_smote, y_train_smote,\n",
    "          X_test, y_test, results, sample_method=\"smote\")"
   ]
  },
  {
   "cell_type": "code",
   "execution_count": 58,
   "metadata": {
    "scrolled": false
   },
   "outputs": [
    {
     "data": {
      "text/html": [
       "<div>\n",
       "<style scoped>\n",
       "    .dataframe tbody tr th:only-of-type {\n",
       "        vertical-align: middle;\n",
       "    }\n",
       "\n",
       "    .dataframe tbody tr th {\n",
       "        vertical-align: top;\n",
       "    }\n",
       "\n",
       "    .dataframe thead th {\n",
       "        text-align: right;\n",
       "    }\n",
       "</style>\n",
       "<table border=\"1\" class=\"dataframe\">\n",
       "  <thead>\n",
       "    <tr style=\"text-align: right;\">\n",
       "      <th></th>\n",
       "      <th>model</th>\n",
       "      <th>sample_method</th>\n",
       "      <th>mean_train_acc</th>\n",
       "      <th>std_train_acc</th>\n",
       "      <th>test_acc</th>\n",
       "      <th>tp</th>\n",
       "      <th>tn</th>\n",
       "      <th>fp</th>\n",
       "      <th>fn</th>\n",
       "      <th>recall</th>\n",
       "      <th>precision</th>\n",
       "      <th>f1_score</th>\n",
       "      <th>runtime</th>\n",
       "    </tr>\n",
       "  </thead>\n",
       "  <tbody>\n",
       "    <tr>\n",
       "      <th>0</th>\n",
       "      <td>BernoulliNB</td>\n",
       "      <td>none</td>\n",
       "      <td>0.739255</td>\n",
       "      <td>0.008702</td>\n",
       "      <td>0.735478</td>\n",
       "      <td>1049</td>\n",
       "      <td>15208</td>\n",
       "      <td>2434</td>\n",
       "      <td>3413</td>\n",
       "      <td>0.235096</td>\n",
       "      <td>0.301177</td>\n",
       "      <td>0.264065</td>\n",
       "      <td>0.889265</td>\n",
       "    </tr>\n",
       "    <tr>\n",
       "      <th>1</th>\n",
       "      <td>BernoulliNB</td>\n",
       "      <td>up-sampled</td>\n",
       "      <td>0.666263</td>\n",
       "      <td>0.003540</td>\n",
       "      <td>0.525063</td>\n",
       "      <td>4082</td>\n",
       "      <td>7524</td>\n",
       "      <td>10118</td>\n",
       "      <td>380</td>\n",
       "      <td>0.914836</td>\n",
       "      <td>0.287465</td>\n",
       "      <td>0.437467</td>\n",
       "      <td>1.286285</td>\n",
       "    </tr>\n",
       "    <tr>\n",
       "      <th>2</th>\n",
       "      <td>BernoulliNB</td>\n",
       "      <td>down-sampled</td>\n",
       "      <td>0.666675</td>\n",
       "      <td>0.007866</td>\n",
       "      <td>0.524928</td>\n",
       "      <td>4082</td>\n",
       "      <td>7521</td>\n",
       "      <td>10121</td>\n",
       "      <td>380</td>\n",
       "      <td>0.914836</td>\n",
       "      <td>0.287404</td>\n",
       "      <td>0.437396</td>\n",
       "      <td>0.328120</td>\n",
       "    </tr>\n",
       "    <tr>\n",
       "      <th>3</th>\n",
       "      <td>BernoulliNB</td>\n",
       "      <td>smote</td>\n",
       "      <td>0.666653</td>\n",
       "      <td>0.003704</td>\n",
       "      <td>0.522801</td>\n",
       "      <td>4102</td>\n",
       "      <td>7454</td>\n",
       "      <td>10188</td>\n",
       "      <td>360</td>\n",
       "      <td>0.919319</td>\n",
       "      <td>0.287054</td>\n",
       "      <td>0.437500</td>\n",
       "      <td>1.262364</td>\n",
       "    </tr>\n",
       "    <tr>\n",
       "      <th>4</th>\n",
       "      <td>KNeighborsClassifier</td>\n",
       "      <td>none</td>\n",
       "      <td>0.764376</td>\n",
       "      <td>0.003544</td>\n",
       "      <td>0.771444</td>\n",
       "      <td>785</td>\n",
       "      <td>16267</td>\n",
       "      <td>1375</td>\n",
       "      <td>3677</td>\n",
       "      <td>0.175930</td>\n",
       "      <td>0.363426</td>\n",
       "      <td>0.237088</td>\n",
       "      <td>58.427181</td>\n",
       "    </tr>\n",
       "    <tr>\n",
       "      <th>5</th>\n",
       "      <td>KNeighborsClassifier</td>\n",
       "      <td>up-sampled</td>\n",
       "      <td>0.689795</td>\n",
       "      <td>0.005271</td>\n",
       "      <td>0.668205</td>\n",
       "      <td>2507</td>\n",
       "      <td>12263</td>\n",
       "      <td>5379</td>\n",
       "      <td>1955</td>\n",
       "      <td>0.561856</td>\n",
       "      <td>0.317905</td>\n",
       "      <td>0.406058</td>\n",
       "      <td>103.571180</td>\n",
       "    </tr>\n",
       "    <tr>\n",
       "      <th>6</th>\n",
       "      <td>KNeighborsClassifier</td>\n",
       "      <td>down-sampled</td>\n",
       "      <td>0.564933</td>\n",
       "      <td>0.011868</td>\n",
       "      <td>0.473444</td>\n",
       "      <td>3203</td>\n",
       "      <td>7262</td>\n",
       "      <td>10380</td>\n",
       "      <td>1259</td>\n",
       "      <td>0.717840</td>\n",
       "      <td>0.235809</td>\n",
       "      <td>0.355001</td>\n",
       "      <td>9.631387</td>\n",
       "    </tr>\n",
       "    <tr>\n",
       "      <th>7</th>\n",
       "      <td>KNeighborsClassifier</td>\n",
       "      <td>smote</td>\n",
       "      <td>0.697937</td>\n",
       "      <td>0.013978</td>\n",
       "      <td>0.699828</td>\n",
       "      <td>1967</td>\n",
       "      <td>13502</td>\n",
       "      <td>4140</td>\n",
       "      <td>2495</td>\n",
       "      <td>0.440834</td>\n",
       "      <td>0.322089</td>\n",
       "      <td>0.372221</td>\n",
       "      <td>99.974952</td>\n",
       "    </tr>\n",
       "    <tr>\n",
       "      <th>8</th>\n",
       "      <td>DecisionTreeClassifier</td>\n",
       "      <td>none</td>\n",
       "      <td>0.798184</td>\n",
       "      <td>0.000102</td>\n",
       "      <td>0.798227</td>\n",
       "      <td>3</td>\n",
       "      <td>17641</td>\n",
       "      <td>1</td>\n",
       "      <td>4459</td>\n",
       "      <td>0.000672</td>\n",
       "      <td>0.750000</td>\n",
       "      <td>0.001343</td>\n",
       "      <td>1.323452</td>\n",
       "    </tr>\n",
       "    <tr>\n",
       "      <th>9</th>\n",
       "      <td>DecisionTreeClassifier</td>\n",
       "      <td>up-sampled</td>\n",
       "      <td>0.671768</td>\n",
       "      <td>0.002637</td>\n",
       "      <td>0.557546</td>\n",
       "      <td>3869</td>\n",
       "      <td>8455</td>\n",
       "      <td>9187</td>\n",
       "      <td>593</td>\n",
       "      <td>0.867100</td>\n",
       "      <td>0.296339</td>\n",
       "      <td>0.441717</td>\n",
       "      <td>2.464386</td>\n",
       "    </tr>\n",
       "    <tr>\n",
       "      <th>10</th>\n",
       "      <td>DecisionTreeClassifier</td>\n",
       "      <td>down-sampled</td>\n",
       "      <td>0.671886</td>\n",
       "      <td>0.010154</td>\n",
       "      <td>0.567273</td>\n",
       "      <td>3818</td>\n",
       "      <td>8721</td>\n",
       "      <td>8921</td>\n",
       "      <td>644</td>\n",
       "      <td>0.855670</td>\n",
       "      <td>0.299710</td>\n",
       "      <td>0.443928</td>\n",
       "      <td>0.469338</td>\n",
       "    </tr>\n",
       "    <tr>\n",
       "      <th>11</th>\n",
       "      <td>DecisionTreeClassifier</td>\n",
       "      <td>smote</td>\n",
       "      <td>0.683418</td>\n",
       "      <td>0.014058</td>\n",
       "      <td>0.601384</td>\n",
       "      <td>3372</td>\n",
       "      <td>9921</td>\n",
       "      <td>7721</td>\n",
       "      <td>1090</td>\n",
       "      <td>0.755715</td>\n",
       "      <td>0.303975</td>\n",
       "      <td>0.433558</td>\n",
       "      <td>2.607001</td>\n",
       "    </tr>\n",
       "    <tr>\n",
       "      <th>12</th>\n",
       "      <td>RandomForestClassifier</td>\n",
       "      <td>none</td>\n",
       "      <td>0.798116</td>\n",
       "      <td>0.000027</td>\n",
       "      <td>0.798136</td>\n",
       "      <td>0</td>\n",
       "      <td>17642</td>\n",
       "      <td>0</td>\n",
       "      <td>4462</td>\n",
       "      <td>0.000000</td>\n",
       "      <td>0.000000</td>\n",
       "      <td>0.000000</td>\n",
       "      <td>13.950552</td>\n",
       "    </tr>\n",
       "    <tr>\n",
       "      <th>13</th>\n",
       "      <td>RandomForestClassifier</td>\n",
       "      <td>up-sampled</td>\n",
       "      <td>0.668743</td>\n",
       "      <td>0.003573</td>\n",
       "      <td>0.522258</td>\n",
       "      <td>4119</td>\n",
       "      <td>7425</td>\n",
       "      <td>10217</td>\n",
       "      <td>343</td>\n",
       "      <td>0.923129</td>\n",
       "      <td>0.287319</td>\n",
       "      <td>0.438238</td>\n",
       "      <td>23.831937</td>\n",
       "    </tr>\n",
       "    <tr>\n",
       "      <th>14</th>\n",
       "      <td>RandomForestClassifier</td>\n",
       "      <td>down-sampled</td>\n",
       "      <td>0.668860</td>\n",
       "      <td>0.008717</td>\n",
       "      <td>0.525244</td>\n",
       "      <td>4090</td>\n",
       "      <td>7520</td>\n",
       "      <td>10122</td>\n",
       "      <td>372</td>\n",
       "      <td>0.916629</td>\n",
       "      <td>0.287785</td>\n",
       "      <td>0.438042</td>\n",
       "      <td>4.690469</td>\n",
       "    </tr>\n",
       "    <tr>\n",
       "      <th>15</th>\n",
       "      <td>RandomForestClassifier</td>\n",
       "      <td>smote</td>\n",
       "      <td>0.689250</td>\n",
       "      <td>0.013523</td>\n",
       "      <td>0.579307</td>\n",
       "      <td>3642</td>\n",
       "      <td>9163</td>\n",
       "      <td>8479</td>\n",
       "      <td>820</td>\n",
       "      <td>0.816226</td>\n",
       "      <td>0.300470</td>\n",
       "      <td>0.439245</td>\n",
       "      <td>27.522998</td>\n",
       "    </tr>\n",
       "    <tr>\n",
       "      <th>16</th>\n",
       "      <td>LogisticRegression</td>\n",
       "      <td>none</td>\n",
       "      <td>0.797980</td>\n",
       "      <td>0.000235</td>\n",
       "      <td>0.797910</td>\n",
       "      <td>7</td>\n",
       "      <td>17630</td>\n",
       "      <td>12</td>\n",
       "      <td>4455</td>\n",
       "      <td>0.001569</td>\n",
       "      <td>0.368421</td>\n",
       "      <td>0.003124</td>\n",
       "      <td>2.923169</td>\n",
       "    </tr>\n",
       "    <tr>\n",
       "      <th>17</th>\n",
       "      <td>LogisticRegression</td>\n",
       "      <td>up-sampled</td>\n",
       "      <td>0.668686</td>\n",
       "      <td>0.002456</td>\n",
       "      <td>0.553882</td>\n",
       "      <td>3896</td>\n",
       "      <td>8347</td>\n",
       "      <td>9295</td>\n",
       "      <td>566</td>\n",
       "      <td>0.873151</td>\n",
       "      <td>0.295353</td>\n",
       "      <td>0.441398</td>\n",
       "      <td>4.392266</td>\n",
       "    </tr>\n",
       "    <tr>\n",
       "      <th>18</th>\n",
       "      <td>LogisticRegression</td>\n",
       "      <td>down-sampled</td>\n",
       "      <td>0.668216</td>\n",
       "      <td>0.008062</td>\n",
       "      <td>0.550715</td>\n",
       "      <td>3914</td>\n",
       "      <td>8259</td>\n",
       "      <td>9383</td>\n",
       "      <td>548</td>\n",
       "      <td>0.877185</td>\n",
       "      <td>0.294352</td>\n",
       "      <td>0.440791</td>\n",
       "      <td>1.083098</td>\n",
       "    </tr>\n",
       "    <tr>\n",
       "      <th>19</th>\n",
       "      <td>LogisticRegression</td>\n",
       "      <td>smote</td>\n",
       "      <td>0.671443</td>\n",
       "      <td>0.005184</td>\n",
       "      <td>0.562839</td>\n",
       "      <td>3794</td>\n",
       "      <td>8647</td>\n",
       "      <td>8995</td>\n",
       "      <td>668</td>\n",
       "      <td>0.850291</td>\n",
       "      <td>0.296661</td>\n",
       "      <td>0.439859</td>\n",
       "      <td>5.310775</td>\n",
       "    </tr>\n",
       "    <tr>\n",
       "      <th>20</th>\n",
       "      <td>RidgeClassifier</td>\n",
       "      <td>none</td>\n",
       "      <td>0.797935</td>\n",
       "      <td>0.000151</td>\n",
       "      <td>0.797865</td>\n",
       "      <td>3</td>\n",
       "      <td>17633</td>\n",
       "      <td>9</td>\n",
       "      <td>4459</td>\n",
       "      <td>0.000672</td>\n",
       "      <td>0.250000</td>\n",
       "      <td>0.001341</td>\n",
       "      <td>0.672198</td>\n",
       "    </tr>\n",
       "    <tr>\n",
       "      <th>21</th>\n",
       "      <td>RidgeClassifier</td>\n",
       "      <td>up-sampled</td>\n",
       "      <td>0.668672</td>\n",
       "      <td>0.002781</td>\n",
       "      <td>0.547729</td>\n",
       "      <td>3963</td>\n",
       "      <td>8144</td>\n",
       "      <td>9498</td>\n",
       "      <td>499</td>\n",
       "      <td>0.888167</td>\n",
       "      <td>0.294406</td>\n",
       "      <td>0.442225</td>\n",
       "      <td>0.989349</td>\n",
       "    </tr>\n",
       "    <tr>\n",
       "      <th>22</th>\n",
       "      <td>RidgeClassifier</td>\n",
       "      <td>down-sampled</td>\n",
       "      <td>0.669028</td>\n",
       "      <td>0.007687</td>\n",
       "      <td>0.544200</td>\n",
       "      <td>3987</td>\n",
       "      <td>8042</td>\n",
       "      <td>9600</td>\n",
       "      <td>475</td>\n",
       "      <td>0.893545</td>\n",
       "      <td>0.293442</td>\n",
       "      <td>0.441797</td>\n",
       "      <td>0.277258</td>\n",
       "    </tr>\n",
       "    <tr>\n",
       "      <th>23</th>\n",
       "      <td>RidgeClassifier</td>\n",
       "      <td>smote</td>\n",
       "      <td>0.670436</td>\n",
       "      <td>0.004966</td>\n",
       "      <td>0.556777</td>\n",
       "      <td>3853</td>\n",
       "      <td>8454</td>\n",
       "      <td>9188</td>\n",
       "      <td>609</td>\n",
       "      <td>0.863514</td>\n",
       "      <td>0.295453</td>\n",
       "      <td>0.440267</td>\n",
       "      <td>0.928512</td>\n",
       "    </tr>\n",
       "    <tr>\n",
       "      <th>24</th>\n",
       "      <td>LogisticRegression</td>\n",
       "      <td>none</td>\n",
       "      <td>0.797980</td>\n",
       "      <td>0.000235</td>\n",
       "      <td>0.797910</td>\n",
       "      <td>7</td>\n",
       "      <td>17630</td>\n",
       "      <td>12</td>\n",
       "      <td>4455</td>\n",
       "      <td>0.001569</td>\n",
       "      <td>0.368421</td>\n",
       "      <td>0.003124</td>\n",
       "      <td>2.709741</td>\n",
       "    </tr>\n",
       "    <tr>\n",
       "      <th>25</th>\n",
       "      <td>LogisticRegression</td>\n",
       "      <td>up-sampled</td>\n",
       "      <td>0.668707</td>\n",
       "      <td>0.002456</td>\n",
       "      <td>0.553882</td>\n",
       "      <td>3898</td>\n",
       "      <td>8345</td>\n",
       "      <td>9297</td>\n",
       "      <td>564</td>\n",
       "      <td>0.873599</td>\n",
       "      <td>0.295415</td>\n",
       "      <td>0.441525</td>\n",
       "      <td>4.045198</td>\n",
       "    </tr>\n",
       "    <tr>\n",
       "      <th>26</th>\n",
       "      <td>LogisticRegression</td>\n",
       "      <td>down-sampled</td>\n",
       "      <td>0.668300</td>\n",
       "      <td>0.007836</td>\n",
       "      <td>0.550670</td>\n",
       "      <td>3918</td>\n",
       "      <td>8254</td>\n",
       "      <td>9388</td>\n",
       "      <td>544</td>\n",
       "      <td>0.878082</td>\n",
       "      <td>0.294454</td>\n",
       "      <td>0.441018</td>\n",
       "      <td>0.941509</td>\n",
       "    </tr>\n",
       "    <tr>\n",
       "      <th>27</th>\n",
       "      <td>LogisticRegression</td>\n",
       "      <td>smote</td>\n",
       "      <td>0.671436</td>\n",
       "      <td>0.005075</td>\n",
       "      <td>0.562885</td>\n",
       "      <td>3794</td>\n",
       "      <td>8648</td>\n",
       "      <td>8994</td>\n",
       "      <td>668</td>\n",
       "      <td>0.850291</td>\n",
       "      <td>0.296684</td>\n",
       "      <td>0.439884</td>\n",
       "      <td>4.201777</td>\n",
       "    </tr>\n",
       "    <tr>\n",
       "      <th>28</th>\n",
       "      <td>SVC</td>\n",
       "      <td>none</td>\n",
       "      <td>0.777914</td>\n",
       "      <td>0.017147</td>\n",
       "      <td>0.791486</td>\n",
       "      <td>143</td>\n",
       "      <td>17352</td>\n",
       "      <td>290</td>\n",
       "      <td>4319</td>\n",
       "      <td>0.032048</td>\n",
       "      <td>0.330254</td>\n",
       "      <td>0.058427</td>\n",
       "      <td>5.508273</td>\n",
       "    </tr>\n",
       "    <tr>\n",
       "      <th>29</th>\n",
       "      <td>SVC</td>\n",
       "      <td>up-sampled</td>\n",
       "      <td>0.528457</td>\n",
       "      <td>0.002404</td>\n",
       "      <td>0.771896</td>\n",
       "      <td>570</td>\n",
       "      <td>16492</td>\n",
       "      <td>1150</td>\n",
       "      <td>3892</td>\n",
       "      <td>0.127745</td>\n",
       "      <td>0.331395</td>\n",
       "      <td>0.184406</td>\n",
       "      <td>7.773180</td>\n",
       "    </tr>\n",
       "    <tr>\n",
       "      <th>30</th>\n",
       "      <td>SVC</td>\n",
       "      <td>down-sampled</td>\n",
       "      <td>0.378032</td>\n",
       "      <td>0.006488</td>\n",
       "      <td>0.476475</td>\n",
       "      <td>1357</td>\n",
       "      <td>9175</td>\n",
       "      <td>8467</td>\n",
       "      <td>3105</td>\n",
       "      <td>0.304124</td>\n",
       "      <td>0.138131</td>\n",
       "      <td>0.189976</td>\n",
       "      <td>2.044547</td>\n",
       "    </tr>\n",
       "    <tr>\n",
       "      <th>31</th>\n",
       "      <td>SVC</td>\n",
       "      <td>smote</td>\n",
       "      <td>0.520826</td>\n",
       "      <td>0.006350</td>\n",
       "      <td>0.775832</td>\n",
       "      <td>489</td>\n",
       "      <td>16660</td>\n",
       "      <td>982</td>\n",
       "      <td>3973</td>\n",
       "      <td>0.109592</td>\n",
       "      <td>0.332427</td>\n",
       "      <td>0.164841</td>\n",
       "      <td>8.437400</td>\n",
       "    </tr>\n",
       "    <tr>\n",
       "      <th>32</th>\n",
       "      <td>GradientBoostingClassifier</td>\n",
       "      <td>none</td>\n",
       "      <td>0.798150</td>\n",
       "      <td>0.000284</td>\n",
       "      <td>0.798362</td>\n",
       "      <td>32</td>\n",
       "      <td>17615</td>\n",
       "      <td>27</td>\n",
       "      <td>4430</td>\n",
       "      <td>0.007172</td>\n",
       "      <td>0.542373</td>\n",
       "      <td>0.014156</td>\n",
       "      <td>262.854802</td>\n",
       "    </tr>\n",
       "    <tr>\n",
       "      <th>33</th>\n",
       "      <td>GradientBoostingClassifier</td>\n",
       "      <td>up-sampled</td>\n",
       "      <td>0.672130</td>\n",
       "      <td>0.003301</td>\n",
       "      <td>0.564151</td>\n",
       "      <td>3849</td>\n",
       "      <td>8621</td>\n",
       "      <td>9021</td>\n",
       "      <td>613</td>\n",
       "      <td>0.862618</td>\n",
       "      <td>0.299068</td>\n",
       "      <td>0.444150</td>\n",
       "      <td>458.814276</td>\n",
       "    </tr>\n",
       "    <tr>\n",
       "      <th>34</th>\n",
       "      <td>GradientBoostingClassifier</td>\n",
       "      <td>down-sampled</td>\n",
       "      <td>0.670877</td>\n",
       "      <td>0.010199</td>\n",
       "      <td>0.566278</td>\n",
       "      <td>3814</td>\n",
       "      <td>8703</td>\n",
       "      <td>8939</td>\n",
       "      <td>648</td>\n",
       "      <td>0.854774</td>\n",
       "      <td>0.299067</td>\n",
       "      <td>0.443102</td>\n",
       "      <td>88.201129</td>\n",
       "    </tr>\n",
       "    <tr>\n",
       "      <th>35</th>\n",
       "      <td>GradientBoostingClassifier</td>\n",
       "      <td>smote</td>\n",
       "      <td>0.725936</td>\n",
       "      <td>0.055085</td>\n",
       "      <td>0.657935</td>\n",
       "      <td>2665</td>\n",
       "      <td>11878</td>\n",
       "      <td>5764</td>\n",
       "      <td>1797</td>\n",
       "      <td>0.597266</td>\n",
       "      <td>0.316170</td>\n",
       "      <td>0.413467</td>\n",
       "      <td>499.544160</td>\n",
       "    </tr>\n",
       "  </tbody>\n",
       "</table>\n",
       "</div>"
      ],
      "text/plain": [
       "                         model sample_method  mean_train_acc  std_train_acc  \\\n",
       "0                  BernoulliNB          none        0.739255       0.008702   \n",
       "1                  BernoulliNB    up-sampled        0.666263       0.003540   \n",
       "2                  BernoulliNB  down-sampled        0.666675       0.007866   \n",
       "3                  BernoulliNB         smote        0.666653       0.003704   \n",
       "4         KNeighborsClassifier          none        0.764376       0.003544   \n",
       "5         KNeighborsClassifier    up-sampled        0.689795       0.005271   \n",
       "6         KNeighborsClassifier  down-sampled        0.564933       0.011868   \n",
       "7         KNeighborsClassifier         smote        0.697937       0.013978   \n",
       "8       DecisionTreeClassifier          none        0.798184       0.000102   \n",
       "9       DecisionTreeClassifier    up-sampled        0.671768       0.002637   \n",
       "10      DecisionTreeClassifier  down-sampled        0.671886       0.010154   \n",
       "11      DecisionTreeClassifier         smote        0.683418       0.014058   \n",
       "12      RandomForestClassifier          none        0.798116       0.000027   \n",
       "13      RandomForestClassifier    up-sampled        0.668743       0.003573   \n",
       "14      RandomForestClassifier  down-sampled        0.668860       0.008717   \n",
       "15      RandomForestClassifier         smote        0.689250       0.013523   \n",
       "16          LogisticRegression          none        0.797980       0.000235   \n",
       "17          LogisticRegression    up-sampled        0.668686       0.002456   \n",
       "18          LogisticRegression  down-sampled        0.668216       0.008062   \n",
       "19          LogisticRegression         smote        0.671443       0.005184   \n",
       "20             RidgeClassifier          none        0.797935       0.000151   \n",
       "21             RidgeClassifier    up-sampled        0.668672       0.002781   \n",
       "22             RidgeClassifier  down-sampled        0.669028       0.007687   \n",
       "23             RidgeClassifier         smote        0.670436       0.004966   \n",
       "24          LogisticRegression          none        0.797980       0.000235   \n",
       "25          LogisticRegression    up-sampled        0.668707       0.002456   \n",
       "26          LogisticRegression  down-sampled        0.668300       0.007836   \n",
       "27          LogisticRegression         smote        0.671436       0.005075   \n",
       "28                         SVC          none        0.777914       0.017147   \n",
       "29                         SVC    up-sampled        0.528457       0.002404   \n",
       "30                         SVC  down-sampled        0.378032       0.006488   \n",
       "31                         SVC         smote        0.520826       0.006350   \n",
       "32  GradientBoostingClassifier          none        0.798150       0.000284   \n",
       "33  GradientBoostingClassifier    up-sampled        0.672130       0.003301   \n",
       "34  GradientBoostingClassifier  down-sampled        0.670877       0.010199   \n",
       "35  GradientBoostingClassifier         smote        0.725936       0.055085   \n",
       "\n",
       "    test_acc    tp     tn     fp    fn    recall  precision  f1_score  \\\n",
       "0   0.735478  1049  15208   2434  3413  0.235096   0.301177  0.264065   \n",
       "1   0.525063  4082   7524  10118   380  0.914836   0.287465  0.437467   \n",
       "2   0.524928  4082   7521  10121   380  0.914836   0.287404  0.437396   \n",
       "3   0.522801  4102   7454  10188   360  0.919319   0.287054  0.437500   \n",
       "4   0.771444   785  16267   1375  3677  0.175930   0.363426  0.237088   \n",
       "5   0.668205  2507  12263   5379  1955  0.561856   0.317905  0.406058   \n",
       "6   0.473444  3203   7262  10380  1259  0.717840   0.235809  0.355001   \n",
       "7   0.699828  1967  13502   4140  2495  0.440834   0.322089  0.372221   \n",
       "8   0.798227     3  17641      1  4459  0.000672   0.750000  0.001343   \n",
       "9   0.557546  3869   8455   9187   593  0.867100   0.296339  0.441717   \n",
       "10  0.567273  3818   8721   8921   644  0.855670   0.299710  0.443928   \n",
       "11  0.601384  3372   9921   7721  1090  0.755715   0.303975  0.433558   \n",
       "12  0.798136     0  17642      0  4462  0.000000   0.000000  0.000000   \n",
       "13  0.522258  4119   7425  10217   343  0.923129   0.287319  0.438238   \n",
       "14  0.525244  4090   7520  10122   372  0.916629   0.287785  0.438042   \n",
       "15  0.579307  3642   9163   8479   820  0.816226   0.300470  0.439245   \n",
       "16  0.797910     7  17630     12  4455  0.001569   0.368421  0.003124   \n",
       "17  0.553882  3896   8347   9295   566  0.873151   0.295353  0.441398   \n",
       "18  0.550715  3914   8259   9383   548  0.877185   0.294352  0.440791   \n",
       "19  0.562839  3794   8647   8995   668  0.850291   0.296661  0.439859   \n",
       "20  0.797865     3  17633      9  4459  0.000672   0.250000  0.001341   \n",
       "21  0.547729  3963   8144   9498   499  0.888167   0.294406  0.442225   \n",
       "22  0.544200  3987   8042   9600   475  0.893545   0.293442  0.441797   \n",
       "23  0.556777  3853   8454   9188   609  0.863514   0.295453  0.440267   \n",
       "24  0.797910     7  17630     12  4455  0.001569   0.368421  0.003124   \n",
       "25  0.553882  3898   8345   9297   564  0.873599   0.295415  0.441525   \n",
       "26  0.550670  3918   8254   9388   544  0.878082   0.294454  0.441018   \n",
       "27  0.562885  3794   8648   8994   668  0.850291   0.296684  0.439884   \n",
       "28  0.791486   143  17352    290  4319  0.032048   0.330254  0.058427   \n",
       "29  0.771896   570  16492   1150  3892  0.127745   0.331395  0.184406   \n",
       "30  0.476475  1357   9175   8467  3105  0.304124   0.138131  0.189976   \n",
       "31  0.775832   489  16660    982  3973  0.109592   0.332427  0.164841   \n",
       "32  0.798362    32  17615     27  4430  0.007172   0.542373  0.014156   \n",
       "33  0.564151  3849   8621   9021   613  0.862618   0.299068  0.444150   \n",
       "34  0.566278  3814   8703   8939   648  0.854774   0.299067  0.443102   \n",
       "35  0.657935  2665  11878   5764  1797  0.597266   0.316170  0.413467   \n",
       "\n",
       "       runtime  \n",
       "0     0.889265  \n",
       "1     1.286285  \n",
       "2     0.328120  \n",
       "3     1.262364  \n",
       "4    58.427181  \n",
       "5   103.571180  \n",
       "6     9.631387  \n",
       "7    99.974952  \n",
       "8     1.323452  \n",
       "9     2.464386  \n",
       "10    0.469338  \n",
       "11    2.607001  \n",
       "12   13.950552  \n",
       "13   23.831937  \n",
       "14    4.690469  \n",
       "15   27.522998  \n",
       "16    2.923169  \n",
       "17    4.392266  \n",
       "18    1.083098  \n",
       "19    5.310775  \n",
       "20    0.672198  \n",
       "21    0.989349  \n",
       "22    0.277258  \n",
       "23    0.928512  \n",
       "24    2.709741  \n",
       "25    4.045198  \n",
       "26    0.941509  \n",
       "27    4.201777  \n",
       "28    5.508273  \n",
       "29    7.773180  \n",
       "30    2.044547  \n",
       "31    8.437400  \n",
       "32  262.854802  \n",
       "33  458.814276  \n",
       "34   88.201129  \n",
       "35  499.544160  "
      ]
     },
     "execution_count": 58,
     "metadata": {},
     "output_type": "execute_result"
    }
   ],
   "source": [
    "results_df = pd.DataFrame(results)\n",
    "results_df"
   ]
  },
  {
   "cell_type": "code",
   "execution_count": 59,
   "metadata": {},
   "outputs": [
    {
     "data": {
      "text/html": [
       "<div>\n",
       "<style scoped>\n",
       "    .dataframe tbody tr th:only-of-type {\n",
       "        vertical-align: middle;\n",
       "    }\n",
       "\n",
       "    .dataframe tbody tr th {\n",
       "        vertical-align: top;\n",
       "    }\n",
       "\n",
       "    .dataframe thead th {\n",
       "        text-align: right;\n",
       "    }\n",
       "</style>\n",
       "<table border=\"1\" class=\"dataframe\">\n",
       "  <thead>\n",
       "    <tr style=\"text-align: right;\">\n",
       "      <th></th>\n",
       "      <th>model</th>\n",
       "      <th>sample_method</th>\n",
       "      <th>mean_train_acc</th>\n",
       "      <th>std_train_acc</th>\n",
       "      <th>test_acc</th>\n",
       "      <th>tp</th>\n",
       "      <th>tn</th>\n",
       "      <th>fp</th>\n",
       "      <th>fn</th>\n",
       "      <th>recall</th>\n",
       "      <th>precision</th>\n",
       "      <th>f1_score</th>\n",
       "      <th>runtime</th>\n",
       "    </tr>\n",
       "  </thead>\n",
       "  <tbody>\n",
       "    <tr>\n",
       "      <th>31</th>\n",
       "      <td>SVC</td>\n",
       "      <td>smote</td>\n",
       "      <td>0.520826</td>\n",
       "      <td>0.006350</td>\n",
       "      <td>0.775832</td>\n",
       "      <td>489</td>\n",
       "      <td>16660</td>\n",
       "      <td>982</td>\n",
       "      <td>3973</td>\n",
       "      <td>0.109592</td>\n",
       "      <td>0.332427</td>\n",
       "      <td>0.164841</td>\n",
       "      <td>8.437400</td>\n",
       "    </tr>\n",
       "    <tr>\n",
       "      <th>29</th>\n",
       "      <td>SVC</td>\n",
       "      <td>up-sampled</td>\n",
       "      <td>0.528457</td>\n",
       "      <td>0.002404</td>\n",
       "      <td>0.771896</td>\n",
       "      <td>570</td>\n",
       "      <td>16492</td>\n",
       "      <td>1150</td>\n",
       "      <td>3892</td>\n",
       "      <td>0.127745</td>\n",
       "      <td>0.331395</td>\n",
       "      <td>0.184406</td>\n",
       "      <td>7.773180</td>\n",
       "    </tr>\n",
       "    <tr>\n",
       "      <th>7</th>\n",
       "      <td>KNeighborsClassifier</td>\n",
       "      <td>smote</td>\n",
       "      <td>0.697937</td>\n",
       "      <td>0.013978</td>\n",
       "      <td>0.699828</td>\n",
       "      <td>1967</td>\n",
       "      <td>13502</td>\n",
       "      <td>4140</td>\n",
       "      <td>2495</td>\n",
       "      <td>0.440834</td>\n",
       "      <td>0.322089</td>\n",
       "      <td>0.372221</td>\n",
       "      <td>99.974952</td>\n",
       "    </tr>\n",
       "    <tr>\n",
       "      <th>5</th>\n",
       "      <td>KNeighborsClassifier</td>\n",
       "      <td>up-sampled</td>\n",
       "      <td>0.689795</td>\n",
       "      <td>0.005271</td>\n",
       "      <td>0.668205</td>\n",
       "      <td>2507</td>\n",
       "      <td>12263</td>\n",
       "      <td>5379</td>\n",
       "      <td>1955</td>\n",
       "      <td>0.561856</td>\n",
       "      <td>0.317905</td>\n",
       "      <td>0.406058</td>\n",
       "      <td>103.571180</td>\n",
       "    </tr>\n",
       "    <tr>\n",
       "      <th>35</th>\n",
       "      <td>GradientBoostingClassifier</td>\n",
       "      <td>smote</td>\n",
       "      <td>0.725936</td>\n",
       "      <td>0.055085</td>\n",
       "      <td>0.657935</td>\n",
       "      <td>2665</td>\n",
       "      <td>11878</td>\n",
       "      <td>5764</td>\n",
       "      <td>1797</td>\n",
       "      <td>0.597266</td>\n",
       "      <td>0.316170</td>\n",
       "      <td>0.413467</td>\n",
       "      <td>499.544160</td>\n",
       "    </tr>\n",
       "    <tr>\n",
       "      <th>11</th>\n",
       "      <td>DecisionTreeClassifier</td>\n",
       "      <td>smote</td>\n",
       "      <td>0.683418</td>\n",
       "      <td>0.014058</td>\n",
       "      <td>0.601384</td>\n",
       "      <td>3372</td>\n",
       "      <td>9921</td>\n",
       "      <td>7721</td>\n",
       "      <td>1090</td>\n",
       "      <td>0.755715</td>\n",
       "      <td>0.303975</td>\n",
       "      <td>0.433558</td>\n",
       "      <td>2.607001</td>\n",
       "    </tr>\n",
       "    <tr>\n",
       "      <th>15</th>\n",
       "      <td>RandomForestClassifier</td>\n",
       "      <td>smote</td>\n",
       "      <td>0.689250</td>\n",
       "      <td>0.013523</td>\n",
       "      <td>0.579307</td>\n",
       "      <td>3642</td>\n",
       "      <td>9163</td>\n",
       "      <td>8479</td>\n",
       "      <td>820</td>\n",
       "      <td>0.816226</td>\n",
       "      <td>0.300470</td>\n",
       "      <td>0.439245</td>\n",
       "      <td>27.522998</td>\n",
       "    </tr>\n",
       "    <tr>\n",
       "      <th>10</th>\n",
       "      <td>DecisionTreeClassifier</td>\n",
       "      <td>down-sampled</td>\n",
       "      <td>0.671886</td>\n",
       "      <td>0.010154</td>\n",
       "      <td>0.567273</td>\n",
       "      <td>3818</td>\n",
       "      <td>8721</td>\n",
       "      <td>8921</td>\n",
       "      <td>644</td>\n",
       "      <td>0.855670</td>\n",
       "      <td>0.299710</td>\n",
       "      <td>0.443928</td>\n",
       "      <td>0.469338</td>\n",
       "    </tr>\n",
       "    <tr>\n",
       "      <th>33</th>\n",
       "      <td>GradientBoostingClassifier</td>\n",
       "      <td>up-sampled</td>\n",
       "      <td>0.672130</td>\n",
       "      <td>0.003301</td>\n",
       "      <td>0.564151</td>\n",
       "      <td>3849</td>\n",
       "      <td>8621</td>\n",
       "      <td>9021</td>\n",
       "      <td>613</td>\n",
       "      <td>0.862618</td>\n",
       "      <td>0.299068</td>\n",
       "      <td>0.444150</td>\n",
       "      <td>458.814276</td>\n",
       "    </tr>\n",
       "    <tr>\n",
       "      <th>34</th>\n",
       "      <td>GradientBoostingClassifier</td>\n",
       "      <td>down-sampled</td>\n",
       "      <td>0.670877</td>\n",
       "      <td>0.010199</td>\n",
       "      <td>0.566278</td>\n",
       "      <td>3814</td>\n",
       "      <td>8703</td>\n",
       "      <td>8939</td>\n",
       "      <td>648</td>\n",
       "      <td>0.854774</td>\n",
       "      <td>0.299067</td>\n",
       "      <td>0.443102</td>\n",
       "      <td>88.201129</td>\n",
       "    </tr>\n",
       "    <tr>\n",
       "      <th>27</th>\n",
       "      <td>LogisticRegression</td>\n",
       "      <td>smote</td>\n",
       "      <td>0.671436</td>\n",
       "      <td>0.005075</td>\n",
       "      <td>0.562885</td>\n",
       "      <td>3794</td>\n",
       "      <td>8648</td>\n",
       "      <td>8994</td>\n",
       "      <td>668</td>\n",
       "      <td>0.850291</td>\n",
       "      <td>0.296684</td>\n",
       "      <td>0.439884</td>\n",
       "      <td>4.201777</td>\n",
       "    </tr>\n",
       "    <tr>\n",
       "      <th>19</th>\n",
       "      <td>LogisticRegression</td>\n",
       "      <td>smote</td>\n",
       "      <td>0.671443</td>\n",
       "      <td>0.005184</td>\n",
       "      <td>0.562839</td>\n",
       "      <td>3794</td>\n",
       "      <td>8647</td>\n",
       "      <td>8995</td>\n",
       "      <td>668</td>\n",
       "      <td>0.850291</td>\n",
       "      <td>0.296661</td>\n",
       "      <td>0.439859</td>\n",
       "      <td>5.310775</td>\n",
       "    </tr>\n",
       "    <tr>\n",
       "      <th>9</th>\n",
       "      <td>DecisionTreeClassifier</td>\n",
       "      <td>up-sampled</td>\n",
       "      <td>0.671768</td>\n",
       "      <td>0.002637</td>\n",
       "      <td>0.557546</td>\n",
       "      <td>3869</td>\n",
       "      <td>8455</td>\n",
       "      <td>9187</td>\n",
       "      <td>593</td>\n",
       "      <td>0.867100</td>\n",
       "      <td>0.296339</td>\n",
       "      <td>0.441717</td>\n",
       "      <td>2.464386</td>\n",
       "    </tr>\n",
       "    <tr>\n",
       "      <th>23</th>\n",
       "      <td>RidgeClassifier</td>\n",
       "      <td>smote</td>\n",
       "      <td>0.670436</td>\n",
       "      <td>0.004966</td>\n",
       "      <td>0.556777</td>\n",
       "      <td>3853</td>\n",
       "      <td>8454</td>\n",
       "      <td>9188</td>\n",
       "      <td>609</td>\n",
       "      <td>0.863514</td>\n",
       "      <td>0.295453</td>\n",
       "      <td>0.440267</td>\n",
       "      <td>0.928512</td>\n",
       "    </tr>\n",
       "    <tr>\n",
       "      <th>25</th>\n",
       "      <td>LogisticRegression</td>\n",
       "      <td>up-sampled</td>\n",
       "      <td>0.668707</td>\n",
       "      <td>0.002456</td>\n",
       "      <td>0.553882</td>\n",
       "      <td>3898</td>\n",
       "      <td>8345</td>\n",
       "      <td>9297</td>\n",
       "      <td>564</td>\n",
       "      <td>0.873599</td>\n",
       "      <td>0.295415</td>\n",
       "      <td>0.441525</td>\n",
       "      <td>4.045198</td>\n",
       "    </tr>\n",
       "    <tr>\n",
       "      <th>17</th>\n",
       "      <td>LogisticRegression</td>\n",
       "      <td>up-sampled</td>\n",
       "      <td>0.668686</td>\n",
       "      <td>0.002456</td>\n",
       "      <td>0.553882</td>\n",
       "      <td>3896</td>\n",
       "      <td>8347</td>\n",
       "      <td>9295</td>\n",
       "      <td>566</td>\n",
       "      <td>0.873151</td>\n",
       "      <td>0.295353</td>\n",
       "      <td>0.441398</td>\n",
       "      <td>4.392266</td>\n",
       "    </tr>\n",
       "    <tr>\n",
       "      <th>26</th>\n",
       "      <td>LogisticRegression</td>\n",
       "      <td>down-sampled</td>\n",
       "      <td>0.668300</td>\n",
       "      <td>0.007836</td>\n",
       "      <td>0.550670</td>\n",
       "      <td>3918</td>\n",
       "      <td>8254</td>\n",
       "      <td>9388</td>\n",
       "      <td>544</td>\n",
       "      <td>0.878082</td>\n",
       "      <td>0.294454</td>\n",
       "      <td>0.441018</td>\n",
       "      <td>0.941509</td>\n",
       "    </tr>\n",
       "    <tr>\n",
       "      <th>21</th>\n",
       "      <td>RidgeClassifier</td>\n",
       "      <td>up-sampled</td>\n",
       "      <td>0.668672</td>\n",
       "      <td>0.002781</td>\n",
       "      <td>0.547729</td>\n",
       "      <td>3963</td>\n",
       "      <td>8144</td>\n",
       "      <td>9498</td>\n",
       "      <td>499</td>\n",
       "      <td>0.888167</td>\n",
       "      <td>0.294406</td>\n",
       "      <td>0.442225</td>\n",
       "      <td>0.989349</td>\n",
       "    </tr>\n",
       "    <tr>\n",
       "      <th>18</th>\n",
       "      <td>LogisticRegression</td>\n",
       "      <td>down-sampled</td>\n",
       "      <td>0.668216</td>\n",
       "      <td>0.008062</td>\n",
       "      <td>0.550715</td>\n",
       "      <td>3914</td>\n",
       "      <td>8259</td>\n",
       "      <td>9383</td>\n",
       "      <td>548</td>\n",
       "      <td>0.877185</td>\n",
       "      <td>0.294352</td>\n",
       "      <td>0.440791</td>\n",
       "      <td>1.083098</td>\n",
       "    </tr>\n",
       "    <tr>\n",
       "      <th>22</th>\n",
       "      <td>RidgeClassifier</td>\n",
       "      <td>down-sampled</td>\n",
       "      <td>0.669028</td>\n",
       "      <td>0.007687</td>\n",
       "      <td>0.544200</td>\n",
       "      <td>3987</td>\n",
       "      <td>8042</td>\n",
       "      <td>9600</td>\n",
       "      <td>475</td>\n",
       "      <td>0.893545</td>\n",
       "      <td>0.293442</td>\n",
       "      <td>0.441797</td>\n",
       "      <td>0.277258</td>\n",
       "    </tr>\n",
       "    <tr>\n",
       "      <th>14</th>\n",
       "      <td>RandomForestClassifier</td>\n",
       "      <td>down-sampled</td>\n",
       "      <td>0.668860</td>\n",
       "      <td>0.008717</td>\n",
       "      <td>0.525244</td>\n",
       "      <td>4090</td>\n",
       "      <td>7520</td>\n",
       "      <td>10122</td>\n",
       "      <td>372</td>\n",
       "      <td>0.916629</td>\n",
       "      <td>0.287785</td>\n",
       "      <td>0.438042</td>\n",
       "      <td>4.690469</td>\n",
       "    </tr>\n",
       "    <tr>\n",
       "      <th>1</th>\n",
       "      <td>BernoulliNB</td>\n",
       "      <td>up-sampled</td>\n",
       "      <td>0.666263</td>\n",
       "      <td>0.003540</td>\n",
       "      <td>0.525063</td>\n",
       "      <td>4082</td>\n",
       "      <td>7524</td>\n",
       "      <td>10118</td>\n",
       "      <td>380</td>\n",
       "      <td>0.914836</td>\n",
       "      <td>0.287465</td>\n",
       "      <td>0.437467</td>\n",
       "      <td>1.286285</td>\n",
       "    </tr>\n",
       "    <tr>\n",
       "      <th>2</th>\n",
       "      <td>BernoulliNB</td>\n",
       "      <td>down-sampled</td>\n",
       "      <td>0.666675</td>\n",
       "      <td>0.007866</td>\n",
       "      <td>0.524928</td>\n",
       "      <td>4082</td>\n",
       "      <td>7521</td>\n",
       "      <td>10121</td>\n",
       "      <td>380</td>\n",
       "      <td>0.914836</td>\n",
       "      <td>0.287404</td>\n",
       "      <td>0.437396</td>\n",
       "      <td>0.328120</td>\n",
       "    </tr>\n",
       "    <tr>\n",
       "      <th>13</th>\n",
       "      <td>RandomForestClassifier</td>\n",
       "      <td>up-sampled</td>\n",
       "      <td>0.668743</td>\n",
       "      <td>0.003573</td>\n",
       "      <td>0.522258</td>\n",
       "      <td>4119</td>\n",
       "      <td>7425</td>\n",
       "      <td>10217</td>\n",
       "      <td>343</td>\n",
       "      <td>0.923129</td>\n",
       "      <td>0.287319</td>\n",
       "      <td>0.438238</td>\n",
       "      <td>23.831937</td>\n",
       "    </tr>\n",
       "    <tr>\n",
       "      <th>3</th>\n",
       "      <td>BernoulliNB</td>\n",
       "      <td>smote</td>\n",
       "      <td>0.666653</td>\n",
       "      <td>0.003704</td>\n",
       "      <td>0.522801</td>\n",
       "      <td>4102</td>\n",
       "      <td>7454</td>\n",
       "      <td>10188</td>\n",
       "      <td>360</td>\n",
       "      <td>0.919319</td>\n",
       "      <td>0.287054</td>\n",
       "      <td>0.437500</td>\n",
       "      <td>1.262364</td>\n",
       "    </tr>\n",
       "    <tr>\n",
       "      <th>6</th>\n",
       "      <td>KNeighborsClassifier</td>\n",
       "      <td>down-sampled</td>\n",
       "      <td>0.564933</td>\n",
       "      <td>0.011868</td>\n",
       "      <td>0.473444</td>\n",
       "      <td>3203</td>\n",
       "      <td>7262</td>\n",
       "      <td>10380</td>\n",
       "      <td>1259</td>\n",
       "      <td>0.717840</td>\n",
       "      <td>0.235809</td>\n",
       "      <td>0.355001</td>\n",
       "      <td>9.631387</td>\n",
       "    </tr>\n",
       "    <tr>\n",
       "      <th>30</th>\n",
       "      <td>SVC</td>\n",
       "      <td>down-sampled</td>\n",
       "      <td>0.378032</td>\n",
       "      <td>0.006488</td>\n",
       "      <td>0.476475</td>\n",
       "      <td>1357</td>\n",
       "      <td>9175</td>\n",
       "      <td>8467</td>\n",
       "      <td>3105</td>\n",
       "      <td>0.304124</td>\n",
       "      <td>0.138131</td>\n",
       "      <td>0.189976</td>\n",
       "      <td>2.044547</td>\n",
       "    </tr>\n",
       "  </tbody>\n",
       "</table>\n",
       "</div>"
      ],
      "text/plain": [
       "                         model sample_method  mean_train_acc  std_train_acc  \\\n",
       "31                         SVC         smote        0.520826       0.006350   \n",
       "29                         SVC    up-sampled        0.528457       0.002404   \n",
       "7         KNeighborsClassifier         smote        0.697937       0.013978   \n",
       "5         KNeighborsClassifier    up-sampled        0.689795       0.005271   \n",
       "35  GradientBoostingClassifier         smote        0.725936       0.055085   \n",
       "11      DecisionTreeClassifier         smote        0.683418       0.014058   \n",
       "15      RandomForestClassifier         smote        0.689250       0.013523   \n",
       "10      DecisionTreeClassifier  down-sampled        0.671886       0.010154   \n",
       "33  GradientBoostingClassifier    up-sampled        0.672130       0.003301   \n",
       "34  GradientBoostingClassifier  down-sampled        0.670877       0.010199   \n",
       "27          LogisticRegression         smote        0.671436       0.005075   \n",
       "19          LogisticRegression         smote        0.671443       0.005184   \n",
       "9       DecisionTreeClassifier    up-sampled        0.671768       0.002637   \n",
       "23             RidgeClassifier         smote        0.670436       0.004966   \n",
       "25          LogisticRegression    up-sampled        0.668707       0.002456   \n",
       "17          LogisticRegression    up-sampled        0.668686       0.002456   \n",
       "26          LogisticRegression  down-sampled        0.668300       0.007836   \n",
       "21             RidgeClassifier    up-sampled        0.668672       0.002781   \n",
       "18          LogisticRegression  down-sampled        0.668216       0.008062   \n",
       "22             RidgeClassifier  down-sampled        0.669028       0.007687   \n",
       "14      RandomForestClassifier  down-sampled        0.668860       0.008717   \n",
       "1                  BernoulliNB    up-sampled        0.666263       0.003540   \n",
       "2                  BernoulliNB  down-sampled        0.666675       0.007866   \n",
       "13      RandomForestClassifier    up-sampled        0.668743       0.003573   \n",
       "3                  BernoulliNB         smote        0.666653       0.003704   \n",
       "6         KNeighborsClassifier  down-sampled        0.564933       0.011868   \n",
       "30                         SVC  down-sampled        0.378032       0.006488   \n",
       "\n",
       "    test_acc    tp     tn     fp    fn    recall  precision  f1_score  \\\n",
       "31  0.775832   489  16660    982  3973  0.109592   0.332427  0.164841   \n",
       "29  0.771896   570  16492   1150  3892  0.127745   0.331395  0.184406   \n",
       "7   0.699828  1967  13502   4140  2495  0.440834   0.322089  0.372221   \n",
       "5   0.668205  2507  12263   5379  1955  0.561856   0.317905  0.406058   \n",
       "35  0.657935  2665  11878   5764  1797  0.597266   0.316170  0.413467   \n",
       "11  0.601384  3372   9921   7721  1090  0.755715   0.303975  0.433558   \n",
       "15  0.579307  3642   9163   8479   820  0.816226   0.300470  0.439245   \n",
       "10  0.567273  3818   8721   8921   644  0.855670   0.299710  0.443928   \n",
       "33  0.564151  3849   8621   9021   613  0.862618   0.299068  0.444150   \n",
       "34  0.566278  3814   8703   8939   648  0.854774   0.299067  0.443102   \n",
       "27  0.562885  3794   8648   8994   668  0.850291   0.296684  0.439884   \n",
       "19  0.562839  3794   8647   8995   668  0.850291   0.296661  0.439859   \n",
       "9   0.557546  3869   8455   9187   593  0.867100   0.296339  0.441717   \n",
       "23  0.556777  3853   8454   9188   609  0.863514   0.295453  0.440267   \n",
       "25  0.553882  3898   8345   9297   564  0.873599   0.295415  0.441525   \n",
       "17  0.553882  3896   8347   9295   566  0.873151   0.295353  0.441398   \n",
       "26  0.550670  3918   8254   9388   544  0.878082   0.294454  0.441018   \n",
       "21  0.547729  3963   8144   9498   499  0.888167   0.294406  0.442225   \n",
       "18  0.550715  3914   8259   9383   548  0.877185   0.294352  0.440791   \n",
       "22  0.544200  3987   8042   9600   475  0.893545   0.293442  0.441797   \n",
       "14  0.525244  4090   7520  10122   372  0.916629   0.287785  0.438042   \n",
       "1   0.525063  4082   7524  10118   380  0.914836   0.287465  0.437467   \n",
       "2   0.524928  4082   7521  10121   380  0.914836   0.287404  0.437396   \n",
       "13  0.522258  4119   7425  10217   343  0.923129   0.287319  0.438238   \n",
       "3   0.522801  4102   7454  10188   360  0.919319   0.287054  0.437500   \n",
       "6   0.473444  3203   7262  10380  1259  0.717840   0.235809  0.355001   \n",
       "30  0.476475  1357   9175   8467  3105  0.304124   0.138131  0.189976   \n",
       "\n",
       "       runtime  \n",
       "31    8.437400  \n",
       "29    7.773180  \n",
       "7    99.974952  \n",
       "5   103.571180  \n",
       "35  499.544160  \n",
       "11    2.607001  \n",
       "15   27.522998  \n",
       "10    0.469338  \n",
       "33  458.814276  \n",
       "34   88.201129  \n",
       "27    4.201777  \n",
       "19    5.310775  \n",
       "9     2.464386  \n",
       "23    0.928512  \n",
       "25    4.045198  \n",
       "17    4.392266  \n",
       "26    0.941509  \n",
       "21    0.989349  \n",
       "18    1.083098  \n",
       "22    0.277258  \n",
       "14    4.690469  \n",
       "1     1.286285  \n",
       "2     0.328120  \n",
       "13   23.831937  \n",
       "3     1.262364  \n",
       "6     9.631387  \n",
       "30    2.044547  "
      ]
     },
     "execution_count": 59,
     "metadata": {},
     "output_type": "execute_result"
    }
   ],
   "source": [
    "results_df[(results_df[\"sample_method\"] != \"none\")].sort_values(\"precision\", ascending=False)"
   ]
  },
  {
   "cell_type": "markdown",
   "metadata": {},
   "source": [
    "### Tune SVC\\SMOTE"
   ]
  },
  {
   "cell_type": "code",
   "execution_count": 98,
   "metadata": {},
   "outputs": [],
   "source": [
    "# Set up results dictionary\n",
    "results_tuned = {\"model\": [], \"sample_method\":[], \"mean_train_acc\": [], \"std_train_acc\": [],\n",
    "           \"test_acc\": [], \"tp\": [], \"tn\": [], \"fp\": [], \"fn\": [], \"recall\": [],\n",
    "           \"precision\": [], \"f1_score\": [], \"runtime\": []}"
   ]
  },
  {
   "cell_type": "code",
   "execution_count": 99,
   "metadata": {},
   "outputs": [
    {
     "data": {
      "text/plain": [
       "GridSearchCV(cv=5, error_score='raise',\n",
       "       estimator=SVC(C=1.0, cache_size=200, class_weight=None, coef0=0.0,\n",
       "  decision_function_shape='ovr', degree=3, gamma='auto', kernel='rbf',\n",
       "  max_iter=-1, probability=False, random_state=None, shrinking=True,\n",
       "  tol=0.001, verbose=False),\n",
       "       fit_params={}, iid=True, n_jobs=-1,\n",
       "       param_grid={'C': [0.01, 0.1, 1, 10, 100, 1000, 10000], 'max_iter': [50, 100, 250, 500]},\n",
       "       pre_dispatch='2*n_jobs', refit=True, scoring='accuracy', verbose=0)"
      ]
     },
     "execution_count": 99,
     "metadata": {},
     "output_type": "execute_result"
    }
   ],
   "source": [
    "svc = SVC()\n",
    "param_grid = {\"C\": [0.01, 0.1, 1, 10, 100, 1000, 10000],\n",
    "             \"max_iter\": [50, 100, 250, 500]}\n",
    "\n",
    "gs_svc = GridSearchCV(estimator=svc,\n",
    "                    param_grid = param_grid,\n",
    "                    scoring=\"accuracy\",\n",
    "                    cv=5,\n",
    "                    n_jobs=-1)\n",
    "gs_svc.fit(X_train_smote, y_train_smote)"
   ]
  },
  {
   "cell_type": "code",
   "execution_count": 100,
   "metadata": {},
   "outputs": [
    {
     "name": "stdout",
     "output_type": "stream",
     "text": [
      "0.5343026798747219\n",
      "{'C': 10000, 'max_iter': 500}\n"
     ]
    }
   ],
   "source": [
    "print(gs_svc.best_score_)\n",
    "print(gs_svc.best_params_)"
   ]
  },
  {
   "cell_type": "code",
   "execution_count": 101,
   "metadata": {},
   "outputs": [
    {
     "name": "stdout",
     "output_type": "stream",
     "text": [
      "###### Results ######\n",
      "Model: SVC\n",
      "Sampling: smote\n",
      "Mean Training Accuracy: 0.506\n",
      "Std Training Accuracy: 0.084\n",
      "Test Accuracy: 0.778\n",
      "Recall: 0.100\n",
      "Precision: 0.334\n",
      "F1 Score: 0.153\n",
      "Runtime: 62.69752\n"
     ]
    },
    {
     "data": {
      "image/png": "[encoded data removed]",
      "text/plain": [
       "<Figure size 180x180 with 1 Axes>"
      ]
     },
     "metadata": {},
     "output_type": "display_data"
    }
   ],
   "source": [
    "run_model(SVC(C=10000, max_iter=500), X_train_smote, y_train_smote, X_test, y_test,\n",
    "          results_tuned, sample_method=\"smote\")"
   ]
  },
  {
   "cell_type": "markdown",
   "metadata": {},
   "source": [
    "### Tune KNeighbors\\SMOTE"
   ]
  },
  {
   "cell_type": "code",
   "execution_count": 104,
   "metadata": {},
   "outputs": [
    {
     "data": {
      "text/plain": [
       "GridSearchCV(cv=5, error_score='raise',\n",
       "       estimator=KNeighborsClassifier(algorithm='auto', leaf_size=30, metric='minkowski',\n",
       "           metric_params=None, n_jobs=1, n_neighbors=5, p=2,\n",
       "           weights='uniform'),\n",
       "       fit_params={}, iid=True, n_jobs=-1,\n",
       "       param_grid={'n_neighbors': array([ 1,  2,  3,  4,  5,  6,  7,  8,  9, 10, 11, 12, 13, 14, 15, 16, 17,\n",
       "       18, 19, 20, 21, 22, 23, 24, 25, 26, 27, 28, 29]), 'weights': ['uniform', 'distance']},\n",
       "       pre_dispatch='2*n_jobs', refit=True, scoring='accuracy', verbose=0)"
      ]
     },
     "execution_count": 104,
     "metadata": {},
     "output_type": "execute_result"
    }
   ],
   "source": [
    "knn = KNeighborsClassifier()\n",
    "param_grid = {\"n_neighbors\": np.arange(1, 30, 1),\n",
    "             \"weights\": [\"uniform\", \"distance\"]}\n",
    "\n",
    "gs_knn = GridSearchCV(estimator=knn,\n",
    "                    param_grid = param_grid,\n",
    "                    scoring=\"accuracy\",\n",
    "                    cv=5,\n",
    "                    n_jobs=-1)\n",
    "gs_knn.fit(X_train_smote, y_train_smote)"
   ]
  },
  {
   "cell_type": "code",
   "execution_count": 105,
   "metadata": {},
   "outputs": [
    {
     "name": "stdout",
     "output_type": "stream",
     "text": [
      "0.7237220639712031\n",
      "{'n_neighbors': 29, 'weights': 'distance'}\n"
     ]
    }
   ],
   "source": [
    "print(gs_knn.best_score_)\n",
    "print(gs_knn.best_params_)"
   ]
  },
  {
   "cell_type": "code",
   "execution_count": 108,
   "metadata": {},
   "outputs": [
    {
     "name": "stdout",
     "output_type": "stream",
     "text": [
      "###### Results ######\n",
      "Model: KNeighborsClassifier\n",
      "Sampling: smote\n",
      "Mean Training Accuracy: 0.726\n",
      "Std Training Accuracy: 0.040\n",
      "Test Accuracy: 0.703\n",
      "Recall: 0.442\n",
      "Precision: 0.326\n",
      "F1 Score: 0.375\n",
      "Runtime: 131.34829\n"
     ]
    },
    {
     "data": {
      "image/png": "[encoded data removed]",
      "text/plain": [
       "<Figure size 180x180 with 1 Axes>"
      ]
     },
     "metadata": {},
     "output_type": "display_data"
    }
   ],
   "source": [
    "run_model(KNeighborsClassifier(n_neighbors=29, weights=\"distance\"), X_train_smote, y_train_smote,\n",
    "          X_test, y_test, results_tuned, sample_method=\"smote\")"
   ]
  },
  {
   "cell_type": "markdown",
   "metadata": {},
   "source": [
    "### Tune GradientBoosting\\SMOTE"
   ]
  },
  {
   "cell_type": "code",
   "execution_count": 111,
   "metadata": {},
   "outputs": [
    {
     "data": {
      "text/plain": [
       "GridSearchCV(cv=5, error_score='raise',\n",
       "       estimator=GradientBoostingClassifier(criterion='friedman_mse', init=None,\n",
       "              learning_rate=0.1, loss='deviance', max_depth=3,\n",
       "              max_features=None, max_leaf_nodes=None,\n",
       "              min_impurity_decrease=0.0, min_impurity_split=None,\n",
       "              min_samples_leaf=1, min_samples_split=2,\n",
       "              min_weight_fraction_leaf=0.0, n_estimators=100,\n",
       "              presort='auto', random_state=None, subsample=1.0, verbose=0,\n",
       "              warm_start=False),\n",
       "       fit_params={}, iid=True, n_jobs=-1,\n",
       "       param_grid={'n_estimators': [50, 100, 250, 500, 1000]},\n",
       "       pre_dispatch='2*n_jobs', refit=True, scoring='accuracy', verbose=0)"
      ]
     },
     "execution_count": 111,
     "metadata": {},
     "output_type": "execute_result"
    }
   ],
   "source": [
    "gbc = GradientBoostingClassifier()\n",
    "param_grid = {\"n_estimators\": [50, 100, 250, 500, 1000]}\n",
    "\n",
    "gs_gbc = GridSearchCV(estimator=gbc,\n",
    "                    param_grid = param_grid,\n",
    "                    scoring=\"accuracy\",\n",
    "                    cv=5,\n",
    "                    n_jobs=-1)\n",
    "gs_gbc.fit(X_train_smote, y_train_smote)"
   ]
  },
  {
   "cell_type": "code",
   "execution_count": 112,
   "metadata": {},
   "outputs": [
    {
     "name": "stdout",
     "output_type": "stream",
     "text": [
      "0.7317857800830464\n",
      "{'n_estimators': 1000}\n"
     ]
    }
   ],
   "source": [
    "print(gs_gbc.best_score_)\n",
    "print(gs_gbc.best_params_)"
   ]
  },
  {
   "cell_type": "code",
   "execution_count": 113,
   "metadata": {},
   "outputs": [
    {
     "name": "stdout",
     "output_type": "stream",
     "text": [
      "###### Results ######\n",
      "Model: GradientBoostingClassifier\n",
      "Sampling: smote\n",
      "Mean Training Accuracy: 0.736\n",
      "Std Training Accuracy: 0.067\n",
      "Test Accuracy: 0.675\n",
      "Recall: 0.524\n",
      "Precision: 0.316\n",
      "F1 Score: 0.394\n",
      "Runtime: 1471.91745\n"
     ]
    },
    {
     "data": {
      "image/png": "[encoded data removed]",
      "text/plain": [
       "<Figure size 180x180 with 1 Axes>"
      ]
     },
     "metadata": {},
     "output_type": "display_data"
    }
   ],
   "source": [
    "run_model(GradientBoostingClassifier(n_estimators=1000), X_train_smote, y_train_smote,\n",
    "          X_test, y_test, results_tuned, sample_method=\"smote\")"
   ]
  },
  {
   "cell_type": "code",
   "execution_count": 114,
   "metadata": {
    "scrolled": true
   },
   "outputs": [
    {
     "data": {
      "text/html": [
       "<div>\n",
       "<style scoped>\n",
       "    .dataframe tbody tr th:only-of-type {\n",
       "        vertical-align: middle;\n",
       "    }\n",
       "\n",
       "    .dataframe tbody tr th {\n",
       "        vertical-align: top;\n",
       "    }\n",
       "\n",
       "    .dataframe thead th {\n",
       "        text-align: right;\n",
       "    }\n",
       "</style>\n",
       "<table border=\"1\" class=\"dataframe\">\n",
       "  <thead>\n",
       "    <tr style=\"text-align: right;\">\n",
       "      <th></th>\n",
       "      <th>model</th>\n",
       "      <th>sample_method</th>\n",
       "      <th>mean_train_acc</th>\n",
       "      <th>std_train_acc</th>\n",
       "      <th>test_acc</th>\n",
       "      <th>tp</th>\n",
       "      <th>tn</th>\n",
       "      <th>fp</th>\n",
       "      <th>fn</th>\n",
       "      <th>recall</th>\n",
       "      <th>precision</th>\n",
       "      <th>f1_score</th>\n",
       "      <th>runtime</th>\n",
       "    </tr>\n",
       "  </thead>\n",
       "  <tbody>\n",
       "    <tr>\n",
       "      <th>0</th>\n",
       "      <td>SVC</td>\n",
       "      <td>smote</td>\n",
       "      <td>0.505669</td>\n",
       "      <td>0.084038</td>\n",
       "      <td>0.778185</td>\n",
       "      <td>444</td>\n",
       "      <td>16757</td>\n",
       "      <td>885</td>\n",
       "      <td>4018</td>\n",
       "      <td>0.099507</td>\n",
       "      <td>0.334086</td>\n",
       "      <td>0.153341</td>\n",
       "      <td>62.697517</td>\n",
       "    </tr>\n",
       "    <tr>\n",
       "      <th>1</th>\n",
       "      <td>KNeighborsClassifier</td>\n",
       "      <td>smote</td>\n",
       "      <td>0.726098</td>\n",
       "      <td>0.039745</td>\n",
       "      <td>0.703176</td>\n",
       "      <td>1970</td>\n",
       "      <td>13573</td>\n",
       "      <td>4069</td>\n",
       "      <td>2492</td>\n",
       "      <td>0.441506</td>\n",
       "      <td>0.326213</td>\n",
       "      <td>0.375202</td>\n",
       "      <td>131.348292</td>\n",
       "    </tr>\n",
       "    <tr>\n",
       "      <th>2</th>\n",
       "      <td>GradientBoostingClassifier</td>\n",
       "      <td>smote</td>\n",
       "      <td>0.735581</td>\n",
       "      <td>0.067135</td>\n",
       "      <td>0.674991</td>\n",
       "      <td>2340</td>\n",
       "      <td>12580</td>\n",
       "      <td>5062</td>\n",
       "      <td>2122</td>\n",
       "      <td>0.524429</td>\n",
       "      <td>0.316131</td>\n",
       "      <td>0.394471</td>\n",
       "      <td>1471.917450</td>\n",
       "    </tr>\n",
       "  </tbody>\n",
       "</table>\n",
       "</div>"
      ],
      "text/plain": [
       "                        model sample_method  mean_train_acc  std_train_acc  \\\n",
       "0                         SVC         smote        0.505669       0.084038   \n",
       "1        KNeighborsClassifier         smote        0.726098       0.039745   \n",
       "2  GradientBoostingClassifier         smote        0.735581       0.067135   \n",
       "\n",
       "   test_acc    tp     tn    fp    fn    recall  precision  f1_score  \\\n",
       "0  0.778185   444  16757   885  4018  0.099507   0.334086  0.153341   \n",
       "1  0.703176  1970  13573  4069  2492  0.441506   0.326213  0.375202   \n",
       "2  0.674991  2340  12580  5062  2122  0.524429   0.316131  0.394471   \n",
       "\n",
       "       runtime  \n",
       "0    62.697517  \n",
       "1   131.348292  \n",
       "2  1471.917450  "
      ]
     },
     "execution_count": 114,
     "metadata": {},
     "output_type": "execute_result"
    }
   ],
   "source": [
    "results_df = pd.DataFrame(results_tuned)\n",
    "results_df"
   ]
  },
  {
   "cell_type": "code",
   "execution_count": null,
   "metadata": {},
   "outputs": [],
   "source": []
  }
 ],
 "metadata": {
  "kernelspec": {
   "display_name": "Python 3",
   "language": "python",
   "name": "python3"
  },
  "language_info": {
   "codemirror_mode": {
    "name": "ipython",
    "version": 3
   },
   "file_extension": ".py",
   "mimetype": "text/x-python",
   "name": "python",
   "nbconvert_exporter": "python",
   "pygments_lexer": "ipython3",
   "version": "3.6.6"
  }
 },
 "nbformat": 4,
 "nbformat_minor": 2
}
