{
 "cells": [
  {
   "cell_type": "markdown",
   "metadata": {},
   "source": [
    "# Predicting Medical Appointment No-Shows\n",
    "Data from [Kaggle](https://www.kaggle.com/joniarroba/noshowappointments/home)"
   ]
  },
  {
   "cell_type": "code",
   "execution_count": 1,
   "metadata": {},
   "outputs": [
    {
     "name": "stderr",
     "output_type": "stream",
     "text": [
      "C:\\Users\\andre\\Anaconda3\\lib\\site-packages\\sklearn\\cross_validation.py:41: DeprecationWarning: This module was deprecated in version 0.18 in favor of the model_selection module into which all the refactored classes and functions are moved. Also note that the interface of the new CV iterators are different from that of this module. This module will be removed in 0.20.\n",
      "  \"This module will be removed in 0.20.\", DeprecationWarning)\n"
     ]
    }
   ],
   "source": [
    "# Imports\n",
    "import time\n",
    "import datetime\n",
    "import numpy as np\n",
    "import pandas as pd\n",
    "import matplotlib.pyplot as plt\n",
    "import seaborn as sns\n",
    "\n",
    "from sklearn.cross_validation import train_test_split\n",
    "from sklearn.cross_validation import cross_val_score\n",
    "from sklearn.metrics import confusion_matrix\n",
    "from sklearn.metrics import precision_score\n",
    "from sklearn.metrics import recall_score\n",
    "from sklearn.metrics import f1_score\n",
    "from sklearn.naive_bayes import GaussianNB\n",
    "from sklearn.neighbors import KNeighborsClassifier\n",
    "from sklearn.tree import DecisionTreeClassifier\n",
    "from sklearn.ensemble import RandomForestClassifier\n",
    "from sklearn.linear_model import LogisticRegression\n",
    "from sklearn.svm import SVC\n",
    "from sklearn.ensemble import AdaBoostClassifier\n",
    "from sklearn.ensemble import GradientBoostingClassifier\n",
    "\n",
    "%matplotlib inline\n",
    "sns.set_style(\"whitegrid\")\n",
    "\n",
    "import warnings\n",
    "warnings.filterwarnings(\"ignore\")"
   ]
  },
  {
   "cell_type": "code",
   "execution_count": 2,
   "metadata": {},
   "outputs": [],
   "source": [
    "# Helper functions\n",
    "def unique_col_values(df):\n",
    "    max_name_len = np.max([len(col_name) for col_name in raw_data.columns]) + 2\n",
    "    format_str = \"{:<\" + str(max_name_len) + \"}{:<8}{:<15}\"\n",
    "\n",
    "    print(format_str.format(\"Name\", \"Unique\", \"DType\"))\n",
    "    print()\n",
    "    for col in df:\n",
    "        print(format_str.format(df[col].name, len(df[col].unique()), str(df[col].dtype)))\n",
    "\n",
    "def convert_to_category(df, cols):\n",
    "    for col in cols:\n",
    "        df[col] = df[col].astype(\"category\")"
   ]
  },
  {
   "cell_type": "markdown",
   "metadata": {},
   "source": [
    "## Data exploration and initial cleaning"
   ]
  },
  {
   "cell_type": "code",
   "execution_count": 3,
   "metadata": {},
   "outputs": [
    {
     "name": "stdout",
     "output_type": "stream",
     "text": [
      "Rows: 110527\n",
      "Columns: 14\n"
     ]
    },
    {
     "data": {
      "text/html": [
       "<div>\n",
       "<style scoped>\n",
       "    .dataframe tbody tr th:only-of-type {\n",
       "        vertical-align: middle;\n",
       "    }\n",
       "\n",
       "    .dataframe tbody tr th {\n",
       "        vertical-align: top;\n",
       "    }\n",
       "\n",
       "    .dataframe thead th {\n",
       "        text-align: right;\n",
       "    }\n",
       "</style>\n",
       "<table border=\"1\" class=\"dataframe\">\n",
       "  <thead>\n",
       "    <tr style=\"text-align: right;\">\n",
       "      <th></th>\n",
       "      <th>patient_id</th>\n",
       "      <th>appointment_id</th>\n",
       "      <th>gender</th>\n",
       "      <th>scheduled_day</th>\n",
       "      <th>appointment_day</th>\n",
       "      <th>age</th>\n",
       "      <th>neighborhood</th>\n",
       "      <th>scholarship</th>\n",
       "      <th>hypertension</th>\n",
       "      <th>diabetes</th>\n",
       "      <th>alcoholism</th>\n",
       "      <th>handicap</th>\n",
       "      <th>sms_received</th>\n",
       "      <th>no_show</th>\n",
       "    </tr>\n",
       "  </thead>\n",
       "  <tbody>\n",
       "    <tr>\n",
       "      <th>0</th>\n",
       "      <td>2.987250e+13</td>\n",
       "      <td>5642903</td>\n",
       "      <td>F</td>\n",
       "      <td>2016-04-29T18:38:08Z</td>\n",
       "      <td>2016-04-29T00:00:00Z</td>\n",
       "      <td>62</td>\n",
       "      <td>JARDIM DA PENHA</td>\n",
       "      <td>0</td>\n",
       "      <td>1</td>\n",
       "      <td>0</td>\n",
       "      <td>0</td>\n",
       "      <td>0</td>\n",
       "      <td>0</td>\n",
       "      <td>No</td>\n",
       "    </tr>\n",
       "    <tr>\n",
       "      <th>1</th>\n",
       "      <td>5.589978e+14</td>\n",
       "      <td>5642503</td>\n",
       "      <td>M</td>\n",
       "      <td>2016-04-29T16:08:27Z</td>\n",
       "      <td>2016-04-29T00:00:00Z</td>\n",
       "      <td>56</td>\n",
       "      <td>JARDIM DA PENHA</td>\n",
       "      <td>0</td>\n",
       "      <td>0</td>\n",
       "      <td>0</td>\n",
       "      <td>0</td>\n",
       "      <td>0</td>\n",
       "      <td>0</td>\n",
       "      <td>No</td>\n",
       "    </tr>\n",
       "    <tr>\n",
       "      <th>2</th>\n",
       "      <td>4.262962e+12</td>\n",
       "      <td>5642549</td>\n",
       "      <td>F</td>\n",
       "      <td>2016-04-29T16:19:04Z</td>\n",
       "      <td>2016-04-29T00:00:00Z</td>\n",
       "      <td>62</td>\n",
       "      <td>MATA DA PRAIA</td>\n",
       "      <td>0</td>\n",
       "      <td>0</td>\n",
       "      <td>0</td>\n",
       "      <td>0</td>\n",
       "      <td>0</td>\n",
       "      <td>0</td>\n",
       "      <td>No</td>\n",
       "    </tr>\n",
       "    <tr>\n",
       "      <th>3</th>\n",
       "      <td>8.679512e+11</td>\n",
       "      <td>5642828</td>\n",
       "      <td>F</td>\n",
       "      <td>2016-04-29T17:29:31Z</td>\n",
       "      <td>2016-04-29T00:00:00Z</td>\n",
       "      <td>8</td>\n",
       "      <td>PONTAL DE CAMBURI</td>\n",
       "      <td>0</td>\n",
       "      <td>0</td>\n",
       "      <td>0</td>\n",
       "      <td>0</td>\n",
       "      <td>0</td>\n",
       "      <td>0</td>\n",
       "      <td>No</td>\n",
       "    </tr>\n",
       "    <tr>\n",
       "      <th>4</th>\n",
       "      <td>8.841186e+12</td>\n",
       "      <td>5642494</td>\n",
       "      <td>F</td>\n",
       "      <td>2016-04-29T16:07:23Z</td>\n",
       "      <td>2016-04-29T00:00:00Z</td>\n",
       "      <td>56</td>\n",
       "      <td>JARDIM DA PENHA</td>\n",
       "      <td>0</td>\n",
       "      <td>1</td>\n",
       "      <td>1</td>\n",
       "      <td>0</td>\n",
       "      <td>0</td>\n",
       "      <td>0</td>\n",
       "      <td>No</td>\n",
       "    </tr>\n",
       "  </tbody>\n",
       "</table>\n",
       "</div>"
      ],
      "text/plain": [
       "     patient_id  appointment_id gender         scheduled_day  \\\n",
       "0  2.987250e+13         5642903      F  2016-04-29T18:38:08Z   \n",
       "1  5.589978e+14         5642503      M  2016-04-29T16:08:27Z   \n",
       "2  4.262962e+12         5642549      F  2016-04-29T16:19:04Z   \n",
       "3  8.679512e+11         5642828      F  2016-04-29T17:29:31Z   \n",
       "4  8.841186e+12         5642494      F  2016-04-29T16:07:23Z   \n",
       "\n",
       "        appointment_day  age       neighborhood  scholarship  hypertension  \\\n",
       "0  2016-04-29T00:00:00Z   62    JARDIM DA PENHA            0             1   \n",
       "1  2016-04-29T00:00:00Z   56    JARDIM DA PENHA            0             0   \n",
       "2  2016-04-29T00:00:00Z   62      MATA DA PRAIA            0             0   \n",
       "3  2016-04-29T00:00:00Z    8  PONTAL DE CAMBURI            0             0   \n",
       "4  2016-04-29T00:00:00Z   56    JARDIM DA PENHA            0             1   \n",
       "\n",
       "   diabetes  alcoholism  handicap  sms_received no_show  \n",
       "0         0           0         0             0      No  \n",
       "1         0           0         0             0      No  \n",
       "2         0           0         0             0      No  \n",
       "3         0           0         0             0      No  \n",
       "4         1           0         0             0      No  "
      ]
     },
     "execution_count": 3,
     "metadata": {},
     "output_type": "execute_result"
    }
   ],
   "source": [
    "# Import the data\n",
    "raw_data = pd.read_csv(\"KaggleV2-May-2016.csv\")\n",
    "print(\"Rows: {}\\nColumns: {}\".format(raw_data.shape[0], raw_data.shape[1]))\n",
    "\n",
    "# Clean up column names\n",
    "raw_data.columns = [\"patient_id\", \"appointment_id\", \"gender\", \"scheduled_day\",\n",
    "                   \"appointment_day\", \"age\", \"neighborhood\", \"scholarship\",\n",
    "                    \"hypertension\", \"diabetes\", \"alcoholism\", \"handicap\", \"sms_received\",\n",
    "                   \"no_show\"]\n",
    "raw_data.head()"
   ]
  },
  {
   "cell_type": "code",
   "execution_count": 4,
   "metadata": {},
   "outputs": [
    {
     "name": "stdout",
     "output_type": "stream",
     "text": [
      "<class 'pandas.core.frame.DataFrame'>\n",
      "RangeIndex: 110527 entries, 0 to 110526\n",
      "Data columns (total 14 columns):\n",
      "patient_id         110527 non-null float64\n",
      "appointment_id     110527 non-null int64\n",
      "gender             110527 non-null object\n",
      "scheduled_day      110527 non-null object\n",
      "appointment_day    110527 non-null object\n",
      "age                110527 non-null int64\n",
      "neighborhood       110527 non-null object\n",
      "scholarship        110527 non-null int64\n",
      "hypertension       110527 non-null int64\n",
      "diabetes           110527 non-null int64\n",
      "alcoholism         110527 non-null int64\n",
      "handicap           110527 non-null int64\n",
      "sms_received       110527 non-null int64\n",
      "no_show            110527 non-null object\n",
      "dtypes: float64(1), int64(8), object(5)\n",
      "memory usage: 11.8+ MB\n"
     ]
    }
   ],
   "source": [
    "# Get data details\n",
    "raw_data.info()"
   ]
  },
  {
   "cell_type": "code",
   "execution_count": 5,
   "metadata": {},
   "outputs": [
    {
     "data": {
      "text/plain": [
       "patient_id         0\n",
       "appointment_id     0\n",
       "gender             0\n",
       "scheduled_day      0\n",
       "appointment_day    0\n",
       "age                0\n",
       "neighborhood       0\n",
       "scholarship        0\n",
       "hypertension       0\n",
       "diabetes           0\n",
       "alcoholism         0\n",
       "handicap           0\n",
       "sms_received       0\n",
       "no_show            0\n",
       "dtype: int64"
      ]
     },
     "execution_count": 5,
     "metadata": {},
     "output_type": "execute_result"
    }
   ],
   "source": [
    "# Check for missing values\n",
    "raw_data.isnull().sum()"
   ]
  },
  {
   "cell_type": "code",
   "execution_count": 6,
   "metadata": {},
   "outputs": [
    {
     "data": {
      "text/plain": [
       "0"
      ]
     },
     "execution_count": 6,
     "metadata": {},
     "output_type": "execute_result"
    }
   ],
   "source": [
    "# Check for duplicates using the appointment unique identifier column\n",
    "raw_data.duplicated(\"appointment_id\").sum()"
   ]
  },
  {
   "cell_type": "code",
   "execution_count": 7,
   "metadata": {},
   "outputs": [
    {
     "name": "stdout",
     "output_type": "stream",
     "text": [
      "<class 'pandas.core.frame.DataFrame'>\n",
      "RangeIndex: 110527 entries, 0 to 110526\n",
      "Data columns (total 12 columns):\n",
      "gender             110527 non-null category\n",
      "scheduled_day      110527 non-null datetime64[ns]\n",
      "appointment_day    110527 non-null datetime64[ns]\n",
      "age                110527 non-null int64\n",
      "neighborhood       110527 non-null category\n",
      "scholarship        110527 non-null category\n",
      "hypertension       110527 non-null category\n",
      "diabetes           110527 non-null category\n",
      "alcoholism         110527 non-null category\n",
      "handicap           110527 non-null category\n",
      "sms_received       110527 non-null category\n",
      "no_show            110527 non-null category\n",
      "dtypes: category(9), datetime64[ns](2), int64(1)\n",
      "memory usage: 3.5 MB\n"
     ]
    }
   ],
   "source": [
    "# Drop columns we will not need\n",
    "raw_data.drop([\"patient_id\", \"appointment_id\"], axis=1, inplace=True)\n",
    "\n",
    "# Convert scheduled_day and appointment_day to datetime format\n",
    "raw_data[\"scheduled_day\"] = pd.to_datetime(raw_data[\"scheduled_day\"])\n",
    "raw_data[\"appointment_day\"] = pd.to_datetime(raw_data[\"appointment_day\"])\n",
    "\n",
    "# Convert qualitative columns to category type\n",
    "convert_to_category(raw_data, [\"gender\", \"neighborhood\", \"scholarship\", \"hypertension\",\n",
    "                              \"diabetes\", \"alcoholism\", \"handicap\", \"sms_received\", \"no_show\"])\n",
    "raw_data.info()"
   ]
  },
  {
   "cell_type": "code",
   "execution_count": 8,
   "metadata": {},
   "outputs": [
    {
     "name": "stdout",
     "output_type": "stream",
     "text": [
      "Name             Unique  DType          \n",
      "\n",
      "gender           2       category       \n",
      "scheduled_day    103549  datetime64[ns] \n",
      "appointment_day  27      datetime64[ns] \n",
      "age              104     int64          \n",
      "neighborhood     81      category       \n",
      "scholarship      2       category       \n",
      "hypertension     2       category       \n",
      "diabetes         2       category       \n",
      "alcoholism       2       category       \n",
      "handicap         5       category       \n",
      "sms_received     2       category       \n",
      "no_show          2       category       \n"
     ]
    }
   ],
   "source": [
    "unique_col_values(raw_data)"
   ]
  },
  {
   "cell_type": "markdown",
   "metadata": {},
   "source": [
    "### Univariate exploration"
   ]
  },
  {
   "cell_type": "code",
   "execution_count": 9,
   "metadata": {},
   "outputs": [
    {
     "data": {
      "text/plain": [
       "count     110527\n",
       "unique         2\n",
       "top            F\n",
       "freq       71840\n",
       "Name: gender, dtype: object"
      ]
     },
     "execution_count": 9,
     "metadata": {},
     "output_type": "execute_result"
    }
   ],
   "source": [
    "raw_data[\"gender\"].describe()"
   ]
  },
  {
   "cell_type": "code",
   "execution_count": 10,
   "metadata": {},
   "outputs": [
    {
     "data": {
      "text/plain": [
       "F    71840\n",
       "M    38687\n",
       "Name: gender, dtype: int64"
      ]
     },
     "execution_count": 10,
     "metadata": {},
     "output_type": "execute_result"
    }
   ],
   "source": [
    "raw_data[\"gender\"].value_counts()"
   ]
  },
  {
   "cell_type": "code",
   "execution_count": 11,
   "metadata": {
    "scrolled": false
   },
   "outputs": [
    {
     "data": {
      "image/png": "[encoded data removed]",
      "text/plain": [
       "<Figure size 432x288 with 1 Axes>"
      ]
     },
     "metadata": {},
     "output_type": "display_data"
    }
   ],
   "source": [
    "fig = plt.figure(figsize=(6, 4))\n",
    "sns.countplot(x=\"gender\", data=raw_data, palette=\"ocean\")\n",
    "plt.show()"
   ]
  },
  {
   "cell_type": "code",
   "execution_count": 12,
   "metadata": {},
   "outputs": [
    {
     "data": {
      "text/plain": [
       "count                  110527\n",
       "unique                 103549\n",
       "top       2016-05-06 07:09:54\n",
       "freq                       24\n",
       "first     2015-11-10 07:13:56\n",
       "last      2016-06-08 20:07:23\n",
       "Name: scheduled_day, dtype: object"
      ]
     },
     "execution_count": 12,
     "metadata": {},
     "output_type": "execute_result"
    }
   ],
   "source": [
    "raw_data[\"scheduled_day\"].describe()"
   ]
  },
  {
   "cell_type": "code",
   "execution_count": 13,
   "metadata": {},
   "outputs": [
    {
     "data": {
      "text/plain": [
       "count                  110527\n",
       "unique                     27\n",
       "top       2016-06-06 00:00:00\n",
       "freq                     4692\n",
       "first     2016-04-29 00:00:00\n",
       "last      2016-06-08 00:00:00\n",
       "Name: appointment_day, dtype: object"
      ]
     },
     "execution_count": 13,
     "metadata": {},
     "output_type": "execute_result"
    }
   ],
   "source": [
    "raw_data[\"appointment_day\"].describe()"
   ]
  },
  {
   "cell_type": "code",
   "execution_count": 14,
   "metadata": {
    "scrolled": true
   },
   "outputs": [
    {
     "data": {
      "text/plain": [
       "count    110527.000000\n",
       "mean         10.183702\n",
       "std          15.254996\n",
       "min          -6.000000\n",
       "25%           0.000000\n",
       "50%           4.000000\n",
       "75%          15.000000\n",
       "max         179.000000\n",
       "Name: scheduled_to_appointment, dtype: float64"
      ]
     },
     "execution_count": 14,
     "metadata": {},
     "output_type": "execute_result"
    }
   ],
   "source": [
    "def calc_time_between(cols):\n",
    "    appointment_day = cols[0]\n",
    "    scheduled_day = cols[1]\n",
    "    return (appointment_day.date() - scheduled_day.date()).days\n",
    "\n",
    "raw_data[\"scheduled_to_appointment\"] = raw_data[[\"appointment_day\", \"scheduled_day\"]].apply(calc_time_between, axis=1)\n",
    "\n",
    "raw_data[\"scheduled_to_appointment\"].describe()"
   ]
  },
  {
   "cell_type": "code",
   "execution_count": 15,
   "metadata": {},
   "outputs": [
    {
     "name": "stdout",
     "output_type": "stream",
     "text": [
      "Number of scheduled_to_appointment less than 0: 5\n"
     ]
    }
   ],
   "source": [
    "print(\"Number of scheduled_to_appointment less than 0: {}\".format(len(raw_data[raw_data[\"scheduled_to_appointment\"] < 0])))\n",
    "\n",
    "# Drop observations with scheduled_to_appointment < 0\n",
    "raw_data = raw_data[raw_data[\"scheduled_to_appointment\"] >= 0]"
   ]
  },
  {
   "cell_type": "code",
   "execution_count": 16,
   "metadata": {},
   "outputs": [
    {
     "data": {
      "text/plain": [
       "count    110522.000000\n",
       "mean         10.184253\n",
       "std          15.255115\n",
       "min           0.000000\n",
       "25%           0.000000\n",
       "50%           4.000000\n",
       "75%          15.000000\n",
       "max         179.000000\n",
       "Name: scheduled_to_appointment, dtype: float64"
      ]
     },
     "execution_count": 16,
     "metadata": {},
     "output_type": "execute_result"
    }
   ],
   "source": [
    "raw_data[\"scheduled_to_appointment\"].describe()"
   ]
  },
  {
   "cell_type": "code",
   "execution_count": 17,
   "metadata": {},
   "outputs": [
    {
     "data": {
      "image/png": "[encoded data removed]",
      "text/plain": [
       "<Figure size 576x288 with 1 Axes>"
      ]
     },
     "metadata": {},
     "output_type": "display_data"
    }
   ],
   "source": [
    "fig = plt.figure(figsize=(8, 4))\n",
    "sns.distplot(raw_data[\"scheduled_to_appointment\"], bins=30)\n",
    "plt.show()"
   ]
  },
  {
   "cell_type": "code",
   "execution_count": 18,
   "metadata": {},
   "outputs": [
    {
     "data": {
      "text/plain": [
       "count        110522\n",
       "unique            6\n",
       "top       wednesday\n",
       "freq          25866\n",
       "Name: appointment_weekday, dtype: object"
      ]
     },
     "execution_count": 18,
     "metadata": {},
     "output_type": "execute_result"
    }
   ],
   "source": [
    "def get_weekday(date):\n",
    "    weekday_codes = {0: \"monday\", 1: \"tuesday\",\n",
    "                    2: \"wednesday\", 3: \"thursday\",\n",
    "                    4: \"friday\", 5: \"saturday\",\n",
    "                    6: \"sunday\"}\n",
    "    return weekday_codes[date.weekday()]\n",
    "\n",
    "raw_data[\"appointment_weekday\"] = raw_data[\"appointment_day\"].apply(lambda x: get_weekday(x)).astype(\"category\")\n",
    "raw_data[\"appointment_weekday\"].describe()"
   ]
  },
  {
   "cell_type": "code",
   "execution_count": 19,
   "metadata": {},
   "outputs": [
    {
     "data": {
      "text/plain": [
       "wednesday    25866\n",
       "tuesday      25638\n",
       "monday       22714\n",
       "friday       19019\n",
       "thursday     17246\n",
       "saturday        39\n",
       "Name: appointment_weekday, dtype: int64"
      ]
     },
     "execution_count": 19,
     "metadata": {},
     "output_type": "execute_result"
    }
   ],
   "source": [
    "raw_data[\"appointment_weekday\"].value_counts()"
   ]
  },
  {
   "cell_type": "code",
   "execution_count": 20,
   "metadata": {},
   "outputs": [
    {
     "data": {
      "image/png": "[encoded data removed]",
      "text/plain": [
       "<Figure size 432x288 with 1 Axes>"
      ]
     },
     "metadata": {},
     "output_type": "display_data"
    }
   ],
   "source": [
    "fig = plt.figure(figsize=(6, 4))\n",
    "sns.countplot(x=\"appointment_weekday\", data=raw_data, palette=\"ocean\")\n",
    "plt.show()"
   ]
  },
  {
   "cell_type": "code",
   "execution_count": 21,
   "metadata": {},
   "outputs": [
    {
     "data": {
      "text/plain": [
       "count    110522.000000\n",
       "mean         37.089041\n",
       "std          23.110064\n",
       "min          -1.000000\n",
       "25%          18.000000\n",
       "50%          37.000000\n",
       "75%          55.000000\n",
       "max         115.000000\n",
       "Name: age, dtype: float64"
      ]
     },
     "execution_count": 21,
     "metadata": {},
     "output_type": "execute_result"
    }
   ],
   "source": [
    "raw_data[\"age\"].describe()"
   ]
  },
  {
   "cell_type": "code",
   "execution_count": 22,
   "metadata": {},
   "outputs": [
    {
     "name": "stdout",
     "output_type": "stream",
     "text": [
      "Rows: 110516\n",
      "Columns: 14\n"
     ]
    },
    {
     "data": {
      "text/plain": [
       "count    110516.000000\n",
       "mean         37.085861\n",
       "std          23.104465\n",
       "min           0.000000\n",
       "25%          18.000000\n",
       "50%          37.000000\n",
       "75%          55.000000\n",
       "max         102.000000\n",
       "Name: age, dtype: float64"
      ]
     },
     "execution_count": 22,
     "metadata": {},
     "output_type": "execute_result"
    }
   ],
   "source": [
    "# Drop values below zero and equal 115\n",
    "raw_data = raw_data[(raw_data[\"age\"] >= 0) & (raw_data[\"age\"] != 115)]\n",
    "print(\"Rows: {}\\nColumns: {}\".format(raw_data.shape[0], raw_data.shape[1]))\n",
    "raw_data[\"age\"].describe()"
   ]
  },
  {
   "cell_type": "code",
   "execution_count": 23,
   "metadata": {},
   "outputs": [
    {
     "data": {
      "image/png": "[encoded data removed]",
      "text/plain": [
       "<Figure size 576x288 with 1 Axes>"
      ]
     },
     "metadata": {},
     "output_type": "display_data"
    }
   ],
   "source": [
    "fig = plt.figure(figsize=(8, 4))\n",
    "sns.distplot(raw_data[\"age\"], bins=30)\n",
    "plt.show()"
   ]
  },
  {
   "cell_type": "code",
   "execution_count": 24,
   "metadata": {},
   "outputs": [
    {
     "data": {
      "image/png": "[encoded data removed]",
      "text/plain": [
       "<Figure size 576x288 with 1 Axes>"
      ]
     },
     "metadata": {},
     "output_type": "display_data"
    }
   ],
   "source": [
    "raw_data[\"sqrt_age\"] = np.sqrt(raw_data[\"age\"])\n",
    "fig = plt.figure(figsize=(8, 4))\n",
    "sns.distplot(raw_data[\"sqrt_age\"], bins=30)\n",
    "plt.show()"
   ]
  },
  {
   "cell_type": "code",
   "execution_count": 25,
   "metadata": {},
   "outputs": [
    {
     "data": {
      "text/plain": [
       "count     110516\n",
       "unique         3\n",
       "top        adult\n",
       "freq       68742\n",
       "Name: age_group, dtype: object"
      ]
     },
     "execution_count": 25,
     "metadata": {},
     "output_type": "execute_result"
    }
   ],
   "source": [
    "def age_groups(age):\n",
    "    if age < 18:\n",
    "        return \"child\"\n",
    "    elif (age >= 18) & (age < 65):\n",
    "        return \"adult\"\n",
    "    else:\n",
    "        return \"senior\"\n",
    "\n",
    "raw_data[\"age_group\"] = raw_data[\"age\"].apply(lambda x: age_groups(x)).astype(\"category\")\n",
    "raw_data[\"age_group\"].describe()"
   ]
  },
  {
   "cell_type": "code",
   "execution_count": 26,
   "metadata": {},
   "outputs": [
    {
     "data": {
      "text/plain": [
       "adult     68742\n",
       "child     27378\n",
       "senior    14396\n",
       "Name: age_group, dtype: int64"
      ]
     },
     "execution_count": 26,
     "metadata": {},
     "output_type": "execute_result"
    }
   ],
   "source": [
    "raw_data[\"age_group\"].value_counts()"
   ]
  },
  {
   "cell_type": "code",
   "execution_count": 27,
   "metadata": {},
   "outputs": [
    {
     "data": {
      "image/png": "[encoded data removed]",
      "text/plain": [
       "<Figure size 432x288 with 1 Axes>"
      ]
     },
     "metadata": {},
     "output_type": "display_data"
    }
   ],
   "source": [
    "fig = plt.figure(figsize=(6, 4))\n",
    "sns.countplot(x=\"age_group\", data=raw_data, palette=\"ocean\")\n",
    "plt.show()"
   ]
  },
  {
   "cell_type": "code",
   "execution_count": 28,
   "metadata": {},
   "outputs": [
    {
     "data": {
      "text/plain": [
       "count             110516\n",
       "unique                81\n",
       "top       JARDIM CAMBURI\n",
       "freq                7717\n",
       "Name: neighborhood, dtype: object"
      ]
     },
     "execution_count": 28,
     "metadata": {},
     "output_type": "execute_result"
    }
   ],
   "source": [
    "raw_data[\"neighborhood\"].describe()"
   ]
  },
  {
   "cell_type": "code",
   "execution_count": 29,
   "metadata": {},
   "outputs": [
    {
     "data": {
      "text/plain": [
       "JARDIM CAMBURI       7717\n",
       "MARIA ORTIZ          5805\n",
       "RESISTÊNCIA          4430\n",
       "JARDIM DA PENHA      3877\n",
       "ITARARÉ              3514\n",
       "CENTRO               3334\n",
       "TABUAZEIRO           3131\n",
       "SANTA MARTHA         3131\n",
       "JESUS DE NAZARETH    2853\n",
       "BONFIM               2773\n",
       "SANTO ANTÔNIO        2744\n",
       "SANTO ANDRÉ          2571\n",
       "CARATOÍRA            2565\n",
       "JABOUR               2509\n",
       "SÃO PEDRO            2448\n",
       "ILHA DO PRÍNCIPE     2266\n",
       "NOVA PALESTINA       2264\n",
       "ANDORINHAS           2258\n",
       "DA PENHA             2217\n",
       "ROMÃO                2214\n",
       "Name: neighborhood, dtype: int64"
      ]
     },
     "execution_count": 29,
     "metadata": {},
     "output_type": "execute_result"
    }
   ],
   "source": [
    "raw_data[\"neighborhood\"].value_counts().head(n=20)"
   ]
  },
  {
   "cell_type": "code",
   "execution_count": 30,
   "metadata": {},
   "outputs": [
    {
     "data": {
      "image/png": "[encoded data removed]",
      "text/plain": [
       "<Figure size 1152x576 with 1 Axes>"
      ]
     },
     "metadata": {},
     "output_type": "display_data"
    }
   ],
   "source": [
    "fig = plt.figure(figsize=(16, 8))\n",
    "sns.countplot(x=\"neighborhood\", data=raw_data, palette=\"plasma\")\n",
    "plt.xticks(rotation=90)\n",
    "plt.show()"
   ]
  },
  {
   "cell_type": "code",
   "execution_count": 31,
   "metadata": {},
   "outputs": [
    {
     "data": {
      "text/html": [
       "<div>\n",
       "<style scoped>\n",
       "    .dataframe tbody tr th:only-of-type {\n",
       "        vertical-align: middle;\n",
       "    }\n",
       "\n",
       "    .dataframe tbody tr th {\n",
       "        vertical-align: top;\n",
       "    }\n",
       "\n",
       "    .dataframe thead th {\n",
       "        text-align: right;\n",
       "    }\n",
       "</style>\n",
       "<table border=\"1\" class=\"dataframe\">\n",
       "  <thead>\n",
       "    <tr style=\"text-align: right;\">\n",
       "      <th></th>\n",
       "      <th>appointment_count</th>\n",
       "    </tr>\n",
       "    <tr>\n",
       "      <th>neighborhood</th>\n",
       "      <th></th>\n",
       "    </tr>\n",
       "  </thead>\n",
       "  <tbody>\n",
       "    <tr>\n",
       "      <th>AEROPORTO</th>\n",
       "      <td>8</td>\n",
       "    </tr>\n",
       "    <tr>\n",
       "      <th>ANDORINHAS</th>\n",
       "      <td>2258</td>\n",
       "    </tr>\n",
       "    <tr>\n",
       "      <th>ANTÔNIO HONÓRIO</th>\n",
       "      <td>271</td>\n",
       "    </tr>\n",
       "    <tr>\n",
       "      <th>ARIOVALDO FAVALESSA</th>\n",
       "      <td>282</td>\n",
       "    </tr>\n",
       "    <tr>\n",
       "      <th>BARRO VERMELHO</th>\n",
       "      <td>423</td>\n",
       "    </tr>\n",
       "  </tbody>\n",
       "</table>\n",
       "</div>"
      ],
      "text/plain": [
       "                     appointment_count\n",
       "neighborhood                          \n",
       "AEROPORTO                            8\n",
       "ANDORINHAS                        2258\n",
       "ANTÔNIO HONÓRIO                    271\n",
       "ARIOVALDO FAVALESSA                282\n",
       "BARRO VERMELHO                     423"
      ]
     },
     "execution_count": 31,
     "metadata": {},
     "output_type": "execute_result"
    }
   ],
   "source": [
    "# Create neighborhood aggregates\n",
    "neighborhood_count = pd.DataFrame(raw_data.groupby(\"neighborhood\").count()[\"no_show\"])\n",
    "neighborhood_count.columns = [\"appointment_count\"]\n",
    "neighborhood_count.head()"
   ]
  },
  {
   "cell_type": "code",
   "execution_count": 32,
   "metadata": {},
   "outputs": [
    {
     "data": {
      "text/html": [
       "<div>\n",
       "<style scoped>\n",
       "    .dataframe tbody tr th:only-of-type {\n",
       "        vertical-align: middle;\n",
       "    }\n",
       "\n",
       "    .dataframe tbody tr th {\n",
       "        vertical-align: top;\n",
       "    }\n",
       "\n",
       "    .dataframe thead th {\n",
       "        text-align: right;\n",
       "    }\n",
       "</style>\n",
       "<table border=\"1\" class=\"dataframe\">\n",
       "  <thead>\n",
       "    <tr style=\"text-align: right;\">\n",
       "      <th></th>\n",
       "      <th>appointment_count</th>\n",
       "      <th>neighborhood_volumes</th>\n",
       "    </tr>\n",
       "    <tr>\n",
       "      <th>neighborhood</th>\n",
       "      <th></th>\n",
       "      <th></th>\n",
       "    </tr>\n",
       "  </thead>\n",
       "  <tbody>\n",
       "    <tr>\n",
       "      <th>AEROPORTO</th>\n",
       "      <td>8</td>\n",
       "      <td>very low volume</td>\n",
       "    </tr>\n",
       "    <tr>\n",
       "      <th>ANDORINHAS</th>\n",
       "      <td>2258</td>\n",
       "      <td>high volume</td>\n",
       "    </tr>\n",
       "    <tr>\n",
       "      <th>ANTÔNIO HONÓRIO</th>\n",
       "      <td>271</td>\n",
       "      <td>very low volume</td>\n",
       "    </tr>\n",
       "    <tr>\n",
       "      <th>ARIOVALDO FAVALESSA</th>\n",
       "      <td>282</td>\n",
       "      <td>very low volume</td>\n",
       "    </tr>\n",
       "    <tr>\n",
       "      <th>BARRO VERMELHO</th>\n",
       "      <td>423</td>\n",
       "      <td>low volume</td>\n",
       "    </tr>\n",
       "  </tbody>\n",
       "</table>\n",
       "</div>"
      ],
      "text/plain": [
       "                     appointment_count neighborhood_volumes\n",
       "neighborhood                                               \n",
       "AEROPORTO                            8      very low volume\n",
       "ANDORINHAS                        2258          high volume\n",
       "ANTÔNIO HONÓRIO                    271      very low volume\n",
       "ARIOVALDO FAVALESSA                282      very low volume\n",
       "BARRO VERMELHO                     423           low volume"
      ]
     },
     "execution_count": 32,
     "metadata": {},
     "output_type": "execute_result"
    }
   ],
   "source": [
    "neighborhood_group_names = [\"very low volume\", \"low volume\", \"moderate volume\", \"high volume\", \"very high volume\"]\n",
    "neighborhood_count[\"neighborhood_volumes\"] = pd.qcut(neighborhood_count[\"appointment_count\"],\n",
    "                                                     5, neighborhood_group_names)\n",
    "neighborhood_count.head()"
   ]
  },
  {
   "cell_type": "code",
   "execution_count": 33,
   "metadata": {},
   "outputs": [
    {
     "data": {
      "text/plain": [
       "count               110516\n",
       "unique                   5\n",
       "top       very high volume\n",
       "freq                 55668\n",
       "Name: neighborhood_volumes, dtype: object"
      ]
     },
     "execution_count": 33,
     "metadata": {},
     "output_type": "execute_result"
    }
   ],
   "source": [
    "neighborhood_count.loc[\"JARDIM CAMBURI\", \"neighborhood_volumes\"]\n",
    "raw_data[\"neighborhood_volumes\"] = raw_data[\"neighborhood\"].apply(lambda x: neighborhood_count.loc[x, \"neighborhood_volumes\"]).astype(\"category\")\n",
    "raw_data[\"neighborhood_volumes\"].describe()"
   ]
  },
  {
   "cell_type": "code",
   "execution_count": 34,
   "metadata": {},
   "outputs": [
    {
     "data": {
      "text/plain": [
       "very high volume    55668\n",
       "high volume         29558\n",
       "moderate volume     15392\n",
       "low volume           7541\n",
       "very low volume      2357\n",
       "Name: neighborhood_volumes, dtype: int64"
      ]
     },
     "execution_count": 34,
     "metadata": {},
     "output_type": "execute_result"
    }
   ],
   "source": [
    "raw_data[\"neighborhood_volumes\"].value_counts()"
   ]
  },
  {
   "cell_type": "code",
   "execution_count": 35,
   "metadata": {},
   "outputs": [
    {
     "data": {
      "image/png": "[encoded data removed]",
      "text/plain": [
       "<Figure size 576x432 with 1 Axes>"
      ]
     },
     "metadata": {},
     "output_type": "display_data"
    }
   ],
   "source": [
    "fig = plt.figure(figsize=(8, 6))\n",
    "sns.countplot(x=\"neighborhood_volumes\", data=raw_data, palette=\"ocean\")\n",
    "plt.show()"
   ]
  },
  {
   "cell_type": "code",
   "execution_count": 36,
   "metadata": {},
   "outputs": [
    {
     "data": {
      "text/plain": [
       "count     110516\n",
       "unique         2\n",
       "top            0\n",
       "freq       99655\n",
       "Name: scholarship, dtype: int64"
      ]
     },
     "execution_count": 36,
     "metadata": {},
     "output_type": "execute_result"
    }
   ],
   "source": [
    "raw_data[\"scholarship\"].describe()"
   ]
  },
  {
   "cell_type": "code",
   "execution_count": 37,
   "metadata": {},
   "outputs": [
    {
     "data": {
      "text/plain": [
       "0    99655\n",
       "1    10861\n",
       "Name: scholarship, dtype: int64"
      ]
     },
     "execution_count": 37,
     "metadata": {},
     "output_type": "execute_result"
    }
   ],
   "source": [
    "raw_data[\"scholarship\"].value_counts()"
   ]
  },
  {
   "cell_type": "code",
   "execution_count": 38,
   "metadata": {},
   "outputs": [
    {
     "data": {
      "image/png": "[encoded data removed]",
      "text/plain": [
       "<Figure size 432x288 with 1 Axes>"
      ]
     },
     "metadata": {},
     "output_type": "display_data"
    }
   ],
   "source": [
    "fig = plt.figure(figsize=(6, 4))\n",
    "sns.countplot(x=\"scholarship\", data=raw_data, palette=\"ocean\")\n",
    "plt.show()"
   ]
  },
  {
   "cell_type": "code",
   "execution_count": 39,
   "metadata": {},
   "outputs": [
    {
     "data": {
      "text/plain": [
       "count     110516\n",
       "unique         2\n",
       "top            0\n",
       "freq       88716\n",
       "Name: hypertension, dtype: int64"
      ]
     },
     "execution_count": 39,
     "metadata": {},
     "output_type": "execute_result"
    }
   ],
   "source": [
    "raw_data[\"hypertension\"].describe()"
   ]
  },
  {
   "cell_type": "code",
   "execution_count": 40,
   "metadata": {},
   "outputs": [
    {
     "data": {
      "text/plain": [
       "0    88716\n",
       "1    21800\n",
       "Name: hypertension, dtype: int64"
      ]
     },
     "execution_count": 40,
     "metadata": {},
     "output_type": "execute_result"
    }
   ],
   "source": [
    "raw_data[\"hypertension\"].value_counts()"
   ]
  },
  {
   "cell_type": "code",
   "execution_count": 41,
   "metadata": {},
   "outputs": [
    {
     "data": {
      "image/png": "[encoded data removed]",
      "text/plain": [
       "<Figure size 432x288 with 1 Axes>"
      ]
     },
     "metadata": {},
     "output_type": "display_data"
    }
   ],
   "source": [
    "fig = plt.figure(figsize=(6, 4))\n",
    "sns.countplot(x=\"hypertension\", data=raw_data, palette=\"ocean\")\n",
    "plt.show()"
   ]
  },
  {
   "cell_type": "code",
   "execution_count": 42,
   "metadata": {},
   "outputs": [
    {
     "data": {
      "text/plain": [
       "count     110516\n",
       "unique         2\n",
       "top            0\n",
       "freq      102573\n",
       "Name: diabetes, dtype: int64"
      ]
     },
     "execution_count": 42,
     "metadata": {},
     "output_type": "execute_result"
    }
   ],
   "source": [
    "raw_data[\"diabetes\"].describe()"
   ]
  },
  {
   "cell_type": "code",
   "execution_count": 43,
   "metadata": {},
   "outputs": [
    {
     "data": {
      "text/plain": [
       "0    102573\n",
       "1      7943\n",
       "Name: diabetes, dtype: int64"
      ]
     },
     "execution_count": 43,
     "metadata": {},
     "output_type": "execute_result"
    }
   ],
   "source": [
    "raw_data[\"diabetes\"].value_counts()"
   ]
  },
  {
   "cell_type": "code",
   "execution_count": 44,
   "metadata": {},
   "outputs": [
    {
     "data": {
      "image/png": "[encoded data removed]",
      "text/plain": [
       "<Figure size 432x288 with 1 Axes>"
      ]
     },
     "metadata": {},
     "output_type": "display_data"
    }
   ],
   "source": [
    "fig = plt.figure(figsize=(6, 4))\n",
    "sns.countplot(x=\"diabetes\", data=raw_data, palette=\"ocean\")\n",
    "plt.show()"
   ]
  },
  {
   "cell_type": "code",
   "execution_count": 45,
   "metadata": {},
   "outputs": [
    {
     "data": {
      "text/plain": [
       "count     110516\n",
       "unique         2\n",
       "top            0\n",
       "freq      107156\n",
       "Name: alcoholism, dtype: int64"
      ]
     },
     "execution_count": 45,
     "metadata": {},
     "output_type": "execute_result"
    }
   ],
   "source": [
    "raw_data[\"alcoholism\"].describe()"
   ]
  },
  {
   "cell_type": "code",
   "execution_count": 46,
   "metadata": {},
   "outputs": [
    {
     "data": {
      "text/plain": [
       "0    107156\n",
       "1      3360\n",
       "Name: alcoholism, dtype: int64"
      ]
     },
     "execution_count": 46,
     "metadata": {},
     "output_type": "execute_result"
    }
   ],
   "source": [
    "raw_data[\"alcoholism\"].value_counts()"
   ]
  },
  {
   "cell_type": "code",
   "execution_count": 47,
   "metadata": {},
   "outputs": [
    {
     "data": {
      "image/png": "[encoded data removed]",
      "text/plain": [
       "<Figure size 432x288 with 1 Axes>"
      ]
     },
     "metadata": {},
     "output_type": "display_data"
    }
   ],
   "source": [
    "fig = plt.figure(figsize=(6, 4))\n",
    "sns.countplot(x=\"alcoholism\", data=raw_data, palette=\"ocean\")\n",
    "plt.show()"
   ]
  },
  {
   "cell_type": "code",
   "execution_count": 48,
   "metadata": {},
   "outputs": [
    {
     "data": {
      "text/plain": [
       "count     110516\n",
       "unique         5\n",
       "top            0\n",
       "freq      108281\n",
       "Name: handicap, dtype: int64"
      ]
     },
     "execution_count": 48,
     "metadata": {},
     "output_type": "execute_result"
    }
   ],
   "source": [
    "raw_data[\"handicap\"].describe()"
   ]
  },
  {
   "cell_type": "code",
   "execution_count": 49,
   "metadata": {},
   "outputs": [
    {
     "data": {
      "text/plain": [
       "0    108281\n",
       "1      2036\n",
       "2       183\n",
       "3        13\n",
       "4         3\n",
       "Name: handicap, dtype: int64"
      ]
     },
     "execution_count": 49,
     "metadata": {},
     "output_type": "execute_result"
    }
   ],
   "source": [
    "raw_data[\"handicap\"].value_counts()"
   ]
  },
  {
   "cell_type": "code",
   "execution_count": 50,
   "metadata": {},
   "outputs": [
    {
     "data": {
      "image/png": "[encoded data removed]",
      "text/plain": [
       "<Figure size 432x288 with 1 Axes>"
      ]
     },
     "metadata": {},
     "output_type": "display_data"
    }
   ],
   "source": [
    "fig = plt.figure(figsize=(6, 4))\n",
    "sns.countplot(x=\"handicap\", data=raw_data, palette=\"ocean\")\n",
    "plt.show()"
   ]
  },
  {
   "cell_type": "code",
   "execution_count": 51,
   "metadata": {},
   "outputs": [
    {
     "data": {
      "text/plain": [
       "0    108281\n",
       "1      2235\n",
       "Name: handicap, dtype: int64"
      ]
     },
     "execution_count": 51,
     "metadata": {},
     "output_type": "execute_result"
    }
   ],
   "source": [
    "raw_data[\"handicap\"] = raw_data[\"handicap\"].apply(lambda x: 0 if x == 0 else 1).astype(\"category\")\n",
    "raw_data[\"handicap\"].value_counts()"
   ]
  },
  {
   "cell_type": "code",
   "execution_count": 52,
   "metadata": {},
   "outputs": [
    {
     "data": {
      "image/png": "[encoded data removed]",
      "text/plain": [
       "<Figure size 432x288 with 1 Axes>"
      ]
     },
     "metadata": {},
     "output_type": "display_data"
    }
   ],
   "source": [
    "fig = plt.figure(figsize=(6, 4))\n",
    "sns.countplot(x=\"handicap\", data=raw_data, palette=\"ocean\")\n",
    "plt.show()"
   ]
  },
  {
   "cell_type": "code",
   "execution_count": 53,
   "metadata": {},
   "outputs": [
    {
     "data": {
      "text/plain": [
       "count     110516\n",
       "unique         2\n",
       "top            0\n",
       "freq       75035\n",
       "Name: sms_received, dtype: int64"
      ]
     },
     "execution_count": 53,
     "metadata": {},
     "output_type": "execute_result"
    }
   ],
   "source": [
    "raw_data[\"sms_received\"].describe()"
   ]
  },
  {
   "cell_type": "code",
   "execution_count": 54,
   "metadata": {},
   "outputs": [
    {
     "data": {
      "text/plain": [
       "0    75035\n",
       "1    35481\n",
       "Name: sms_received, dtype: int64"
      ]
     },
     "execution_count": 54,
     "metadata": {},
     "output_type": "execute_result"
    }
   ],
   "source": [
    "raw_data[\"sms_received\"].value_counts()"
   ]
  },
  {
   "cell_type": "code",
   "execution_count": 55,
   "metadata": {},
   "outputs": [
    {
     "data": {
      "image/png": "[encoded data removed]",
      "text/plain": [
       "<Figure size 432x288 with 1 Axes>"
      ]
     },
     "metadata": {},
     "output_type": "display_data"
    }
   ],
   "source": [
    "fig = plt.figure(figsize=(6, 4))\n",
    "sns.countplot(x=\"sms_received\", data=raw_data, palette=\"ocean\")\n",
    "plt.show()"
   ]
  },
  {
   "cell_type": "code",
   "execution_count": 56,
   "metadata": {
    "scrolled": true
   },
   "outputs": [
    {
     "data": {
      "text/plain": [
       "count     110516\n",
       "unique         2\n",
       "top           No\n",
       "freq       88205\n",
       "Name: no_show, dtype: object"
      ]
     },
     "execution_count": 56,
     "metadata": {},
     "output_type": "execute_result"
    }
   ],
   "source": [
    "raw_data[\"no_show\"].describe()"
   ]
  },
  {
   "cell_type": "code",
   "execution_count": 57,
   "metadata": {},
   "outputs": [
    {
     "data": {
      "text/plain": [
       "No     88205\n",
       "Yes    22311\n",
       "Name: no_show, dtype: int64"
      ]
     },
     "execution_count": 57,
     "metadata": {},
     "output_type": "execute_result"
    }
   ],
   "source": [
    "raw_data[\"no_show\"].value_counts()"
   ]
  },
  {
   "cell_type": "code",
   "execution_count": 58,
   "metadata": {},
   "outputs": [
    {
     "data": {
      "text/plain": [
       "0    88205\n",
       "1    22311\n",
       "Name: no_show, dtype: int64"
      ]
     },
     "execution_count": 58,
     "metadata": {},
     "output_type": "execute_result"
    }
   ],
   "source": [
    "# Change \"No\" to 0, and \"Yes\" to 1\n",
    "raw_data[\"no_show\"] = raw_data[\"no_show\"].apply(lambda x: 0 if x == \"No\" else 1).astype(\"category\")\n",
    "raw_data[\"no_show\"].value_counts()"
   ]
  },
  {
   "cell_type": "code",
   "execution_count": 59,
   "metadata": {},
   "outputs": [
    {
     "data": {
      "image/png": "[encoded data removed]",
      "text/plain": [
       "<Figure size 432x288 with 1 Axes>"
      ]
     },
     "metadata": {},
     "output_type": "display_data"
    }
   ],
   "source": [
    "fig = plt.figure(figsize=(6, 4))\n",
    "sns.countplot(x=\"no_show\", data=raw_data, palette=\"ocean\")\n",
    "plt.show()"
   ]
  },
  {
   "cell_type": "markdown",
   "metadata": {},
   "source": [
    "### Multivariate exploration"
   ]
  },
  {
   "cell_type": "code",
   "execution_count": 60,
   "metadata": {},
   "outputs": [
    {
     "data": {
      "image/png": "[encoded data removed]",
      "text/plain": [
       "<Figure size 432x288 with 2 Axes>"
      ]
     },
     "metadata": {},
     "output_type": "display_data"
    }
   ],
   "source": [
    "corr_mat = raw_data.corr()\n",
    "corr_mat\n",
    "\n",
    "sns.heatmap(data=corr_mat, vmax=0.9, vmin=-0.9, annot=True, cmap=\"coolwarm\",fmt='.2f', linewidths=.05)\n",
    "plt.show()"
   ]
  },
  {
   "cell_type": "code",
   "execution_count": 61,
   "metadata": {},
   "outputs": [
    {
     "data": {
      "image/png": "[encoded data removed]",
      "text/plain": [
       "<Figure size 540x540 with 12 Axes>"
      ]
     },
     "metadata": {},
     "output_type": "display_data"
    }
   ],
   "source": [
    "sns.pairplot(data=raw_data[[\"age\", \"scheduled_to_appointment\", \"sqrt_age\"]])\n",
    "plt.show()"
   ]
  },
  {
   "cell_type": "code",
   "execution_count": 62,
   "metadata": {
    "scrolled": false
   },
   "outputs": [
    {
     "data": {
      "image/png": "[encoded data removed]",
      "text/plain": [
       "<Figure size 432x432 with 3 Axes>"
      ]
     },
     "metadata": {},
     "output_type": "display_data"
    }
   ],
   "source": [
    "sns.jointplot(x=\"age\", y=\"scheduled_to_appointment\", data=raw_data, kind=\"reg\")\n",
    "plt.show()"
   ]
  },
  {
   "cell_type": "code",
   "execution_count": 63,
   "metadata": {
    "scrolled": true
   },
   "outputs": [
    {
     "data": {
      "image/png": "[encoded data removed]",
      "text/plain": [
       "<Figure size 432x288 with 1 Axes>"
      ]
     },
     "metadata": {},
     "output_type": "display_data"
    }
   ],
   "source": [
    "fig = plt.figure(figsize=(6, 4))\n",
    "sns.countplot(x=\"no_show\", hue=\"gender\", data=raw_data, palette=\"ocean\")\n",
    "plt.show()"
   ]
  },
  {
   "cell_type": "code",
   "execution_count": 64,
   "metadata": {},
   "outputs": [
    {
     "data": {
      "image/png": "[encoded data removed]",
      "text/plain": [
       "<Figure size 432x288 with 1 Axes>"
      ]
     },
     "metadata": {},
     "output_type": "display_data"
    }
   ],
   "source": [
    "fig = plt.figure(figsize=(6, 4))\n",
    "sns.countplot(x=\"no_show\", hue=\"appointment_weekday\", data=raw_data)\n",
    "plt.show()"
   ]
  },
  {
   "cell_type": "code",
   "execution_count": 65,
   "metadata": {},
   "outputs": [
    {
     "data": {
      "image/png": "[encoded data removed]",
      "text/plain": [
       "<Figure size 432x288 with 1 Axes>"
      ]
     },
     "metadata": {},
     "output_type": "display_data"
    }
   ],
   "source": [
    "fig = plt.figure(figsize=(6, 4))\n",
    "sns.countplot(x=\"no_show\", hue=\"age_group\", data=raw_data, palette=\"ocean\")\n",
    "plt.show()"
   ]
  },
  {
   "cell_type": "code",
   "execution_count": 66,
   "metadata": {},
   "outputs": [
    {
     "data": {
      "image/png": "[encoded data removed]",
      "text/plain": [
       "<Figure size 432x288 with 1 Axes>"
      ]
     },
     "metadata": {},
     "output_type": "display_data"
    }
   ],
   "source": [
    "fig = plt.figure(figsize=(6, 4))\n",
    "sns.countplot(x=\"no_show\", hue=\"neighborhood_volumes\", data=raw_data, palette=\"ocean\")\n",
    "plt.show()"
   ]
  },
  {
   "cell_type": "code",
   "execution_count": 67,
   "metadata": {},
   "outputs": [
    {
     "data": {
      "image/png": "[encoded data removed]",
      "text/plain": [
       "<Figure size 432x288 with 1 Axes>"
      ]
     },
     "metadata": {},
     "output_type": "display_data"
    }
   ],
   "source": [
    "fig = plt.figure(figsize=(6, 4))\n",
    "sns.countplot(x=\"no_show\", hue=\"scholarship\", data=raw_data, palette=\"ocean\")\n",
    "plt.show()"
   ]
  },
  {
   "cell_type": "code",
   "execution_count": 68,
   "metadata": {},
   "outputs": [
    {
     "data": {
      "image/png": "[encoded data removed]",
      "text/plain": [
       "<Figure size 432x288 with 1 Axes>"
      ]
     },
     "metadata": {},
     "output_type": "display_data"
    }
   ],
   "source": [
    "fig = plt.figure(figsize=(6, 4))\n",
    "sns.countplot(x=\"no_show\", hue=\"hypertension\", data=raw_data, palette=\"ocean\")\n",
    "plt.show()"
   ]
  },
  {
   "cell_type": "code",
   "execution_count": 69,
   "metadata": {},
   "outputs": [
    {
     "data": {
      "image/png": "[encoded data removed]",
      "text/plain": [
       "<Figure size 432x288 with 1 Axes>"
      ]
     },
     "metadata": {},
     "output_type": "display_data"
    }
   ],
   "source": [
    "fig = plt.figure(figsize=(6, 4))\n",
    "sns.countplot(x=\"no_show\", hue=\"diabetes\", data=raw_data, palette=\"ocean\")\n",
    "plt.show()"
   ]
  },
  {
   "cell_type": "code",
   "execution_count": 70,
   "metadata": {},
   "outputs": [
    {
     "data": {
      "image/png": "[encoded data removed]",
      "text/plain": [
       "<Figure size 432x288 with 1 Axes>"
      ]
     },
     "metadata": {},
     "output_type": "display_data"
    }
   ],
   "source": [
    "fig = plt.figure(figsize=(6, 4))\n",
    "sns.countplot(x=\"no_show\", hue=\"alcoholism\", data=raw_data, palette=\"ocean\")\n",
    "plt.show()"
   ]
  },
  {
   "cell_type": "code",
   "execution_count": 71,
   "metadata": {},
   "outputs": [
    {
     "data": {
      "image/png": "[encoded data removed]",
      "text/plain": [
       "<Figure size 432x288 with 1 Axes>"
      ]
     },
     "metadata": {},
     "output_type": "display_data"
    }
   ],
   "source": [
    "fig = plt.figure(figsize=(6, 4))\n",
    "sns.countplot(x=\"no_show\", hue=\"handicap\", data=raw_data, palette=\"ocean\")\n",
    "plt.show()"
   ]
  },
  {
   "cell_type": "code",
   "execution_count": 72,
   "metadata": {},
   "outputs": [
    {
     "data": {
      "image/png": "[encoded data removed]",
      "text/plain": [
       "<Figure size 432x288 with 1 Axes>"
      ]
     },
     "metadata": {},
     "output_type": "display_data"
    }
   ],
   "source": [
    "fig = plt.figure(figsize=(6, 4))\n",
    "sns.countplot(x=\"no_show\", hue=\"sms_received\", data=raw_data, palette=\"ocean\")\n",
    "plt.show()"
   ]
  },
  {
   "cell_type": "code",
   "execution_count": 73,
   "metadata": {},
   "outputs": [
    {
     "data": {
      "image/png": "[encoded data removed]",
      "text/plain": [
       "<Figure size 576x432 with 1 Axes>"
      ]
     },
     "metadata": {},
     "output_type": "display_data"
    }
   ],
   "source": [
    "fig = plt.figure(figsize=(8, 6))\n",
    "sns.boxplot(x=\"no_show\", y=\"age\", hue=\"gender\", data=raw_data, palette=\"ocean\")\n",
    "plt.show()"
   ]
  },
  {
   "cell_type": "code",
   "execution_count": 74,
   "metadata": {},
   "outputs": [
    {
     "data": {
      "image/png": "[encoded data removed]",
      "text/plain": [
       "<Figure size 576x432 with 1 Axes>"
      ]
     },
     "metadata": {},
     "output_type": "display_data"
    }
   ],
   "source": [
    "fig = plt.figure(figsize=(8, 6))\n",
    "sns.boxplot(x=\"no_show\", y=\"scheduled_to_appointment\", data=raw_data, palette=\"ocean\")\n",
    "plt.show()"
   ]
  },
  {
   "cell_type": "code",
   "execution_count": 75,
   "metadata": {},
   "outputs": [
    {
     "data": {
      "text/plain": [
       "count    110516.000000\n",
       "mean         10.184272\n",
       "std          15.255201\n",
       "min           0.000000\n",
       "25%           0.000000\n",
       "50%           4.000000\n",
       "75%          15.000000\n",
       "max         179.000000\n",
       "Name: scheduled_to_appointment, dtype: float64"
      ]
     },
     "execution_count": 75,
     "metadata": {},
     "output_type": "execute_result"
    }
   ],
   "source": [
    "raw_data[\"scheduled_to_appointment\"].describe()"
   ]
  },
  {
   "cell_type": "code",
   "execution_count": 76,
   "metadata": {},
   "outputs": [
    {
     "data": {
      "text/plain": [
       "22.5"
      ]
     },
     "execution_count": 76,
     "metadata": {},
     "output_type": "execute_result"
    }
   ],
   "source": [
    "iqr = raw_data[\"scheduled_to_appointment\"].describe()[\"75%\"] - raw_data[\"scheduled_to_appointment\"].describe()[\"25%\"]\n",
    "upper_outliers = 1.5 * iqr\n",
    "upper_outliers"
   ]
  },
  {
   "cell_type": "code",
   "execution_count": 77,
   "metadata": {},
   "outputs": [
    {
     "data": {
      "text/plain": [
       "count    92815.000000\n",
       "mean         4.778096\n",
       "std          6.199357\n",
       "min          0.000000\n",
       "25%          0.000000\n",
       "50%          2.000000\n",
       "75%          7.000000\n",
       "max         22.000000\n",
       "Name: scheduled_to_appointment, dtype: float64"
      ]
     },
     "execution_count": 77,
     "metadata": {},
     "output_type": "execute_result"
    }
   ],
   "source": [
    "sans_outliers = raw_data[raw_data[\"scheduled_to_appointment\"] < upper_outliers]\n",
    "sans_outliers[\"scheduled_to_appointment\"].describe()"
   ]
  },
  {
   "cell_type": "code",
   "execution_count": 78,
   "metadata": {},
   "outputs": [
    {
     "data": {
      "image/png": "[encoded data removed]",
      "text/plain": [
       "<Figure size 576x432 with 1 Axes>"
      ]
     },
     "metadata": {},
     "output_type": "display_data"
    }
   ],
   "source": [
    "fig = plt.figure(figsize=(8, 6))\n",
    "sns.boxplot(x=\"no_show\", y=\"scheduled_to_appointment\", data=sans_outliers, palette=\"ocean\")\n",
    "plt.show()"
   ]
  },
  {
   "cell_type": "code",
   "execution_count": 79,
   "metadata": {},
   "outputs": [
    {
     "data": {
      "image/png": "[encoded data removed]",
      "text/plain": [
       "<Figure size 576x432 with 1 Axes>"
      ]
     },
     "metadata": {},
     "output_type": "display_data"
    }
   ],
   "source": [
    "fig = plt.figure(figsize=(8, 6))\n",
    "sns.boxplot(x=\"no_show\", y=\"scheduled_to_appointment\", hue=\"sms_received\", data=sans_outliers, palette=\"ocean\")\n",
    "plt.show()"
   ]
  },
  {
   "cell_type": "code",
   "execution_count": 80,
   "metadata": {},
   "outputs": [
    {
     "data": {
      "text/plain": [
       "count     110516\n",
       "unique         2\n",
       "top            0\n",
       "freq       71955\n",
       "Name: same_day_appointment, dtype: int64"
      ]
     },
     "execution_count": 80,
     "metadata": {},
     "output_type": "execute_result"
    }
   ],
   "source": [
    "raw_data[\"same_day_appointment\"] = raw_data[\"scheduled_to_appointment\"].apply(lambda x: 1 if x == 0 else 0).astype(\"category\")\n",
    "raw_data[\"same_day_appointment\"].describe()"
   ]
  },
  {
   "cell_type": "code",
   "execution_count": 81,
   "metadata": {},
   "outputs": [
    {
     "data": {
      "text/plain": [
       "0    71955\n",
       "1    38561\n",
       "Name: same_day_appointment, dtype: int64"
      ]
     },
     "execution_count": 81,
     "metadata": {},
     "output_type": "execute_result"
    }
   ],
   "source": [
    "raw_data[\"same_day_appointment\"].value_counts()"
   ]
  },
  {
   "cell_type": "code",
   "execution_count": 82,
   "metadata": {},
   "outputs": [
    {
     "data": {
      "image/png": "[encoded data removed]",
      "text/plain": [
       "<Figure size 432x288 with 1 Axes>"
      ]
     },
     "metadata": {},
     "output_type": "display_data"
    }
   ],
   "source": [
    "fig = plt.figure(figsize=(6, 4))\n",
    "sns.countplot(x=\"same_day_appointment\", data=raw_data, palette=\"ocean\")\n",
    "plt.show()"
   ]
  },
  {
   "cell_type": "code",
   "execution_count": 83,
   "metadata": {},
   "outputs": [
    {
     "data": {
      "image/png": "[encoded data removed]",
      "text/plain": [
       "<Figure size 432x288 with 1 Axes>"
      ]
     },
     "metadata": {},
     "output_type": "display_data"
    }
   ],
   "source": [
    "fig = plt.figure(figsize=(6, 4))\n",
    "sns.countplot(x=\"no_show\", hue=\"same_day_appointment\", data=raw_data, palette=\"ocean\")\n",
    "plt.show()"
   ]
  },
  {
   "cell_type": "code",
   "execution_count": 84,
   "metadata": {},
   "outputs": [
    {
     "data": {
      "image/png": "[encoded data removed]",
      "text/plain": [
       "<Figure size 432x288 with 1 Axes>"
      ]
     },
     "metadata": {},
     "output_type": "display_data"
    }
   ],
   "source": [
    "fig = plt.figure(figsize=(6, 4))\n",
    "sns.countplot(x=\"same_day_appointment\", hue=\"no_show\", data=raw_data, palette=\"ocean\")\n",
    "plt.show()"
   ]
  },
  {
   "cell_type": "code",
   "execution_count": 85,
   "metadata": {
    "scrolled": true
   },
   "outputs": [
    {
     "data": {
      "text/plain": [
       "0    0.953528\n",
       "1    0.046472\n",
       "Name: no_show, dtype: float64"
      ]
     },
     "execution_count": 85,
     "metadata": {},
     "output_type": "execute_result"
    }
   ],
   "source": [
    "raw_data[raw_data[\"same_day_appointment\"] == 1][\"no_show\"].value_counts(normalize=True)"
   ]
  },
  {
   "cell_type": "code",
   "execution_count": 86,
   "metadata": {},
   "outputs": [
    {
     "data": {
      "text/plain": [
       "0    0.714836\n",
       "1    0.285164\n",
       "Name: no_show, dtype: float64"
      ]
     },
     "execution_count": 86,
     "metadata": {},
     "output_type": "execute_result"
    }
   ],
   "source": [
    "raw_data[raw_data[\"same_day_appointment\"] == 0][\"no_show\"].value_counts(normalize=True)"
   ]
  },
  {
   "cell_type": "markdown",
   "metadata": {},
   "source": [
    "## Model preperation"
   ]
  },
  {
   "cell_type": "code",
   "execution_count": 106,
   "metadata": {},
   "outputs": [
    {
     "name": "stdout",
     "output_type": "stream",
     "text": [
      "<class 'pandas.core.frame.DataFrame'>\n",
      "Int64Index: 110516 entries, 0 to 110526\n",
      "Data columns (total 20 columns):\n",
      "scheduled_to_appointment                 110516 non-null int64\n",
      "gender_M                                 110516 non-null uint8\n",
      "age_group_child                          110516 non-null uint8\n",
      "age_group_senior                         110516 non-null uint8\n",
      "scholarship_1                            110516 non-null uint8\n",
      "hypertension_1                           110516 non-null uint8\n",
      "diabetes_1                               110516 non-null uint8\n",
      "alcoholism_1                             110516 non-null uint8\n",
      "handicap_1                               110516 non-null uint8\n",
      "sms_received_1                           110516 non-null uint8\n",
      "neighborhood_volumes_low volume          110516 non-null uint8\n",
      "neighborhood_volumes_moderate volume     110516 non-null uint8\n",
      "neighborhood_volumes_very high volume    110516 non-null uint8\n",
      "neighborhood_volumes_very low volume     110516 non-null uint8\n",
      "appointment_weekday_monday               110516 non-null uint8\n",
      "appointment_weekday_saturday             110516 non-null uint8\n",
      "appointment_weekday_thursday             110516 non-null uint8\n",
      "appointment_weekday_tuesday              110516 non-null uint8\n",
      "appointment_weekday_wednesday            110516 non-null uint8\n",
      "same_day_appointment_1                   110516 non-null uint8\n",
      "dtypes: int64(1), uint8(19)\n",
      "memory usage: 8.7 MB\n"
     ]
    }
   ],
   "source": [
    "features = raw_data[[\"gender\", \"age_group\", \"scholarship\", \"hypertension\", \"diabetes\", \"alcoholism\",\n",
    "                     \"handicap\", \"sms_received\", \"neighborhood_volumes\", \"appointment_weekday\",\n",
    "                    \"scheduled_to_appointment\", \"same_day_appointment\"]]\n",
    "target = raw_data[\"no_show\"]\n",
    "features = pd.get_dummies(features, drop_first=True)\n",
    "features.info()"
   ]
  },
  {
   "cell_type": "code",
   "execution_count": 107,
   "metadata": {},
   "outputs": [],
   "source": [
    "X_train, X_test, y_train, y_test = train_test_split(features, target, test_size=0.10)"
   ]
  },
  {
   "cell_type": "markdown",
   "metadata": {},
   "source": [
    "## Run models: First Pass (no tuning)"
   ]
  },
  {
   "cell_type": "code",
   "execution_count": 108,
   "metadata": {},
   "outputs": [],
   "source": [
    "def run_model(model, results, X_train, y_train, X_test, y_test, cv=10):\n",
    "    start_time = time.time()\n",
    "    mod = model\n",
    "    results[\"model\"].append(str(mod.__class__).split(\".\")[-1])\n",
    "    mod.fit(X_train, y_train)\n",
    "    y_pred = mod.predict(X_test)\n",
    "    \n",
    "    acc_scores = cross_val_score(mod, X_train, y_train, cv=cv)\n",
    "    results[\"mean_acc_score\"].append(np.mean(acc_scores))\n",
    "    results[\"std_acc_score\"].append(np.std(acc_scores))\n",
    "    conf_mat = confusion_matrix(y_test, y_pred)\n",
    "    results[\"true_positives\"].append(conf_mat[0, 0])\n",
    "    results[\"true_negatives\"].append(conf_mat[1, 1])\n",
    "    results[\"false_postives\"].append(conf_mat[0, 1])\n",
    "    results[\"false_negatives\"].append(conf_mat[1, 0])\n",
    "    results[\"precision\"].append(precision_score(y_test, y_pred))\n",
    "    results[\"recall\"].append(recall_score(y_test, y_pred))\n",
    "    results[\"f-score\"].append(f1_score(y_test, y_pred))\n",
    "    results[\"runtime\"].append(time.time() - start_time)"
   ]
  },
  {
   "cell_type": "code",
   "execution_count": 109,
   "metadata": {},
   "outputs": [],
   "source": [
    "#models = [SVC()]\n",
    "models = [GaussianNB(), KNeighborsClassifier(), DecisionTreeClassifier(max_depth=5),\n",
    "          RandomForestClassifier(n_estimators=50, max_depth=5),\n",
    "          LogisticRegression(C=1000), GradientBoostingClassifier(n_estimators=500, max_depth=2, loss=\"deviance\")]\n",
    "\n",
    "results = {\"model\": [], \"mean_acc_score\": [], \"std_acc_score\": [], \"true_positives\": [],\n",
    "           \"true_negatives\": [], \"false_postives\": [], \"false_negatives\": [],\n",
    "           \"precision\": [], \"recall\": [], \"f-score\": [], \"runtime\": []}"
   ]
  },
  {
   "cell_type": "code",
   "execution_count": 110,
   "metadata": {
    "scrolled": true
   },
   "outputs": [
    {
     "data": {
      "text/plain": [
       "0    0.79812\n",
       "1    0.20188\n",
       "Name: no_show, dtype: float64"
      ]
     },
     "execution_count": 110,
     "metadata": {},
     "output_type": "execute_result"
    }
   ],
   "source": [
    "# Base accuracy rate\n",
    "raw_data[\"no_show\"].value_counts(normalize=True)"
   ]
  },
  {
   "cell_type": "code",
   "execution_count": 111,
   "metadata": {
    "scrolled": false
   },
   "outputs": [],
   "source": [
    "for model in models:\n",
    "    run_model(model, results, X_train, y_train, X_test, y_test, cv=10)"
   ]
  },
  {
   "cell_type": "code",
   "execution_count": 112,
   "metadata": {
    "scrolled": true
   },
   "outputs": [],
   "source": [
    "results_df = pd.DataFrame(results)\n",
    "results_df = results_df[[\"model\", \"mean_acc_score\", \"std_acc_score\", \"true_positives\",\n",
    "           \"true_negatives\", \"false_postives\", \"false_negatives\", \"precision\",\n",
    "           \"recall\", \"f-score\", \"runtime\"]]"
   ]
  },
  {
   "cell_type": "code",
   "execution_count": 113,
   "metadata": {},
   "outputs": [
    {
     "data": {
      "text/html": [
       "<div>\n",
       "<style scoped>\n",
       "    .dataframe tbody tr th:only-of-type {\n",
       "        vertical-align: middle;\n",
       "    }\n",
       "\n",
       "    .dataframe tbody tr th {\n",
       "        vertical-align: top;\n",
       "    }\n",
       "\n",
       "    .dataframe thead th {\n",
       "        text-align: right;\n",
       "    }\n",
       "</style>\n",
       "<table border=\"1\" class=\"dataframe\">\n",
       "  <thead>\n",
       "    <tr style=\"text-align: right;\">\n",
       "      <th></th>\n",
       "      <th>model</th>\n",
       "      <th>mean_acc_score</th>\n",
       "      <th>std_acc_score</th>\n",
       "      <th>true_positives</th>\n",
       "      <th>true_negatives</th>\n",
       "      <th>false_postives</th>\n",
       "      <th>false_negatives</th>\n",
       "      <th>precision</th>\n",
       "      <th>recall</th>\n",
       "      <th>f-score</th>\n",
       "      <th>runtime</th>\n",
       "    </tr>\n",
       "  </thead>\n",
       "  <tbody>\n",
       "    <tr>\n",
       "      <th>0</th>\n",
       "      <td>GaussianNB'&gt;</td>\n",
       "      <td>0.711986</td>\n",
       "      <td>0.006839</td>\n",
       "      <td>7055</td>\n",
       "      <td>858</td>\n",
       "      <td>1781</td>\n",
       "      <td>1358</td>\n",
       "      <td>0.325123</td>\n",
       "      <td>0.387184</td>\n",
       "      <td>0.353450</td>\n",
       "      <td>0.857704</td>\n",
       "    </tr>\n",
       "    <tr>\n",
       "      <th>1</th>\n",
       "      <td>KNeighborsClassifier'&gt;</td>\n",
       "      <td>0.765161</td>\n",
       "      <td>0.003846</td>\n",
       "      <td>8065</td>\n",
       "      <td>394</td>\n",
       "      <td>771</td>\n",
       "      <td>1822</td>\n",
       "      <td>0.338197</td>\n",
       "      <td>0.177798</td>\n",
       "      <td>0.233067</td>\n",
       "      <td>71.336311</td>\n",
       "    </tr>\n",
       "    <tr>\n",
       "      <th>2</th>\n",
       "      <td>DecisionTreeClassifier'&gt;</td>\n",
       "      <td>0.797987</td>\n",
       "      <td>0.000273</td>\n",
       "      <td>8832</td>\n",
       "      <td>6</td>\n",
       "      <td>4</td>\n",
       "      <td>2210</td>\n",
       "      <td>0.600000</td>\n",
       "      <td>0.002708</td>\n",
       "      <td>0.005391</td>\n",
       "      <td>1.320177</td>\n",
       "    </tr>\n",
       "    <tr>\n",
       "      <th>3</th>\n",
       "      <td>RandomForestClassifier'&gt;</td>\n",
       "      <td>0.797967</td>\n",
       "      <td>0.000039</td>\n",
       "      <td>8836</td>\n",
       "      <td>0</td>\n",
       "      <td>0</td>\n",
       "      <td>2216</td>\n",
       "      <td>0.000000</td>\n",
       "      <td>0.000000</td>\n",
       "      <td>0.000000</td>\n",
       "      <td>14.419441</td>\n",
       "    </tr>\n",
       "    <tr>\n",
       "      <th>4</th>\n",
       "      <td>LogisticRegression'&gt;</td>\n",
       "      <td>0.797867</td>\n",
       "      <td>0.000316</td>\n",
       "      <td>8833</td>\n",
       "      <td>2</td>\n",
       "      <td>3</td>\n",
       "      <td>2214</td>\n",
       "      <td>0.400000</td>\n",
       "      <td>0.000903</td>\n",
       "      <td>0.001801</td>\n",
       "      <td>3.276539</td>\n",
       "    </tr>\n",
       "    <tr>\n",
       "      <th>5</th>\n",
       "      <td>GradientBoostingClassifier'&gt;</td>\n",
       "      <td>0.798007</td>\n",
       "      <td>0.000394</td>\n",
       "      <td>8831</td>\n",
       "      <td>7</td>\n",
       "      <td>5</td>\n",
       "      <td>2209</td>\n",
       "      <td>0.583333</td>\n",
       "      <td>0.003159</td>\n",
       "      <td>0.006284</td>\n",
       "      <td>213.918880</td>\n",
       "    </tr>\n",
       "  </tbody>\n",
       "</table>\n",
       "</div>"
      ],
      "text/plain": [
       "                          model  mean_acc_score  std_acc_score  \\\n",
       "0                  GaussianNB'>        0.711986       0.006839   \n",
       "1        KNeighborsClassifier'>        0.765161       0.003846   \n",
       "2      DecisionTreeClassifier'>        0.797987       0.000273   \n",
       "3      RandomForestClassifier'>        0.797967       0.000039   \n",
       "4          LogisticRegression'>        0.797867       0.000316   \n",
       "5  GradientBoostingClassifier'>        0.798007       0.000394   \n",
       "\n",
       "   true_positives  true_negatives  false_postives  false_negatives  precision  \\\n",
       "0            7055             858            1781             1358   0.325123   \n",
       "1            8065             394             771             1822   0.338197   \n",
       "2            8832               6               4             2210   0.600000   \n",
       "3            8836               0               0             2216   0.000000   \n",
       "4            8833               2               3             2214   0.400000   \n",
       "5            8831               7               5             2209   0.583333   \n",
       "\n",
       "     recall   f-score     runtime  \n",
       "0  0.387184  0.353450    0.857704  \n",
       "1  0.177798  0.233067   71.336311  \n",
       "2  0.002708  0.005391    1.320177  \n",
       "3  0.000000  0.000000   14.419441  \n",
       "4  0.000903  0.001801    3.276539  \n",
       "5  0.003159  0.006284  213.918880  "
      ]
     },
     "execution_count": 113,
     "metadata": {},
     "output_type": "execute_result"
    }
   ],
   "source": [
    "results_df"
   ]
  },
  {
   "cell_type": "markdown",
   "metadata": {},
   "source": [
    "## Run models: Second Pass (undersampling, no tuning)"
   ]
  },
  {
   "cell_type": "code",
   "execution_count": 114,
   "metadata": {},
   "outputs": [
    {
     "data": {
      "text/plain": [
       "0    88205\n",
       "1        0\n",
       "Name: no_show, dtype: int64"
      ]
     },
     "execution_count": 114,
     "metadata": {},
     "output_type": "execute_result"
    }
   ],
   "source": [
    "df_no_show_false = raw_data[raw_data[\"no_show\"] == 0]\n",
    "df_no_show_false[\"no_show\"].value_counts()"
   ]
  },
  {
   "cell_type": "code",
   "execution_count": 115,
   "metadata": {},
   "outputs": [
    {
     "data": {
      "text/plain": [
       "1    22311\n",
       "0        0\n",
       "Name: no_show, dtype: int64"
      ]
     },
     "execution_count": 115,
     "metadata": {},
     "output_type": "execute_result"
    }
   ],
   "source": [
    "df_no_show_true = raw_data[raw_data[\"no_show\"] == 1]\n",
    "df_no_show_true[\"no_show\"].value_counts()"
   ]
  },
  {
   "cell_type": "code",
   "execution_count": 116,
   "metadata": {},
   "outputs": [
    {
     "data": {
      "text/plain": [
       "0    22311\n",
       "1        0\n",
       "Name: no_show, dtype: int64"
      ]
     },
     "execution_count": 116,
     "metadata": {},
     "output_type": "execute_result"
    }
   ],
   "source": [
    "df_sample = df_no_show_false.sample(n=22311)\n",
    "df_sample[\"no_show\"].value_counts()"
   ]
  },
  {
   "cell_type": "code",
   "execution_count": 117,
   "metadata": {},
   "outputs": [
    {
     "data": {
      "text/plain": [
       "1    22311\n",
       "0    22311\n",
       "Name: no_show, dtype: int64"
      ]
     },
     "execution_count": 117,
     "metadata": {},
     "output_type": "execute_result"
    }
   ],
   "source": [
    "df_sample = pd.concat([df_no_show_true, df_sample])\n",
    "df_sample[\"no_show\"].value_counts()"
   ]
  },
  {
   "cell_type": "code",
   "execution_count": 118,
   "metadata": {},
   "outputs": [
    {
     "name": "stdout",
     "output_type": "stream",
     "text": [
      "<class 'pandas.core.frame.DataFrame'>\n",
      "Int64Index: 44622 entries, 6 to 63834\n",
      "Data columns (total 20 columns):\n",
      "scheduled_to_appointment                 44622 non-null int64\n",
      "gender_M                                 44622 non-null uint8\n",
      "age_group_child                          44622 non-null uint8\n",
      "age_group_senior                         44622 non-null uint8\n",
      "scholarship_1                            44622 non-null uint8\n",
      "hypertension_1                           44622 non-null uint8\n",
      "diabetes_1                               44622 non-null uint8\n",
      "alcoholism_1                             44622 non-null uint8\n",
      "handicap_1                               44622 non-null uint8\n",
      "sms_received_1                           44622 non-null uint8\n",
      "neighborhood_volumes_low volume          44622 non-null uint8\n",
      "neighborhood_volumes_moderate volume     44622 non-null uint8\n",
      "neighborhood_volumes_very high volume    44622 non-null uint8\n",
      "neighborhood_volumes_very low volume     44622 non-null uint8\n",
      "appointment_weekday_monday               44622 non-null uint8\n",
      "appointment_weekday_saturday             44622 non-null uint8\n",
      "appointment_weekday_thursday             44622 non-null uint8\n",
      "appointment_weekday_tuesday              44622 non-null uint8\n",
      "appointment_weekday_wednesday            44622 non-null uint8\n",
      "same_day_appointment_1                   44622 non-null uint8\n",
      "dtypes: int64(1), uint8(19)\n",
      "memory usage: 1.5 MB\n"
     ]
    }
   ],
   "source": [
    "features = df_sample[[\"gender\", \"age_group\", \"scholarship\", \"hypertension\", \"diabetes\", \"alcoholism\",\n",
    "                     \"handicap\", \"sms_received\", \"neighborhood_volumes\", \"appointment_weekday\",\n",
    "                    \"scheduled_to_appointment\", \"same_day_appointment\"]]\n",
    "target = df_sample[\"no_show\"]\n",
    "features = pd.get_dummies(features, drop_first=True)\n",
    "features.info()"
   ]
  },
  {
   "cell_type": "code",
   "execution_count": 119,
   "metadata": {},
   "outputs": [
    {
     "data": {
      "text/plain": [
       "1    0.5\n",
       "0    0.5\n",
       "Name: no_show, dtype: float64"
      ]
     },
     "execution_count": 119,
     "metadata": {},
     "output_type": "execute_result"
    }
   ],
   "source": [
    "df_sample[\"no_show\"].value_counts(normalize=True)"
   ]
  },
  {
   "cell_type": "code",
   "execution_count": 120,
   "metadata": {},
   "outputs": [],
   "source": [
    "X_train, X_test, y_train, y_test = train_test_split(features, target, test_size=0.10)"
   ]
  },
  {
   "cell_type": "code",
   "execution_count": 121,
   "metadata": {},
   "outputs": [],
   "source": [
    "results = {\"model\": [], \"mean_acc_score\": [], \"std_acc_score\": [], \"true_positives\": [],\n",
    "           \"true_negatives\": [], \"false_postives\": [], \"false_negatives\": [],\n",
    "           \"precision\": [], \"recall\": [], \"f-score\": [], \"runtime\": []}\n",
    "\n",
    "for model in models:\n",
    "    run_model(model, results, X_train, y_train, X_test, y_test, cv=10)"
   ]
  },
  {
   "cell_type": "code",
   "execution_count": 122,
   "metadata": {},
   "outputs": [],
   "source": [
    "results_df_us = pd.DataFrame(results)\n",
    "results_df_us = results_df_us[[\"model\", \"mean_acc_score\", \"std_acc_score\", \"true_positives\",\n",
    "           \"true_negatives\", \"false_postives\", \"false_negatives\", \"precision\",\n",
    "           \"recall\", \"f-score\", \"runtime\"]]"
   ]
  },
  {
   "cell_type": "code",
   "execution_count": 123,
   "metadata": {},
   "outputs": [
    {
     "data": {
      "text/html": [
       "<div>\n",
       "<style scoped>\n",
       "    .dataframe tbody tr th:only-of-type {\n",
       "        vertical-align: middle;\n",
       "    }\n",
       "\n",
       "    .dataframe tbody tr th {\n",
       "        vertical-align: top;\n",
       "    }\n",
       "\n",
       "    .dataframe thead th {\n",
       "        text-align: right;\n",
       "    }\n",
       "</style>\n",
       "<table border=\"1\" class=\"dataframe\">\n",
       "  <thead>\n",
       "    <tr style=\"text-align: right;\">\n",
       "      <th></th>\n",
       "      <th>model</th>\n",
       "      <th>mean_acc_score</th>\n",
       "      <th>std_acc_score</th>\n",
       "      <th>true_positives</th>\n",
       "      <th>true_negatives</th>\n",
       "      <th>false_postives</th>\n",
       "      <th>false_negatives</th>\n",
       "      <th>precision</th>\n",
       "      <th>recall</th>\n",
       "      <th>f-score</th>\n",
       "      <th>runtime</th>\n",
       "    </tr>\n",
       "  </thead>\n",
       "  <tbody>\n",
       "    <tr>\n",
       "      <th>0</th>\n",
       "      <td>GaussianNB'&gt;</td>\n",
       "      <td>0.663861</td>\n",
       "      <td>0.009265</td>\n",
       "      <td>1214</td>\n",
       "      <td>1786</td>\n",
       "      <td>991</td>\n",
       "      <td>472</td>\n",
       "      <td>0.643140</td>\n",
       "      <td>0.790965</td>\n",
       "      <td>0.709434</td>\n",
       "      <td>0.355459</td>\n",
       "    </tr>\n",
       "    <tr>\n",
       "      <th>1</th>\n",
       "      <td>KNeighborsClassifier'&gt;</td>\n",
       "      <td>0.630718</td>\n",
       "      <td>0.010090</td>\n",
       "      <td>1320</td>\n",
       "      <td>1486</td>\n",
       "      <td>885</td>\n",
       "      <td>772</td>\n",
       "      <td>0.626740</td>\n",
       "      <td>0.658105</td>\n",
       "      <td>0.642039</td>\n",
       "      <td>8.450445</td>\n",
       "    </tr>\n",
       "    <tr>\n",
       "      <th>2</th>\n",
       "      <td>DecisionTreeClassifier'&gt;</td>\n",
       "      <td>0.671754</td>\n",
       "      <td>0.008960</td>\n",
       "      <td>1134</td>\n",
       "      <td>1867</td>\n",
       "      <td>1071</td>\n",
       "      <td>391</td>\n",
       "      <td>0.635466</td>\n",
       "      <td>0.826838</td>\n",
       "      <td>0.718630</td>\n",
       "      <td>0.511926</td>\n",
       "    </tr>\n",
       "    <tr>\n",
       "      <th>3</th>\n",
       "      <td>RandomForestClassifier'&gt;</td>\n",
       "      <td>0.670982</td>\n",
       "      <td>0.008120</td>\n",
       "      <td>959</td>\n",
       "      <td>2045</td>\n",
       "      <td>1246</td>\n",
       "      <td>213</td>\n",
       "      <td>0.621392</td>\n",
       "      <td>0.905669</td>\n",
       "      <td>0.737070</td>\n",
       "      <td>5.742868</td>\n",
       "    </tr>\n",
       "    <tr>\n",
       "      <th>4</th>\n",
       "      <td>LogisticRegression'&gt;</td>\n",
       "      <td>0.670684</td>\n",
       "      <td>0.008609</td>\n",
       "      <td>1044</td>\n",
       "      <td>1959</td>\n",
       "      <td>1161</td>\n",
       "      <td>299</td>\n",
       "      <td>0.627885</td>\n",
       "      <td>0.867582</td>\n",
       "      <td>0.728524</td>\n",
       "      <td>1.388740</td>\n",
       "    </tr>\n",
       "    <tr>\n",
       "      <th>5</th>\n",
       "      <td>GradientBoostingClassifier'&gt;</td>\n",
       "      <td>0.671331</td>\n",
       "      <td>0.009493</td>\n",
       "      <td>1087</td>\n",
       "      <td>1941</td>\n",
       "      <td>1118</td>\n",
       "      <td>317</td>\n",
       "      <td>0.634521</td>\n",
       "      <td>0.859610</td>\n",
       "      <td>0.730111</td>\n",
       "      <td>75.244886</td>\n",
       "    </tr>\n",
       "  </tbody>\n",
       "</table>\n",
       "</div>"
      ],
      "text/plain": [
       "                          model  mean_acc_score  std_acc_score  \\\n",
       "0                  GaussianNB'>        0.663861       0.009265   \n",
       "1        KNeighborsClassifier'>        0.630718       0.010090   \n",
       "2      DecisionTreeClassifier'>        0.671754       0.008960   \n",
       "3      RandomForestClassifier'>        0.670982       0.008120   \n",
       "4          LogisticRegression'>        0.670684       0.008609   \n",
       "5  GradientBoostingClassifier'>        0.671331       0.009493   \n",
       "\n",
       "   true_positives  true_negatives  false_postives  false_negatives  precision  \\\n",
       "0            1214            1786             991              472   0.643140   \n",
       "1            1320            1486             885              772   0.626740   \n",
       "2            1134            1867            1071              391   0.635466   \n",
       "3             959            2045            1246              213   0.621392   \n",
       "4            1044            1959            1161              299   0.627885   \n",
       "5            1087            1941            1118              317   0.634521   \n",
       "\n",
       "     recall   f-score    runtime  \n",
       "0  0.790965  0.709434   0.355459  \n",
       "1  0.658105  0.642039   8.450445  \n",
       "2  0.826838  0.718630   0.511926  \n",
       "3  0.905669  0.737070   5.742868  \n",
       "4  0.867582  0.728524   1.388740  \n",
       "5  0.859610  0.730111  75.244886  "
      ]
     },
     "execution_count": 123,
     "metadata": {},
     "output_type": "execute_result"
    }
   ],
   "source": [
    "results_df_us"
   ]
  },
  {
   "cell_type": "markdown",
   "metadata": {},
   "source": [
    "## Run models: Second Pass (oversampling, no tuning)"
   ]
  },
  {
   "cell_type": "code",
   "execution_count": 137,
   "metadata": {},
   "outputs": [
    {
     "data": {
      "text/plain": [
       "1    89244\n",
       "0    88205\n",
       "Name: no_show, dtype: int64"
      ]
     },
     "execution_count": 137,
     "metadata": {},
     "output_type": "execute_result"
    }
   ],
   "source": [
    "df_no_show_false = raw_data[raw_data[\"no_show\"] == 0]\n",
    "df_no_show_true = raw_data[raw_data[\"no_show\"] == 1]\n",
    "\n",
    "df_sample_over = pd.concat([df_no_show_false, df_no_show_true, df_no_show_true, df_no_show_true, df_no_show_true])\n",
    "df_sample_over[\"no_show\"].value_counts()"
   ]
  },
  {
   "cell_type": "code",
   "execution_count": 139,
   "metadata": {},
   "outputs": [
    {
     "name": "stdout",
     "output_type": "stream",
     "text": [
      "<class 'pandas.core.frame.DataFrame'>\n",
      "Int64Index: 177449 entries, 0 to 110516\n",
      "Data columns (total 20 columns):\n",
      "scheduled_to_appointment                 177449 non-null int64\n",
      "gender_M                                 177449 non-null uint8\n",
      "age_group_child                          177449 non-null uint8\n",
      "age_group_senior                         177449 non-null uint8\n",
      "scholarship_1                            177449 non-null uint8\n",
      "hypertension_1                           177449 non-null uint8\n",
      "diabetes_1                               177449 non-null uint8\n",
      "alcoholism_1                             177449 non-null uint8\n",
      "handicap_1                               177449 non-null uint8\n",
      "sms_received_1                           177449 non-null uint8\n",
      "neighborhood_volumes_low volume          177449 non-null uint8\n",
      "neighborhood_volumes_moderate volume     177449 non-null uint8\n",
      "neighborhood_volumes_very high volume    177449 non-null uint8\n",
      "neighborhood_volumes_very low volume     177449 non-null uint8\n",
      "appointment_weekday_monday               177449 non-null uint8\n",
      "appointment_weekday_saturday             177449 non-null uint8\n",
      "appointment_weekday_thursday             177449 non-null uint8\n",
      "appointment_weekday_tuesday              177449 non-null uint8\n",
      "appointment_weekday_wednesday            177449 non-null uint8\n",
      "same_day_appointment_1                   177449 non-null uint8\n",
      "dtypes: int64(1), uint8(19)\n",
      "memory usage: 5.9 MB\n"
     ]
    }
   ],
   "source": [
    "features = df_sample_over[[\"gender\", \"age_group\", \"scholarship\", \"hypertension\", \"diabetes\", \"alcoholism\",\n",
    "                     \"handicap\", \"sms_received\", \"neighborhood_volumes\", \"appointment_weekday\",\n",
    "                    \"scheduled_to_appointment\", \"same_day_appointment\"]]\n",
    "target = df_sample_over[\"no_show\"]\n",
    "features = pd.get_dummies(features, drop_first=True)\n",
    "features.info()"
   ]
  },
  {
   "cell_type": "code",
   "execution_count": 140,
   "metadata": {},
   "outputs": [
    {
     "data": {
      "text/plain": [
       "1    0.502928\n",
       "0    0.497072\n",
       "Name: no_show, dtype: float64"
      ]
     },
     "execution_count": 140,
     "metadata": {},
     "output_type": "execute_result"
    }
   ],
   "source": [
    "df_sample_over[\"no_show\"].value_counts(normalize=True)"
   ]
  },
  {
   "cell_type": "code",
   "execution_count": 141,
   "metadata": {},
   "outputs": [],
   "source": [
    "X_train, X_test, y_train, y_test = train_test_split(features, target, test_size=0.10)"
   ]
  },
  {
   "cell_type": "code",
   "execution_count": 142,
   "metadata": {},
   "outputs": [],
   "source": [
    "results = {\"model\": [], \"mean_acc_score\": [], \"std_acc_score\": [], \"true_positives\": [],\n",
    "           \"true_negatives\": [], \"false_postives\": [], \"false_negatives\": [],\n",
    "           \"precision\": [], \"recall\": [], \"f-score\": [], \"runtime\": []}\n",
    "\n",
    "for model in models:\n",
    "    run_model(model, results, X_train, y_train, X_test, y_test, cv=10)\n",
    "    \n",
    "results_df_os = pd.DataFrame(results)\n",
    "results_df_os = results_df_os[[\"model\", \"mean_acc_score\", \"std_acc_score\", \"true_positives\",\n",
    "           \"true_negatives\", \"false_postives\", \"false_negatives\", \"precision\",\n",
    "           \"recall\", \"f-score\", \"runtime\"]]"
   ]
  },
  {
   "cell_type": "code",
   "execution_count": 145,
   "metadata": {},
   "outputs": [
    {
     "data": {
      "text/html": [
       "<div>\n",
       "<style scoped>\n",
       "    .dataframe tbody tr th:only-of-type {\n",
       "        vertical-align: middle;\n",
       "    }\n",
       "\n",
       "    .dataframe tbody tr th {\n",
       "        vertical-align: top;\n",
       "    }\n",
       "\n",
       "    .dataframe thead th {\n",
       "        text-align: right;\n",
       "    }\n",
       "</style>\n",
       "<table border=\"1\" class=\"dataframe\">\n",
       "  <thead>\n",
       "    <tr style=\"text-align: right;\">\n",
       "      <th></th>\n",
       "      <th>model</th>\n",
       "      <th>mean_acc_score</th>\n",
       "      <th>std_acc_score</th>\n",
       "      <th>true_positives</th>\n",
       "      <th>true_negatives</th>\n",
       "      <th>false_postives</th>\n",
       "      <th>false_negatives</th>\n",
       "      <th>precision</th>\n",
       "      <th>recall</th>\n",
       "      <th>f-score</th>\n",
       "      <th>runtime</th>\n",
       "    </tr>\n",
       "  </thead>\n",
       "  <tbody>\n",
       "    <tr>\n",
       "      <th>0</th>\n",
       "      <td>GaussianNB'&gt;</td>\n",
       "      <td>0.663333</td>\n",
       "      <td>0.003089</td>\n",
       "      <td>4659</td>\n",
       "      <td>7224</td>\n",
       "      <td>4171</td>\n",
       "      <td>1691</td>\n",
       "      <td>0.633962</td>\n",
       "      <td>0.810320</td>\n",
       "      <td>0.711374</td>\n",
       "      <td>1.380204</td>\n",
       "    </tr>\n",
       "    <tr>\n",
       "      <th>1</th>\n",
       "      <td>KNeighborsClassifier'&gt;</td>\n",
       "      <td>0.676282</td>\n",
       "      <td>0.004702</td>\n",
       "      <td>5593</td>\n",
       "      <td>6591</td>\n",
       "      <td>3237</td>\n",
       "      <td>2324</td>\n",
       "      <td>0.670635</td>\n",
       "      <td>0.739316</td>\n",
       "      <td>0.703303</td>\n",
       "      <td>123.382290</td>\n",
       "    </tr>\n",
       "    <tr>\n",
       "      <th>2</th>\n",
       "      <td>DecisionTreeClassifier'&gt;</td>\n",
       "      <td>0.672457</td>\n",
       "      <td>0.003888</td>\n",
       "      <td>4026</td>\n",
       "      <td>7940</td>\n",
       "      <td>4804</td>\n",
       "      <td>975</td>\n",
       "      <td>0.623038</td>\n",
       "      <td>0.890634</td>\n",
       "      <td>0.733183</td>\n",
       "      <td>2.370675</td>\n",
       "    </tr>\n",
       "    <tr>\n",
       "      <th>3</th>\n",
       "      <td>RandomForestClassifier'&gt;</td>\n",
       "      <td>0.670396</td>\n",
       "      <td>0.003344</td>\n",
       "      <td>3726</td>\n",
       "      <td>8198</td>\n",
       "      <td>5104</td>\n",
       "      <td>717</td>\n",
       "      <td>0.616298</td>\n",
       "      <td>0.919574</td>\n",
       "      <td>0.737993</td>\n",
       "      <td>24.847540</td>\n",
       "    </tr>\n",
       "    <tr>\n",
       "      <th>4</th>\n",
       "      <td>LogisticRegression'&gt;</td>\n",
       "      <td>0.670240</td>\n",
       "      <td>0.003775</td>\n",
       "      <td>4129</td>\n",
       "      <td>7786</td>\n",
       "      <td>4701</td>\n",
       "      <td>1129</td>\n",
       "      <td>0.623528</td>\n",
       "      <td>0.873360</td>\n",
       "      <td>0.727596</td>\n",
       "      <td>6.227459</td>\n",
       "    </tr>\n",
       "    <tr>\n",
       "      <th>5</th>\n",
       "      <td>GradientBoostingClassifier'&gt;</td>\n",
       "      <td>0.672870</td>\n",
       "      <td>0.003540</td>\n",
       "      <td>4269</td>\n",
       "      <td>7717</td>\n",
       "      <td>4561</td>\n",
       "      <td>1198</td>\n",
       "      <td>0.628523</td>\n",
       "      <td>0.865620</td>\n",
       "      <td>0.728259</td>\n",
       "      <td>382.974552</td>\n",
       "    </tr>\n",
       "  </tbody>\n",
       "</table>\n",
       "</div>"
      ],
      "text/plain": [
       "                          model  mean_acc_score  std_acc_score  \\\n",
       "0                  GaussianNB'>        0.663333       0.003089   \n",
       "1        KNeighborsClassifier'>        0.676282       0.004702   \n",
       "2      DecisionTreeClassifier'>        0.672457       0.003888   \n",
       "3      RandomForestClassifier'>        0.670396       0.003344   \n",
       "4          LogisticRegression'>        0.670240       0.003775   \n",
       "5  GradientBoostingClassifier'>        0.672870       0.003540   \n",
       "\n",
       "   true_positives  true_negatives  false_postives  false_negatives  precision  \\\n",
       "0            4659            7224            4171             1691   0.633962   \n",
       "1            5593            6591            3237             2324   0.670635   \n",
       "2            4026            7940            4804              975   0.623038   \n",
       "3            3726            8198            5104              717   0.616298   \n",
       "4            4129            7786            4701             1129   0.623528   \n",
       "5            4269            7717            4561             1198   0.628523   \n",
       "\n",
       "     recall   f-score     runtime  \n",
       "0  0.810320  0.711374    1.380204  \n",
       "1  0.739316  0.703303  123.382290  \n",
       "2  0.890634  0.733183    2.370675  \n",
       "3  0.919574  0.737993   24.847540  \n",
       "4  0.873360  0.727596    6.227459  \n",
       "5  0.865620  0.728259  382.974552  "
      ]
     },
     "execution_count": 145,
     "metadata": {},
     "output_type": "execute_result"
    }
   ],
   "source": [
    "results_df_os"
   ]
  },
  {
   "cell_type": "code",
   "execution_count": null,
   "metadata": {},
   "outputs": [],
   "source": [
    "# That's not right"
   ]
  }
 ],
 "metadata": {
  "kernelspec": {
   "display_name": "Python 3",
   "language": "python",
   "name": "python3"
  },
  "language_info": {
   "codemirror_mode": {
    "name": "ipython",
    "version": 3
   },
   "file_extension": ".py",
   "mimetype": "text/x-python",
   "name": "python",
   "nbconvert_exporter": "python",
   "pygments_lexer": "ipython3",
   "version": "3.6.6"
  }
 },
 "nbformat": 4,
 "nbformat_minor": 2
}
