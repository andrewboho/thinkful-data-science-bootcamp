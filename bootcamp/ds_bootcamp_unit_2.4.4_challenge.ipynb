{
 "cells": [
  {
   "cell_type": "code",
   "execution_count": 1,
   "metadata": {},
   "outputs": [],
   "source": [
    "# Imports\n",
    "import numpy as np\n",
    "import pandas as pd\n",
    "import matplotlib.pyplot as plt\n",
    "import seaborn as sns\n",
    "from sklearn.linear_model import LinearRegression\n",
    "\n",
    "%matplotlib inline\n",
    "\n",
    "import warnings\n",
    "warnings.filterwarnings(\"ignore\")"
   ]
  },
  {
   "cell_type": "markdown",
   "metadata": {},
   "source": [
    "## Load data"
   ]
  },
  {
   "cell_type": "code",
   "execution_count": 2,
   "metadata": {
    "scrolled": true
   },
   "outputs": [
    {
     "data": {
      "text/html": [
       "<div>\n",
       "<style scoped>\n",
       "    .dataframe tbody tr th:only-of-type {\n",
       "        vertical-align: middle;\n",
       "    }\n",
       "\n",
       "    .dataframe tbody tr th {\n",
       "        vertical-align: top;\n",
       "    }\n",
       "\n",
       "    .dataframe thead th {\n",
       "        text-align: right;\n",
       "    }\n",
       "</style>\n",
       "<table border=\"1\" class=\"dataframe\">\n",
       "  <thead>\n",
       "    <tr style=\"text-align: right;\">\n",
       "      <th></th>\n",
       "      <th>city</th>\n",
       "      <th>population</th>\n",
       "      <th>violent_crime</th>\n",
       "      <th>murder</th>\n",
       "      <th>rape_1</th>\n",
       "      <th>rape_2</th>\n",
       "      <th>robbery</th>\n",
       "      <th>aggravated_assult</th>\n",
       "      <th>property_crime</th>\n",
       "      <th>burglary</th>\n",
       "      <th>larceny_theft</th>\n",
       "      <th>motor_vehicle_theft</th>\n",
       "      <th>arson3</th>\n",
       "    </tr>\n",
       "  </thead>\n",
       "  <tbody>\n",
       "    <tr>\n",
       "      <th>0</th>\n",
       "      <td>Adams Village</td>\n",
       "      <td>1,861</td>\n",
       "      <td>0</td>\n",
       "      <td>0.0</td>\n",
       "      <td>NaN</td>\n",
       "      <td>0</td>\n",
       "      <td>0</td>\n",
       "      <td>0</td>\n",
       "      <td>12</td>\n",
       "      <td>2</td>\n",
       "      <td>10</td>\n",
       "      <td>0</td>\n",
       "      <td>0.0</td>\n",
       "    </tr>\n",
       "    <tr>\n",
       "      <th>1</th>\n",
       "      <td>Addison Town and Village</td>\n",
       "      <td>2,577</td>\n",
       "      <td>3</td>\n",
       "      <td>0.0</td>\n",
       "      <td>NaN</td>\n",
       "      <td>0</td>\n",
       "      <td>0</td>\n",
       "      <td>3</td>\n",
       "      <td>24</td>\n",
       "      <td>3</td>\n",
       "      <td>20</td>\n",
       "      <td>1</td>\n",
       "      <td>0.0</td>\n",
       "    </tr>\n",
       "    <tr>\n",
       "      <th>2</th>\n",
       "      <td>Akron Village</td>\n",
       "      <td>2,846</td>\n",
       "      <td>3</td>\n",
       "      <td>0.0</td>\n",
       "      <td>NaN</td>\n",
       "      <td>0</td>\n",
       "      <td>0</td>\n",
       "      <td>3</td>\n",
       "      <td>16</td>\n",
       "      <td>1</td>\n",
       "      <td>15</td>\n",
       "      <td>0</td>\n",
       "      <td>0.0</td>\n",
       "    </tr>\n",
       "    <tr>\n",
       "      <th>3</th>\n",
       "      <td>Albany</td>\n",
       "      <td>97,956</td>\n",
       "      <td>791</td>\n",
       "      <td>8.0</td>\n",
       "      <td>NaN</td>\n",
       "      <td>30</td>\n",
       "      <td>227</td>\n",
       "      <td>526</td>\n",
       "      <td>4,090</td>\n",
       "      <td>705</td>\n",
       "      <td>3,243</td>\n",
       "      <td>142</td>\n",
       "      <td>NaN</td>\n",
       "    </tr>\n",
       "    <tr>\n",
       "      <th>4</th>\n",
       "      <td>Albion Village</td>\n",
       "      <td>6,388</td>\n",
       "      <td>23</td>\n",
       "      <td>0.0</td>\n",
       "      <td>NaN</td>\n",
       "      <td>3</td>\n",
       "      <td>4</td>\n",
       "      <td>16</td>\n",
       "      <td>223</td>\n",
       "      <td>53</td>\n",
       "      <td>165</td>\n",
       "      <td>5</td>\n",
       "      <td>NaN</td>\n",
       "    </tr>\n",
       "  </tbody>\n",
       "</table>\n",
       "</div>"
      ],
      "text/plain": [
       "                       city population violent_crime  murder  rape_1 rape_2  \\\n",
       "0             Adams Village      1,861             0     0.0     NaN      0   \n",
       "1  Addison Town and Village      2,577             3     0.0     NaN      0   \n",
       "2             Akron Village      2,846             3     0.0     NaN      0   \n",
       "3                    Albany     97,956           791     8.0     NaN     30   \n",
       "4            Albion Village      6,388            23     0.0     NaN      3   \n",
       "\n",
       "  robbery aggravated_assult property_crime burglary larceny_theft  \\\n",
       "0       0                 0             12        2            10   \n",
       "1       0                 3             24        3            20   \n",
       "2       0                 3             16        1            15   \n",
       "3     227               526          4,090      705         3,243   \n",
       "4       4                16            223       53           165   \n",
       "\n",
       "  motor_vehicle_theft  arson3  \n",
       "0                   0     0.0  \n",
       "1                   1     0.0  \n",
       "2                   0     0.0  \n",
       "3                 142     NaN  \n",
       "4                   5     NaN  "
      ]
     },
     "execution_count": 2,
     "metadata": {},
     "output_type": "execute_result"
    }
   ],
   "source": [
    "ny_crime = pd.read_csv(\"ny_crime.csv\", skiprows=5, names=[\"city\", \"population\", \"violent_crime\", \"murder\", \"rape_1\",\n",
    "                                                         \"rape_2\", \"robbery\", \"aggravated_assult\", \"property_crime\",\n",
    "                                                         \"burglary\", \"larceny_theft\", \"motor_vehicle_theft\", \"arson3\"])\n",
    "ny_crime.head()"
   ]
  },
  {
   "cell_type": "markdown",
   "metadata": {},
   "source": [
    "## Clean and add features"
   ]
  },
  {
   "cell_type": "code",
   "execution_count": 14,
   "metadata": {},
   "outputs": [
    {
     "data": {
      "text/html": [
       "<div>\n",
       "<style scoped>\n",
       "    .dataframe tbody tr th:only-of-type {\n",
       "        vertical-align: middle;\n",
       "    }\n",
       "\n",
       "    .dataframe tbody tr th {\n",
       "        vertical-align: top;\n",
       "    }\n",
       "\n",
       "    .dataframe thead th {\n",
       "        text-align: right;\n",
       "    }\n",
       "</style>\n",
       "<table border=\"1\" class=\"dataframe\">\n",
       "  <thead>\n",
       "    <tr style=\"text-align: right;\">\n",
       "      <th></th>\n",
       "      <th>city</th>\n",
       "      <th>property_crime</th>\n",
       "      <th>property_crime_sqrt</th>\n",
       "      <th>population</th>\n",
       "      <th>population_sq</th>\n",
       "      <th>population_sqrt</th>\n",
       "      <th>murder</th>\n",
       "      <th>robbery</th>\n",
       "      <th>arson</th>\n",
       "      <th>burglary</th>\n",
       "      <th>burglary_sqrt</th>\n",
       "      <th>larceny_theft</th>\n",
       "    </tr>\n",
       "  </thead>\n",
       "  <tbody>\n",
       "    <tr>\n",
       "      <th>0</th>\n",
       "      <td>Adams Village</td>\n",
       "      <td>12.0</td>\n",
       "      <td>3.464102</td>\n",
       "      <td>1861.0</td>\n",
       "      <td>3.463321e+06</td>\n",
       "      <td>43.139309</td>\n",
       "      <td>0</td>\n",
       "      <td>0</td>\n",
       "      <td>0.0</td>\n",
       "      <td>2.0</td>\n",
       "      <td>1.414214</td>\n",
       "      <td>10.0</td>\n",
       "    </tr>\n",
       "    <tr>\n",
       "      <th>1</th>\n",
       "      <td>Addison Town and Village</td>\n",
       "      <td>24.0</td>\n",
       "      <td>4.898979</td>\n",
       "      <td>2577.0</td>\n",
       "      <td>6.640929e+06</td>\n",
       "      <td>50.764161</td>\n",
       "      <td>0</td>\n",
       "      <td>0</td>\n",
       "      <td>0.0</td>\n",
       "      <td>3.0</td>\n",
       "      <td>1.732051</td>\n",
       "      <td>20.0</td>\n",
       "    </tr>\n",
       "    <tr>\n",
       "      <th>2</th>\n",
       "      <td>Akron Village</td>\n",
       "      <td>16.0</td>\n",
       "      <td>4.000000</td>\n",
       "      <td>2846.0</td>\n",
       "      <td>8.099716e+06</td>\n",
       "      <td>53.347915</td>\n",
       "      <td>0</td>\n",
       "      <td>0</td>\n",
       "      <td>0.0</td>\n",
       "      <td>1.0</td>\n",
       "      <td>1.000000</td>\n",
       "      <td>15.0</td>\n",
       "    </tr>\n",
       "    <tr>\n",
       "      <th>3</th>\n",
       "      <td>Albany</td>\n",
       "      <td>4090.0</td>\n",
       "      <td>63.953108</td>\n",
       "      <td>97956.0</td>\n",
       "      <td>9.595378e+09</td>\n",
       "      <td>312.979233</td>\n",
       "      <td>1</td>\n",
       "      <td>1</td>\n",
       "      <td>NaN</td>\n",
       "      <td>705.0</td>\n",
       "      <td>26.551836</td>\n",
       "      <td>3243.0</td>\n",
       "    </tr>\n",
       "    <tr>\n",
       "      <th>4</th>\n",
       "      <td>Albion Village</td>\n",
       "      <td>223.0</td>\n",
       "      <td>14.933185</td>\n",
       "      <td>6388.0</td>\n",
       "      <td>4.080654e+07</td>\n",
       "      <td>79.924965</td>\n",
       "      <td>0</td>\n",
       "      <td>1</td>\n",
       "      <td>NaN</td>\n",
       "      <td>53.0</td>\n",
       "      <td>7.280110</td>\n",
       "      <td>165.0</td>\n",
       "    </tr>\n",
       "  </tbody>\n",
       "</table>\n",
       "</div>"
      ],
      "text/plain": [
       "                       city  property_crime  property_crime_sqrt  population  \\\n",
       "0             Adams Village            12.0             3.464102      1861.0   \n",
       "1  Addison Town and Village            24.0             4.898979      2577.0   \n",
       "2             Akron Village            16.0             4.000000      2846.0   \n",
       "3                    Albany          4090.0            63.953108     97956.0   \n",
       "4            Albion Village           223.0            14.933185      6388.0   \n",
       "\n",
       "   population_sq  population_sqrt  murder  robbery  arson  burglary  \\\n",
       "0   3.463321e+06        43.139309       0        0    0.0       2.0   \n",
       "1   6.640929e+06        50.764161       0        0    0.0       3.0   \n",
       "2   8.099716e+06        53.347915       0        0    0.0       1.0   \n",
       "3   9.595378e+09       312.979233       1        1    NaN     705.0   \n",
       "4   4.080654e+07        79.924965       0        1    NaN      53.0   \n",
       "\n",
       "   burglary_sqrt  larceny_theft  \n",
       "0       1.414214           10.0  \n",
       "1       1.732051           20.0  \n",
       "2       1.000000           15.0  \n",
       "3      26.551836         3243.0  \n",
       "4       7.280110          165.0  "
      ]
     },
     "execution_count": 14,
     "metadata": {},
     "output_type": "execute_result"
    }
   ],
   "source": [
    "# Create dataframe to hold variables of interest and some data cleaning\n",
    "ny_crime2 = pd.DataFrame()\n",
    "ny_crime2[\"city\"] = ny_crime[\"city\"]\n",
    "\n",
    "# Remove commas and cast as float\n",
    "ny_crime2[\"property_crime\"] = ny_crime[\"property_crime\"].apply(lambda x: str(x).replace(\",\", \"\")).apply(lambda x: float(x))\n",
    "ny_crime2[\"property_crime_sqrt\"] = np.sqrt(ny_crime2[\"property_crime\"])\n",
    "ny_crime2[\"population\"] = ny_crime[\"population\"].apply(lambda x: str(x).replace(\",\", \"\")).apply(lambda x: float(x))\n",
    "\n",
    "# Create population^2 variable\n",
    "ny_crime2[\"population_sq\"] = ny_crime2[\"population\"] ** 2\n",
    "\n",
    "# Create sqrt population variable\n",
    "ny_crime2[\"population_sqrt\"] = np.sqrt(ny_crime2[\"population\"])\n",
    "\n",
    "# Convert murder and robbery into categorical variables\n",
    "ny_crime2[\"murder\"] = ny_crime[\"murder\"].apply(lambda x: 1 if x > 0 else 0)\n",
    "ny_crime2[\"robbery\"] = ny_crime[\"robbery\"].apply(lambda x: str(x).replace(\",\", \"\")).apply(lambda x: float(x)).apply(lambda x: 1 if x > 0 else 0)\n",
    "ny_crime2[\"arson\"] = ny_crime[\"arson3\"].apply(lambda x: str(x).replace(\",\", \"\")).apply(lambda x: float(x))\n",
    "ny_crime2[\"burglary\"] = ny_crime[\"burglary\"].apply(lambda x: str(x).replace(\",\", \"\")).apply(lambda x: float(x))\n",
    "ny_crime2[\"burglary_sqrt\"] = np.sqrt(ny_crime2[\"burglary\"])\n",
    "ny_crime2[\"larceny_theft\"] = ny_crime[\"larceny_theft\"].apply(lambda x: str(x).replace(\",\", \"\")).apply(lambda x: float(x))\n",
    "\n",
    "ny_crime2.head()"
   ]
  },
  {
   "cell_type": "code",
   "execution_count": 15,
   "metadata": {},
   "outputs": [
    {
     "name": "stdout",
     "output_type": "stream",
     "text": [
      "<class 'pandas.core.frame.DataFrame'>\n",
      "Int64Index: 187 entries, 0 to 346\n",
      "Data columns (total 12 columns):\n",
      "city                   187 non-null object\n",
      "property_crime         187 non-null float64\n",
      "property_crime_sqrt    187 non-null float64\n",
      "population             187 non-null float64\n",
      "population_sq          187 non-null float64\n",
      "population_sqrt        187 non-null float64\n",
      "murder                 187 non-null int64\n",
      "robbery                187 non-null int64\n",
      "arson                  187 non-null float64\n",
      "burglary               187 non-null float64\n",
      "burglary_sqrt          187 non-null float64\n",
      "larceny_theft          187 non-null float64\n",
      "dtypes: float64(9), int64(2), object(1)\n",
      "memory usage: 19.0+ KB\n"
     ]
    }
   ],
   "source": [
    "# Drop NA's\n",
    "ny_crime2.dropna(inplace=True)\n",
    "ny_crime2.info()"
   ]
  },
  {
   "cell_type": "markdown",
   "metadata": {},
   "source": [
    "## Run linear model"
   ]
  },
  {
   "cell_type": "code",
   "execution_count": 25,
   "metadata": {},
   "outputs": [
    {
     "name": "stdout",
     "output_type": "stream",
     "text": [
      "\n",
      "Coefficients: \n",
      " [8.25330081e-04 1.47892028e+00 9.64005853e-01 1.18956227e+00]\n",
      "\n",
      "Intercept: \n",
      " -3.996584656104119\n",
      "\n",
      "R-squared:\n",
      "0.9999122988668072\n"
     ]
    }
   ],
   "source": [
    "X = ny_crime2[[\"population\", \"arson\", \"larceny_theft\", \"burglary\"]]\n",
    "Y = ny_crime2[\"property_crime\"]\n",
    "\n",
    "# Instantiate the model\n",
    "regr = LinearRegression()\n",
    "regr.fit(X=X, y=Y)\n",
    "\n",
    "\n",
    "print('\\nCoefficients: \\n', regr.coef_)\n",
    "print('\\nIntercept: \\n', regr.intercept_)\n",
    "print('\\nR-squared:')\n",
    "print(regr.score(X, Y))"
   ]
  },
  {
   "cell_type": "markdown",
   "metadata": {},
   "source": [
    "If explaining variance is the only goal, this appears model appears to do the trick. Conceptually, I tried to use features that seemed like they might have some logical cause and effect relationship with property crime. That meant excluding the categorical variables (murder and robbery) that were created in the \"prepping the dataset\" challenge.\n",
    "\n",
    "I tried transformations of a bunch of variables as well (square root of the population variable, for example), but none of them were able to do as well in R-squared as this model."
   ]
  },
  {
   "cell_type": "markdown",
   "metadata": {},
   "source": [
    "## Multivariate normality"
   ]
  },
  {
   "cell_type": "code",
   "execution_count": 34,
   "metadata": {},
   "outputs": [
    {
     "data": {
      "image/png": "[encoded data removed]",
      "text/plain": [
       "<Figure size 432x288 with 1 Axes>"
      ]
     },
     "metadata": {},
     "output_type": "display_data"
    }
   ],
   "source": [
    "predicted = regr.predict(X)\n",
    "actual = ny_crime2[\"property_crime\"]\n",
    "residual = actual - predicted\n",
    "\n",
    "plt.hist(residual, bins=30)\n",
    "plt.title(\"Residual counts\")\n",
    "plt.xlabel(\"Residual\")\n",
    "plt.ylabel(\"Count\")\n",
    "plt.show()"
   ]
  },
  {
   "cell_type": "markdown",
   "metadata": {},
   "source": [
    "I don't think this looks to bad."
   ]
  },
  {
   "cell_type": "markdown",
   "metadata": {},
   "source": [
    "## Homoscedasticy"
   ]
  },
  {
   "cell_type": "code",
   "execution_count": 35,
   "metadata": {},
   "outputs": [
    {
     "data": {
      "image/png": "[encoded data removed]",
      "text/plain": [
       "<Figure size 432x288 with 1 Axes>"
      ]
     },
     "metadata": {},
     "output_type": "display_data"
    }
   ],
   "source": [
    "plt.scatter(predicted, residual)\n",
    "plt.title(\"Residual vs. Predicted\")\n",
    "plt.xlabel(\"Predicted\")\n",
    "plt.ylabel(\"Residual\")\n",
    "plt.axhline(y=0)\n",
    "plt.show()"
   ]
  },
  {
   "cell_type": "markdown",
   "metadata": {},
   "source": [
    "Still having trouble interpreting this."
   ]
  },
  {
   "cell_type": "markdown",
   "metadata": {},
   "source": [
    "## Multicollinearity"
   ]
  },
  {
   "cell_type": "code",
   "execution_count": 36,
   "metadata": {
    "scrolled": false
   },
   "outputs": [
    {
     "data": {
      "text/html": [
       "<div>\n",
       "<style scoped>\n",
       "    .dataframe tbody tr th:only-of-type {\n",
       "        vertical-align: middle;\n",
       "    }\n",
       "\n",
       "    .dataframe tbody tr th {\n",
       "        vertical-align: top;\n",
       "    }\n",
       "\n",
       "    .dataframe thead th {\n",
       "        text-align: right;\n",
       "    }\n",
       "</style>\n",
       "<table border=\"1\" class=\"dataframe\">\n",
       "  <thead>\n",
       "    <tr style=\"text-align: right;\">\n",
       "      <th></th>\n",
       "      <th>population</th>\n",
       "      <th>arson</th>\n",
       "      <th>larceny_theft</th>\n",
       "      <th>burglary</th>\n",
       "    </tr>\n",
       "  </thead>\n",
       "  <tbody>\n",
       "    <tr>\n",
       "      <th>population</th>\n",
       "      <td>1.000000</td>\n",
       "      <td>0.701761</td>\n",
       "      <td>0.882745</td>\n",
       "      <td>0.798252</td>\n",
       "    </tr>\n",
       "    <tr>\n",
       "      <th>arson</th>\n",
       "      <td>0.701761</td>\n",
       "      <td>1.000000</td>\n",
       "      <td>0.893610</td>\n",
       "      <td>0.952121</td>\n",
       "    </tr>\n",
       "    <tr>\n",
       "      <th>larceny_theft</th>\n",
       "      <td>0.882745</td>\n",
       "      <td>0.893610</td>\n",
       "      <td>1.000000</td>\n",
       "      <td>0.954354</td>\n",
       "    </tr>\n",
       "    <tr>\n",
       "      <th>burglary</th>\n",
       "      <td>0.798252</td>\n",
       "      <td>0.952121</td>\n",
       "      <td>0.954354</td>\n",
       "      <td>1.000000</td>\n",
       "    </tr>\n",
       "  </tbody>\n",
       "</table>\n",
       "</div>"
      ],
      "text/plain": [
       "               population     arson  larceny_theft  burglary\n",
       "population       1.000000  0.701761       0.882745  0.798252\n",
       "arson            0.701761  1.000000       0.893610  0.952121\n",
       "larceny_theft    0.882745  0.893610       1.000000  0.954354\n",
       "burglary         0.798252  0.952121       0.954354  1.000000"
      ]
     },
     "execution_count": 36,
     "metadata": {},
     "output_type": "execute_result"
    }
   ],
   "source": [
    "corr_mat = X.corr()\n",
    "corr_mat"
   ]
  },
  {
   "cell_type": "markdown",
   "metadata": {},
   "source": [
    "The variables are highly correlated with each other, which is clearly a problem. "
   ]
  },
  {
   "cell_type": "code",
   "execution_count": null,
   "metadata": {},
   "outputs": [],
   "source": []
  }
 ],
 "metadata": {
  "kernelspec": {
   "display_name": "Python 3",
   "language": "python",
   "name": "python3"
  },
  "language_info": {
   "codemirror_mode": {
    "name": "ipython",
    "version": 3
   },
   "file_extension": ".py",
   "mimetype": "text/x-python",
   "name": "python",
   "nbconvert_exporter": "python",
   "pygments_lexer": "ipython3",
   "version": "3.6.5"
  }
 },
 "nbformat": 4,
 "nbformat_minor": 2
}
