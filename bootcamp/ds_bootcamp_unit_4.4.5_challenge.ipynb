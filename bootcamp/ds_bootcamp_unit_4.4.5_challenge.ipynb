{
 "cells": [
  {
   "cell_type": "markdown",
   "metadata": {},
   "source": [
    "# Online reviews for women's clothing\n",
    "Data set from [Kaggle](https://www.kaggle.com/nicapotato/womens-ecommerce-clothing-reviews/home)"
   ]
  },
  {
   "cell_type": "code",
   "execution_count": 225,
   "metadata": {},
   "outputs": [],
   "source": [
    "import time\n",
    "import string\n",
    "import numpy as np\n",
    "import pandas as pd\n",
    "import matplotlib.pyplot as plt\n",
    "import seaborn as sns\n",
    "\n",
    "import nltk\n",
    "from nltk.corpus import stopwords\n",
    "\n",
    "from sklearn.model_selection import train_test_split\n",
    "from sklearn.model_selection import cross_val_score\n",
    "from sklearn.model_selection import GridSearchCV\n",
    "from sklearn.feature_extraction.text import CountVectorizer\n",
    "from sklearn.feature_extraction.text import TfidfVectorizer\n",
    "from sklearn.pipeline import Pipeline\n",
    "from sklearn.naive_bayes import BernoulliNB\n",
    "from sklearn.neighbors import KNeighborsClassifier\n",
    "from sklearn.linear_model import LogisticRegression\n",
    "from sklearn.ensemble import RandomForestClassifier\n",
    "from sklearn.svm import SVC\n",
    "from sklearn.ensemble import GradientBoostingClassifier\n",
    "\n",
    "import warnings\n",
    "warnings.filterwarnings(\"ignore\")"
   ]
  },
  {
   "cell_type": "markdown",
   "metadata": {},
   "source": [
    "## Load data and set-up dataframe"
   ]
  },
  {
   "cell_type": "code",
   "execution_count": 30,
   "metadata": {},
   "outputs": [
    {
     "name": "stdout",
     "output_type": "stream",
     "text": [
      "Rows: 23486\n",
      "Columns: 11\n"
     ]
    },
    {
     "data": {
      "text/html": [
       "<div>\n",
       "<style scoped>\n",
       "    .dataframe tbody tr th:only-of-type {\n",
       "        vertical-align: middle;\n",
       "    }\n",
       "\n",
       "    .dataframe tbody tr th {\n",
       "        vertical-align: top;\n",
       "    }\n",
       "\n",
       "    .dataframe thead th {\n",
       "        text-align: right;\n",
       "    }\n",
       "</style>\n",
       "<table border=\"1\" class=\"dataframe\">\n",
       "  <thead>\n",
       "    <tr style=\"text-align: right;\">\n",
       "      <th></th>\n",
       "      <th>Unnamed: 0</th>\n",
       "      <th>Clothing ID</th>\n",
       "      <th>Age</th>\n",
       "      <th>Title</th>\n",
       "      <th>Review Text</th>\n",
       "      <th>Rating</th>\n",
       "      <th>Recommended IND</th>\n",
       "      <th>Positive Feedback Count</th>\n",
       "      <th>Division Name</th>\n",
       "      <th>Department Name</th>\n",
       "      <th>Class Name</th>\n",
       "    </tr>\n",
       "  </thead>\n",
       "  <tbody>\n",
       "    <tr>\n",
       "      <th>0</th>\n",
       "      <td>0</td>\n",
       "      <td>767</td>\n",
       "      <td>33</td>\n",
       "      <td>NaN</td>\n",
       "      <td>Absolutely wonderful - silky and sexy and comf...</td>\n",
       "      <td>4</td>\n",
       "      <td>1</td>\n",
       "      <td>0</td>\n",
       "      <td>Initmates</td>\n",
       "      <td>Intimate</td>\n",
       "      <td>Intimates</td>\n",
       "    </tr>\n",
       "    <tr>\n",
       "      <th>1</th>\n",
       "      <td>1</td>\n",
       "      <td>1080</td>\n",
       "      <td>34</td>\n",
       "      <td>NaN</td>\n",
       "      <td>Love this dress!  it's sooo pretty.  i happene...</td>\n",
       "      <td>5</td>\n",
       "      <td>1</td>\n",
       "      <td>4</td>\n",
       "      <td>General</td>\n",
       "      <td>Dresses</td>\n",
       "      <td>Dresses</td>\n",
       "    </tr>\n",
       "    <tr>\n",
       "      <th>2</th>\n",
       "      <td>2</td>\n",
       "      <td>1077</td>\n",
       "      <td>60</td>\n",
       "      <td>Some major design flaws</td>\n",
       "      <td>I had such high hopes for this dress and reall...</td>\n",
       "      <td>3</td>\n",
       "      <td>0</td>\n",
       "      <td>0</td>\n",
       "      <td>General</td>\n",
       "      <td>Dresses</td>\n",
       "      <td>Dresses</td>\n",
       "    </tr>\n",
       "    <tr>\n",
       "      <th>3</th>\n",
       "      <td>3</td>\n",
       "      <td>1049</td>\n",
       "      <td>50</td>\n",
       "      <td>My favorite buy!</td>\n",
       "      <td>I love, love, love this jumpsuit. it's fun, fl...</td>\n",
       "      <td>5</td>\n",
       "      <td>1</td>\n",
       "      <td>0</td>\n",
       "      <td>General Petite</td>\n",
       "      <td>Bottoms</td>\n",
       "      <td>Pants</td>\n",
       "    </tr>\n",
       "    <tr>\n",
       "      <th>4</th>\n",
       "      <td>4</td>\n",
       "      <td>847</td>\n",
       "      <td>47</td>\n",
       "      <td>Flattering shirt</td>\n",
       "      <td>This shirt is very flattering to all due to th...</td>\n",
       "      <td>5</td>\n",
       "      <td>1</td>\n",
       "      <td>6</td>\n",
       "      <td>General</td>\n",
       "      <td>Tops</td>\n",
       "      <td>Blouses</td>\n",
       "    </tr>\n",
       "  </tbody>\n",
       "</table>\n",
       "</div>"
      ],
      "text/plain": [
       "   Unnamed: 0  Clothing ID  Age                    Title  \\\n",
       "0           0          767   33                      NaN   \n",
       "1           1         1080   34                      NaN   \n",
       "2           2         1077   60  Some major design flaws   \n",
       "3           3         1049   50         My favorite buy!   \n",
       "4           4          847   47         Flattering shirt   \n",
       "\n",
       "                                         Review Text  Rating  Recommended IND  \\\n",
       "0  Absolutely wonderful - silky and sexy and comf...       4                1   \n",
       "1  Love this dress!  it's sooo pretty.  i happene...       5                1   \n",
       "2  I had such high hopes for this dress and reall...       3                0   \n",
       "3  I love, love, love this jumpsuit. it's fun, fl...       5                1   \n",
       "4  This shirt is very flattering to all due to th...       5                1   \n",
       "\n",
       "   Positive Feedback Count   Division Name Department Name Class Name  \n",
       "0                        0       Initmates        Intimate  Intimates  \n",
       "1                        4         General         Dresses    Dresses  \n",
       "2                        0         General         Dresses    Dresses  \n",
       "3                        0  General Petite         Bottoms      Pants  \n",
       "4                        6         General            Tops    Blouses  "
      ]
     },
     "execution_count": 30,
     "metadata": {},
     "output_type": "execute_result"
    }
   ],
   "source": [
    "df = pd.read_csv('womens_clothing_reviews.csv')\n",
    "print(\"Rows: {}\\nColumns: {}\".format(df.shape[0], df.shape[1]))\n",
    "df.head()"
   ]
  },
  {
   "cell_type": "code",
   "execution_count": 31,
   "metadata": {},
   "outputs": [
    {
     "data": {
      "text/html": [
       "<div>\n",
       "<style scoped>\n",
       "    .dataframe tbody tr th:only-of-type {\n",
       "        vertical-align: middle;\n",
       "    }\n",
       "\n",
       "    .dataframe tbody tr th {\n",
       "        vertical-align: top;\n",
       "    }\n",
       "\n",
       "    .dataframe thead th {\n",
       "        text-align: right;\n",
       "    }\n",
       "</style>\n",
       "<table border=\"1\" class=\"dataframe\">\n",
       "  <thead>\n",
       "    <tr style=\"text-align: right;\">\n",
       "      <th></th>\n",
       "      <th>review_text</th>\n",
       "      <th>rating</th>\n",
       "    </tr>\n",
       "  </thead>\n",
       "  <tbody>\n",
       "    <tr>\n",
       "      <th>0</th>\n",
       "      <td>Absolutely wonderful - silky and sexy and comf...</td>\n",
       "      <td>4</td>\n",
       "    </tr>\n",
       "    <tr>\n",
       "      <th>1</th>\n",
       "      <td>Love this dress!  it's sooo pretty.  i happene...</td>\n",
       "      <td>5</td>\n",
       "    </tr>\n",
       "    <tr>\n",
       "      <th>2</th>\n",
       "      <td>I had such high hopes for this dress and reall...</td>\n",
       "      <td>3</td>\n",
       "    </tr>\n",
       "    <tr>\n",
       "      <th>3</th>\n",
       "      <td>I love, love, love this jumpsuit. it's fun, fl...</td>\n",
       "      <td>5</td>\n",
       "    </tr>\n",
       "    <tr>\n",
       "      <th>4</th>\n",
       "      <td>This shirt is very flattering to all due to th...</td>\n",
       "      <td>5</td>\n",
       "    </tr>\n",
       "  </tbody>\n",
       "</table>\n",
       "</div>"
      ],
      "text/plain": [
       "                                         review_text  rating\n",
       "0  Absolutely wonderful - silky and sexy and comf...       4\n",
       "1  Love this dress!  it's sooo pretty.  i happene...       5\n",
       "2  I had such high hopes for this dress and reall...       3\n",
       "3  I love, love, love this jumpsuit. it's fun, fl...       5\n",
       "4  This shirt is very flattering to all due to th...       5"
      ]
     },
     "execution_count": 31,
     "metadata": {},
     "output_type": "execute_result"
    }
   ],
   "source": [
    "df = df[[\"Review Text\", \"Rating\"]]\n",
    "df.columns = [\"review_text\", \"rating\"]\n",
    "df.head()"
   ]
  },
  {
   "cell_type": "code",
   "execution_count": 32,
   "metadata": {},
   "outputs": [
    {
     "name": "stdout",
     "output_type": "stream",
     "text": [
      "<class 'pandas.core.frame.DataFrame'>\n",
      "Int64Index: 22641 entries, 0 to 23485\n",
      "Data columns (total 2 columns):\n",
      "review_text    22641 non-null object\n",
      "rating         22641 non-null int64\n",
      "dtypes: int64(1), object(1)\n",
      "memory usage: 530.6+ KB\n"
     ]
    }
   ],
   "source": [
    "df.dropna(inplace=True)\n",
    "df.info()"
   ]
  },
  {
   "cell_type": "code",
   "execution_count": 33,
   "metadata": {},
   "outputs": [
    {
     "data": {
      "text/html": [
       "<div>\n",
       "<style scoped>\n",
       "    .dataframe tbody tr th:only-of-type {\n",
       "        vertical-align: middle;\n",
       "    }\n",
       "\n",
       "    .dataframe tbody tr th {\n",
       "        vertical-align: top;\n",
       "    }\n",
       "\n",
       "    .dataframe thead th {\n",
       "        text-align: right;\n",
       "    }\n",
       "</style>\n",
       "<table border=\"1\" class=\"dataframe\">\n",
       "  <thead>\n",
       "    <tr style=\"text-align: right;\">\n",
       "      <th></th>\n",
       "      <th>review_text</th>\n",
       "      <th>pos_rating</th>\n",
       "    </tr>\n",
       "  </thead>\n",
       "  <tbody>\n",
       "    <tr>\n",
       "      <th>0</th>\n",
       "      <td>Absolutely wonderful - silky and sexy and comf...</td>\n",
       "      <td>1</td>\n",
       "    </tr>\n",
       "    <tr>\n",
       "      <th>1</th>\n",
       "      <td>Love this dress!  it's sooo pretty.  i happene...</td>\n",
       "      <td>1</td>\n",
       "    </tr>\n",
       "    <tr>\n",
       "      <th>2</th>\n",
       "      <td>I had such high hopes for this dress and reall...</td>\n",
       "      <td>0</td>\n",
       "    </tr>\n",
       "    <tr>\n",
       "      <th>3</th>\n",
       "      <td>I love, love, love this jumpsuit. it's fun, fl...</td>\n",
       "      <td>1</td>\n",
       "    </tr>\n",
       "    <tr>\n",
       "      <th>4</th>\n",
       "      <td>This shirt is very flattering to all due to th...</td>\n",
       "      <td>1</td>\n",
       "    </tr>\n",
       "  </tbody>\n",
       "</table>\n",
       "</div>"
      ],
      "text/plain": [
       "                                         review_text  pos_rating\n",
       "0  Absolutely wonderful - silky and sexy and comf...           1\n",
       "1  Love this dress!  it's sooo pretty.  i happene...           1\n",
       "2  I had such high hopes for this dress and reall...           0\n",
       "3  I love, love, love this jumpsuit. it's fun, fl...           1\n",
       "4  This shirt is very flattering to all due to th...           1"
      ]
     },
     "execution_count": 33,
     "metadata": {},
     "output_type": "execute_result"
    }
   ],
   "source": [
    "df[\"pos_rating\"] = df[\"rating\"].apply(lambda x: 1 if x >= 4 else 0)\n",
    "df = df[[\"review_text\", \"pos_rating\"]]\n",
    "df.head()"
   ]
  },
  {
   "cell_type": "code",
   "execution_count": 73,
   "metadata": {},
   "outputs": [],
   "source": [
    "X = df[\"review_text\"]\n",
    "y = df[\"pos_rating\"]\n",
    "X_train, X_test, y_train, y_test = train_test_split(X, y, test_size=0.3, stratify=y, random_state=42)"
   ]
  },
  {
   "cell_type": "code",
   "execution_count": 120,
   "metadata": {},
   "outputs": [
    {
     "data": {
      "text/plain": [
       "0.7706373393401351"
      ]
     },
     "execution_count": 120,
     "metadata": {},
     "output_type": "execute_result"
    }
   ],
   "source": [
    "df[\"pos_rating\"].sum() / len(df[\"pos_rating\"])"
   ]
  },
  {
   "cell_type": "markdown",
   "metadata": {},
   "source": [
    "## Preprocess text"
   ]
  },
  {
   "cell_type": "code",
   "execution_count": 144,
   "metadata": {},
   "outputs": [],
   "source": [
    "def preprocess_text(text):\n",
    "    # Remove punctuation\n",
    "    no_punc = [char for char in text if char not in string.punctuation]\n",
    "    no_punc = \"\".join(no_punc).strip()\n",
    "    return no_punc.split()"
   ]
  },
  {
   "cell_type": "markdown",
   "metadata": {},
   "source": [
    "### Bag o' words"
   ]
  },
  {
   "cell_type": "code",
   "execution_count": 179,
   "metadata": {},
   "outputs": [],
   "source": [
    "def run_bow_model(model, X_train, X_test, y_train, y_test, cv=3):\n",
    "    bow_pipe = Pipeline([(\"bow\", CountVectorizer(analyzer=preprocess_text)), (\"clf\", model)])\n",
    "    bow_pipe.fit(X_train, y_train)\n",
    "    scores = cross_val_score(bow_pipe, X_train, y_train, cv=cv, n_jobs=-1)\n",
    "    print(\"CV accuracy: {:.3f} +/- {:.3f}\".format(np.mean(scores), np.std(scores)))\n",
    "    print(\"Test accuracy: {:.3f}\".format(bow_pipe.score(X_test, y_test)))\n",
    "    print(\"Training scores:\", scores)"
   ]
  },
  {
   "cell_type": "code",
   "execution_count": 180,
   "metadata": {},
   "outputs": [
    {
     "name": "stdout",
     "output_type": "stream",
     "text": [
      "CV accuracy: 0.859 +/- 0.004\n",
      "Test accuracy: 0.863\n",
      "Training scores: [0.85867508 0.86561514 0.85615142 0.85547491 0.85736825]\n"
     ]
    }
   ],
   "source": [
    "run_bow_model(BernoulliNB(), X_train, X_test, y_train, y_test, cv=5)"
   ]
  },
  {
   "cell_type": "code",
   "execution_count": 181,
   "metadata": {},
   "outputs": [
    {
     "name": "stdout",
     "output_type": "stream",
     "text": [
      "CV accuracy: 0.786 +/- 0.003\n",
      "Test accuracy: 0.784\n",
      "Training scores: [0.78044164 0.78548896 0.78864353 0.78826128 0.7866835 ]\n"
     ]
    }
   ],
   "source": [
    "run_bow_model(KNeighborsClassifier(), X_train, X_test, y_train, y_test, cv=5)"
   ]
  },
  {
   "cell_type": "code",
   "execution_count": 182,
   "metadata": {},
   "outputs": [
    {
     "name": "stdout",
     "output_type": "stream",
     "text": [
      "CV accuracy: 0.870 +/- 0.002\n",
      "Test accuracy: 0.870\n",
      "Training scores: [0.86876972 0.87255521 0.86656151 0.87062165 0.87251499]\n"
     ]
    }
   ],
   "source": [
    "run_bow_model(LogisticRegression(), X_train, X_test, y_train, y_test, cv=5)"
   ]
  },
  {
   "cell_type": "code",
   "execution_count": 183,
   "metadata": {},
   "outputs": [
    {
     "name": "stdout",
     "output_type": "stream",
     "text": [
      "CV accuracy: 0.818 +/- 0.005\n",
      "Test accuracy: 0.820\n",
      "Training scores: [0.81671924 0.82712934 0.81419558 0.81760808 0.81350584]\n"
     ]
    }
   ],
   "source": [
    "run_bow_model(RandomForestClassifier(), X_train, X_test, y_train, y_test, cv=5)"
   ]
  },
  {
   "cell_type": "code",
   "execution_count": 184,
   "metadata": {},
   "outputs": [
    {
     "name": "stdout",
     "output_type": "stream",
     "text": [
      "CV accuracy: 0.644 +/- 0.008\n",
      "Test accuracy: 0.638\n",
      "Training scores: [0.63659306 0.65804416 0.63911672 0.65036289 0.63805617]\n"
     ]
    }
   ],
   "source": [
    "run_bow_model(SVC(max_iter=50), X_train, X_test, y_train, y_test, cv=5)"
   ]
  },
  {
   "cell_type": "code",
   "execution_count": 185,
   "metadata": {},
   "outputs": [
    {
     "name": "stdout",
     "output_type": "stream",
     "text": [
      "CV accuracy: 0.837 +/- 0.005\n",
      "Test accuracy: 0.842\n",
      "Training scores: [0.83722397 0.8444795  0.83501577 0.8299148  0.83811928]\n"
     ]
    }
   ],
   "source": [
    "run_bow_model(GradientBoostingClassifier(), X_train, X_test, y_train, y_test, cv=5)"
   ]
  },
  {
   "cell_type": "markdown",
   "metadata": {},
   "source": [
    "### TF-IDF"
   ]
  },
  {
   "cell_type": "code",
   "execution_count": 216,
   "metadata": {},
   "outputs": [],
   "source": [
    "def run_tfidf_model(model, X_train, X_test, y_train, y_test, cv=3):\n",
    "    tfidf_pipe = Pipeline([(\"tfidf\", TfidfVectorizer(tokenizer=preprocess_text)),(\"clf\", model)])\n",
    "    tfidf_pipe.fit(X_train, y_train)\n",
    "    scores = cross_val_score(tfidf_pipe, X_train, y_train, cv=cv, n_jobs=-1)\n",
    "    print(\"CV accuracy: {:.3f} +/- {:.3f}\".format(np.mean(scores), np.std(scores)))\n",
    "    print(\"Test accuracy: {:.3f}\".format(tfidf_pipe.score(X_test, y_test)))\n",
    "    print(\"Training scores:\", scores)"
   ]
  },
  {
   "cell_type": "code",
   "execution_count": 217,
   "metadata": {},
   "outputs": [
    {
     "name": "stdout",
     "output_type": "stream",
     "text": [
      "CV accuracy: 0.858 +/- 0.004\n",
      "Test accuracy: 0.863\n",
      "Training scores: [0.86025237 0.86498423 0.85394322 0.85295046 0.85610603]\n"
     ]
    }
   ],
   "source": [
    "run_tfidf_model(BernoulliNB(), X_train, X_test, y_train, y_test, cv=5)"
   ]
  },
  {
   "cell_type": "code",
   "execution_count": 218,
   "metadata": {},
   "outputs": [
    {
     "name": "stdout",
     "output_type": "stream",
     "text": [
      "CV accuracy: 0.821 +/- 0.006\n",
      "Test accuracy: 0.825\n",
      "Training scores: [0.82239748 0.82239748 0.81861199 0.81003471 0.82928369]\n"
     ]
    }
   ],
   "source": [
    "run_tfidf_model(KNeighborsClassifier(), X_train, X_test, y_train, y_test, cv=5)"
   ]
  },
  {
   "cell_type": "code",
   "execution_count": 219,
   "metadata": {},
   "outputs": [
    {
     "name": "stdout",
     "output_type": "stream",
     "text": [
      "CV accuracy: 0.878 +/- 0.005\n",
      "Test accuracy: 0.874\n",
      "Training scores: [0.87476341 0.88328076 0.87444795 0.87156832 0.88482171]\n"
     ]
    }
   ],
   "source": [
    "run_tfidf_model(LogisticRegression(), X_train, X_test, y_train, y_test, cv=5)"
   ]
  },
  {
   "cell_type": "code",
   "execution_count": 220,
   "metadata": {},
   "outputs": [
    {
     "name": "stdout",
     "output_type": "stream",
     "text": [
      "CV accuracy: 0.819 +/- 0.004\n",
      "Test accuracy: 0.818\n",
      "Training scores: [0.81861199 0.82397476 0.82208202 0.81255917 0.81792364]\n"
     ]
    }
   ],
   "source": [
    "run_tfidf_model(RandomForestClassifier(), X_train, X_test, y_train, y_test, cv=5)"
   ]
  },
  {
   "cell_type": "code",
   "execution_count": 221,
   "metadata": {},
   "outputs": [
    {
     "name": "stdout",
     "output_type": "stream",
     "text": [
      "CV accuracy: 0.752 +/- 0.013\n",
      "Test accuracy: 0.791\n",
      "Training scores: [0.74416404 0.75425868 0.77223975 0.73398548 0.7551278 ]\n"
     ]
    }
   ],
   "source": [
    "run_tfidf_model(SVC(max_iter=50), X_train, X_test, y_train, y_test, cv=5)"
   ]
  },
  {
   "cell_type": "code",
   "execution_count": 222,
   "metadata": {},
   "outputs": [
    {
     "name": "stdout",
     "output_type": "stream",
     "text": [
      "CV accuracy: 0.840 +/- 0.005\n",
      "Test accuracy: 0.841\n",
      "Training scores: [0.8384858  0.84700315 0.83564669 0.8343326  0.84316819]\n"
     ]
    }
   ],
   "source": [
    "run_tfidf_model(GradientBoostingClassifier(), X_train, X_test, y_train, y_test, cv=5)"
   ]
  },
  {
   "cell_type": "markdown",
   "metadata": {},
   "source": [
    "### Model tuning"
   ]
  },
  {
   "cell_type": "code",
   "execution_count": 228,
   "metadata": {},
   "outputs": [
    {
     "name": "stdout",
     "output_type": "stream",
     "text": [
      "Fitting 5 folds for each of 6 candidates, totalling 30 fits\n"
     ]
    },
    {
     "name": "stderr",
     "output_type": "stream",
     "text": [
      "[Parallel(n_jobs=-1)]: Done  30 out of  30 | elapsed:   22.0s finished\n"
     ]
    }
   ],
   "source": [
    "param_grid = [ {\"clf__penalty\": [\"l1\", \"l2\"], \"clf__C\": [1.0, 10.0, 100.0]}]\n",
    "tfidf_pipe = Pipeline([(\"tfidf\", TfidfVectorizer(tokenizer=preprocess_text)),(\"clf\", LogisticRegression())])\n",
    "gs_lgr_tfidf = GridSearchCV(tfidf_pipe, param_grid, scoring=\"accuracy\", cv=5, verbose=1, n_jobs=-1)\n",
    "\n",
    "start_time = time.time()\n",
    "gs_lgr_tfidf.fit(X_train, y_train)\n",
    "elpased_time = time.time() - start_time"
   ]
  },
  {
   "cell_type": "code",
   "execution_count": 230,
   "metadata": {},
   "outputs": [
    {
     "name": "stdout",
     "output_type": "stream",
     "text": [
      "----- 23.419274 seconds -----\n",
      "Best parameter set: {'clf__C': 10.0, 'clf__penalty': 'l2'}\n",
      "CV accuracy: 0.879\n"
     ]
    }
   ],
   "source": [
    "print(\"----- {:.6f} seconds -----\".format(elpased_time))\n",
    "print(\"Best parameter set: {}\".format(gs_lgr_tfidf.best_params_))\n",
    "print(\"CV accuracy: {:.3f}\".format(gs_lgr_tfidf.best_score_))\n",
    "\n",
    "clf = gs_lgr_tfidf.best_estimator_\n",
    "print(\"Test accuracy: {:.3f}\".format(clf.score(X_test, y_test)))"
   ]
  },
  {
   "cell_type": "code",
   "execution_count": 234,
   "metadata": {},
   "outputs": [
    {
     "name": "stdout",
     "output_type": "stream",
     "text": [
      "Fitting 5 folds for each of 2 candidates, totalling 10 fits\n"
     ]
    },
    {
     "name": "stderr",
     "output_type": "stream",
     "text": [
      "[Parallel(n_jobs=-1)]: Done   6 out of  10 | elapsed:  4.6min remaining:  3.0min\n",
      "[Parallel(n_jobs=-1)]: Done  10 out of  10 | elapsed:  6.0min finished\n"
     ]
    }
   ],
   "source": [
    "param_grid = [ {\"clf__n_estimators\": [500, 1000]}]\n",
    "tfidf_pipe = Pipeline([(\"tfidf\", TfidfVectorizer(tokenizer=preprocess_text)),\n",
    "                       (\"clf\", GradientBoostingClassifier())])\n",
    "gs_lgr_tfidf = GridSearchCV(tfidf_pipe, param_grid, scoring=\"accuracy\", cv=5, verbose=1, n_jobs=-1)\n",
    "\n",
    "start_time = time.time()\n",
    "gs_lgr_tfidf.fit(X_train, y_train)\n",
    "elpased_time = time.time() - start_time"
   ]
  },
  {
   "cell_type": "code",
   "execution_count": 235,
   "metadata": {},
   "outputs": [
    {
     "name": "stdout",
     "output_type": "stream",
     "text": [
      "----- 579.290218 seconds -----\n",
      "Best parameter set: {'clf__n_estimators': 1000}\n",
      "CV accuracy: 0.866\n",
      "Test accuracy: 0.870\n"
     ]
    }
   ],
   "source": [
    "print(\"----- {:.6f} seconds -----\".format(elpased_time))\n",
    "print(\"Best parameter set: {}\".format(gs_lgr_tfidf.best_params_))\n",
    "print(\"CV accuracy: {:.3f}\".format(gs_lgr_tfidf.best_score_))\n",
    "clf = gs_lgr_tfidf.best_estimator_\n",
    "print(\"Test accuracy: {:.3f}\".format(clf.score(X_test, y_test)))"
   ]
  },
  {
   "cell_type": "code",
   "execution_count": null,
   "metadata": {},
   "outputs": [],
   "source": []
  },
  {
   "cell_type": "code",
   "execution_count": null,
   "metadata": {},
   "outputs": [],
   "source": []
  },
  {
   "cell_type": "code",
   "execution_count": null,
   "metadata": {},
   "outputs": [],
   "source": []
  },
  {
   "cell_type": "code",
   "execution_count": null,
   "metadata": {},
   "outputs": [],
   "source": []
  },
  {
   "cell_type": "code",
   "execution_count": null,
   "metadata": {},
   "outputs": [],
   "source": []
  }
 ],
 "metadata": {
  "kernelspec": {
   "display_name": "Python 3",
   "language": "python",
   "name": "python3"
  },
  "language_info": {
   "codemirror_mode": {
    "name": "ipython",
    "version": 3
   },
   "file_extension": ".py",
   "mimetype": "text/x-python",
   "name": "python",
   "nbconvert_exporter": "python",
   "pygments_lexer": "ipython3",
   "version": "3.6.6"
  }
 },
 "nbformat": 4,
 "nbformat_minor": 2
}
