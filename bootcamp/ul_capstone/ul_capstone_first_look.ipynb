{
 "cells": [
  {
   "cell_type": "code",
   "execution_count": 146,
   "metadata": {},
   "outputs": [],
   "source": [
    "import re\n",
    "import string\n",
    "import numpy as np\n",
    "import pandas as pd\n",
    "import matplotlib.pyplot as plt\n",
    "import seaborn as sns\n",
    "\n",
    "from sklearn.feature_extraction.text import TfidfVectorizer\n",
    "from sklearn.decomposition import LatentDirichletAllocation\n",
    "from sklearn.pipeline import Pipeline\n",
    "\n",
    "import warnings\n",
    "warnings.filterwarnings(\"ignore\")"
   ]
  },
  {
   "cell_type": "code",
   "execution_count": 147,
   "metadata": {},
   "outputs": [
    {
     "name": "stdout",
     "output_type": "stream",
     "text": [
      "Rows: 174\n",
      "Columns: 7\n"
     ]
    },
    {
     "data": {
      "text/html": [
       "<div>\n",
       "<style scoped>\n",
       "    .dataframe tbody tr th:only-of-type {\n",
       "        vertical-align: middle;\n",
       "    }\n",
       "\n",
       "    .dataframe tbody tr th {\n",
       "        vertical-align: top;\n",
       "    }\n",
       "\n",
       "    .dataframe thead th {\n",
       "        text-align: right;\n",
       "    }\n",
       "</style>\n",
       "<table border=\"1\" class=\"dataframe\">\n",
       "  <thead>\n",
       "    <tr style=\"text-align: right;\">\n",
       "      <th></th>\n",
       "      <th>Season</th>\n",
       "      <th>EpisodeNo</th>\n",
       "      <th>Title</th>\n",
       "      <th>AirDate</th>\n",
       "      <th>Writers</th>\n",
       "      <th>Director</th>\n",
       "      <th>SEID</th>\n",
       "    </tr>\n",
       "  </thead>\n",
       "  <tbody>\n",
       "    <tr>\n",
       "      <th>0</th>\n",
       "      <td>1.0</td>\n",
       "      <td>1.0</td>\n",
       "      <td>Good News, Bad News</td>\n",
       "      <td>July 5, 1989</td>\n",
       "      <td>Larry David, Jerry Seinfeld</td>\n",
       "      <td>Art Wolff</td>\n",
       "      <td>S01E01</td>\n",
       "    </tr>\n",
       "    <tr>\n",
       "      <th>1</th>\n",
       "      <td>1.0</td>\n",
       "      <td>1.0</td>\n",
       "      <td>The Stakeout</td>\n",
       "      <td>May 31, 1990</td>\n",
       "      <td>Larry David, Jerry Seinfeld</td>\n",
       "      <td>Tom Cherones</td>\n",
       "      <td>S01E01</td>\n",
       "    </tr>\n",
       "    <tr>\n",
       "      <th>2</th>\n",
       "      <td>1.0</td>\n",
       "      <td>2.0</td>\n",
       "      <td>The Robbery</td>\n",
       "      <td>June 7, 1990</td>\n",
       "      <td>Matt Goldman</td>\n",
       "      <td>Tom Cherones</td>\n",
       "      <td>S01E02</td>\n",
       "    </tr>\n",
       "    <tr>\n",
       "      <th>3</th>\n",
       "      <td>1.0</td>\n",
       "      <td>3.0</td>\n",
       "      <td>Male Unbonding</td>\n",
       "      <td>June 14, 1990</td>\n",
       "      <td>Larry David, Jerry Seinfeld</td>\n",
       "      <td>Tom Cherones</td>\n",
       "      <td>S01E03</td>\n",
       "    </tr>\n",
       "    <tr>\n",
       "      <th>4</th>\n",
       "      <td>1.0</td>\n",
       "      <td>4.0</td>\n",
       "      <td>The Stock Tip</td>\n",
       "      <td>June 21, 1990</td>\n",
       "      <td>Larry David, Jerry Seinfeld</td>\n",
       "      <td>Tom Cherones</td>\n",
       "      <td>S01E04</td>\n",
       "    </tr>\n",
       "  </tbody>\n",
       "</table>\n",
       "</div>"
      ],
      "text/plain": [
       "   Season  EpisodeNo                Title        AirDate  \\\n",
       "0     1.0        1.0  Good News, Bad News   July 5, 1989   \n",
       "1     1.0        1.0         The Stakeout   May 31, 1990   \n",
       "2     1.0        2.0          The Robbery   June 7, 1990   \n",
       "3     1.0        3.0       Male Unbonding  June 14, 1990   \n",
       "4     1.0        4.0        The Stock Tip  June 21, 1990   \n",
       "\n",
       "                       Writers      Director    SEID  \n",
       "0  Larry David, Jerry Seinfeld     Art Wolff  S01E01  \n",
       "1  Larry David, Jerry Seinfeld  Tom Cherones  S01E01  \n",
       "2                 Matt Goldman  Tom Cherones  S01E02  \n",
       "3  Larry David, Jerry Seinfeld  Tom Cherones  S01E03  \n",
       "4  Larry David, Jerry Seinfeld  Tom Cherones  S01E04  "
      ]
     },
     "execution_count": 147,
     "metadata": {},
     "output_type": "execute_result"
    }
   ],
   "source": [
    "df = pd.read_csv(\"episode_info.csv\")\n",
    "\n",
    "# Drop duplicate index column\n",
    "df.drop([\"Unnamed: 0\"], axis=1, inplace=True)\n",
    "\n",
    "print(\"Rows: {}\\nColumns: {}\".format(df.shape[0], df.shape[1]))\n",
    "df.head(n=5)"
   ]
  },
  {
   "cell_type": "code",
   "execution_count": 148,
   "metadata": {},
   "outputs": [
    {
     "name": "stdout",
     "output_type": "stream",
     "text": [
      "<class 'pandas.core.frame.DataFrame'>\n",
      "RangeIndex: 174 entries, 0 to 173\n",
      "Data columns (total 7 columns):\n",
      "Season       174 non-null float64\n",
      "EpisodeNo    174 non-null float64\n",
      "Title        174 non-null object\n",
      "AirDate      174 non-null object\n",
      "Writers      174 non-null object\n",
      "Director     174 non-null object\n",
      "SEID         174 non-null object\n",
      "dtypes: float64(2), object(5)\n",
      "memory usage: 9.6+ KB\n"
     ]
    }
   ],
   "source": [
    "df.info()"
   ]
  },
  {
   "cell_type": "code",
   "execution_count": 30,
   "metadata": {},
   "outputs": [],
   "source": [
    "def convert_to_category(df, cols):\n",
    "    for col in cols:\n",
    "        df[col] = df[col].astype(\"category\")"
   ]
  },
  {
   "cell_type": "code",
   "execution_count": 149,
   "metadata": {},
   "outputs": [],
   "source": [
    "convert_to_category(df, [\"Writers\", \"Director\", \"SEID\"])"
   ]
  },
  {
   "cell_type": "code",
   "execution_count": 150,
   "metadata": {},
   "outputs": [],
   "source": [
    "df[\"AirDate\"] = pd.to_datetime(df[\"AirDate\"])"
   ]
  },
  {
   "cell_type": "code",
   "execution_count": 151,
   "metadata": {},
   "outputs": [
    {
     "name": "stdout",
     "output_type": "stream",
     "text": [
      "<class 'pandas.core.frame.DataFrame'>\n",
      "RangeIndex: 174 entries, 0 to 173\n",
      "Data columns (total 7 columns):\n",
      "Season       174 non-null float64\n",
      "EpisodeNo    174 non-null float64\n",
      "Title        174 non-null object\n",
      "AirDate      174 non-null datetime64[ns]\n",
      "Writers      174 non-null category\n",
      "Director     174 non-null category\n",
      "SEID         174 non-null category\n",
      "dtypes: category(3), datetime64[ns](1), float64(2), object(1)\n",
      "memory usage: 15.8+ KB\n"
     ]
    }
   ],
   "source": [
    "df.info()"
   ]
  },
  {
   "cell_type": "code",
   "execution_count": 152,
   "metadata": {},
   "outputs": [
    {
     "data": {
      "text/html": [
       "<div>\n",
       "<style scoped>\n",
       "    .dataframe tbody tr th:only-of-type {\n",
       "        vertical-align: middle;\n",
       "    }\n",
       "\n",
       "    .dataframe tbody tr th {\n",
       "        vertical-align: top;\n",
       "    }\n",
       "\n",
       "    .dataframe thead th {\n",
       "        text-align: right;\n",
       "    }\n",
       "</style>\n",
       "<table border=\"1\" class=\"dataframe\">\n",
       "  <thead>\n",
       "    <tr style=\"text-align: right;\">\n",
       "      <th></th>\n",
       "      <th>Season</th>\n",
       "      <th>EpisodeNo</th>\n",
       "      <th>Title</th>\n",
       "      <th>AirDate</th>\n",
       "      <th>Writers</th>\n",
       "      <th>Director</th>\n",
       "      <th>SEID</th>\n",
       "    </tr>\n",
       "  </thead>\n",
       "  <tbody>\n",
       "    <tr>\n",
       "      <th>0</th>\n",
       "      <td>1.0</td>\n",
       "      <td>1.0</td>\n",
       "      <td>Good News, Bad News</td>\n",
       "      <td>1989-07-05</td>\n",
       "      <td>Larry David, Jerry Seinfeld</td>\n",
       "      <td>Art Wolff</td>\n",
       "      <td>S01E01</td>\n",
       "    </tr>\n",
       "    <tr>\n",
       "      <th>1</th>\n",
       "      <td>1.0</td>\n",
       "      <td>1.0</td>\n",
       "      <td>The Stakeout</td>\n",
       "      <td>1990-05-31</td>\n",
       "      <td>Larry David, Jerry Seinfeld</td>\n",
       "      <td>Tom Cherones</td>\n",
       "      <td>S01E01</td>\n",
       "    </tr>\n",
       "    <tr>\n",
       "      <th>2</th>\n",
       "      <td>1.0</td>\n",
       "      <td>2.0</td>\n",
       "      <td>The Robbery</td>\n",
       "      <td>1990-06-07</td>\n",
       "      <td>Matt Goldman</td>\n",
       "      <td>Tom Cherones</td>\n",
       "      <td>S01E02</td>\n",
       "    </tr>\n",
       "    <tr>\n",
       "      <th>3</th>\n",
       "      <td>1.0</td>\n",
       "      <td>3.0</td>\n",
       "      <td>Male Unbonding</td>\n",
       "      <td>1990-06-14</td>\n",
       "      <td>Larry David, Jerry Seinfeld</td>\n",
       "      <td>Tom Cherones</td>\n",
       "      <td>S01E03</td>\n",
       "    </tr>\n",
       "    <tr>\n",
       "      <th>4</th>\n",
       "      <td>1.0</td>\n",
       "      <td>4.0</td>\n",
       "      <td>The Stock Tip</td>\n",
       "      <td>1990-06-21</td>\n",
       "      <td>Larry David, Jerry Seinfeld</td>\n",
       "      <td>Tom Cherones</td>\n",
       "      <td>S01E04</td>\n",
       "    </tr>\n",
       "  </tbody>\n",
       "</table>\n",
       "</div>"
      ],
      "text/plain": [
       "   Season  EpisodeNo                Title    AirDate  \\\n",
       "0     1.0        1.0  Good News, Bad News 1989-07-05   \n",
       "1     1.0        1.0         The Stakeout 1990-05-31   \n",
       "2     1.0        2.0          The Robbery 1990-06-07   \n",
       "3     1.0        3.0       Male Unbonding 1990-06-14   \n",
       "4     1.0        4.0        The Stock Tip 1990-06-21   \n",
       "\n",
       "                       Writers      Director    SEID  \n",
       "0  Larry David, Jerry Seinfeld     Art Wolff  S01E01  \n",
       "1  Larry David, Jerry Seinfeld  Tom Cherones  S01E01  \n",
       "2                 Matt Goldman  Tom Cherones  S01E02  \n",
       "3  Larry David, Jerry Seinfeld  Tom Cherones  S01E03  \n",
       "4  Larry David, Jerry Seinfeld  Tom Cherones  S01E04  "
      ]
     },
     "execution_count": 152,
     "metadata": {},
     "output_type": "execute_result"
    }
   ],
   "source": [
    "df.head()"
   ]
  },
  {
   "cell_type": "code",
   "execution_count": 153,
   "metadata": {},
   "outputs": [],
   "source": [
    "def down_2_int(df, cols):\n",
    "    for col in cols:\n",
    "        df[col] = df[col].astype(int)"
   ]
  },
  {
   "cell_type": "code",
   "execution_count": 154,
   "metadata": {},
   "outputs": [],
   "source": [
    "down_2_int(df, [\"Season\", \"EpisodeNo\"])"
   ]
  },
  {
   "cell_type": "code",
   "execution_count": 155,
   "metadata": {},
   "outputs": [
    {
     "name": "stdout",
     "output_type": "stream",
     "text": [
      "<class 'pandas.core.frame.DataFrame'>\n",
      "RangeIndex: 174 entries, 0 to 173\n",
      "Data columns (total 7 columns):\n",
      "Season       174 non-null int64\n",
      "EpisodeNo    174 non-null int64\n",
      "Title        174 non-null object\n",
      "AirDate      174 non-null datetime64[ns]\n",
      "Writers      174 non-null category\n",
      "Director     174 non-null category\n",
      "SEID         174 non-null category\n",
      "dtypes: category(3), datetime64[ns](1), int64(2), object(1)\n",
      "memory usage: 15.8+ KB\n"
     ]
    }
   ],
   "source": [
    "df.info()"
   ]
  },
  {
   "cell_type": "code",
   "execution_count": 156,
   "metadata": {},
   "outputs": [
    {
     "data": {
      "text/plain": [
       "Season       0\n",
       "EpisodeNo    0\n",
       "Title        0\n",
       "AirDate      0\n",
       "Writers      0\n",
       "Director     0\n",
       "SEID         0\n",
       "dtype: int64"
      ]
     },
     "execution_count": 156,
     "metadata": {},
     "output_type": "execute_result"
    }
   ],
   "source": [
    "df.isnull().sum()"
   ]
  },
  {
   "cell_type": "code",
   "execution_count": 157,
   "metadata": {},
   "outputs": [],
   "source": [
    "# Helper function to find unique column values\n",
    "def unique_col_values(df):\n",
    "    max_name_len = np.max([len(col_name) for col_name in df.columns]) + 2\n",
    "    format_str = \"{:<\" + str(max_name_len) + \"}{:<8}{:<15}\"\n",
    "\n",
    "    print(format_str.format(\"Name\", \"Unique\", \"DType\"))\n",
    "    print()\n",
    "    for col in df:\n",
    "        print(format_str.format(df[col].name, len(df[col].unique()), str(df[col].dtype)))"
   ]
  },
  {
   "cell_type": "code",
   "execution_count": 158,
   "metadata": {},
   "outputs": [
    {
     "name": "stdout",
     "output_type": "stream",
     "text": [
      "Name       Unique  DType          \n",
      "\n",
      "Season     9       int64          \n",
      "EpisodeNo  24      int64          \n",
      "Title      174     object         \n",
      "AirDate    169     datetime64[ns] \n",
      "Writers    52      category       \n",
      "Director   8       category       \n",
      "SEID       173     category       \n"
     ]
    }
   ],
   "source": [
    "unique_col_values(df)"
   ]
  },
  {
   "cell_type": "markdown",
   "metadata": {},
   "source": [
    "Duplicates are expected for Season, EpisodeNo, Writers, and Director. AirDate and SEID, however, duplicates are not expected. Let's see what's going on:"
   ]
  },
  {
   "cell_type": "code",
   "execution_count": 159,
   "metadata": {},
   "outputs": [
    {
     "data": {
      "text/html": [
       "<div>\n",
       "<style scoped>\n",
       "    .dataframe tbody tr th:only-of-type {\n",
       "        vertical-align: middle;\n",
       "    }\n",
       "\n",
       "    .dataframe tbody tr th {\n",
       "        vertical-align: top;\n",
       "    }\n",
       "\n",
       "    .dataframe thead th {\n",
       "        text-align: right;\n",
       "    }\n",
       "</style>\n",
       "<table border=\"1\" class=\"dataframe\">\n",
       "  <thead>\n",
       "    <tr style=\"text-align: right;\">\n",
       "      <th></th>\n",
       "      <th>Season</th>\n",
       "      <th>EpisodeNo</th>\n",
       "      <th>Title</th>\n",
       "      <th>AirDate</th>\n",
       "      <th>Writers</th>\n",
       "      <th>Director</th>\n",
       "      <th>SEID</th>\n",
       "    </tr>\n",
       "  </thead>\n",
       "  <tbody>\n",
       "    <tr>\n",
       "      <th>34</th>\n",
       "      <td>3</td>\n",
       "      <td>18</td>\n",
       "      <td>The Boyfriend (2)</td>\n",
       "      <td>1992-02-12</td>\n",
       "      <td>Larry David and Larry Levin</td>\n",
       "      <td>Tom Cherones</td>\n",
       "      <td>S03E18</td>\n",
       "    </tr>\n",
       "    <tr>\n",
       "      <th>43</th>\n",
       "      <td>4</td>\n",
       "      <td>4</td>\n",
       "      <td>The Ticket</td>\n",
       "      <td>1992-09-16</td>\n",
       "      <td>Larry David</td>\n",
       "      <td>Tom Cherones</td>\n",
       "      <td>S04E04</td>\n",
       "    </tr>\n",
       "    <tr>\n",
       "      <th>63</th>\n",
       "      <td>4</td>\n",
       "      <td>24</td>\n",
       "      <td>The Pilot (2)</td>\n",
       "      <td>1993-05-20</td>\n",
       "      <td>Larry David</td>\n",
       "      <td>Tom Cherones</td>\n",
       "      <td>S04E24</td>\n",
       "    </tr>\n",
       "    <tr>\n",
       "      <th>121</th>\n",
       "      <td>7</td>\n",
       "      <td>15</td>\n",
       "      <td>The Cadillac (2)</td>\n",
       "      <td>1996-02-08</td>\n",
       "      <td>Larry David, Jerry Seinfeld</td>\n",
       "      <td>Andy Ackerman</td>\n",
       "      <td>S07E15</td>\n",
       "    </tr>\n",
       "    <tr>\n",
       "      <th>128</th>\n",
       "      <td>7</td>\n",
       "      <td>22</td>\n",
       "      <td>The Bottle Deposit (2)</td>\n",
       "      <td>1996-05-02</td>\n",
       "      <td>Gregg Kavet, Andy Robin</td>\n",
       "      <td>Andy Ackerman</td>\n",
       "      <td>S07E22</td>\n",
       "    </tr>\n",
       "  </tbody>\n",
       "</table>\n",
       "</div>"
      ],
      "text/plain": [
       "     Season  EpisodeNo                   Title    AirDate  \\\n",
       "34        3         18       The Boyfriend (2) 1992-02-12   \n",
       "43        4          4              The Ticket 1992-09-16   \n",
       "63        4         24           The Pilot (2) 1993-05-20   \n",
       "121       7         15        The Cadillac (2) 1996-02-08   \n",
       "128       7         22  The Bottle Deposit (2) 1996-05-02   \n",
       "\n",
       "                         Writers       Director    SEID  \n",
       "34   Larry David and Larry Levin   Tom Cherones  S03E18  \n",
       "43                   Larry David   Tom Cherones  S04E04  \n",
       "63                   Larry David   Tom Cherones  S04E24  \n",
       "121  Larry David, Jerry Seinfeld  Andy Ackerman  S07E15  \n",
       "128      Gregg Kavet, Andy Robin  Andy Ackerman  S07E22  "
      ]
     },
     "execution_count": 159,
     "metadata": {},
     "output_type": "execute_result"
    }
   ],
   "source": [
    "df[df.duplicated(\"AirDate\")]"
   ]
  },
  {
   "cell_type": "code",
   "execution_count": 160,
   "metadata": {},
   "outputs": [
    {
     "data": {
      "text/html": [
       "<div>\n",
       "<style scoped>\n",
       "    .dataframe tbody tr th:only-of-type {\n",
       "        vertical-align: middle;\n",
       "    }\n",
       "\n",
       "    .dataframe tbody tr th {\n",
       "        vertical-align: top;\n",
       "    }\n",
       "\n",
       "    .dataframe thead th {\n",
       "        text-align: right;\n",
       "    }\n",
       "</style>\n",
       "<table border=\"1\" class=\"dataframe\">\n",
       "  <thead>\n",
       "    <tr style=\"text-align: right;\">\n",
       "      <th></th>\n",
       "      <th>Season</th>\n",
       "      <th>EpisodeNo</th>\n",
       "      <th>Title</th>\n",
       "      <th>AirDate</th>\n",
       "      <th>Writers</th>\n",
       "      <th>Director</th>\n",
       "      <th>SEID</th>\n",
       "    </tr>\n",
       "  </thead>\n",
       "  <tbody>\n",
       "    <tr>\n",
       "      <th>42</th>\n",
       "      <td>4</td>\n",
       "      <td>3</td>\n",
       "      <td>The Pitch</td>\n",
       "      <td>1992-09-16</td>\n",
       "      <td>Larry Charles</td>\n",
       "      <td>Tom Cherones</td>\n",
       "      <td>S04E03</td>\n",
       "    </tr>\n",
       "    <tr>\n",
       "      <th>43</th>\n",
       "      <td>4</td>\n",
       "      <td>4</td>\n",
       "      <td>The Ticket</td>\n",
       "      <td>1992-09-16</td>\n",
       "      <td>Larry David</td>\n",
       "      <td>Tom Cherones</td>\n",
       "      <td>S04E04</td>\n",
       "    </tr>\n",
       "  </tbody>\n",
       "</table>\n",
       "</div>"
      ],
      "text/plain": [
       "    Season  EpisodeNo       Title    AirDate        Writers      Director  \\\n",
       "42       4          3   The Pitch 1992-09-16  Larry Charles  Tom Cherones   \n",
       "43       4          4  The Ticket 1992-09-16    Larry David  Tom Cherones   \n",
       "\n",
       "      SEID  \n",
       "42  S04E03  \n",
       "43  S04E04  "
      ]
     },
     "execution_count": 160,
     "metadata": {},
     "output_type": "execute_result"
    }
   ],
   "source": [
    "df.iloc[42:44,]"
   ]
  },
  {
   "cell_type": "markdown",
   "metadata": {},
   "source": [
    "Per Wikipedia, \"The Pitch\", and \"The Ticket\" was a two-part series that aired on the same night. All the rest appear to be two-parters as well. Thus, no problem."
   ]
  },
  {
   "cell_type": "code",
   "execution_count": 161,
   "metadata": {},
   "outputs": [
    {
     "data": {
      "text/html": [
       "<div>\n",
       "<style scoped>\n",
       "    .dataframe tbody tr th:only-of-type {\n",
       "        vertical-align: middle;\n",
       "    }\n",
       "\n",
       "    .dataframe tbody tr th {\n",
       "        vertical-align: top;\n",
       "    }\n",
       "\n",
       "    .dataframe thead th {\n",
       "        text-align: right;\n",
       "    }\n",
       "</style>\n",
       "<table border=\"1\" class=\"dataframe\">\n",
       "  <thead>\n",
       "    <tr style=\"text-align: right;\">\n",
       "      <th></th>\n",
       "      <th>Season</th>\n",
       "      <th>EpisodeNo</th>\n",
       "      <th>Title</th>\n",
       "      <th>AirDate</th>\n",
       "      <th>Writers</th>\n",
       "      <th>Director</th>\n",
       "      <th>SEID</th>\n",
       "    </tr>\n",
       "  </thead>\n",
       "  <tbody>\n",
       "    <tr>\n",
       "      <th>1</th>\n",
       "      <td>1</td>\n",
       "      <td>1</td>\n",
       "      <td>The Stakeout</td>\n",
       "      <td>1990-05-31</td>\n",
       "      <td>Larry David, Jerry Seinfeld</td>\n",
       "      <td>Tom Cherones</td>\n",
       "      <td>S01E01</td>\n",
       "    </tr>\n",
       "  </tbody>\n",
       "</table>\n",
       "</div>"
      ],
      "text/plain": [
       "   Season  EpisodeNo         Title    AirDate                      Writers  \\\n",
       "1       1          1  The Stakeout 1990-05-31  Larry David, Jerry Seinfeld   \n",
       "\n",
       "       Director    SEID  \n",
       "1  Tom Cherones  S01E01  "
      ]
     },
     "execution_count": 161,
     "metadata": {},
     "output_type": "execute_result"
    }
   ],
   "source": [
    "df[df.duplicated(\"SEID\")]"
   ]
  },
  {
   "cell_type": "code",
   "execution_count": 162,
   "metadata": {},
   "outputs": [
    {
     "data": {
      "text/html": [
       "<div>\n",
       "<style scoped>\n",
       "    .dataframe tbody tr th:only-of-type {\n",
       "        vertical-align: middle;\n",
       "    }\n",
       "\n",
       "    .dataframe tbody tr th {\n",
       "        vertical-align: top;\n",
       "    }\n",
       "\n",
       "    .dataframe thead th {\n",
       "        text-align: right;\n",
       "    }\n",
       "</style>\n",
       "<table border=\"1\" class=\"dataframe\">\n",
       "  <thead>\n",
       "    <tr style=\"text-align: right;\">\n",
       "      <th></th>\n",
       "      <th>Season</th>\n",
       "      <th>EpisodeNo</th>\n",
       "      <th>Title</th>\n",
       "      <th>AirDate</th>\n",
       "      <th>Writers</th>\n",
       "      <th>Director</th>\n",
       "      <th>SEID</th>\n",
       "    </tr>\n",
       "  </thead>\n",
       "  <tbody>\n",
       "    <tr>\n",
       "      <th>0</th>\n",
       "      <td>1</td>\n",
       "      <td>1</td>\n",
       "      <td>Good News, Bad News</td>\n",
       "      <td>1989-07-05</td>\n",
       "      <td>Larry David, Jerry Seinfeld</td>\n",
       "      <td>Art Wolff</td>\n",
       "      <td>S01E01</td>\n",
       "    </tr>\n",
       "    <tr>\n",
       "      <th>1</th>\n",
       "      <td>1</td>\n",
       "      <td>1</td>\n",
       "      <td>The Stakeout</td>\n",
       "      <td>1990-05-31</td>\n",
       "      <td>Larry David, Jerry Seinfeld</td>\n",
       "      <td>Tom Cherones</td>\n",
       "      <td>S01E01</td>\n",
       "    </tr>\n",
       "  </tbody>\n",
       "</table>\n",
       "</div>"
      ],
      "text/plain": [
       "   Season  EpisodeNo                Title    AirDate  \\\n",
       "0       1          1  Good News, Bad News 1989-07-05   \n",
       "1       1          1         The Stakeout 1990-05-31   \n",
       "\n",
       "                       Writers      Director    SEID  \n",
       "0  Larry David, Jerry Seinfeld     Art Wolff  S01E01  \n",
       "1  Larry David, Jerry Seinfeld  Tom Cherones  S01E01  "
      ]
     },
     "execution_count": 162,
     "metadata": {},
     "output_type": "execute_result"
    }
   ],
   "source": [
    "df.iloc[0:2]"
   ]
  },
  {
   "cell_type": "markdown",
   "metadata": {},
   "source": [
    "This looks to be an actual mistake. \"Good News, Bad News\" should be episode one, while \"The Stakeout\" should be episode two. No corrective action will be taken right now, but we note the error as it may need to be fixed later."
   ]
  },
  {
   "cell_type": "code",
   "execution_count": 163,
   "metadata": {},
   "outputs": [
    {
     "name": "stdout",
     "output_type": "stream",
     "text": [
      "Larry David, Jerry Seinfeld\n",
      "\n",
      "Matt Goldman\n",
      "\n",
      "Peter Mehlman\n",
      "\n",
      "Larry David\n",
      "\n",
      "Larry Charles\n",
      "\n",
      "Elaine Pope\n",
      "\n",
      "Tom Leopold\n",
      "\n",
      "Larry David and Bob Shaw, Don McEnery\n",
      "\n",
      "Larry David, Jerry Seinfeld and Matt Goldman\n",
      "\n",
      "Larry David and Bill Masters\n",
      "\n",
      "Elaine Pope, Larry Charles\n",
      "\n",
      "Larry David and Larry Levin\n",
      "\n",
      "Larry Charles / Story By Marc Jaffe\n",
      "\n",
      "Larry David and Greg Daniels\n",
      "\n",
      "Larry David, Larry Charles\n",
      "\n",
      "Steve Skrovan, Bill Masters, Jon Hayman\n",
      "\n",
      "Bruce Kirschbaum\n",
      "\n",
      "Andy Robin\n",
      "\n",
      "Larry David, Peter Mehlman\n",
      "\n",
      "Lawrence H. Levy, Buck Dancer (Larry David pseudonym)\n",
      "\n",
      "Tom Gammill, Max Pross\n",
      "\n",
      "Carol Leifer\n",
      "\n",
      "Ron Hague, Charlie Rubin\n",
      "\n",
      "Tom Gammill, Max Pross and Larry David, Jerry Seinfeld\n",
      "\n",
      "Peter Mehlman, Carol Leifer\n",
      "\n",
      "Andy Cowan and Larry David, Jerry Seinfeld\n",
      "\n",
      "Larry David, Bill Masters, Bob Shaw\n",
      "\n",
      "Alec Berg, Jeff Schaffer\n",
      "\n",
      "Fred Stoller\n",
      "\n",
      "Carol Leifer, Marjorie Gross\n",
      "\n",
      "Tom Gammill, Max Pross and Larry David\n",
      "\n",
      "Bruce Kirschbaum and Sam Kass\n",
      "\n",
      "Gregg Kavet, Andy Robin\n",
      "\n",
      "Marjorie Gross\n",
      "\n",
      "Marjorie Gross, Carol Leifer\n",
      "\n",
      "Spike Feresten\n",
      "\n",
      "David Mandel\n",
      "\n",
      "Peter Mehlman, Marjorie Gross\n",
      "\n",
      "Jennifer Crittenden\n",
      "\n",
      "Steve O'Donnell and Tom Gammill, Max Pross\n",
      "\n",
      "Steve Koren\n",
      "\n",
      "Darin Henry\n",
      "\n",
      "Steve O'Donnell and Dan O'Keefe\n",
      "\n",
      "Peter Mehlman and Jill Franklyn\n",
      "\n",
      "Alec Berg, Jeff Schaffer, David Mandel\n",
      "\n",
      "Dan O'Keefe\n",
      "\n",
      "Bruce Eric Kaplan\n",
      "\n",
      "David Mandel, Peter Mehlman\n",
      "\n",
      "Dan O'Keefe, Alec Berg, Jeff Schaffer\n",
      "\n",
      "Steve Lookner\n",
      "\n",
      "Alec Berg, David Mandel, Jeff Schaffer\n",
      "\n",
      "Alec Berg, Jennifer Crittenden, Spike Feresten, Bruce Eric Kaplan, Gregg Kavet, Steve Koren, David Mandel, Dan O'Keefe, Andy Robin and Jeff Schaffer.\n",
      "\n"
     ]
    }
   ],
   "source": [
    "for writer in df[\"Writers\"].unique():\n",
    "    print(writer)\n",
    "    print()"
   ]
  },
  {
   "cell_type": "code",
   "execution_count": 164,
   "metadata": {},
   "outputs": [],
   "source": [
    "top_20_writing_teams = df[\"Writers\"].value_counts().head(20)\n",
    "top_20_index = list(top_20_writing_teams.index)\n",
    "top_20_values = list(top_20_writing_teams.values)"
   ]
  },
  {
   "cell_type": "code",
   "execution_count": 165,
   "metadata": {},
   "outputs": [
    {
     "data": {
      "image/png": "[encoded data removed]",
      "text/plain": [
       "<Figure size 432x288 with 1 Axes>"
      ]
     },
     "metadata": {},
     "output_type": "display_data"
    }
   ],
   "source": [
    "plt.bar(x=top_20_index, height=top_20_values)\n",
    "plt.xticks(rotation=90)\n",
    "plt.show()"
   ]
  },
  {
   "cell_type": "code",
   "execution_count": 166,
   "metadata": {},
   "outputs": [
    {
     "data": {
      "text/plain": [
       "14"
      ]
     },
     "execution_count": 166,
     "metadata": {},
     "output_type": "execute_result"
    }
   ],
   "source": [
    "total_larry_david = len([writer for writer in df[\"Writers\"].unique() if \"Larry David\" in writer])\n",
    "total_larry_david"
   ]
  },
  {
   "cell_type": "code",
   "execution_count": 167,
   "metadata": {
    "scrolled": false
   },
   "outputs": [],
   "source": [
    "def writer_counter(writer_name):\n",
    "    count = 0\n",
    "    for writer in df[\"Writers\"]:\n",
    "        if writer_name in writer:\n",
    "            count += 1\n",
    "    return count"
   ]
  },
  {
   "cell_type": "code",
   "execution_count": 168,
   "metadata": {},
   "outputs": [
    {
     "name": "stdout",
     "output_type": "stream",
     "text": [
      "Larry David wrote/co-wrote total: 58\n",
      "Larry Charles wrote/co-wrote total: 19\n",
      "Jerry Seinfeld wrote/co-wrote total: 18\n",
      "Peter Mehlman wrote/co-wrote total: 19\n",
      "Tom Gammill wrote/co-wrote total: 13\n",
      "Max Pross wrote/co-wrote total: 13\n",
      "Alec Berg wrote/co-wrote total: 14\n",
      "Gregg Kavet wrote/co-wrote total: 11\n",
      "Andy Robin wrote/co-wrote total: 13\n",
      "Jeff Schaffer wrote/co-wrote total: 14\n",
      "Spike Feresten wrote/co-wrote total: 9\n",
      "Jennifer Crittenden wrote/co-wrote total: 6\n",
      "Steve Koren wrote/co-wrote total: 5\n",
      "David Mandel wrote/co-wrote total: 9\n",
      "Carol Leifer wrote/co-wrote total: 6\n",
      "Larry Levin wrote/co-wrote total: 2\n"
     ]
    }
   ],
   "source": [
    "writer_list = [\"Larry David\", \"Larry Charles\", \"Jerry Seinfeld\", \"Peter Mehlman\", \"Tom Gammill\", \"Max Pross\",\n",
    "              \"Alec Berg\", \"Gregg Kavet\", \"Andy Robin\", \"Jeff Schaffer\", \"Spike Feresten\", \"Jennifer Crittenden\",\n",
    "              \"Steve Koren\", \"David Mandel\", \"Carol Leifer\", \"Larry Levin\"]\n",
    "\n",
    "for writer in writer_list:\n",
    "    print(\"{} wrote/co-wrote total: {}\".format(writer, writer_counter(writer)))"
   ]
  },
  {
   "cell_type": "markdown",
   "metadata": {},
   "source": [
    "Larry David left the biggest mark on the show, being credit as a writer (solo or team) on a total of 58 episodes. Interestingly, Jerry Seinfeld only contributed as a writer for 18 episodes (although, this shouldn't surprise anyone who has seen Larry David's other show, \"Curb Your Enthusiasm\")."
   ]
  },
  {
   "cell_type": "code",
   "execution_count": 169,
   "metadata": {},
   "outputs": [
    {
     "data": {
      "text/plain": [
       "Andy Ackerman            87\n",
       "Tom Cherones             80\n",
       "David Owen Trainor        2\n",
       "Joshua White              1\n",
       "Jason Alexander           1\n",
       "David&nbsp; Steinberg     1\n",
       "David Steinberg           1\n",
       "Art Wolff                 1\n",
       "Name: Director, dtype: int64"
      ]
     },
     "execution_count": 169,
     "metadata": {},
     "output_type": "execute_result"
    }
   ],
   "source": [
    "df[\"Director\"].value_counts()"
   ]
  },
  {
   "cell_type": "code",
   "execution_count": 170,
   "metadata": {},
   "outputs": [
    {
     "data": {
      "image/png": "[encoded data removed]",
      "text/plain": [
       "<Figure size 432x288 with 1 Axes>"
      ]
     },
     "metadata": {},
     "output_type": "display_data"
    }
   ],
   "source": [
    "plt.bar(x=df[\"Director\"].value_counts().index,\n",
    "        height=df[\"Director\"].value_counts().values)\n",
    "plt.xticks(rotation=90)\n",
    "plt.show()"
   ]
  },
  {
   "cell_type": "code",
   "execution_count": 171,
   "metadata": {},
   "outputs": [],
   "source": [
    "from nltk.stem.porter import PorterStemmer\n",
    "from nltk.corpus import stopwords\n",
    "stop_words = stopwords.words(\"english\")\n",
    "\n",
    "\n",
    "def preprocess_text(text):\n",
    "    # Remove text and tokenize\n",
    "    text = str(text)\n",
    "    regex_pattern = r\"(\\w[\\w']*\\w|\\w)\"\n",
    "    regex_compiled = re.compile(regex_pattern)\n",
    "    tokens = regex_compiled.findall(text)\n",
    "    \n",
    "    # Convert to lowercase\n",
    "    tokens = [word.lower() for word in tokens]\n",
    "    \n",
    "    # Remove stopwords\n",
    "    tokens = [word for word in tokens if word not in stop_words]\n",
    "    \n",
    "    # Stem\n",
    "    porter = PorterStemmer()\n",
    "    tokens = [porter.stem(word) for word in tokens]\n",
    "    \n",
    "    return tokens"
   ]
  },
  {
   "cell_type": "code",
   "execution_count": 136,
   "metadata": {},
   "outputs": [
    {
     "data": {
      "text/plain": [
       "CountVectorizer(analyzer=<function preprocess_text at 0x1a20a051e0>,\n",
       "        binary=False, decode_error='strict', dtype=<class 'numpy.int64'>,\n",
       "        encoding='utf-8', input='content', lowercase=True, max_df=1.0,\n",
       "        max_features=None, min_df=1, ngram_range=(1, 1), preprocessor=None,\n",
       "        stop_words=None, strip_accents=None,\n",
       "        token_pattern='(?u)\\\\b\\\\w\\\\w+\\\\b', tokenizer=None, vocabulary=None)"
      ]
     },
     "execution_count": 136,
     "metadata": {},
     "output_type": "execute_result"
    }
   ],
   "source": [
    "from sklearn.feature_extraction.text import CountVectorizer\n",
    "bow = CountVectorizer(analyzer=preprocess_text)\n",
    "bow.fit(X)\n"
   ]
  },
  {
   "cell_type": "code",
   "execution_count": 137,
   "metadata": {},
   "outputs": [
    {
     "name": "stdout",
     "output_type": "stream",
     "text": [
      "(174, 231)\n"
     ]
    }
   ],
   "source": [
    "title_bow = bow.transform(X)\n",
    "print(title_bow.shape)"
   ]
  },
  {
   "cell_type": "code",
   "execution_count": 138,
   "metadata": {},
   "outputs": [],
   "source": [
    "from sklearn.feature_extraction.text import TfidfTransformer\n",
    "from sklearn.feature_extraction.text import TfidfVectorizer\n",
    "tfidf_transformer = TfidfTransformer()\n",
    "title_tfidf = tfidf_transformer.fit(title_bow)"
   ]
  },
  {
   "cell_type": "code",
   "execution_count": 139,
   "metadata": {},
   "outputs": [],
   "source": [
    "#count = TfidfVectorizer(stop_words=\"english\", max_df=0.1, max_features=5000)\n",
    "#X = count.fit_transform(X)"
   ]
  },
  {
   "cell_type": "code",
   "execution_count": 140,
   "metadata": {},
   "outputs": [],
   "source": [
    "lda = LatentDirichletAllocation(n_topics=20, random_state=42, learning_method=\"batch\")\n",
    "X_topics = lda.fit_transform(title_bow)"
   ]
  },
  {
   "cell_type": "code",
   "execution_count": 141,
   "metadata": {},
   "outputs": [
    {
     "name": "stdout",
     "output_type": "stream",
     "text": [
      "Topic 1:\n",
      "andrea pez diplomat' dispens doria\n",
      "Topic 2:\n",
      "pilot chicken head roaster seren\n",
      "Topic 3:\n",
      "store mom pop amp day\n",
      "Topic 4:\n",
      "1 wallet biologist marin fix\n",
      "Topic 5:\n",
      "1 bottl deposit boy buren\n",
      "Topic 6:\n",
      "news letter good littl bad\n",
      "Topic 7:\n",
      "trip lip mail tub hot\n",
      "Topic 8:\n",
      "chines park samaritan puffi woman\n",
      "Topic 9:\n",
      "yada merv show griffin unbond\n",
      "Topic 10:\n",
      "shower babi georg summer chaperon\n",
      "Topic 11:\n",
      "parti dinner dot wig red\n",
      "Topic 12:\n",
      "man k peephol fur revers\n",
      "Topic 13:\n",
      "soup code stock nazi account\n",
      "Topic 14:\n",
      "hello kiss restaur bubbl pledg\n",
      "Topic 15:\n",
      "butter shave spot maker label\n",
      "Topic 16:\n",
      "boyfriend old muffin top stand\n",
      "Topic 17:\n",
      "car altern side smelli movi\n",
      "Topic 18:\n",
      "2 club cadillac gypsi friar\n",
      "Topic 19:\n",
      "glass opera tape couch pie\n",
      "Topic 20:\n",
      "jerri yogurt non fat ex\n"
     ]
    }
   ],
   "source": [
    "n_top_words = 5\n",
    "feature_names = bow.get_feature_names()\n",
    "for topic_idx, topic in enumerate(lda.components_):\n",
    "    print(\"Topic {}:\".format(topic_idx + 1))\n",
    "    print(\" \".join([feature_names[i] for i in topic.argsort()[:-n_top_words - 1:-1]]))"
   ]
  },
  {
   "cell_type": "code",
   "execution_count": 142,
   "metadata": {},
   "outputs": [
    {
     "data": {
      "text/html": [
       "<div>\n",
       "<style scoped>\n",
       "    .dataframe tbody tr th:only-of-type {\n",
       "        vertical-align: middle;\n",
       "    }\n",
       "\n",
       "    .dataframe tbody tr th {\n",
       "        vertical-align: top;\n",
       "    }\n",
       "\n",
       "    .dataframe thead th {\n",
       "        text-align: right;\n",
       "    }\n",
       "</style>\n",
       "<table border=\"1\" class=\"dataframe\">\n",
       "  <thead>\n",
       "    <tr style=\"text-align: right;\">\n",
       "      <th></th>\n",
       "      <th>Unnamed: 0</th>\n",
       "      <th>Character</th>\n",
       "      <th>Dialogue</th>\n",
       "      <th>EpisodeNo</th>\n",
       "      <th>SEID</th>\n",
       "      <th>Season</th>\n",
       "    </tr>\n",
       "  </thead>\n",
       "  <tbody>\n",
       "    <tr>\n",
       "      <th>0</th>\n",
       "      <td>0</td>\n",
       "      <td>JERRY</td>\n",
       "      <td>Do you know what this is all about? Do you kno...</td>\n",
       "      <td>1.0</td>\n",
       "      <td>S01E01</td>\n",
       "      <td>1.0</td>\n",
       "    </tr>\n",
       "    <tr>\n",
       "      <th>1</th>\n",
       "      <td>1</td>\n",
       "      <td>JERRY</td>\n",
       "      <td>(pointing at Georges shirt) See, to me, that b...</td>\n",
       "      <td>1.0</td>\n",
       "      <td>S01E01</td>\n",
       "      <td>1.0</td>\n",
       "    </tr>\n",
       "    <tr>\n",
       "      <th>2</th>\n",
       "      <td>2</td>\n",
       "      <td>GEORGE</td>\n",
       "      <td>Are you through?</td>\n",
       "      <td>1.0</td>\n",
       "      <td>S01E01</td>\n",
       "      <td>1.0</td>\n",
       "    </tr>\n",
       "    <tr>\n",
       "      <th>3</th>\n",
       "      <td>3</td>\n",
       "      <td>JERRY</td>\n",
       "      <td>You do of course try on, when you buy?</td>\n",
       "      <td>1.0</td>\n",
       "      <td>S01E01</td>\n",
       "      <td>1.0</td>\n",
       "    </tr>\n",
       "    <tr>\n",
       "      <th>4</th>\n",
       "      <td>4</td>\n",
       "      <td>GEORGE</td>\n",
       "      <td>Yes, it was purple, I liked it, I dont actuall...</td>\n",
       "      <td>1.0</td>\n",
       "      <td>S01E01</td>\n",
       "      <td>1.0</td>\n",
       "    </tr>\n",
       "    <tr>\n",
       "      <th>5</th>\n",
       "      <td>5</td>\n",
       "      <td>JERRY</td>\n",
       "      <td>Oh, you dont recall?</td>\n",
       "      <td>1.0</td>\n",
       "      <td>S01E01</td>\n",
       "      <td>1.0</td>\n",
       "    </tr>\n",
       "    <tr>\n",
       "      <th>6</th>\n",
       "      <td>6</td>\n",
       "      <td>GEORGE</td>\n",
       "      <td>(on an imaginary microphone) Uh, no, not at th...</td>\n",
       "      <td>1.0</td>\n",
       "      <td>S01E01</td>\n",
       "      <td>1.0</td>\n",
       "    </tr>\n",
       "    <tr>\n",
       "      <th>7</th>\n",
       "      <td>7</td>\n",
       "      <td>JERRY</td>\n",
       "      <td>Well, senator, Id just like to know, what you ...</td>\n",
       "      <td>1.0</td>\n",
       "      <td>S01E01</td>\n",
       "      <td>1.0</td>\n",
       "    </tr>\n",
       "    <tr>\n",
       "      <th>8</th>\n",
       "      <td>8</td>\n",
       "      <td>CLAIRE</td>\n",
       "      <td>Mr. Seinfeld. Mr. Costanza.</td>\n",
       "      <td>1.0</td>\n",
       "      <td>S01E01</td>\n",
       "      <td>1.0</td>\n",
       "    </tr>\n",
       "    <tr>\n",
       "      <th>9</th>\n",
       "      <td>9</td>\n",
       "      <td>GEORGE</td>\n",
       "      <td>Are, are you sure this is decaf? Wheres the or...</td>\n",
       "      <td>1.0</td>\n",
       "      <td>S01E01</td>\n",
       "      <td>1.0</td>\n",
       "    </tr>\n",
       "  </tbody>\n",
       "</table>\n",
       "</div>"
      ],
      "text/plain": [
       "   Unnamed: 0 Character                                           Dialogue  \\\n",
       "0           0     JERRY  Do you know what this is all about? Do you kno...   \n",
       "1           1     JERRY  (pointing at Georges shirt) See, to me, that b...   \n",
       "2           2    GEORGE                                   Are you through?   \n",
       "3           3     JERRY             You do of course try on, when you buy?   \n",
       "4           4    GEORGE  Yes, it was purple, I liked it, I dont actuall...   \n",
       "5           5     JERRY                               Oh, you dont recall?   \n",
       "6           6    GEORGE  (on an imaginary microphone) Uh, no, not at th...   \n",
       "7           7     JERRY  Well, senator, Id just like to know, what you ...   \n",
       "8           8    CLAIRE                        Mr. Seinfeld. Mr. Costanza.   \n",
       "9           9    GEORGE  Are, are you sure this is decaf? Wheres the or...   \n",
       "\n",
       "   EpisodeNo    SEID  Season  \n",
       "0        1.0  S01E01     1.0  \n",
       "1        1.0  S01E01     1.0  \n",
       "2        1.0  S01E01     1.0  \n",
       "3        1.0  S01E01     1.0  \n",
       "4        1.0  S01E01     1.0  \n",
       "5        1.0  S01E01     1.0  \n",
       "6        1.0  S01E01     1.0  \n",
       "7        1.0  S01E01     1.0  \n",
       "8        1.0  S01E01     1.0  \n",
       "9        1.0  S01E01     1.0  "
      ]
     },
     "execution_count": 142,
     "metadata": {},
     "output_type": "execute_result"
    }
   ],
   "source": [
    "df2 = pd.read_csv(\"scripts.csv\")\n",
    "df2.head(n=10)"
   ]
  },
  {
   "cell_type": "code",
   "execution_count": 143,
   "metadata": {},
   "outputs": [
    {
     "name": "stdout",
     "output_type": "stream",
     "text": [
      "<class 'pandas.core.frame.DataFrame'>\n",
      "RangeIndex: 54616 entries, 0 to 54615\n",
      "Data columns (total 6 columns):\n",
      "Unnamed: 0    54616 non-null int64\n",
      "Character     54616 non-null object\n",
      "Dialogue      54606 non-null object\n",
      "EpisodeNo     54616 non-null float64\n",
      "SEID          54616 non-null object\n",
      "Season        54616 non-null float64\n",
      "dtypes: float64(2), int64(1), object(3)\n",
      "memory usage: 2.5+ MB\n"
     ]
    }
   ],
   "source": [
    "df2.info()"
   ]
  },
  {
   "cell_type": "code",
   "execution_count": 144,
   "metadata": {},
   "outputs": [
    {
     "data": {
      "text/plain": [
       "Unnamed: 0     0\n",
       "Character      0\n",
       "Dialogue      10\n",
       "EpisodeNo      0\n",
       "SEID           0\n",
       "Season         0\n",
       "dtype: int64"
      ]
     },
     "execution_count": 144,
     "metadata": {},
     "output_type": "execute_result"
    }
   ],
   "source": [
    "df2.isnull().sum()"
   ]
  },
  {
   "cell_type": "code",
   "execution_count": null,
   "metadata": {},
   "outputs": [],
   "source": []
  }
 ],
 "metadata": {
  "kernelspec": {
   "display_name": "Python 3",
   "language": "python",
   "name": "python3"
  },
  "language_info": {
   "codemirror_mode": {
    "name": "ipython",
    "version": 3
   },
   "file_extension": ".py",
   "mimetype": "text/x-python",
   "name": "python",
   "nbconvert_exporter": "python",
   "pygments_lexer": "ipython3",
   "version": "3.6.6"
  }
 },
 "nbformat": 4,
 "nbformat_minor": 2
}
