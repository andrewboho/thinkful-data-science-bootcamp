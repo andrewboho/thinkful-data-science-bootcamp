{
 "cells": [
  {
   "cell_type": "code",
   "execution_count": 61,
   "metadata": {},
   "outputs": [],
   "source": [
    "import time\n",
    "import random"
   ]
  },
  {
   "cell_type": "code",
   "execution_count": 62,
   "metadata": {},
   "outputs": [],
   "source": [
    "random.seed(a=100)\n",
    "short_list = list(random.sample(range(1000000), 10))\n",
    "long_list = list(random.sample(range(1000000), 10000))"
   ]
  },
  {
   "cell_type": "code",
   "execution_count": 63,
   "metadata": {},
   "outputs": [],
   "source": [
    "def insert_sort(input_list):\n",
    "    new_list = input_list\n",
    "    \n",
    "    for i in range(len(new_list)):\n",
    "        j = i\n",
    "        \n",
    "        while j > 0 and new_list[j - 1] > new_list[j]:\n",
    "            new_list[j - 1], new_list[j] = new_list[j], new_list[j - 1]\n",
    "            j = j - 1\n",
    "    return new_list"
   ]
  },
  {
   "cell_type": "code",
   "execution_count": 64,
   "metadata": {},
   "outputs": [
    {
     "name": "stdout",
     "output_type": "stream",
     "text": [
      "---- 0.00007 ----\n",
      "[152745, 183236, 366725, 412125, 477025, 481850, 739784, 767514, 808225, 997948]\n"
     ]
    }
   ],
   "source": [
    "start_time = time.time()\n",
    "sorted_list = insert_sort(short_list)\n",
    "print(\"---- {:.5f} ----\".format(time.time() - start_time))\n",
    "print(sorted_list)"
   ]
  },
  {
   "cell_type": "code",
   "execution_count": 65,
   "metadata": {
    "scrolled": false
   },
   "outputs": [
    {
     "name": "stdout",
     "output_type": "stream",
     "text": [
      "---- 7.85652 ----\n"
     ]
    }
   ],
   "source": [
    "start_time = time.time()\n",
    "sorted_list = insert_sort(long_list)\n",
    "print(\"---- {:.5f} ----\".format(time.time() - start_time))\n",
    "#print(sorted_list)"
   ]
  },
  {
   "cell_type": "code",
   "execution_count": 66,
   "metadata": {},
   "outputs": [],
   "source": [
    "def merge(a, b):\n",
    "    if len(a) == 0 or len(b) == 0:\n",
    "        return a or b\n",
    "    result = []\n",
    "    i, j = 0, 0\n",
    "    while (len(result) < len(a) + len(b)):\n",
    "        if a[i] < b[j]:\n",
    "            result.append(a[i])\n",
    "            i += 1\n",
    "        else:\n",
    "            result.append(b[j])\n",
    "            j += 1\n",
    "        if i == len(a) or j == len(b):\n",
    "            result.extend(a[i:] or b[j:])\n",
    "            break\n",
    "    return result"
   ]
  },
  {
   "cell_type": "code",
   "execution_count": 67,
   "metadata": {},
   "outputs": [],
   "source": [
    "def merge_sort(lst):\n",
    "    if len(lst) < 2:\n",
    "        return lst\n",
    "    mid = int(len(lst) / 2)\n",
    "    a = merge_sort(lst[:mid])\n",
    "    b = merge_sort(lst[mid:])\n",
    "    \n",
    "    return merge(a, b)"
   ]
  },
  {
   "cell_type": "code",
   "execution_count": 68,
   "metadata": {},
   "outputs": [
    {
     "name": "stdout",
     "output_type": "stream",
     "text": [
      "---- 0.00012 ----\n",
      "[152745, 183236, 366725, 412125, 477025, 481850, 739784, 767514, 808225, 997948]\n"
     ]
    }
   ],
   "source": [
    "start_time = time.time()\n",
    "sorted_list = merge_sort(short_list)\n",
    "print(\"---- {:.5f} ----\".format(time.time() - start_time))\n",
    "print(sorted_list)"
   ]
  },
  {
   "cell_type": "code",
   "execution_count": 69,
   "metadata": {},
   "outputs": [
    {
     "name": "stdout",
     "output_type": "stream",
     "text": [
      "---- 0.05094 ----\n"
     ]
    }
   ],
   "source": [
    "start_time = time.time()\n",
    "sorted_list = merge_sort(long_list)\n",
    "print(\"---- {:.5f} ----\".format(time.time() - start_time))\n",
    "#print(sorted_list)"
   ]
  },
  {
   "cell_type": "code",
   "execution_count": 70,
   "metadata": {},
   "outputs": [
    {
     "name": "stdout",
     "output_type": "stream",
     "text": [
      "---- 0.00049 ----\n"
     ]
    }
   ],
   "source": [
    "start_time = time.time()\n",
    "sorted_list = sorted(long_list)\n",
    "print(\"---- {:.5f} ----\".format(time.time() - start_time))\n",
    "#print(sorted_list)"
   ]
  },
  {
   "cell_type": "markdown",
   "metadata": {},
   "source": [
    "## Quicksort"
   ]
  },
  {
   "cell_type": "code",
   "execution_count": 58,
   "metadata": {},
   "outputs": [],
   "source": [
    "def swap(lyst, i, j):\n",
    "    temp = lyst[i]\n",
    "    lyst[i] = lyst[j]\n",
    "    lyst[j] = temp\n",
    "\n",
    "def quicksort(lyst):\n",
    "    quicksort_helper(lyst, 0, len(lyst) - 1)\n",
    "\n",
    "def quicksort_helper(lyst, left, right):\n",
    "    if left < right:\n",
    "        pivot_location = partition(lyst, left, right)\n",
    "        quicksort_helper(lyst, left, pivot_location - 1)\n",
    "        quicksort_helper(lyst, pivot_location + 1, right)\n",
    "\n",
    "def partition(lyst, left, right):\n",
    "    middle = (left + right) // 2\n",
    "    pivot = lyst[middle]\n",
    "    lyst[middle] = lyst[right]\n",
    "    lyst[right] = pivot\n",
    "    boundary = left\n",
    "    \n",
    "    for index in range(left, right):\n",
    "        if lyst[index] < pivot:\n",
    "            swap(lyst, index, boundary)\n",
    "            boundary += 1\n",
    "    swap(lyst, right, boundary)\n",
    "    return boundary"
   ]
  },
  {
   "cell_type": "code",
   "execution_count": 84,
   "metadata": {},
   "outputs": [],
   "source": [
    "random.seed(a=100)\n",
    "short_list = list(random.sample(range(1000000), 10))\n",
    "long_list = list(random.sample(range(1000000), 10000))"
   ]
  },
  {
   "cell_type": "code",
   "execution_count": 85,
   "metadata": {},
   "outputs": [
    {
     "data": {
      "text/plain": [
       "[152745,\n",
       " 481850,\n",
       " 477025,\n",
       " 997948,\n",
       " 808225,\n",
       " 183236,\n",
       " 739784,\n",
       " 412125,\n",
       " 767514,\n",
       " 366725]"
      ]
     },
     "execution_count": 85,
     "metadata": {},
     "output_type": "execute_result"
    }
   ],
   "source": [
    "short_list"
   ]
  },
  {
   "cell_type": "code",
   "execution_count": 86,
   "metadata": {},
   "outputs": [
    {
     "name": "stdout",
     "output_type": "stream",
     "text": [
      "---- 0.00008 ----\n"
     ]
    }
   ],
   "source": [
    "start_time = time.time()\n",
    "quicksort(short_list)\n",
    "print(\"---- {:.5f} ----\".format(time.time() - start_time))"
   ]
  },
  {
   "cell_type": "code",
   "execution_count": 87,
   "metadata": {},
   "outputs": [
    {
     "data": {
      "text/plain": [
       "[152745,\n",
       " 183236,\n",
       " 366725,\n",
       " 412125,\n",
       " 477025,\n",
       " 481850,\n",
       " 739784,\n",
       " 767514,\n",
       " 808225,\n",
       " 997948]"
      ]
     },
     "execution_count": 87,
     "metadata": {},
     "output_type": "execute_result"
    }
   ],
   "source": [
    "short_list"
   ]
  },
  {
   "cell_type": "code",
   "execution_count": 88,
   "metadata": {},
   "outputs": [
    {
     "name": "stdout",
     "output_type": "stream",
     "text": [
      "---- 0.04313 ----\n"
     ]
    }
   ],
   "source": [
    "start_time = time.time()\n",
    "quicksort(long_list)\n",
    "print(\"---- {:.5f} ----\".format(time.time() - start_time))"
   ]
  },
  {
   "cell_type": "code",
   "execution_count": null,
   "metadata": {},
   "outputs": [],
   "source": []
  }
 ],
 "metadata": {
  "kernelspec": {
   "display_name": "Python 3",
   "language": "python",
   "name": "python3"
  },
  "language_info": {
   "codemirror_mode": {
    "name": "ipython",
    "version": 3
   },
   "file_extension": ".py",
   "mimetype": "text/x-python",
   "name": "python",
   "nbconvert_exporter": "python",
   "pygments_lexer": "ipython3",
   "version": "3.6.6"
  }
 },
 "nbformat": 4,
 "nbformat_minor": 2
}
