{
 "cells": [
  {
   "cell_type": "code",
   "execution_count": 30,
   "metadata": {},
   "outputs": [],
   "source": [
    "# Imports\n",
    "import time\n",
    "import pydotplus\n",
    "import graphviz\n",
    "\n",
    "import numpy as np\n",
    "import pandas as pd\n",
    "import matplotlib.pyplot as plt\n",
    "import seaborn as sns\n",
    "\n",
    "from sklearn.pipeline import Pipeline\n",
    "from sklearn.preprocessing import StandardScaler\n",
    "from sklearn import tree\n",
    "from sklearn.tree import DecisionTreeClassifier\n",
    "from sklearn import ensemble\n",
    "from sklearn.model_selection import cross_val_score\n",
    "from sklearn.cross_validation import train_test_split\n",
    "from sklearn.grid_search import GridSearchCV\n",
    "\n",
    "from IPython.display import Image\n",
    "%matplotlib inline\n",
    "\n",
    "# Surpress warnings\n",
    "import warnings\n",
    "warnings.filterwarnings(\"ignore\")\n",
    "\n",
    "# Pandas options set-up\n",
    "pd.set_option(\"display.max_columns\", 50)"
   ]
  },
  {
   "cell_type": "markdown",
   "metadata": {},
   "source": [
    "## Boxing data\n",
    "Can we predict the outcome of a boxing match?"
   ]
  },
  {
   "cell_type": "code",
   "execution_count": 2,
   "metadata": {},
   "outputs": [
    {
     "data": {
      "text/html": [
       "<div>\n",
       "<style scoped>\n",
       "    .dataframe tbody tr th:only-of-type {\n",
       "        vertical-align: middle;\n",
       "    }\n",
       "\n",
       "    .dataframe tbody tr th {\n",
       "        vertical-align: top;\n",
       "    }\n",
       "\n",
       "    .dataframe thead th {\n",
       "        text-align: right;\n",
       "    }\n",
       "</style>\n",
       "<table border=\"1\" class=\"dataframe\">\n",
       "  <thead>\n",
       "    <tr style=\"text-align: right;\">\n",
       "      <th></th>\n",
       "      <th>age_A</th>\n",
       "      <th>age_B</th>\n",
       "      <th>height_A</th>\n",
       "      <th>height_B</th>\n",
       "      <th>reach_A</th>\n",
       "      <th>reach_B</th>\n",
       "      <th>stance_A</th>\n",
       "      <th>stance_B</th>\n",
       "      <th>weight_A</th>\n",
       "      <th>weight_B</th>\n",
       "      <th>won_A</th>\n",
       "      <th>won_B</th>\n",
       "      <th>lost_A</th>\n",
       "      <th>lost_B</th>\n",
       "      <th>drawn_A</th>\n",
       "      <th>drawn_B</th>\n",
       "      <th>kos_A</th>\n",
       "      <th>kos_B</th>\n",
       "      <th>result</th>\n",
       "      <th>decision</th>\n",
       "      <th>judge1_A</th>\n",
       "      <th>judge1_B</th>\n",
       "      <th>judge2_A</th>\n",
       "      <th>judge2_B</th>\n",
       "      <th>judge3_A</th>\n",
       "      <th>judge3_B</th>\n",
       "    </tr>\n",
       "  </thead>\n",
       "  <tbody>\n",
       "    <tr>\n",
       "      <th>0</th>\n",
       "      <td>35.0</td>\n",
       "      <td>27.0</td>\n",
       "      <td>179.0</td>\n",
       "      <td>175.0</td>\n",
       "      <td>178.0</td>\n",
       "      <td>179.0</td>\n",
       "      <td>orthodox</td>\n",
       "      <td>orthodox</td>\n",
       "      <td>160.0</td>\n",
       "      <td>160.0</td>\n",
       "      <td>37</td>\n",
       "      <td>49</td>\n",
       "      <td>0</td>\n",
       "      <td>1</td>\n",
       "      <td>0</td>\n",
       "      <td>1</td>\n",
       "      <td>33</td>\n",
       "      <td>34.0</td>\n",
       "      <td>draw</td>\n",
       "      <td>SD</td>\n",
       "      <td>110.0</td>\n",
       "      <td>118.0</td>\n",
       "      <td>115.0</td>\n",
       "      <td>113.0</td>\n",
       "      <td>114.0</td>\n",
       "      <td>114.0</td>\n",
       "    </tr>\n",
       "    <tr>\n",
       "      <th>1</th>\n",
       "      <td>26.0</td>\n",
       "      <td>31.0</td>\n",
       "      <td>175.0</td>\n",
       "      <td>185.0</td>\n",
       "      <td>179.0</td>\n",
       "      <td>185.0</td>\n",
       "      <td>orthodox</td>\n",
       "      <td>orthodox</td>\n",
       "      <td>164.0</td>\n",
       "      <td>164.0</td>\n",
       "      <td>48</td>\n",
       "      <td>50</td>\n",
       "      <td>1</td>\n",
       "      <td>2</td>\n",
       "      <td>1</td>\n",
       "      <td>1</td>\n",
       "      <td>34</td>\n",
       "      <td>32.0</td>\n",
       "      <td>win_A</td>\n",
       "      <td>UD</td>\n",
       "      <td>120.0</td>\n",
       "      <td>108.0</td>\n",
       "      <td>120.0</td>\n",
       "      <td>108.0</td>\n",
       "      <td>120.0</td>\n",
       "      <td>108.0</td>\n",
       "    </tr>\n",
       "    <tr>\n",
       "      <th>2</th>\n",
       "      <td>28.0</td>\n",
       "      <td>26.0</td>\n",
       "      <td>176.0</td>\n",
       "      <td>175.0</td>\n",
       "      <td>NaN</td>\n",
       "      <td>179.0</td>\n",
       "      <td>orthodox</td>\n",
       "      <td>orthodox</td>\n",
       "      <td>154.0</td>\n",
       "      <td>154.0</td>\n",
       "      <td>23</td>\n",
       "      <td>47</td>\n",
       "      <td>0</td>\n",
       "      <td>1</td>\n",
       "      <td>1</td>\n",
       "      <td>1</td>\n",
       "      <td>13</td>\n",
       "      <td>33.0</td>\n",
       "      <td>win_B</td>\n",
       "      <td>KO</td>\n",
       "      <td>NaN</td>\n",
       "      <td>NaN</td>\n",
       "      <td>NaN</td>\n",
       "      <td>NaN</td>\n",
       "      <td>NaN</td>\n",
       "      <td>NaN</td>\n",
       "    </tr>\n",
       "    <tr>\n",
       "      <th>3</th>\n",
       "      <td>25.0</td>\n",
       "      <td>29.0</td>\n",
       "      <td>175.0</td>\n",
       "      <td>174.0</td>\n",
       "      <td>179.0</td>\n",
       "      <td>180.0</td>\n",
       "      <td>orthodox</td>\n",
       "      <td>orthodox</td>\n",
       "      <td>155.0</td>\n",
       "      <td>155.0</td>\n",
       "      <td>46</td>\n",
       "      <td>31</td>\n",
       "      <td>1</td>\n",
       "      <td>3</td>\n",
       "      <td>1</td>\n",
       "      <td>0</td>\n",
       "      <td>32</td>\n",
       "      <td>19.0</td>\n",
       "      <td>win_A</td>\n",
       "      <td>KO</td>\n",
       "      <td>47.0</td>\n",
       "      <td>48.0</td>\n",
       "      <td>49.0</td>\n",
       "      <td>46.0</td>\n",
       "      <td>48.0</td>\n",
       "      <td>47.0</td>\n",
       "    </tr>\n",
       "    <tr>\n",
       "      <th>4</th>\n",
       "      <td>25.0</td>\n",
       "      <td>35.0</td>\n",
       "      <td>175.0</td>\n",
       "      <td>170.0</td>\n",
       "      <td>179.0</td>\n",
       "      <td>170.0</td>\n",
       "      <td>orthodox</td>\n",
       "      <td>orthodox</td>\n",
       "      <td>155.0</td>\n",
       "      <td>NaN</td>\n",
       "      <td>45</td>\n",
       "      <td>40</td>\n",
       "      <td>1</td>\n",
       "      <td>4</td>\n",
       "      <td>1</td>\n",
       "      <td>0</td>\n",
       "      <td>32</td>\n",
       "      <td>33.0</td>\n",
       "      <td>win_A</td>\n",
       "      <td>UD</td>\n",
       "      <td>118.0</td>\n",
       "      <td>110.0</td>\n",
       "      <td>119.0</td>\n",
       "      <td>109.0</td>\n",
       "      <td>117.0</td>\n",
       "      <td>111.0</td>\n",
       "    </tr>\n",
       "  </tbody>\n",
       "</table>\n",
       "</div>"
      ],
      "text/plain": [
       "   age_A  age_B  height_A  height_B  reach_A  reach_B  stance_A  stance_B  \\\n",
       "0   35.0   27.0     179.0     175.0    178.0    179.0  orthodox  orthodox   \n",
       "1   26.0   31.0     175.0     185.0    179.0    185.0  orthodox  orthodox   \n",
       "2   28.0   26.0     176.0     175.0      NaN    179.0  orthodox  orthodox   \n",
       "3   25.0   29.0     175.0     174.0    179.0    180.0  orthodox  orthodox   \n",
       "4   25.0   35.0     175.0     170.0    179.0    170.0  orthodox  orthodox   \n",
       "\n",
       "   weight_A  weight_B  won_A  won_B  lost_A  lost_B  drawn_A  drawn_B  kos_A  \\\n",
       "0     160.0     160.0     37     49       0       1        0        1     33   \n",
       "1     164.0     164.0     48     50       1       2        1        1     34   \n",
       "2     154.0     154.0     23     47       0       1        1        1     13   \n",
       "3     155.0     155.0     46     31       1       3        1        0     32   \n",
       "4     155.0       NaN     45     40       1       4        1        0     32   \n",
       "\n",
       "   kos_B result decision  judge1_A  judge1_B  judge2_A  judge2_B  judge3_A  \\\n",
       "0   34.0   draw       SD     110.0     118.0     115.0     113.0     114.0   \n",
       "1   32.0  win_A       UD     120.0     108.0     120.0     108.0     120.0   \n",
       "2   33.0  win_B       KO       NaN       NaN       NaN       NaN       NaN   \n",
       "3   19.0  win_A       KO      47.0      48.0      49.0      46.0      48.0   \n",
       "4   33.0  win_A       UD     118.0     110.0     119.0     109.0     117.0   \n",
       "\n",
       "   judge3_B  \n",
       "0     114.0  \n",
       "1     108.0  \n",
       "2       NaN  \n",
       "3      47.0  \n",
       "4     111.0  "
      ]
     },
     "execution_count": 2,
     "metadata": {},
     "output_type": "execute_result"
    }
   ],
   "source": [
    "bouts = pd.read_csv(\"bouts_out_new.csv\")\n",
    "bouts.head()"
   ]
  },
  {
   "cell_type": "code",
   "execution_count": 3,
   "metadata": {},
   "outputs": [
    {
     "data": {
      "text/html": [
       "<div>\n",
       "<style scoped>\n",
       "    .dataframe tbody tr th:only-of-type {\n",
       "        vertical-align: middle;\n",
       "    }\n",
       "\n",
       "    .dataframe tbody tr th {\n",
       "        vertical-align: top;\n",
       "    }\n",
       "\n",
       "    .dataframe thead th {\n",
       "        text-align: right;\n",
       "    }\n",
       "</style>\n",
       "<table border=\"1\" class=\"dataframe\">\n",
       "  <thead>\n",
       "    <tr style=\"text-align: right;\">\n",
       "      <th></th>\n",
       "      <th>age</th>\n",
       "      <th>height</th>\n",
       "      <th>reach</th>\n",
       "      <th>stance</th>\n",
       "      <th>weight</th>\n",
       "      <th>won</th>\n",
       "      <th>lost</th>\n",
       "      <th>drawn</th>\n",
       "      <th>kos</th>\n",
       "      <th>result</th>\n",
       "      <th>decision</th>\n",
       "      <th>judge1</th>\n",
       "      <th>judge2</th>\n",
       "      <th>judge3</th>\n",
       "    </tr>\n",
       "  </thead>\n",
       "  <tbody>\n",
       "    <tr>\n",
       "      <th>0</th>\n",
       "      <td>35.0</td>\n",
       "      <td>179.0</td>\n",
       "      <td>178.0</td>\n",
       "      <td>orthodox</td>\n",
       "      <td>160.0</td>\n",
       "      <td>37</td>\n",
       "      <td>0</td>\n",
       "      <td>0</td>\n",
       "      <td>33.0</td>\n",
       "      <td>0</td>\n",
       "      <td>SD</td>\n",
       "      <td>110.0</td>\n",
       "      <td>115.0</td>\n",
       "      <td>114.0</td>\n",
       "    </tr>\n",
       "    <tr>\n",
       "      <th>1</th>\n",
       "      <td>26.0</td>\n",
       "      <td>175.0</td>\n",
       "      <td>179.0</td>\n",
       "      <td>orthodox</td>\n",
       "      <td>164.0</td>\n",
       "      <td>48</td>\n",
       "      <td>1</td>\n",
       "      <td>1</td>\n",
       "      <td>34.0</td>\n",
       "      <td>1</td>\n",
       "      <td>UD</td>\n",
       "      <td>120.0</td>\n",
       "      <td>120.0</td>\n",
       "      <td>120.0</td>\n",
       "    </tr>\n",
       "    <tr>\n",
       "      <th>2</th>\n",
       "      <td>28.0</td>\n",
       "      <td>176.0</td>\n",
       "      <td>NaN</td>\n",
       "      <td>orthodox</td>\n",
       "      <td>154.0</td>\n",
       "      <td>23</td>\n",
       "      <td>0</td>\n",
       "      <td>1</td>\n",
       "      <td>13.0</td>\n",
       "      <td>0</td>\n",
       "      <td>KO</td>\n",
       "      <td>NaN</td>\n",
       "      <td>NaN</td>\n",
       "      <td>NaN</td>\n",
       "    </tr>\n",
       "    <tr>\n",
       "      <th>3</th>\n",
       "      <td>25.0</td>\n",
       "      <td>175.0</td>\n",
       "      <td>179.0</td>\n",
       "      <td>orthodox</td>\n",
       "      <td>155.0</td>\n",
       "      <td>46</td>\n",
       "      <td>1</td>\n",
       "      <td>1</td>\n",
       "      <td>32.0</td>\n",
       "      <td>1</td>\n",
       "      <td>KO</td>\n",
       "      <td>47.0</td>\n",
       "      <td>49.0</td>\n",
       "      <td>48.0</td>\n",
       "    </tr>\n",
       "    <tr>\n",
       "      <th>4</th>\n",
       "      <td>25.0</td>\n",
       "      <td>175.0</td>\n",
       "      <td>179.0</td>\n",
       "      <td>orthodox</td>\n",
       "      <td>155.0</td>\n",
       "      <td>45</td>\n",
       "      <td>1</td>\n",
       "      <td>1</td>\n",
       "      <td>32.0</td>\n",
       "      <td>1</td>\n",
       "      <td>UD</td>\n",
       "      <td>118.0</td>\n",
       "      <td>119.0</td>\n",
       "      <td>117.0</td>\n",
       "    </tr>\n",
       "  </tbody>\n",
       "</table>\n",
       "</div>"
      ],
      "text/plain": [
       "    age  height  reach    stance  weight  won  lost  drawn   kos  result  \\\n",
       "0  35.0   179.0  178.0  orthodox   160.0   37     0      0  33.0       0   \n",
       "1  26.0   175.0  179.0  orthodox   164.0   48     1      1  34.0       1   \n",
       "2  28.0   176.0    NaN  orthodox   154.0   23     0      1  13.0       0   \n",
       "3  25.0   175.0  179.0  orthodox   155.0   46     1      1  32.0       1   \n",
       "4  25.0   175.0  179.0  orthodox   155.0   45     1      1  32.0       1   \n",
       "\n",
       "  decision  judge1  judge2  judge3  \n",
       "0       SD   110.0   115.0   114.0  \n",
       "1       UD   120.0   120.0   120.0  \n",
       "2       KO     NaN     NaN     NaN  \n",
       "3       KO    47.0    49.0    48.0  \n",
       "4       UD   118.0   119.0   117.0  "
      ]
     },
     "execution_count": 3,
     "metadata": {},
     "output_type": "execute_result"
    }
   ],
   "source": [
    "# Transform the dataset from rows of bouts to rows of boxers\n",
    "# Split the dataframe into two subset dataframes (boxer A and boxer B)\n",
    "\n",
    "# Dataframe for boxer A\n",
    "bouts_A = bouts[[\"age_A\", \"height_A\", \"reach_A\", \"stance_A\", \"weight_A\",\n",
    "                 \"won_A\", \"lost_A\", \"drawn_A\", \"kos_A\", \"result\", \"decision\",\n",
    "                \"judge1_A\", \"judge2_A\", \"judge3_A\"]]\n",
    "\n",
    "# Dataframe for boxer B\n",
    "bouts_B = bouts[[\"age_B\", \"height_B\", \"reach_B\", \"stance_B\", \"weight_B\",\n",
    "                 \"won_B\", \"lost_B\", \"drawn_B\", \"kos_B\", \"result\", \"decision\",\n",
    "                \"judge1_B\", \"judge2_B\", \"judge3_B\"]]\n",
    "\n",
    "# Rename the columns for each of the subset dataframes to remove the A/B distinction,\n",
    "# allowing them to be concatenated together.\n",
    "combined_col_names = ['age', 'height', 'reach', 'stance', 'weight', 'won', 'lost', 'drawn',\n",
    "                      'kos', 'result', 'decision','judge1', 'judge2', 'judge3']\n",
    "\n",
    "bouts_A.columns = combined_col_names\n",
    "bouts_B.columns = combined_col_names\n",
    "\n",
    "# Replace result with a variable that gives the bout outcome from the prospective individual boxer (A or B)\n",
    "# Change to binary outcome to support classification: 1 for win, 0 for did not win (loss and draw)\n",
    "# Create result list for boxer A\n",
    "result_list_A = []\n",
    "for result in bouts_A[\"result\"]:\n",
    "    if result == \"win_A\":\n",
    "        result_list_A.append(1)\n",
    "    else:\n",
    "        result_list_A.append(0)\n",
    "    \n",
    "#Replace result column with data from the new result_list\n",
    "bouts_A[\"result\"] = result_list_A\n",
    "\n",
    "# Create result list for boxer B\n",
    "result_list_B = []\n",
    "for result in bouts_B[\"result\"]:\n",
    "    if result == \"win_B\":\n",
    "        result_list_B.append(1)\n",
    "    else:\n",
    "        result_list_B.append(0)\n",
    "        \n",
    "#Replace result column with data from the new result_list\n",
    "bouts_B[\"result\"] = result_list_B\n",
    "    \n",
    "\n",
    "# Concatente the the two subset dataframes into one combined dataframe\n",
    "mega_bouts = pd.concat([bouts_A, bouts_B])\n",
    "\n",
    "# Reset the index\n",
    "mega_bouts = mega_bouts.reset_index(drop=True)\n",
    "\n",
    "mega_bouts.head()"
   ]
  },
  {
   "cell_type": "markdown",
   "metadata": {},
   "source": [
    "Drop judge scoring and decision type, as they will not be needed for the prediction model."
   ]
  },
  {
   "cell_type": "code",
   "execution_count": 4,
   "metadata": {
    "scrolled": true
   },
   "outputs": [
    {
     "name": "stdout",
     "output_type": "stream",
     "text": [
      "<class 'pandas.core.frame.DataFrame'>\n",
      "RangeIndex: 774854 entries, 0 to 774853\n",
      "Data columns (total 10 columns):\n",
      "age       610823 non-null float64\n",
      "height    383886 non-null float64\n",
      "reach     150215 non-null float64\n",
      "stance    462018 non-null object\n",
      "weight    265931 non-null float64\n",
      "won       774854 non-null int64\n",
      "lost      774854 non-null int64\n",
      "drawn     774854 non-null int64\n",
      "kos       774775 non-null float64\n",
      "result    774854 non-null int64\n",
      "dtypes: float64(5), int64(4), object(1)\n",
      "memory usage: 59.1+ MB\n"
     ]
    }
   ],
   "source": [
    "mega_bouts.drop([\"decision\", \"judge1\", \"judge2\", \"judge3\"], axis=1, inplace=True)\n",
    "mega_bouts.info()"
   ]
  },
  {
   "cell_type": "code",
   "execution_count": 5,
   "metadata": {},
   "outputs": [
    {
     "data": {
      "image/png": "[encoded data removed]",
      "text/plain": [
       "<Figure size 720x576 with 2 Axes>"
      ]
     },
     "metadata": {},
     "output_type": "display_data"
    }
   ],
   "source": [
    "corr_mat = mega_bouts.drop(\"result\", axis=1).corr()\n",
    "fig = plt.figure(figsize=(10, 8))\n",
    "sns.heatmap(data=corr_mat, vmin=-0.8, vmax=0.8, annot=True, cmap=\"coolwarm\")\n",
    "plt.show()"
   ]
  },
  {
   "cell_type": "markdown",
   "metadata": {},
   "source": [
    "There are some troublesome correlations that we will deal with below."
   ]
  },
  {
   "cell_type": "code",
   "execution_count": 6,
   "metadata": {
    "scrolled": true
   },
   "outputs": [
    {
     "data": {
      "image/png": "[encoded data removed]",
      "text/plain": [
       "<Figure size 432x288 with 1 Axes>"
      ]
     },
     "metadata": {},
     "output_type": "display_data"
    }
   ],
   "source": [
    "sns.countplot(x=\"result\", data=mega_bouts)\n",
    "plt.show()"
   ]
  },
  {
   "cell_type": "markdown",
   "metadata": {},
   "source": [
    "Result will be the target variable. At this point the data is balanced between the outcomes."
   ]
  },
  {
   "cell_type": "code",
   "execution_count": 7,
   "metadata": {},
   "outputs": [
    {
     "data": {
      "text/html": [
       "<div>\n",
       "<style scoped>\n",
       "    .dataframe tbody tr th:only-of-type {\n",
       "        vertical-align: middle;\n",
       "    }\n",
       "\n",
       "    .dataframe tbody tr th {\n",
       "        vertical-align: top;\n",
       "    }\n",
       "\n",
       "    .dataframe thead th {\n",
       "        text-align: right;\n",
       "    }\n",
       "</style>\n",
       "<table border=\"1\" class=\"dataframe\">\n",
       "  <thead>\n",
       "    <tr style=\"text-align: right;\">\n",
       "      <th></th>\n",
       "      <th>age</th>\n",
       "      <th>height</th>\n",
       "      <th>reach</th>\n",
       "      <th>weight</th>\n",
       "      <th>won</th>\n",
       "      <th>lost</th>\n",
       "      <th>drawn</th>\n",
       "      <th>kos</th>\n",
       "      <th>result</th>\n",
       "      <th>height_x_weight</th>\n",
       "      <th>wins_x_kos</th>\n",
       "      <th>stance_southpaw</th>\n",
       "    </tr>\n",
       "  </thead>\n",
       "  <tbody>\n",
       "    <tr>\n",
       "      <th>0</th>\n",
       "      <td>35.0</td>\n",
       "      <td>179.0</td>\n",
       "      <td>178.0</td>\n",
       "      <td>160.0</td>\n",
       "      <td>37</td>\n",
       "      <td>0</td>\n",
       "      <td>0</td>\n",
       "      <td>33.0</td>\n",
       "      <td>0</td>\n",
       "      <td>28640.0</td>\n",
       "      <td>1221.0</td>\n",
       "      <td>0</td>\n",
       "    </tr>\n",
       "    <tr>\n",
       "      <th>1</th>\n",
       "      <td>26.0</td>\n",
       "      <td>175.0</td>\n",
       "      <td>179.0</td>\n",
       "      <td>164.0</td>\n",
       "      <td>48</td>\n",
       "      <td>1</td>\n",
       "      <td>1</td>\n",
       "      <td>34.0</td>\n",
       "      <td>1</td>\n",
       "      <td>28700.0</td>\n",
       "      <td>1632.0</td>\n",
       "      <td>0</td>\n",
       "    </tr>\n",
       "    <tr>\n",
       "      <th>2</th>\n",
       "      <td>28.0</td>\n",
       "      <td>176.0</td>\n",
       "      <td>NaN</td>\n",
       "      <td>154.0</td>\n",
       "      <td>23</td>\n",
       "      <td>0</td>\n",
       "      <td>1</td>\n",
       "      <td>13.0</td>\n",
       "      <td>0</td>\n",
       "      <td>27104.0</td>\n",
       "      <td>299.0</td>\n",
       "      <td>0</td>\n",
       "    </tr>\n",
       "    <tr>\n",
       "      <th>3</th>\n",
       "      <td>25.0</td>\n",
       "      <td>175.0</td>\n",
       "      <td>179.0</td>\n",
       "      <td>155.0</td>\n",
       "      <td>46</td>\n",
       "      <td>1</td>\n",
       "      <td>1</td>\n",
       "      <td>32.0</td>\n",
       "      <td>1</td>\n",
       "      <td>27125.0</td>\n",
       "      <td>1472.0</td>\n",
       "      <td>0</td>\n",
       "    </tr>\n",
       "    <tr>\n",
       "      <th>4</th>\n",
       "      <td>25.0</td>\n",
       "      <td>175.0</td>\n",
       "      <td>179.0</td>\n",
       "      <td>155.0</td>\n",
       "      <td>45</td>\n",
       "      <td>1</td>\n",
       "      <td>1</td>\n",
       "      <td>32.0</td>\n",
       "      <td>1</td>\n",
       "      <td>27125.0</td>\n",
       "      <td>1440.0</td>\n",
       "      <td>0</td>\n",
       "    </tr>\n",
       "  </tbody>\n",
       "</table>\n",
       "</div>"
      ],
      "text/plain": [
       "    age  height  reach  weight  won  lost  drawn   kos  result  \\\n",
       "0  35.0   179.0  178.0   160.0   37     0      0  33.0       0   \n",
       "1  26.0   175.0  179.0   164.0   48     1      1  34.0       1   \n",
       "2  28.0   176.0    NaN   154.0   23     0      1  13.0       0   \n",
       "3  25.0   175.0  179.0   155.0   46     1      1  32.0       1   \n",
       "4  25.0   175.0  179.0   155.0   45     1      1  32.0       1   \n",
       "\n",
       "   height_x_weight  wins_x_kos  stance_southpaw  \n",
       "0          28640.0      1221.0                0  \n",
       "1          28700.0      1632.0                0  \n",
       "2          27104.0       299.0                0  \n",
       "3          27125.0      1472.0                0  \n",
       "4          27125.0      1440.0                0  "
      ]
     },
     "execution_count": 7,
     "metadata": {},
     "output_type": "execute_result"
    }
   ],
   "source": [
    "# Build some features for height/weight and wins/kos (which are highly correlated)\n",
    "mega_bouts[\"height_x_weight\"] = mega_bouts[\"height\"] * mega_bouts[\"weight\"]\n",
    "mega_bouts[\"wins_x_kos\"] = mega_bouts[\"won\"] * mega_bouts[\"kos\"]\n",
    "\n",
    "# Create dummy variable for stance\n",
    "mega_bouts = pd.get_dummies(mega_bouts, drop_first=True)\n",
    "\n",
    "mega_bouts.head()"
   ]
  },
  {
   "cell_type": "code",
   "execution_count": 8,
   "metadata": {},
   "outputs": [
    {
     "data": {
      "image/png": "[encoded data removed]",
      "text/plain": [
       "<Figure size 720x576 with 2 Axes>"
      ]
     },
     "metadata": {},
     "output_type": "display_data"
    }
   ],
   "source": [
    "corr_mat = mega_bouts.drop([\"height\", \"weight\", \"reach\", \"won\", \"drawn\", \"kos\", \"result\"], axis=1).corr()\n",
    "fig = plt.figure(figsize=(10, 8))\n",
    "sns.heatmap(data=corr_mat, vmin=-0.8, vmax=0.8, annot=True, cmap=\"coolwarm\")\n",
    "plt.show()"
   ]
  },
  {
   "cell_type": "markdown",
   "metadata": {},
   "source": [
    "This looks better."
   ]
  },
  {
   "cell_type": "code",
   "execution_count": 9,
   "metadata": {},
   "outputs": [
    {
     "name": "stdout",
     "output_type": "stream",
     "text": [
      "(149304, 12)\n"
     ]
    },
    {
     "data": {
      "text/html": [
       "<div>\n",
       "<style scoped>\n",
       "    .dataframe tbody tr th:only-of-type {\n",
       "        vertical-align: middle;\n",
       "    }\n",
       "\n",
       "    .dataframe tbody tr th {\n",
       "        vertical-align: top;\n",
       "    }\n",
       "\n",
       "    .dataframe thead th {\n",
       "        text-align: right;\n",
       "    }\n",
       "</style>\n",
       "<table border=\"1\" class=\"dataframe\">\n",
       "  <thead>\n",
       "    <tr style=\"text-align: right;\">\n",
       "      <th></th>\n",
       "      <th>count</th>\n",
       "      <th>mean</th>\n",
       "      <th>std</th>\n",
       "      <th>min</th>\n",
       "      <th>25%</th>\n",
       "      <th>50%</th>\n",
       "      <th>75%</th>\n",
       "      <th>max</th>\n",
       "    </tr>\n",
       "  </thead>\n",
       "  <tbody>\n",
       "    <tr>\n",
       "      <th>age</th>\n",
       "      <td>149304.0</td>\n",
       "      <td>25.594813</td>\n",
       "      <td>5.129630</td>\n",
       "      <td>15.0</td>\n",
       "      <td>22.0</td>\n",
       "      <td>25.0</td>\n",
       "      <td>29.0</td>\n",
       "      <td>59.0</td>\n",
       "    </tr>\n",
       "    <tr>\n",
       "      <th>height</th>\n",
       "      <td>149304.0</td>\n",
       "      <td>173.553180</td>\n",
       "      <td>8.929097</td>\n",
       "      <td>147.0</td>\n",
       "      <td>168.0</td>\n",
       "      <td>173.0</td>\n",
       "      <td>180.0</td>\n",
       "      <td>218.0</td>\n",
       "    </tr>\n",
       "    <tr>\n",
       "      <th>reach</th>\n",
       "      <td>66703.0</td>\n",
       "      <td>179.536483</td>\n",
       "      <td>12.537736</td>\n",
       "      <td>1.0</td>\n",
       "      <td>172.0</td>\n",
       "      <td>178.0</td>\n",
       "      <td>185.0</td>\n",
       "      <td>456.0</td>\n",
       "    </tr>\n",
       "    <tr>\n",
       "      <th>weight</th>\n",
       "      <td>149304.0</td>\n",
       "      <td>149.133781</td>\n",
       "      <td>32.419490</td>\n",
       "      <td>77.0</td>\n",
       "      <td>126.0</td>\n",
       "      <td>141.0</td>\n",
       "      <td>163.0</td>\n",
       "      <td>350.0</td>\n",
       "    </tr>\n",
       "    <tr>\n",
       "      <th>won</th>\n",
       "      <td>149304.0</td>\n",
       "      <td>24.525090</td>\n",
       "      <td>27.669509</td>\n",
       "      <td>0.0</td>\n",
       "      <td>6.0</td>\n",
       "      <td>16.0</td>\n",
       "      <td>32.0</td>\n",
       "      <td>262.0</td>\n",
       "    </tr>\n",
       "    <tr>\n",
       "      <th>lost</th>\n",
       "      <td>149304.0</td>\n",
       "      <td>6.929272</td>\n",
       "      <td>11.653969</td>\n",
       "      <td>0.0</td>\n",
       "      <td>0.0</td>\n",
       "      <td>3.0</td>\n",
       "      <td>9.0</td>\n",
       "      <td>263.0</td>\n",
       "    </tr>\n",
       "    <tr>\n",
       "      <th>drawn</th>\n",
       "      <td>149304.0</td>\n",
       "      <td>2.233684</td>\n",
       "      <td>4.635388</td>\n",
       "      <td>0.0</td>\n",
       "      <td>0.0</td>\n",
       "      <td>1.0</td>\n",
       "      <td>2.0</td>\n",
       "      <td>61.0</td>\n",
       "    </tr>\n",
       "    <tr>\n",
       "      <th>kos</th>\n",
       "      <td>149304.0</td>\n",
       "      <td>11.898315</td>\n",
       "      <td>12.977924</td>\n",
       "      <td>0.0</td>\n",
       "      <td>3.0</td>\n",
       "      <td>8.0</td>\n",
       "      <td>17.0</td>\n",
       "      <td>131.0</td>\n",
       "    </tr>\n",
       "    <tr>\n",
       "      <th>result</th>\n",
       "      <td>149304.0</td>\n",
       "      <td>0.611651</td>\n",
       "      <td>0.487376</td>\n",
       "      <td>0.0</td>\n",
       "      <td>0.0</td>\n",
       "      <td>1.0</td>\n",
       "      <td>1.0</td>\n",
       "      <td>1.0</td>\n",
       "    </tr>\n",
       "    <tr>\n",
       "      <th>height_x_weight</th>\n",
       "      <td>149304.0</td>\n",
       "      <td>26117.453377</td>\n",
       "      <td>6966.806675</td>\n",
       "      <td>12782.0</td>\n",
       "      <td>21120.0</td>\n",
       "      <td>24505.0</td>\n",
       "      <td>29192.0</td>\n",
       "      <td>70929.0</td>\n",
       "    </tr>\n",
       "    <tr>\n",
       "      <th>wins_x_kos</th>\n",
       "      <td>149304.0</td>\n",
       "      <td>581.234863</td>\n",
       "      <td>1433.991055</td>\n",
       "      <td>0.0</td>\n",
       "      <td>16.0</td>\n",
       "      <td>132.0</td>\n",
       "      <td>540.0</td>\n",
       "      <td>32384.0</td>\n",
       "    </tr>\n",
       "    <tr>\n",
       "      <th>stance_southpaw</th>\n",
       "      <td>149304.0</td>\n",
       "      <td>0.144718</td>\n",
       "      <td>0.351818</td>\n",
       "      <td>0.0</td>\n",
       "      <td>0.0</td>\n",
       "      <td>0.0</td>\n",
       "      <td>0.0</td>\n",
       "      <td>1.0</td>\n",
       "    </tr>\n",
       "  </tbody>\n",
       "</table>\n",
       "</div>"
      ],
      "text/plain": [
       "                    count          mean          std      min      25%  \\\n",
       "age              149304.0     25.594813     5.129630     15.0     22.0   \n",
       "height           149304.0    173.553180     8.929097    147.0    168.0   \n",
       "reach             66703.0    179.536483    12.537736      1.0    172.0   \n",
       "weight           149304.0    149.133781    32.419490     77.0    126.0   \n",
       "won              149304.0     24.525090    27.669509      0.0      6.0   \n",
       "lost             149304.0      6.929272    11.653969      0.0      0.0   \n",
       "drawn            149304.0      2.233684     4.635388      0.0      0.0   \n",
       "kos              149304.0     11.898315    12.977924      0.0      3.0   \n",
       "result           149304.0      0.611651     0.487376      0.0      0.0   \n",
       "height_x_weight  149304.0  26117.453377  6966.806675  12782.0  21120.0   \n",
       "wins_x_kos       149304.0    581.234863  1433.991055      0.0     16.0   \n",
       "stance_southpaw  149304.0      0.144718     0.351818      0.0      0.0   \n",
       "\n",
       "                     50%      75%      max  \n",
       "age                 25.0     29.0     59.0  \n",
       "height             173.0    180.0    218.0  \n",
       "reach              178.0    185.0    456.0  \n",
       "weight             141.0    163.0    350.0  \n",
       "won                 16.0     32.0    262.0  \n",
       "lost                 3.0      9.0    263.0  \n",
       "drawn                1.0      2.0     61.0  \n",
       "kos                  8.0     17.0    131.0  \n",
       "result               1.0      1.0      1.0  \n",
       "height_x_weight  24505.0  29192.0  70929.0  \n",
       "wins_x_kos         132.0    540.0  32384.0  \n",
       "stance_southpaw      0.0      0.0      1.0  "
      ]
     },
     "execution_count": 9,
     "metadata": {},
     "output_type": "execute_result"
    }
   ],
   "source": [
    "# Remove observations with non-sensical data for age, height, weight, and reach.\n",
    "mega_bouts = mega_bouts[(mega_bouts[\"age\"] >= 15)]\n",
    "mega_bouts = mega_bouts[(mega_bouts[\"age\"] <= 60)]\n",
    "mega_bouts = mega_bouts[(mega_bouts[\"height\"] >= 147)]\n",
    "mega_bouts = mega_bouts[(mega_bouts[\"height\"] <= 224)]\n",
    "mega_bouts = mega_bouts[(mega_bouts[\"weight\"] >= 77)]\n",
    "mega_bouts = mega_bouts[(mega_bouts[\"weight\"] <= 350)]\n",
    "\n",
    "print(mega_bouts.shape)\n",
    "mega_bouts.describe().transpose()"
   ]
  },
  {
   "cell_type": "code",
   "execution_count": 10,
   "metadata": {
    "scrolled": true
   },
   "outputs": [
    {
     "data": {
      "image/png": "[encoded data removed]",
      "text/plain": [
       "<Figure size 432x288 with 1 Axes>"
      ]
     },
     "metadata": {},
     "output_type": "display_data"
    }
   ],
   "source": [
    "sns.countplot(x=\"result\", data=mega_bouts.dropna())\n",
    "plt.show()"
   ]
  },
  {
   "cell_type": "code",
   "execution_count": 11,
   "metadata": {},
   "outputs": [
    {
     "data": {
      "text/plain": [
       "1    0.611651\n",
       "0    0.388349\n",
       "Name: result, dtype: float64"
      ]
     },
     "execution_count": 11,
     "metadata": {},
     "output_type": "execute_result"
    }
   ],
   "source": [
    "mega_bouts[\"result\"].value_counts(normalize=True)"
   ]
  },
  {
   "cell_type": "markdown",
   "metadata": {},
   "source": [
    "We lost some of the balance in the target variable while cleaning the data, which could be a problem as decision trees are sensitive to the dominant class.\n",
    "\n",
    "We note that the number to beat for an accuracy score is 0.611651."
   ]
  },
  {
   "cell_type": "code",
   "execution_count": 35,
   "metadata": {},
   "outputs": [],
   "source": [
    "features = mega_bouts[[\"age\", \"height_x_weight\", \"lost\", \"wins_x_kos\", \"stance_southpaw\"]]\n",
    "target = mega_bouts[\"result\"]"
   ]
  },
  {
   "cell_type": "markdown",
   "metadata": {},
   "source": [
    "## Decision Tree"
   ]
  },
  {
   "cell_type": "code",
   "execution_count": 36,
   "metadata": {},
   "outputs": [],
   "source": [
    "pipe_dec = Pipeline([(\"scl\", StandardScaler()),\n",
    "                (\"dec_tree\", DecisionTreeClassifier(criterion=\"entropy\", max_features=1, max_depth=4))])"
   ]
  },
  {
   "cell_type": "code",
   "execution_count": 37,
   "metadata": {},
   "outputs": [
    {
     "name": "stdout",
     "output_type": "stream",
     "text": [
      "\n",
      "--- 0.91964 seconds ---\n"
     ]
    }
   ],
   "source": [
    "start_time = time.time()\n",
    "scores = cross_val_score(pipe_dec, features, target, cv=10)\n",
    "end_time = time.time()\n",
    "print(\"\\n--- {:.5f} seconds ---\".format(end_time - start_time))"
   ]
  },
  {
   "cell_type": "code",
   "execution_count": 38,
   "metadata": {
    "scrolled": true
   },
   "outputs": [
    {
     "name": "stdout",
     "output_type": "stream",
     "text": [
      "[0.63394053 0.53890972 0.68794374 0.66543871 0.6600134  0.60133958\n",
      " 0.67916946 0.59430676 0.61245814 0.61326189]\n",
      "CV accuracy: 0.629 +\\- 0.043\n"
     ]
    }
   ],
   "source": [
    "print(scores)\n",
    "print(\"CV accuracy: {:.3f} +\\- {:.3f}\".format(np.mean(scores), np.std(scores)))"
   ]
  },
  {
   "cell_type": "code",
   "execution_count": 48,
   "metadata": {},
   "outputs": [],
   "source": [
    "X = np.array(features)\n",
    "y = np.array(target)"
   ]
  },
  {
   "cell_type": "code",
   "execution_count": 49,
   "metadata": {
    "scrolled": true
   },
   "outputs": [],
   "source": [
    "X_train, X_test, y_train, y_test = train_test_split(X, y, test_size=0.20)"
   ]
  },
  {
   "cell_type": "code",
   "execution_count": 50,
   "metadata": {},
   "outputs": [],
   "source": [
    "param_grid = [{\"dec_tree__criterion\": [\"entropy\", \"gini\"],\n",
    "               \"dec_tree__max_features\": [1, 2, 3],\n",
    "               \"dec_tree__max_depth\": [1, 2, 3, 4, 5, 6, 7, None]}]\n",
    "gs = GridSearchCV(estimator=pipe_dec,\n",
    "                 param_grid=param_grid,\n",
    "                 scoring=\"accuracy\",\n",
    "                 cv=10,\n",
    "                 n_jobs=-1)"
   ]
  },
  {
   "cell_type": "code",
   "execution_count": 51,
   "metadata": {},
   "outputs": [
    {
     "name": "stdout",
     "output_type": "stream",
     "text": [
      "\n",
      "--- 34.45712 seconds ---\n"
     ]
    }
   ],
   "source": [
    "start_time = time.time()\n",
    "gs.fit(X_train, y_train)\n",
    "#print(cross_val_score(gs, features, target, cv=10))\n",
    "end_time = time.time()\n",
    "print(\"\\n--- {:.5f} seconds ---\".format(end_time - start_time))"
   ]
  },
  {
   "cell_type": "code",
   "execution_count": 52,
   "metadata": {},
   "outputs": [
    {
     "data": {
      "text/plain": [
       "0.7123900102977989"
      ]
     },
     "execution_count": 52,
     "metadata": {},
     "output_type": "execute_result"
    }
   ],
   "source": [
    "gs.best_score_"
   ]
  },
  {
   "cell_type": "code",
   "execution_count": 53,
   "metadata": {},
   "outputs": [
    {
     "data": {
      "text/plain": [
       "{'dec_tree__criterion': 'gini',\n",
       " 'dec_tree__max_depth': 7,\n",
       " 'dec_tree__max_features': 3}"
      ]
     },
     "execution_count": 53,
     "metadata": {},
     "output_type": "execute_result"
    }
   ],
   "source": [
    "gs.best_params_"
   ]
  },
  {
   "cell_type": "code",
   "execution_count": 55,
   "metadata": {},
   "outputs": [
    {
     "name": "stdout",
     "output_type": "stream",
     "text": [
      "\n",
      "--- 1.88795 seconds ---\n",
      "\n",
      "[0.66776051 0.59643718 0.68379102 0.68204956 0.82250502 0.76892163\n",
      " 0.71426658 0.65860683 0.67856664 0.65780308]\n",
      "\n",
      "CV accuracy: 0.693 +\\- 0.060\n"
     ]
    }
   ],
   "source": [
    "dec_tree = gs.best_estimator_\n",
    "\n",
    "start_time = time.time()\n",
    "scores = cross_val_score(dec_tree, features, target, cv=10)\n",
    "end_time = time.time()\n",
    "print(\"\\n--- {:.5f} seconds ---\".format(end_time - start_time))\n",
    "\n",
    "print()\n",
    "print(scores)\n",
    "print(\"\\nCV accuracy: {:.3f} +\\- {:.3f}\".format(np.mean(scores), np.std(scores)))"
   ]
  },
  {
   "cell_type": "code",
   "execution_count": 56,
   "metadata": {},
   "outputs": [],
   "source": [
    "#decision_tree = DecisionTreeClassifier(criterion=\"entropy\", max_features=1, max_depth=4)\n",
    "#decision_tree.fit(features, target)\n",
    "\n",
    "#start_time = time.time()\n",
    "#print(cross_val_score(decision_tree, features, target, cv=10))\n",
    "#end_time = time.time()\n",
    "#print(\"\\n--- {:.5f} seconds ---\".format(end_time - start_time))"
   ]
  },
  {
   "cell_type": "markdown",
   "metadata": {},
   "source": [
    "This looks overfit and model often failed to improve on the null accuracy rate of 0.611651."
   ]
  },
  {
   "cell_type": "markdown",
   "metadata": {},
   "source": [
    "## Random Forest"
   ]
  },
  {
   "cell_type": "code",
   "execution_count": 58,
   "metadata": {},
   "outputs": [],
   "source": [
    "#rfc = ensemble.RandomForestClassifier()\n",
    "#start_time = time.time()\n",
    "#print(cross_val_score(rfc, features, target, cv=10))\n",
    "#end_time = time.time()\n",
    "#print(\"\\n--- {:.5f} seconds ---\".format(end_time - start_time))"
   ]
  },
  {
   "cell_type": "markdown",
   "metadata": {},
   "source": [
    "Still overfit, but maybe less so than the Decision Tree model. Again, however, the model is worse than the null accuracy rate."
   ]
  },
  {
   "cell_type": "code",
   "execution_count": null,
   "metadata": {},
   "outputs": [],
   "source": []
  }
 ],
 "metadata": {
  "kernelspec": {
   "display_name": "Python 3",
   "language": "python",
   "name": "python3"
  },
  "language_info": {
   "codemirror_mode": {
    "name": "ipython",
    "version": 3
   },
   "file_extension": ".py",
   "mimetype": "text/x-python",
   "name": "python",
   "nbconvert_exporter": "python",
   "pygments_lexer": "ipython3",
   "version": "3.6.5"
  }
 },
 "nbformat": 4,
 "nbformat_minor": 2
}
