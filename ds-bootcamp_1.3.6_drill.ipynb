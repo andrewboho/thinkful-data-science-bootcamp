{
 "cells": [
  {
   "cell_type": "code",
   "execution_count": 1,
   "metadata": {},
   "outputs": [],
   "source": [
    "import numpy as np\n",
    "import pandas as pd\n",
    "import matplotlib.pyplot as plt\n",
    "%matplotlib inline"
   ]
  },
  {
   "cell_type": "code",
   "execution_count": 20,
   "metadata": {
    "scrolled": true
   },
   "outputs": [
    {
     "data": {
      "text/html": [
       "<div>\n",
       "<style scoped>\n",
       "    .dataframe tbody tr th:only-of-type {\n",
       "        vertical-align: middle;\n",
       "    }\n",
       "\n",
       "    .dataframe tbody tr th {\n",
       "        vertical-align: top;\n",
       "    }\n",
       "\n",
       "    .dataframe thead th {\n",
       "        text-align: right;\n",
       "    }\n",
       "</style>\n",
       "<table border=\"1\" class=\"dataframe\">\n",
       "  <thead>\n",
       "    <tr style=\"text-align: right;\">\n",
       "      <th></th>\n",
       "      <th>PMID/PMCID</th>\n",
       "      <th>Publisher</th>\n",
       "      <th>Journal title</th>\n",
       "      <th>Article title</th>\n",
       "      <th>COST (£) charged to Wellcome (inc VAT when charged)</th>\n",
       "    </tr>\n",
       "  </thead>\n",
       "  <tbody>\n",
       "    <tr>\n",
       "      <th>0</th>\n",
       "      <td>NaN</td>\n",
       "      <td>CUP</td>\n",
       "      <td>Psychological Medicine</td>\n",
       "      <td>Reduced parahippocampal cortical thickness in ...</td>\n",
       "      <td>£0.00</td>\n",
       "    </tr>\n",
       "    <tr>\n",
       "      <th>1</th>\n",
       "      <td>PMC3679557</td>\n",
       "      <td>ACS</td>\n",
       "      <td>Biomacromolecules</td>\n",
       "      <td>Structural characterization of a Model Gram-ne...</td>\n",
       "      <td>£2381.04</td>\n",
       "    </tr>\n",
       "    <tr>\n",
       "      <th>2</th>\n",
       "      <td>23043264  PMC3506128</td>\n",
       "      <td>ACS</td>\n",
       "      <td>J Med Chem</td>\n",
       "      <td>Fumaroylamino-4,5-epoxymorphinans and related ...</td>\n",
       "      <td>£642.56</td>\n",
       "    </tr>\n",
       "    <tr>\n",
       "      <th>3</th>\n",
       "      <td>23438330 PMC3646402</td>\n",
       "      <td>ACS</td>\n",
       "      <td>J Med Chem</td>\n",
       "      <td>Orvinols with mixed kappa/mu opioid receptor a...</td>\n",
       "      <td>£669.64</td>\n",
       "    </tr>\n",
       "    <tr>\n",
       "      <th>4</th>\n",
       "      <td>23438216 PMC3601604</td>\n",
       "      <td>ACS</td>\n",
       "      <td>J Org Chem</td>\n",
       "      <td>Regioselective opening of myo-inositol orthoes...</td>\n",
       "      <td>£685.88</td>\n",
       "    </tr>\n",
       "  </tbody>\n",
       "</table>\n",
       "</div>"
      ],
      "text/plain": [
       "              PMID/PMCID Publisher           Journal title  \\\n",
       "0                    NaN       CUP  Psychological Medicine   \n",
       "1             PMC3679557       ACS       Biomacromolecules   \n",
       "2  23043264  PMC3506128        ACS              J Med Chem   \n",
       "3    23438330 PMC3646402       ACS              J Med Chem   \n",
       "4   23438216 PMC3601604        ACS              J Org Chem   \n",
       "\n",
       "                                       Article title  \\\n",
       "0  Reduced parahippocampal cortical thickness in ...   \n",
       "1  Structural characterization of a Model Gram-ne...   \n",
       "2  Fumaroylamino-4,5-epoxymorphinans and related ...   \n",
       "3  Orvinols with mixed kappa/mu opioid receptor a...   \n",
       "4  Regioselective opening of myo-inositol orthoes...   \n",
       "\n",
       "  COST (£) charged to Wellcome (inc VAT when charged)  \n",
       "0                                              £0.00   \n",
       "1                                           £2381.04   \n",
       "2                                            £642.56   \n",
       "3                                            £669.64   \n",
       "4                                            £685.88   "
      ]
     },
     "execution_count": 20,
     "metadata": {},
     "output_type": "execute_result"
    }
   ],
   "source": [
    "df = pd.read_csv(\"WELLCOME_APCspend2013_forThinkful.csv\", encoding=\"latin\")\n",
    "df.head()"
   ]
  },
  {
   "cell_type": "code",
   "execution_count": 21,
   "metadata": {},
   "outputs": [
    {
     "name": "stdout",
     "output_type": "stream",
     "text": [
      "<class 'pandas.core.frame.DataFrame'>\n",
      "RangeIndex: 2127 entries, 0 to 2126\n",
      "Data columns (total 5 columns):\n",
      "PMID/PMCID                                             1928 non-null object\n",
      "Publisher                                              2127 non-null object\n",
      "Journal title                                          2126 non-null object\n",
      "Article title                                          2127 non-null object\n",
      "COST (£) charged to Wellcome (inc VAT when charged)    2127 non-null object\n",
      "dtypes: object(5)\n",
      "memory usage: 83.2+ KB\n"
     ]
    }
   ],
   "source": [
    "df.info()"
   ]
  },
  {
   "cell_type": "code",
   "execution_count": 22,
   "metadata": {},
   "outputs": [
    {
     "data": {
      "text/plain": [
       "PLoS One                                                               92\n",
       "PLoS ONE                                                               62\n",
       "Journal of Biological Chemistry                                        48\n",
       "Nucleic Acids Research                                                 21\n",
       "Proceedings of the National Academy of Sciences                        19\n",
       "Human Molecular Genetics                                               18\n",
       "PLoS Neglected Tropical Diseases                                       18\n",
       "Nature Communications                                                  17\n",
       "PLoS Genetics                                                          15\n",
       "PLoS Pathogens                                                         15\n",
       "Neuroimage                                                             15\n",
       "PLOS ONE                                                               14\n",
       "BMC Public Health                                                      14\n",
       "NeuroImage                                                             14\n",
       "Brain                                                                  14\n",
       "Movement Disorders                                                     13\n",
       "Journal of Neuroscience                                                12\n",
       "Biochemical Journal                                                    12\n",
       "Developmental Cell                                                     12\n",
       "Journal of General Virology                                            11\n",
       "Current Biology                                                        10\n",
       "BMJ                                                                    10\n",
       "PLOS One                                                               10\n",
       "Neuron                                                                  9\n",
       "Cell Reports                                                            9\n",
       "Malaria Journal                                                         8\n",
       "Journal of Cell Science                                                 8\n",
       "Journal of Structural Biology                                           8\n",
       "Hepatology                                                              8\n",
       "Neurobiology of Aging                                                   8\n",
       "                                                                       ..\n",
       "Journal of Transport Geography                                          1\n",
       "Parasit Vectors.                                                        1\n",
       "British Journal of Ophthalmology                                        1\n",
       "Cerebral Cortex print                                                   1\n",
       "Psychological Review                                                    1\n",
       "Interface                                                               1\n",
       "Journal of Clinical Pathology                                           1\n",
       "Journal of the American Academy of Child and Adolescent Psychiatry      1\n",
       "Frontiers in Genetics                                                   1\n",
       "Journal of Bacteriology                                                 1\n",
       "RESPIRATORY RESEARCH                                                    1\n",
       "Free Radical and Biology Medicine                                       1\n",
       "Journal of Cultural Economy                                             1\n",
       "Medical Anthropology                                                    1\n",
       "Genetics                                                                1\n",
       "Biinformatics                                                           1\n",
       "The Journal of investigative dermatology                                1\n",
       "Journal of Biomedical Graphics and Computing                            1\n",
       "Proceedings of the National Academy of Sciences (PNAS)                  1\n",
       "International Journal of Biochemistry & Cell Biology                    1\n",
       "The Journal of Physiology                                               1\n",
       "Parkinsonism and Related Disorders                                      1\n",
       "Journal of Medical Virology                                             1\n",
       "Alcohol and Alcoholism                                                  1\n",
       "BMC Biology                                                             1\n",
       "Speech Language and Hearing Research                                    1\n",
       "Developmental Science                                                   1\n",
       "Health                                                                  1\n",
       "Current Opinion in Neurobiology                                         1\n",
       "Clinical Proteomics                                                     1\n",
       "Name: Journal title, Length: 984, dtype: int64"
      ]
     },
     "execution_count": 22,
     "metadata": {},
     "output_type": "execute_result"
    }
   ],
   "source": [
    "df[\"Journal title\"].value_counts()"
   ]
  },
  {
   "cell_type": "code",
   "execution_count": 23,
   "metadata": {},
   "outputs": [
    {
     "data": {
      "text/plain": [
       "985"
      ]
     },
     "execution_count": 23,
     "metadata": {},
     "output_type": "execute_result"
    }
   ],
   "source": [
    "len(df[\"Journal title\"].unique())"
   ]
  },
  {
   "cell_type": "code",
   "execution_count": 24,
   "metadata": {},
   "outputs": [
    {
     "data": {
      "text/plain": [
       "891"
      ]
     },
     "execution_count": 24,
     "metadata": {},
     "output_type": "execute_result"
    }
   ],
   "source": [
    "# Low hanging fruit: remove white space, convert to lower case, and remove special characters\n",
    "df[\"Journal title\"] = df[\"Journal title\"].str.strip()\n",
    "df[\"Journal title\"] = df[\"Journal title\"].str.lower()\n",
    "df[\"Journal title\"] = df[\"Journal title\"].str.replace(\"[!@#$%^&*()?/.,;:]+\", \"\")\n",
    "len(df[\"Journal title\"].unique())"
   ]
  },
  {
   "cell_type": "code",
   "execution_count": 40,
   "metadata": {
    "scrolled": false
   },
   "outputs": [
    {
     "data": {
      "text/plain": [
       "plos one                                                  190\n",
       "journal of biological chemistry                            53\n",
       "neuroimage                                                 29\n",
       "nucleic acids research                                     26\n",
       "plos pathogens                                             24\n",
       "plos genetics                                              24\n",
       "proceedings of the national academy of sciences            22\n",
       "plos neglected tropical diseases                           20\n",
       "nature communications                                      19\n",
       "human molecular genetics                                   19\n",
       "movement disorders                                         15\n",
       "brain                                                      14\n",
       "bmc public health                                          14\n",
       "journal of neuroscience                                    13\n",
       "biochemical journal                                        12\n",
       "developmental cell                                         12\n",
       "journal of general virology                                11\n",
       "current biology                                            11\n",
       "malaria journal                                            10\n",
       "bmj                                                        10\n",
       "journal of virology                                         9\n",
       "development                                                 9\n",
       "plos computational biology                                  9\n",
       "plosone                                                     9\n",
       "neuron                                                      9\n",
       "cell reports                                                9\n",
       "bmj open                                                    9\n",
       "journal of cell science                                     8\n",
       "proceedings of the royal society b biological sciences      8\n",
       "journal of clinical endocrinology and metabolism            8\n",
       "                                                         ... \n",
       "frontiers in electrophysiology                              1\n",
       "clinical and vaccine immunology                             1\n",
       "immunological reviews                                       1\n",
       "parkinsonism and related disorders                          1\n",
       "cell death differentiation                                  1\n",
       "microbes infect                                             1\n",
       "american chemical society                                   1\n",
       "frontiers in inflammation                                   1\n",
       "criminal behavior and mental health                         1\n",
       "methods in molecular biology                                1\n",
       "stem cell research                                          1\n",
       "neurobiology of learning and memory                         1\n",
       "neuroscience and behavioural reviews                        1\n",
       "population space and place                                  1\n",
       "virus research                                              1\n",
       "biologicial chemistry                                       1\n",
       "biology                                                     1\n",
       "academy of nutrition and dietetics                          1\n",
       "oxidative medicine  cellular longevity                      1\n",
       "journal of gerontology series a medical sciences            1\n",
       "bmj quality and safety                                      1\n",
       "math biosci                                                 1\n",
       "cancer letters                                              1\n",
       "neuroepidemiology                                           1\n",
       "the journal of cognitive neuroscience                       1\n",
       "childs nerv syst                                            1\n",
       "development cell                                            1\n",
       "cognitive therapy and research                              1\n",
       "human mutation variation informatics and disease            1\n",
       "int journal for parasitology                                1\n",
       "Name: Journal title, Length: 890, dtype: int64"
      ]
     },
     "execution_count": 40,
     "metadata": {},
     "output_type": "execute_result"
    }
   ],
   "source": [
    "df[\"Journal title\"].value_counts()"
   ]
  },
  {
   "cell_type": "code",
   "execution_count": 41,
   "metadata": {},
   "outputs": [
    {
     "data": {
      "text/plain": [
       "0       £0.00\n",
       "1    £2381.04\n",
       "2     £642.56\n",
       "3     £669.64\n",
       "4     £685.88\n",
       "Name: COST (£) charged to Wellcome (inc VAT when charged), dtype: object"
      ]
     },
     "execution_count": 41,
     "metadata": {},
     "output_type": "execute_result"
    }
   ],
   "source": [
    "df[\"COST (£) charged to Wellcome (inc VAT when charged)\"].head()"
   ]
  },
  {
   "cell_type": "code",
   "execution_count": 65,
   "metadata": {
    "scrolled": true
   },
   "outputs": [
    {
     "data": {
      "text/plain": [
       "0       0.00\n",
       "1    2381.04\n",
       "2     642.56\n",
       "3     669.64\n",
       "4     685.88\n",
       "Name: Cost, dtype: float64"
      ]
     },
     "execution_count": 65,
     "metadata": {},
     "output_type": "execute_result"
    }
   ],
   "source": [
    "# Remove any non-digit characters from COST data and convert to float\n",
    "df[\"Cost\"] = df[\"COST (£) charged to Wellcome (inc VAT when charged)\"].str.lower().str.replace(\"[$£]+\", \"\")\n",
    "df[\"Cost\"] = df[\"Cost\"].apply(lambda x: float(x))\n",
    "df[\"Cost\"] = df[df[\"Cost\"] < 10000][\"Cost\"]\n",
    "df[\"Cost\"].head()"
   ]
  },
  {
   "cell_type": "code",
   "execution_count": 66,
   "metadata": {},
   "outputs": [
    {
     "data": {
      "text/plain": [
       "count    2077.000000\n",
       "mean     1822.055908\n",
       "std       767.698554\n",
       "min         0.000000\n",
       "25%      1268.700000\n",
       "50%      1851.290000\n",
       "75%      2302.130000\n",
       "max      6000.000000\n",
       "Name: Cost, dtype: float64"
      ]
     },
     "execution_count": 66,
     "metadata": {},
     "output_type": "execute_result"
    }
   ],
   "source": [
    "df[\"Cost\"].describe()"
   ]
  },
  {
   "cell_type": "code",
   "execution_count": 67,
   "metadata": {},
   "outputs": [
    {
     "data": {
      "image/png": "[encoded data removed]",
      "text/plain": [
       "<Figure size 432x288 with 1 Axes>"
      ]
     },
     "metadata": {},
     "output_type": "display_data"
    }
   ],
   "source": [
    "plt.hist(df[\"Cost\"].dropna())\n",
    "plt.show()"
   ]
  },
  {
   "cell_type": "markdown",
   "metadata": {},
   "source": [
    "## Determine the five most common journals and the total articles for each"
   ]
  },
  {
   "cell_type": "code",
   "execution_count": 86,
   "metadata": {},
   "outputs": [
    {
     "data": {
      "text/plain": [
       "plos one                           190\n",
       "journal of biological chemistry     53\n",
       "neuroimage                          29\n",
       "nucleic acids research              26\n",
       "plos pathogens                      24\n",
       "Name: Journal title, dtype: int64"
      ]
     },
     "execution_count": 86,
     "metadata": {},
     "output_type": "execute_result"
    }
   ],
   "source": [
    "top_five = df[\"Journal title\"].value_counts().head(5)\n",
    "top_five"
   ]
  },
  {
   "cell_type": "markdown",
   "metadata": {},
   "source": [
    "## Calculate the mean, median, and standard deviation of the open-access cost per article for each journal "
   ]
  },
  {
   "cell_type": "code",
   "execution_count": 96,
   "metadata": {},
   "outputs": [
    {
     "data": {
      "text/html": [
       "<div>\n",
       "<style scoped>\n",
       "    .dataframe tbody tr th:only-of-type {\n",
       "        vertical-align: middle;\n",
       "    }\n",
       "\n",
       "    .dataframe tbody tr th {\n",
       "        vertical-align: top;\n",
       "    }\n",
       "\n",
       "    .dataframe thead th {\n",
       "        text-align: right;\n",
       "    }\n",
       "</style>\n",
       "<table border=\"1\" class=\"dataframe\">\n",
       "  <thead>\n",
       "    <tr style=\"text-align: right;\">\n",
       "      <th></th>\n",
       "      <th>Mean</th>\n",
       "      <th>Median</th>\n",
       "      <th>Std</th>\n",
       "    </tr>\n",
       "  </thead>\n",
       "  <tbody>\n",
       "    <tr>\n",
       "      <th>plos one</th>\n",
       "      <td>934.656</td>\n",
       "      <td>896.975</td>\n",
       "      <td>201.848</td>\n",
       "    </tr>\n",
       "    <tr>\n",
       "      <th>journal of biological chemistry</th>\n",
       "      <td>1423.59</td>\n",
       "      <td>1301.14</td>\n",
       "      <td>411.954</td>\n",
       "    </tr>\n",
       "    <tr>\n",
       "      <th>neuroimage</th>\n",
       "      <td>2215.17</td>\n",
       "      <td>2326.43</td>\n",
       "      <td>266.654</td>\n",
       "    </tr>\n",
       "    <tr>\n",
       "      <th>nucleic acids research</th>\n",
       "      <td>1149</td>\n",
       "      <td>852</td>\n",
       "      <td>442.94</td>\n",
       "    </tr>\n",
       "    <tr>\n",
       "      <th>plos pathogens</th>\n",
       "      <td>1572.87</td>\n",
       "      <td>1600.25</td>\n",
       "      <td>161.781</td>\n",
       "    </tr>\n",
       "  </tbody>\n",
       "</table>\n",
       "</div>"
      ],
      "text/plain": [
       "                                    Mean   Median      Std\n",
       "plos one                         934.656  896.975  201.848\n",
       "journal of biological chemistry  1423.59  1301.14  411.954\n",
       "neuroimage                       2215.17  2326.43  266.654\n",
       "nucleic acids research              1149      852   442.94\n",
       "plos pathogens                   1572.87  1600.25  161.781"
      ]
     },
     "execution_count": 96,
     "metadata": {},
     "output_type": "execute_result"
    }
   ],
   "source": [
    "summary_df = pd.DataFrame(index = top_five.index, columns=[\"Mean\", \"Median\", \"Std\"])\n",
    "for i in range(len(top_five.index)):\n",
    "    summary_df.loc[top_five.index[i]][\"Mean\"] = df[df[\"Journal title\"] == top_five.index[i]][\"Cost\"].mean()\n",
    "    summary_df.loc[top_five.index[i]][\"Median\"] = df[df[\"Journal title\"] == top_five.index[i]][\"Cost\"].median()\n",
    "    summary_df.loc[top_five.index[i]][\"Std\"] = df[df[\"Journal title\"] == top_five.index[i]][\"Cost\"].std()\n",
    "summary_df"
   ]
  },
  {
   "cell_type": "code",
   "execution_count": null,
   "metadata": {},
   "outputs": [],
   "source": []
  }
 ],
 "metadata": {
  "kernelspec": {
   "display_name": "Python 3",
   "language": "python",
   "name": "python3"
  },
  "language_info": {
   "codemirror_mode": {
    "name": "ipython",
    "version": 3
   },
   "file_extension": ".py",
   "mimetype": "text/x-python",
   "name": "python",
   "nbconvert_exporter": "python",
   "pygments_lexer": "ipython3",
   "version": "3.6.5"
  }
 },
 "nbformat": 4,
 "nbformat_minor": 2
}
