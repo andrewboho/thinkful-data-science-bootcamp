{
 "cells": [
  {
   "cell_type": "code",
   "execution_count": 53,
   "metadata": {},
   "outputs": [],
   "source": [
    "import numpy as np\n",
    "import pandas as pd\n",
    "import matplotlib.pyplot as plt\n",
    "%matplotlib inline"
   ]
  },
  {
   "cell_type": "code",
   "execution_count": 54,
   "metadata": {
    "scrolled": true
   },
   "outputs": [
    {
     "data": {
      "text/html": [
       "<div>\n",
       "<style scoped>\n",
       "    .dataframe tbody tr th:only-of-type {\n",
       "        vertical-align: middle;\n",
       "    }\n",
       "\n",
       "    .dataframe tbody tr th {\n",
       "        vertical-align: top;\n",
       "    }\n",
       "\n",
       "    .dataframe thead th {\n",
       "        text-align: right;\n",
       "    }\n",
       "</style>\n",
       "<table border=\"1\" class=\"dataframe\">\n",
       "  <thead>\n",
       "    <tr style=\"text-align: right;\">\n",
       "      <th></th>\n",
       "      <th>PMID/PMCID</th>\n",
       "      <th>Publisher</th>\n",
       "      <th>Journal title</th>\n",
       "      <th>Article title</th>\n",
       "      <th>COST (£) charged to Wellcome (inc VAT when charged)</th>\n",
       "    </tr>\n",
       "  </thead>\n",
       "  <tbody>\n",
       "    <tr>\n",
       "      <th>0</th>\n",
       "      <td>NaN</td>\n",
       "      <td>CUP</td>\n",
       "      <td>Psychological Medicine</td>\n",
       "      <td>Reduced parahippocampal cortical thickness in ...</td>\n",
       "      <td>£0.00</td>\n",
       "    </tr>\n",
       "    <tr>\n",
       "      <th>1</th>\n",
       "      <td>PMC3679557</td>\n",
       "      <td>ACS</td>\n",
       "      <td>Biomacromolecules</td>\n",
       "      <td>Structural characterization of a Model Gram-ne...</td>\n",
       "      <td>£2381.04</td>\n",
       "    </tr>\n",
       "    <tr>\n",
       "      <th>2</th>\n",
       "      <td>23043264  PMC3506128</td>\n",
       "      <td>ACS</td>\n",
       "      <td>J Med Chem</td>\n",
       "      <td>Fumaroylamino-4,5-epoxymorphinans and related ...</td>\n",
       "      <td>£642.56</td>\n",
       "    </tr>\n",
       "    <tr>\n",
       "      <th>3</th>\n",
       "      <td>23438330 PMC3646402</td>\n",
       "      <td>ACS</td>\n",
       "      <td>J Med Chem</td>\n",
       "      <td>Orvinols with mixed kappa/mu opioid receptor a...</td>\n",
       "      <td>£669.64</td>\n",
       "    </tr>\n",
       "    <tr>\n",
       "      <th>4</th>\n",
       "      <td>23438216 PMC3601604</td>\n",
       "      <td>ACS</td>\n",
       "      <td>J Org Chem</td>\n",
       "      <td>Regioselective opening of myo-inositol orthoes...</td>\n",
       "      <td>£685.88</td>\n",
       "    </tr>\n",
       "  </tbody>\n",
       "</table>\n",
       "</div>"
      ],
      "text/plain": [
       "              PMID/PMCID Publisher           Journal title  \\\n",
       "0                    NaN       CUP  Psychological Medicine   \n",
       "1             PMC3679557       ACS       Biomacromolecules   \n",
       "2  23043264  PMC3506128        ACS              J Med Chem   \n",
       "3    23438330 PMC3646402       ACS              J Med Chem   \n",
       "4   23438216 PMC3601604        ACS              J Org Chem   \n",
       "\n",
       "                                       Article title  \\\n",
       "0  Reduced parahippocampal cortical thickness in ...   \n",
       "1  Structural characterization of a Model Gram-ne...   \n",
       "2  Fumaroylamino-4,5-epoxymorphinans and related ...   \n",
       "3  Orvinols with mixed kappa/mu opioid receptor a...   \n",
       "4  Regioselective opening of myo-inositol orthoes...   \n",
       "\n",
       "  COST (£) charged to Wellcome (inc VAT when charged)  \n",
       "0                                              £0.00   \n",
       "1                                           £2381.04   \n",
       "2                                            £642.56   \n",
       "3                                            £669.64   \n",
       "4                                            £685.88   "
      ]
     },
     "execution_count": 54,
     "metadata": {},
     "output_type": "execute_result"
    }
   ],
   "source": [
    "df = pd.read_csv(\"WELLCOME_APCspend2013_forThinkful.csv\", encoding=\"latin\")\n",
    "df.head()"
   ]
  },
  {
   "cell_type": "code",
   "execution_count": 55,
   "metadata": {},
   "outputs": [
    {
     "name": "stdout",
     "output_type": "stream",
     "text": [
      "<class 'pandas.core.frame.DataFrame'>\n",
      "RangeIndex: 2127 entries, 0 to 2126\n",
      "Data columns (total 5 columns):\n",
      "PMID/PMCID                                             1928 non-null object\n",
      "Publisher                                              2127 non-null object\n",
      "Journal title                                          2126 non-null object\n",
      "Article title                                          2127 non-null object\n",
      "COST (£) charged to Wellcome (inc VAT when charged)    2127 non-null object\n",
      "dtypes: object(5)\n",
      "memory usage: 83.2+ KB\n"
     ]
    }
   ],
   "source": [
    "df.info()"
   ]
  },
  {
   "cell_type": "code",
   "execution_count": 56,
   "metadata": {},
   "outputs": [
    {
     "data": {
      "text/plain": [
       "PLoS One                                                      92\n",
       "PLoS ONE                                                      62\n",
       "Journal of Biological Chemistry                               48\n",
       "Nucleic Acids Research                                        21\n",
       "Proceedings of the National Academy of Sciences               19\n",
       "Human Molecular Genetics                                      18\n",
       "PLoS Neglected Tropical Diseases                              18\n",
       "Nature Communications                                         17\n",
       "Neuroimage                                                    15\n",
       "PLoS Pathogens                                                15\n",
       "PLoS Genetics                                                 15\n",
       "PLOS ONE                                                      14\n",
       "BMC Public Health                                             14\n",
       "NeuroImage                                                    14\n",
       "Brain                                                         14\n",
       "Movement Disorders                                            13\n",
       "Developmental Cell                                            12\n",
       "Biochemical Journal                                           12\n",
       "Journal of Neuroscience                                       12\n",
       "Journal of General Virology                                   11\n",
       "BMJ                                                           10\n",
       "Current Biology                                               10\n",
       "PLOS One                                                      10\n",
       "Cell Reports                                                   9\n",
       "Neuron                                                         9\n",
       "Molecular Microbiology                                         8\n",
       "Neurobiology of Aging                                          8\n",
       "Journal of Cell Science                                        8\n",
       "Journal of Virology                                            8\n",
       "European Journal of Immunology                                 8\n",
       "                                                              ..\n",
       "Molecular Genetics & Genomic Medicine                          1\n",
       "Biochemistry                                                   1\n",
       "Antimicobial Agents and Chemotherapy                           1\n",
       "Brt Jnl Clinical Pharmacology                                  1\n",
       "Bioconjugate Chemistry                                         1\n",
       "Centaurus                                                      1\n",
       "International Journal for Equity in Health                     1\n",
       "BMC Medical Imaging                                            1\n",
       "J Cardiovasc Magn Reson                                        1\n",
       "European Journal of Clinical Pharmacology                      1\n",
       "European Journal of Public Health                              1\n",
       "International journal of molecular sciences                    1\n",
       "Expert Reviews in Anti-infective Chemotherapy                  1\n",
       "Journal of Parasitology Research                               1\n",
       "BJP                                                            1\n",
       "Heart and Circulatory Physiology                               1\n",
       "GENE                                                           1\n",
       "Biosocieties                                                   1\n",
       "Journal of Cellular Biochemistry                               1\n",
       "Frontiers in Neurorobotics                                     1\n",
       "PONE-D12-17947                                                 1\n",
       "The EMBO journal                                               1\n",
       "Springer                                                       1\n",
       "Eur J Immunol                                                  1\n",
       "International Journal of Financial Research\\n                  1\n",
       "Molecular & Cellular Proteomics                                1\n",
       "Optics Express                                                 1\n",
       "Proceedings of the National Academy of Sciences of the USA     1\n",
       "Psychological Assessment                                       1\n",
       "Rapid Communications in Mass Spectrometry                      1\n",
       "Name: Journal title, Length: 984, dtype: int64"
      ]
     },
     "execution_count": 56,
     "metadata": {},
     "output_type": "execute_result"
    }
   ],
   "source": [
    "df[\"Journal title\"].value_counts()"
   ]
  },
  {
   "cell_type": "code",
   "execution_count": 57,
   "metadata": {},
   "outputs": [
    {
     "data": {
      "text/plain": [
       "985"
      ]
     },
     "execution_count": 57,
     "metadata": {},
     "output_type": "execute_result"
    }
   ],
   "source": [
    "len(df[\"Journal title\"].unique())"
   ]
  },
  {
   "cell_type": "code",
   "execution_count": 60,
   "metadata": {},
   "outputs": [
    {
     "data": {
      "text/plain": [
       "890"
      ]
     },
     "execution_count": 60,
     "metadata": {},
     "output_type": "execute_result"
    }
   ],
   "source": [
    "# Low hanging fruit: remove white space, convert to lower case, and remove special characters\n",
    "df[\"Journal title\"] = df[\"Journal title\"].str.strip()\n",
    "df[\"Journal title\"] = df[\"Journal title\"].str.lower()\n",
    "df[\"Journal title\"] = df[\"Journal title\"].str.replace(\"[!@#$%^&*()?/.,;:]+\", \"\")\n",
    "df[\"Journal title\"] = df[\"Journal title\"].str.replace(r\"\\bbmj open\\b\", \"bmj\") # Replace spcific instances...repeat\n",
    "len(df[\"Journal title\"].unique())"
   ]
  },
  {
   "cell_type": "code",
   "execution_count": 61,
   "metadata": {
    "scrolled": false
   },
   "outputs": [
    {
     "data": {
      "text/plain": [
       "plos one                                                              190\n",
       "journal of biological chemistry                                        53\n",
       "neuroimage                                                             29\n",
       "nucleic acids research                                                 26\n",
       "plos genetics                                                          24\n",
       "plos pathogens                                                         24\n",
       "proceedings of the national academy of sciences                        22\n",
       "plos neglected tropical diseases                                       20\n",
       "bmj                                                                    19\n",
       "nature communications                                                  19\n",
       "human molecular genetics                                               19\n",
       "movement disorders                                                     15\n",
       "brain                                                                  14\n",
       "bmc public health                                                      14\n",
       "journal of neuroscience                                                13\n",
       "biochemical journal                                                    12\n",
       "developmental cell                                                     12\n",
       "current biology                                                        11\n",
       "journal of general virology                                            11\n",
       "malaria journal                                                        10\n",
       "cell reports                                                            9\n",
       "plos computational biology                                              9\n",
       "journal of virology                                                     9\n",
       "plosone                                                                 9\n",
       "development                                                             9\n",
       "neuron                                                                  9\n",
       "european journal of immunology                                          8\n",
       "journal of clinical endocrinology and metabolism                        8\n",
       "journal of structural biology                                           8\n",
       "journal of physiology                                                   8\n",
       "                                                                     ... \n",
       "tropical animal health  production                                      1\n",
       "nature neuroscience                                                     1\n",
       "bms genomics                                                            1\n",
       "journal of the american academy of child and adolescent psychiatry      1\n",
       "evaluation in clinical practice                                         1\n",
       "bjp                                                                     1\n",
       "journal of aids                                                         1\n",
       "plos medicine journal                                                   1\n",
       "metabolomics                                                            1\n",
       "journal of historical geography                                         1\n",
       "developmental biology                                                   1\n",
       "dalton transactions                                                     1\n",
       "studies in history and philosophy of science part c                     1\n",
       "south asian history and culture                                         1\n",
       "methods in molecular biology                                            1\n",
       "molecular genetics  genomic medicine                                    1\n",
       "biomed central                                                          1\n",
       "j clin microbiol                                                        1\n",
       "experimental hematology                                                 1\n",
       "journal of small animal practice                                        1\n",
       "british journal for the history of science                              1\n",
       "veterinary record                                                       1\n",
       "journal of virol                                                        1\n",
       "clinicla infectious disease                                             1\n",
       "future neurology                                                        1\n",
       "reproductive sciences                                                   1\n",
       "fungal biology                                                          1\n",
       "heart and circulatory physiology                                        1\n",
       "nmr in biomedicine                                                      1\n",
       "bmc medical genetics                                                    1\n",
       "Name: Journal title, Length: 889, dtype: int64"
      ]
     },
     "execution_count": 61,
     "metadata": {},
     "output_type": "execute_result"
    }
   ],
   "source": [
    "df[\"Journal title\"].value_counts()"
   ]
  },
  {
   "cell_type": "code",
   "execution_count": 62,
   "metadata": {},
   "outputs": [
    {
     "data": {
      "text/plain": [
       "0       £0.00\n",
       "1    £2381.04\n",
       "2     £642.56\n",
       "3     £669.64\n",
       "4     £685.88\n",
       "Name: COST (£) charged to Wellcome (inc VAT when charged), dtype: object"
      ]
     },
     "execution_count": 62,
     "metadata": {},
     "output_type": "execute_result"
    }
   ],
   "source": [
    "df[\"COST (£) charged to Wellcome (inc VAT when charged)\"].head()"
   ]
  },
  {
   "cell_type": "code",
   "execution_count": 63,
   "metadata": {
    "scrolled": true
   },
   "outputs": [
    {
     "data": {
      "text/plain": [
       "0       0.00\n",
       "1    2381.04\n",
       "2     642.56\n",
       "3     669.64\n",
       "4     685.88\n",
       "Name: Cost, dtype: float64"
      ]
     },
     "execution_count": 63,
     "metadata": {},
     "output_type": "execute_result"
    }
   ],
   "source": [
    "# Remove any non-digit characters from COST data and convert to float\n",
    "df[\"Cost\"] = df[\"COST (£) charged to Wellcome (inc VAT when charged)\"].str.lower().str.replace(\"[$£]+\", \"\")\n",
    "df[\"Cost\"] = df[\"Cost\"].apply(lambda x: float(x))\n",
    "df[\"Cost\"] = df[df[\"Cost\"] < 10000][\"Cost\"]\n",
    "df[\"Cost\"].head()"
   ]
  },
  {
   "cell_type": "code",
   "execution_count": 64,
   "metadata": {},
   "outputs": [
    {
     "data": {
      "text/plain": [
       "count    2077.000000\n",
       "mean     1822.055908\n",
       "std       767.698554\n",
       "min         0.000000\n",
       "25%      1268.700000\n",
       "50%      1851.290000\n",
       "75%      2302.130000\n",
       "max      6000.000000\n",
       "Name: Cost, dtype: float64"
      ]
     },
     "execution_count": 64,
     "metadata": {},
     "output_type": "execute_result"
    }
   ],
   "source": [
    "df[\"Cost\"].describe()"
   ]
  },
  {
   "cell_type": "code",
   "execution_count": 65,
   "metadata": {},
   "outputs": [
    {
     "data": {
      "image/png": "[encoded data removed]",
      "text/plain": [
       "<Figure size 432x288 with 1 Axes>"
      ]
     },
     "metadata": {},
     "output_type": "display_data"
    }
   ],
   "source": [
    "plt.hist(df[\"Cost\"].dropna())\n",
    "plt.show()"
   ]
  },
  {
   "cell_type": "markdown",
   "metadata": {},
   "source": [
    "## Determine the five most common journals and the total articles for each"
   ]
  },
  {
   "cell_type": "code",
   "execution_count": 66,
   "metadata": {},
   "outputs": [
    {
     "data": {
      "text/plain": [
       "plos one                           190\n",
       "journal of biological chemistry     53\n",
       "neuroimage                          29\n",
       "nucleic acids research              26\n",
       "plos genetics                       24\n",
       "Name: Journal title, dtype: int64"
      ]
     },
     "execution_count": 66,
     "metadata": {},
     "output_type": "execute_result"
    }
   ],
   "source": [
    "top_five = df[\"Journal title\"].value_counts().head(5)\n",
    "top_five"
   ]
  },
  {
   "cell_type": "markdown",
   "metadata": {},
   "source": [
    "## Calculate the mean, median, and standard deviation of the open-access cost per article for each journal "
   ]
  },
  {
   "cell_type": "code",
   "execution_count": 67,
   "metadata": {},
   "outputs": [
    {
     "data": {
      "text/html": [
       "<div>\n",
       "<style scoped>\n",
       "    .dataframe tbody tr th:only-of-type {\n",
       "        vertical-align: middle;\n",
       "    }\n",
       "\n",
       "    .dataframe tbody tr th {\n",
       "        vertical-align: top;\n",
       "    }\n",
       "\n",
       "    .dataframe thead th {\n",
       "        text-align: right;\n",
       "    }\n",
       "</style>\n",
       "<table border=\"1\" class=\"dataframe\">\n",
       "  <thead>\n",
       "    <tr style=\"text-align: right;\">\n",
       "      <th></th>\n",
       "      <th>Mean</th>\n",
       "      <th>Median</th>\n",
       "      <th>Std</th>\n",
       "    </tr>\n",
       "  </thead>\n",
       "  <tbody>\n",
       "    <tr>\n",
       "      <th>plos one</th>\n",
       "      <td>934.656</td>\n",
       "      <td>896.975</td>\n",
       "      <td>201.848</td>\n",
       "    </tr>\n",
       "    <tr>\n",
       "      <th>journal of biological chemistry</th>\n",
       "      <td>1423.59</td>\n",
       "      <td>1301.14</td>\n",
       "      <td>411.954</td>\n",
       "    </tr>\n",
       "    <tr>\n",
       "      <th>neuroimage</th>\n",
       "      <td>2215.17</td>\n",
       "      <td>2326.43</td>\n",
       "      <td>266.654</td>\n",
       "    </tr>\n",
       "    <tr>\n",
       "      <th>nucleic acids research</th>\n",
       "      <td>1149</td>\n",
       "      <td>852</td>\n",
       "      <td>442.94</td>\n",
       "    </tr>\n",
       "    <tr>\n",
       "      <th>plos genetics</th>\n",
       "      <td>1643.11</td>\n",
       "      <td>1712.73</td>\n",
       "      <td>153.367</td>\n",
       "    </tr>\n",
       "  </tbody>\n",
       "</table>\n",
       "</div>"
      ],
      "text/plain": [
       "                                    Mean   Median      Std\n",
       "plos one                         934.656  896.975  201.848\n",
       "journal of biological chemistry  1423.59  1301.14  411.954\n",
       "neuroimage                       2215.17  2326.43  266.654\n",
       "nucleic acids research              1149      852   442.94\n",
       "plos genetics                    1643.11  1712.73  153.367"
      ]
     },
     "execution_count": 67,
     "metadata": {},
     "output_type": "execute_result"
    }
   ],
   "source": [
    "summary_df = pd.DataFrame(index = top_five.index, columns=[\"Mean\", \"Median\", \"Std\"])\n",
    "for i in range(len(top_five.index)):\n",
    "    summary_df.loc[top_five.index[i]][\"Mean\"] = df[df[\"Journal title\"] == top_five.index[i]][\"Cost\"].mean()\n",
    "    summary_df.loc[top_five.index[i]][\"Median\"] = df[df[\"Journal title\"] == top_five.index[i]][\"Cost\"].median()\n",
    "    summary_df.loc[top_five.index[i]][\"Std\"] = df[df[\"Journal title\"] == top_five.index[i]][\"Cost\"].std()\n",
    "summary_df"
   ]
  },
  {
   "cell_type": "markdown",
   "metadata": {},
   "source": [
    "## Subject Area"
   ]
  },
  {
   "cell_type": "code",
   "execution_count": 68,
   "metadata": {},
   "outputs": [
    {
     "data": {
      "text/plain": [
       "0    psychology\n",
       "1       biology\n",
       "2     chemistry\n",
       "3     chemistry\n",
       "4     chemistry\n",
       "Name: subject, dtype: object"
      ]
     },
     "execution_count": 68,
     "metadata": {},
     "output_type": "execute_result"
    }
   ],
   "source": [
    "def subject_picker(title):\n",
    "    title = str(title)\n",
    "    if \"psyc\" in title:\n",
    "        return \"psychology\"\n",
    "    elif \"bio\" in title:\n",
    "        return \"biology\"\n",
    "    elif \"chem\" in title:\n",
    "        return \"chemistry\"\n",
    "    elif \"neuro\" in title:\n",
    "        return \"neuroscience\"\n",
    "    elif \"viro\" in title:\n",
    "        return\"virology\"\n",
    "    elif \"phys\" in title:\n",
    "        return \"physiology\"\n",
    "    else:\n",
    "        return \"other\"\n",
    "    \n",
    "df[\"subject\"] = df[\"Journal title\"].apply(lambda x: subject_picker(x))\n",
    "df[\"subject\"].head()"
   ]
  },
  {
   "cell_type": "code",
   "execution_count": 69,
   "metadata": {},
   "outputs": [
    {
     "data": {
      "text/html": [
       "<div>\n",
       "<style scoped>\n",
       "    .dataframe tbody tr th:only-of-type {\n",
       "        vertical-align: middle;\n",
       "    }\n",
       "\n",
       "    .dataframe tbody tr th {\n",
       "        vertical-align: top;\n",
       "    }\n",
       "\n",
       "    .dataframe thead th {\n",
       "        text-align: right;\n",
       "    }\n",
       "</style>\n",
       "<table border=\"1\" class=\"dataframe\">\n",
       "  <thead>\n",
       "    <tr style=\"text-align: right;\">\n",
       "      <th></th>\n",
       "      <th>PMID/PMCID</th>\n",
       "      <th>Publisher</th>\n",
       "      <th>Journal title</th>\n",
       "      <th>Article title</th>\n",
       "      <th>COST (£) charged to Wellcome (inc VAT when charged)</th>\n",
       "      <th>Cost</th>\n",
       "      <th>subject</th>\n",
       "    </tr>\n",
       "  </thead>\n",
       "  <tbody>\n",
       "    <tr>\n",
       "      <th>0</th>\n",
       "      <td>NaN</td>\n",
       "      <td>CUP</td>\n",
       "      <td>psychological medicine</td>\n",
       "      <td>Reduced parahippocampal cortical thickness in ...</td>\n",
       "      <td>£0.00</td>\n",
       "      <td>0.00</td>\n",
       "      <td>psychology</td>\n",
       "    </tr>\n",
       "    <tr>\n",
       "      <th>1</th>\n",
       "      <td>PMC3679557</td>\n",
       "      <td>ACS</td>\n",
       "      <td>biomacromolecules</td>\n",
       "      <td>Structural characterization of a Model Gram-ne...</td>\n",
       "      <td>£2381.04</td>\n",
       "      <td>2381.04</td>\n",
       "      <td>biology</td>\n",
       "    </tr>\n",
       "    <tr>\n",
       "      <th>2</th>\n",
       "      <td>23043264  PMC3506128</td>\n",
       "      <td>ACS</td>\n",
       "      <td>j med chem</td>\n",
       "      <td>Fumaroylamino-4,5-epoxymorphinans and related ...</td>\n",
       "      <td>£642.56</td>\n",
       "      <td>642.56</td>\n",
       "      <td>chemistry</td>\n",
       "    </tr>\n",
       "    <tr>\n",
       "      <th>3</th>\n",
       "      <td>23438330 PMC3646402</td>\n",
       "      <td>ACS</td>\n",
       "      <td>j med chem</td>\n",
       "      <td>Orvinols with mixed kappa/mu opioid receptor a...</td>\n",
       "      <td>£669.64</td>\n",
       "      <td>669.64</td>\n",
       "      <td>chemistry</td>\n",
       "    </tr>\n",
       "    <tr>\n",
       "      <th>4</th>\n",
       "      <td>23438216 PMC3601604</td>\n",
       "      <td>ACS</td>\n",
       "      <td>j org chem</td>\n",
       "      <td>Regioselective opening of myo-inositol orthoes...</td>\n",
       "      <td>£685.88</td>\n",
       "      <td>685.88</td>\n",
       "      <td>chemistry</td>\n",
       "    </tr>\n",
       "  </tbody>\n",
       "</table>\n",
       "</div>"
      ],
      "text/plain": [
       "              PMID/PMCID Publisher           Journal title  \\\n",
       "0                    NaN       CUP  psychological medicine   \n",
       "1             PMC3679557       ACS       biomacromolecules   \n",
       "2  23043264  PMC3506128        ACS              j med chem   \n",
       "3    23438330 PMC3646402       ACS              j med chem   \n",
       "4   23438216 PMC3601604        ACS              j org chem   \n",
       "\n",
       "                                       Article title  \\\n",
       "0  Reduced parahippocampal cortical thickness in ...   \n",
       "1  Structural characterization of a Model Gram-ne...   \n",
       "2  Fumaroylamino-4,5-epoxymorphinans and related ...   \n",
       "3  Orvinols with mixed kappa/mu opioid receptor a...   \n",
       "4  Regioselective opening of myo-inositol orthoes...   \n",
       "\n",
       "  COST (£) charged to Wellcome (inc VAT when charged)     Cost     subject  \n",
       "0                                              £0.00      0.00  psychology  \n",
       "1                                           £2381.04   2381.04     biology  \n",
       "2                                            £642.56    642.56   chemistry  \n",
       "3                                            £669.64    669.64   chemistry  \n",
       "4                                            £685.88    685.88   chemistry  "
      ]
     },
     "execution_count": 69,
     "metadata": {},
     "output_type": "execute_result"
    }
   ],
   "source": [
    "df.head()"
   ]
  },
  {
   "cell_type": "code",
   "execution_count": 70,
   "metadata": {},
   "outputs": [],
   "source": [
    "subject_mean = df[[\"subject\", \"Cost\"]].groupby(\"subject\").mean()\n",
    "subject_median = df[[\"subject\", \"Cost\"]].groupby(\"subject\").median()\n",
    "subject_std = df[[\"subject\", \"Cost\"]].groupby(\"subject\").std()"
   ]
  },
  {
   "cell_type": "code",
   "execution_count": 71,
   "metadata": {},
   "outputs": [
    {
     "name": "stdout",
     "output_type": "stream",
     "text": [
      "Mean by Subject\n",
      "                     Cost\n",
      "subject                  \n",
      "biology       1785.672446\n",
      "chemistry     1722.507593\n",
      "neuroscience  2011.560000\n",
      "other         1791.891555\n",
      "physiology    1721.244444\n",
      "psychology    2236.749759\n",
      "virology      1806.860000\n",
      "\n",
      "Median by Subject\n",
      "                  Cost\n",
      "subject               \n",
      "biology       1800.000\n",
      "chemistry     1814.795\n",
      "neuroscience  2040.000\n",
      "other         1823.760\n",
      "physiology    1882.840\n",
      "psychology    2285.920\n",
      "virology      1850.000\n",
      "\n",
      "Std by Subject\n",
      "                    Cost\n",
      "subject                 \n",
      "biology       661.939254\n",
      "chemistry     709.489532\n",
      "neuroscience  850.985071\n",
      "other         792.454998\n",
      "physiology    548.979278\n",
      "psychology    569.790562\n",
      "virology      388.748152\n"
     ]
    }
   ],
   "source": [
    "print(\"Mean by Subject\")\n",
    "print(subject_mean)\n",
    "\n",
    "print(\"\\nMedian by Subject\")\n",
    "print(subject_median)\n",
    "\n",
    "print(\"\\nStd by Subject\")\n",
    "print(subject_std)"
   ]
  },
  {
   "cell_type": "code",
   "execution_count": null,
   "metadata": {},
   "outputs": [],
   "source": []
  }
 ],
 "metadata": {
  "kernelspec": {
   "display_name": "Python 3",
   "language": "python",
   "name": "python3"
  },
  "language_info": {
   "codemirror_mode": {
    "name": "ipython",
    "version": 3
   },
   "file_extension": ".py",
   "mimetype": "text/x-python",
   "name": "python",
   "nbconvert_exporter": "python",
   "pygments_lexer": "ipython3",
   "version": "3.6.4"
  }
 },
 "nbformat": 4,
 "nbformat_minor": 2
}
